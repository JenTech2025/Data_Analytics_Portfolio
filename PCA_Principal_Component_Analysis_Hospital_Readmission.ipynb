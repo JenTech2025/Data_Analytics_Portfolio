{
 "cells": [
  {
   "cell_type": "markdown",
   "metadata": {},
   "source": [
    "# Principal Component Analysis (PCA)"
   ]
  },
  {
   "cell_type": "markdown",
   "metadata": {},
   "source": [
    "## Part I: Research Question"
   ]
  },
  {
   "cell_type": "markdown",
   "metadata": {},
   "source": [
    "### A. Question or Decision"
   ]
  },
  {
   "cell_type": "markdown",
   "metadata": {},
   "source": [
    "Identify which patient variables predict hospital readmission so that a targeted care approach can be developed to reduce costly readmissions."
   ]
  },
  {
   "cell_type": "markdown",
   "metadata": {},
   "source": [
    "### B. Data Variables"
   ]
  },
  {
   "cell_type": "markdown",
   "metadata": {},
   "source": [
    "The dataset is comprised of selected features of 10,000 adult patients from the hospital chain.\n",
    "\n",
    "Brief description of the 53 variables and their respective data types:"
   ]
  },
  {
   "cell_type": "markdown",
   "metadata": {},
   "source": [
    "|Column Number | Variable | Variable Type | Data Type | Description|Example|\n",
    "|--------------|----------|-----------|-----------|------------|--------|\n",
    "|0|Unnamed:0|Quantitative|int64|Row number of raw data|1|\n",
    "|1|CaseOrder|Quantitative|int64|Placeholder meant to preserve original raw data order|1|\n",
    "|2|Customer_id|Qualitative|object|Patient ID Number|C412403|\n",
    "|3|Interaction|Qualitative|object|Unique ID numbers of transactions, procedures and admissions of patient|8cd49b13-f45a-4b47-a2bd-173ffa932c2f|\n",
    "|4|UID|Qualitative|object|Unique ID numbers of transactions, procedures and admissions of patient|3a83ddb66e2ae73798bdf1d705dc0932|\n",
    "|5|City|Qualitative|object|Patient's City|Souix Falls|\n",
    "|6|State|Qualitative|object|Patient's State|SD\n",
    "|7|County|Qualitative|object|Patient's County|Minnehaha|\n",
    "|8|Zip|Qualitative|int64|Patnt's Zip Code|57110|\n",
    "|9|Lat|Quantitative|float64|Patient's Latitude coordinate|43.54321|\n",
    "|10|Lng|Quantitative|float64|Patient's Longitude coordinate|-96.6377|\n",
    "|11|Population|Quantitative|int64|Population within a 1 mile radius of the patient|17125|\n",
    "|12|Area|Qualitative|object|Categorical, Area classification of patient (rural, urban, suburban)|Suburban|\n",
    "|13|Timezone|Qualitative|object|Categorical, Patient's timezone|America/Chicago|\n",
    "|14|Job|Qualitative|object|Patient's job title|Hydrologist|\n",
    "|15|Children|Quantitative|float64|Number of children the patient has|0|\n",
    "|16|Age|Quantitative|float64|Patient's age|53|\n",
    "|17|Education|Qualitative|object|Categorical, Highest degree the patient has earned ('Some College, Less than 1 Year','Some College, 1 or More Years, No Degree', GED or Alternative Credential, Regular High School Diploma, Bachelor's Degree, Master's Degree, Nursery School to 8th Grade, '9th Grade to 12th Grade, No Diploma', Doctorate Degree, Associate's Degree, Professional School Degree, No Schooling Completed)|Some College|\n",
    "|18|Employment|Qualitative|object|Categorical, Patient's employment status (Full Time, Retired, Unemployed, Student, Part Time)|Full Time|\n",
    "|19|Income|Quantitative|float64|Patient's annual income reported on admission|41558.19|\n",
    "|20|Marital|Qualitative|object|Categorical, Patient's marital status reported on admission (Divorced, Married, Widowed, Never Married, Separated)|Married|\n",
    "|21|Gender|Qualitative|object|Categorical, Patient's gender (Male, Female, Prefer not to answer)|Female|\n",
    "|22|ReAdmis|Qualitative|object|Categorical, Whether or not the patient was readmitted within 1 month of release (yes, no)|No|\n",
    "|23|VitD_levels|Quantitative|float64|Patient's Vitamin D level|17.80233|\n",
    "|24|Doc_visits|Quantitative|int64|Number of visits from the patient's primary care physician during the initial hospitalization|6|\n",
    "|25|Full_meals_eaten|Quantitative|int64|Number of full meals eaten by the patient during hospitalization|2|\n",
    "|26|VitD_supp|Quantitative|int64|Number of times Vitamin D supplements were administered|0|\n",
    "|27|Soft_drink|Qualitative|object|Categorical, If patient is a habitual soda drinker (three or more sodas in a day) (yes, no)|Yes|\n",
    "|28|Initial_admin|Qualitative|object|Categorical, Means of initial hospital admission (Emergency Admission, Elective Admission, Observation Admission)|Emergency Admission|\n",
    "|29|HighBlood|Qualitative|object|Categorical, Patient has high blood pressure (yes, no)|No|\n",
    "|30|Stroke|Qualitative|object|Categorical, Patient has had a stroke (yes, no)|No|\n",
    "|31|Complication_risk|Qualitative|object|Categorical, Level of complication risk as assessed during primary patient assessment (high, medium, low)|High|\n",
    "|32|Overweight|Quantitative|float64|Patient is overweight based on age, gender and height (0, 1.0)|0|\n",
    "|33|Arthritis|Qualitative|object|Categorical, Patient has arthritis (yes, no)|Yes|\n",
    "|34|Diabetes|Qualitative|object|Categorical, Patient is a diabetic (yes, no)|Yes|\n",
    "|35|Hyperlipidemia|Qualitative|object|Categorical, Patient has hyperlipidemia (yes, no)|Yes|\n",
    "|36|BackPain|Qualitative|object|Categorical, Patient has back pain (yes, no)|No|\n",
    "|37|Anxiety|Quantitative|float64|Patient has anxiety (0, 1.0)|0|\n",
    "|38|Allergic_rhinitis|Qualitative|object|Categorical, Patient has allergic rhinitis (yes, no)|No|\n",
    "|39|Reflux_esophagitis|Qualitative|object|Categorical, Patient has reflux esophagitis (yes, no)|No|\n",
    "|40|Asthma|Qualitative|object|Categorical, Patient has asthma (yes, no)|No|\n",
    "|41|Services|Qualitative|object|Categorical, Primary service the patient received (blood work, intravenous, CT scan, MRI)|MRI|\n",
    "|42|Initial_days|Quantitative|float64|Number of days in the hospital during the initial visit|10.58577|\n",
    "|43|TotalCharge|Quantitative|float64|Amount charged to the patient daily; reflects typical charges billed to patients, no including specialized treatments|3533.292|\n",
    "|44|Additional_charges|Quantitative|float64|Average amount charged to the patient for miscellaneous procedures, treatments, medicines, anesthesiology, etc.|17613|\n",
    "|45|Item1|Quantitative|int64|Patient's response to survey regarding patient's importance of 'Timely admission' (1=most important, 8=least important)|3|\n",
    "|46|Item2|Quantitative|int64|Patient's response to survey regarding patient's importance of 'Timely treatment' (1=most important, 8=least important)|2|\n",
    "|47|Item3|Quantitative|int64|Patient's response to survey regarding patient's importance of 'Timely visits' (1=most important, 8=least important)|2|\n",
    "|48|Item4|Quantitative|int64|Patient's response to survey regarding patient's importance of 'Reliability' (1=most important, 8=least important)|4|\n",
    "|49|Item5|Quantitative|int64|Patient's response to survey regarding patient's importance of 'Options' (1=most important, 8=least important)|4|\n",
    "|50|Item6|Quantitative|int64|Patient's response to survey regarding patient's importance of 'Hours of treatment' (1=most important, 8=least important)|3|\n",
    "|51|Item7|Quantitative|int64|Patient's response to survey regarding patient's importance of 'Courteous Staff' (1=most important, 8=least important)|3|\n",
    "|52|Item8|Quantitative|int64|Patient's response to survey regarding patient's importance of 'Evidence of Active listening from doctor' (1=most important, 8=least important)|4|"
   ]
  },
  {
   "cell_type": "markdown",
   "metadata": {},
   "source": [
    "## Part II: Data-Cleaning Plan"
   ]
  },
  {
   "cell_type": "markdown",
   "metadata": {},
   "source": [
    "### C1. Plan to Identify Anomalies"
   ]
  },
  {
   "cell_type": "markdown",
   "metadata": {},
   "source": [
    "1. After importing the necessary packages and libraries, the raw dataset will be imported.\n",
    "2. The .info function will be used to view the column names.\n",
    "3. The dataset will be searched for duplicates.\n",
    "4. The total missing values in each column will be calculated using the isnull().sum() function.\n",
    "5. Histograms will be created of the continuous variables with missing values to view the distributions.\n",
    "6. Imputation will be performed to replace the missing values with the appropriate mean, median or mode using the .fillna function.\n",
    "7. Verification of the imputations being inserted, will be assessed once more using the isnull().sum() function.\n",
    "8. After imputation is performed, the distributions will be re-examined with histograms.\n",
    "9. To detect outliers, boxplots will be utilized.\n",
    "10. To treat outliers, additional analysis will be conducted to determine if the outliers should be removed, retained, excluded or replaced. \n",
    "11. Lastly, principal component analysis will be performed for data reduction and to determine which components are most important for explaining covariation."
   ]
  },
  {
   "cell_type": "markdown",
   "metadata": {},
   "source": [
    "### C2. Justification of Approach"
   ]
  },
  {
   "cell_type": "markdown",
   "metadata": {},
   "source": [
    "Missing values can halt the data analysis process. Imputation, or replacement of the missing values with a plausible value, can be completed in a variety of methods and complexities (Burger, 2019). The missing values within the dataset will be analyzed to determine the nature and randomness of the missing data.\n",
    "Outliers can be a source of bias (Burger, 2019). Outliers should not be automatically removed, and are most often treated by fixing errors or removing the outlier (Larose & Larose, 2019). Although, there are instances where the outliers should remain in the data. If after inspecting the outlier, the values are correct, it should probably remain (Larose & Larose, 2019). \n",
    "Identifying missing values, missing value imputation, outlier detection, and correction of invalid or duplicate data is a critical step in data preparation (Burger, 2019)."
   ]
  },
  {
   "cell_type": "markdown",
   "metadata": {},
   "source": [
    "### C3. Justificiation of Programming Language, Libraries and Packages"
   ]
  },
  {
   "cell_type": "markdown",
   "metadata": {},
   "source": [
    "Python will be used for its readability and the availability of packages and libraries for use in data analysis (Larose & Larose, 2019). The libraries and packages chosen include pandas, SciPy, Scikit-Learn, Matplotlib, numpy, and seaborn. Pandas will be used to import data (Vallisneri, 2018). Utilizing the SciPy package to assist in calculating Z-scores is very helpful (Larose & Larose, 2019). Matplotlib's plot function is good at creating plots to visualize the data (Larose & Larose, 2019)."
   ]
  },
  {
   "cell_type": "markdown",
   "metadata": {},
   "source": [
    "### C4. Code Utilized to Identify Missing Data, Outliers and other Anomalies"
   ]
  },
  {
   "cell_type": "markdown",
   "metadata": {},
   "source": [
    "**Importing packages and libraries**"
   ]
  },
  {
   "cell_type": "code",
   "execution_count": 1,
   "metadata": {},
   "outputs": [
    {
     "name": "stdout",
     "output_type": "stream",
     "text": [
      "Done.\n"
     ]
    }
   ],
   "source": [
    "import numpy as np\n",
    "import pandas as pd\n",
    "import matplotlib\n",
    "import matplotlib.pyplot as plt\n",
    "import scipy.stats as stats\n",
    "from sklearn.decomposition import PCA\n",
    "import seaborn as sns\n",
    "\n",
    "%matplotlib inline\n",
    "print(\"Done.\")"
   ]
  },
  {
   "cell_type": "markdown",
   "metadata": {},
   "source": [
    "**Importing raw dataset** (Vallisneri, 2018)"
   ]
  },
  {
   "cell_type": "code",
   "execution_count": 2,
   "metadata": {},
   "outputs": [
    {
     "name": "stdout",
     "output_type": "stream",
     "text": [
      "Imported.\n"
     ]
    }
   ],
   "source": [
    "medical_raw_data=pd.read_csv('Desktop/WGU/D206_Data_Cleaning/medical_raw_data.csv')\n",
    "print(\"Imported.\")"
   ]
  },
  {
   "cell_type": "markdown",
   "metadata": {},
   "source": [
    "**Increasing the display size of the jupyter notebook**"
   ]
  },
  {
   "cell_type": "code",
   "execution_count": 3,
   "metadata": {},
   "outputs": [
    {
     "name": "stdout",
     "output_type": "stream",
     "text": [
      "Display size adjusted.\n"
     ]
    }
   ],
   "source": [
    "pd.set_option('display.max_columns', 60)\n",
    "print(\"Display size adjusted.\")"
   ]
  },
  {
   "cell_type": "markdown",
   "metadata": {},
   "source": [
    "**Previewing the raw dataset**"
   ]
  },
  {
   "cell_type": "code",
   "execution_count": 4,
   "metadata": {},
   "outputs": [
    {
     "data": {
      "text/html": [
       "<div>\n",
       "<style scoped>\n",
       "    .dataframe tbody tr th:only-of-type {\n",
       "        vertical-align: middle;\n",
       "    }\n",
       "\n",
       "    .dataframe tbody tr th {\n",
       "        vertical-align: top;\n",
       "    }\n",
       "\n",
       "    .dataframe thead th {\n",
       "        text-align: right;\n",
       "    }\n",
       "</style>\n",
       "<table border=\"1\" class=\"dataframe\">\n",
       "  <thead>\n",
       "    <tr style=\"text-align: right;\">\n",
       "      <th></th>\n",
       "      <th>Unnamed: 0</th>\n",
       "      <th>CaseOrder</th>\n",
       "      <th>Customer_id</th>\n",
       "      <th>Interaction</th>\n",
       "      <th>UID</th>\n",
       "      <th>City</th>\n",
       "      <th>State</th>\n",
       "      <th>County</th>\n",
       "      <th>Zip</th>\n",
       "      <th>Lat</th>\n",
       "      <th>Lng</th>\n",
       "      <th>Population</th>\n",
       "      <th>Area</th>\n",
       "      <th>Timezone</th>\n",
       "      <th>Job</th>\n",
       "      <th>Children</th>\n",
       "      <th>Age</th>\n",
       "      <th>Education</th>\n",
       "      <th>Employment</th>\n",
       "      <th>Income</th>\n",
       "      <th>Marital</th>\n",
       "      <th>Gender</th>\n",
       "      <th>ReAdmis</th>\n",
       "      <th>VitD_levels</th>\n",
       "      <th>Doc_visits</th>\n",
       "      <th>Full_meals_eaten</th>\n",
       "      <th>VitD_supp</th>\n",
       "      <th>Soft_drink</th>\n",
       "      <th>Initial_admin</th>\n",
       "      <th>HighBlood</th>\n",
       "      <th>Stroke</th>\n",
       "      <th>Complication_risk</th>\n",
       "      <th>Overweight</th>\n",
       "      <th>Arthritis</th>\n",
       "      <th>Diabetes</th>\n",
       "      <th>Hyperlipidemia</th>\n",
       "      <th>BackPain</th>\n",
       "      <th>Anxiety</th>\n",
       "      <th>Allergic_rhinitis</th>\n",
       "      <th>Reflux_esophagitis</th>\n",
       "      <th>Asthma</th>\n",
       "      <th>Services</th>\n",
       "      <th>Initial_days</th>\n",
       "      <th>TotalCharge</th>\n",
       "      <th>Additional_charges</th>\n",
       "      <th>Item1</th>\n",
       "      <th>Item2</th>\n",
       "      <th>Item3</th>\n",
       "      <th>Item4</th>\n",
       "      <th>Item5</th>\n",
       "      <th>Item6</th>\n",
       "      <th>Item7</th>\n",
       "      <th>Item8</th>\n",
       "    </tr>\n",
       "  </thead>\n",
       "  <tbody>\n",
       "    <tr>\n",
       "      <th>0</th>\n",
       "      <td>1</td>\n",
       "      <td>1</td>\n",
       "      <td>C412403</td>\n",
       "      <td>8cd49b13-f45a-4b47-a2bd-173ffa932c2f</td>\n",
       "      <td>3a83ddb66e2ae73798bdf1d705dc0932</td>\n",
       "      <td>Eva</td>\n",
       "      <td>AL</td>\n",
       "      <td>Morgan</td>\n",
       "      <td>35621</td>\n",
       "      <td>34.34960</td>\n",
       "      <td>-86.72508</td>\n",
       "      <td>2951</td>\n",
       "      <td>Suburban</td>\n",
       "      <td>America/Chicago</td>\n",
       "      <td>Psychologist, sport and exercise</td>\n",
       "      <td>1.0</td>\n",
       "      <td>53.0</td>\n",
       "      <td>Some College, Less than 1 Year</td>\n",
       "      <td>Full Time</td>\n",
       "      <td>86575.93</td>\n",
       "      <td>Divorced</td>\n",
       "      <td>Male</td>\n",
       "      <td>No</td>\n",
       "      <td>17.802330</td>\n",
       "      <td>6</td>\n",
       "      <td>0</td>\n",
       "      <td>0</td>\n",
       "      <td>NaN</td>\n",
       "      <td>Emergency Admission</td>\n",
       "      <td>Yes</td>\n",
       "      <td>No</td>\n",
       "      <td>Medium</td>\n",
       "      <td>0.0</td>\n",
       "      <td>Yes</td>\n",
       "      <td>Yes</td>\n",
       "      <td>No</td>\n",
       "      <td>Yes</td>\n",
       "      <td>1.0</td>\n",
       "      <td>Yes</td>\n",
       "      <td>No</td>\n",
       "      <td>Yes</td>\n",
       "      <td>Blood Work</td>\n",
       "      <td>10.585770</td>\n",
       "      <td>3191.048774</td>\n",
       "      <td>17939.403420</td>\n",
       "      <td>3</td>\n",
       "      <td>3</td>\n",
       "      <td>2</td>\n",
       "      <td>2</td>\n",
       "      <td>4</td>\n",
       "      <td>3</td>\n",
       "      <td>3</td>\n",
       "      <td>4</td>\n",
       "    </tr>\n",
       "    <tr>\n",
       "      <th>1</th>\n",
       "      <td>2</td>\n",
       "      <td>2</td>\n",
       "      <td>Z919181</td>\n",
       "      <td>d2450b70-0337-4406-bdbb-bc1037f1734c</td>\n",
       "      <td>176354c5eef714957d486009feabf195</td>\n",
       "      <td>Marianna</td>\n",
       "      <td>FL</td>\n",
       "      <td>Jackson</td>\n",
       "      <td>32446</td>\n",
       "      <td>30.84513</td>\n",
       "      <td>-85.22907</td>\n",
       "      <td>11303</td>\n",
       "      <td>Urban</td>\n",
       "      <td>America/Chicago</td>\n",
       "      <td>Community development worker</td>\n",
       "      <td>3.0</td>\n",
       "      <td>51.0</td>\n",
       "      <td>Some College, 1 or More Years, No Degree</td>\n",
       "      <td>Full Time</td>\n",
       "      <td>46805.99</td>\n",
       "      <td>Married</td>\n",
       "      <td>Female</td>\n",
       "      <td>No</td>\n",
       "      <td>18.994640</td>\n",
       "      <td>4</td>\n",
       "      <td>2</td>\n",
       "      <td>1</td>\n",
       "      <td>No</td>\n",
       "      <td>Emergency Admission</td>\n",
       "      <td>Yes</td>\n",
       "      <td>No</td>\n",
       "      <td>High</td>\n",
       "      <td>1.0</td>\n",
       "      <td>No</td>\n",
       "      <td>No</td>\n",
       "      <td>No</td>\n",
       "      <td>No</td>\n",
       "      <td>NaN</td>\n",
       "      <td>No</td>\n",
       "      <td>Yes</td>\n",
       "      <td>No</td>\n",
       "      <td>Intravenous</td>\n",
       "      <td>15.129562</td>\n",
       "      <td>4214.905346</td>\n",
       "      <td>17612.998120</td>\n",
       "      <td>3</td>\n",
       "      <td>4</td>\n",
       "      <td>3</td>\n",
       "      <td>4</td>\n",
       "      <td>4</td>\n",
       "      <td>4</td>\n",
       "      <td>3</td>\n",
       "      <td>3</td>\n",
       "    </tr>\n",
       "    <tr>\n",
       "      <th>2</th>\n",
       "      <td>3</td>\n",
       "      <td>3</td>\n",
       "      <td>F995323</td>\n",
       "      <td>a2057123-abf5-4a2c-abad-8ffe33512562</td>\n",
       "      <td>e19a0fa00aeda885b8a436757e889bc9</td>\n",
       "      <td>Sioux Falls</td>\n",
       "      <td>SD</td>\n",
       "      <td>Minnehaha</td>\n",
       "      <td>57110</td>\n",
       "      <td>43.54321</td>\n",
       "      <td>-96.63772</td>\n",
       "      <td>17125</td>\n",
       "      <td>Suburban</td>\n",
       "      <td>America/Chicago</td>\n",
       "      <td>Chief Executive Officer</td>\n",
       "      <td>3.0</td>\n",
       "      <td>53.0</td>\n",
       "      <td>Some College, 1 or More Years, No Degree</td>\n",
       "      <td>Retired</td>\n",
       "      <td>14370.14</td>\n",
       "      <td>Widowed</td>\n",
       "      <td>Female</td>\n",
       "      <td>No</td>\n",
       "      <td>17.415889</td>\n",
       "      <td>4</td>\n",
       "      <td>1</td>\n",
       "      <td>0</td>\n",
       "      <td>No</td>\n",
       "      <td>Elective Admission</td>\n",
       "      <td>Yes</td>\n",
       "      <td>No</td>\n",
       "      <td>Medium</td>\n",
       "      <td>1.0</td>\n",
       "      <td>No</td>\n",
       "      <td>Yes</td>\n",
       "      <td>No</td>\n",
       "      <td>No</td>\n",
       "      <td>NaN</td>\n",
       "      <td>No</td>\n",
       "      <td>No</td>\n",
       "      <td>No</td>\n",
       "      <td>Blood Work</td>\n",
       "      <td>4.772177</td>\n",
       "      <td>2177.586768</td>\n",
       "      <td>17505.192460</td>\n",
       "      <td>2</td>\n",
       "      <td>4</td>\n",
       "      <td>4</td>\n",
       "      <td>4</td>\n",
       "      <td>3</td>\n",
       "      <td>4</td>\n",
       "      <td>3</td>\n",
       "      <td>3</td>\n",
       "    </tr>\n",
       "    <tr>\n",
       "      <th>3</th>\n",
       "      <td>4</td>\n",
       "      <td>4</td>\n",
       "      <td>A879973</td>\n",
       "      <td>1dec528d-eb34-4079-adce-0d7a40e82205</td>\n",
       "      <td>cd17d7b6d152cb6f23957346d11c3f07</td>\n",
       "      <td>New Richland</td>\n",
       "      <td>MN</td>\n",
       "      <td>Waseca</td>\n",
       "      <td>56072</td>\n",
       "      <td>43.89744</td>\n",
       "      <td>-93.51479</td>\n",
       "      <td>2162</td>\n",
       "      <td>Suburban</td>\n",
       "      <td>America/Chicago</td>\n",
       "      <td>Early years teacher</td>\n",
       "      <td>0.0</td>\n",
       "      <td>78.0</td>\n",
       "      <td>GED or Alternative Credential</td>\n",
       "      <td>Retired</td>\n",
       "      <td>39741.49</td>\n",
       "      <td>Married</td>\n",
       "      <td>Male</td>\n",
       "      <td>No</td>\n",
       "      <td>17.420079</td>\n",
       "      <td>4</td>\n",
       "      <td>1</td>\n",
       "      <td>0</td>\n",
       "      <td>No</td>\n",
       "      <td>Elective Admission</td>\n",
       "      <td>No</td>\n",
       "      <td>Yes</td>\n",
       "      <td>Medium</td>\n",
       "      <td>0.0</td>\n",
       "      <td>Yes</td>\n",
       "      <td>No</td>\n",
       "      <td>No</td>\n",
       "      <td>No</td>\n",
       "      <td>NaN</td>\n",
       "      <td>No</td>\n",
       "      <td>Yes</td>\n",
       "      <td>Yes</td>\n",
       "      <td>Blood Work</td>\n",
       "      <td>1.714879</td>\n",
       "      <td>2465.118965</td>\n",
       "      <td>12993.437350</td>\n",
       "      <td>3</td>\n",
       "      <td>5</td>\n",
       "      <td>5</td>\n",
       "      <td>3</td>\n",
       "      <td>4</td>\n",
       "      <td>5</td>\n",
       "      <td>5</td>\n",
       "      <td>5</td>\n",
       "    </tr>\n",
       "    <tr>\n",
       "      <th>4</th>\n",
       "      <td>5</td>\n",
       "      <td>5</td>\n",
       "      <td>C544523</td>\n",
       "      <td>5885f56b-d6da-43a3-8760-83583af94266</td>\n",
       "      <td>d2f0425877b10ed6bb381f3e2579424a</td>\n",
       "      <td>West Point</td>\n",
       "      <td>VA</td>\n",
       "      <td>King William</td>\n",
       "      <td>23181</td>\n",
       "      <td>37.59894</td>\n",
       "      <td>-76.88958</td>\n",
       "      <td>5287</td>\n",
       "      <td>Rural</td>\n",
       "      <td>America/New_York</td>\n",
       "      <td>Health promotion specialist</td>\n",
       "      <td>NaN</td>\n",
       "      <td>22.0</td>\n",
       "      <td>Regular High School Diploma</td>\n",
       "      <td>Full Time</td>\n",
       "      <td>1209.56</td>\n",
       "      <td>Widowed</td>\n",
       "      <td>Female</td>\n",
       "      <td>No</td>\n",
       "      <td>16.870524</td>\n",
       "      <td>5</td>\n",
       "      <td>0</td>\n",
       "      <td>2</td>\n",
       "      <td>Yes</td>\n",
       "      <td>Elective Admission</td>\n",
       "      <td>No</td>\n",
       "      <td>No</td>\n",
       "      <td>Low</td>\n",
       "      <td>0.0</td>\n",
       "      <td>No</td>\n",
       "      <td>No</td>\n",
       "      <td>Yes</td>\n",
       "      <td>No</td>\n",
       "      <td>0.0</td>\n",
       "      <td>Yes</td>\n",
       "      <td>No</td>\n",
       "      <td>No</td>\n",
       "      <td>CT Scan</td>\n",
       "      <td>1.254807</td>\n",
       "      <td>1885.655137</td>\n",
       "      <td>3716.525786</td>\n",
       "      <td>2</td>\n",
       "      <td>1</td>\n",
       "      <td>3</td>\n",
       "      <td>3</td>\n",
       "      <td>5</td>\n",
       "      <td>3</td>\n",
       "      <td>4</td>\n",
       "      <td>3</td>\n",
       "    </tr>\n",
       "  </tbody>\n",
       "</table>\n",
       "</div>"
      ],
      "text/plain": [
       "   Unnamed: 0  CaseOrder Customer_id                           Interaction  \\\n",
       "0           1          1     C412403  8cd49b13-f45a-4b47-a2bd-173ffa932c2f   \n",
       "1           2          2     Z919181  d2450b70-0337-4406-bdbb-bc1037f1734c   \n",
       "2           3          3     F995323  a2057123-abf5-4a2c-abad-8ffe33512562   \n",
       "3           4          4     A879973  1dec528d-eb34-4079-adce-0d7a40e82205   \n",
       "4           5          5     C544523  5885f56b-d6da-43a3-8760-83583af94266   \n",
       "\n",
       "                                UID          City State        County    Zip  \\\n",
       "0  3a83ddb66e2ae73798bdf1d705dc0932           Eva    AL        Morgan  35621   \n",
       "1  176354c5eef714957d486009feabf195      Marianna    FL       Jackson  32446   \n",
       "2  e19a0fa00aeda885b8a436757e889bc9   Sioux Falls    SD     Minnehaha  57110   \n",
       "3  cd17d7b6d152cb6f23957346d11c3f07  New Richland    MN        Waseca  56072   \n",
       "4  d2f0425877b10ed6bb381f3e2579424a    West Point    VA  King William  23181   \n",
       "\n",
       "        Lat       Lng  Population      Area          Timezone  \\\n",
       "0  34.34960 -86.72508        2951  Suburban   America/Chicago   \n",
       "1  30.84513 -85.22907       11303     Urban   America/Chicago   \n",
       "2  43.54321 -96.63772       17125  Suburban   America/Chicago   \n",
       "3  43.89744 -93.51479        2162  Suburban   America/Chicago   \n",
       "4  37.59894 -76.88958        5287     Rural  America/New_York   \n",
       "\n",
       "                                Job  Children   Age  \\\n",
       "0  Psychologist, sport and exercise       1.0  53.0   \n",
       "1      Community development worker       3.0  51.0   \n",
       "2           Chief Executive Officer       3.0  53.0   \n",
       "3               Early years teacher       0.0  78.0   \n",
       "4       Health promotion specialist       NaN  22.0   \n",
       "\n",
       "                                  Education Employment    Income   Marital  \\\n",
       "0            Some College, Less than 1 Year  Full Time  86575.93  Divorced   \n",
       "1  Some College, 1 or More Years, No Degree  Full Time  46805.99   Married   \n",
       "2  Some College, 1 or More Years, No Degree    Retired  14370.14   Widowed   \n",
       "3             GED or Alternative Credential    Retired  39741.49   Married   \n",
       "4               Regular High School Diploma  Full Time   1209.56   Widowed   \n",
       "\n",
       "   Gender ReAdmis  VitD_levels  Doc_visits  Full_meals_eaten  VitD_supp  \\\n",
       "0    Male      No    17.802330           6                 0          0   \n",
       "1  Female      No    18.994640           4                 2          1   \n",
       "2  Female      No    17.415889           4                 1          0   \n",
       "3    Male      No    17.420079           4                 1          0   \n",
       "4  Female      No    16.870524           5                 0          2   \n",
       "\n",
       "  Soft_drink        Initial_admin HighBlood Stroke Complication_risk  \\\n",
       "0        NaN  Emergency Admission       Yes     No            Medium   \n",
       "1         No  Emergency Admission       Yes     No              High   \n",
       "2         No   Elective Admission       Yes     No            Medium   \n",
       "3         No   Elective Admission        No    Yes            Medium   \n",
       "4        Yes   Elective Admission        No     No               Low   \n",
       "\n",
       "   Overweight Arthritis Diabetes Hyperlipidemia BackPain  Anxiety  \\\n",
       "0         0.0       Yes      Yes             No      Yes      1.0   \n",
       "1         1.0        No       No             No       No      NaN   \n",
       "2         1.0        No      Yes             No       No      NaN   \n",
       "3         0.0       Yes       No             No       No      NaN   \n",
       "4         0.0        No       No            Yes       No      0.0   \n",
       "\n",
       "  Allergic_rhinitis Reflux_esophagitis Asthma     Services  Initial_days  \\\n",
       "0               Yes                 No    Yes   Blood Work     10.585770   \n",
       "1                No                Yes     No  Intravenous     15.129562   \n",
       "2                No                 No     No   Blood Work      4.772177   \n",
       "3                No                Yes    Yes   Blood Work      1.714879   \n",
       "4               Yes                 No     No      CT Scan      1.254807   \n",
       "\n",
       "   TotalCharge  Additional_charges  Item1  Item2  Item3  Item4  Item5  Item6  \\\n",
       "0  3191.048774        17939.403420      3      3      2      2      4      3   \n",
       "1  4214.905346        17612.998120      3      4      3      4      4      4   \n",
       "2  2177.586768        17505.192460      2      4      4      4      3      4   \n",
       "3  2465.118965        12993.437350      3      5      5      3      4      5   \n",
       "4  1885.655137         3716.525786      2      1      3      3      5      3   \n",
       "\n",
       "   Item7  Item8  \n",
       "0      3      4  \n",
       "1      3      3  \n",
       "2      3      3  \n",
       "3      5      5  \n",
       "4      4      3  "
      ]
     },
     "execution_count": 4,
     "metadata": {},
     "output_type": "execute_result"
    }
   ],
   "source": [
    "medical_raw_data.head()"
   ]
  },
  {
   "cell_type": "code",
   "execution_count": 5,
   "metadata": {},
   "outputs": [
    {
     "data": {
      "text/html": [
       "<div>\n",
       "<style scoped>\n",
       "    .dataframe tbody tr th:only-of-type {\n",
       "        vertical-align: middle;\n",
       "    }\n",
       "\n",
       "    .dataframe tbody tr th {\n",
       "        vertical-align: top;\n",
       "    }\n",
       "\n",
       "    .dataframe thead th {\n",
       "        text-align: right;\n",
       "    }\n",
       "</style>\n",
       "<table border=\"1\" class=\"dataframe\">\n",
       "  <thead>\n",
       "    <tr style=\"text-align: right;\">\n",
       "      <th></th>\n",
       "      <th>Unnamed: 0</th>\n",
       "      <th>CaseOrder</th>\n",
       "      <th>Customer_id</th>\n",
       "      <th>Interaction</th>\n",
       "      <th>UID</th>\n",
       "      <th>City</th>\n",
       "      <th>State</th>\n",
       "      <th>County</th>\n",
       "      <th>Zip</th>\n",
       "      <th>Lat</th>\n",
       "      <th>Lng</th>\n",
       "      <th>Population</th>\n",
       "      <th>Area</th>\n",
       "      <th>Timezone</th>\n",
       "      <th>Job</th>\n",
       "      <th>Children</th>\n",
       "      <th>Age</th>\n",
       "      <th>Education</th>\n",
       "      <th>Employment</th>\n",
       "      <th>Income</th>\n",
       "      <th>Marital</th>\n",
       "      <th>Gender</th>\n",
       "      <th>ReAdmis</th>\n",
       "      <th>VitD_levels</th>\n",
       "      <th>Doc_visits</th>\n",
       "      <th>Full_meals_eaten</th>\n",
       "      <th>VitD_supp</th>\n",
       "      <th>Soft_drink</th>\n",
       "      <th>Initial_admin</th>\n",
       "      <th>HighBlood</th>\n",
       "      <th>Stroke</th>\n",
       "      <th>Complication_risk</th>\n",
       "      <th>Overweight</th>\n",
       "      <th>Arthritis</th>\n",
       "      <th>Diabetes</th>\n",
       "      <th>Hyperlipidemia</th>\n",
       "      <th>BackPain</th>\n",
       "      <th>Anxiety</th>\n",
       "      <th>Allergic_rhinitis</th>\n",
       "      <th>Reflux_esophagitis</th>\n",
       "      <th>Asthma</th>\n",
       "      <th>Services</th>\n",
       "      <th>Initial_days</th>\n",
       "      <th>TotalCharge</th>\n",
       "      <th>Additional_charges</th>\n",
       "      <th>Item1</th>\n",
       "      <th>Item2</th>\n",
       "      <th>Item3</th>\n",
       "      <th>Item4</th>\n",
       "      <th>Item5</th>\n",
       "      <th>Item6</th>\n",
       "      <th>Item7</th>\n",
       "      <th>Item8</th>\n",
       "    </tr>\n",
       "  </thead>\n",
       "  <tbody>\n",
       "    <tr>\n",
       "      <th>9995</th>\n",
       "      <td>9996</td>\n",
       "      <td>9996</td>\n",
       "      <td>B863060</td>\n",
       "      <td>a25b594d-0328-486f-a9b9-0567eb0f9723</td>\n",
       "      <td>39184dc28cc038871912ccc4500049e5</td>\n",
       "      <td>Norlina</td>\n",
       "      <td>NC</td>\n",
       "      <td>Warren</td>\n",
       "      <td>27563</td>\n",
       "      <td>36.42886</td>\n",
       "      <td>-78.23716</td>\n",
       "      <td>4762</td>\n",
       "      <td>Urban</td>\n",
       "      <td>America/New_York</td>\n",
       "      <td>Programmer, multimedia</td>\n",
       "      <td>NaN</td>\n",
       "      <td>25.0</td>\n",
       "      <td>Bachelor's Degree</td>\n",
       "      <td>Student</td>\n",
       "      <td>45967.61</td>\n",
       "      <td>Widowed</td>\n",
       "      <td>Male</td>\n",
       "      <td>No</td>\n",
       "      <td>16.481612</td>\n",
       "      <td>4</td>\n",
       "      <td>2</td>\n",
       "      <td>1</td>\n",
       "      <td>No</td>\n",
       "      <td>Emergency Admission</td>\n",
       "      <td>Yes</td>\n",
       "      <td>No</td>\n",
       "      <td>Medium</td>\n",
       "      <td>NaN</td>\n",
       "      <td>No</td>\n",
       "      <td>No</td>\n",
       "      <td>No</td>\n",
       "      <td>No</td>\n",
       "      <td>1.0</td>\n",
       "      <td>No</td>\n",
       "      <td>Yes</td>\n",
       "      <td>No</td>\n",
       "      <td>Intravenous</td>\n",
       "      <td>51.561217</td>\n",
       "      <td>6651.241294</td>\n",
       "      <td>8927.642189</td>\n",
       "      <td>3</td>\n",
       "      <td>2</td>\n",
       "      <td>2</td>\n",
       "      <td>3</td>\n",
       "      <td>4</td>\n",
       "      <td>3</td>\n",
       "      <td>4</td>\n",
       "      <td>2</td>\n",
       "    </tr>\n",
       "    <tr>\n",
       "      <th>9996</th>\n",
       "      <td>9997</td>\n",
       "      <td>9997</td>\n",
       "      <td>P712040</td>\n",
       "      <td>70711574-f7b1-4a17-b15f-48c54564b70f</td>\n",
       "      <td>3cd124ccd43147404292e883bf9ec55c</td>\n",
       "      <td>Milmay</td>\n",
       "      <td>NJ</td>\n",
       "      <td>Atlantic</td>\n",
       "      <td>8340</td>\n",
       "      <td>39.43609</td>\n",
       "      <td>-74.87302</td>\n",
       "      <td>1251</td>\n",
       "      <td>Urban</td>\n",
       "      <td>America/New_York</td>\n",
       "      <td>Restaurant manager, fast food</td>\n",
       "      <td>4.0</td>\n",
       "      <td>87.0</td>\n",
       "      <td>Regular High School Diploma</td>\n",
       "      <td>Full Time</td>\n",
       "      <td>14983.02</td>\n",
       "      <td>Widowed</td>\n",
       "      <td>Male</td>\n",
       "      <td>Yes</td>\n",
       "      <td>18.451601</td>\n",
       "      <td>5</td>\n",
       "      <td>0</td>\n",
       "      <td>0</td>\n",
       "      <td>No</td>\n",
       "      <td>Elective Admission</td>\n",
       "      <td>Yes</td>\n",
       "      <td>No</td>\n",
       "      <td>Medium</td>\n",
       "      <td>1.0</td>\n",
       "      <td>Yes</td>\n",
       "      <td>Yes</td>\n",
       "      <td>No</td>\n",
       "      <td>No</td>\n",
       "      <td>0.0</td>\n",
       "      <td>No</td>\n",
       "      <td>No</td>\n",
       "      <td>Yes</td>\n",
       "      <td>CT Scan</td>\n",
       "      <td>68.668237</td>\n",
       "      <td>7851.522660</td>\n",
       "      <td>28507.147340</td>\n",
       "      <td>3</td>\n",
       "      <td>3</td>\n",
       "      <td>4</td>\n",
       "      <td>2</td>\n",
       "      <td>5</td>\n",
       "      <td>3</td>\n",
       "      <td>4</td>\n",
       "      <td>4</td>\n",
       "    </tr>\n",
       "    <tr>\n",
       "      <th>9997</th>\n",
       "      <td>9998</td>\n",
       "      <td>9998</td>\n",
       "      <td>R778890</td>\n",
       "      <td>1d79569d-8e0f-4180-a207-d67ee4527d26</td>\n",
       "      <td>41b770aeee97a5b9e7f69c906a8119d7</td>\n",
       "      <td>Southside</td>\n",
       "      <td>TN</td>\n",
       "      <td>Montgomery</td>\n",
       "      <td>37171</td>\n",
       "      <td>36.36655</td>\n",
       "      <td>-87.29988</td>\n",
       "      <td>532</td>\n",
       "      <td>Rural</td>\n",
       "      <td>America/Chicago</td>\n",
       "      <td>Psychologist, occupational</td>\n",
       "      <td>3.0</td>\n",
       "      <td>NaN</td>\n",
       "      <td>Regular High School Diploma</td>\n",
       "      <td>Full Time</td>\n",
       "      <td>65917.81</td>\n",
       "      <td>Separated</td>\n",
       "      <td>Female</td>\n",
       "      <td>Yes</td>\n",
       "      <td>15.752751</td>\n",
       "      <td>4</td>\n",
       "      <td>2</td>\n",
       "      <td>0</td>\n",
       "      <td>Yes</td>\n",
       "      <td>Elective Admission</td>\n",
       "      <td>Yes</td>\n",
       "      <td>No</td>\n",
       "      <td>High</td>\n",
       "      <td>1.0</td>\n",
       "      <td>No</td>\n",
       "      <td>No</td>\n",
       "      <td>No</td>\n",
       "      <td>No</td>\n",
       "      <td>1.0</td>\n",
       "      <td>Yes</td>\n",
       "      <td>No</td>\n",
       "      <td>No</td>\n",
       "      <td>Intravenous</td>\n",
       "      <td>NaN</td>\n",
       "      <td>7725.953391</td>\n",
       "      <td>15281.214660</td>\n",
       "      <td>3</td>\n",
       "      <td>3</td>\n",
       "      <td>3</td>\n",
       "      <td>4</td>\n",
       "      <td>4</td>\n",
       "      <td>2</td>\n",
       "      <td>3</td>\n",
       "      <td>2</td>\n",
       "    </tr>\n",
       "    <tr>\n",
       "      <th>9998</th>\n",
       "      <td>9999</td>\n",
       "      <td>9999</td>\n",
       "      <td>E344109</td>\n",
       "      <td>f5a68e69-2a60-409b-a92f-ac0847b27db0</td>\n",
       "      <td>2bb491ef5b1beb1fed758cc6885c167a</td>\n",
       "      <td>Quinn</td>\n",
       "      <td>SD</td>\n",
       "      <td>Pennington</td>\n",
       "      <td>57775</td>\n",
       "      <td>44.10354</td>\n",
       "      <td>-102.01593</td>\n",
       "      <td>271</td>\n",
       "      <td>Rural</td>\n",
       "      <td>America/Denver</td>\n",
       "      <td>Outdoor activities/education manager</td>\n",
       "      <td>3.0</td>\n",
       "      <td>43.0</td>\n",
       "      <td>Bachelor's Degree</td>\n",
       "      <td>Full Time</td>\n",
       "      <td>29702.32</td>\n",
       "      <td>Divorced</td>\n",
       "      <td>Male</td>\n",
       "      <td>Yes</td>\n",
       "      <td>21.956305</td>\n",
       "      <td>5</td>\n",
       "      <td>2</td>\n",
       "      <td>1</td>\n",
       "      <td>No</td>\n",
       "      <td>Emergency Admission</td>\n",
       "      <td>No</td>\n",
       "      <td>No</td>\n",
       "      <td>Medium</td>\n",
       "      <td>1.0</td>\n",
       "      <td>No</td>\n",
       "      <td>No</td>\n",
       "      <td>No</td>\n",
       "      <td>Yes</td>\n",
       "      <td>0.0</td>\n",
       "      <td>No</td>\n",
       "      <td>No</td>\n",
       "      <td>No</td>\n",
       "      <td>Blood Work</td>\n",
       "      <td>63.356903</td>\n",
       "      <td>8462.831883</td>\n",
       "      <td>7781.678412</td>\n",
       "      <td>5</td>\n",
       "      <td>5</td>\n",
       "      <td>3</td>\n",
       "      <td>4</td>\n",
       "      <td>4</td>\n",
       "      <td>3</td>\n",
       "      <td>4</td>\n",
       "      <td>3</td>\n",
       "    </tr>\n",
       "    <tr>\n",
       "      <th>9999</th>\n",
       "      <td>10000</td>\n",
       "      <td>10000</td>\n",
       "      <td>I569847</td>\n",
       "      <td>bc482c02-f8c9-4423-99de-3db5e62a18d5</td>\n",
       "      <td>95663a202338000abdf7e09311c2a8a1</td>\n",
       "      <td>Coraopolis</td>\n",
       "      <td>PA</td>\n",
       "      <td>Allegheny</td>\n",
       "      <td>15108</td>\n",
       "      <td>40.49998</td>\n",
       "      <td>-80.19959</td>\n",
       "      <td>41524</td>\n",
       "      <td>Urban</td>\n",
       "      <td>America/New_York</td>\n",
       "      <td>Sports development officer</td>\n",
       "      <td>8.0</td>\n",
       "      <td>NaN</td>\n",
       "      <td>9th Grade to 12th Grade, No Diploma</td>\n",
       "      <td>Full Time</td>\n",
       "      <td>62682.63</td>\n",
       "      <td>Separated</td>\n",
       "      <td>Female</td>\n",
       "      <td>Yes</td>\n",
       "      <td>20.421883</td>\n",
       "      <td>5</td>\n",
       "      <td>0</td>\n",
       "      <td>1</td>\n",
       "      <td>No</td>\n",
       "      <td>Observation Admission</td>\n",
       "      <td>No</td>\n",
       "      <td>No</td>\n",
       "      <td>Low</td>\n",
       "      <td>1.0</td>\n",
       "      <td>Yes</td>\n",
       "      <td>No</td>\n",
       "      <td>Yes</td>\n",
       "      <td>No</td>\n",
       "      <td>0.0</td>\n",
       "      <td>Yes</td>\n",
       "      <td>No</td>\n",
       "      <td>No</td>\n",
       "      <td>Blood Work</td>\n",
       "      <td>70.850592</td>\n",
       "      <td>8700.856021</td>\n",
       "      <td>11643.189930</td>\n",
       "      <td>4</td>\n",
       "      <td>3</td>\n",
       "      <td>3</td>\n",
       "      <td>2</td>\n",
       "      <td>3</td>\n",
       "      <td>6</td>\n",
       "      <td>4</td>\n",
       "      <td>3</td>\n",
       "    </tr>\n",
       "  </tbody>\n",
       "</table>\n",
       "</div>"
      ],
      "text/plain": [
       "      Unnamed: 0  CaseOrder Customer_id                           Interaction  \\\n",
       "9995        9996       9996     B863060  a25b594d-0328-486f-a9b9-0567eb0f9723   \n",
       "9996        9997       9997     P712040  70711574-f7b1-4a17-b15f-48c54564b70f   \n",
       "9997        9998       9998     R778890  1d79569d-8e0f-4180-a207-d67ee4527d26   \n",
       "9998        9999       9999     E344109  f5a68e69-2a60-409b-a92f-ac0847b27db0   \n",
       "9999       10000      10000     I569847  bc482c02-f8c9-4423-99de-3db5e62a18d5   \n",
       "\n",
       "                                   UID        City State      County    Zip  \\\n",
       "9995  39184dc28cc038871912ccc4500049e5     Norlina    NC      Warren  27563   \n",
       "9996  3cd124ccd43147404292e883bf9ec55c      Milmay    NJ    Atlantic   8340   \n",
       "9997  41b770aeee97a5b9e7f69c906a8119d7   Southside    TN  Montgomery  37171   \n",
       "9998  2bb491ef5b1beb1fed758cc6885c167a       Quinn    SD  Pennington  57775   \n",
       "9999  95663a202338000abdf7e09311c2a8a1  Coraopolis    PA   Allegheny  15108   \n",
       "\n",
       "           Lat        Lng  Population   Area          Timezone  \\\n",
       "9995  36.42886  -78.23716        4762  Urban  America/New_York   \n",
       "9996  39.43609  -74.87302        1251  Urban  America/New_York   \n",
       "9997  36.36655  -87.29988         532  Rural   America/Chicago   \n",
       "9998  44.10354 -102.01593         271  Rural    America/Denver   \n",
       "9999  40.49998  -80.19959       41524  Urban  America/New_York   \n",
       "\n",
       "                                       Job  Children   Age  \\\n",
       "9995                Programmer, multimedia       NaN  25.0   \n",
       "9996         Restaurant manager, fast food       4.0  87.0   \n",
       "9997            Psychologist, occupational       3.0   NaN   \n",
       "9998  Outdoor activities/education manager       3.0  43.0   \n",
       "9999            Sports development officer       8.0   NaN   \n",
       "\n",
       "                                Education Employment    Income    Marital  \\\n",
       "9995                    Bachelor's Degree    Student  45967.61    Widowed   \n",
       "9996          Regular High School Diploma  Full Time  14983.02    Widowed   \n",
       "9997          Regular High School Diploma  Full Time  65917.81  Separated   \n",
       "9998                    Bachelor's Degree  Full Time  29702.32   Divorced   \n",
       "9999  9th Grade to 12th Grade, No Diploma  Full Time  62682.63  Separated   \n",
       "\n",
       "      Gender ReAdmis  VitD_levels  Doc_visits  Full_meals_eaten  VitD_supp  \\\n",
       "9995    Male      No    16.481612           4                 2          1   \n",
       "9996    Male     Yes    18.451601           5                 0          0   \n",
       "9997  Female     Yes    15.752751           4                 2          0   \n",
       "9998    Male     Yes    21.956305           5                 2          1   \n",
       "9999  Female     Yes    20.421883           5                 0          1   \n",
       "\n",
       "     Soft_drink          Initial_admin HighBlood Stroke Complication_risk  \\\n",
       "9995         No    Emergency Admission       Yes     No            Medium   \n",
       "9996         No     Elective Admission       Yes     No            Medium   \n",
       "9997        Yes     Elective Admission       Yes     No              High   \n",
       "9998         No    Emergency Admission        No     No            Medium   \n",
       "9999         No  Observation Admission        No     No               Low   \n",
       "\n",
       "      Overweight Arthritis Diabetes Hyperlipidemia BackPain  Anxiety  \\\n",
       "9995         NaN        No       No             No       No      1.0   \n",
       "9996         1.0       Yes      Yes             No       No      0.0   \n",
       "9997         1.0        No       No             No       No      1.0   \n",
       "9998         1.0        No       No             No      Yes      0.0   \n",
       "9999         1.0       Yes       No            Yes       No      0.0   \n",
       "\n",
       "     Allergic_rhinitis Reflux_esophagitis Asthma     Services  Initial_days  \\\n",
       "9995                No                Yes     No  Intravenous     51.561217   \n",
       "9996                No                 No    Yes      CT Scan     68.668237   \n",
       "9997               Yes                 No     No  Intravenous           NaN   \n",
       "9998                No                 No     No   Blood Work     63.356903   \n",
       "9999               Yes                 No     No   Blood Work     70.850592   \n",
       "\n",
       "      TotalCharge  Additional_charges  Item1  Item2  Item3  Item4  Item5  \\\n",
       "9995  6651.241294         8927.642189      3      2      2      3      4   \n",
       "9996  7851.522660        28507.147340      3      3      4      2      5   \n",
       "9997  7725.953391        15281.214660      3      3      3      4      4   \n",
       "9998  8462.831883         7781.678412      5      5      3      4      4   \n",
       "9999  8700.856021        11643.189930      4      3      3      2      3   \n",
       "\n",
       "      Item6  Item7  Item8  \n",
       "9995      3      4      2  \n",
       "9996      3      4      4  \n",
       "9997      2      3      2  \n",
       "9998      3      4      3  \n",
       "9999      6      4      3  "
      ]
     },
     "execution_count": 5,
     "metadata": {},
     "output_type": "execute_result"
    }
   ],
   "source": [
    "medical_raw_data.tail()"
   ]
  },
  {
   "cell_type": "markdown",
   "metadata": {},
   "source": [
    "**Viewing the data types and names of the columns** (Vallisneri, 2018)"
   ]
  },
  {
   "cell_type": "code",
   "execution_count": 6,
   "metadata": {},
   "outputs": [
    {
     "name": "stdout",
     "output_type": "stream",
     "text": [
      "<class 'pandas.core.frame.DataFrame'>\n",
      "RangeIndex: 10000 entries, 0 to 9999\n",
      "Data columns (total 53 columns):\n",
      " #   Column              Non-Null Count  Dtype  \n",
      "---  ------              --------------  -----  \n",
      " 0   Unnamed: 0          10000 non-null  int64  \n",
      " 1   CaseOrder           10000 non-null  int64  \n",
      " 2   Customer_id         10000 non-null  object \n",
      " 3   Interaction         10000 non-null  object \n",
      " 4   UID                 10000 non-null  object \n",
      " 5   City                10000 non-null  object \n",
      " 6   State               10000 non-null  object \n",
      " 7   County              10000 non-null  object \n",
      " 8   Zip                 10000 non-null  int64  \n",
      " 9   Lat                 10000 non-null  float64\n",
      " 10  Lng                 10000 non-null  float64\n",
      " 11  Population          10000 non-null  int64  \n",
      " 12  Area                10000 non-null  object \n",
      " 13  Timezone            10000 non-null  object \n",
      " 14  Job                 10000 non-null  object \n",
      " 15  Children            7412 non-null   float64\n",
      " 16  Age                 7586 non-null   float64\n",
      " 17  Education           10000 non-null  object \n",
      " 18  Employment          10000 non-null  object \n",
      " 19  Income              7536 non-null   float64\n",
      " 20  Marital             10000 non-null  object \n",
      " 21  Gender              10000 non-null  object \n",
      " 22  ReAdmis             10000 non-null  object \n",
      " 23  VitD_levels         10000 non-null  float64\n",
      " 24  Doc_visits          10000 non-null  int64  \n",
      " 25  Full_meals_eaten    10000 non-null  int64  \n",
      " 26  VitD_supp           10000 non-null  int64  \n",
      " 27  Soft_drink          7533 non-null   object \n",
      " 28  Initial_admin       10000 non-null  object \n",
      " 29  HighBlood           10000 non-null  object \n",
      " 30  Stroke              10000 non-null  object \n",
      " 31  Complication_risk   10000 non-null  object \n",
      " 32  Overweight          9018 non-null   float64\n",
      " 33  Arthritis           10000 non-null  object \n",
      " 34  Diabetes            10000 non-null  object \n",
      " 35  Hyperlipidemia      10000 non-null  object \n",
      " 36  BackPain            10000 non-null  object \n",
      " 37  Anxiety             9016 non-null   float64\n",
      " 38  Allergic_rhinitis   10000 non-null  object \n",
      " 39  Reflux_esophagitis  10000 non-null  object \n",
      " 40  Asthma              10000 non-null  object \n",
      " 41  Services            10000 non-null  object \n",
      " 42  Initial_days        8944 non-null   float64\n",
      " 43  TotalCharge         10000 non-null  float64\n",
      " 44  Additional_charges  10000 non-null  float64\n",
      " 45  Item1               10000 non-null  int64  \n",
      " 46  Item2               10000 non-null  int64  \n",
      " 47  Item3               10000 non-null  int64  \n",
      " 48  Item4               10000 non-null  int64  \n",
      " 49  Item5               10000 non-null  int64  \n",
      " 50  Item6               10000 non-null  int64  \n",
      " 51  Item7               10000 non-null  int64  \n",
      " 52  Item8               10000 non-null  int64  \n",
      "dtypes: float64(11), int64(15), object(27)\n",
      "memory usage: 4.0+ MB\n"
     ]
    }
   ],
   "source": [
    "medical_raw_data.info()"
   ]
  },
  {
   "cell_type": "markdown",
   "metadata": {},
   "source": [
    "**The first column seems to be redundant, so it will be dropped.**(Vallisneri, 2018)"
   ]
  },
  {
   "cell_type": "code",
   "execution_count": 7,
   "metadata": {},
   "outputs": [
    {
     "data": {
      "text/html": [
       "<div>\n",
       "<style scoped>\n",
       "    .dataframe tbody tr th:only-of-type {\n",
       "        vertical-align: middle;\n",
       "    }\n",
       "\n",
       "    .dataframe tbody tr th {\n",
       "        vertical-align: top;\n",
       "    }\n",
       "\n",
       "    .dataframe thead th {\n",
       "        text-align: right;\n",
       "    }\n",
       "</style>\n",
       "<table border=\"1\" class=\"dataframe\">\n",
       "  <thead>\n",
       "    <tr style=\"text-align: right;\">\n",
       "      <th></th>\n",
       "      <th>CaseOrder</th>\n",
       "      <th>Customer_id</th>\n",
       "      <th>Interaction</th>\n",
       "      <th>UID</th>\n",
       "      <th>City</th>\n",
       "      <th>State</th>\n",
       "      <th>County</th>\n",
       "      <th>Zip</th>\n",
       "      <th>Lat</th>\n",
       "      <th>Lng</th>\n",
       "      <th>Population</th>\n",
       "      <th>Area</th>\n",
       "      <th>Timezone</th>\n",
       "      <th>Job</th>\n",
       "      <th>Children</th>\n",
       "      <th>Age</th>\n",
       "      <th>Education</th>\n",
       "      <th>Employment</th>\n",
       "      <th>Income</th>\n",
       "      <th>Marital</th>\n",
       "      <th>Gender</th>\n",
       "      <th>ReAdmis</th>\n",
       "      <th>VitD_levels</th>\n",
       "      <th>Doc_visits</th>\n",
       "      <th>Full_meals_eaten</th>\n",
       "      <th>VitD_supp</th>\n",
       "      <th>Soft_drink</th>\n",
       "      <th>Initial_admin</th>\n",
       "      <th>HighBlood</th>\n",
       "      <th>Stroke</th>\n",
       "      <th>Complication_risk</th>\n",
       "      <th>Overweight</th>\n",
       "      <th>Arthritis</th>\n",
       "      <th>Diabetes</th>\n",
       "      <th>Hyperlipidemia</th>\n",
       "      <th>BackPain</th>\n",
       "      <th>Anxiety</th>\n",
       "      <th>Allergic_rhinitis</th>\n",
       "      <th>Reflux_esophagitis</th>\n",
       "      <th>Asthma</th>\n",
       "      <th>Services</th>\n",
       "      <th>Initial_days</th>\n",
       "      <th>TotalCharge</th>\n",
       "      <th>Additional_charges</th>\n",
       "      <th>Item1</th>\n",
       "      <th>Item2</th>\n",
       "      <th>Item3</th>\n",
       "      <th>Item4</th>\n",
       "      <th>Item5</th>\n",
       "      <th>Item6</th>\n",
       "      <th>Item7</th>\n",
       "      <th>Item8</th>\n",
       "    </tr>\n",
       "  </thead>\n",
       "  <tbody>\n",
       "    <tr>\n",
       "      <th>0</th>\n",
       "      <td>1</td>\n",
       "      <td>C412403</td>\n",
       "      <td>8cd49b13-f45a-4b47-a2bd-173ffa932c2f</td>\n",
       "      <td>3a83ddb66e2ae73798bdf1d705dc0932</td>\n",
       "      <td>Eva</td>\n",
       "      <td>AL</td>\n",
       "      <td>Morgan</td>\n",
       "      <td>35621</td>\n",
       "      <td>34.34960</td>\n",
       "      <td>-86.72508</td>\n",
       "      <td>2951</td>\n",
       "      <td>Suburban</td>\n",
       "      <td>America/Chicago</td>\n",
       "      <td>Psychologist, sport and exercise</td>\n",
       "      <td>1.0</td>\n",
       "      <td>53.0</td>\n",
       "      <td>Some College, Less than 1 Year</td>\n",
       "      <td>Full Time</td>\n",
       "      <td>86575.93</td>\n",
       "      <td>Divorced</td>\n",
       "      <td>Male</td>\n",
       "      <td>No</td>\n",
       "      <td>17.802330</td>\n",
       "      <td>6</td>\n",
       "      <td>0</td>\n",
       "      <td>0</td>\n",
       "      <td>NaN</td>\n",
       "      <td>Emergency Admission</td>\n",
       "      <td>Yes</td>\n",
       "      <td>No</td>\n",
       "      <td>Medium</td>\n",
       "      <td>0.0</td>\n",
       "      <td>Yes</td>\n",
       "      <td>Yes</td>\n",
       "      <td>No</td>\n",
       "      <td>Yes</td>\n",
       "      <td>1.0</td>\n",
       "      <td>Yes</td>\n",
       "      <td>No</td>\n",
       "      <td>Yes</td>\n",
       "      <td>Blood Work</td>\n",
       "      <td>10.585770</td>\n",
       "      <td>3191.048774</td>\n",
       "      <td>17939.403420</td>\n",
       "      <td>3</td>\n",
       "      <td>3</td>\n",
       "      <td>2</td>\n",
       "      <td>2</td>\n",
       "      <td>4</td>\n",
       "      <td>3</td>\n",
       "      <td>3</td>\n",
       "      <td>4</td>\n",
       "    </tr>\n",
       "    <tr>\n",
       "      <th>1</th>\n",
       "      <td>2</td>\n",
       "      <td>Z919181</td>\n",
       "      <td>d2450b70-0337-4406-bdbb-bc1037f1734c</td>\n",
       "      <td>176354c5eef714957d486009feabf195</td>\n",
       "      <td>Marianna</td>\n",
       "      <td>FL</td>\n",
       "      <td>Jackson</td>\n",
       "      <td>32446</td>\n",
       "      <td>30.84513</td>\n",
       "      <td>-85.22907</td>\n",
       "      <td>11303</td>\n",
       "      <td>Urban</td>\n",
       "      <td>America/Chicago</td>\n",
       "      <td>Community development worker</td>\n",
       "      <td>3.0</td>\n",
       "      <td>51.0</td>\n",
       "      <td>Some College, 1 or More Years, No Degree</td>\n",
       "      <td>Full Time</td>\n",
       "      <td>46805.99</td>\n",
       "      <td>Married</td>\n",
       "      <td>Female</td>\n",
       "      <td>No</td>\n",
       "      <td>18.994640</td>\n",
       "      <td>4</td>\n",
       "      <td>2</td>\n",
       "      <td>1</td>\n",
       "      <td>No</td>\n",
       "      <td>Emergency Admission</td>\n",
       "      <td>Yes</td>\n",
       "      <td>No</td>\n",
       "      <td>High</td>\n",
       "      <td>1.0</td>\n",
       "      <td>No</td>\n",
       "      <td>No</td>\n",
       "      <td>No</td>\n",
       "      <td>No</td>\n",
       "      <td>NaN</td>\n",
       "      <td>No</td>\n",
       "      <td>Yes</td>\n",
       "      <td>No</td>\n",
       "      <td>Intravenous</td>\n",
       "      <td>15.129562</td>\n",
       "      <td>4214.905346</td>\n",
       "      <td>17612.998120</td>\n",
       "      <td>3</td>\n",
       "      <td>4</td>\n",
       "      <td>3</td>\n",
       "      <td>4</td>\n",
       "      <td>4</td>\n",
       "      <td>4</td>\n",
       "      <td>3</td>\n",
       "      <td>3</td>\n",
       "    </tr>\n",
       "    <tr>\n",
       "      <th>2</th>\n",
       "      <td>3</td>\n",
       "      <td>F995323</td>\n",
       "      <td>a2057123-abf5-4a2c-abad-8ffe33512562</td>\n",
       "      <td>e19a0fa00aeda885b8a436757e889bc9</td>\n",
       "      <td>Sioux Falls</td>\n",
       "      <td>SD</td>\n",
       "      <td>Minnehaha</td>\n",
       "      <td>57110</td>\n",
       "      <td>43.54321</td>\n",
       "      <td>-96.63772</td>\n",
       "      <td>17125</td>\n",
       "      <td>Suburban</td>\n",
       "      <td>America/Chicago</td>\n",
       "      <td>Chief Executive Officer</td>\n",
       "      <td>3.0</td>\n",
       "      <td>53.0</td>\n",
       "      <td>Some College, 1 or More Years, No Degree</td>\n",
       "      <td>Retired</td>\n",
       "      <td>14370.14</td>\n",
       "      <td>Widowed</td>\n",
       "      <td>Female</td>\n",
       "      <td>No</td>\n",
       "      <td>17.415889</td>\n",
       "      <td>4</td>\n",
       "      <td>1</td>\n",
       "      <td>0</td>\n",
       "      <td>No</td>\n",
       "      <td>Elective Admission</td>\n",
       "      <td>Yes</td>\n",
       "      <td>No</td>\n",
       "      <td>Medium</td>\n",
       "      <td>1.0</td>\n",
       "      <td>No</td>\n",
       "      <td>Yes</td>\n",
       "      <td>No</td>\n",
       "      <td>No</td>\n",
       "      <td>NaN</td>\n",
       "      <td>No</td>\n",
       "      <td>No</td>\n",
       "      <td>No</td>\n",
       "      <td>Blood Work</td>\n",
       "      <td>4.772177</td>\n",
       "      <td>2177.586768</td>\n",
       "      <td>17505.192460</td>\n",
       "      <td>2</td>\n",
       "      <td>4</td>\n",
       "      <td>4</td>\n",
       "      <td>4</td>\n",
       "      <td>3</td>\n",
       "      <td>4</td>\n",
       "      <td>3</td>\n",
       "      <td>3</td>\n",
       "    </tr>\n",
       "    <tr>\n",
       "      <th>3</th>\n",
       "      <td>4</td>\n",
       "      <td>A879973</td>\n",
       "      <td>1dec528d-eb34-4079-adce-0d7a40e82205</td>\n",
       "      <td>cd17d7b6d152cb6f23957346d11c3f07</td>\n",
       "      <td>New Richland</td>\n",
       "      <td>MN</td>\n",
       "      <td>Waseca</td>\n",
       "      <td>56072</td>\n",
       "      <td>43.89744</td>\n",
       "      <td>-93.51479</td>\n",
       "      <td>2162</td>\n",
       "      <td>Suburban</td>\n",
       "      <td>America/Chicago</td>\n",
       "      <td>Early years teacher</td>\n",
       "      <td>0.0</td>\n",
       "      <td>78.0</td>\n",
       "      <td>GED or Alternative Credential</td>\n",
       "      <td>Retired</td>\n",
       "      <td>39741.49</td>\n",
       "      <td>Married</td>\n",
       "      <td>Male</td>\n",
       "      <td>No</td>\n",
       "      <td>17.420079</td>\n",
       "      <td>4</td>\n",
       "      <td>1</td>\n",
       "      <td>0</td>\n",
       "      <td>No</td>\n",
       "      <td>Elective Admission</td>\n",
       "      <td>No</td>\n",
       "      <td>Yes</td>\n",
       "      <td>Medium</td>\n",
       "      <td>0.0</td>\n",
       "      <td>Yes</td>\n",
       "      <td>No</td>\n",
       "      <td>No</td>\n",
       "      <td>No</td>\n",
       "      <td>NaN</td>\n",
       "      <td>No</td>\n",
       "      <td>Yes</td>\n",
       "      <td>Yes</td>\n",
       "      <td>Blood Work</td>\n",
       "      <td>1.714879</td>\n",
       "      <td>2465.118965</td>\n",
       "      <td>12993.437350</td>\n",
       "      <td>3</td>\n",
       "      <td>5</td>\n",
       "      <td>5</td>\n",
       "      <td>3</td>\n",
       "      <td>4</td>\n",
       "      <td>5</td>\n",
       "      <td>5</td>\n",
       "      <td>5</td>\n",
       "    </tr>\n",
       "    <tr>\n",
       "      <th>4</th>\n",
       "      <td>5</td>\n",
       "      <td>C544523</td>\n",
       "      <td>5885f56b-d6da-43a3-8760-83583af94266</td>\n",
       "      <td>d2f0425877b10ed6bb381f3e2579424a</td>\n",
       "      <td>West Point</td>\n",
       "      <td>VA</td>\n",
       "      <td>King William</td>\n",
       "      <td>23181</td>\n",
       "      <td>37.59894</td>\n",
       "      <td>-76.88958</td>\n",
       "      <td>5287</td>\n",
       "      <td>Rural</td>\n",
       "      <td>America/New_York</td>\n",
       "      <td>Health promotion specialist</td>\n",
       "      <td>NaN</td>\n",
       "      <td>22.0</td>\n",
       "      <td>Regular High School Diploma</td>\n",
       "      <td>Full Time</td>\n",
       "      <td>1209.56</td>\n",
       "      <td>Widowed</td>\n",
       "      <td>Female</td>\n",
       "      <td>No</td>\n",
       "      <td>16.870524</td>\n",
       "      <td>5</td>\n",
       "      <td>0</td>\n",
       "      <td>2</td>\n",
       "      <td>Yes</td>\n",
       "      <td>Elective Admission</td>\n",
       "      <td>No</td>\n",
       "      <td>No</td>\n",
       "      <td>Low</td>\n",
       "      <td>0.0</td>\n",
       "      <td>No</td>\n",
       "      <td>No</td>\n",
       "      <td>Yes</td>\n",
       "      <td>No</td>\n",
       "      <td>0.0</td>\n",
       "      <td>Yes</td>\n",
       "      <td>No</td>\n",
       "      <td>No</td>\n",
       "      <td>CT Scan</td>\n",
       "      <td>1.254807</td>\n",
       "      <td>1885.655137</td>\n",
       "      <td>3716.525786</td>\n",
       "      <td>2</td>\n",
       "      <td>1</td>\n",
       "      <td>3</td>\n",
       "      <td>3</td>\n",
       "      <td>5</td>\n",
       "      <td>3</td>\n",
       "      <td>4</td>\n",
       "      <td>3</td>\n",
       "    </tr>\n",
       "  </tbody>\n",
       "</table>\n",
       "</div>"
      ],
      "text/plain": [
       "   CaseOrder Customer_id                           Interaction  \\\n",
       "0          1     C412403  8cd49b13-f45a-4b47-a2bd-173ffa932c2f   \n",
       "1          2     Z919181  d2450b70-0337-4406-bdbb-bc1037f1734c   \n",
       "2          3     F995323  a2057123-abf5-4a2c-abad-8ffe33512562   \n",
       "3          4     A879973  1dec528d-eb34-4079-adce-0d7a40e82205   \n",
       "4          5     C544523  5885f56b-d6da-43a3-8760-83583af94266   \n",
       "\n",
       "                                UID          City State        County    Zip  \\\n",
       "0  3a83ddb66e2ae73798bdf1d705dc0932           Eva    AL        Morgan  35621   \n",
       "1  176354c5eef714957d486009feabf195      Marianna    FL       Jackson  32446   \n",
       "2  e19a0fa00aeda885b8a436757e889bc9   Sioux Falls    SD     Minnehaha  57110   \n",
       "3  cd17d7b6d152cb6f23957346d11c3f07  New Richland    MN        Waseca  56072   \n",
       "4  d2f0425877b10ed6bb381f3e2579424a    West Point    VA  King William  23181   \n",
       "\n",
       "        Lat       Lng  Population      Area          Timezone  \\\n",
       "0  34.34960 -86.72508        2951  Suburban   America/Chicago   \n",
       "1  30.84513 -85.22907       11303     Urban   America/Chicago   \n",
       "2  43.54321 -96.63772       17125  Suburban   America/Chicago   \n",
       "3  43.89744 -93.51479        2162  Suburban   America/Chicago   \n",
       "4  37.59894 -76.88958        5287     Rural  America/New_York   \n",
       "\n",
       "                                Job  Children   Age  \\\n",
       "0  Psychologist, sport and exercise       1.0  53.0   \n",
       "1      Community development worker       3.0  51.0   \n",
       "2           Chief Executive Officer       3.0  53.0   \n",
       "3               Early years teacher       0.0  78.0   \n",
       "4       Health promotion specialist       NaN  22.0   \n",
       "\n",
       "                                  Education Employment    Income   Marital  \\\n",
       "0            Some College, Less than 1 Year  Full Time  86575.93  Divorced   \n",
       "1  Some College, 1 or More Years, No Degree  Full Time  46805.99   Married   \n",
       "2  Some College, 1 or More Years, No Degree    Retired  14370.14   Widowed   \n",
       "3             GED or Alternative Credential    Retired  39741.49   Married   \n",
       "4               Regular High School Diploma  Full Time   1209.56   Widowed   \n",
       "\n",
       "   Gender ReAdmis  VitD_levels  Doc_visits  Full_meals_eaten  VitD_supp  \\\n",
       "0    Male      No    17.802330           6                 0          0   \n",
       "1  Female      No    18.994640           4                 2          1   \n",
       "2  Female      No    17.415889           4                 1          0   \n",
       "3    Male      No    17.420079           4                 1          0   \n",
       "4  Female      No    16.870524           5                 0          2   \n",
       "\n",
       "  Soft_drink        Initial_admin HighBlood Stroke Complication_risk  \\\n",
       "0        NaN  Emergency Admission       Yes     No            Medium   \n",
       "1         No  Emergency Admission       Yes     No              High   \n",
       "2         No   Elective Admission       Yes     No            Medium   \n",
       "3         No   Elective Admission        No    Yes            Medium   \n",
       "4        Yes   Elective Admission        No     No               Low   \n",
       "\n",
       "   Overweight Arthritis Diabetes Hyperlipidemia BackPain  Anxiety  \\\n",
       "0         0.0       Yes      Yes             No      Yes      1.0   \n",
       "1         1.0        No       No             No       No      NaN   \n",
       "2         1.0        No      Yes             No       No      NaN   \n",
       "3         0.0       Yes       No             No       No      NaN   \n",
       "4         0.0        No       No            Yes       No      0.0   \n",
       "\n",
       "  Allergic_rhinitis Reflux_esophagitis Asthma     Services  Initial_days  \\\n",
       "0               Yes                 No    Yes   Blood Work     10.585770   \n",
       "1                No                Yes     No  Intravenous     15.129562   \n",
       "2                No                 No     No   Blood Work      4.772177   \n",
       "3                No                Yes    Yes   Blood Work      1.714879   \n",
       "4               Yes                 No     No      CT Scan      1.254807   \n",
       "\n",
       "   TotalCharge  Additional_charges  Item1  Item2  Item3  Item4  Item5  Item6  \\\n",
       "0  3191.048774        17939.403420      3      3      2      2      4      3   \n",
       "1  4214.905346        17612.998120      3      4      3      4      4      4   \n",
       "2  2177.586768        17505.192460      2      4      4      4      3      4   \n",
       "3  2465.118965        12993.437350      3      5      5      3      4      5   \n",
       "4  1885.655137         3716.525786      2      1      3      3      5      3   \n",
       "\n",
       "   Item7  Item8  \n",
       "0      3      4  \n",
       "1      3      3  \n",
       "2      3      3  \n",
       "3      5      5  \n",
       "4      4      3  "
      ]
     },
     "execution_count": 7,
     "metadata": {},
     "output_type": "execute_result"
    }
   ],
   "source": [
    "medical_cleaning=medical_raw_data.drop(medical_raw_data.columns[0], axis=1)\n",
    "medical_cleaning.head()"
   ]
  },
  {
   "cell_type": "markdown",
   "metadata": {},
   "source": [
    "**The columns containing survey data will be renamed to their respective survey questions. Abbreviated Columns will be unabbreviated. Some column names will be renamed to be more descriptive or specific.**"
   ]
  },
  {
   "cell_type": "code",
   "execution_count": 8,
   "metadata": {},
   "outputs": [
    {
     "data": {
      "text/plain": [
       "Index(['CaseOrder', 'Customer_id', 'Interaction', 'UID', 'City', 'State',\n",
       "       'County', 'Zip', 'Latitude', 'Longitude', 'Population', 'Area',\n",
       "       'Timezone', 'Job', 'Children', 'Age', 'Education', 'Employment',\n",
       "       'Income', 'Marital', 'Gender', 'Readmission', 'Vitamin_D_level',\n",
       "       'Primary_visits', 'Full_meals_eaten', 'Vitamin_D_supplements',\n",
       "       'Habitual_soft_drinks', 'Method_of_admission', 'High_blood_pressure',\n",
       "       'Stroke', 'Complication_risk', 'Overweight', 'Arthritis', 'Diabetes',\n",
       "       'Hyperlipidemia', 'Back_pain', 'Anxiety', 'Allergic_rhinitis',\n",
       "       'Reflux_esophagitis', 'Asthma', 'Services', 'Hospital_days',\n",
       "       'Daily_charge', 'Additional_charges', 'Timely_admission',\n",
       "       'Timely_treatment', 'Timely_visits', 'Reliability', 'Options',\n",
       "       'Hours_of_treatment', 'Courteous_staff',\n",
       "       'Active_listening_from_doctor'],\n",
       "      dtype='object')"
      ]
     },
     "execution_count": 8,
     "metadata": {},
     "output_type": "execute_result"
    }
   ],
   "source": [
    "medical_cleaning.rename(columns={'Lat':'Latitude', 'Lng':'Longitude', 'ReAdmis':'Readmission', 'VitD_levels':'Vitamin_D_level', 'Doc_visits':'Primary_visits', 'VitD_supp':'Vitamin_D_supplements', 'Soft_drink':'Habitual_soft_drinks', 'Initial_admin':'Method_of_admission', 'HighBlood':'High_blood_pressure', 'BackPain': 'Back_pain','Initial_days':'Hospital_days', 'TotalCharge':'Daily_charge', 'Item1':'Timely_admission', 'Item2':'Timely_treatment','Item3':'Timely_visits', 'Item4':'Reliability', 'Item5':'Options', 'Item6':'Hours_of_treatment', 'Item7':'Courteous_staff', \n",
    "                        'Item8':'Active_listening_from_doctor'}, inplace=True)\n",
    "medical_cleaning.columns"
   ]
  },
  {
   "cell_type": "markdown",
   "metadata": {},
   "source": [
    "**Taking a look at the dataframe with new column names**"
   ]
  },
  {
   "cell_type": "code",
   "execution_count": 9,
   "metadata": {},
   "outputs": [
    {
     "data": {
      "text/html": [
       "<div>\n",
       "<style scoped>\n",
       "    .dataframe tbody tr th:only-of-type {\n",
       "        vertical-align: middle;\n",
       "    }\n",
       "\n",
       "    .dataframe tbody tr th {\n",
       "        vertical-align: top;\n",
       "    }\n",
       "\n",
       "    .dataframe thead th {\n",
       "        text-align: right;\n",
       "    }\n",
       "</style>\n",
       "<table border=\"1\" class=\"dataframe\">\n",
       "  <thead>\n",
       "    <tr style=\"text-align: right;\">\n",
       "      <th></th>\n",
       "      <th>CaseOrder</th>\n",
       "      <th>Customer_id</th>\n",
       "      <th>Interaction</th>\n",
       "      <th>UID</th>\n",
       "      <th>City</th>\n",
       "      <th>State</th>\n",
       "      <th>County</th>\n",
       "      <th>Zip</th>\n",
       "      <th>Latitude</th>\n",
       "      <th>Longitude</th>\n",
       "      <th>Population</th>\n",
       "      <th>Area</th>\n",
       "      <th>Timezone</th>\n",
       "      <th>Job</th>\n",
       "      <th>Children</th>\n",
       "      <th>Age</th>\n",
       "      <th>Education</th>\n",
       "      <th>Employment</th>\n",
       "      <th>Income</th>\n",
       "      <th>Marital</th>\n",
       "      <th>Gender</th>\n",
       "      <th>Readmission</th>\n",
       "      <th>Vitamin_D_level</th>\n",
       "      <th>Primary_visits</th>\n",
       "      <th>Full_meals_eaten</th>\n",
       "      <th>Vitamin_D_supplements</th>\n",
       "      <th>Habitual_soft_drinks</th>\n",
       "      <th>Method_of_admission</th>\n",
       "      <th>High_blood_pressure</th>\n",
       "      <th>Stroke</th>\n",
       "      <th>Complication_risk</th>\n",
       "      <th>Overweight</th>\n",
       "      <th>Arthritis</th>\n",
       "      <th>Diabetes</th>\n",
       "      <th>Hyperlipidemia</th>\n",
       "      <th>Back_pain</th>\n",
       "      <th>Anxiety</th>\n",
       "      <th>Allergic_rhinitis</th>\n",
       "      <th>Reflux_esophagitis</th>\n",
       "      <th>Asthma</th>\n",
       "      <th>Services</th>\n",
       "      <th>Hospital_days</th>\n",
       "      <th>Daily_charge</th>\n",
       "      <th>Additional_charges</th>\n",
       "      <th>Timely_admission</th>\n",
       "      <th>Timely_treatment</th>\n",
       "      <th>Timely_visits</th>\n",
       "      <th>Reliability</th>\n",
       "      <th>Options</th>\n",
       "      <th>Hours_of_treatment</th>\n",
       "      <th>Courteous_staff</th>\n",
       "      <th>Active_listening_from_doctor</th>\n",
       "    </tr>\n",
       "  </thead>\n",
       "  <tbody>\n",
       "    <tr>\n",
       "      <th>0</th>\n",
       "      <td>1</td>\n",
       "      <td>C412403</td>\n",
       "      <td>8cd49b13-f45a-4b47-a2bd-173ffa932c2f</td>\n",
       "      <td>3a83ddb66e2ae73798bdf1d705dc0932</td>\n",
       "      <td>Eva</td>\n",
       "      <td>AL</td>\n",
       "      <td>Morgan</td>\n",
       "      <td>35621</td>\n",
       "      <td>34.34960</td>\n",
       "      <td>-86.72508</td>\n",
       "      <td>2951</td>\n",
       "      <td>Suburban</td>\n",
       "      <td>America/Chicago</td>\n",
       "      <td>Psychologist, sport and exercise</td>\n",
       "      <td>1.0</td>\n",
       "      <td>53.0</td>\n",
       "      <td>Some College, Less than 1 Year</td>\n",
       "      <td>Full Time</td>\n",
       "      <td>86575.93</td>\n",
       "      <td>Divorced</td>\n",
       "      <td>Male</td>\n",
       "      <td>No</td>\n",
       "      <td>17.802330</td>\n",
       "      <td>6</td>\n",
       "      <td>0</td>\n",
       "      <td>0</td>\n",
       "      <td>NaN</td>\n",
       "      <td>Emergency Admission</td>\n",
       "      <td>Yes</td>\n",
       "      <td>No</td>\n",
       "      <td>Medium</td>\n",
       "      <td>0.0</td>\n",
       "      <td>Yes</td>\n",
       "      <td>Yes</td>\n",
       "      <td>No</td>\n",
       "      <td>Yes</td>\n",
       "      <td>1.0</td>\n",
       "      <td>Yes</td>\n",
       "      <td>No</td>\n",
       "      <td>Yes</td>\n",
       "      <td>Blood Work</td>\n",
       "      <td>10.585770</td>\n",
       "      <td>3191.048774</td>\n",
       "      <td>17939.403420</td>\n",
       "      <td>3</td>\n",
       "      <td>3</td>\n",
       "      <td>2</td>\n",
       "      <td>2</td>\n",
       "      <td>4</td>\n",
       "      <td>3</td>\n",
       "      <td>3</td>\n",
       "      <td>4</td>\n",
       "    </tr>\n",
       "    <tr>\n",
       "      <th>1</th>\n",
       "      <td>2</td>\n",
       "      <td>Z919181</td>\n",
       "      <td>d2450b70-0337-4406-bdbb-bc1037f1734c</td>\n",
       "      <td>176354c5eef714957d486009feabf195</td>\n",
       "      <td>Marianna</td>\n",
       "      <td>FL</td>\n",
       "      <td>Jackson</td>\n",
       "      <td>32446</td>\n",
       "      <td>30.84513</td>\n",
       "      <td>-85.22907</td>\n",
       "      <td>11303</td>\n",
       "      <td>Urban</td>\n",
       "      <td>America/Chicago</td>\n",
       "      <td>Community development worker</td>\n",
       "      <td>3.0</td>\n",
       "      <td>51.0</td>\n",
       "      <td>Some College, 1 or More Years, No Degree</td>\n",
       "      <td>Full Time</td>\n",
       "      <td>46805.99</td>\n",
       "      <td>Married</td>\n",
       "      <td>Female</td>\n",
       "      <td>No</td>\n",
       "      <td>18.994640</td>\n",
       "      <td>4</td>\n",
       "      <td>2</td>\n",
       "      <td>1</td>\n",
       "      <td>No</td>\n",
       "      <td>Emergency Admission</td>\n",
       "      <td>Yes</td>\n",
       "      <td>No</td>\n",
       "      <td>High</td>\n",
       "      <td>1.0</td>\n",
       "      <td>No</td>\n",
       "      <td>No</td>\n",
       "      <td>No</td>\n",
       "      <td>No</td>\n",
       "      <td>NaN</td>\n",
       "      <td>No</td>\n",
       "      <td>Yes</td>\n",
       "      <td>No</td>\n",
       "      <td>Intravenous</td>\n",
       "      <td>15.129562</td>\n",
       "      <td>4214.905346</td>\n",
       "      <td>17612.998120</td>\n",
       "      <td>3</td>\n",
       "      <td>4</td>\n",
       "      <td>3</td>\n",
       "      <td>4</td>\n",
       "      <td>4</td>\n",
       "      <td>4</td>\n",
       "      <td>3</td>\n",
       "      <td>3</td>\n",
       "    </tr>\n",
       "    <tr>\n",
       "      <th>2</th>\n",
       "      <td>3</td>\n",
       "      <td>F995323</td>\n",
       "      <td>a2057123-abf5-4a2c-abad-8ffe33512562</td>\n",
       "      <td>e19a0fa00aeda885b8a436757e889bc9</td>\n",
       "      <td>Sioux Falls</td>\n",
       "      <td>SD</td>\n",
       "      <td>Minnehaha</td>\n",
       "      <td>57110</td>\n",
       "      <td>43.54321</td>\n",
       "      <td>-96.63772</td>\n",
       "      <td>17125</td>\n",
       "      <td>Suburban</td>\n",
       "      <td>America/Chicago</td>\n",
       "      <td>Chief Executive Officer</td>\n",
       "      <td>3.0</td>\n",
       "      <td>53.0</td>\n",
       "      <td>Some College, 1 or More Years, No Degree</td>\n",
       "      <td>Retired</td>\n",
       "      <td>14370.14</td>\n",
       "      <td>Widowed</td>\n",
       "      <td>Female</td>\n",
       "      <td>No</td>\n",
       "      <td>17.415889</td>\n",
       "      <td>4</td>\n",
       "      <td>1</td>\n",
       "      <td>0</td>\n",
       "      <td>No</td>\n",
       "      <td>Elective Admission</td>\n",
       "      <td>Yes</td>\n",
       "      <td>No</td>\n",
       "      <td>Medium</td>\n",
       "      <td>1.0</td>\n",
       "      <td>No</td>\n",
       "      <td>Yes</td>\n",
       "      <td>No</td>\n",
       "      <td>No</td>\n",
       "      <td>NaN</td>\n",
       "      <td>No</td>\n",
       "      <td>No</td>\n",
       "      <td>No</td>\n",
       "      <td>Blood Work</td>\n",
       "      <td>4.772177</td>\n",
       "      <td>2177.586768</td>\n",
       "      <td>17505.192460</td>\n",
       "      <td>2</td>\n",
       "      <td>4</td>\n",
       "      <td>4</td>\n",
       "      <td>4</td>\n",
       "      <td>3</td>\n",
       "      <td>4</td>\n",
       "      <td>3</td>\n",
       "      <td>3</td>\n",
       "    </tr>\n",
       "    <tr>\n",
       "      <th>3</th>\n",
       "      <td>4</td>\n",
       "      <td>A879973</td>\n",
       "      <td>1dec528d-eb34-4079-adce-0d7a40e82205</td>\n",
       "      <td>cd17d7b6d152cb6f23957346d11c3f07</td>\n",
       "      <td>New Richland</td>\n",
       "      <td>MN</td>\n",
       "      <td>Waseca</td>\n",
       "      <td>56072</td>\n",
       "      <td>43.89744</td>\n",
       "      <td>-93.51479</td>\n",
       "      <td>2162</td>\n",
       "      <td>Suburban</td>\n",
       "      <td>America/Chicago</td>\n",
       "      <td>Early years teacher</td>\n",
       "      <td>0.0</td>\n",
       "      <td>78.0</td>\n",
       "      <td>GED or Alternative Credential</td>\n",
       "      <td>Retired</td>\n",
       "      <td>39741.49</td>\n",
       "      <td>Married</td>\n",
       "      <td>Male</td>\n",
       "      <td>No</td>\n",
       "      <td>17.420079</td>\n",
       "      <td>4</td>\n",
       "      <td>1</td>\n",
       "      <td>0</td>\n",
       "      <td>No</td>\n",
       "      <td>Elective Admission</td>\n",
       "      <td>No</td>\n",
       "      <td>Yes</td>\n",
       "      <td>Medium</td>\n",
       "      <td>0.0</td>\n",
       "      <td>Yes</td>\n",
       "      <td>No</td>\n",
       "      <td>No</td>\n",
       "      <td>No</td>\n",
       "      <td>NaN</td>\n",
       "      <td>No</td>\n",
       "      <td>Yes</td>\n",
       "      <td>Yes</td>\n",
       "      <td>Blood Work</td>\n",
       "      <td>1.714879</td>\n",
       "      <td>2465.118965</td>\n",
       "      <td>12993.437350</td>\n",
       "      <td>3</td>\n",
       "      <td>5</td>\n",
       "      <td>5</td>\n",
       "      <td>3</td>\n",
       "      <td>4</td>\n",
       "      <td>5</td>\n",
       "      <td>5</td>\n",
       "      <td>5</td>\n",
       "    </tr>\n",
       "    <tr>\n",
       "      <th>4</th>\n",
       "      <td>5</td>\n",
       "      <td>C544523</td>\n",
       "      <td>5885f56b-d6da-43a3-8760-83583af94266</td>\n",
       "      <td>d2f0425877b10ed6bb381f3e2579424a</td>\n",
       "      <td>West Point</td>\n",
       "      <td>VA</td>\n",
       "      <td>King William</td>\n",
       "      <td>23181</td>\n",
       "      <td>37.59894</td>\n",
       "      <td>-76.88958</td>\n",
       "      <td>5287</td>\n",
       "      <td>Rural</td>\n",
       "      <td>America/New_York</td>\n",
       "      <td>Health promotion specialist</td>\n",
       "      <td>NaN</td>\n",
       "      <td>22.0</td>\n",
       "      <td>Regular High School Diploma</td>\n",
       "      <td>Full Time</td>\n",
       "      <td>1209.56</td>\n",
       "      <td>Widowed</td>\n",
       "      <td>Female</td>\n",
       "      <td>No</td>\n",
       "      <td>16.870524</td>\n",
       "      <td>5</td>\n",
       "      <td>0</td>\n",
       "      <td>2</td>\n",
       "      <td>Yes</td>\n",
       "      <td>Elective Admission</td>\n",
       "      <td>No</td>\n",
       "      <td>No</td>\n",
       "      <td>Low</td>\n",
       "      <td>0.0</td>\n",
       "      <td>No</td>\n",
       "      <td>No</td>\n",
       "      <td>Yes</td>\n",
       "      <td>No</td>\n",
       "      <td>0.0</td>\n",
       "      <td>Yes</td>\n",
       "      <td>No</td>\n",
       "      <td>No</td>\n",
       "      <td>CT Scan</td>\n",
       "      <td>1.254807</td>\n",
       "      <td>1885.655137</td>\n",
       "      <td>3716.525786</td>\n",
       "      <td>2</td>\n",
       "      <td>1</td>\n",
       "      <td>3</td>\n",
       "      <td>3</td>\n",
       "      <td>5</td>\n",
       "      <td>3</td>\n",
       "      <td>4</td>\n",
       "      <td>3</td>\n",
       "    </tr>\n",
       "  </tbody>\n",
       "</table>\n",
       "</div>"
      ],
      "text/plain": [
       "   CaseOrder Customer_id                           Interaction  \\\n",
       "0          1     C412403  8cd49b13-f45a-4b47-a2bd-173ffa932c2f   \n",
       "1          2     Z919181  d2450b70-0337-4406-bdbb-bc1037f1734c   \n",
       "2          3     F995323  a2057123-abf5-4a2c-abad-8ffe33512562   \n",
       "3          4     A879973  1dec528d-eb34-4079-adce-0d7a40e82205   \n",
       "4          5     C544523  5885f56b-d6da-43a3-8760-83583af94266   \n",
       "\n",
       "                                UID          City State        County    Zip  \\\n",
       "0  3a83ddb66e2ae73798bdf1d705dc0932           Eva    AL        Morgan  35621   \n",
       "1  176354c5eef714957d486009feabf195      Marianna    FL       Jackson  32446   \n",
       "2  e19a0fa00aeda885b8a436757e889bc9   Sioux Falls    SD     Minnehaha  57110   \n",
       "3  cd17d7b6d152cb6f23957346d11c3f07  New Richland    MN        Waseca  56072   \n",
       "4  d2f0425877b10ed6bb381f3e2579424a    West Point    VA  King William  23181   \n",
       "\n",
       "   Latitude  Longitude  Population      Area          Timezone  \\\n",
       "0  34.34960  -86.72508        2951  Suburban   America/Chicago   \n",
       "1  30.84513  -85.22907       11303     Urban   America/Chicago   \n",
       "2  43.54321  -96.63772       17125  Suburban   America/Chicago   \n",
       "3  43.89744  -93.51479        2162  Suburban   America/Chicago   \n",
       "4  37.59894  -76.88958        5287     Rural  America/New_York   \n",
       "\n",
       "                                Job  Children   Age  \\\n",
       "0  Psychologist, sport and exercise       1.0  53.0   \n",
       "1      Community development worker       3.0  51.0   \n",
       "2           Chief Executive Officer       3.0  53.0   \n",
       "3               Early years teacher       0.0  78.0   \n",
       "4       Health promotion specialist       NaN  22.0   \n",
       "\n",
       "                                  Education Employment    Income   Marital  \\\n",
       "0            Some College, Less than 1 Year  Full Time  86575.93  Divorced   \n",
       "1  Some College, 1 or More Years, No Degree  Full Time  46805.99   Married   \n",
       "2  Some College, 1 or More Years, No Degree    Retired  14370.14   Widowed   \n",
       "3             GED or Alternative Credential    Retired  39741.49   Married   \n",
       "4               Regular High School Diploma  Full Time   1209.56   Widowed   \n",
       "\n",
       "   Gender Readmission  Vitamin_D_level  Primary_visits  Full_meals_eaten  \\\n",
       "0    Male          No        17.802330               6                 0   \n",
       "1  Female          No        18.994640               4                 2   \n",
       "2  Female          No        17.415889               4                 1   \n",
       "3    Male          No        17.420079               4                 1   \n",
       "4  Female          No        16.870524               5                 0   \n",
       "\n",
       "   Vitamin_D_supplements Habitual_soft_drinks  Method_of_admission  \\\n",
       "0                      0                  NaN  Emergency Admission   \n",
       "1                      1                   No  Emergency Admission   \n",
       "2                      0                   No   Elective Admission   \n",
       "3                      0                   No   Elective Admission   \n",
       "4                      2                  Yes   Elective Admission   \n",
       "\n",
       "  High_blood_pressure Stroke Complication_risk  Overweight Arthritis Diabetes  \\\n",
       "0                 Yes     No            Medium         0.0       Yes      Yes   \n",
       "1                 Yes     No              High         1.0        No       No   \n",
       "2                 Yes     No            Medium         1.0        No      Yes   \n",
       "3                  No    Yes            Medium         0.0       Yes       No   \n",
       "4                  No     No               Low         0.0        No       No   \n",
       "\n",
       "  Hyperlipidemia Back_pain  Anxiety Allergic_rhinitis Reflux_esophagitis  \\\n",
       "0             No       Yes      1.0               Yes                 No   \n",
       "1             No        No      NaN                No                Yes   \n",
       "2             No        No      NaN                No                 No   \n",
       "3             No        No      NaN                No                Yes   \n",
       "4            Yes        No      0.0               Yes                 No   \n",
       "\n",
       "  Asthma     Services  Hospital_days  Daily_charge  Additional_charges  \\\n",
       "0    Yes   Blood Work      10.585770   3191.048774        17939.403420   \n",
       "1     No  Intravenous      15.129562   4214.905346        17612.998120   \n",
       "2     No   Blood Work       4.772177   2177.586768        17505.192460   \n",
       "3    Yes   Blood Work       1.714879   2465.118965        12993.437350   \n",
       "4     No      CT Scan       1.254807   1885.655137         3716.525786   \n",
       "\n",
       "   Timely_admission  Timely_treatment  Timely_visits  Reliability  Options  \\\n",
       "0                 3                 3              2            2        4   \n",
       "1                 3                 4              3            4        4   \n",
       "2                 2                 4              4            4        3   \n",
       "3                 3                 5              5            3        4   \n",
       "4                 2                 1              3            3        5   \n",
       "\n",
       "   Hours_of_treatment  Courteous_staff  Active_listening_from_doctor  \n",
       "0                   3                3                             4  \n",
       "1                   4                3                             3  \n",
       "2                   4                3                             3  \n",
       "3                   5                5                             5  \n",
       "4                   3                4                             3  "
      ]
     },
     "execution_count": 9,
     "metadata": {},
     "output_type": "execute_result"
    }
   ],
   "source": [
    "medical_cleaning.head()"
   ]
  },
  {
   "cell_type": "markdown",
   "metadata": {},
   "source": [
    "**Examining the entire dataset by reviewing column values**"
   ]
  },
  {
   "cell_type": "code",
   "execution_count": 10,
   "metadata": {},
   "outputs": [
    {
     "data": {
      "text/plain": [
       "array(['AL', 'FL', 'SD', 'MN', 'VA', 'OK', 'OH', 'MS', 'WI', 'IA', 'CA',\n",
       "       'IN', 'MO', 'MI', 'NE', 'PA', 'AR', 'WV', 'KS', 'MA', 'KY', 'NY',\n",
       "       'VT', 'DC', 'IL', 'ND', 'SC', 'AK', 'NM', 'NH', 'GA', 'NC', 'MD',\n",
       "       'TN', 'WA', 'TX', 'CO', 'NJ', 'LA', 'OR', 'AZ', 'ME', 'ID', 'UT',\n",
       "       'RI', 'MT', 'PR', 'NV', 'CT', 'HI', 'WY', 'DE'], dtype=object)"
      ]
     },
     "execution_count": 10,
     "metadata": {},
     "output_type": "execute_result"
    }
   ],
   "source": [
    "medical_cleaning.State.unique()"
   ]
  },
  {
   "cell_type": "code",
   "execution_count": 11,
   "metadata": {},
   "outputs": [
    {
     "data": {
      "text/plain": [
       "array(['Suburban', 'Urban', 'Rural'], dtype=object)"
      ]
     },
     "execution_count": 11,
     "metadata": {},
     "output_type": "execute_result"
    }
   ],
   "source": [
    "medical_cleaning.Area.unique()"
   ]
  },
  {
   "cell_type": "code",
   "execution_count": 12,
   "metadata": {},
   "outputs": [
    {
     "data": {
      "text/plain": [
       "array(['America/Chicago', 'America/New_York', 'America/Los_Angeles',\n",
       "       'America/Indiana/Indianapolis', 'America/Detroit',\n",
       "       'America/Denver', 'America/Nome', 'America/Anchorage',\n",
       "       'America/Phoenix', 'America/Boise', 'America/Puerto_Rico',\n",
       "       'America/Yakutat', 'Pacific/Honolulu', 'America/Menominee',\n",
       "       'America/Kentucky/Louisville', 'America/Indiana/Vincennes',\n",
       "       'America/Toronto', 'America/Indiana/Marengo',\n",
       "       'America/Indiana/Winamac', 'America/Indiana/Tell_City',\n",
       "       'America/Sitka', 'America/Indiana/Knox',\n",
       "       'America/North_Dakota/New_Salem', 'America/Indiana/Vevay',\n",
       "       'America/Adak', 'America/North_Dakota/Beulah'], dtype=object)"
      ]
     },
     "execution_count": 12,
     "metadata": {},
     "output_type": "execute_result"
    }
   ],
   "source": [
    "medical_cleaning.Timezone.unique()"
   ]
  },
  {
   "cell_type": "markdown",
   "metadata": {},
   "source": [
    "If this is an important variable it will need to be re-expressed."
   ]
  },
  {
   "cell_type": "code",
   "execution_count": 13,
   "metadata": {},
   "outputs": [
    {
     "data": {
      "text/plain": [
       "Outdoor activities/education manager     29\n",
       "Exhibition designer                      27\n",
       "Theatre director                         27\n",
       "Scientist, audiological                  26\n",
       "Orthoptist                               25\n",
       "                                         ..\n",
       "Engineer, control and instrumentation     6\n",
       "Public relations account executive        6\n",
       "Licensed conveyancer                      6\n",
       "Government social research officer        6\n",
       "Phytotherapist                            6\n",
       "Name: Job, Length: 639, dtype: int64"
      ]
     },
     "execution_count": 13,
     "metadata": {},
     "output_type": "execute_result"
    }
   ],
   "source": [
    "medical_cleaning.Job.value_counts()"
   ]
  },
  {
   "cell_type": "markdown",
   "metadata": {},
   "source": [
    "There are 639 various responses within the Job column"
   ]
  },
  {
   "cell_type": "code",
   "execution_count": 14,
   "metadata": {},
   "outputs": [
    {
     "data": {
      "text/plain": [
       "array(['Some College, Less than 1 Year',\n",
       "       'Some College, 1 or More Years, No Degree',\n",
       "       'GED or Alternative Credential', 'Regular High School Diploma',\n",
       "       \"Bachelor's Degree\", \"Master's Degree\",\n",
       "       'Nursery School to 8th Grade',\n",
       "       '9th Grade to 12th Grade, No Diploma', 'Doctorate Degree',\n",
       "       \"Associate's Degree\", 'Professional School Degree',\n",
       "       'No Schooling Completed'], dtype=object)"
      ]
     },
     "execution_count": 14,
     "metadata": {},
     "output_type": "execute_result"
    }
   ],
   "source": [
    "medical_cleaning.Education.unique()"
   ]
  },
  {
   "cell_type": "markdown",
   "metadata": {},
   "source": [
    "This column is ordinal, and could undergo ordinal encoding for future analysis."
   ]
  },
  {
   "cell_type": "code",
   "execution_count": 15,
   "metadata": {},
   "outputs": [
    {
     "data": {
      "text/plain": [
       "array(['Full Time', 'Retired', 'Unemployed', 'Student', 'Part Time'],\n",
       "      dtype=object)"
      ]
     },
     "execution_count": 15,
     "metadata": {},
     "output_type": "execute_result"
    }
   ],
   "source": [
    "medical_cleaning.Employment.unique()"
   ]
  },
  {
   "cell_type": "code",
   "execution_count": 16,
   "metadata": {},
   "outputs": [
    {
     "data": {
      "text/plain": [
       "array(['Divorced', 'Married', 'Widowed', 'Never Married', 'Separated'],\n",
       "      dtype=object)"
      ]
     },
     "execution_count": 16,
     "metadata": {},
     "output_type": "execute_result"
    }
   ],
   "source": [
    "medical_cleaning.Marital.unique()"
   ]
  },
  {
   "cell_type": "code",
   "execution_count": 17,
   "metadata": {},
   "outputs": [
    {
     "data": {
      "text/plain": [
       "array(['Male', 'Female', 'Prefer not to answer'], dtype=object)"
      ]
     },
     "execution_count": 17,
     "metadata": {},
     "output_type": "execute_result"
    }
   ],
   "source": [
    "medical_cleaning.Gender.unique()"
   ]
  },
  {
   "cell_type": "code",
   "execution_count": 18,
   "metadata": {},
   "outputs": [
    {
     "data": {
      "text/plain": [
       "array(['No', 'Yes'], dtype=object)"
      ]
     },
     "execution_count": 18,
     "metadata": {},
     "output_type": "execute_result"
    }
   ],
   "source": [
    "medical_cleaning.Readmission.unique()"
   ]
  },
  {
   "cell_type": "code",
   "execution_count": 19,
   "metadata": {},
   "outputs": [
    {
     "data": {
      "text/plain": [
       "array([nan, 'No', 'Yes'], dtype=object)"
      ]
     },
     "execution_count": 19,
     "metadata": {},
     "output_type": "execute_result"
    }
   ],
   "source": [
    "medical_cleaning.Habitual_soft_drinks.unique()"
   ]
  },
  {
   "cell_type": "code",
   "execution_count": 20,
   "metadata": {},
   "outputs": [
    {
     "data": {
      "text/plain": [
       "array(['Emergency Admission', 'Elective Admission',\n",
       "       'Observation Admission'], dtype=object)"
      ]
     },
     "execution_count": 20,
     "metadata": {},
     "output_type": "execute_result"
    }
   ],
   "source": [
    "medical_cleaning.Method_of_admission.unique()"
   ]
  },
  {
   "cell_type": "code",
   "execution_count": 21,
   "metadata": {},
   "outputs": [
    {
     "data": {
      "text/plain": [
       "array(['Yes', 'No'], dtype=object)"
      ]
     },
     "execution_count": 21,
     "metadata": {},
     "output_type": "execute_result"
    }
   ],
   "source": [
    "medical_cleaning.High_blood_pressure.unique()"
   ]
  },
  {
   "cell_type": "code",
   "execution_count": 22,
   "metadata": {},
   "outputs": [
    {
     "data": {
      "text/plain": [
       "array(['No', 'Yes'], dtype=object)"
      ]
     },
     "execution_count": 22,
     "metadata": {},
     "output_type": "execute_result"
    }
   ],
   "source": [
    "medical_cleaning.Stroke.unique()"
   ]
  },
  {
   "cell_type": "code",
   "execution_count": 23,
   "metadata": {},
   "outputs": [
    {
     "data": {
      "text/plain": [
       "array(['Medium', 'High', 'Low'], dtype=object)"
      ]
     },
     "execution_count": 23,
     "metadata": {},
     "output_type": "execute_result"
    }
   ],
   "source": [
    "medical_cleaning.Complication_risk.unique()"
   ]
  },
  {
   "cell_type": "code",
   "execution_count": 24,
   "metadata": {},
   "outputs": [
    {
     "data": {
      "text/plain": [
       "array([ 0.,  1., nan])"
      ]
     },
     "execution_count": 24,
     "metadata": {},
     "output_type": "execute_result"
    }
   ],
   "source": [
    "medical_cleaning.Overweight.unique()"
   ]
  },
  {
   "cell_type": "markdown",
   "metadata": {},
   "source": [
    "This column appears to have already undergone one-hot encoding, and has some missing values."
   ]
  },
  {
   "cell_type": "code",
   "execution_count": 25,
   "metadata": {},
   "outputs": [
    {
     "data": {
      "text/plain": [
       "array(['Yes', 'No'], dtype=object)"
      ]
     },
     "execution_count": 25,
     "metadata": {},
     "output_type": "execute_result"
    }
   ],
   "source": [
    "medical_cleaning.Arthritis.unique()"
   ]
  },
  {
   "cell_type": "code",
   "execution_count": 26,
   "metadata": {},
   "outputs": [
    {
     "data": {
      "text/plain": [
       "array(['Yes', 'No'], dtype=object)"
      ]
     },
     "execution_count": 26,
     "metadata": {},
     "output_type": "execute_result"
    }
   ],
   "source": [
    "medical_cleaning.Diabetes.unique()"
   ]
  },
  {
   "cell_type": "code",
   "execution_count": 27,
   "metadata": {},
   "outputs": [
    {
     "data": {
      "text/plain": [
       "array(['No', 'Yes'], dtype=object)"
      ]
     },
     "execution_count": 27,
     "metadata": {},
     "output_type": "execute_result"
    }
   ],
   "source": [
    "medical_cleaning.Hyperlipidemia.unique()"
   ]
  },
  {
   "cell_type": "code",
   "execution_count": 28,
   "metadata": {},
   "outputs": [
    {
     "data": {
      "text/plain": [
       "array(['Yes', 'No'], dtype=object)"
      ]
     },
     "execution_count": 28,
     "metadata": {},
     "output_type": "execute_result"
    }
   ],
   "source": [
    "medical_cleaning.Back_pain.unique()"
   ]
  },
  {
   "cell_type": "code",
   "execution_count": 29,
   "metadata": {},
   "outputs": [
    {
     "data": {
      "text/plain": [
       "array([ 1., nan,  0.])"
      ]
     },
     "execution_count": 29,
     "metadata": {},
     "output_type": "execute_result"
    }
   ],
   "source": [
    "medical_cleaning.Anxiety.unique()"
   ]
  },
  {
   "cell_type": "markdown",
   "metadata": {},
   "source": [
    "This column appears to have already undergone one-hot encoding, and has some missing values."
   ]
  },
  {
   "cell_type": "code",
   "execution_count": 30,
   "metadata": {},
   "outputs": [
    {
     "data": {
      "text/plain": [
       "array(['Yes', 'No'], dtype=object)"
      ]
     },
     "execution_count": 30,
     "metadata": {},
     "output_type": "execute_result"
    }
   ],
   "source": [
    "medical_cleaning.Allergic_rhinitis.unique()"
   ]
  },
  {
   "cell_type": "code",
   "execution_count": 31,
   "metadata": {},
   "outputs": [
    {
     "data": {
      "text/plain": [
       "array(['No', 'Yes'], dtype=object)"
      ]
     },
     "execution_count": 31,
     "metadata": {},
     "output_type": "execute_result"
    }
   ],
   "source": [
    "medical_cleaning.Reflux_esophagitis.unique()"
   ]
  },
  {
   "cell_type": "code",
   "execution_count": 32,
   "metadata": {},
   "outputs": [
    {
     "data": {
      "text/plain": [
       "array(['Yes', 'No'], dtype=object)"
      ]
     },
     "execution_count": 32,
     "metadata": {},
     "output_type": "execute_result"
    }
   ],
   "source": [
    "medical_cleaning.Asthma.unique()"
   ]
  },
  {
   "cell_type": "code",
   "execution_count": 33,
   "metadata": {},
   "outputs": [
    {
     "data": {
      "text/plain": [
       "array(['Blood Work', 'Intravenous', 'CT Scan', 'MRI'], dtype=object)"
      ]
     },
     "execution_count": 33,
     "metadata": {},
     "output_type": "execute_result"
    }
   ],
   "source": [
    "medical_cleaning.Services.unique()"
   ]
  },
  {
   "cell_type": "markdown",
   "metadata": {},
   "source": [
    "**Checking for duplicate records**"
   ]
  },
  {
   "cell_type": "code",
   "execution_count": 34,
   "metadata": {},
   "outputs": [
    {
     "data": {
      "text/plain": [
       "False"
      ]
     },
     "execution_count": 34,
     "metadata": {},
     "output_type": "execute_result"
    }
   ],
   "source": [
    "medical_cleaning.duplicated().any()"
   ]
  },
  {
   "cell_type": "markdown",
   "metadata": {},
   "source": [
    "No duplicate records present."
   ]
  },
  {
   "cell_type": "markdown",
   "metadata": {},
   "source": [
    "**Detection of missing data by totaling number of null values in each column**"
   ]
  },
  {
   "cell_type": "code",
   "execution_count": 35,
   "metadata": {},
   "outputs": [
    {
     "data": {
      "text/plain": [
       "CaseOrder                          0\n",
       "Customer_id                        0\n",
       "Interaction                        0\n",
       "UID                                0\n",
       "City                               0\n",
       "State                              0\n",
       "County                             0\n",
       "Zip                                0\n",
       "Latitude                           0\n",
       "Longitude                          0\n",
       "Population                         0\n",
       "Area                               0\n",
       "Timezone                           0\n",
       "Job                                0\n",
       "Children                        2588\n",
       "Age                             2414\n",
       "Education                          0\n",
       "Employment                         0\n",
       "Income                          2464\n",
       "Marital                            0\n",
       "Gender                             0\n",
       "Readmission                        0\n",
       "Vitamin_D_level                    0\n",
       "Primary_visits                     0\n",
       "Full_meals_eaten                   0\n",
       "Vitamin_D_supplements              0\n",
       "Habitual_soft_drinks            2467\n",
       "Method_of_admission                0\n",
       "High_blood_pressure                0\n",
       "Stroke                             0\n",
       "Complication_risk                  0\n",
       "Overweight                       982\n",
       "Arthritis                          0\n",
       "Diabetes                           0\n",
       "Hyperlipidemia                     0\n",
       "Back_pain                          0\n",
       "Anxiety                          984\n",
       "Allergic_rhinitis                  0\n",
       "Reflux_esophagitis                 0\n",
       "Asthma                             0\n",
       "Services                           0\n",
       "Hospital_days                   1056\n",
       "Daily_charge                       0\n",
       "Additional_charges                 0\n",
       "Timely_admission                   0\n",
       "Timely_treatment                   0\n",
       "Timely_visits                      0\n",
       "Reliability                        0\n",
       "Options                            0\n",
       "Hours_of_treatment                 0\n",
       "Courteous_staff                    0\n",
       "Active_listening_from_doctor       0\n",
       "dtype: int64"
      ]
     },
     "execution_count": 35,
     "metadata": {},
     "output_type": "execute_result"
    }
   ],
   "source": [
    "null_totals=medical_cleaning.isnull().sum()\n",
    "null_totals"
   ]
  },
  {
   "cell_type": "markdown",
   "metadata": {},
   "source": [
    "Only 7 of the 52 columns contain null values."
   ]
  },
  {
   "cell_type": "markdown",
   "metadata": {},
   "source": [
    "**Utilizing Boxplots to assess for presence of outliers in numeric columns.**"
   ]
  },
  {
   "cell_type": "code",
   "execution_count": 36,
   "metadata": {},
   "outputs": [
    {
     "name": "stdout",
     "output_type": "stream",
     "text": [
      "<class 'pandas.core.frame.DataFrame'>\n",
      "RangeIndex: 10000 entries, 0 to 9999\n",
      "Data columns (total 52 columns):\n",
      " #   Column                        Non-Null Count  Dtype  \n",
      "---  ------                        --------------  -----  \n",
      " 0   CaseOrder                     10000 non-null  int64  \n",
      " 1   Customer_id                   10000 non-null  object \n",
      " 2   Interaction                   10000 non-null  object \n",
      " 3   UID                           10000 non-null  object \n",
      " 4   City                          10000 non-null  object \n",
      " 5   State                         10000 non-null  object \n",
      " 6   County                        10000 non-null  object \n",
      " 7   Zip                           10000 non-null  int64  \n",
      " 8   Latitude                      10000 non-null  float64\n",
      " 9   Longitude                     10000 non-null  float64\n",
      " 10  Population                    10000 non-null  int64  \n",
      " 11  Area                          10000 non-null  object \n",
      " 12  Timezone                      10000 non-null  object \n",
      " 13  Job                           10000 non-null  object \n",
      " 14  Children                      7412 non-null   float64\n",
      " 15  Age                           7586 non-null   float64\n",
      " 16  Education                     10000 non-null  object \n",
      " 17  Employment                    10000 non-null  object \n",
      " 18  Income                        7536 non-null   float64\n",
      " 19  Marital                       10000 non-null  object \n",
      " 20  Gender                        10000 non-null  object \n",
      " 21  Readmission                   10000 non-null  object \n",
      " 22  Vitamin_D_level               10000 non-null  float64\n",
      " 23  Primary_visits                10000 non-null  int64  \n",
      " 24  Full_meals_eaten              10000 non-null  int64  \n",
      " 25  Vitamin_D_supplements         10000 non-null  int64  \n",
      " 26  Habitual_soft_drinks          7533 non-null   object \n",
      " 27  Method_of_admission           10000 non-null  object \n",
      " 28  High_blood_pressure           10000 non-null  object \n",
      " 29  Stroke                        10000 non-null  object \n",
      " 30  Complication_risk             10000 non-null  object \n",
      " 31  Overweight                    9018 non-null   float64\n",
      " 32  Arthritis                     10000 non-null  object \n",
      " 33  Diabetes                      10000 non-null  object \n",
      " 34  Hyperlipidemia                10000 non-null  object \n",
      " 35  Back_pain                     10000 non-null  object \n",
      " 36  Anxiety                       9016 non-null   float64\n",
      " 37  Allergic_rhinitis             10000 non-null  object \n",
      " 38  Reflux_esophagitis            10000 non-null  object \n",
      " 39  Asthma                        10000 non-null  object \n",
      " 40  Services                      10000 non-null  object \n",
      " 41  Hospital_days                 8944 non-null   float64\n",
      " 42  Daily_charge                  10000 non-null  float64\n",
      " 43  Additional_charges            10000 non-null  float64\n",
      " 44  Timely_admission              10000 non-null  int64  \n",
      " 45  Timely_treatment              10000 non-null  int64  \n",
      " 46  Timely_visits                 10000 non-null  int64  \n",
      " 47  Reliability                   10000 non-null  int64  \n",
      " 48  Options                       10000 non-null  int64  \n",
      " 49  Hours_of_treatment            10000 non-null  int64  \n",
      " 50  Courteous_staff               10000 non-null  int64  \n",
      " 51  Active_listening_from_doctor  10000 non-null  int64  \n",
      "dtypes: float64(11), int64(14), object(27)\n",
      "memory usage: 4.0+ MB\n"
     ]
    }
   ],
   "source": [
    "medical_cleaning.info()"
   ]
  },
  {
   "cell_type": "code",
   "execution_count": 37,
   "metadata": {},
   "outputs": [
    {
     "data": {
      "image/png": "[encoded data removed]",
      "text/plain": [
       "<Figure size 432x288 with 1 Axes>"
      ]
     },
     "metadata": {
      "needs_background": "light"
     },
     "output_type": "display_data"
    }
   ],
   "source": [
    "boxplot=sns.boxplot(x='Population',data=medical_cleaning)"
   ]
  },
  {
   "cell_type": "code",
   "execution_count": 38,
   "metadata": {},
   "outputs": [
    {
     "data": {
      "image/png": "[encoded data removed]",
      "text/plain": [
       "<Figure size 432x288 with 1 Axes>"
      ]
     },
     "metadata": {
      "needs_background": "light"
     },
     "output_type": "display_data"
    }
   ],
   "source": [
    "boxplot=sns.boxplot(x='Children',data=medical_cleaning)"
   ]
  },
  {
   "cell_type": "code",
   "execution_count": 39,
   "metadata": {},
   "outputs": [
    {
     "data": {
      "image/png": "[encoded data removed]",
      "text/plain": [
       "<Figure size 432x288 with 1 Axes>"
      ]
     },
     "metadata": {
      "needs_background": "light"
     },
     "output_type": "display_data"
    }
   ],
   "source": [
    "boxplot=sns.boxplot(x='Age',data=medical_cleaning)"
   ]
  },
  {
   "cell_type": "code",
   "execution_count": 40,
   "metadata": {},
   "outputs": [
    {
     "data": {
      "image/png": "[encoded data removed]",
      "text/plain": [
       "<Figure size 432x288 with 1 Axes>"
      ]
     },
     "metadata": {
      "needs_background": "light"
     },
     "output_type": "display_data"
    }
   ],
   "source": [
    "boxplot=sns.boxplot(x='Income',data=medical_cleaning)"
   ]
  },
  {
   "cell_type": "code",
   "execution_count": 41,
   "metadata": {},
   "outputs": [
    {
     "data": {
      "image/png": "[encoded data removed]",
      "text/plain": [
       "<Figure size 432x288 with 1 Axes>"
      ]
     },
     "metadata": {
      "needs_background": "light"
     },
     "output_type": "display_data"
    }
   ],
   "source": [
    "boxplot=sns.boxplot(x='Vitamin_D_level',data=medical_cleaning)"
   ]
  },
  {
   "cell_type": "code",
   "execution_count": 42,
   "metadata": {},
   "outputs": [
    {
     "data": {
      "image/png": "[encoded data removed]",
      "text/plain": [
       "<Figure size 432x288 with 1 Axes>"
      ]
     },
     "metadata": {
      "needs_background": "light"
     },
     "output_type": "display_data"
    }
   ],
   "source": [
    "boxplot=sns.boxplot(x='Primary_visits',data=medical_cleaning)"
   ]
  },
  {
   "cell_type": "code",
   "execution_count": 43,
   "metadata": {},
   "outputs": [
    {
     "data": {
      "image/png": "[encoded data removed]",
      "text/plain": [
       "<Figure size 432x288 with 1 Axes>"
      ]
     },
     "metadata": {
      "needs_background": "light"
     },
     "output_type": "display_data"
    }
   ],
   "source": [
    "boxplot=sns.boxplot(x='Full_meals_eaten',data=medical_cleaning)"
   ]
  },
  {
   "cell_type": "code",
   "execution_count": 44,
   "metadata": {},
   "outputs": [
    {
     "data": {
      "image/png": "[encoded data removed]",
      "text/plain": [
       "<Figure size 432x288 with 1 Axes>"
      ]
     },
     "metadata": {
      "needs_background": "light"
     },
     "output_type": "display_data"
    }
   ],
   "source": [
    "boxplot=sns.boxplot(x='Vitamin_D_supplements',data=medical_cleaning)"
   ]
  },
  {
   "cell_type": "code",
   "execution_count": 45,
   "metadata": {},
   "outputs": [
    {
     "data": {
      "image/png": "[encoded data removed]",
      "text/plain": [
       "<Figure size 432x288 with 1 Axes>"
      ]
     },
     "metadata": {
      "needs_background": "light"
     },
     "output_type": "display_data"
    }
   ],
   "source": [
    "boxplot=sns.boxplot(x='Hospital_days',data=medical_cleaning)"
   ]
  },
  {
   "cell_type": "code",
   "execution_count": 46,
   "metadata": {},
   "outputs": [
    {
     "data": {
      "image/png": "[encoded data removed]",
      "text/plain": [
       "<Figure size 432x288 with 1 Axes>"
      ]
     },
     "metadata": {
      "needs_background": "light"
     },
     "output_type": "display_data"
    }
   ],
   "source": [
    "boxplot=sns.boxplot(x='Daily_charge',data=medical_cleaning)"
   ]
  },
  {
   "cell_type": "code",
   "execution_count": 47,
   "metadata": {},
   "outputs": [
    {
     "data": {
      "image/png": "[encoded data removed]",
      "text/plain": [
       "<Figure size 432x288 with 1 Axes>"
      ]
     },
     "metadata": {
      "needs_background": "light"
     },
     "output_type": "display_data"
    }
   ],
   "source": [
    "boxplot=sns.boxplot(x='Additional_charges',data=medical_cleaning)"
   ]
  },
  {
   "cell_type": "markdown",
   "metadata": {},
   "source": [
    "**Reviewing Boxplots of Patient Survey Results (scale of 1 to 8), assessing for outliers**"
   ]
  },
  {
   "cell_type": "code",
   "execution_count": 48,
   "metadata": {},
   "outputs": [
    {
     "data": {
      "image/png": "[encoded data removed]",
      "text/plain": [
       "<Figure size 432x288 with 1 Axes>"
      ]
     },
     "metadata": {
      "needs_background": "light"
     },
     "output_type": "display_data"
    }
   ],
   "source": [
    "boxplot=sns.boxplot(x='Timely_admission',data=medical_cleaning)"
   ]
  },
  {
   "cell_type": "code",
   "execution_count": 49,
   "metadata": {},
   "outputs": [
    {
     "data": {
      "image/png": "[encoded data removed]",
      "text/plain": [
       "<Figure size 432x288 with 1 Axes>"
      ]
     },
     "metadata": {
      "needs_background": "light"
     },
     "output_type": "display_data"
    }
   ],
   "source": [
    "boxplot=sns.boxplot(x='Timely_treatment',data=medical_cleaning)"
   ]
  },
  {
   "cell_type": "code",
   "execution_count": 50,
   "metadata": {},
   "outputs": [
    {
     "data": {
      "image/png": "[encoded data removed]",
      "text/plain": [
       "<Figure size 432x288 with 1 Axes>"
      ]
     },
     "metadata": {
      "needs_background": "light"
     },
     "output_type": "display_data"
    }
   ],
   "source": [
    "boxplot=sns.boxplot(x='Timely_visits',data=medical_cleaning)"
   ]
  },
  {
   "cell_type": "code",
   "execution_count": 51,
   "metadata": {},
   "outputs": [
    {
     "data": {
      "image/png": "[encoded data removed]",
      "text/plain": [
       "<Figure size 432x288 with 1 Axes>"
      ]
     },
     "metadata": {
      "needs_background": "light"
     },
     "output_type": "display_data"
    }
   ],
   "source": [
    "boxplot=sns.boxplot(x='Reliability',data=medical_cleaning)"
   ]
  },
  {
   "cell_type": "code",
   "execution_count": 52,
   "metadata": {},
   "outputs": [
    {
     "data": {
      "image/png": "[encoded data removed]",
      "text/plain": [
       "<Figure size 432x288 with 1 Axes>"
      ]
     },
     "metadata": {
      "needs_background": "light"
     },
     "output_type": "display_data"
    }
   ],
   "source": [
    "boxplot=sns.boxplot(x='Options',data=medical_cleaning)"
   ]
  },
  {
   "cell_type": "code",
   "execution_count": 53,
   "metadata": {},
   "outputs": [
    {
     "data": {
      "image/png": "[encoded data removed]",
      "text/plain": [
       "<Figure size 432x288 with 1 Axes>"
      ]
     },
     "metadata": {
      "needs_background": "light"
     },
     "output_type": "display_data"
    }
   ],
   "source": [
    "boxplot=sns.boxplot(x='Hours_of_treatment',data=medical_cleaning)"
   ]
  },
  {
   "cell_type": "code",
   "execution_count": 54,
   "metadata": {},
   "outputs": [
    {
     "data": {
      "image/png": "[encoded data removed]",
      "text/plain": [
       "<Figure size 432x288 with 1 Axes>"
      ]
     },
     "metadata": {
      "needs_background": "light"
     },
     "output_type": "display_data"
    }
   ],
   "source": [
    "boxplot=sns.boxplot(x='Courteous_staff',data=medical_cleaning)"
   ]
  },
  {
   "cell_type": "code",
   "execution_count": 55,
   "metadata": {},
   "outputs": [
    {
     "data": {
      "image/png": "[encoded data removed]",
      "text/plain": [
       "<Figure size 432x288 with 1 Axes>"
      ]
     },
     "metadata": {
      "needs_background": "light"
     },
     "output_type": "display_data"
    }
   ],
   "source": [
    "boxplot=sns.boxplot(x='Active_listening_from_doctor',data=medical_cleaning)"
   ]
  },
  {
   "cell_type": "markdown",
   "metadata": {},
   "source": [
    "All survey responses are within the range of acceptable responses, 1 to 8."
   ]
  },
  {
   "cell_type": "markdown",
   "metadata": {},
   "source": [
    "## Part III: Data Cleaning"
   ]
  },
  {
   "cell_type": "markdown",
   "metadata": {},
   "source": [
    "## D. Summary of Data-Cleaning Process"
   ]
  },
  {
   "cell_type": "markdown",
   "metadata": {},
   "source": [
    "### D1. Describe the findings, including all anomalies"
   ]
  },
  {
   "cell_type": "markdown",
   "metadata": {},
   "source": [
    "Upon initial inspection of the dataset, a redundant column was found and dropped. Upon examination of the entire dataset, there are 639 various responses within the Job column. Categorical variables were assessed for invalid entries, but none were found. The variables, Overweight and Anxiety, appear to have already undergone one-hot encoding.\n",
    "\n",
    "The dataset was checked for duplicate records, but none were present. \n",
    "\n",
    "Only 7 of the 52 columns contained null values. Of the variables that contained null values: Children contained 2,588 nulls, Age contained 2,414 nulls, Income contained 2,464 nulls, Habitual Soft Drinks contained 2467 nulls, Overweight contained 982 nulls, Anxiety contained 984 nulls, and Hospital Days contained 1,056 nulls.\n",
    "\n",
    "Numeric variables were assessed for the presence of outliers.  Many of the variables contained outliers. One example of outliers is a few patients having between 8 to 10 children."
   ]
  },
  {
   "cell_type": "markdown",
   "metadata": {},
   "source": [
    "### D2. Justification of Mitigation Method"
   ]
  },
  {
   "cell_type": "markdown",
   "metadata": {},
   "source": [
    "Since no duplicated records are present, none need to be deleted. \n",
    "\n",
    "Percentages will be calculated for the missing data. Depending on the percentage of values missing, a decision will be made whether the missing values will be imputed or the variable will be deleted. Histograms will be generated of the continuous variables that contain missing values to analyze the distributions.\n",
    "\n",
    "\n",
    "In reviewing the presence of outliers, the outliers were within an expected range, thus do not appear to be due to human error. In comparing the Income outliers to the Income values overall, the outliers appear to represent individuals with higher income, but not necessarily indicative of invalid data. For a more comprehensive analysis of the data, all outliers will be retained.\n",
    "\n",
    "The outliers present within the patient satisfaction survey, were within the scale of 1 to 8 and will be retained."
   ]
  },
  {
   "cell_type": "markdown",
   "metadata": {},
   "source": [
    "### Mitigation of Anomalies (D4)"
   ]
  },
  {
   "cell_type": "markdown",
   "metadata": {},
   "source": [
    "**Calculating Percentages of Missing Data for each respective variable**"
   ]
  },
  {
   "cell_type": "code",
   "execution_count": 56,
   "metadata": {},
   "outputs": [
    {
     "name": "stdout",
     "output_type": "stream",
     "text": [
      "Percentage of Children Variable Missing:  25.88\n"
     ]
    }
   ],
   "source": [
    "children_missing_percent=(medical_cleaning['Children'].isnull().sum()/len(medical_cleaning))*100\n",
    "print(\"Percentage of Children Variable Missing: \", children_missing_percent)"
   ]
  },
  {
   "cell_type": "code",
   "execution_count": 57,
   "metadata": {},
   "outputs": [
    {
     "name": "stdout",
     "output_type": "stream",
     "text": [
      "Percentage of Age Variable Missing:  24.14\n"
     ]
    }
   ],
   "source": [
    "age_missing_percent=(medical_cleaning['Age'].isnull().sum()/len(medical_cleaning))*100\n",
    "print(\"Percentage of Age Variable Missing: \", age_missing_percent)"
   ]
  },
  {
   "cell_type": "code",
   "execution_count": 58,
   "metadata": {},
   "outputs": [
    {
     "name": "stdout",
     "output_type": "stream",
     "text": [
      "Percentage of Income Variable Missing:  24.64\n"
     ]
    }
   ],
   "source": [
    "income_missing_percent=(medical_cleaning['Income'].isnull().sum()/len(medical_cleaning))*100\n",
    "print(\"Percentage of Income Variable Missing: \", income_missing_percent)"
   ]
  },
  {
   "cell_type": "code",
   "execution_count": 59,
   "metadata": {},
   "outputs": [
    {
     "name": "stdout",
     "output_type": "stream",
     "text": [
      "Percentage of Habitual Soft Drinks Variable Missing:  24.67\n"
     ]
    }
   ],
   "source": [
    "soft_drinks_missing_percent=(medical_cleaning['Habitual_soft_drinks'].isnull().sum()/len(medical_cleaning))*100\n",
    "print(\"Percentage of Habitual Soft Drinks Variable Missing: \", soft_drinks_missing_percent)"
   ]
  },
  {
   "cell_type": "code",
   "execution_count": 60,
   "metadata": {},
   "outputs": [
    {
     "name": "stdout",
     "output_type": "stream",
     "text": [
      "Percentage of Overweight Variable Missing:  9.82\n"
     ]
    }
   ],
   "source": [
    "overweight_missing_percent=(medical_cleaning['Overweight'].isnull().sum()/len(medical_cleaning))*100\n",
    "print(\"Percentage of Overweight Variable Missing: \", overweight_missing_percent)"
   ]
  },
  {
   "cell_type": "code",
   "execution_count": 61,
   "metadata": {},
   "outputs": [
    {
     "name": "stdout",
     "output_type": "stream",
     "text": [
      "Percentage of Anxiety Variable Missing:  9.84\n"
     ]
    }
   ],
   "source": [
    "anxiety_missing_percent=(medical_cleaning['Anxiety'].isnull().sum()/len(medical_cleaning))*100\n",
    "print(\"Percentage of Anxiety Variable Missing: \", anxiety_missing_percent)"
   ]
  },
  {
   "cell_type": "code",
   "execution_count": 62,
   "metadata": {},
   "outputs": [
    {
     "name": "stdout",
     "output_type": "stream",
     "text": [
      "Percentage of Hospital Days Variable Missing:  10.56\n"
     ]
    }
   ],
   "source": [
    "hospital_days_missing_percent=(medical_cleaning['Hospital_days'].isnull().sum()/len(medical_cleaning))*100\n",
    "print(\"Percentage of Hospital Days Variable Missing: \", hospital_days_missing_percent)"
   ]
  },
  {
   "cell_type": "markdown",
   "metadata": {},
   "source": [
    "**Creating Histograms to Examine Distribution of Continuous Variables that contain Missing Values**"
   ]
  },
  {
   "cell_type": "code",
   "execution_count": 63,
   "metadata": {},
   "outputs": [
    {
     "data": {
      "image/png": "[encoded data removed]",
      "text/plain": [
       "<Figure size 432x288 with 4 Axes>"
      ]
     },
     "metadata": {
      "needs_background": "light"
     },
     "output_type": "display_data"
    }
   ],
   "source": [
    "medical_cleaning[['Children','Age', 'Income', 'Hospital_days']].hist()\n",
    "plt.savefig(\"mc.pyplot.jpg\")\n",
    "plt.show()"
   ]
  },
  {
   "cell_type": "markdown",
   "metadata": {},
   "source": [
    "**Imputation**"
   ]
  },
  {
   "cell_type": "code",
   "execution_count": 64,
   "metadata": {},
   "outputs": [],
   "source": [
    "medical_cleaning['Habitual_soft_drinks'].fillna(medical_cleaning['Habitual_soft_drinks'].mode()[0], inplace=True)\n",
    "medical_cleaning['Overweight'].fillna(medical_cleaning['Overweight'].mode()[0], inplace=True)\n",
    "medical_cleaning['Anxiety'].fillna(medical_cleaning['Anxiety'].mode()[0], inplace=True)\n",
    "medical_cleaning['Children'].fillna(medical_cleaning['Children'].median(), inplace=True)\n",
    "medical_cleaning['Age'].fillna(medical_cleaning['Age'].median(), inplace=True)\n",
    "medical_cleaning['Income'].fillna(medical_cleaning['Income'].median(), inplace=True)\n",
    "medical_cleaning['Hospital_days'].fillna(medical_cleaning['Hospital_days'].mode()[0], inplace=True)"
   ]
  },
  {
   "cell_type": "markdown",
   "metadata": {},
   "source": [
    "**Verifying missing values imputed**"
   ]
  },
  {
   "cell_type": "code",
   "execution_count": 65,
   "metadata": {},
   "outputs": [
    {
     "data": {
      "text/plain": [
       "CaseOrder                       0\n",
       "Customer_id                     0\n",
       "Interaction                     0\n",
       "UID                             0\n",
       "City                            0\n",
       "State                           0\n",
       "County                          0\n",
       "Zip                             0\n",
       "Latitude                        0\n",
       "Longitude                       0\n",
       "Population                      0\n",
       "Area                            0\n",
       "Timezone                        0\n",
       "Job                             0\n",
       "Children                        0\n",
       "Age                             0\n",
       "Education                       0\n",
       "Employment                      0\n",
       "Income                          0\n",
       "Marital                         0\n",
       "Gender                          0\n",
       "Readmission                     0\n",
       "Vitamin_D_level                 0\n",
       "Primary_visits                  0\n",
       "Full_meals_eaten                0\n",
       "Vitamin_D_supplements           0\n",
       "Habitual_soft_drinks            0\n",
       "Method_of_admission             0\n",
       "High_blood_pressure             0\n",
       "Stroke                          0\n",
       "Complication_risk               0\n",
       "Overweight                      0\n",
       "Arthritis                       0\n",
       "Diabetes                        0\n",
       "Hyperlipidemia                  0\n",
       "Back_pain                       0\n",
       "Anxiety                         0\n",
       "Allergic_rhinitis               0\n",
       "Reflux_esophagitis              0\n",
       "Asthma                          0\n",
       "Services                        0\n",
       "Hospital_days                   0\n",
       "Daily_charge                    0\n",
       "Additional_charges              0\n",
       "Timely_admission                0\n",
       "Timely_treatment                0\n",
       "Timely_visits                   0\n",
       "Reliability                     0\n",
       "Options                         0\n",
       "Hours_of_treatment              0\n",
       "Courteous_staff                 0\n",
       "Active_listening_from_doctor    0\n",
       "dtype: int64"
      ]
     },
     "execution_count": 65,
     "metadata": {},
     "output_type": "execute_result"
    }
   ],
   "source": [
    "medical_cleaning.isnull().sum()"
   ]
  },
  {
   "cell_type": "markdown",
   "metadata": {},
   "source": [
    "**Verification of distributions post-imputation**"
   ]
  },
  {
   "cell_type": "code",
   "execution_count": 66,
   "metadata": {},
   "outputs": [
    {
     "data": {
      "image/png": "[encoded data removed]",
      "text/plain": [
       "<Figure size 432x288 with 4 Axes>"
      ]
     },
     "metadata": {
      "needs_background": "light"
     },
     "output_type": "display_data"
    }
   ],
   "source": [
    "medical_cleaning[['Children','Age', 'Income', 'Hospital_days']].hist()\n",
    "plt.savefig(\"mc_post_imputation.pyplot.jpg\")\n",
    "plt.show()"
   ]
  },
  {
   "cell_type": "markdown",
   "metadata": {},
   "source": [
    "### D3. Outcome Summary"
   ]
  },
  {
   "cell_type": "markdown",
   "metadata": {},
   "source": [
    "The percentages of missing variables ranged from 9-26%. None of the variables with missing values had missing percentages of around 5% or less, so none of those rows will be deleted. Similarly, none of the variables had missing percentages above 60% so none of those variables will be deleted.\n",
    "\n",
    "Looking at the histograms of the variables that had missing values, Children had a spread distribution, Age had a uniform distribution, Income had a positively skewed distribution, and Hospital Days had a bimodal, non-symmetric distribution. \n",
    "\n",
    "Mode will be used to impute the missing values for the Habitual soft drinks, Overweight and Anxiety variables. The median will be used for the imputation of the Children variable. As medians are less likely to be influenced by outliers, medians were used in the imputation of the missing values of Age and Income (Poulson, 2016). Since the distribution of Hospital Days was bimodal, a mode was used for imputation. \n",
    "\n",
    "Post imputation of the missing values, nulls were totaled once more to verify imputation. The distributions were re-examined. The Age variable transformed from a uniform distribution into a more normal distribution. The Income and Children variables maintained their skewed distributions. The Hospital Days variable maintained its bimodal, non-symmetric distribution."
   ]
  },
  {
   "cell_type": "markdown",
   "metadata": {},
   "source": [
    "### D4. Code used to Mitigate Anomalies"
   ]
  },
  {
   "cell_type": "markdown",
   "metadata": {},
   "source": [
    "*Please see code above*"
   ]
  },
  {
   "cell_type": "markdown",
   "metadata": {},
   "source": [
    "### D5. Copy of the Cleaned Data Set"
   ]
  },
  {
   "cell_type": "markdown",
   "metadata": {},
   "source": [
    "Reviewing dataframe info"
   ]
  },
  {
   "cell_type": "code",
   "execution_count": 67,
   "metadata": {
    "scrolled": true
   },
   "outputs": [
    {
     "name": "stdout",
     "output_type": "stream",
     "text": [
      "<class 'pandas.core.frame.DataFrame'>\n",
      "RangeIndex: 10000 entries, 0 to 9999\n",
      "Data columns (total 52 columns):\n",
      " #   Column                        Non-Null Count  Dtype  \n",
      "---  ------                        --------------  -----  \n",
      " 0   CaseOrder                     10000 non-null  int64  \n",
      " 1   Customer_id                   10000 non-null  object \n",
      " 2   Interaction                   10000 non-null  object \n",
      " 3   UID                           10000 non-null  object \n",
      " 4   City                          10000 non-null  object \n",
      " 5   State                         10000 non-null  object \n",
      " 6   County                        10000 non-null  object \n",
      " 7   Zip                           10000 non-null  int64  \n",
      " 8   Latitude                      10000 non-null  float64\n",
      " 9   Longitude                     10000 non-null  float64\n",
      " 10  Population                    10000 non-null  int64  \n",
      " 11  Area                          10000 non-null  object \n",
      " 12  Timezone                      10000 non-null  object \n",
      " 13  Job                           10000 non-null  object \n",
      " 14  Children                      10000 non-null  float64\n",
      " 15  Age                           10000 non-null  float64\n",
      " 16  Education                     10000 non-null  object \n",
      " 17  Employment                    10000 non-null  object \n",
      " 18  Income                        10000 non-null  float64\n",
      " 19  Marital                       10000 non-null  object \n",
      " 20  Gender                        10000 non-null  object \n",
      " 21  Readmission                   10000 non-null  object \n",
      " 22  Vitamin_D_level               10000 non-null  float64\n",
      " 23  Primary_visits                10000 non-null  int64  \n",
      " 24  Full_meals_eaten              10000 non-null  int64  \n",
      " 25  Vitamin_D_supplements         10000 non-null  int64  \n",
      " 26  Habitual_soft_drinks          10000 non-null  object \n",
      " 27  Method_of_admission           10000 non-null  object \n",
      " 28  High_blood_pressure           10000 non-null  object \n",
      " 29  Stroke                        10000 non-null  object \n",
      " 30  Complication_risk             10000 non-null  object \n",
      " 31  Overweight                    10000 non-null  float64\n",
      " 32  Arthritis                     10000 non-null  object \n",
      " 33  Diabetes                      10000 non-null  object \n",
      " 34  Hyperlipidemia                10000 non-null  object \n",
      " 35  Back_pain                     10000 non-null  object \n",
      " 36  Anxiety                       10000 non-null  float64\n",
      " 37  Allergic_rhinitis             10000 non-null  object \n",
      " 38  Reflux_esophagitis            10000 non-null  object \n",
      " 39  Asthma                        10000 non-null  object \n",
      " 40  Services                      10000 non-null  object \n",
      " 41  Hospital_days                 10000 non-null  float64\n",
      " 42  Daily_charge                  10000 non-null  float64\n",
      " 43  Additional_charges            10000 non-null  float64\n",
      " 44  Timely_admission              10000 non-null  int64  \n",
      " 45  Timely_treatment              10000 non-null  int64  \n",
      " 46  Timely_visits                 10000 non-null  int64  \n",
      " 47  Reliability                   10000 non-null  int64  \n",
      " 48  Options                       10000 non-null  int64  \n",
      " 49  Hours_of_treatment            10000 non-null  int64  \n",
      " 50  Courteous_staff               10000 non-null  int64  \n",
      " 51  Active_listening_from_doctor  10000 non-null  int64  \n",
      "dtypes: float64(11), int64(14), object(27)\n",
      "memory usage: 4.0+ MB\n"
     ]
    }
   ],
   "source": [
    "medical_cleaning.info()"
   ]
  },
  {
   "cell_type": "code",
   "execution_count": 68,
   "metadata": {},
   "outputs": [
    {
     "data": {
      "text/html": [
       "<div>\n",
       "<style scoped>\n",
       "    .dataframe tbody tr th:only-of-type {\n",
       "        vertical-align: middle;\n",
       "    }\n",
       "\n",
       "    .dataframe tbody tr th {\n",
       "        vertical-align: top;\n",
       "    }\n",
       "\n",
       "    .dataframe thead th {\n",
       "        text-align: right;\n",
       "    }\n",
       "</style>\n",
       "<table border=\"1\" class=\"dataframe\">\n",
       "  <thead>\n",
       "    <tr style=\"text-align: right;\">\n",
       "      <th></th>\n",
       "      <th>CaseOrder</th>\n",
       "      <th>Customer_id</th>\n",
       "      <th>Interaction</th>\n",
       "      <th>UID</th>\n",
       "      <th>City</th>\n",
       "      <th>State</th>\n",
       "      <th>County</th>\n",
       "      <th>Zip</th>\n",
       "      <th>Latitude</th>\n",
       "      <th>Longitude</th>\n",
       "      <th>Population</th>\n",
       "      <th>Area</th>\n",
       "      <th>Timezone</th>\n",
       "      <th>Job</th>\n",
       "      <th>Children</th>\n",
       "      <th>Age</th>\n",
       "      <th>Education</th>\n",
       "      <th>Employment</th>\n",
       "      <th>Income</th>\n",
       "      <th>Marital</th>\n",
       "      <th>Gender</th>\n",
       "      <th>Readmission</th>\n",
       "      <th>Vitamin_D_level</th>\n",
       "      <th>Primary_visits</th>\n",
       "      <th>Full_meals_eaten</th>\n",
       "      <th>Vitamin_D_supplements</th>\n",
       "      <th>Habitual_soft_drinks</th>\n",
       "      <th>Method_of_admission</th>\n",
       "      <th>High_blood_pressure</th>\n",
       "      <th>Stroke</th>\n",
       "      <th>Complication_risk</th>\n",
       "      <th>Overweight</th>\n",
       "      <th>Arthritis</th>\n",
       "      <th>Diabetes</th>\n",
       "      <th>Hyperlipidemia</th>\n",
       "      <th>Back_pain</th>\n",
       "      <th>Anxiety</th>\n",
       "      <th>Allergic_rhinitis</th>\n",
       "      <th>Reflux_esophagitis</th>\n",
       "      <th>Asthma</th>\n",
       "      <th>Services</th>\n",
       "      <th>Hospital_days</th>\n",
       "      <th>Daily_charge</th>\n",
       "      <th>Additional_charges</th>\n",
       "      <th>Timely_admission</th>\n",
       "      <th>Timely_treatment</th>\n",
       "      <th>Timely_visits</th>\n",
       "      <th>Reliability</th>\n",
       "      <th>Options</th>\n",
       "      <th>Hours_of_treatment</th>\n",
       "      <th>Courteous_staff</th>\n",
       "      <th>Active_listening_from_doctor</th>\n",
       "    </tr>\n",
       "  </thead>\n",
       "  <tbody>\n",
       "    <tr>\n",
       "      <th>0</th>\n",
       "      <td>1</td>\n",
       "      <td>C412403</td>\n",
       "      <td>8cd49b13-f45a-4b47-a2bd-173ffa932c2f</td>\n",
       "      <td>3a83ddb66e2ae73798bdf1d705dc0932</td>\n",
       "      <td>Eva</td>\n",
       "      <td>AL</td>\n",
       "      <td>Morgan</td>\n",
       "      <td>35621</td>\n",
       "      <td>34.34960</td>\n",
       "      <td>-86.72508</td>\n",
       "      <td>2951</td>\n",
       "      <td>Suburban</td>\n",
       "      <td>America/Chicago</td>\n",
       "      <td>Psychologist, sport and exercise</td>\n",
       "      <td>1.0</td>\n",
       "      <td>53.0</td>\n",
       "      <td>Some College, Less than 1 Year</td>\n",
       "      <td>Full Time</td>\n",
       "      <td>86575.93</td>\n",
       "      <td>Divorced</td>\n",
       "      <td>Male</td>\n",
       "      <td>No</td>\n",
       "      <td>17.802330</td>\n",
       "      <td>6</td>\n",
       "      <td>0</td>\n",
       "      <td>0</td>\n",
       "      <td>No</td>\n",
       "      <td>Emergency Admission</td>\n",
       "      <td>Yes</td>\n",
       "      <td>No</td>\n",
       "      <td>Medium</td>\n",
       "      <td>0.0</td>\n",
       "      <td>Yes</td>\n",
       "      <td>Yes</td>\n",
       "      <td>No</td>\n",
       "      <td>Yes</td>\n",
       "      <td>1.0</td>\n",
       "      <td>Yes</td>\n",
       "      <td>No</td>\n",
       "      <td>Yes</td>\n",
       "      <td>Blood Work</td>\n",
       "      <td>10.585770</td>\n",
       "      <td>3191.048774</td>\n",
       "      <td>17939.403420</td>\n",
       "      <td>3</td>\n",
       "      <td>3</td>\n",
       "      <td>2</td>\n",
       "      <td>2</td>\n",
       "      <td>4</td>\n",
       "      <td>3</td>\n",
       "      <td>3</td>\n",
       "      <td>4</td>\n",
       "    </tr>\n",
       "    <tr>\n",
       "      <th>1</th>\n",
       "      <td>2</td>\n",
       "      <td>Z919181</td>\n",
       "      <td>d2450b70-0337-4406-bdbb-bc1037f1734c</td>\n",
       "      <td>176354c5eef714957d486009feabf195</td>\n",
       "      <td>Marianna</td>\n",
       "      <td>FL</td>\n",
       "      <td>Jackson</td>\n",
       "      <td>32446</td>\n",
       "      <td>30.84513</td>\n",
       "      <td>-85.22907</td>\n",
       "      <td>11303</td>\n",
       "      <td>Urban</td>\n",
       "      <td>America/Chicago</td>\n",
       "      <td>Community development worker</td>\n",
       "      <td>3.0</td>\n",
       "      <td>51.0</td>\n",
       "      <td>Some College, 1 or More Years, No Degree</td>\n",
       "      <td>Full Time</td>\n",
       "      <td>46805.99</td>\n",
       "      <td>Married</td>\n",
       "      <td>Female</td>\n",
       "      <td>No</td>\n",
       "      <td>18.994640</td>\n",
       "      <td>4</td>\n",
       "      <td>2</td>\n",
       "      <td>1</td>\n",
       "      <td>No</td>\n",
       "      <td>Emergency Admission</td>\n",
       "      <td>Yes</td>\n",
       "      <td>No</td>\n",
       "      <td>High</td>\n",
       "      <td>1.0</td>\n",
       "      <td>No</td>\n",
       "      <td>No</td>\n",
       "      <td>No</td>\n",
       "      <td>No</td>\n",
       "      <td>0.0</td>\n",
       "      <td>No</td>\n",
       "      <td>Yes</td>\n",
       "      <td>No</td>\n",
       "      <td>Intravenous</td>\n",
       "      <td>15.129562</td>\n",
       "      <td>4214.905346</td>\n",
       "      <td>17612.998120</td>\n",
       "      <td>3</td>\n",
       "      <td>4</td>\n",
       "      <td>3</td>\n",
       "      <td>4</td>\n",
       "      <td>4</td>\n",
       "      <td>4</td>\n",
       "      <td>3</td>\n",
       "      <td>3</td>\n",
       "    </tr>\n",
       "    <tr>\n",
       "      <th>2</th>\n",
       "      <td>3</td>\n",
       "      <td>F995323</td>\n",
       "      <td>a2057123-abf5-4a2c-abad-8ffe33512562</td>\n",
       "      <td>e19a0fa00aeda885b8a436757e889bc9</td>\n",
       "      <td>Sioux Falls</td>\n",
       "      <td>SD</td>\n",
       "      <td>Minnehaha</td>\n",
       "      <td>57110</td>\n",
       "      <td>43.54321</td>\n",
       "      <td>-96.63772</td>\n",
       "      <td>17125</td>\n",
       "      <td>Suburban</td>\n",
       "      <td>America/Chicago</td>\n",
       "      <td>Chief Executive Officer</td>\n",
       "      <td>3.0</td>\n",
       "      <td>53.0</td>\n",
       "      <td>Some College, 1 or More Years, No Degree</td>\n",
       "      <td>Retired</td>\n",
       "      <td>14370.14</td>\n",
       "      <td>Widowed</td>\n",
       "      <td>Female</td>\n",
       "      <td>No</td>\n",
       "      <td>17.415889</td>\n",
       "      <td>4</td>\n",
       "      <td>1</td>\n",
       "      <td>0</td>\n",
       "      <td>No</td>\n",
       "      <td>Elective Admission</td>\n",
       "      <td>Yes</td>\n",
       "      <td>No</td>\n",
       "      <td>Medium</td>\n",
       "      <td>1.0</td>\n",
       "      <td>No</td>\n",
       "      <td>Yes</td>\n",
       "      <td>No</td>\n",
       "      <td>No</td>\n",
       "      <td>0.0</td>\n",
       "      <td>No</td>\n",
       "      <td>No</td>\n",
       "      <td>No</td>\n",
       "      <td>Blood Work</td>\n",
       "      <td>4.772177</td>\n",
       "      <td>2177.586768</td>\n",
       "      <td>17505.192460</td>\n",
       "      <td>2</td>\n",
       "      <td>4</td>\n",
       "      <td>4</td>\n",
       "      <td>4</td>\n",
       "      <td>3</td>\n",
       "      <td>4</td>\n",
       "      <td>3</td>\n",
       "      <td>3</td>\n",
       "    </tr>\n",
       "    <tr>\n",
       "      <th>3</th>\n",
       "      <td>4</td>\n",
       "      <td>A879973</td>\n",
       "      <td>1dec528d-eb34-4079-adce-0d7a40e82205</td>\n",
       "      <td>cd17d7b6d152cb6f23957346d11c3f07</td>\n",
       "      <td>New Richland</td>\n",
       "      <td>MN</td>\n",
       "      <td>Waseca</td>\n",
       "      <td>56072</td>\n",
       "      <td>43.89744</td>\n",
       "      <td>-93.51479</td>\n",
       "      <td>2162</td>\n",
       "      <td>Suburban</td>\n",
       "      <td>America/Chicago</td>\n",
       "      <td>Early years teacher</td>\n",
       "      <td>0.0</td>\n",
       "      <td>78.0</td>\n",
       "      <td>GED or Alternative Credential</td>\n",
       "      <td>Retired</td>\n",
       "      <td>39741.49</td>\n",
       "      <td>Married</td>\n",
       "      <td>Male</td>\n",
       "      <td>No</td>\n",
       "      <td>17.420079</td>\n",
       "      <td>4</td>\n",
       "      <td>1</td>\n",
       "      <td>0</td>\n",
       "      <td>No</td>\n",
       "      <td>Elective Admission</td>\n",
       "      <td>No</td>\n",
       "      <td>Yes</td>\n",
       "      <td>Medium</td>\n",
       "      <td>0.0</td>\n",
       "      <td>Yes</td>\n",
       "      <td>No</td>\n",
       "      <td>No</td>\n",
       "      <td>No</td>\n",
       "      <td>0.0</td>\n",
       "      <td>No</td>\n",
       "      <td>Yes</td>\n",
       "      <td>Yes</td>\n",
       "      <td>Blood Work</td>\n",
       "      <td>1.714879</td>\n",
       "      <td>2465.118965</td>\n",
       "      <td>12993.437350</td>\n",
       "      <td>3</td>\n",
       "      <td>5</td>\n",
       "      <td>5</td>\n",
       "      <td>3</td>\n",
       "      <td>4</td>\n",
       "      <td>5</td>\n",
       "      <td>5</td>\n",
       "      <td>5</td>\n",
       "    </tr>\n",
       "    <tr>\n",
       "      <th>4</th>\n",
       "      <td>5</td>\n",
       "      <td>C544523</td>\n",
       "      <td>5885f56b-d6da-43a3-8760-83583af94266</td>\n",
       "      <td>d2f0425877b10ed6bb381f3e2579424a</td>\n",
       "      <td>West Point</td>\n",
       "      <td>VA</td>\n",
       "      <td>King William</td>\n",
       "      <td>23181</td>\n",
       "      <td>37.59894</td>\n",
       "      <td>-76.88958</td>\n",
       "      <td>5287</td>\n",
       "      <td>Rural</td>\n",
       "      <td>America/New_York</td>\n",
       "      <td>Health promotion specialist</td>\n",
       "      <td>1.0</td>\n",
       "      <td>22.0</td>\n",
       "      <td>Regular High School Diploma</td>\n",
       "      <td>Full Time</td>\n",
       "      <td>1209.56</td>\n",
       "      <td>Widowed</td>\n",
       "      <td>Female</td>\n",
       "      <td>No</td>\n",
       "      <td>16.870524</td>\n",
       "      <td>5</td>\n",
       "      <td>0</td>\n",
       "      <td>2</td>\n",
       "      <td>Yes</td>\n",
       "      <td>Elective Admission</td>\n",
       "      <td>No</td>\n",
       "      <td>No</td>\n",
       "      <td>Low</td>\n",
       "      <td>0.0</td>\n",
       "      <td>No</td>\n",
       "      <td>No</td>\n",
       "      <td>Yes</td>\n",
       "      <td>No</td>\n",
       "      <td>0.0</td>\n",
       "      <td>Yes</td>\n",
       "      <td>No</td>\n",
       "      <td>No</td>\n",
       "      <td>CT Scan</td>\n",
       "      <td>1.254807</td>\n",
       "      <td>1885.655137</td>\n",
       "      <td>3716.525786</td>\n",
       "      <td>2</td>\n",
       "      <td>1</td>\n",
       "      <td>3</td>\n",
       "      <td>3</td>\n",
       "      <td>5</td>\n",
       "      <td>3</td>\n",
       "      <td>4</td>\n",
       "      <td>3</td>\n",
       "    </tr>\n",
       "    <tr>\n",
       "      <th>...</th>\n",
       "      <td>...</td>\n",
       "      <td>...</td>\n",
       "      <td>...</td>\n",
       "      <td>...</td>\n",
       "      <td>...</td>\n",
       "      <td>...</td>\n",
       "      <td>...</td>\n",
       "      <td>...</td>\n",
       "      <td>...</td>\n",
       "      <td>...</td>\n",
       "      <td>...</td>\n",
       "      <td>...</td>\n",
       "      <td>...</td>\n",
       "      <td>...</td>\n",
       "      <td>...</td>\n",
       "      <td>...</td>\n",
       "      <td>...</td>\n",
       "      <td>...</td>\n",
       "      <td>...</td>\n",
       "      <td>...</td>\n",
       "      <td>...</td>\n",
       "      <td>...</td>\n",
       "      <td>...</td>\n",
       "      <td>...</td>\n",
       "      <td>...</td>\n",
       "      <td>...</td>\n",
       "      <td>...</td>\n",
       "      <td>...</td>\n",
       "      <td>...</td>\n",
       "      <td>...</td>\n",
       "      <td>...</td>\n",
       "      <td>...</td>\n",
       "      <td>...</td>\n",
       "      <td>...</td>\n",
       "      <td>...</td>\n",
       "      <td>...</td>\n",
       "      <td>...</td>\n",
       "      <td>...</td>\n",
       "      <td>...</td>\n",
       "      <td>...</td>\n",
       "      <td>...</td>\n",
       "      <td>...</td>\n",
       "      <td>...</td>\n",
       "      <td>...</td>\n",
       "      <td>...</td>\n",
       "      <td>...</td>\n",
       "      <td>...</td>\n",
       "      <td>...</td>\n",
       "      <td>...</td>\n",
       "      <td>...</td>\n",
       "      <td>...</td>\n",
       "      <td>...</td>\n",
       "    </tr>\n",
       "    <tr>\n",
       "      <th>9995</th>\n",
       "      <td>9996</td>\n",
       "      <td>B863060</td>\n",
       "      <td>a25b594d-0328-486f-a9b9-0567eb0f9723</td>\n",
       "      <td>39184dc28cc038871912ccc4500049e5</td>\n",
       "      <td>Norlina</td>\n",
       "      <td>NC</td>\n",
       "      <td>Warren</td>\n",
       "      <td>27563</td>\n",
       "      <td>36.42886</td>\n",
       "      <td>-78.23716</td>\n",
       "      <td>4762</td>\n",
       "      <td>Urban</td>\n",
       "      <td>America/New_York</td>\n",
       "      <td>Programmer, multimedia</td>\n",
       "      <td>1.0</td>\n",
       "      <td>25.0</td>\n",
       "      <td>Bachelor's Degree</td>\n",
       "      <td>Student</td>\n",
       "      <td>45967.61</td>\n",
       "      <td>Widowed</td>\n",
       "      <td>Male</td>\n",
       "      <td>No</td>\n",
       "      <td>16.481612</td>\n",
       "      <td>4</td>\n",
       "      <td>2</td>\n",
       "      <td>1</td>\n",
       "      <td>No</td>\n",
       "      <td>Emergency Admission</td>\n",
       "      <td>Yes</td>\n",
       "      <td>No</td>\n",
       "      <td>Medium</td>\n",
       "      <td>1.0</td>\n",
       "      <td>No</td>\n",
       "      <td>No</td>\n",
       "      <td>No</td>\n",
       "      <td>No</td>\n",
       "      <td>1.0</td>\n",
       "      <td>No</td>\n",
       "      <td>Yes</td>\n",
       "      <td>No</td>\n",
       "      <td>Intravenous</td>\n",
       "      <td>51.561217</td>\n",
       "      <td>6651.241294</td>\n",
       "      <td>8927.642189</td>\n",
       "      <td>3</td>\n",
       "      <td>2</td>\n",
       "      <td>2</td>\n",
       "      <td>3</td>\n",
       "      <td>4</td>\n",
       "      <td>3</td>\n",
       "      <td>4</td>\n",
       "      <td>2</td>\n",
       "    </tr>\n",
       "    <tr>\n",
       "      <th>9996</th>\n",
       "      <td>9997</td>\n",
       "      <td>P712040</td>\n",
       "      <td>70711574-f7b1-4a17-b15f-48c54564b70f</td>\n",
       "      <td>3cd124ccd43147404292e883bf9ec55c</td>\n",
       "      <td>Milmay</td>\n",
       "      <td>NJ</td>\n",
       "      <td>Atlantic</td>\n",
       "      <td>8340</td>\n",
       "      <td>39.43609</td>\n",
       "      <td>-74.87302</td>\n",
       "      <td>1251</td>\n",
       "      <td>Urban</td>\n",
       "      <td>America/New_York</td>\n",
       "      <td>Restaurant manager, fast food</td>\n",
       "      <td>4.0</td>\n",
       "      <td>87.0</td>\n",
       "      <td>Regular High School Diploma</td>\n",
       "      <td>Full Time</td>\n",
       "      <td>14983.02</td>\n",
       "      <td>Widowed</td>\n",
       "      <td>Male</td>\n",
       "      <td>Yes</td>\n",
       "      <td>18.451601</td>\n",
       "      <td>5</td>\n",
       "      <td>0</td>\n",
       "      <td>0</td>\n",
       "      <td>No</td>\n",
       "      <td>Elective Admission</td>\n",
       "      <td>Yes</td>\n",
       "      <td>No</td>\n",
       "      <td>Medium</td>\n",
       "      <td>1.0</td>\n",
       "      <td>Yes</td>\n",
       "      <td>Yes</td>\n",
       "      <td>No</td>\n",
       "      <td>No</td>\n",
       "      <td>0.0</td>\n",
       "      <td>No</td>\n",
       "      <td>No</td>\n",
       "      <td>Yes</td>\n",
       "      <td>CT Scan</td>\n",
       "      <td>68.668237</td>\n",
       "      <td>7851.522660</td>\n",
       "      <td>28507.147340</td>\n",
       "      <td>3</td>\n",
       "      <td>3</td>\n",
       "      <td>4</td>\n",
       "      <td>2</td>\n",
       "      <td>5</td>\n",
       "      <td>3</td>\n",
       "      <td>4</td>\n",
       "      <td>4</td>\n",
       "    </tr>\n",
       "    <tr>\n",
       "      <th>9997</th>\n",
       "      <td>9998</td>\n",
       "      <td>R778890</td>\n",
       "      <td>1d79569d-8e0f-4180-a207-d67ee4527d26</td>\n",
       "      <td>41b770aeee97a5b9e7f69c906a8119d7</td>\n",
       "      <td>Southside</td>\n",
       "      <td>TN</td>\n",
       "      <td>Montgomery</td>\n",
       "      <td>37171</td>\n",
       "      <td>36.36655</td>\n",
       "      <td>-87.29988</td>\n",
       "      <td>532</td>\n",
       "      <td>Rural</td>\n",
       "      <td>America/Chicago</td>\n",
       "      <td>Psychologist, occupational</td>\n",
       "      <td>3.0</td>\n",
       "      <td>53.0</td>\n",
       "      <td>Regular High School Diploma</td>\n",
       "      <td>Full Time</td>\n",
       "      <td>65917.81</td>\n",
       "      <td>Separated</td>\n",
       "      <td>Female</td>\n",
       "      <td>Yes</td>\n",
       "      <td>15.752751</td>\n",
       "      <td>4</td>\n",
       "      <td>2</td>\n",
       "      <td>0</td>\n",
       "      <td>Yes</td>\n",
       "      <td>Elective Admission</td>\n",
       "      <td>Yes</td>\n",
       "      <td>No</td>\n",
       "      <td>High</td>\n",
       "      <td>1.0</td>\n",
       "      <td>No</td>\n",
       "      <td>No</td>\n",
       "      <td>No</td>\n",
       "      <td>No</td>\n",
       "      <td>1.0</td>\n",
       "      <td>Yes</td>\n",
       "      <td>No</td>\n",
       "      <td>No</td>\n",
       "      <td>Intravenous</td>\n",
       "      <td>1.001981</td>\n",
       "      <td>7725.953391</td>\n",
       "      <td>15281.214660</td>\n",
       "      <td>3</td>\n",
       "      <td>3</td>\n",
       "      <td>3</td>\n",
       "      <td>4</td>\n",
       "      <td>4</td>\n",
       "      <td>2</td>\n",
       "      <td>3</td>\n",
       "      <td>2</td>\n",
       "    </tr>\n",
       "    <tr>\n",
       "      <th>9998</th>\n",
       "      <td>9999</td>\n",
       "      <td>E344109</td>\n",
       "      <td>f5a68e69-2a60-409b-a92f-ac0847b27db0</td>\n",
       "      <td>2bb491ef5b1beb1fed758cc6885c167a</td>\n",
       "      <td>Quinn</td>\n",
       "      <td>SD</td>\n",
       "      <td>Pennington</td>\n",
       "      <td>57775</td>\n",
       "      <td>44.10354</td>\n",
       "      <td>-102.01593</td>\n",
       "      <td>271</td>\n",
       "      <td>Rural</td>\n",
       "      <td>America/Denver</td>\n",
       "      <td>Outdoor activities/education manager</td>\n",
       "      <td>3.0</td>\n",
       "      <td>43.0</td>\n",
       "      <td>Bachelor's Degree</td>\n",
       "      <td>Full Time</td>\n",
       "      <td>29702.32</td>\n",
       "      <td>Divorced</td>\n",
       "      <td>Male</td>\n",
       "      <td>Yes</td>\n",
       "      <td>21.956305</td>\n",
       "      <td>5</td>\n",
       "      <td>2</td>\n",
       "      <td>1</td>\n",
       "      <td>No</td>\n",
       "      <td>Emergency Admission</td>\n",
       "      <td>No</td>\n",
       "      <td>No</td>\n",
       "      <td>Medium</td>\n",
       "      <td>1.0</td>\n",
       "      <td>No</td>\n",
       "      <td>No</td>\n",
       "      <td>No</td>\n",
       "      <td>Yes</td>\n",
       "      <td>0.0</td>\n",
       "      <td>No</td>\n",
       "      <td>No</td>\n",
       "      <td>No</td>\n",
       "      <td>Blood Work</td>\n",
       "      <td>63.356903</td>\n",
       "      <td>8462.831883</td>\n",
       "      <td>7781.678412</td>\n",
       "      <td>5</td>\n",
       "      <td>5</td>\n",
       "      <td>3</td>\n",
       "      <td>4</td>\n",
       "      <td>4</td>\n",
       "      <td>3</td>\n",
       "      <td>4</td>\n",
       "      <td>3</td>\n",
       "    </tr>\n",
       "    <tr>\n",
       "      <th>9999</th>\n",
       "      <td>10000</td>\n",
       "      <td>I569847</td>\n",
       "      <td>bc482c02-f8c9-4423-99de-3db5e62a18d5</td>\n",
       "      <td>95663a202338000abdf7e09311c2a8a1</td>\n",
       "      <td>Coraopolis</td>\n",
       "      <td>PA</td>\n",
       "      <td>Allegheny</td>\n",
       "      <td>15108</td>\n",
       "      <td>40.49998</td>\n",
       "      <td>-80.19959</td>\n",
       "      <td>41524</td>\n",
       "      <td>Urban</td>\n",
       "      <td>America/New_York</td>\n",
       "      <td>Sports development officer</td>\n",
       "      <td>8.0</td>\n",
       "      <td>53.0</td>\n",
       "      <td>9th Grade to 12th Grade, No Diploma</td>\n",
       "      <td>Full Time</td>\n",
       "      <td>62682.63</td>\n",
       "      <td>Separated</td>\n",
       "      <td>Female</td>\n",
       "      <td>Yes</td>\n",
       "      <td>20.421883</td>\n",
       "      <td>5</td>\n",
       "      <td>0</td>\n",
       "      <td>1</td>\n",
       "      <td>No</td>\n",
       "      <td>Observation Admission</td>\n",
       "      <td>No</td>\n",
       "      <td>No</td>\n",
       "      <td>Low</td>\n",
       "      <td>1.0</td>\n",
       "      <td>Yes</td>\n",
       "      <td>No</td>\n",
       "      <td>Yes</td>\n",
       "      <td>No</td>\n",
       "      <td>0.0</td>\n",
       "      <td>Yes</td>\n",
       "      <td>No</td>\n",
       "      <td>No</td>\n",
       "      <td>Blood Work</td>\n",
       "      <td>70.850592</td>\n",
       "      <td>8700.856021</td>\n",
       "      <td>11643.189930</td>\n",
       "      <td>4</td>\n",
       "      <td>3</td>\n",
       "      <td>3</td>\n",
       "      <td>2</td>\n",
       "      <td>3</td>\n",
       "      <td>6</td>\n",
       "      <td>4</td>\n",
       "      <td>3</td>\n",
       "    </tr>\n",
       "  </tbody>\n",
       "</table>\n",
       "<p>10000 rows × 52 columns</p>\n",
       "</div>"
      ],
      "text/plain": [
       "      CaseOrder Customer_id                           Interaction  \\\n",
       "0             1     C412403  8cd49b13-f45a-4b47-a2bd-173ffa932c2f   \n",
       "1             2     Z919181  d2450b70-0337-4406-bdbb-bc1037f1734c   \n",
       "2             3     F995323  a2057123-abf5-4a2c-abad-8ffe33512562   \n",
       "3             4     A879973  1dec528d-eb34-4079-adce-0d7a40e82205   \n",
       "4             5     C544523  5885f56b-d6da-43a3-8760-83583af94266   \n",
       "...         ...         ...                                   ...   \n",
       "9995       9996     B863060  a25b594d-0328-486f-a9b9-0567eb0f9723   \n",
       "9996       9997     P712040  70711574-f7b1-4a17-b15f-48c54564b70f   \n",
       "9997       9998     R778890  1d79569d-8e0f-4180-a207-d67ee4527d26   \n",
       "9998       9999     E344109  f5a68e69-2a60-409b-a92f-ac0847b27db0   \n",
       "9999      10000     I569847  bc482c02-f8c9-4423-99de-3db5e62a18d5   \n",
       "\n",
       "                                   UID          City State        County  \\\n",
       "0     3a83ddb66e2ae73798bdf1d705dc0932           Eva    AL        Morgan   \n",
       "1     176354c5eef714957d486009feabf195      Marianna    FL       Jackson   \n",
       "2     e19a0fa00aeda885b8a436757e889bc9   Sioux Falls    SD     Minnehaha   \n",
       "3     cd17d7b6d152cb6f23957346d11c3f07  New Richland    MN        Waseca   \n",
       "4     d2f0425877b10ed6bb381f3e2579424a    West Point    VA  King William   \n",
       "...                                ...           ...   ...           ...   \n",
       "9995  39184dc28cc038871912ccc4500049e5       Norlina    NC        Warren   \n",
       "9996  3cd124ccd43147404292e883bf9ec55c        Milmay    NJ      Atlantic   \n",
       "9997  41b770aeee97a5b9e7f69c906a8119d7     Southside    TN    Montgomery   \n",
       "9998  2bb491ef5b1beb1fed758cc6885c167a         Quinn    SD    Pennington   \n",
       "9999  95663a202338000abdf7e09311c2a8a1    Coraopolis    PA     Allegheny   \n",
       "\n",
       "        Zip  Latitude  Longitude  Population      Area          Timezone  \\\n",
       "0     35621  34.34960  -86.72508        2951  Suburban   America/Chicago   \n",
       "1     32446  30.84513  -85.22907       11303     Urban   America/Chicago   \n",
       "2     57110  43.54321  -96.63772       17125  Suburban   America/Chicago   \n",
       "3     56072  43.89744  -93.51479        2162  Suburban   America/Chicago   \n",
       "4     23181  37.59894  -76.88958        5287     Rural  America/New_York   \n",
       "...     ...       ...        ...         ...       ...               ...   \n",
       "9995  27563  36.42886  -78.23716        4762     Urban  America/New_York   \n",
       "9996   8340  39.43609  -74.87302        1251     Urban  America/New_York   \n",
       "9997  37171  36.36655  -87.29988         532     Rural   America/Chicago   \n",
       "9998  57775  44.10354 -102.01593         271     Rural    America/Denver   \n",
       "9999  15108  40.49998  -80.19959       41524     Urban  America/New_York   \n",
       "\n",
       "                                       Job  Children   Age  \\\n",
       "0         Psychologist, sport and exercise       1.0  53.0   \n",
       "1             Community development worker       3.0  51.0   \n",
       "2                  Chief Executive Officer       3.0  53.0   \n",
       "3                      Early years teacher       0.0  78.0   \n",
       "4              Health promotion specialist       1.0  22.0   \n",
       "...                                    ...       ...   ...   \n",
       "9995                Programmer, multimedia       1.0  25.0   \n",
       "9996         Restaurant manager, fast food       4.0  87.0   \n",
       "9997            Psychologist, occupational       3.0  53.0   \n",
       "9998  Outdoor activities/education manager       3.0  43.0   \n",
       "9999            Sports development officer       8.0  53.0   \n",
       "\n",
       "                                     Education Employment    Income  \\\n",
       "0               Some College, Less than 1 Year  Full Time  86575.93   \n",
       "1     Some College, 1 or More Years, No Degree  Full Time  46805.99   \n",
       "2     Some College, 1 or More Years, No Degree    Retired  14370.14   \n",
       "3                GED or Alternative Credential    Retired  39741.49   \n",
       "4                  Regular High School Diploma  Full Time   1209.56   \n",
       "...                                        ...        ...       ...   \n",
       "9995                         Bachelor's Degree    Student  45967.61   \n",
       "9996               Regular High School Diploma  Full Time  14983.02   \n",
       "9997               Regular High School Diploma  Full Time  65917.81   \n",
       "9998                         Bachelor's Degree  Full Time  29702.32   \n",
       "9999       9th Grade to 12th Grade, No Diploma  Full Time  62682.63   \n",
       "\n",
       "        Marital  Gender Readmission  Vitamin_D_level  Primary_visits  \\\n",
       "0      Divorced    Male          No        17.802330               6   \n",
       "1       Married  Female          No        18.994640               4   \n",
       "2       Widowed  Female          No        17.415889               4   \n",
       "3       Married    Male          No        17.420079               4   \n",
       "4       Widowed  Female          No        16.870524               5   \n",
       "...         ...     ...         ...              ...             ...   \n",
       "9995    Widowed    Male          No        16.481612               4   \n",
       "9996    Widowed    Male         Yes        18.451601               5   \n",
       "9997  Separated  Female         Yes        15.752751               4   \n",
       "9998   Divorced    Male         Yes        21.956305               5   \n",
       "9999  Separated  Female         Yes        20.421883               5   \n",
       "\n",
       "      Full_meals_eaten  Vitamin_D_supplements Habitual_soft_drinks  \\\n",
       "0                    0                      0                   No   \n",
       "1                    2                      1                   No   \n",
       "2                    1                      0                   No   \n",
       "3                    1                      0                   No   \n",
       "4                    0                      2                  Yes   \n",
       "...                ...                    ...                  ...   \n",
       "9995                 2                      1                   No   \n",
       "9996                 0                      0                   No   \n",
       "9997                 2                      0                  Yes   \n",
       "9998                 2                      1                   No   \n",
       "9999                 0                      1                   No   \n",
       "\n",
       "        Method_of_admission High_blood_pressure Stroke Complication_risk  \\\n",
       "0       Emergency Admission                 Yes     No            Medium   \n",
       "1       Emergency Admission                 Yes     No              High   \n",
       "2        Elective Admission                 Yes     No            Medium   \n",
       "3        Elective Admission                  No    Yes            Medium   \n",
       "4        Elective Admission                  No     No               Low   \n",
       "...                     ...                 ...    ...               ...   \n",
       "9995    Emergency Admission                 Yes     No            Medium   \n",
       "9996     Elective Admission                 Yes     No            Medium   \n",
       "9997     Elective Admission                 Yes     No              High   \n",
       "9998    Emergency Admission                  No     No            Medium   \n",
       "9999  Observation Admission                  No     No               Low   \n",
       "\n",
       "      Overweight Arthritis Diabetes Hyperlipidemia Back_pain  Anxiety  \\\n",
       "0            0.0       Yes      Yes             No       Yes      1.0   \n",
       "1            1.0        No       No             No        No      0.0   \n",
       "2            1.0        No      Yes             No        No      0.0   \n",
       "3            0.0       Yes       No             No        No      0.0   \n",
       "4            0.0        No       No            Yes        No      0.0   \n",
       "...          ...       ...      ...            ...       ...      ...   \n",
       "9995         1.0        No       No             No        No      1.0   \n",
       "9996         1.0       Yes      Yes             No        No      0.0   \n",
       "9997         1.0        No       No             No        No      1.0   \n",
       "9998         1.0        No       No             No       Yes      0.0   \n",
       "9999         1.0       Yes       No            Yes        No      0.0   \n",
       "\n",
       "     Allergic_rhinitis Reflux_esophagitis Asthma     Services  Hospital_days  \\\n",
       "0                  Yes                 No    Yes   Blood Work      10.585770   \n",
       "1                   No                Yes     No  Intravenous      15.129562   \n",
       "2                   No                 No     No   Blood Work       4.772177   \n",
       "3                   No                Yes    Yes   Blood Work       1.714879   \n",
       "4                  Yes                 No     No      CT Scan       1.254807   \n",
       "...                ...                ...    ...          ...            ...   \n",
       "9995                No                Yes     No  Intravenous      51.561217   \n",
       "9996                No                 No    Yes      CT Scan      68.668237   \n",
       "9997               Yes                 No     No  Intravenous       1.001981   \n",
       "9998                No                 No     No   Blood Work      63.356903   \n",
       "9999               Yes                 No     No   Blood Work      70.850592   \n",
       "\n",
       "      Daily_charge  Additional_charges  Timely_admission  Timely_treatment  \\\n",
       "0      3191.048774        17939.403420                 3                 3   \n",
       "1      4214.905346        17612.998120                 3                 4   \n",
       "2      2177.586768        17505.192460                 2                 4   \n",
       "3      2465.118965        12993.437350                 3                 5   \n",
       "4      1885.655137         3716.525786                 2                 1   \n",
       "...            ...                 ...               ...               ...   \n",
       "9995   6651.241294         8927.642189                 3                 2   \n",
       "9996   7851.522660        28507.147340                 3                 3   \n",
       "9997   7725.953391        15281.214660                 3                 3   \n",
       "9998   8462.831883         7781.678412                 5                 5   \n",
       "9999   8700.856021        11643.189930                 4                 3   \n",
       "\n",
       "      Timely_visits  Reliability  Options  Hours_of_treatment  \\\n",
       "0                 2            2        4                   3   \n",
       "1                 3            4        4                   4   \n",
       "2                 4            4        3                   4   \n",
       "3                 5            3        4                   5   \n",
       "4                 3            3        5                   3   \n",
       "...             ...          ...      ...                 ...   \n",
       "9995              2            3        4                   3   \n",
       "9996              4            2        5                   3   \n",
       "9997              3            4        4                   2   \n",
       "9998              3            4        4                   3   \n",
       "9999              3            2        3                   6   \n",
       "\n",
       "      Courteous_staff  Active_listening_from_doctor  \n",
       "0                   3                             4  \n",
       "1                   3                             3  \n",
       "2                   3                             3  \n",
       "3                   5                             5  \n",
       "4                   4                             3  \n",
       "...               ...                           ...  \n",
       "9995                4                             2  \n",
       "9996                4                             4  \n",
       "9997                3                             2  \n",
       "9998                4                             3  \n",
       "9999                4                             3  \n",
       "\n",
       "[10000 rows x 52 columns]"
      ]
     },
     "execution_count": 68,
     "metadata": {},
     "output_type": "execute_result"
    }
   ],
   "source": [
    "medical_cleaning"
   ]
  },
  {
   "cell_type": "code",
   "execution_count": 69,
   "metadata": {},
   "outputs": [],
   "source": [
    "medical_cleaning.to_csv(r'C:\\Users\\Jennifer\\Desktop\\WGU\\D206_PA_final.csv')"
   ]
  },
  {
   "cell_type": "markdown",
   "metadata": {},
   "source": [
    "### D6. Summary of Limitations of the Data-Cleaning Process"
   ]
  },
  {
   "cell_type": "markdown",
   "metadata": {},
   "source": [
    "The presence of missing values for age, income, and hospital days could potentially impact the final result of the research question as they are critical variables. Health generally declines with age, which is likely a predictor of hospital readmissions. Missing values in the age variable were imputed with the median. This resulted in a transformation from a uniform distribution to a normal distribution. Imputation was tried with mean, but generated the same result, a normal distribution. The limitations of being unable to access the original data source, and the patient's actual respective ages is producing a limitation on the data analysis that could have been cured with access to the original data source. "
   ]
  },
  {
   "cell_type": "markdown",
   "metadata": {},
   "source": [
    "### D7. Effect of Limitations of the Research Question"
   ]
  },
  {
   "cell_type": "markdown",
   "metadata": {},
   "source": [
    "The implications of retaining all outliers could present the possibility of skewing the data analysis at some point further in the data analysis process. However, as they were within expected ranges, and did not appear to be a result of human error, these outliers were retained as they can predict a patient being readmitted to the hospital."
   ]
  },
  {
   "cell_type": "markdown",
   "metadata": {},
   "source": [
    "## E. Application of Principal Component Analysis (PCA) to Identify Significant Features"
   ]
  },
  {
   "cell_type": "markdown",
   "metadata": {},
   "source": [
    "### E1. Principal Components in the Data Set"
   ]
  },
  {
   "cell_type": "markdown",
   "metadata": {},
   "source": [
    "The following numeric variables have been selected for performing principal component analysis: Age, Income, Hospital Days, Daily charge, Additional charges."
   ]
  },
  {
   "cell_type": "code",
   "execution_count": 70,
   "metadata": {},
   "outputs": [],
   "source": [
    "medical_pca=medical_cleaning[['Age','Income','Hospital_days','Daily_charge','Additional_charges']]"
   ]
  },
  {
   "cell_type": "markdown",
   "metadata": {},
   "source": [
    "Normalizing the data and applying PCA"
   ]
  },
  {
   "cell_type": "code",
   "execution_count": 71,
   "metadata": {},
   "outputs": [],
   "source": [
    "medical_pca_normalized=(medical_pca - medical_pca.mean())/medical_pca.std()"
   ]
  },
  {
   "cell_type": "code",
   "execution_count": 72,
   "metadata": {},
   "outputs": [
    {
     "data": {
      "text/plain": [
       "PCA(n_components=5)"
      ]
     },
     "execution_count": 72,
     "metadata": {},
     "output_type": "execute_result"
    }
   ],
   "source": [
    "pca=PCA(n_components=medical_pca.shape[1])\n",
    "pca.fit(medical_pca_normalized)"
   ]
  },
  {
   "cell_type": "code",
   "execution_count": 73,
   "metadata": {},
   "outputs": [],
   "source": [
    "medical_pca2=pd.DataFrame(pca.transform(medical_pca_normalized),columns=['PC1','PC2','PC3','PC4','PC5'])"
   ]
  },
  {
   "cell_type": "markdown",
   "metadata": {},
   "source": [
    "PCA Loadings"
   ]
  },
  {
   "cell_type": "code",
   "execution_count": 74,
   "metadata": {
    "scrolled": true
   },
   "outputs": [
    {
     "data": {
      "text/html": [
       "<div>\n",
       "<style scoped>\n",
       "    .dataframe tbody tr th:only-of-type {\n",
       "        vertical-align: middle;\n",
       "    }\n",
       "\n",
       "    .dataframe tbody tr th {\n",
       "        vertical-align: top;\n",
       "    }\n",
       "\n",
       "    .dataframe thead th {\n",
       "        text-align: right;\n",
       "    }\n",
       "</style>\n",
       "<table border=\"1\" class=\"dataframe\">\n",
       "  <thead>\n",
       "    <tr style=\"text-align: right;\">\n",
       "      <th></th>\n",
       "      <th>PC1</th>\n",
       "      <th>PC2</th>\n",
       "      <th>PC3</th>\n",
       "      <th>PC4</th>\n",
       "      <th>PC5</th>\n",
       "    </tr>\n",
       "  </thead>\n",
       "  <tbody>\n",
       "    <tr>\n",
       "      <th>Age</th>\n",
       "      <td>0.667626</td>\n",
       "      <td>-0.232212</td>\n",
       "      <td>-0.000917</td>\n",
       "      <td>-0.121271</td>\n",
       "      <td>-0.696883</td>\n",
       "    </tr>\n",
       "    <tr>\n",
       "      <th>Income</th>\n",
       "      <td>-0.011351</td>\n",
       "      <td>-0.012838</td>\n",
       "      <td>0.999818</td>\n",
       "      <td>-0.004344</td>\n",
       "      <td>-0.007157</td>\n",
       "    </tr>\n",
       "    <tr>\n",
       "      <th>Hospital_days</th>\n",
       "      <td>0.220135</td>\n",
       "      <td>0.672379</td>\n",
       "      <td>0.008874</td>\n",
       "      <td>-0.698304</td>\n",
       "      <td>0.108353</td>\n",
       "    </tr>\n",
       "    <tr>\n",
       "      <th>Daily_charge</th>\n",
       "      <td>0.245104</td>\n",
       "      <td>0.662929</td>\n",
       "      <td>0.013560</td>\n",
       "      <td>0.699039</td>\n",
       "      <td>-0.107749</td>\n",
       "    </tr>\n",
       "    <tr>\n",
       "      <th>Additional_charges</th>\n",
       "      <td>0.667541</td>\n",
       "      <td>-0.233118</td>\n",
       "      <td>0.010013</td>\n",
       "      <td>0.094824</td>\n",
       "      <td>0.700680</td>\n",
       "    </tr>\n",
       "  </tbody>\n",
       "</table>\n",
       "</div>"
      ],
      "text/plain": [
       "                         PC1       PC2       PC3       PC4       PC5\n",
       "Age                 0.667626 -0.232212 -0.000917 -0.121271 -0.696883\n",
       "Income             -0.011351 -0.012838  0.999818 -0.004344 -0.007157\n",
       "Hospital_days       0.220135  0.672379  0.008874 -0.698304  0.108353\n",
       "Daily_charge        0.245104  0.662929  0.013560  0.699039 -0.107749\n",
       "Additional_charges  0.667541 -0.233118  0.010013  0.094824  0.700680"
      ]
     },
     "execution_count": 74,
     "metadata": {},
     "output_type": "execute_result"
    }
   ],
   "source": [
    "loadings=pd.DataFrame(pca.components_.T,columns=['PC1','PC2','PC3','PC4','PC5'],index=medical_pca_normalized.columns)\n",
    "loadings"
   ]
  },
  {
   "cell_type": "markdown",
   "metadata": {},
   "source": [
    "### E2. Method to Identify Principal Components"
   ]
  },
  {
   "cell_type": "code",
   "execution_count": 75,
   "metadata": {},
   "outputs": [],
   "source": [
    "cov_matrix=np.dot(medical_pca_normalized.T,medical_pca_normalized) / medical_pca.shape[0]\n",
    "eigenvalues=[np.dot(eigenvector.T, np.dot(cov_matrix, eigenvector)) for eigenvector in pca.components_]"
   ]
  },
  {
   "cell_type": "code",
   "execution_count": 76,
   "metadata": {
    "scrolled": true
   },
   "outputs": [
    {
     "data": {
      "image/png": "[encoded data removed]",
      "text/plain": [
       "<Figure size 432x288 with 1 Axes>"
      ]
     },
     "metadata": {
      "needs_background": "light"
     },
     "output_type": "display_data"
    }
   ],
   "source": [
    "plt.plot(eigenvalues)\n",
    "plt.xlabel('number of components')\n",
    "plt.ylabel('eigenvalue')\n",
    "plt.axhline(y=1, color='r', linestyle='-')\n",
    "plt.show()"
   ]
  },
  {
   "cell_type": "markdown",
   "metadata": {},
   "source": [
    "Following the Kaiser Rule, PC1 and PC2 will be kept as they have eigenvalues greater than 1. This corresponds to them being better at explaining the variance within the dataset (Larose & Larose, 2019)."
   ]
  },
  {
   "cell_type": "markdown",
   "metadata": {},
   "source": [
    "### E3. How the Organization will Benefit from the PCA Results"
   ]
  },
  {
   "cell_type": "markdown",
   "metadata": {},
   "source": [
    "The results of the principal component analysis will allow for data reduction and determination of which components are most important for explaining covariation. In this case, PC1 and PC2, based upon their respective eigenvalues being greater than 1, are the best components for explaining the covariation within the data (Larose & Larose, 2019). Reducing the data will also assist machine learning algorithms to run faster without having to process the extraneous variables (Larose & Larose, 2019)."
   ]
  },
  {
   "cell_type": "markdown",
   "metadata": {},
   "source": [
    "### Code References"
   ]
  },
  {
   "cell_type": "markdown",
   "metadata": {},
   "source": [
    "Larose, C.D., & Larose, D.T. (2019). *Data science using Python and R.* John Wiley & Sons.\n",
    "\n",
    "Vallisneri, M. (2018). *Python statistics essential training.* LinkedIn Learning.\n",
    "https://www.linkedin.com/learning/python-statistics-essential-training/the-structure-of-data?u=2045532"
   ]
  },
  {
   "cell_type": "markdown",
   "metadata": {},
   "source": [
    "### Additional Sources"
   ]
  },
  {
   "cell_type": "markdown",
   "metadata": {},
   "source": [
    "Burger, M. (2019). *Coping with missing, invalid and duplicate data in R.* PluralSight.\n",
    "https://app.pluralsight.com/library/courses/coping-missing-invalid-duplicate-data-r/\n",
    "\n",
    "Poulson, B. (2016). *Data science foundations: Data mining.* LinkedIn Learning.\n",
    "https://www.linkedin.com/learning/data-science-foundations-data-mining/"
   ]
  }
 ],
 "metadata": {
  "kernelspec": {
   "display_name": "Python 3",
   "language": "python",
   "name": "python3"
  },
  "language_info": {
   "codemirror_mode": {
    "name": "ipython",
    "version": 3
   },
   "file_extension": ".py",
   "mimetype": "text/x-python",
   "name": "python",
   "nbconvert_exporter": "python",
   "pygments_lexer": "ipython3",
   "version": "3.8.5"
  }
 },
 "nbformat": 4,
 "nbformat_minor": 4
}
