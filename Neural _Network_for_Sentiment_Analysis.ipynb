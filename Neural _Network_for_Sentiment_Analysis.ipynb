{
 "cells": [
  {
   "cell_type": "markdown",
   "metadata": {},
   "source": [
    "# Neural Network for Sentiment Analysis"
   ]
  },
  {
   "cell_type": "markdown",
   "metadata": {},
   "source": [
    "## Table of Contents\n",
    "[Part I: Research Question](#P1)<br>\n",
    "[A1](#A1)<br>\n",
    "[A2](#A2)<br>\n",
    "[A3](#A3)<br>\n",
    "[Part II: Data Preparation](#P2)<br>\n",
    "[B1](#B1)<br>\n",
    "[B1a](#B1a)<br>\n",
    "[B1b](#B1b)<br>\n",
    "[B1c](#B1c)<br>\n",
    "[B1d](#B1d)<br>\n",
    "[B2](#B2)<br>\n",
    "[B3](#B3)<br>\n",
    "[B4](#B4)<br>\n",
    "[B5](#B5)<br>\n",
    "[B6](#B6)<br>\n",
    "[Part III: Network Architecture](#P3)<br>\n",
    "[C1](#C1)<br>\n",
    "[C2](#C2)<br>\n",
    "[C3](#C3)<br>\n",
    "[Part IV: Model Evaluation](#P4)<br>\n",
    "[D1](#D1)<br>\n",
    "[D2](#D2)<br>\n",
    "[D3](#D3)<br>\n",
    "[D4](#D4)<br>\n",
    "[Part V: Summary and Recommendations](#P5)<br>\n",
    "[E](#E)<br>\n",
    "[F](#F)<br>\n",
    "[G](#G)<br>\n",
    "[H](#H)<br>\n",
    "[Code Sources](#I)<br>\n",
    "[Additional Sources](#J)<br>"
   ]
  },
  {
   "cell_type": "markdown",
   "metadata": {},
   "source": [
    "<a id=\"P1\"></a>\n",
    "## Part I: Research Question"
   ]
  },
  {
   "cell_type": "markdown",
   "metadata": {},
   "source": [
    "<a id=\"A1\"></a>\n",
    "### A1. Research Question that will be answered using Neural Network Models and NLP Techniques, relevant to sentiment analysis captured in your chosen dataset(s). "
   ]
  },
  {
   "cell_type": "markdown",
   "metadata": {},
   "source": [
    "Utilizing neural network models and natural language processing techniques, is it possible to predict a customer's review sentiment and classify it as either positive or negative, based on the text of the review?"
   ]
  },
  {
   "cell_type": "markdown",
   "metadata": {},
   "source": [
    "<a id=\"A2\"></a>\n",
    "### A2. Objectives/Goals of the Data Analysis given the scenario presented"
   ]
  },
  {
   "cell_type": "markdown",
   "metadata": {},
   "source": [
    "The goal of this analysis is to build a neural network model that is able to predict a customer's sentiment, positive or negative, based on the text of their review.  The objective is to build a model capable of detecting patterns within existing customer reviews, so that it can be applied to future reviews."
   ]
  },
  {
   "cell_type": "markdown",
   "metadata": {},
   "source": [
    "<a id=\"A3\"></a>\n",
    "### A3. Identify a Type of Neural Network Capable of Performing a Text Classification Task that can be Trained to Produce Useful Predictions on Text Sequences on the Selected Data Set"
   ]
  },
  {
   "cell_type": "markdown",
   "metadata": {},
   "source": [
    "Recurrent Neural Networks (RNN) are often used for sentiment analysis and tasks that require classification of text data."
   ]
  },
  {
   "cell_type": "markdown",
   "metadata": {},
   "source": [
    "<a id=\"P2\"></a>\n",
    "## Part II: Data Preparation"
   ]
  },
  {
   "cell_type": "markdown",
   "metadata": {},
   "source": [
    "<a id=\"B1\"></a>\n",
    "### B1. Perform Exploratory Data Analysis on the Chosen Dataset, and include explanation of each of the following:"
   ]
  },
  {
   "cell_type": "code",
   "execution_count": 1,
   "metadata": {},
   "outputs": [
    {
     "data": {
      "text/plain": [
       "('Python version used during this analysis:', '3.8.5')"
      ]
     },
     "execution_count": 1,
     "metadata": {},
     "output_type": "execute_result"
    }
   ],
   "source": [
    "from platform import python_version\n",
    "(\"Python version used during this analysis:\", python_version())"
   ]
  },
  {
   "cell_type": "code",
   "execution_count": 2,
   "metadata": {},
   "outputs": [
    {
     "name": "stdout",
     "output_type": "stream",
     "text": [
      "Done.\n"
     ]
    },
    {
     "name": "stderr",
     "output_type": "stream",
     "text": [
      "[nltk_data] Downloading package punkt to\n",
      "[nltk_data]     C:\\Users\\Jennifer\\AppData\\Roaming\\nltk_data...\n",
      "[nltk_data]   Package punkt is already up-to-date!\n",
      "[nltk_data] Downloading package stopwords to\n",
      "[nltk_data]     C:\\Users\\Jennifer\\AppData\\Roaming\\nltk_data...\n",
      "[nltk_data]   Package stopwords is already up-to-date!\n",
      "[nltk_data] Downloading package wordnet to\n",
      "[nltk_data]     C:\\Users\\Jennifer\\AppData\\Roaming\\nltk_data...\n",
      "[nltk_data]   Package wordnet is already up-to-date!\n"
     ]
    }
   ],
   "source": [
    "import string\n",
    "import numpy as np\n",
    "import pandas as pd\n",
    "from pandas import Series, DataFrame\n",
    "import seaborn as sns\n",
    "\n",
    "#import statistics\n",
    "#from scipy import stats\n",
    "\n",
    "import matplotlib\n",
    "import matplotlib.pyplot as plt\n",
    "%matplotlib inline \n",
    "\n",
    "#!pip install plotly\n",
    "import plotly.offline as py\n",
    "import plotly.graph_objs as go\n",
    "import plotly.tools as tls\n",
    "import plotly.express as px\n",
    "\n",
    "import sklearn\n",
    "from sklearn import preprocessing\n",
    "from sklearn import datasets\n",
    "from sklearn.datasets import make_classification #for confusion matrix\n",
    "from sklearn import metrics\n",
    "from sklearn.metrics import classification_report\n",
    "from sklearn.metrics import accuracy_score\n",
    "from sklearn.metrics import confusion_matrix, ConfusionMatrixDisplay\n",
    "from sklearn.model_selection import train_test_split, cross_val_score, GridSearchCV\n",
    "from sklearn.svm import SVC #for confusion matrix\n",
    "\n",
    "import nltk\n",
    "from nltk.tokenize import word_tokenize, RegexpTokenizer, sent_tokenize\n",
    "from nltk.corpus import stopwords\n",
    "from nltk.stem import PorterStemmer, WordNetLemmatizer\n",
    "#code wasn't working correctly without downloading the following:\n",
    "nltk.download('punkt')\n",
    "nltk.download('stopwords')\n",
    "nltk.download('wordnet')\n",
    "\n",
    "import os\n",
    "import datetime\n",
    "import re\n",
    "#!pip install wordcloud\n",
    "#from wordcloud import WordCloud, STOPWORDS, ImageColorGenerator #to make a word cloud\n",
    "#from PIL import Image #pillow with wordcloud for image manipulation\n",
    "\n",
    "import warnings\n",
    "warnings.filterwarnings('ignore')\n",
    "print(\"Done.\")\n"
   ]
  },
  {
   "cell_type": "code",
   "execution_count": 3,
   "metadata": {},
   "outputs": [
    {
     "name": "stdout",
     "output_type": "stream",
     "text": [
      "Done.\n"
     ]
    }
   ],
   "source": [
    "import tensorflow as tf\n",
    "#import tensorflow.keras\n",
    "#from tensorflow.keras import *\n",
    "#from tensorflow.keras import Sequential\n",
    "from tensorflow.keras.models import Sequential\n",
    "from tensorflow.keras.preprocessing import sequence\n",
    "from tensorflow.keras.preprocessing.sequence import pad_sequences\n",
    "from tensorflow.keras.preprocessing.text import Tokenizer\n",
    "#from tensorflow.keras.layers import *\n",
    "from tensorflow.keras.layers import LSTM, Dropout, Dense, Embedding\n",
    "from tensorflow.keras.callbacks import EarlyStopping\n",
    "print(\"Done.\")"
   ]
  },
  {
   "cell_type": "markdown",
   "metadata": {},
   "source": [
    "Adjusting Display Size"
   ]
  },
  {
   "cell_type": "code",
   "execution_count": 4,
   "metadata": {},
   "outputs": [
    {
     "data": {
      "text/html": [
       "<style>.container { width:95% !important; }</style>"
      ],
      "text/plain": [
       "<IPython.core.display.HTML object>"
      ]
     },
     "metadata": {},
     "output_type": "display_data"
    },
    {
     "name": "stdout",
     "output_type": "stream",
     "text": [
      "Display size adjusted.\n"
     ]
    }
   ],
   "source": [
    "from IPython.core.display import display, HTML\n",
    "display(HTML(\"<style>.container { width:95% !important; }</style>\"))\n",
    "pd.set_option('display.max_columns', 80)\n",
    "pd.set_option('max_colwidth', 400) #increasing panda's column width so I can see the whole review\n",
    "print(\"Display size adjusted.\")"
   ]
  },
  {
   "cell_type": "markdown",
   "metadata": {},
   "source": []
  },
  {
   "cell_type": "code",
   "execution_count": 5,
   "metadata": {},
   "outputs": [
    {
     "name": "stdout",
     "output_type": "stream",
     "text": [
      "Imported.\n"
     ]
    }
   ],
   "source": [
    "df_amazon=pd.read_csv('Desktop/WGU/D213/amazon_cells_labelled.txt', delimiter='\\t', header=None)\n",
    "df_imdb=pd.read_csv('Desktop/WGU/D213/imdb_labelled.txt', delimiter='\\t', header=None)\n",
    "df_yelp=pd.read_csv('Desktop/WGU/D213/yelp_labelled.txt', delimiter='\\t', header=None)\n",
    "print(\"Imported.\")"
   ]
  },
  {
   "cell_type": "code",
   "execution_count": 6,
   "metadata": {},
   "outputs": [
    {
     "data": {
      "text/plain": [
       "(1000, 2)"
      ]
     },
     "execution_count": 6,
     "metadata": {},
     "output_type": "execute_result"
    }
   ],
   "source": [
    "df_yelp.shape"
   ]
  },
  {
   "cell_type": "code",
   "execution_count": 7,
   "metadata": {},
   "outputs": [
    {
     "data": {
      "text/plain": [
       "(1000, 2)"
      ]
     },
     "execution_count": 7,
     "metadata": {},
     "output_type": "execute_result"
    }
   ],
   "source": [
    "df_amazon.shape"
   ]
  },
  {
   "cell_type": "code",
   "execution_count": 8,
   "metadata": {},
   "outputs": [
    {
     "data": {
      "text/plain": [
       "(748, 2)"
      ]
     },
     "execution_count": 8,
     "metadata": {},
     "output_type": "execute_result"
    }
   ],
   "source": [
    "df_imdb.shape"
   ]
  },
  {
   "cell_type": "code",
   "execution_count": 9,
   "metadata": {},
   "outputs": [],
   "source": [
    "df=pd.concat((df_amazon, df_imdb, df_yelp), ignore_index=True)"
   ]
  },
  {
   "cell_type": "code",
   "execution_count": 10,
   "metadata": {},
   "outputs": [
    {
     "data": {
      "text/plain": [
       "(2748, 2)"
      ]
     },
     "execution_count": 10,
     "metadata": {},
     "output_type": "execute_result"
    }
   ],
   "source": [
    "df.shape"
   ]
  },
  {
   "cell_type": "code",
   "execution_count": 11,
   "metadata": {},
   "outputs": [
    {
     "name": "stdout",
     "output_type": "stream",
     "text": [
      "<class 'pandas.core.frame.DataFrame'>\n",
      "RangeIndex: 2748 entries, 0 to 2747\n",
      "Data columns (total 2 columns):\n",
      " #   Column  Non-Null Count  Dtype \n",
      "---  ------  --------------  ----- \n",
      " 0   0       2748 non-null   object\n",
      " 1   1       2748 non-null   int64 \n",
      "dtypes: int64(1), object(1)\n",
      "memory usage: 43.1+ KB\n"
     ]
    }
   ],
   "source": [
    "df.info()"
   ]
  },
  {
   "cell_type": "code",
   "execution_count": 12,
   "metadata": {},
   "outputs": [],
   "source": [
    "df.columns=['review','sentiment'] #naming the columns\n",
    "df['total_words'] = [len(x.split()) for x in df['review'].tolist()] #creating new column\n",
    "df['total_char'] = df['review'].apply(len)"
   ]
  },
  {
   "cell_type": "code",
   "execution_count": 13,
   "metadata": {},
   "outputs": [
    {
     "name": "stdout",
     "output_type": "stream",
     "text": [
      "<class 'pandas.core.frame.DataFrame'>\n",
      "RangeIndex: 2748 entries, 0 to 2747\n",
      "Data columns (total 4 columns):\n",
      " #   Column       Non-Null Count  Dtype \n",
      "---  ------       --------------  ----- \n",
      " 0   review       2748 non-null   object\n",
      " 1   sentiment    2748 non-null   int64 \n",
      " 2   total_words  2748 non-null   int64 \n",
      " 3   total_char   2748 non-null   int64 \n",
      "dtypes: int64(3), object(1)\n",
      "memory usage: 86.0+ KB\n"
     ]
    }
   ],
   "source": [
    "df.info()"
   ]
  },
  {
   "cell_type": "code",
   "execution_count": 14,
   "metadata": {},
   "outputs": [
    {
     "data": {
      "text/html": [
       "<div>\n",
       "<style scoped>\n",
       "    .dataframe tbody tr th:only-of-type {\n",
       "        vertical-align: middle;\n",
       "    }\n",
       "\n",
       "    .dataframe tbody tr th {\n",
       "        vertical-align: top;\n",
       "    }\n",
       "\n",
       "    .dataframe thead th {\n",
       "        text-align: right;\n",
       "    }\n",
       "</style>\n",
       "<table border=\"1\" class=\"dataframe\">\n",
       "  <thead>\n",
       "    <tr style=\"text-align: right;\">\n",
       "      <th></th>\n",
       "      <th>review</th>\n",
       "      <th>sentiment</th>\n",
       "      <th>total_words</th>\n",
       "      <th>total_char</th>\n",
       "    </tr>\n",
       "  </thead>\n",
       "  <tbody>\n",
       "    <tr>\n",
       "      <th>0</th>\n",
       "      <td>So there is no way for me to plug it in here in the US unless I go by a converter.</td>\n",
       "      <td>0</td>\n",
       "      <td>21</td>\n",
       "      <td>82</td>\n",
       "    </tr>\n",
       "    <tr>\n",
       "      <th>1</th>\n",
       "      <td>Good case, Excellent value.</td>\n",
       "      <td>1</td>\n",
       "      <td>4</td>\n",
       "      <td>27</td>\n",
       "    </tr>\n",
       "    <tr>\n",
       "      <th>2</th>\n",
       "      <td>Great for the jawbone.</td>\n",
       "      <td>1</td>\n",
       "      <td>4</td>\n",
       "      <td>22</td>\n",
       "    </tr>\n",
       "    <tr>\n",
       "      <th>3</th>\n",
       "      <td>Tied to charger for conversations lasting more than 45 minutes.MAJOR PROBLEMS!!</td>\n",
       "      <td>0</td>\n",
       "      <td>11</td>\n",
       "      <td>79</td>\n",
       "    </tr>\n",
       "    <tr>\n",
       "      <th>4</th>\n",
       "      <td>The mic is great.</td>\n",
       "      <td>1</td>\n",
       "      <td>4</td>\n",
       "      <td>17</td>\n",
       "    </tr>\n",
       "    <tr>\n",
       "      <th>5</th>\n",
       "      <td>I have to jiggle the plug to get it to line up right to get decent volume.</td>\n",
       "      <td>0</td>\n",
       "      <td>17</td>\n",
       "      <td>74</td>\n",
       "    </tr>\n",
       "    <tr>\n",
       "      <th>6</th>\n",
       "      <td>If you have several dozen or several hundred contacts, then imagine the fun of sending each of them one by one.</td>\n",
       "      <td>0</td>\n",
       "      <td>21</td>\n",
       "      <td>111</td>\n",
       "    </tr>\n",
       "    <tr>\n",
       "      <th>7</th>\n",
       "      <td>If you are Razr owner...you must have this!</td>\n",
       "      <td>1</td>\n",
       "      <td>8</td>\n",
       "      <td>43</td>\n",
       "    </tr>\n",
       "    <tr>\n",
       "      <th>8</th>\n",
       "      <td>Needless to say, I wasted my money.</td>\n",
       "      <td>0</td>\n",
       "      <td>7</td>\n",
       "      <td>35</td>\n",
       "    </tr>\n",
       "    <tr>\n",
       "      <th>9</th>\n",
       "      <td>What a waste of money and time!.</td>\n",
       "      <td>0</td>\n",
       "      <td>7</td>\n",
       "      <td>32</td>\n",
       "    </tr>\n",
       "    <tr>\n",
       "      <th>10</th>\n",
       "      <td>And the sound quality is great.</td>\n",
       "      <td>1</td>\n",
       "      <td>6</td>\n",
       "      <td>31</td>\n",
       "    </tr>\n",
       "    <tr>\n",
       "      <th>11</th>\n",
       "      <td>He was very impressed when going from the original battery to the extended battery.</td>\n",
       "      <td>1</td>\n",
       "      <td>14</td>\n",
       "      <td>83</td>\n",
       "    </tr>\n",
       "    <tr>\n",
       "      <th>12</th>\n",
       "      <td>If the two were seperated by a mere 5+ ft I started to notice excessive static and garbled sound from the headset.</td>\n",
       "      <td>0</td>\n",
       "      <td>22</td>\n",
       "      <td>114</td>\n",
       "    </tr>\n",
       "    <tr>\n",
       "      <th>13</th>\n",
       "      <td>Very good quality though</td>\n",
       "      <td>1</td>\n",
       "      <td>4</td>\n",
       "      <td>24</td>\n",
       "    </tr>\n",
       "    <tr>\n",
       "      <th>14</th>\n",
       "      <td>The design is very odd, as the ear \"clip\" is not very comfortable at all.</td>\n",
       "      <td>0</td>\n",
       "      <td>15</td>\n",
       "      <td>73</td>\n",
       "    </tr>\n",
       "    <tr>\n",
       "      <th>15</th>\n",
       "      <td>Highly recommend for any one who has a blue tooth phone.</td>\n",
       "      <td>1</td>\n",
       "      <td>11</td>\n",
       "      <td>56</td>\n",
       "    </tr>\n",
       "    <tr>\n",
       "      <th>16</th>\n",
       "      <td>I advise EVERYONE DO NOT BE FOOLED!</td>\n",
       "      <td>0</td>\n",
       "      <td>7</td>\n",
       "      <td>35</td>\n",
       "    </tr>\n",
       "    <tr>\n",
       "      <th>17</th>\n",
       "      <td>So Far So Good!.</td>\n",
       "      <td>1</td>\n",
       "      <td>4</td>\n",
       "      <td>16</td>\n",
       "    </tr>\n",
       "    <tr>\n",
       "      <th>18</th>\n",
       "      <td>Works great!.</td>\n",
       "      <td>1</td>\n",
       "      <td>2</td>\n",
       "      <td>13</td>\n",
       "    </tr>\n",
       "    <tr>\n",
       "      <th>19</th>\n",
       "      <td>It clicks into place in a way that makes you wonder how long that mechanism would last.</td>\n",
       "      <td>0</td>\n",
       "      <td>17</td>\n",
       "      <td>87</td>\n",
       "    </tr>\n",
       "    <tr>\n",
       "      <th>20</th>\n",
       "      <td>I went on Motorola's website and followed all directions, but could not get it to pair again.</td>\n",
       "      <td>0</td>\n",
       "      <td>17</td>\n",
       "      <td>93</td>\n",
       "    </tr>\n",
       "    <tr>\n",
       "      <th>21</th>\n",
       "      <td>I bought this to use with my Kindle Fire and absolutely loved it!</td>\n",
       "      <td>1</td>\n",
       "      <td>13</td>\n",
       "      <td>65</td>\n",
       "    </tr>\n",
       "    <tr>\n",
       "      <th>22</th>\n",
       "      <td>The commercials are the most misleading.</td>\n",
       "      <td>0</td>\n",
       "      <td>6</td>\n",
       "      <td>40</td>\n",
       "    </tr>\n",
       "    <tr>\n",
       "      <th>23</th>\n",
       "      <td>I have yet to run this new battery below two bars and that's three days without charging.</td>\n",
       "      <td>1</td>\n",
       "      <td>17</td>\n",
       "      <td>89</td>\n",
       "    </tr>\n",
       "    <tr>\n",
       "      <th>24</th>\n",
       "      <td>I bought it for my mother and she had a problem with the battery.</td>\n",
       "      <td>0</td>\n",
       "      <td>14</td>\n",
       "      <td>65</td>\n",
       "    </tr>\n",
       "    <tr>\n",
       "      <th>25</th>\n",
       "      <td>Great Pocket PC / phone combination.</td>\n",
       "      <td>1</td>\n",
       "      <td>6</td>\n",
       "      <td>36</td>\n",
       "    </tr>\n",
       "    <tr>\n",
       "      <th>26</th>\n",
       "      <td>I've owned this phone for 7 months now and can say that it's the best mobile phone I've had.</td>\n",
       "      <td>1</td>\n",
       "      <td>19</td>\n",
       "      <td>92</td>\n",
       "    </tr>\n",
       "    <tr>\n",
       "      <th>27</th>\n",
       "      <td>I didn't think that the instructions provided were helpful to me.</td>\n",
       "      <td>0</td>\n",
       "      <td>11</td>\n",
       "      <td>65</td>\n",
       "    </tr>\n",
       "    <tr>\n",
       "      <th>28</th>\n",
       "      <td>People couldnt hear me talk and I had to pull out the earphone and talk on the phone.</td>\n",
       "      <td>0</td>\n",
       "      <td>18</td>\n",
       "      <td>85</td>\n",
       "    </tr>\n",
       "    <tr>\n",
       "      <th>29</th>\n",
       "      <td>Doesn't hold charge.</td>\n",
       "      <td>0</td>\n",
       "      <td>3</td>\n",
       "      <td>20</td>\n",
       "    </tr>\n",
       "  </tbody>\n",
       "</table>\n",
       "</div>"
      ],
      "text/plain": [
       "                                                                                                                review  \\\n",
       "0                                   So there is no way for me to plug it in here in the US unless I go by a converter.   \n",
       "1                                                                                          Good case, Excellent value.   \n",
       "2                                                                                               Great for the jawbone.   \n",
       "3                                      Tied to charger for conversations lasting more than 45 minutes.MAJOR PROBLEMS!!   \n",
       "4                                                                                                    The mic is great.   \n",
       "5                                           I have to jiggle the plug to get it to line up right to get decent volume.   \n",
       "6      If you have several dozen or several hundred contacts, then imagine the fun of sending each of them one by one.   \n",
       "7                                                                          If you are Razr owner...you must have this!   \n",
       "8                                                                                  Needless to say, I wasted my money.   \n",
       "9                                                                                     What a waste of money and time!.   \n",
       "10                                                                                     And the sound quality is great.   \n",
       "11                                 He was very impressed when going from the original battery to the extended battery.   \n",
       "12  If the two were seperated by a mere 5+ ft I started to notice excessive static and garbled sound from the headset.   \n",
       "13                                                                                            Very good quality though   \n",
       "14                                           The design is very odd, as the ear \"clip\" is not very comfortable at all.   \n",
       "15                                                            Highly recommend for any one who has a blue tooth phone.   \n",
       "16                                                                                 I advise EVERYONE DO NOT BE FOOLED!   \n",
       "17                                                                                                    So Far So Good!.   \n",
       "18                                                                                                       Works great!.   \n",
       "19                             It clicks into place in a way that makes you wonder how long that mechanism would last.   \n",
       "20                       I went on Motorola's website and followed all directions, but could not get it to pair again.   \n",
       "21                                                   I bought this to use with my Kindle Fire and absolutely loved it!   \n",
       "22                                                                            The commercials are the most misleading.   \n",
       "23                           I have yet to run this new battery below two bars and that's three days without charging.   \n",
       "24                                                   I bought it for my mother and she had a problem with the battery.   \n",
       "25                                                                                Great Pocket PC / phone combination.   \n",
       "26                        I've owned this phone for 7 months now and can say that it's the best mobile phone I've had.   \n",
       "27                                                   I didn't think that the instructions provided were helpful to me.   \n",
       "28                               People couldnt hear me talk and I had to pull out the earphone and talk on the phone.   \n",
       "29                                                                                                Doesn't hold charge.   \n",
       "\n",
       "    sentiment  total_words  total_char  \n",
       "0           0           21          82  \n",
       "1           1            4          27  \n",
       "2           1            4          22  \n",
       "3           0           11          79  \n",
       "4           1            4          17  \n",
       "5           0           17          74  \n",
       "6           0           21         111  \n",
       "7           1            8          43  \n",
       "8           0            7          35  \n",
       "9           0            7          32  \n",
       "10          1            6          31  \n",
       "11          1           14          83  \n",
       "12          0           22         114  \n",
       "13          1            4          24  \n",
       "14          0           15          73  \n",
       "15          1           11          56  \n",
       "16          0            7          35  \n",
       "17          1            4          16  \n",
       "18          1            2          13  \n",
       "19          0           17          87  \n",
       "20          0           17          93  \n",
       "21          1           13          65  \n",
       "22          0            6          40  \n",
       "23          1           17          89  \n",
       "24          0           14          65  \n",
       "25          1            6          36  \n",
       "26          1           19          92  \n",
       "27          0           11          65  \n",
       "28          0           18          85  \n",
       "29          0            3          20  "
      ]
     },
     "execution_count": 14,
     "metadata": {},
     "output_type": "execute_result"
    }
   ],
   "source": [
    "df.head(30)"
   ]
  },
  {
   "cell_type": "markdown",
   "metadata": {},
   "source": [
    "**Assessing for missing values**"
   ]
  },
  {
   "cell_type": "code",
   "execution_count": 15,
   "metadata": {
    "scrolled": false
   },
   "outputs": [
    {
     "data": {
      "text/plain": [
       "review         0\n",
       "sentiment      0\n",
       "total_words    0\n",
       "total_char     0\n",
       "dtype: int64"
      ]
     },
     "execution_count": 15,
     "metadata": {},
     "output_type": "execute_result"
    }
   ],
   "source": [
    "df.isnull().sum()"
   ]
  },
  {
   "cell_type": "markdown",
   "metadata": {},
   "source": [
    "No nulls present."
   ]
  },
  {
   "cell_type": "markdown",
   "metadata": {},
   "source": [
    "**Viewing summary statistics**"
   ]
  },
  {
   "cell_type": "code",
   "execution_count": 16,
   "metadata": {},
   "outputs": [
    {
     "data": {
      "text/html": [
       "<div>\n",
       "<style scoped>\n",
       "    .dataframe tbody tr th:only-of-type {\n",
       "        vertical-align: middle;\n",
       "    }\n",
       "\n",
       "    .dataframe tbody tr th {\n",
       "        vertical-align: top;\n",
       "    }\n",
       "\n",
       "    .dataframe thead th {\n",
       "        text-align: right;\n",
       "    }\n",
       "</style>\n",
       "<table border=\"1\" class=\"dataframe\">\n",
       "  <thead>\n",
       "    <tr style=\"text-align: right;\">\n",
       "      <th></th>\n",
       "      <th>sentiment</th>\n",
       "      <th>total_words</th>\n",
       "      <th>total_char</th>\n",
       "    </tr>\n",
       "  </thead>\n",
       "  <tbody>\n",
       "    <tr>\n",
       "      <th>count</th>\n",
       "      <td>2748.000000</td>\n",
       "      <td>2748.00000</td>\n",
       "      <td>2748.000000</td>\n",
       "    </tr>\n",
       "    <tr>\n",
       "      <th>mean</th>\n",
       "      <td>0.504367</td>\n",
       "      <td>13.00655</td>\n",
       "      <td>71.528384</td>\n",
       "    </tr>\n",
       "    <tr>\n",
       "      <th>std</th>\n",
       "      <td>0.500072</td>\n",
       "      <td>35.81939</td>\n",
       "      <td>201.987266</td>\n",
       "    </tr>\n",
       "    <tr>\n",
       "      <th>min</th>\n",
       "      <td>0.000000</td>\n",
       "      <td>1.00000</td>\n",
       "      <td>7.000000</td>\n",
       "    </tr>\n",
       "    <tr>\n",
       "      <th>25%</th>\n",
       "      <td>0.000000</td>\n",
       "      <td>6.00000</td>\n",
       "      <td>32.000000</td>\n",
       "    </tr>\n",
       "    <tr>\n",
       "      <th>50%</th>\n",
       "      <td>1.000000</td>\n",
       "      <td>10.00000</td>\n",
       "      <td>55.000000</td>\n",
       "    </tr>\n",
       "    <tr>\n",
       "      <th>75%</th>\n",
       "      <td>1.000000</td>\n",
       "      <td>16.00000</td>\n",
       "      <td>87.000000</td>\n",
       "    </tr>\n",
       "    <tr>\n",
       "      <th>max</th>\n",
       "      <td>1.000000</td>\n",
       "      <td>1390.00000</td>\n",
       "      <td>7944.000000</td>\n",
       "    </tr>\n",
       "  </tbody>\n",
       "</table>\n",
       "</div>"
      ],
      "text/plain": [
       "         sentiment  total_words   total_char\n",
       "count  2748.000000   2748.00000  2748.000000\n",
       "mean      0.504367     13.00655    71.528384\n",
       "std       0.500072     35.81939   201.987266\n",
       "min       0.000000      1.00000     7.000000\n",
       "25%       0.000000      6.00000    32.000000\n",
       "50%       1.000000     10.00000    55.000000\n",
       "75%       1.000000     16.00000    87.000000\n",
       "max       1.000000   1390.00000  7944.000000"
      ]
     },
     "execution_count": 16,
     "metadata": {},
     "output_type": "execute_result"
    }
   ],
   "source": [
    "df.describe()"
   ]
  },
  {
   "cell_type": "markdown",
   "metadata": {},
   "source": [
    "**Converting Data to Lowercase**"
   ]
  },
  {
   "cell_type": "code",
   "execution_count": 17,
   "metadata": {},
   "outputs": [],
   "source": [
    "df['review'] = df['review'].str.lower()"
   ]
  },
  {
   "cell_type": "code",
   "execution_count": 18,
   "metadata": {},
   "outputs": [
    {
     "data": {
      "text/html": [
       "<div>\n",
       "<style scoped>\n",
       "    .dataframe tbody tr th:only-of-type {\n",
       "        vertical-align: middle;\n",
       "    }\n",
       "\n",
       "    .dataframe tbody tr th {\n",
       "        vertical-align: top;\n",
       "    }\n",
       "\n",
       "    .dataframe thead th {\n",
       "        text-align: right;\n",
       "    }\n",
       "</style>\n",
       "<table border=\"1\" class=\"dataframe\">\n",
       "  <thead>\n",
       "    <tr style=\"text-align: right;\">\n",
       "      <th></th>\n",
       "      <th>review</th>\n",
       "      <th>sentiment</th>\n",
       "      <th>total_words</th>\n",
       "      <th>total_char</th>\n",
       "    </tr>\n",
       "  </thead>\n",
       "  <tbody>\n",
       "    <tr>\n",
       "      <th>0</th>\n",
       "      <td>so there is no way for me to plug it in here in the us unless i go by a converter.</td>\n",
       "      <td>0</td>\n",
       "      <td>21</td>\n",
       "      <td>82</td>\n",
       "    </tr>\n",
       "    <tr>\n",
       "      <th>1</th>\n",
       "      <td>good case, excellent value.</td>\n",
       "      <td>1</td>\n",
       "      <td>4</td>\n",
       "      <td>27</td>\n",
       "    </tr>\n",
       "    <tr>\n",
       "      <th>2</th>\n",
       "      <td>great for the jawbone.</td>\n",
       "      <td>1</td>\n",
       "      <td>4</td>\n",
       "      <td>22</td>\n",
       "    </tr>\n",
       "    <tr>\n",
       "      <th>3</th>\n",
       "      <td>tied to charger for conversations lasting more than 45 minutes.major problems!!</td>\n",
       "      <td>0</td>\n",
       "      <td>11</td>\n",
       "      <td>79</td>\n",
       "    </tr>\n",
       "    <tr>\n",
       "      <th>4</th>\n",
       "      <td>the mic is great.</td>\n",
       "      <td>1</td>\n",
       "      <td>4</td>\n",
       "      <td>17</td>\n",
       "    </tr>\n",
       "  </tbody>\n",
       "</table>\n",
       "</div>"
      ],
      "text/plain": [
       "                                                                               review  \\\n",
       "0  so there is no way for me to plug it in here in the us unless i go by a converter.   \n",
       "1                                                         good case, excellent value.   \n",
       "2                                                              great for the jawbone.   \n",
       "3     tied to charger for conversations lasting more than 45 minutes.major problems!!   \n",
       "4                                                                   the mic is great.   \n",
       "\n",
       "   sentiment  total_words  total_char  \n",
       "0          0           21          82  \n",
       "1          1            4          27  \n",
       "2          1            4          22  \n",
       "3          0           11          79  \n",
       "4          1            4          17  "
      ]
     },
     "execution_count": 18,
     "metadata": {},
     "output_type": "execute_result"
    }
   ],
   "source": [
    "df.head()"
   ]
  },
  {
   "cell_type": "markdown",
   "metadata": {},
   "source": [
    "<a id=\"B1a\"></a>\n",
    "### B1a.) presence of unusual characters (e.g., emojis, non-English characters)"
   ]
  },
  {
   "cell_type": "markdown",
   "metadata": {},
   "source": [
    "The regular expression module will be used below to remove punctuation, emojis and non-english characters. This will allow the words of the sentences to be properly tokenized for further analysis."
   ]
  },
  {
   "cell_type": "markdown",
   "metadata": {},
   "source": [
    "**Removing Punctuation:** The code below was sourced from Gupta (2023)."
   ]
  },
  {
   "cell_type": "code",
   "execution_count": 19,
   "metadata": {},
   "outputs": [
    {
     "name": "stdout",
     "output_type": "stream",
     "text": [
      "Number of Characters:  65\n",
      "['s', 'o', ' ', 't', 'h', 'e', 'r', 'i', 'n', 'w', 'a', 'y', 'f', 'm', 'p', 'l', 'u', 'g', 'b', 'c', 'v', '.', 'd', ',', 'x', 'j', '4', '5', '!', 'z', 'q', '+', '\"', 'k', \"'\", '/', '7', '3', '6', '8', '0', '2', '?', '-', '1', ':', ')', '(', '&', '$', '*', ';', '%', '9', '#', '[', ']', '\\x96', '\\t', '\\n', 'é', '\\x85', 'å', '\\x97', 'ê']\n"
     ]
    }
   ],
   "source": [
    "# Initial Character Count\n",
    "document = df['review']\n",
    "list_of_char = []\n",
    "for wordle in document:\n",
    "    for character in wordle:\n",
    "        if character not in list_of_char:\n",
    "            list_of_char.append(character)\n",
    "number_of_char = len(list_of_char)\n",
    "print(\"Number of Characters: \", number_of_char)\n",
    "print(list_of_char)"
   ]
  },
  {
   "cell_type": "code",
   "execution_count": 20,
   "metadata": {},
   "outputs": [],
   "source": [
    "punc=re.compile(r'[^\\w\\s]+')   #[^ ... ] is a negated character class, which matches any character not in the specified set.\n",
    "                               #\\w matches any word character (letter, digit, or underscore).\n",
    "                               #\\s matches any whitespace character (space, tab, newline, etc.).\n",
    "                               #+ quantifier matches one or more occurrences of the preceding pattern.\n",
    "df['review'] = [punc.sub(' ', x) for x in df['review'].tolist()]"
   ]
  },
  {
   "cell_type": "markdown",
   "metadata": {},
   "source": [
    "Ensuring punctuation was removed"
   ]
  },
  {
   "cell_type": "code",
   "execution_count": 21,
   "metadata": {},
   "outputs": [
    {
     "data": {
      "text/plain": [
       "0"
      ]
     },
     "execution_count": 21,
     "metadata": {},
     "output_type": "execute_result"
    }
   ],
   "source": [
    "punctuation = r'[^\\w\\s]'  #variable for punctuation\n",
    "df['review'].str.contains(punctuation).sum()"
   ]
  },
  {
   "cell_type": "code",
   "execution_count": 22,
   "metadata": {},
   "outputs": [
    {
     "name": "stdout",
     "output_type": "stream",
     "text": [
      "Number of Characters:  43\n",
      "['s', 'o', ' ', 't', 'h', 'e', 'r', 'i', 'n', 'w', 'a', 'y', 'f', 'm', 'p', 'l', 'u', 'g', 'b', 'c', 'v', 'd', 'x', 'j', '4', '5', 'z', 'q', 'k', '7', '3', '6', '8', '0', '2', '1', '9', '\\t', '\\n', 'é', '\\x85', 'å', 'ê']\n"
     ]
    }
   ],
   "source": [
    "document = df['review']\n",
    "list_of_char = []\n",
    "for wordle in document:\n",
    "    for character in wordle:\n",
    "        if character not in list_of_char:\n",
    "            list_of_char.append(character)\n",
    "number_of_char = len(list_of_char)\n",
    "print(\"Number of Characters: \", number_of_char)\n",
    "print(list_of_char)"
   ]
  },
  {
   "cell_type": "markdown",
   "metadata": {},
   "source": [
    "That didn't remove all of the punctuation. Repeating and specifying the special characters and punctuation it missed."
   ]
  },
  {
   "cell_type": "code",
   "execution_count": 23,
   "metadata": {},
   "outputs": [],
   "source": [
    "punc = re.compile(r'[éåê\\x85\\n\\t]+')\n",
    "df['review'] = [punc.sub(' ', x) for x in df['review'].tolist()]"
   ]
  },
  {
   "cell_type": "code",
   "execution_count": 24,
   "metadata": {},
   "outputs": [
    {
     "name": "stdout",
     "output_type": "stream",
     "text": [
      "Number of Characters:  37\n",
      "['s', 'o', ' ', 't', 'h', 'e', 'r', 'i', 'n', 'w', 'a', 'y', 'f', 'm', 'p', 'l', 'u', 'g', 'b', 'c', 'v', 'd', 'x', 'j', '4', '5', 'z', 'q', 'k', '7', '3', '6', '8', '0', '2', '1', '9']\n"
     ]
    }
   ],
   "source": [
    "document = df['review']\n",
    "list_of_char = []\n",
    "for wordle in document:\n",
    "    for character in wordle:\n",
    "        if character not in list_of_char:\n",
    "            list_of_char.append(character)\n",
    "number_of_char = len(list_of_char)\n",
    "print(\"Number of Characters: \", number_of_char)\n",
    "print(list_of_char)"
   ]
  },
  {
   "cell_type": "markdown",
   "metadata": {},
   "source": [
    "Punctuation removed."
   ]
  },
  {
   "cell_type": "markdown",
   "metadata": {},
   "source": [
    "<a id=\"B1b\"></a>\n",
    "### B1b.) vocabulary size"
   ]
  },
  {
   "cell_type": "markdown",
   "metadata": {},
   "source": [
    "The code below determines the number of unique words within the sentences of the dataset. The code below was sourced from Python Spot (2023)."
   ]
  },
  {
   "cell_type": "markdown",
   "metadata": {},
   "source": [
    "**Determining Original Vocabulary Size**"
   ]
  },
  {
   "cell_type": "code",
   "execution_count": 25,
   "metadata": {},
   "outputs": [
    {
     "name": "stdout",
     "output_type": "stream",
     "text": [
      "Original Vocabulary Size: 5186\n"
     ]
    }
   ],
   "source": [
    "# Load stop words\n",
    "stop_words = set(stopwords.words('english'))\n",
    "\n",
    "# Tokenize original text data\n",
    "list_sentences_tokenized = [word_tokenize(sentence) for sentence in df.review]\n",
    "\n",
    "# Initialize tokenizer and fit on original text data\n",
    "tokenizer = Tokenizer()\n",
    "tokenizer.fit_on_texts([\" \".join(sentence) for sentence in list_sentences_tokenized])  # Fitting on original text data\n",
    "\n",
    "# Get original vocabulary size\n",
    "original_vocab_size = len(tokenizer.word_index) + 1\n",
    "print(\"Original Vocabulary Size:\", original_vocab_size)"
   ]
  },
  {
   "cell_type": "markdown",
   "metadata": {},
   "source": [
    "**Applying Stop Words**"
   ]
  },
  {
   "cell_type": "code",
   "execution_count": 26,
   "metadata": {},
   "outputs": [
    {
     "name": "stdout",
     "output_type": "stream",
     "text": [
      "[['way', 'plug', 'us', 'unless', 'go', 'converter'], ['good', 'case', 'excellent', 'value'], ['great', 'jawbone'], ['tied', 'charger', 'conversations', 'lasting', '45', 'minutes', 'major', 'problems'], ['mic', 'great'], ['jiggle', 'plug', 'get', 'line', 'right', 'get', 'decent', 'volume'], ['several', 'dozen', 'several', 'hundred', 'contacts', 'imagine', 'fun', 'sending', 'one', 'one'], ['razr', 'owner', 'must'], ['needless', 'say', 'wasted', 'money'], ['waste', 'money', 'time'], ['sound', 'quality', 'great'], ['impressed', 'going', 'original', 'battery', 'extended', 'battery'], ['two', 'seperated', 'mere', '5', 'ft', 'started', 'notice', 'excessive', 'static', 'garbled', 'sound', 'headset'], ['good', 'quality', 'though'], ['design', 'odd', 'ear', 'clip', 'comfortable'], ['highly', 'recommend', 'one', 'blue', 'tooth', 'phone'], ['advise', 'everyone', 'fooled'], ['far', 'good'], ['works', 'great'], ['clicks', 'place', 'way', 'makes', 'wonder', 'long', 'mechanism', 'would', 'last'], ['went', 'motorola', 'website', 'followed', 'directions', 'could', 'get', 'pair'], ['bought', 'use', 'kindle', 'fire', 'absolutely', 'loved'], ['commercials', 'misleading'], ['yet', 'run', 'new', 'battery', 'two', 'bars', 'three', 'days', 'without', 'charging'], ['bought', 'mother', 'problem', 'battery'], ['great', 'pocket', 'pc', 'phone', 'combination'], ['owned', 'phone', '7', 'months', 'say', 'best', 'mobile', 'phone'], ['think', 'instructions', 'provided', 'helpful'], ['people', 'couldnt', 'hear', 'talk', 'pull', 'earphone', 'talk', 'phone'], ['hold', 'charge'], ['simple', 'little', 'phone', 'use', 'breakage', 'unacceptible'], ['product', 'ideal', 'people', 'like', 'whose', 'ears', 'sensitive'], ['unusable', 'moving', 'car', 'freeway', 'speed'], ['two', 'years', 'left', 'contract', 'hate', 'phone'], ['car', 'charger', 'well', 'ac', 'charger', 'included', 'make', 'sure', 'never', 'run', 'juice', 'highy', 'recommended'], ['need', 'least', '3', 'mins', 'get', 'phone', 'book', 'time', 'first', 'turn', 'phone', 'battery', 'life', 'short'], ['kept', 'well'], ['poor', 'talk', 'time', 'performance'], ['case', 'great', 'works', 'fine', '680'], ['worthless', 'product'], ['great', 'camera', 'thats', '2mp', 'pics', 'nice', 'clear', 'great', 'picture', 'quality'], ['impressed', 'product'], ['nice', 'headset', 'priced', 'right'], ['hear', 'garbage', 'audio'], ['excellent', 'bluetooth', 'headset'], ['features', 'want'], ['right', 'mind', 'gon', 'na', 'buy', 'battery'], ['arguing', 'verizon', 'regarding', 'dropped', 'calls', 'returned', 'phones', 'two', 'days'], ['case', 'seems', 'well', 'made'], ['disappointed', 'battery'], ['loud', 'enough', 'turn', 'like'], ['good', 'protection', 'make', 'phone', 'bulky'], ['usable', 'keyboard', 'actually', 'turns', 'pda', 'real', 'world', 'useful', 'machine', 'instead', 'neat', 'gadget'], ['phone', 'pretty', 'sturdy', 'never', 'large', 'problems'], ['love', 'thing'], ['everything', 'fine', 'reasonable', 'price', 'e'], ['disappointed'], ['even', 'dropped', 'phone', 'stream', 'submerged', '15', 'seconds', 'still', 'works', 'great'], ['happy', '510', 'complaints', 'one', 'regarding', 'sound', 'quality', 'end'], ['buttons', 'bad'], ['essentially', 'forget', 'microsoft', 'tech', 'support'], ['really', 'recommend', 'faceplates', 'since', 'looks', 'nice', 'elegant', 'cool'], ['headphones', 'great', 'find', 'think', 'perhaps', 'best', 'purchase', 'made', 'last', 'several', 'years', 'seriously'], ['buy', 'different', 'phone'], ['hold', 'phone', 'particular', 'angle', 'party', 'hear', 'clearly'], ['one', 'big', 'drawback', 'mp3', 'player', 'buttons', 'phone', 'front', 'cover', 'let', 'pause', 'skip', 'songs', 'lock', 'seconds'], ['week', 'later', 'activated', 'suddenly', 'died'], ['feels', 'comfortable', 'headsets', 'wear', 'glasses', 'gets', 'way', 'sometimes'], ['great', 'ipods'], ['device', 'great', 'several', 'situations', '1'], ['mic', 'work'], ['even', 'bmw', '3', 'series', 'fairly', 'quiet', 'trouble', 'hearing', 'person', 'saying'], ['great', 'choice'], ['nice', 'docking', 'station', 'home', 'work'], ['beautiful', 'phone'], ['love', 'product'], ['buy', 'd807', 'wrongly', 'advertised', 'd807'], ['great', 'little', 'item'], ['love', 'phone', 'handy', 'lot', 'features'], ['purchased', 'within', '2', 'days', 'longer', 'working'], ['wear', 'everyday', 'holds', 'well'], ['good', 'bargain'], ['well', 'packaged', 'arrived', 'time', 'works', 'intended'], ['battery', 'runs', 'quickly'], ['item', 'worked', 'great', 'broke', '6', 'months', 'use'], ['headsets', 'easy', 'use', 'everyone', 'loves'], ['phone', 'works', 'great'], ['construction', 'headsets', 'poor'], ['product', 'excellent', 'works', 'better', 'verizon', 'one', 'boy', 'cheaper'], ['phone', 'loads', 'super'], ['product', 'costs', 'much', 'one', 'expect', 'work', 'far', 'better', 'greater', 'ease', 'thing'], ['made', 'sturdy'], ['worked', 'great'], ['ear', 'buds', 'play', 'music', 'one', 'ear'], ['dont', 'waste', 'money'], ['order'], ['plan', 'use', 'car', 'forget'], ['found', 'product', 'waaay', 'big'], ['best', 'found', 'far', 'tried', '2', 'bluetooths', 'one', 'best', 'quality', 'listener', 'well', 'ease', 'using'], ['disappointed', 'decision'], ['integrated', 'seamlessly', 'motorola', 'razr', 'phone'], ['buyer', 'beware', 'could', 'flush', 'money', 'right', 'toilet'], ['definitely', 'bargain'], ['price', 'good', 'free', 'shipping', 'good', 'purchase'], ['received', 'supposedly', 'new', 'motorola', '375', 'apparently', 'match', 'phone', 'charger'], ['pros', 'good', 'camera', 'nice', 'pictures', 'also', 'cool', 'styles', 'like', 'black', 'white'], ['huge', 'design', 'flaw', 'unless', 'using', 'correctly', 'think', 'case'], ['love', '350', 'headset', 'jabra350', 'bluetooth', 'headset', 'great', 'reception', 'good', 'ear', 'piece', 'comfortable', 'fit'], ['camera', 'although', 'rated', 'impressive', '1', '3', 'megapixels', 'renders', 'images', 'fall', 'well', 'expectations', 'relatively', 'high', 'resolution'], ['purcashed', 'car', 'charger', 'work'], ['sound', 'quality', 'end', 'excellent', 'use', 'headset', 'call', 'wife', 'ask', 'wife', 'use', 'headset', 'call', '2'], ['phone', 'slim', 'light', 'display', 'beautiful'], ['little', 'geeky', 'think', 'thats', 'sex', 'toast', 'rocks', 'oozes', 'sex', 'right', 'battery', 'embedded', 'sleek', 'stylish', 'leather', 'case'], ['great', 'product', 'fast', 'shipping'], ['absolutely', 'great'], ['keyboard', 'nice', 'compromise', 'full', 'qwerty', 'basic', 'cell', 'phone', 'number', 'keypad'], ['got', 'phone', 'around', 'end', 'may', 'completely', 'unhappy'], ['comfortable', 'ear'], ['winner', 'us'], ['setup', 'simpler'], ['tried', 'several', 'different', 'earpieces', 'cell', 'phone', 'jabra', 'one', 'first', 'one', 'found', 'fits', 'ear', 'comfortably'], ['could', 'get', 'strong', 'enough', 'signal'], ['iam', 'pleased', 'purchase'], ['bad', 'quality'], ['gets', 'job', 'done'], ['great', 'audio'], ['basically', 'service', 'bad'], ['work', 'cell', 'phone', 'plug', 'set', 'charger'], ['bluetooth', 'weeks', 'really', 'like'], ['bt', 'headset', 'disapoinment'], ['small', 'even', 'realize', 'getting', 'used'], ['accompanied', 'software', 'almost', 'brilliant'], ['headset', 'works', 'great', 'packaged', 'nicely', 'avoid', 'damage'], ['definitly', 'recommend'], ['buyer', 'careful'], ['majority', 'logitech', 'earbud', 'headsets', 'failed'], ['good', 'stuff', 'price'], ['headset', 'works', 'peachy', 'keen'], ['house', 'getting', 'dropped', 'coverage', 'upstairs', 'coverage', 'basement'], ['voice', 'recognition', 'tremendous'], ['waste'], ['several', 'different', '2', 'minute', 'calls', 'experienced', '5', 'drops', 'area', '5', 'bars'], ['happy', 'item'], ['disappointed'], ['phone', 'takes', 'forever', 'charge', 'like', '2', '5', 'hours', 'literally'], ['got', 'phone', 'reccomendation', 'relative', 'glad'], ['waste', 'time'], ['reception', 'poor'], ['items', 'stated', 'included', 'description', 'included'], ['3', 'months', 'screen', 'went', 'black', 'sudden'], ['hoping'], ['audio', 'quality', 'poor', 'poor'], ['absolutely', 'problem', 'headset', 'linking', '8530', 'blackberry', 'curve'], ['know', 'sounds', 'funny', 'seemed', 'like', 'sketchy', 'technology', 'work', 'well', 'well', 'one', 'works', 'great'], ['bought', '5', 'wired', 'headphones', 'sound', 'better'], ['phone', 'fast', 'sending', 'kind', 'messages', 'web', 'browsing', 'significantly', 'faster', 'previous', 'phones', 'used'], ['nice', 'quality', 'build', 'unlike', 'cheap'], ['item', 'fantastic', 'works', 'perfectly'], ['love', 'colors'], ['w810i', 'superb'], ['whine', 'internet', 'goes', 'use', 'thing', 'less', 'like'], ['great', 'charger'], ['essentially', 'communications', 'tool', 'communicate'], ['works', 'like', 'charm', 'work', 'one', 'got', 'phone'], ['still', 'maintain', 'monkeys', 'make', 'headphones', 'obviously', 'share', 'enough', 'dna', 'copy', 'design', 'humans'], ['great', 'value'], ['work', 'bougth', 'l7c', 'working'], ['look', 'sharp', 'screen', 'nice', 'clear', 'great', 'graphics'], ['last', 'long'], ['one', 'thing', 'hate', 'mode', 'set', 'button', 'side'], ['excellent', 'service'], ['thank', 'wasting', 'money'], ['audio', 'quality', 'poor'], ['igo', 'chargers', 'tips', 'really', 'great'], ['file', 'browser', 'offers', 'options', 'one', 'needs', 'handsfree', 'great'], ['superb', 'phone', 'great', 'network'], ['connected', 'wife', 'bluetooth', 'motorola', 'hs850', 'phone', 'worked', 'like', 'charm', 'whether', 'phone', 'pocket', 'case'], ['put', 'latest', 'os', 'v1', '15g', 'likes', 'slow', 'crawl', 'lock', 'every'], ['recognizes', 'phone', 'storage', 'device'], ['like', 'loud', 'buzzing', 'override', 'conversations', 'phone'], ['buy', 'product'], ['bluetoooth', 'headset', 'time', 'still', 'comfortable', 'way', 'fits', 'ear'], ['sound', 'quality', 'good', 'functionality', 'awesome'], ['phone', 'thorn', 'side', 'really', 'abhor'], ['recently', 'problems', 'could', 'stay', 'connected', '10', 'minutes', 'disconnected'], ['incredible'], ['design', 'flaw'], ['great', 'phone'], ['waste', '13', 'bucks'], ['check', 'voice', 'mail', 'night', 'keypad', 'backlight', 'turns', 'seconds', 'first', 'message', 'lost'], ['replacement', 'died', 'weeks'], ['ring', 'tone', 'overall', 'good', 'phone', 'buy'], ['lately', 'extremely', 'nice', 'helpful', 'phone'], ['problems', 'wit', 'hit', 'dropping', 'signal'], ['impressed'], ['light', 'weight', 'hardly', 'notice'], ['love', 'thin'], ['bad', 'choice'], ['pleather', 'case', 'fit'], ['useless', 'phone', 'simply', 'deaf'], ['color', 'even', 'prettier', 'thought', 'would', 'graphics', 'incredibly', 'sharp'], ['think', 'good', 'investment'], ['makes', 'strange', 'ticking', 'noises', 'ends', 'call'], ['best', 'electronics', 'available', 'fm', 'transmitters'], ['battery', 'lasts', 'hours'], ['great', 'headset', 'impressed', 'h500'], ['1', '2', 'mega', 'pixel', 'camera', 'part', 'phone', 'reasonably', 'good7'], ['nearly', '2', 'years', 'worked', 'great'], ['good', 'transmit', 'audio'], ['sending', 'back'], ['bother', 'contacting', 'company', 'dollar', 'product', 'learned', 'lesson', 'bought', 'form', 'online', 'anyway'], ['hate', 'earbugs', 'avoid', 'phone', 'means'], ['great', 'price', 'also'], ['range', 'decent', 'able', 'roam', 'around', 'house', 'phone', 'living', 'room', 'reception', 'sound', 'quality', 'issues'], ['fast', 'service'], ['would', 'highly', 'recommend'], ['would', 'recommend'], ['also', 'like', 'button', 'felt', 'like', 'would', 'crack', 'use'], ['worst', 'phone', 'ever'], ['still', 'infatuated', 'phone'], ['freezes', 'frequently4'], ['kind', 'embarrassing', 'use', 'looks', 'mostly', 'embarrassing', 'child', 'like', 'company'], ['simple', 'lightweight', 'great', 'fit'], ['expected', 'better', 'consumer', 'experience', 'motorola'], ['horrible', 'tick', 'sound', 'background', 'calls', 'never', 'experienced'], ['certainly', 'comfortable', 'functionality', 'decent'], ['usually', 'like', 'headbands', 'one', 'lightweight', 'mess', 'hair'], ['bit', 'disappointed'], ['phone', 'year', 'tell', 'great'], ['ordered', 'sony', 'ericsson', 'w810i', 'think', 'worked', 'thats', 'first', 'used'], ['battery', 'completely', 'useless'], ['big', 'waste', 'time'], ['waste', 'one'], ['great', 'sound', 'service'], ['really', 'pleased', 'product', 'far'], ['one', 'favorite', 'purchases', 'ever'], ['best', 'bluetooth', 'market'], ['authentic', 'leather', 'nice', 'shine', 'comfort', 'recommend', 'case'], ['excited', 'get', 'headset', 'thought', 'really', 'cute'], ['make', 'mistake'], ['big', 'disappointment', 'calendar', 'sync'], ['phone', 'unusable', 'new'], ['worst', 'customer', 'service', 'ever'], ['additional', 'ear', 'gels', 'provided', 'instructions', 'whatsoever'], ['defeats', 'purpose', 'bluetooth', 'headset'], ['worth', 'every', 'penny'], ['excellent', 'wallet', 'type', 'phone', 'case'], ['nice', 'headphones', 'price', 'work', 'great'], ['internet', 'excrutiatingly', 'slow'], ['comfortable', 'wear', 'well', 'probably', 'important', 'aspect', 'using', 'case'], ['fits', 'like', 'glove', 'strong', 'secure', 'durable'], ['gosh', 'best', 'phone', 'ever'], ['attractive', 'appears', 'good', 'quality'], ['love', 'features', 'form', 'factor'], ['product', 'strong', 'rubber', 'petroleum', 'smell', 'unbearable', 'caused', 'return'], ['poor', 'quality', 'service'], ['cable', 'looks', 'thin', 'flimsy', 'scary'], ['great', 'earpiece'], ['excellent', 'hands', 'free', 'tool'], ['great', 'using', 'home', 'stereo'], ['good', 'product', 'incredible', 'value'], ['month', 'worked', 'flawlessly', 'far'], ['works', 'great'], ['absolutel', 'junk'], ['one', 'work', 'either'], ['battery', 'life', 'real', 'good'], ['returned', '8', 'hours', 'later'], ['great', 'item'], ['waste', 'money'], ['love', 'headset'], ['drain', 'player', 'may', 'also', 'potentially', 'fry'], ['worked', 'perfectly'], ['unreliable', 'giving'], ['gave', '5', 'stars', 'sound', 'quality'], ['avoid', 'one'], ['reversible', 'plug', 'works', 'great'], ['wasted', 'little', 'money', 'earpiece'], ['good', 'phone'], ['best', 'rotating', 'feature', 'helpful'], ['comfort', 'whole', 'family'], ['good', 'product', 'good', 'seller'], ['love', 'bluetooth'], ['first', 'wear', 'well'], ['impressed', 'headset', 'plantronics'], ['got', 'small', 'adorable'], ['great', 'phone'], ['recommend', 'buying', 'product'], ['piece', 'junk'], ['poorly', 'contstruct', 'hinge'], ['item', 'great', 'installed', 'let', 'charged', 'overnite', 'working', 'good', 'every', 'since', 'problems'], ['great', 'phone'], ['buy'], ['excellent', 'phone'], ['purchase', 'phone'], ['voice', 'recognition', 'thru', 'handset', 'excellent'], ['hands', 'best', 'phone', 'ever'], ['works', 'great', 'cat', 'attacked', 'phone', 'scratched', 'protective', 'strip', 'instead', 'destroying', 'screen'], ['one', 'works', 'priced', 'right'], ['customer', 'service', 'terrible'], ['battery', 'life', 'still', 'long', 'enough', 'motorola', 'razor', 'v3i'], ['sending', 'back'], ['know', 'made', 'wise', 'decision'], ['someone', 'shouldve', 'invented', 'sooner'], ['good', 'price'], ['everything', 'worked', 'first', 'try', 'device', 'certainly', 'engineered', 'clever', 'way', 'construction', 'feels', 'good'], ['received', 'quickly', 'works', 'great'], ['working', 'great'], ['many', 'people', 'complained', 'found', 'headset', 'microphone', 'weak'], ['5', 'year', 'old', 'nokia', '2160', 'tracfone', 'holds', 'charge', 'lot', 'better'], ['care', 'consumer', 'one', 'bit'], ['good', 'battery', 'got', 'really', 'fast'], ['instruction', 'manual', 'lacking'], ['also', 'slim', 'enough', 'fit', 'alarm', 'clock', 'docking', 'station', 'without', 'removing', 'case'], ['phone', 'holds', 'charge', 'like', 'new'], ['battery', 'unreliable', 'well', 'service', 'use', 'antena'], ['uncomfortable', 'sound', 'quality', 'quite', 'poor', 'compared', 'phone', 'razr', 'previous', 'wired', 'headset', 'plugged', 'lg'], ['gotten', 'lot', 'compliments'], ['definitely', 'must', 'state', 'allow', 'cell', 'phone', 'usage', 'driving'], ['want', 'money', 'back'], ['love', 'device'], ['also', 'happy', 'price'], ['ordered', 'product', 'first', 'unhappy', 'immediately'], ['ngage', 'still', 'lacking', 'earbuds'], ['able', 'voice', 'dialing', 'car', 'problem'], ['2', '3', 'bars', 'cell', 'phone', 'home', 'cant', 'hear', 'anything'], ['good', 'item', 'low', 'price'], ['however', 'riingtones', 'best', 'neither', 'games'], ['plug', 'work', 'well'], ['amazon', 'sucks'], ['rip', 'charge', 'shipping'], ['comfortable'], ['battery', 'working', 'well', 'replacement', 'original', 'came', 'phone', '2', 'years', 'ago'], ['reception', 'excellent'], ['fits', 'comfortably', 'either', 'ear', 'sound', 'clear', 'loud', 'charge', 'lasts', 'couple', 'days'], ['clear', 'quality', 'sound', 'mess', 'sound', 'ipod', 'since', 'sound', 'buttons', 'headset'], ['1', 'long', 'lasting', 'battery', 'recharge', 'frequentyly', 'flip', 'phones', '2'], ['obviously', 'problem', 'adhesive'], ['disappointing'], ['inexpensive', 'piece', 'would', 'still', 'expected', 'better', 'quality'], ['practically', 'useless', 'add', 'kind', 'boost', 'reception', 'bought'], ['excellent', 'sound', 'quality'], ['happy'], ['piece', 'junk', 'broke', 'phone', '2', 'days'], ['new', 'battery', 'works', 'great', 'phone'], ['worst', 'customer', 'service'], ['dropped', 'phone', 'times', 'say', 'even', 'concrete', 'phone', 'still', 'great', 'knock', 'wood'], ['reception', 'terrible', 'full', 'static'], ['good', 'audio', 'quality'], ['little', 'device', 'transformed', 'organizational', 'capability', 'made', 'life', 'whole', 'lot', 'easier'], ['sitting', 'vehicle', 'cradle', 'belt', 'headset', 'lost', 'signal'], ['jerks', 'phone'], ['works', 'like', 'charm', 'works', 'advertised'], ['comfortable', 'nice', 'range', 'good', 'battery', 'life'], ['network', 'coverage', 'los', 'angeles', 'horrible'], ['excellent', 'starter', 'wireless', 'headset'], ['loudspeaker', 'option', 'great', 'bumpers', 'lights', 'appealing'], ['thing', 'think', 'could', 'improve', 'sound', 'leaks', 'headset'], ['first', 'reception', 'sucks', 'never', '2', 'bars', 'ever'], ['phone', 'gets', 'extremely', 'hot'], ['microphone', 'also', 'works', 'well', 'according', 'people', 'called', 'applifies', 'everything'], ['nice', 'design', 'quality'], ['also', 'phone', 'dropped', 'case', 'going', 'save', 'specially', 'dropped', 'face'], ['light', 'easy', 'use', 'clear', 'reception', 'transmission'], ['bad', 'fit', 'way', 'big'], ['definitely', 'good', 's11'], ['awesome', 'device'], ['waste', 'money'], ['ordered', 'motorola', 'data', 'cable', 'got', 'well', 'finished', 'working', 'product'], ['love', 'phone'], ['looking', 'headset', 'long', 'time', 'got', 'happier'], ['drivng', 'along', 'headset', 'starts', 'ringing', 'reason'], ['display', 'excellent', 'camera', 'good', 'year'], ['battery', 'life', 'also', 'great'], ['worst', 'phone', 'ever', 'months'], ['good', 'item', 'worked', 'started', 'problems', 'auto', 'reverse', 'tape', 'player'], ['embarassing', 'also', 'ears', 'hurt', 'try', 'push', 'ear', 'plug', 'ear'], ['protects', 'phone', 'sides'], ['average', 'phone', 'bad', 'battery', 'life', 'operates', 'weak', 'network'], ['clear', 'skype', 'calls', 'long', 'battery', 'life', 'long', 'range'], ['soyo', 'technology', 'sucks'], ['great', 'hands', 'free', 'device'], ['even', 'take', 'self', 'portraits', 'outside', 'exterior', 'display', 'cool'], ['problem', 'others', 'mentioned'], ['trying', 'many', 'many', 'handsfree', 'gadgets', 'one', 'finally', 'works', 'well'], ['magical', 'help'], ['worst', 'piece', 'crap', 'ever', 'along', 'verizon', 'customer', 'service'], ['poor', 'sound', 'quality'], ['best', 'phone', 'market'], ['worked', 'well'], ['company', 'shipped', 'product', 'promptly', 'works', 'well'], ['exactly', 'wanted'], ['picture', 'resolution', 'far', 'comparably', 'priced', 'phones', 'offering', 'today'], ['great', 'deal'], ['excellent', 'product', 'satisfied', 'purchase'], ['highly', 'recommend', 'encourage', 'people', 'give', 'try'], ['better', 'expect'], ['using', 'earpieces', 'left', 'right', 'thing', 'stay', 'ear'], ['great', 'product', 'price'], ['sounds', 'good', 'reasonably', 'priced', 'effective', 'simple'], ['still', 'waiting', 'sure', 'item', 'would', 'work', 'well', 'ever', 'recieve'], ['disappointment'], ['prompt', 'service'], ['excellent', 'product', 'price'], ['pleased', 'headset'], ['waste', 'money', 'time'], ['especially', 'love', 'long', 'battery', 'life'], ['stupid', 'keep', 'buying', 'new', 'chargers', 'car', 'chargers', 'cradles', 'headphones', 'car', 'kits', 'every', 'time', 'new', 'phone', 'comes'], ['works', 'great'], ['plantronics', 'bluetooth', 'excelent', 'buy'], ['came', 'verizon', 'cingulair', 'nicer', 'cell', 'phones', 'first', 'thing', 'noticed', 'really', 'bad', 'service'], ['looking', 'new', 'earpiece'], ['highly', 'recommend', 'device', 'everyone'], ['jawbone', 'era', 'awesome'], ['received', 'white', 'colored', 'battery', 'goes', 'dead', 'couple', 'hoursthe', 'original', 'used', 'last', 'week', 'still', 'lasts', 'longer', 'thereplacement'], ['year', 'battery', 'went', 'completely', 'dead', 'headset'], ['used', 'several', 'phone', 'two', 'years', 'one', 'best'], ['awesome', 'new', 'look', 'fall', '2000'], ['first', 'phone', 'cheaply', 'made'], ['att', 'clear', 'sound', 'distorted', 'yell', 'talk'], ['plastic', 'breaks', 'really', 'easy', 'clip'], ['price', 'good'], ['make', 'mistake'], ['oh', 'forgot', 'also', 'mention', 'weird', 'color', 'effect', 'phone'], ['using', 'iriver', 'spinn', 'case', 'fits', 'fine'], ['also', 'area', 'unit', 'broke', 'fond', 'magnetic', 'strap'], ['overall', 'psyched', 'phone', 'appointments', 'contacts', 'gets', 'great', 'reception'], ['every', 'thing', 'phone', 'work', 'perfectly', 'like'], ['another', 'note', 'phone', 'appearance', 'really', 'looks', 'rather', 'bland', 'especially', 'black', 'model'], ['really', 'easy'], ['sanyo', 'survived', 'dozens', 'drops', 'blacktop', 'without', 'ill', 'effect'], ['fantastic', 'earphones'], ['finds', 'cell', 'phone', 'right', 'away', 'enter', 'car'], ['low', 'quality'], ['highly', 'recommend', 'modest', 'priced', 'cellular', 'phone'], ['get', 'better', 'reception', 'clarity', 'phone'], ['warning', 'stay', 'away'], ['wish', 'could', 'return', 'unit', 'get', 'back', 'money'], ['awsome', 'device', 'works', 'great'], ['used', 'talk', '1', '1', '1', '2', 'hours', 'battery', 'would', 'literally', 'drained', 'dying'], ['find', 'bad', 'unit', 'comes', 'one', 'earpad', 'would', 'recommend', 'anyone'], ['displeased'], ['might', 'gotten', 'defect', 'would', 'risk', 'buying', 'built', 'quality', 'alone'], ['made', 'case', 'small', 'difficult', 'install'], ['restored', 'phone', 'like', 'new', 'performance'], ['would', 'recommend', 'purchasing', 'jabra', 'jx', '10', 'series', '2', 'works', 'flawlessly', 'moto', 'q', 'go', 'figure'], ['searched', 'internet', 'found', 'one', 'best', 'value'], ['fit'], ['happy', 'product'], ['screen', 'size', 'big', 'key', 'pad', 'lit', 'well', 'enough', 'camera', 'quality', 'excellent', 'camera', 'phone'], ['really', 'nothing', 'bad', 'say', 'headset'], ['glad', 'found', 'product', 'amazon', 'hard', 'find', 'high', 'priced'], ['portable', 'works'], ['colleague', 'get', 'great', 'reception', 'little', 'expensive', 'performance', 'great'], ['even', 'fully', 'charged', 'went', 'bed', 'turned', 'blue', 'tooth', 'wi', 'fi', 'noticed', '20', 'left', 'morning'], ['also', 'problems', 'phone', 'reading', 'memory', 'card', 'always', 'turn'], ['good', 'wearing', 'hat', 'sunglasses'], ['timely', 'shipment', 'quality', 'product'], ['nice', 'solid', 'keyboard'], ['well', 'made', 'fits', 'surefire', 'gx2', 'perfectly'], ['horrible', 'phone'], ['bt50', 'battery', 'junk'], ['would', 'recommend', 'others'], ['cant', 'get', 'software', 'work', 'computer'], ['disappointed'], ['poor', 'voice', 'clarity'], ['battery', 'works', 'great'], ['buyers', 'remorse', 'one'], ['disappointed', 'accessoryone'], ['find', 'inexcusable', 'probably', 'returning', 'phone', 'perhaps', 'changing', 'carriers'], ['looks', 'great', 'strong'], ['tmobile', 'service', '2', '3', 'years', 'pretty', 'happy'], ['update', 'procedure', 'difficult', 'cumbersome'], ['disappointment', 'hate', 'anything', 'goes', 'ear'], ['great', 'software', 'motorolas'], ['delivery', 'time'], ['easy', 'use'], ['uncomfortable', 'ear', 'use', 'lg', 'vx9900', 'env'], ['volume', 'switch', 'rocketed', 'unit', 'destination', 'unknown'], ['holds', 'charge', 'long', 'time', 'reasonably', 'comfortable', 'long', 'wearing', 'conditions', 'quality', 'sound', 'tremendous'], ['like', 'return'], ['keyboard', 'really', 'worthwhile', 'usefulness', 'sturdy', 'enough', 'expect', 'problems'], ['verizon', 'bills', 'however', 'difficult', 'understand', 'even', 'though', 'pricing', 'plans', 'simple'], ['charging', 'overnight', 'batteries', 'work', 'great'], ['regret'], ['love', 'phone'], ['disappointment'], ['user', 'friendly'], ['unfortunately', 'ability', 'actually', 'know', 'receiving', 'call', 'rather', 'important', 'feature', 'phone', 'pitiful', 'respect'], ['exchanged', 'phone', 'even', 'problem'], ['results', 'phone', 'either', 'stuck', 'max', 'volume', 'mute'], ['pda', 'rocks'], ['super', 'charged', 'use', 'small', 'hybrid', 'palmtop', 'camera', 'cellphone', 'excels', 'roles'], ['would', 'definitely', 'recommend', 'jabra', 'bt250v', 'looking', 'comfort', 'clarity', 'great', 'price'], ['verizon', '2', 'years', 'ago', 'really', 'liked', 'service'], ['pretty', 'piece', 'junk'], ['plug', 'wrong', 'size'], ['works', 'described'], ['save', 'money', 'item', '11', 'months'], ['bad', 'purchase'], ['well', 'im', 'satisfied'], ['bose', 'noise', 'cancelling', 'amazing', 'important', 'nyc', 'commuter'], ['battery', 'excellent', 'bargain'], ['defective', 'crap'], ['would', 'given', 'star', 'able'], ['wear', 'glasses', 'fits', 'fine'], ['sound', 'quality', 'device', 'unacceptable', 'unless', 'really', 'quiet', 'area', 'almost', 'hear', 'nothing'], ['would', 'recommend', 'item', 'anyone'], ['holster', 'arrived', 'match', 'photo', 'ad'], ['great', 'problems'], ['earlier', 'review', 'noted', 'plug', 'charger', 'nothing', 'happens'], ['frog', 'phone', 'charm', 'adorable', 'eye', 'catching'], ['never', 'know', 'pushed', 'hard', 'enough', 'right', 'number', 'times', 'function', 'want'], ['sound', 'clear', 'people', 'talk', 'amazed', 'quality'], ['got', 'aluminum', 'case', 'new', 'palm', 'vx', 'worked', 'really', 'well', 'protected', 'handheld', 'perfectly', 'far'], ['good', 'product', 'well', 'made'], ['mobile', 'phone', 'tools', 'must'], ['impressed', 'job', 'motorola', 'sturdiness', 'phone'], ['received', 'orders', 'well', 'within', 'shipping', 'timeframe', 'everything', 'good', 'working', 'order', 'overall', 'excited', 'source'], ['phone', 'sturdy', 'waterproof'], ['impressed', 'would', 'recommend', 'item', 'anyone'], ['complaint', 'standard', 'sound', 'volume', 'little', 'low', 'even', 'turned', '5', '5'], ['thanks', 'amazon', 'things', 'need', 'good', 'price'], ['ended', 'sliding', 'edge', 'pants', 'back', 'pockets', 'instead'], ['go', 'store', 'bought', 'new', 'nokia', 'phone', 'working', 'great'], ['works', 'great'], ['really', 'ugly'], ['horrible', 'switch', '3', 'times'], ['noise', 'shield', 'incrediable'], ['real', 'improvement'], ['razr', 'battery', 'good', 'buy'], ['keep', 'good', 'work', 'amazon'], ['refuse', 'refund', 'replace'], ['unfortunately', 'easy', 'accidentally', 'activate', 'gentle', 'touch', 'buttons', 'accidentally', 'touch', 'phone', 'face', 'listening'], ['basically', 'threw', 'money', 'window', 'nothing'], ['great', 'case', 'price'], ['took', 'one', 'drop', '6', 'inches', 'kitchen', 'counter', 'cracked', 'impressed', 'laughing'], ['bluetooth', 'range', 'good', 'days', 'ago', 'left', 'phone', 'trunk', 'got', 'call', 'carried', 'conversation', 'without', 'hitch'], ['small', 'sleek', 'impressive', 'looking', 'practical', 'setup', 'ample', 'storage', 'place'], ['eargels', 'channel', 'sound', 'directly', 'ear', 'seem', 'increase', 'sound', 'volume', 'clarity'], ['none', 'new', 'ones', 'ever', 'quite', 'worked', 'properly'], ['glad', 'purchased'], ['missed', 'numerous', 'calls', 'reason'], ['perhaps', 'phone', 'defective', 'people', 'hear', 'use'], ['buy', 'product'], ['sucked', 'stuff', 'work', 'phone'], ['shifting', 'bubbling', 'peeling', 'even', 'scratch', 'nothing', 'happier', 'new', 'one', 'droid'], ['worst', 'software', 'ever', 'used', 'could', 'give', 'zero', 'stars', 'would'], ['trying', 'make', 'call', 'exercise', 'frustration'], ['case', 'flimsy', 'piece', 'plastic', 'front', 'side', 'protection', 'whatsoever'], ['jabra', 'earset', 'happy', 'sound', 'quality', 'especially', 'outgoing', 'better'], ['love', 'camera', 'really', 'pretty', 'good', 'quality'], ['thank', 'great', 'service'], ['total', 'package'], ['seller', 'understanding', 'patient', 'would', 'definitely', 'buy'], ['give', 'wirefly', '1', 'star', 'contact', 'cingular', 'inform', 'practice'], ['aggravating'], ['great', 'product', 'price'], ['purchased', 'family', 'friends', 'enjoy', 'clarity', 'ease', 'use'], ['virgin', 'wireless', 'rocks', 'cheap', 'little', 'phone'], ['none', 'works', 'buy'], ['muddy', 'low', 'quality', 'sound', 'casing', 'around', 'wire', 'insert', 'poorly', 'super', 'glued', 'slid'], ['please', 'dont', 'waste', 'money'], ['quite', 'satisfied', 'purchase'], ['looking', 'good', 'quality', 'motorola', 'headset', 'keep', 'looking'], ['yet', 'plantronincs', 'continues', 'use', 'flawed', 'charger', 'design'], ['disapointing', 'results'], ['cumbersome', 'design'], ['great', 'new', 'packaged', 'nice', 'works', 'good', 'problems', 'came', 'less', 'time', 'expected'], ['great', 'product'], ['piece', 'crap'], ['experience', 'terrible', 'fourth', 'bluetooth', 'headset', 'much', 'comfortable', 'last', 'jabra', 'hated'], ['fixes', 'problems'], ['worst', 'ever'], ['happy'], ['trouble', 'accessing', 'internet', 'downloading', 'ringtones', 'performing', 'functions'], ['barely', 'ever', 'hear', 'constantly', 'saying'], ['battery', 'life', 'highly', 'unacceptable'], ['company', 'joke'], ['everything', 'description', 'said', 'would'], ['due', 'happening', 'every', 'call', 'forced', 'stop', 'using', 'headset'], ['works', 'great', 'car', 'charger', 'especially', 'plug', 'two', 'adapters', 'time'], ['verizon', 'tech', 'support', 'walked', 'procedures', 'none', 'worked', 'ended', 'hard', 'set', 'wiping', 'data'], ['voice', 'quality', 'signal', 'strength', 'dropped', 'calls'], ['plays', 'louder', 'speaker', 'size', 'price', 'low', 'would', 'think', 'quality', 'lacking', 'however'], ['better', 'expected'], ['feels', 'poorly', 'constructed', 'menus', 'difficult', 'navigate', 'buttons', 'recessed', 'difficult', 'push'], ['battery', 'holding', 'well'], ['also', 'difficult', 'put', 'recommend', 'avoiding', 'product'], ['used', 'two', 'days', 'always', 'easy', 'hear'], ['got', 'car', 'charger', 'even', 'week', 'charger', 'broken', 'went', 'plug', 'started', 'smoking'], ['sprint', 'terrible', 'customer', 'service'], ['linked', 'phone', 'without', 'effort'], ['cool'], ['easy', 'use'], ['better', 'new'], ['possesed', 'get', 'junk', 'idea'], ['piece', 'trash'], ['pretty', 'good', 'product'], ['great', 'phone'], ['price', 'amazon', 'excellent', 'product', 'would', 'highly', 'recommend'], ['research', 'development', 'division', 'obviously', 'knows'], ['real', 'killer', 'volume', 'course', 'breaking'], ['phones', 'working', 'fine'], ['happy', 'product'], ['poor', 'construction'], ['infuriating'], ['overall', 'would', 'recommend', 'phone', 'new', 'walkman'], ['sprint', 'charges', 'service'], ['cheap', 'feel', 'look', 'cheap'], ['fits', 'ear', 'well', 'comfortable'], ['work', 'europe', 'asia'], ['clipping', 'belt', 'deffinitely', 'make', 'feel', 'like', '50', 'cent', 'coming'], ['like', 'design', 'look', 'jabra', 'behing', 'ear', 'headsets', '5020', 'pretty', 'comfortible', 'wear', '24', 'hours', 'day', 'without', 'pain', 'ear'], ['amazed', 'quick', 'arrival', 'two', 'original', 'lg', 'cell', 'phone', 'batteries', 'fraction', 'price'], ['worst', 'phone', 'samsung', 'crap', 'crappy', 'samsung', 'e715', 'worst', 'ever', 'seeen'], ['charger', 'worked', 'week', 'completely', 'stopped', 'charging', 'phone'], ['poor', 'product'], ['however', 'needed', 'better', 'instructions'], ['need', 'two', 'hands', 'operate', 'screen', 'software', 'interface', 'decade', 'old', 'compete', 'new', 'software', 'designs'], ['worked', 'well', 'paired', 'treo', '700w', 'skype', 'headset', 'pc', 'using', 'usb', 'bluetooth', 'transceiver'], ['steer', 'clear', 'product', 'go', 'genuine', 'palm', 'replacementr', 'pens', 'come', 'three', 'pack'], ['buy', 'buyit', 'sucks'], ['great', 'product', 'sure', 'beats', 'using', 'fingers'], ['plus', 'seriously', 'believe', 'worth', 'steep', 'price', 'point'], ['cases', 'tried', 'normally', 'fall', 'apart', 'months', 'one', 'seems', 'long', 'haul'], ['dissapointing', 'performance'], ['make', 'mistake', 'please', 'buy', 'phone'], ['phone', 'might', 'well', 'worst', 'ever', 'brand'], ['case', 'less', 'extra', 'originally', 'put', 'later', 'discarded', 'scratched', 'ear'], ['recommend', 'igo', 'anyone', 'different', 'brand', 'cell', 'phones', 'mp3', 'players', 'family'], ['bother', 'go', 'store'], ['posted', 'detailed', 'comments', 'grey', 'black', 'phone', 'fire', 'red', 'great', 'color'], ['problem', 'item', 'would', 'order', 'needed'], ['get', 'pay', 'guess'], ['software', 'great', 'job', 'could', 'also', 'make', 'ringtones', 'form', 'existing', 'cds', 'without', 'internet', 'connection'], ['im', 'surprised', 'good', 'quality', 'car', 'charger', 'much', 'reviews'], ['fabulous'], ['however', 'bt', 'headsets', 'currently', 'good', 'real', 'time', 'games', 'like', 'first', 'person', 'shooters', 'since', 'audio', 'delay', 'messes'], ['used', 'bitpim', 'free', 'program', 'find', 'internet', 'transfer', 'data', 'phone', 'price', 'cable', 'excellent'], ['disappointing', 'accessory', 'good', 'manufacturer'], ['performed', 'awful', 'muffled', 'tinny', 'incoming', 'sound', 'severe', 'echo', 'end', 'call'], ['wind', 'resistant'], ['obviously', 'terrible', 'customer', 'service', 'get', 'pay'], ['last', 'forever', 'overly', 'expensive', 'replace', 'easy', 'operate', 'sound', 'much', 'better', 'others', 'tried'], ['contacted', 'company', 'told', 'although', 'unit', 'still', 'warranty', 'produce', 'receipt', 'luck'], ['linksys', 'way', 'exchange', 'bad', 'phone', 'refurb', 'unit', 'something'], ['phone', 'sturdy', 'nokia', 'bar', 'phones'], ['great', 'phone'], ['placed', 'treo', 'case', 'snug', 'lot', 'extra', 'room', 'sides'], ['pleased'], ['battery', 'terrible'], ['found', 'product', 'easy', 'set', 'use'], ['earpiece', 'large', 'heavy', 'keeps', 'falling', 'ear'], ['utter', 'crap', 'sound', 'quality', 'terrible'], ['charger', 'arrived', 'within', 'promised', 'timeframe', 'work'], ['ear', 'loop', 'needed', 'tiny', 'sound', 'great'], ['finally', 'three', 'four', 'times', 'spring', 'latch', 'broke', 'could', 'use', 'longer', 'visor'], ['handsfree', 'part', 'works', 'fine', 'car', 'tries', 'download', 'address', 'book', 'treo', 'reboots', 'overall', 'still', 'rate', 'device', 'high'], ['talk', 'useless', 'customer', 'service'], ['felt', 'light', 'tinny'], ['fit', 'palm', 'tungsten', 'e2', 'broke', 'first', 'time', 'tried', 'plug'], ['happy', 'purchase', 'good', 'quality', 'low', 'price'], ['love', 'look', 'feel', 'samsung', 'flipphones'], ['well', 'designed', 'sharp', 'blue', 'nice', 'color'], ['everything'], ['could', 'recommend'], ['nice', 'sound'], ['looks', 'good', 'picture', 'case', 'huge', 'disappointment'], ['much', 'less', 'jawbone', 'going', 'replace'], ['setup', 'went', 'smoothly'], ['extremely', 'slow', 'takes', 'forever', 'anything'], ['must', 'study', 'anyone', 'interested', 'worst', 'sins', 'industrial', 'design'], ['first', 'thing', 'happened', 'tracking'], ['well', 'made', 'easy', 'access', 'phone', 'handy', 'detachable', 'belt', 'clip'], ['continue', 'pairing', 'periodically', 'since', 'somehow', 'kept', 'dropping'], ['upload', 'ringtones', 'third', 'party'], ['bluetooth', 'work', 'phone', 'locks', 'screens', 'flash', 'makes', 'calls', 'randomly', 'pocket', 'locked'], ['truly', 'awful'], ['works', 'fine', 'motorola', '325', 'cellphone', 'lot', 'better', 'worn', 'battery'], ['volume', 'ringer', 'real', 'good', 'choices', 'loud'], ['none', 'tones', 'acceptable'], ['camera', 'color', 'balance', 'awful'], ['product', 'clearly', 'ready', 'prime', 'time', 'care', 'cool', 'looks', 'tell', 'call', 'coming', 'worthless'], ['love', 'ringtones', 'upbeat'], ['chinese', 'forgeries', 'abound'], ['easy', 'pair', 'samsung', 'cell'], ['instructions', 'explain', 'microphone', 'jack', 'could', 'used'], ['would', 'advise', 'purchase', 'item', 'never', 'worked', 'well'], ['bad', 'pay', 'month', 'service'], ['works', 'well'], ['nokia', 'ca', '42', 'usb', 'cable', 'work', 'phone'], ['clear', 'crisp', 'sound'], ['use', 'smallest', 'earpieces', 'provided', 'stays', 'pretty', 'well'], ['biggest', 'complaint', 'battery', 'drains', 'superfast'], ['design', 'might', 'ergonomic', 'theory', 'could', 'stand', 'ear'], ['buy', 'want', 'use', 'holster'], ['phone', 'also', 'take', 'great', 'pictures', 'even', 'video', 'clips'], ['make', 'look', 'cool'], ['ears', 'occupied', 'background', 'distracting'], ['comfortable', 'fit', 'need', 'headset', 'comfortable', 'least', 'hour', 'time', 'entire', 'day'], ['also', 'phone', 'seem', 'accept', 'anything', 'except', 'cbr', 'mp3s', 'preferably', 'ripped', 'windows', 'media', 'player'], ['beat', 'price'], ['comes', 'strong', 'light', 'use', 'light', 'camera', 'shots', 'even', 'flash', 'sos', 'signals', 'seriously'], ['lightweight', 'works', 'well'], ['beware'], ['love', 'cable', 'allows', 'connect', 'mini', 'usb', 'device', 'pc'], ['anyone', 'near', 'hear', 'part', 'conversation'], ['cool', 'cases', 'open', 'allowing', 'screen', 'get', 'scratched'], ['bought', 'phone', 'replacement', 'startac', 'regretted', 'since'], ['appears', 'actually', 'outperform', 'original', 'battery', 'china', 'came', 'v325i'], ['store', 'anything', 'phone', 'numbers', 'sim'], ['lasts', 'less', '3o', 'minutes', 'actually', 'try', 'use', 'phone', 'wife', 'phone', 'problem'], ['poor', 'quality'], ['jabra', 'ear', 'gels', 'r', 'best'], ['worth'], ['phone', 'crashed', 'completely', 'get', 'replaced'], ['quit', 'working', 'used', '18', 'months', 'purchased', 'another', 'one', 'best', 'headset', 'ever', 'owned'], ['unfortunately', 'recharge', 'iphone', '4s', 'despite', 'connecting', 'multiple', 'power', 'sources', 'imac', 'external', 'battery', 'wall', 'outlet', 'etc'], ['great', 'phone'], ['simply', 'want', 'small', 'flip', 'phone', 'look', 'elsewhere', 'extra', 'bells', 'whistles', 'mediocre'], ['good', 'value', 'works', 'fine', 'power', 'via', 'usb', 'car', 'wall', 'outlet'], ['phone', 'slide', 'around', 'car', 'grip', 'prevents', 'phone', 'slipping', 'hand'], ['simply', 'best', 'bluetooth', 'headset', 'sound', 'quality'], ['think', 'plan', 'one', 'sure', 'last', 'moto', 'phone'], ['span', 'hour', 'two', 'people', 'exclaim', 'whoa', 'new', 'phone', 'tv'], ['always', 'used', 'corded', 'headsets', 'freedom', 'wireless', 'helpful'], ['case', 'passed', 'one', 'year', 'mark', 'shows', 'signs', 'wear', '100', 'functional'], ['leather', 'nice', 'soft', 'fit', 'tight', 'cut', 'face', 'good', 'shape'], ['everything', 'need', 'ask'], ['receiving', 'using', 'product', '2', 'days', 'broke'], ['product', 'great', 'makes', 'working', 'lot', 'easier', 'go', 'copier', 'waiting', 'hold', 'something'], ['none', 'three', 'sizes', 'sent', 'headset', 'would', 'stay', 'ears'], ['mobile', 'best', 'customer', 'service', 'anywhere'], ['arrived', 'quickly', 'much', 'less', 'expensive', 'others', 'sold'], ['tried', '2', 'units', 'failed', 'within', '2', 'months', 'pros'], ['provides', 'good', 'protection', 'looks', 'classy'], ['krussel', 'always', 'good'], ['tracfonewebsite', 'user', 'friendly', 'makes', 'easy', 'toactivate', 'etc'], ['design', 'good', '4'], ['great', 'reception', 'time'], ['would', 'highly', 'recommend', 'product'], ['use', 'unit', 'sunglasses', 'good', 'texas'], ['dit', 'work', 'time', 'nokia', '5320'], ['bought', 'mainly', 'charger', 'broke', 'soon', 'purchasing'], ['like', 'loud', 'buzzing', 'override', 'conversations', 'phone'], ['fantastic', 'buy', 'get', 'whatever', 'next', 'phone'], ['stay', 'away', 'store', 'careful'], ['blueant', 'supertooth', 'hands', 'free', 'phone', 'speaker', 'awesome'], ['fit'], ['item', 'arrived', 'quickly', 'works', 'great', 'metro', 'pcs', 'samsung', 'sch', 'r450', 'slider', 'phone', 'sony', 'premium', 'sound', 'ear', 'plugs'], ['light', 'plenty', 'battery', 'capacity', 'confortable', 'wear', 'somewhat', 'extended', 'periods', 'time'], ['disappointing'], ['blue', 'ant', 'easy', 'use'], ['cheap', 'hey', 'works', 'pleasantly', 'suprised', 'given', 'low', 'cost', 'item'], ['camera', 'phone', 'may', 'used', 'dustpan', 'indoors', 'rather', 'using', 'disposable'], ['days', 'later', 'puff', 'smoke', 'came', 'phone', 'use'], ['convenient', 'simple', 'use', 'gets', 'job', 'done', 'makes', 'car', 'ride', 'much', 'smoother'], ['nano', 'stated', 'son', 'dissapointed'], ['sound', 'quality', 'excellent', 'well'], ['best', 'headset', 'used'], ['would', 'reccommend'], ['around', 'years', 'carries', 'highest', 'quality', 'anti', 'glare', 'screen', 'protector', 'found', 'date'], ['wanted'], ['particular', 'model', 'would', 'work', 'motorola', 'q', 'smartphone'], ['wont', 'work', 'right', 'atleast'], ['addition', 'feels', 'amp', 'looks', 'phone', 'lightweight', 'cheap', 'plastic'], ['warranty', 'problems', 'reoccure', 'bottom', 'line', 'put', 'money', 'somewhere', 'else', 'cingular', 'support'], ['really', 'wanted', 'plantronics', '510', 'right', 'one', 'many', 'issues', 'good'], ['great', 'product'], ['crisp', 'clear'], ['first', 'charge', 'kept', 'going', 'dead', '12', 'minutes'], ['cheap', 'plastic', 'creaks', 'like', 'old', 'wooden', 'floor'], ['get', 'absolutely', 'horrible', 'reception', 'apartment', 'phones', 'problem'], ['reception', 'generally', 'good'], ['excellent', 'sound', 'battery', 'life', 'inconspicuous', 'boot'], ['great', 'bluetooth'], ['highly', 'recommend', 'case'], ['worthwhile'], ['great', 'deal'], ['phone', 'got', 'year', 'old', 'slowly', 'breaking', 'despite', 'much', 'care', 'part'], ['sorry', 'made', 'purchase'], ['bought', 'hoping', 'could', 'make', 'bluetooth', 'headset', 'fit', 'better', 'things', 'made', 'impossible', 'wear'], ['treo', 'mobile', 'refused', 'replace', 'forced', 'buy', 'another', 'phone', 'without', 'kind', 'upgrade', 'discount'], ['horrible'], ['think', 'would', 'hold', 'securly', 'belt'], ['allows', 'possibility', 'double', 'booking', 'date', 'time', 'first'], ['work', '2', 'weeks', 'break'], ['simple', 'use', 'like'], ['great', 'tool', 'entertainment', 'communication', 'data', 'management', 'oh', 'sure', 'use', 'activesync', '4', '2', 'optimal', 'data', 'synchronization', 'results'], ['use', 'case', 'smell', 'disgusting'], ['wanted'], ['2', 'cases', 'would', 'order', 'another'], ['great', 'phone'], ['bought', 'battery', 'coupon', 'amazon', 'happy', 'purchase'], ['internet', 'access', 'fine', 'rare', 'instance', 'worked'], ['perfect', 'ps3'], ['five', 'star', 'plus', 'plus'], ['good', 'quality', 'bargain', 'bought', 'bought', 'cheapy', 'big', 'lots', 'sounded', 'awful', 'people', 'end', 'hear'], ['50', 'drain'], ['tried', 'talking', 'real', 'loud', 'shouting', 'telephone', 'gets', 'old', 'still', 'told', 'great'], ['good', 'works', 'fine'], ['price', 'great', 'deal'], ['great', 'price'], ['wind', 'completely', 'useless'], ['yes', 'shiny', 'front', 'side', 'love'], ['work'], ['first', 'thought', 'grtting', 'good', 'deal', '7', '44', 'plugged', 'phone', 'v3c', 'razr'], ['reception', 'headset', 'excellent'], ['2', 'thumbs', 'seller'], ['verizon', 'lg', 'phone', 'work', 'well', 'together', 'good', 'reception', 'range', 'exceeds', '20', 'feet', 'line', 'sight'], ['improper', 'description', 'return'], ['1', 'works', '2', 'comfortable'], ['battery', 'charge', 'life', 'quite', 'long'], ['jabra', 'eargels', 'fit', 'ears', 'well'], ['battery', 'life'], ['checked', 'everywhere', 'feature', 'really', 'disappointing'], ['product', 'exactly', 'described'], ['gets', 'signal', 'verizon', 'phones'], ['job'], ['would', 'recommend'], ['plan', 'ordering'], ['said', 'phone', 'camera', 'nice', 'many', 'cool', 'effects', 'play', 'video', 'decent', 'well'], ['satisfied', 'cell', 'phone', 'day', 'one'], ['keep', 'getting', 'better', 'better', 'third', 'one', 'numerous', 'palms'], ['awkward', 'use', 'unreliable'], ['shipping', 'time', 'also', 'quick'], ['good', 'hoped'], ['good', 'case'], ['work'], ['really', 'good', 'product'], ['unfortunately', 'work'], ['three', 'broke', 'within', 'two', 'months', 'use'], ['dont', 'buy'], ['father', 'v265', 'battery', 'dying'], ['however', 'ear', 'pads', 'come', 'easily', 'one', 'week', 'lost', 'one'], ['calls', 'drop', 'phone', 'comes', 'screen', 'goes', 'black', 'worst', 'stops', 'ringing', 'intermittently'], ['horrible', 'horrible', 'protector'], ['like', 'nokia', 'either'], ['reaching', 'bottom', 'row', 'uncomfortable', 'send', 'end', 'keys', 'expect', '3'], ['bought', 'nokia', 'cell', 'phone', 'weeks', 'ago', 'nightmare'], ['would', 'take', 'long', 'describe', 'bad', 'customer', 'service', 'experience', 'amazon'], ['disappointing', 'thing', 'speakerphone'], ['terrible', 'car', 'accept', 'cassette'], ['product', 'useless', 'since', 'enough', 'charging', 'current', 'charge', '2', 'cellphones', 'planning', 'use'], ['says'], ['stay', 'away', 'q'], ['used', 'dirty'], ['unreliable', 'service', 'mobile'], ['good', 'enough', 'price'], ['bought', 'two', 'neither', 'charge'], ['looks', 'nice'], ['excellent', 'tool', 'especially', 'paired', 'phone', 'auto', 'answer'], ['read', 'reviews', 'problem'], ['products', 'cover', 'important', 'light', 'sensor', 'ear', 'outlet'], ['comfortable', 'hand'], ['work'], ['poor', 'reliability'], ['works'], ['take', 'picture', 'battery', 'drops', 'bar', 'starts', 'beeping', 'letting', 'know', 'dieing'], ['terrible', 'product', 'waste', 'money'], ['last', 'time', 'buying'], ['waste', 'money'], ['far', 'worked', 'like', 'charm'], ['weeks', 'far', 'good'], ['case', 'best', 'part', 'download', 'pictures', 'laptop', 'using', 'ir', 'even', 'send', 'pictures', 'laptop', 'phone'], ['would', 'recommend', 'item'], ['choice', 'headset', 'years', 'great', 'sound', 'good', 'volume', 'good', 'noise', 'cancellation'], ['nice', 'case', 'feels', 'good', 'hands'], ['item', 'received', 'counterfeit'], ['really', 'good', 'far', 'probably', 'best', 'bt', 'headset', 'ever'], ['works', 'fine'], ['received', 'headset', 'good', 'time', 'happy'], ['pleased', 'see', 'could', 'replace', 'well', 'travled', 'swivel', 'holster', 'blackberry', 'flip'], ['sister', 'one', 'also', 'loves'], ['good', 'quality'], ['far', 'worst', 'purchase', 'made', 'amazon'], ['excellent', 'dual', 'purpose', 'headset'], ['excellent'], ['work', 'listening', 'music', 'cingular', '8125'], ['seems', 'completely', 'secure', 'holding', 'belt', 'keeping', 'iphone', 'inside'], ['bottowm', 'line', 'another', 'worthless', 'cheap', 'gimmick', 'sprint'], ['trouble', 'volume'], ['good', 'thing', 'fits', 'comfortably', 'small', 'ears'], ['warning', 'buy'], ['pairing', 'iphone', 'could', 'happier', 'far'], ['opens', 'battery', 'connection', 'broken', 'device', 'turned'], ['want', 'clip', 'going', 'top', 'ear', 'causing', 'discomfort'], ['best', 'headset', 'ever'], ['trust', 'website', 'expect', 'helpful', 'support'], ['loud', 'glad', 'say', 'plantronics', '510', 'maintains', 'flawless', 'connection', 'cell', 'static', 'normal', 'use'], ['speaker', 'low', 'quality', 'making', 'ring', 'tones', 'sound', 'cheap'], ['fits', 'comfortably', 'came', 'three', 'sizes', 'earbud', 'tips'], ['excellent', 'product', 'price'], ['bad', 'reception'], ['product', 'high', 'quality', 'chinese', 'crap'], ['quite', 'comfortable', 'ear'], ['great', 'phone'], ['buy', 'product', 'fails'], ['everything', 'product', 'wrong', 'first'], ['pairing', 'two', 'devices', 'easy', 'barely', 'took', 'couple', 'minutes', 'started', 'making', 'calls', 'voice', 'dialing', 'feature'], ['utterly', 'confusing', 'first', 'caused', 'lose', 'couple', 'important', 'contacts'], ['terrible', 'phone', 'holder'], ['cutouts', 'buttons', 'placed', 'perfectly'], ['love', 'able', 'use', 'one', 'headset', 'land', 'line', 'cell'], ['problem', 'ear', 'loops', 'made', 'weak', 'material', 'break', 'easily'], ['nearly', 'good', 'looking', 'amazon', 'picture', 'makes', 'look'], ['despite', 'flaws', 'case', 'exceptional', 'quality', 'well', 'worth', 'additional', 'costs', 'owning', 'official', 'oem', 'product'], ['stupid'], ['hear', 'driving', 'car', 'usually', 'even', 'put', 'loudest', 'setting'], ['seller', 'shipped', 'quickly', 'much', 'cheaper', 'competitors'], ['good', 'show', 'samsung'], ['bought', '10', 'saved', 'alot', 'money'], ['always', 'cuts', 'makes', 'beep', 'beep', 'beep', 'sound', 'says', 'signal', 'failed'], ['figure'], ['phone', 'sounded', 'ok', 'great', 'ok', 'wife', 'phone', 'almost', 'totally', 'unintelligible', 'understand', 'word', 'said'], ['take', 'battery', 'phone', 'put', 'back', 'together', 'restart'], ['managed', 'bend', 'leaf', 'spring', 'back', 'place', 'metal', 'enough', 'stress', 'break', 'next', 'drop'], ['leopard', 'print', 'wonderfully', 'wild'], ['works'], ['saggy', 'floppy', 'piece', 'junk'], ['much', 'better', 'hard', 'plastic', 'cases'], ['also', 'new', 'problem'], ['happy', 'far'], ['cool', 'phone'], ['works', 'good'], ['motorola', 'finally', 'got', 'voice', 'quality', 'bluetooth', 'headset', 'right'], ['looses', 'connection', 'phone', 'even', 'within', 'couple', 'feet', 'two'], ['great', 'would', 'really', 'recommend'], ['makes', 'easier', 'keep', 'bluetooth', 'wearing'], ['said', 'pretty', 'useless'], ['never', 'got'], ['pair', 'headphones', 'worst', 'ever', 'sound', 'wise'], ['drain', 'weak', 'snap'], ['charge', 'cingular', 'att', '8525', 'phone'], ['get', 'extra', 'minutes', 'carry', 'call', 'get', 'cut'], ['however', 'year', 'fliptop', 'started', 'get', 'loose', 'wobbly', 'eventually', 'screen', 'went', 'black', 'receive', 'place', 'calls'], ['kept', 'catching', 'cable', 'seat', 'pull', 'phone', 'turn'], ['headset', 'fulfills', 'requirements', 'happy', 'purchase'], ['logitech', 'bluetooth', 'headset', '10'], ['like', 'fact', 'rests', 'lightly', 'ear', 'rather', 'inside'], ['lot', 'websites', 'rating', 'good', 'phone'], ['tried', 'cables', 'computer', 'ipod', 'works', 'fine'], ['mic', 'joke', 'volume', 'quite', 'low'], ['returning'], ['maintain', 'connection', 'computer', 'lap'], ['easy', 'turn', 'car', 'volume', 'controls', 'quite', 'accessable'], ['mine', 'year', 'christmas', 'bought', 'rest', 'family'], ['otherwise', 'easy', 'install', 'use', 'clear', 'sound'], ['nice', 'leather'], ['purchase', 'different', 'case'], ['joy', 'use'], ['much', 'disappointed', 'company'], ['satisifed'], ['charge'], ['phone', 'get', '2005', 'bought', 's710a', 'say', 'wow'], ['buttons', 'small'], ['reading', 'specs', 'alone', 'makes', 'say', 'wow'], ['love', 'great', 'armband'], ['really', 'like', 'product', 'motorola', 'allot', 'clearer', 'ear', 'piece', 'mic'], ['however', 'keypads', 'tinny', 'sometimes', 'reach', 'wrong', 'buttons'], ['exchanged', 'sony', 'ericson', 'z500a', 'pretty', 'happy', 'decision'], ['impressed', 'price', 'cases'], ['also', 'makes', 'easier', 'hold'], ['use', 'product', 'motor', 'control', 'center', 'lot', 'high', 'voltage', 'humming', 'equipment', 'works', 'great'], ['pretty', 'easy'], ['make', 'calls', 'certain', 'places'], ['however', 'girl', 'complain', 'time', 'phone', 'wake', 'like', 'normal', 'phone'], ['beautiful', 'styling', 'though'], ['company', 'charge', 'restocking', 'fee', 'still', 'given', 'refund', 'back'], ['trying', 'return', 'refund'], ['plugged', 'find', 'darn', 'thing', 'worked'], ['excellent', 'product'], ['earbud', 'piece', 'breaks', 'easily'], ['lousy', 'product'], ['phone', 'tries', 'hard', 'everything', 'fails', 'ability', 'phone'], ['best', 'charger', 'seen', 'market', 'yet'], ['sweetest', 'phone'], ['oh', 'charger', 'seems', 'work', 'fine'], ['fits', 'securely', 'ear', 'hook', 'even', 'need', 'used', 'sound', 'better', 'directed', 'ear', 'canal'], ['enough', 'volume'], ['echo', 'problem', 'unsatisfactory'], ['could', 'take', '2', 'videos', 'time', 'quality', 'poor'], ['waste', 'money'], ['going', 'first', 'negatively', 'review', 'product'], ['adapter', 'provide', 'enough', 'charging', 'current'], ['much', 'hype', 'phone', 'assumed', 'best', 'mistake'], ['also', 'take', 'pictures', 'case', 'lense', 'covered'], ['phone', 'falls', 'easily'], ['work', 'people', 'hear', 'talk'], ['text', 'messaging', 'feature', 'really', 'tricky', 'use'], ['really', 'disappointed', 'charger', 'work'], ['painful', 'ear'], ['lasted', 'one', 'day', 'blew'], ['disappointed'], ['kind', 'flops', 'around'], ['screen', 'get', 'smudged', 'easily', 'touches', 'ear', 'face'], ['piece', 'junk', 'lose', 'calls', 'phone'], ['item', 'match', 'picture'], ['thing', 'disappoint', 'infra', 'red', 'port', 'irda'], ['answer', 'calls', 'unit', 'never', 'worked'], ['slow', 'moving', 'aimless', 'movie', 'distressed', 'drifting', 'young', 'man'], ['sure', 'lost', 'flat', 'characters', 'audience', 'nearly', 'half', 'walked'], ['attempting', 'artiness', 'black', 'white', 'clever', 'camera', 'angles', 'movie', 'disappointed', 'became', 'even', 'ridiculous', 'acting', 'poor', 'plot', 'lines', 'almost', 'non', 'existent'], ['little', 'music', 'anything', 'speak'], ['best', 'scene', 'movie', 'gerardo', 'trying', 'find', 'song', 'keeps', 'running', 'head'], ['rest', 'movie', 'lacks', 'art', 'charm', 'meaning', 'emptiness', 'works', 'guess', 'empty'], ['wasted', 'two', 'hours'], ['saw', 'movie', 'today', 'thought', 'good', 'effort', 'good', 'messages', 'kids'], ['bit', 'predictable'], ['loved', 'casting', 'jimmy', 'buffet', 'science', 'teacher'], ['baby', 'owls', 'adorable'], ['movie', 'showed', 'lot', 'florida', 'best', 'made', 'look', 'appealing'], ['songs', 'best', 'muppets', 'hilarious'], ['cool'], ['right', 'case', 'movie', 'delivers', 'everything', 'almost', 'right', 'face'], ['average', 'acting', 'main', 'person', 'low', 'budget', 'clearly', 'see'], ['review', 'long', 'overdue', 'since', 'consider', 'tale', 'two', 'sisters', 'single', 'greatest', 'film', 'ever', 'made'], ['put', 'gem', 'movie', 'terms', 'screenplay', 'cinematography', 'acting', 'post', 'production', 'editing', 'directing', 'aspect', 'film', 'making'], ['practically', 'perfect', 'true', 'masterpiece', 'sea', 'faux', 'masterpieces'], ['structure', 'film', 'easily', 'tightly', 'constructed', 'history', 'cinema', '1', 'think', 'film', 'something', 'vitally', 'important', 'occurs', 'every', 'minute', '1', 'words', 'content', 'level', 'film', 'enough', 'easily', 'fill', 'dozen', 'films', '1', 'anyone', 'right', 'mind', 'ask', 'anything', 'movie', '1', 'quite', 'simply', 'highest', 'superlative', 'form', 'cinema', 'imaginable', '1', 'yes', 'film', 'require', 'rather', 'significant', 'amount', 'puzzle', 'solving', 'pieces', 'fit', 'together', 'create', 'beautiful', 'picture', '1', 'short', 'film', 'certainly', 'pulls', 'punches', '0', 'graphics', 'far', 'best', 'part', 'game', '0', 'number', 'one', 'best', 'th', 'game', 'series', '1', 'deserves', 'strong', 'love', '1', 'insane', 'game', '1', 'massive', 'levels', 'massive', 'unlockable', 'characters', 'massive', 'game', '1', 'waste', 'money', 'game', '1', 'kind', 'money', 'wasted', 'properly', '1', 'actually', 'graphics', 'good', 'time', '1', 'today', 'graphics', 'crap', '0', 'say', 'canada', 'fun', 'game', 'aye', '1', 'game', 'rocks', '1', 'buy', 'play', 'enjoy', 'love', '1', 'pure', 'brilliance', '1', 'flick', 'doomed', 'conception', '0', 'idea', 'lame', 'take', 'minor', 'character', 'mediocre', 'pg', '13', 'film', 'make', 'complete', 'non', 'sequel', 'changing', 'tone', 'pg', 'rated', 'family', 'movie', '0', 'least', 'bit', 'interested', '0', 'confirm', 'film', 'would', 'unfunny', 'generic', 'also', 'managed', 'give', 'away', 'entire', 'movie', 'exaggerating', 'every', 'moment', 'every', 'plot', 'point', 'every', 'joke', 'told', 'trailer', '0', 'funny', '0', 'even', 'talented', 'carrell', 'save', '0', 'co', 'stars', 'fare', 'much', 'better', 'people', 'like', 'morgan', 'freeman', 'jonah', 'hill', 'ed', 'helms', 'wasted', '0', 'story', 'predictable', 'lazy', '0', 'real', 'effects', 'work', 'presence', 'animals', 'integration', 'scenes', 'worst', 'obvious', 'blue', 'green', 'screen', 'work', 'ever', 'seen', '0', 'whatever', 'cost', 'much', 'translate', 'quality', 'sure', '0', 'film', 'succeeds', 'despite', 'perhaps', 'obviously', 'meagre', 'budget', '1', 'glad', 'film', 'go', 'obvious', 'choice', 'lesser', 'film', 'certainly', 'would', '1', 'addition', 'one', 'lovely', 'songs', 'ever', 'written', 'french', 'cancan', 'also', 'boasts', 'one', 'cutest', 'leading', 'ladies', 'ever', 'grace', 'screen', '1', 'hard', 'fall', 'head', 'heels', 'love', 'girl', '1', 'negative', 'insipid', 'enough', 'cause', 'regret', 'another', '2', 'hours', 'life', 'wasted', 'front', 'screen', '0', 'long', 'whiny', 'pointless', '0', 'recommend', 'waiting', 'future', 'efforts', 'let', 'one', 'go', '0', 'excellent', 'cast', 'story', 'line', 'performances', '1', 'totally', 'believable', '1', 'anne', 'heche', 'utterly', 'convincing', '1', 'sam', 'shepard', 'portrayal', 'gung', 'ho', 'marine', 'sobering', '1', 'sat', 'riveted', 'tv', 'screen', '1', 'give', 'one', 'resounding', '9', '10', '1', 'think', 'tom', 'hanks', 'good', 'actor', '1', 'enjoyed', 'reading', 'book', 'children', 'little', '1', 'disappointed', 'movie', '0', 'one', 'character', 'totally', 'annoying', 'voice', 'gives', 'feeling', 'fingernails', 'chalkboard', '0', 'totally', 'unnecessary', 'train', 'roller', 'coaster', 'scene', '0', 'absolutely', 'warmth', 'charm', 'scenes', 'characters', '0', 'movie', 'totally', 'grates', 'nerves', '0', 'performances', 'improved', 'improvisation', 'actors', 'twice', 'much', 'worry', 'whether', 'delivering', 'line', 'well', 'whether', 'line', 'good', '0', 'quite', 'honestly', 'often', 'good', '0', 'often', 'dialogue', 'really', 'follow', 'one', 'line', 'another', 'fit', 'surroundings', '0', 'crackles', 'unpredictable', 'youthful', 'energy', 'honestly', 'found', 'hard', 'follow', 'concentrate', 'meanders', 'badly', '0', 'generally', 'great', 'things', '1', 'say', 'worth', '2', 'hours', 'time', 'though', '0', 'suspense', 'builders', 'good', 'cross', 'line', 'g', 'pg', '1', 'especially', 'liked', 'non', 'cliche', 'choices', 'parents', 'movies', 'could', 'predict', 'dialog', 'verbatim', 'writing', 'movie', 'made', 'better', 'selections', '1', 'want', 'movie', 'gross', 'gives', 'chills', 'great', 'choice', '1', 'alexander', 'nevsky', 'great', 'film', '1', 'amazing', 'film', 'artist', 'one', 'important', 'whoever', 'lived', '1', 'glad', 'pretentious', 'piece', 'planned', 'dodge', 'stratus', 'big', 'shots', 'gon', 'na', 'help', 'movie', 'makers', 'restrained', 'movie', 'business', 'qu', 'bec'], ['first', 'movie', 'given', '10', 'years'], ['ever', 'movie', 'needed', 'word', 'mouth', 'promote'], ['overall', 'film', 'interesting', 'thought', 'provoking'], ['plus', 'well', 'paced', 'suited', 'relatively', 'short', 'run', 'time'], ['give', 'one', 'look'], ['gave', '10'], ['wind', 'lion', 'well', 'written', 'superbly', 'acted'], ['true', 'classic'], ['actually', 'turned', 'pretty', 'decent', 'far', 'b', 'list', 'horror', 'suspense', 'films', 'go'], ['definitely', 'worth', 'checking'], ['problem', 'script'], ['horrendous'], ['nothing', 'believable'], ['suspense', 'feeling', 'frustration', 'retarded', 'girls'], ['manna', 'heaven', 'terrific', 'film', 'predictable', 'unpredictable', 'time'], ['scenes', 'often', 'funny', 'occasionally', 'touching', 'characters', 'evaluate', 'lives', 'going'], ['cast', 'veteran', 'actors', 'nostalgia', 'trip'], ['ursula', 'burton', 'portrayal', 'nun', 'touching', 'funny', 'time', 'making', 'fun', 'nuns', 'church'], ['looking', 'movie', 'terrific', 'cast', 'good', 'music', 'including', 'shirley', 'jones', 'rendition', 'way', 'look', 'tonight', 'uplifting', 'ending', 'give', 'one', 'try'], ['think', 'disappointed'], ['frankly', 'cotton', 'club', 'unfaithful', 'kind', 'embarrassing', 'watch', 'lane', 'gere', 'film', 'bad'], ['acting', 'bad', 'dialogs', 'extremely', 'shallow', 'insincere'], ['predictable', 'even', 'chick', 'flick'], ['politically', 'correct'], ['disappointing'], ['thing', 'really', 'worth', 'watching', 'scenery', 'house', 'beautiful'], ['love', 'lane', 'never', 'seen', 'movie', 'lousy'], ['hour', 'half', 'wish', 'could', 'bring', 'back'], ['terms', 'writing', 'fresh', 'bold'], ['acting', 'helps', 'writing', 'along', 'well', 'maybe', 'idiot', 'savant', 'sister', 'could', 'played', 'better', 'real', 'joy', 'watch'], ['directing', 'cinematography', 'quite', 'good'], ['movie', 'boring', 'sometimes', 'found', 'occupied', 'peaking', 'paper', 'instead', 'watching', 'never', 'happened', 'columbo', 'movie'], ['sometimes', 'embarrassing', 'look', 'away'], ['directing', 'seems', 'pretentious'], ['scenes', 'oh', 'mature', 'neighbour', 'girl', 'misplace'], ['generally', 'lines', 'plot', 'weaker', 'average', 'episode'], ['scene', 'debated', 'whether', 'sack', 'trumpeter', 'falsely', 'accused', 'murder', 'pure', 'horror', 'really', 'stupid'], ['applause', 'given', 'prelude', 'however'], ['really', 'liked'], ['great', 'film', 'great', 'director'], ['movie', 'edge', 'seat', 'made', 'somewhat', 'afraid', 'go', 'car', 'end', 'night'], ['music', 'film', 'really', 'nice'], ['advise', 'anyone', 'go', 'see'], ['brilliant'], ['10', '10'], ['liked', 'movie', 'way', 'much'], ['problem', 'thought', 'actor', 'playing', 'villain', 'low', 'rent', 'michael', 'ironside'], ['rocked', 'world', 'certainly', 'must', 'see', 'anyone', 'social', 'physical', 'outlets'], ['however', 'make', 'fact', 'overall', 'tremendously', 'boring', 'movie'], ['chemistry', 'ben', 'affleck', 'sandra', 'bullock', 'film', 'understand', 'would', 'consider', 'even', 'leaving', 'wife', 'chick', 'supposedly', 'knocked'], ['several', 'moments', 'movie', 'need', 'excruciatingly', 'slow', 'moving'], ['poor', 'remake', 'best', 'friends', 'wedding'], ['great', 'disappointment'], ['believe', 'actors', 'agreed', 'film'], ['could', 'stand', 'even', 'watch', 'long', 'fear', 'losing', 'q'], ['guess', 'nobody', 'network', 'aired', 'dribble', 'watched', 'putting'], ['imdb', 'ratings', 'go', 'low', '1', 'awful', 'time', 'get', 'negative', 'numbers', 'cases'], ['saw', 'mirrormask', 'last', 'night', 'unsatisfactory', 'experience'], ['unfortunately', 'inexperience', 'direction', 'meant', 'scene', 'scene', 'passed', 'little', 'way', 'dramatic', 'tension', 'conflict'], ['central', 'themes', 'film', 'handled', 'ineptly', 'stereotypically', 'depth', 'imagination'], ['pretty', 'pictures', 'world', 'make', 'piece', 'work', 'flawed', 'core'], ['hour', 'half', 'waste', 'time', 'following', 'bunch', 'pretty', 'high', 'schoolers', 'whine', 'cry', 'life'], ['relate', 'hell', 'barely', 'understand'], ['definitely', 'cult', 'classic', 'well', 'worth', 'viewing', 'sharing', 'others'], ['movie', 'pure', 'disaster', 'story', 'stupid', 'editing', 'worst', 'seen', 'confuses', 'incredibly'], ['fish', 'badly', 'made', 'underwater', 'shots', 'repeated', 'thousand', 'times', 'film'], ['truly', 'truly', 'bad', 'film'], ['acting', 'terrible', 'writing', 'worse'], ['possible', 'way', 'movie', 'could', 'redeemed', 'would', 'mst3k', 'fodder'], ['paid', 'much'], ['also', 'real', 'treat', 'see', 'anthony', 'quinn', 'playing', 'crazy', 'horse'], ['boring'], ['plot', 'whatsoever'], ['plot'], ['horrible'], ['worst', 'hour', 'half', 'life', 'oh', 'gosh'], ['walk', 'theatre', 'minutes', 'get', 'relief'], ['hate', 'movies', 'like'], ['yeah', 'movie', 'pretty', 'much', 'sucked'], ['plot', 'storyline'], ['go', 'see', 'movie', 'bring', 'pillow', 'girlfriend', 'boyfriend', 'keep', 'occupied'], ['awful'], ['think', 'ever', 'gone', 'movie', 'disliked', 'much'], ['good', 'thing', 'tickets', 'cost', 'five', 'dollars', 'would', 'mad', 'paid', '7', '50', 'see', 'crap'], ['nobody', 'identifies', 'characters', 'cardboard', 'cutouts', 'stereotypes', 'predictably', 'reverse', 'stereotypes'], ['bad', 'film', 'bad', 'writing', 'good', 'actors', 'ugly', 'cartoon', 'crafted', 'paul', 'haggis', 'people', 'handle', 'anything', 'bold', 'strokes', 'storytelling', 'picture', 'painted', 'crayons'], ['crash', 'depressing', 'little', 'nothing', 'provokes', 'emotion', 'teaches', 'nothing', 'already', 'know', 'racism', 'prejudice', 'bad', 'things'], ['still', 'like', 'movie', 'empowerment', 'women', 'enough', 'movies', 'like', 'one'], ['brain', 'attempt', 'shut', 'part', 'primal', 'impulse', 'self', 'preservation'], ['left', 'shattered', 'experience', 'watching', 'film', 'took', 'good', 'two', 'hours', 'fully', 'recover'], ['movie', 'joins', 'revenge', 'boogeyman', 'zombiez', 'part', 'hellish', 'trinity', 'horror', 'films'], ['certainly', 'mean', 'distinction', 'good', 'way'], ['mean', 'terrible', 'way'], ['film', 'redeeming', 'features'], ['everything', 'appalling'], ['artless', 'camera', 'work', 'endlessly', 'presents', 'us', 'ugliest', 'setting', 'imaginable', 'e'], ['story', 'beyond', 'stupid'], ['script', 'script'], ['kids', 'annoying'], ['lead', 'man', 'charisma', 'free'], ['utterly', 'without', 'merit', 'level', 'akin', 'torture'], ['even', 'say', 'torture'], ['maybe', 'would', 'reasonable', 'explanation', 'atrocity'], ['pleasant', 'voyage', 'self', 'discovery'], ['highly', 'unrecommended'], ['premise', 'sound', 'stupid'], ['yes', 'bad'], ['nothing', 'recommend'], ['excellent', 'performance', 'ms'], ['garbo', 'showed', 'right', 'bat', 'talents', 'could', 'carry', 'silent', 'era', 'wanted', 'see', 'silent', 'work', 'netflix', 'seem', 'stocking'], ['also', 'great', 'see', 'renowned', 'silent', 'screenwriter', 'frances', 'marion', 'missed', 'step', 'going', 'silent', 'sound'], ['movie', 'suffered', 'writing', 'needed', 'suspense'], ['many', 'close', 'ups'], ['movie', 'seemed', 'drag', 'heroes', 'really', 'work', 'freedom'], ['movie', 'definitely', 'average', 'rent'], ['love', '1', 'movie', 'bad', '0', 'bad', '0', 'film', 'way', 'long', '0', 'definitely', 'one', 'bad', 'ones', '0', 'movie', 'received', 'great', 'quality', 'film', 'age', '1', 'john', 'wayne', 'incredible', 'job', 'young', 'movie', 'industry', '1', 'screen', 'presence', 'shined', 'thought', 'even', 'though', 'senior', 'actors', 'screen', '1', 'think', 'must', 'see', 'older', 'john', 'wayne', 'film', '1', 'really', 'see', 'anyone', 'could', 'enjoy', 'movie', '0', 'think', 'ever', 'seen', 'movie', 'half', 'boring', 'self', 'indulgent', 'piece', 'junk', '0', 'probably', 'would', 'better', 'director', 'spent', 'movie', 'showcasing', 'art', 'work', 'really', 'noteworthy', '0', 'another', 'thing', 'really', 'like', 'character', 'got', 'punched', 'face', 'gallon', 'blood', 'would', 'spew', 'forth', 'soon', '0', 'jamie', 'foxx', 'absolutely', 'ray', 'charles', '1', 'performance', 'simply', 'genius', '1', 'owns', 'film', 'spacek', 'owned', 'coal', 'miner', 'daughter', 'quaid', 'owned', 'great', 'balls', 'fire'], ['fact', 'hard', 'remember', 'part', 'ray', 'charles', 'acted', 'played', 'man', '1', 'ray', 'charles', 'legendary', '1', 'ray', 'charles', 'life', 'provided', 'excellent', 'biographical', 'material', 'film', 'goes', 'well', 'beyond', 'another', 'movie', 'musician', '1', 'hitchcock', 'great', 'director', '1', 'ironically', 'mostly', 'find', 'films', 'total', 'waste', 'time', 'watch', '0', 'secondly', 'hitchcock', 'pretty', 'much', 'perfected', 'thriller', 'chase', 'movie', '1', 'pandering', 'audience', 'sabotages', 'films', '0', 'hence', 'whole', 'story', 'lacks', 'certain', 'energy', '0', 'plot', 'simply', 'rumbles', 'like', 'machine', 'desperately', 'depending', 'addition', 'new', 'scenes', '0', 'usual', 'hitchcock', 'logic', 'flaws', '0', 'mishima', 'extremely', 'uninteresting', '0', 'chilly', 'unremarkable', 'movie', 'author', 'living', 'working', 'chilly', 'abstruse', 'culture', '0', 'flat', 'reenactments', 'hold', 'attention', 'emotionally', 'adrift', 'stagy', '0', 'rest', 'sits', 'awful', 'soldiers', 'singing', 'songs', 'masculinity', 'pledge', 'hairsplitting', 'purity', 'admiration', 'swords', 'etc', '0', 'bore', 'pieces', 'kill', 'momentum', 'movie', 'quicker', 'anyone', 'else', '0', 'schrader', 'made', 'resume', 'full', 'lousy', 'amateurish', 'films', '0', 'first', 'watched', 'movie', '80s', 'loved', '1', 'totally', 'fascinated', 'music', 'dancing', 'everything', '1', 'however', 'recently', 'watched', 'whole', 'thing', 'dvd', 'completely', 'struck', 'extremely', 'stupid', 'storyline', 'contained', 'holes', 'inconsistencies', 'frankly', 'whole', 'lot', 'crap', 'horrid', 'dancing', '0', 'mean', 'realistic', 'world', 'would', 'never', 'gotten', 'ballet', 'repertory', 'whole', 'thing', 'quite', 'pathetic', '0', 'character', 'developments', 'also', 'lacked', 'depth', '0', 'woa', 'talk', 'awful', '0', 'waste', 'time', '0', 'horrible', '0', 'worst', 'sappiest', 'dialogue', 'could', 'go', '0', 'really', 'made', 'unwatchable', 'direction', '0', 'poor', 'actors', '0', 'even', 'tell', 'talent', 'pathetic', 'lines', 'speak', 'director', 'gave', 'action', '0', 'check', 'director', 'filmography', 'site', 'see', 'film', 'chance', '0', 'would', 'even', 'good', 'made', 'tv', 'flick', '0', 'good', 'intentions', 'made', 'film', 'great', 'film', 'might', 'one', 'greatest', 'films', 'ever', 'made', '1', 'film', 'great', 'actors', 'master', 'director', 'significant', 'theme', 'least', 'would', 'significant', 'theme', 'undertone', 'fifties', 'existential', 'world', 'weariness', 'aerial', 'scenes', 'ought', 'thrilled', 'senses', 'imagination', 'characters', 'one', 'might', 'deeply', 'care', '1', 'regrettably', 'film', 'fails', '0', 'movie', 'lacks', 'visual', 'interest', 'drama', 'expression', 'feeling', 'celebration', 'patriotism', 'underlines', 'narrative', '0', 'actress', 'worse', 'used', 'june', 'allison', 'movie', '0', 'yet', 'enjoy', 'watching', '1', 'unfortunately', 'bad', 'movie', 'plain', 'bad', '0', 'bad', 'script', 'bad', 'direction', 'horrible', 'acting', 'make', 'one', 'plain', 'bad', '0', 'dialogue', 'sucked', '0', 'cinematography', 'called', 'sucked', '0', 'soundtrack', 'sucked', '0', 'acting', 'sucked', '0', 'concert', 'sequences', 'sucked', '0', 'nice', '1', 'funny', '1', 'funny', '1', 'overall', 'movie', 'cheap', 'trash', '0', 'movie', 'funny', 'considering', 'ridiculousness', '0', 'came', 'feeling', 'angry', '0', 'spoilers', 'whatever', 'else', 'said', 'surface', 'superbly', 'crafted', '1', 'cinematography', 'simply', 'stunning', 'say', 'least', 'fx', 'nothing', 'state', 'art', '1', 'conceptually', 'show', 'offers', 'little', 'bit', 'everything', 'everybody', 'parents', 'kids', 'fantasy', 'fx', 'fans', '1', 'single', 'sour', 'note', 'struck', 'acting', 'wise', 'either', 'surprisingly', 'solid', 'casting', '1', 'things', 'considered', 'job', 'well', 'done', '1', 'thanks', 'good', 'movie', 'like', 'done', 'released', '1', 'one', 'best', 'mexican', 'movies', 'ever', 'one', 'less', 'understood', 'even', 'mexican', 'matter', 'identified', 'felt', '1', 'ranks', 'highly', 'great', 'noir', 'crime', 'drama', 'incredible', 'performances', 'belmondo', 'lino', 'ventura', '1', 'attention', 'given', 'every', 'character', 'complex', 'psychological', 'portrayals', 'detailing', 'loyalty', 'treachery', 'love', 'hope', 'tremendous', '1', 'excellent', 'drama', 'excellent', 'thriller', 'excellent', 'film', '1', 'best', 'melville', '1', 'everything', 'film', 'simply', 'incredible', '1', 'truly', 'take', 'journey', 'eyes', 'soul', 'child', '1', 'black', 'water', 'thriller', 'manages', 'completely', 'transcend', 'limitations', 'indie', 'flick', 'continually', 'subverting', 'expectations', 'emerge', 'intense', 'experience', '1', 'performances', 'real', 'gripping', 'crocdodile', 'extremely', 'well', 'done', 'indeed', 'black', 'water', 'website', 'believed', 'used', 'real', 'crocs', 'swamp', 'location', 'fabulous', '1', 'thoroughly', 'enjoyed', 'christopher', 'eccleston', 'took', 'control', 'tardis', 'continuation', 'series', '1', 'sure', 'trying', 'film', '0', 'turn', 'good', 'day', 'feeling', 'night', 'disturbing', 'memories', 'guess', 'succeeded', '0', 'lot', 'beautiful', 'places', '1', 'forced', 'like', 'everything', 'movie', '0', 'lame', '0', 'movie', 'really', 'pi', 'ed', '0', 'even', 'get', 'started', 'jerky', 'camerawork', '0', 'saw', 'theater', 'thought', 'going', 'sick', '0', 'summary', 'witticisms', 'witty', '0', 'plot', 'well', 'said', 'let', 'one', 'go', '0', 'acting', 'bad', '0', 'really', 'bad', '0', 'even', 'billy', 'bob', 'rise', 'script', 'worse', '0', 'camerawork', 'bad', '0', 'rating', '1', '10', '0', 'amazing', 'finale', 'possibly', 'best', 'trilogy', 'time', '1', 'kieslowski', 'never', 'ceases', 'amaze', '1', 'one', 'favourite', 'directors', 'one', 'talented', 'directors', 'history', 'cinema', '1', 'use', 'colours', 'french', 'flag', 'three', 'films', 'nothing', 'short', 'incredible', 'every', 'shot', 'every', 'scene', 'like', 'work', 'art', '1', 'three', 'visually', 'appealing', 'movies', 'ever', 'seen', '1', 'subtle', 'connections', 'three', 'films', 'awesome', '1', 'mention', 'huge', 'spoiler', 'loved', 'ending', 'characters', 'three', 'films', 'remaining', 'survivors', 'ferry', 'disaster', 'valentine', 'young', 'judge', 'together', 'old', 'man', 'watching', 'tv', 'solidifying', 'happiness', 'suffering', 'dealt', 'many', 'years', '1', 'think', 'better', 'way', 'end', 'film', 'smile', 'face', 'great', 'way', 'wrap', 'amazing', 'film', 'trilogy', '1', 'recommend', 'everyone', 'loves', 'film', 'movies', 'anything', 'work', 'art', '1', '10', '10', 'movie', 'trilogy', '1', 'literally', 'vomited', 'watching', 'film', '0', 'think', 'one', 'people', 'found', 'another', 'one', 'roth', 'pearls', '1', 'performance', 'awarded', 'stunning', '1', 'story', 'told', 'eloquently', 'francis', 'ford', 'coppola', '25', 'years', 'earlier', 'really', 'unfolds', 'gradually', 'leaves', 'room', 'characters', 'develop', '1', 'wonderful', 'location', 'lies', 'story', 'contrast', '1', 'beautiful', 'directed', 'film', 'nicola', 'roeg', 'wih', 'sublime', 'cast', '1', 'translating', 'movies', 'living', 'first', 'movie', '5', 'year', 'working', 'experience', 'found', 'offensive', 'intelligence', '0', 'someone', 'strives', 'greatness', 'poetry', 'delivers', 'muddled', 'often', 'ridiculous', 'story', 'bunch', 'disparate', 'scenes', 'pretentious', 'dialogue', 'get', 'worst', 'kind', 'movie', 'reviewer', 'accurately', 'defined', 'pretentious', 'crap'], ['find', 'movie', 'intelligent', 'even', 'masterful', 'say', 'intelligence', 'imagination', 'obviously', 'used', 'try', 'make', 'sense', 'pitiful', 'attempt', 'human', 'nature', 'try', 'make', 'sense', 'things'], ['one', 'thing', 'tolerate', 'political', 'incorrectness', 'well', 'artistic', 'freedom', 'suspension', 'disbelief', 'slavic', 'female', 'character', 'much'], ['fun', 'funny', 'movie'], ['highly', 'entertaining', 'angles'], ['features', 'outlandish', 'array', 'memorable', 'psychotic', 'lovable', 'nuts'], ['enjoyment', 'get', 'see', 'run', 'around', 'play', 'games', 'dangerous'], ['even', 'sweet', 'moments'], ['telephone', 'repair', 'man', 'really', 'funny', 'reactions', 'nuts', 'bitchy', 'boss', 'truly', 'genuine'], ['characters', 'film', 'tremendously', 'well', 'played'], ['really', 'find', 'funny'], ['actually', 'smart', 'movie'], ['brilliant', 'twist', 'ending'], ['love', '1', 'ending', 'perfect', 'shed', 'tear', '1', 'thrilled', 'seeing', 'movie', 'like', '1', 'never', 'forget', '1', 'cult', 'cult', 'classic', '1', 'depth', 'character', 'man', 'underneath', '0', 'malta', 'settings', 'dry', 'barren', 'dialogue', '0', 'movie', 'terrible', '0', 'hockey', 'scenes', 'terrible', 'defensemen', 'playing', 'like', '5', 'years', 'old', 'goalies', 'diving', 'shots', '10', 'feet', 'wide', 'net', 'etc', '0', 'seen', 'waste', 'time', '0', 'call', 'movie', 'drama', 'ridiculous', '0', 'started', 'watching', 'believe', 'characters', '0', 'particular', 'relationship', 'bakery', 'assistant', 'waitress', 'work', '0', 'superficial', 'movie', 'gave', 'feeling', 'watching', 'play', 'rather', 'film', '0', 'characters', 'stagey', 'storyline', 'lot', 'like', 'stage', 'farce', '0', 'time', 'pyromaniac', 'waylaid', 'assistant', 'bored', 'care', 'happened', 'next', 'switched', '0', 'glad', 'pay', 'see', '0', 'laugh', 'even', 'smile', '0', 'anything', 'one', 'big', 'yawn', '0', 'really', 'good', 'show', 'watch', '1', 'educational', 'children', '1', '8', 'years', 'old', '1', 'barney', 'definitely', 'super', 'de', 'duper', '1', 'pretty', 'funny', '1', 'babie', 'bop', 'cute', '1', 'kids', 'cool', '1', 'storm', 'trooper', 'even', 'bad', 'enough', 'make', 'list', 'wonderfully', 'terrible', 'movies'], ['lame'], ['guy', 'said', 'better', 'dialogue', 'potted', 'plants', 'right'], ['everything', 'movie', 'stupid'], ['even', 'love', 'bad', 'movies', 'watch', 'movie'], ['shameful'], ['would', 'give', 'television', 'series', '10', 'plus', 'could'], ['writers', 'smack', 'think', 'best', 'actors', 'actresses', 'bonus', 'show', 'characters', 'real'], ['must', 'say', 'taped', 'episodes', 'find', 'watching'], ['know', 'gave', '10'], ['know', 'exactly', 'movie', 'latched', 'endearing', 'movie', 'become', 'special', 'part', 'family', 'memories'], ['totally', 'absolutely', 'recommend', 'movie', 'anyone', 'likes', 'good', 'wholesome', 'family', 'movies', 'exactly'], ['things', 'four', 'kids', 'get', 'absolutely', 'hilarious', 'watch'], ['one', 'best', 'movies', 'shows', 'strong', 'sibling', 'bond'], ['much', 'interesting', 'action', 'suspense', 'less', 'unneeded', 'controversy'], ['everything', 'acting', 'cinematography', 'solid'], ['definitely', 'worth', 'checking'], ['damian', 'talented', 'versatile', 'many', 'ways', 'writing', 'portraying', 'different', 'characters', 'screen'], ['movie', 'cutting', 'edge'], ['pleased', 'know', 'modern', 'day', 'genius', 'letting', 'passion', 'art', 'drive', 'taking', 'us', 'audience'], ['new', 'characters', 'memorable', 'found', 'forgetting'], ['felt', 'though', 'going', 'ireland', 'absolutely', 'nothing', 'whatsoever'], ['make', 'scared', 'horrified', 'make', 'sympathetic', 'towards', 'characters', 'simply', 'annoying'], ['jerky', 'camera', 'movements', 'also', 'annoying'], ['plot', 'pretty', 'much', 'every', 'cheap', 'horror'], ['pathetic', 'attempts', 'give', 'characters', 'depth', 'really', 'work', 'rest', 'plot'], ['guess', 'supposed', 'clever', 'twist', 'shed', 'light', 'situation', 'stupid'], ['see', 'probably', 'leave', 'shelf'], ['elias', 'koteas', 'jack', 'palance', 'play', 'good', 'roles', 'angelina', 'hot', 'gets', 'naked', 'billy', 'drago', 'appears', 'cool', 'usual', 'cameo', 'sven', 'ole', 'thorsen', 'helps', 'make', 'enjoyable', 'movie', 'good', 'acting', 'decent', 'budget'], ['awesome', 'movie', 'bought', 'ebay'], ['really', 'loved', 'story', 'line', 'poler', 'bear', 'kinda', 'cute', 'anyone', 'question', 'fort', 'steele', 'ask', 'away'], ['totally', 'unfunny', 'movie', 'top', 'pathetic', 'unrealistic', 'throughout', 'whole', '90', 'minutes', 'utter', 'torture', 'probably', 'looked', 'watch', '70000', 'times'], ['lucy', 'bell', 'much', 'higher', 'crap', 'sink', 'low', 'quite', 'depressing'], ['movie', 'make', 'sick', 'watching', 'slackers', 'make', 'excuses', 'stupid', 'actions', '90', 'minutes'], ['god', 'never', 'get', '90', 'minutes', 'back'], ['think', 'wonderful', 'parts', 'literally', 'full', 'wonder', 'excerpts', 'works'], ['sets', 'especially', 'designed', 'work', 'camera', 'amazing', 'stylized', 'beautiful', 'effective'], ['could', 'used', 'exemplars', 'set', 'designer'], ['stories', 'powerful', 'explorations', 'nature', 'man', 'art'], ['watching', 'film', 'wanted', 'learn', 'works', 'artist'], ['highly', 'recommend', 'movie', 'anyone', 'interested', 'art', 'poetry', 'theater', 'politics', 'japanese', 'history'], ['wind', 'lion', 'see', 'wonderful', 'rendering', 'america', 'imperial', 'age'], ['makes', 'story', 'different', 'terrific', 'production', 'values', 'faultless', 'photography', 'composition', 'editing', 'terrific', 'casting', 'underappreciated', 'brian', 'keith', 'playing', 'bully', 'teddy', 'vivid', 'history'], ['though', 'wind', 'lion', 'told', 'largely', 'eyes', 'son', 'every', 'member', 'family', 'identify', 'one', 'characters', 'whether', 'sean', 'connery', 'noble', 'brigand', 'candace', 'bergen', 'feisty', 'heroine', 'john', 'huston', 'wily', 'john', 'hay', 'steve', 'kanaly', 'spiffy', 'radiant', 'ruthless', 'lieutenant', 'roosevelt', 'big', 'stick'], ['high', 'adventure', 'best'], ['think', 'robert', 'ryans', 'best', 'film', 'portrayed', 'someone', 'like', 'father', 'schizophrenic', 'real', 'life', 'father', 'although', 'never', 'murdered', 'anyone', 'affected', 'second', 'world', 'war', 'made', 'worse'], ['humour', 'get', 'get', 'day', 'apt'], ['mother', 'brother', 'saw', 'robert', 'ryan', 'portraying', 'type', 'man', 'good', 'imitation', 'type', 'individual', 'impressed'], ['almost', 'songs', 'cover', 'girl', 'old', 'fashioned', 'tuneful'], ['annoying', 'thing', 'cover', 'girl', 'way', 'rita', 'hayworth', 'put', 'pedestal'], ['unfortunately', 'cover', 'girl', 'example', 'hollywood', 'used', 'exploit', 'women', 'financial', 'gain'], ['non', 'linear', 'narration', 'thus', 'many', 'flashbacks', 'every', 'part', 'articulated', 'quite', 'well'], ['good', 'cinematography', 'also', 'makes', 'monica', 'bellucci', 'look', 'beautiful'], ['good', 'commentary', 'today', 'love', 'undoubtedly', 'film', 'worth', 'seeing'], ['people', 'first', 'timers', 'film', 'making', 'think', 'excellent', 'job'], ['popular', 'cinema', 'good', 'house', 'good', 'reactions', 'plenty', 'laughs'], ['feel', 'good', 'film', 'felt', 'came', 'cinema'], ['northern', 'humour', 'positive', 'community', 'represents'], ['rather', 'enjoyed'], ['liked'], ['take', 'seriously'], ['really', 'created', 'unique', 'feeling', 'though'], ['vivian', 'schilling', 'excellent', 'job', 'script'], ['world', 'better', '95', 'garbage', 'theatres', 'today'], ['role', 'played', 'well'], ['screamy', 'masculine', 'right'], ['camera', 'really', 'likes', 'movie'], ['would', 'casted', 'role', 'ready', 'script'], ['european', 'movie', 'nice', 'throwback', 'time', 'student', '1980', 'experiences', 'living', 'abroad', 'interacting', 'nationalities', 'although', 'circumstances', 'slightly', 'different'], ['fan', 'movie', 'sucked', 'really', 'bad'], ['even', 'worse', 'ticker'], ['movie', 'bad'], ['like', '3', '4', 'buildings', 'used', 'couple', 'locations', 'maybe', 'poor', 'hummh'], ['blew'], ['movie', 'excellent', 'angel', 'beautiful', 'scamp', 'adorable', 'little', 'yelps', 'hes', 'scared', 'funniest', 'parts', 'scamp', 'caught', 'curtain', 'angel', 'scamp', 'singing', 'ive', 'never', 'feeling', 'totally', 'recommend', 'movie', 'coming', 'special', 'edition', 'june', '20', 'cover', 'scamp', 'garbage', 'angel', 'underneath', 'lid'], ['cant', 'explain', 'movie', 'romantic', 'charming', 'hilarious', 'adorable', 'junkyard', 'scenes', 'funny', 'junkyard', 'dogs', 'something', 'special', 'funny', 'laughed', 'kids', 'love', 'buy', 'comes', 'new', 'features'], ['chosen', 'tortured', 'disgusting', 'piece', 'blatant', 'american', 'propaganda'], ['show', 'made', 'americans', 'stupid', 'full', 'hatred', 'clich', 'admitted', 'elsewhere'], ['almost', 'everyone', 'involved', 'must', 'return', 'school', 'acting', 'utterly', 'predictable', 'bad', 'script', 'pile', 'garbage', 'round'], ['wish', 'could', 'enter', 'negative', 'values', 'admins'], ['sets', 'bad', 'look', 'place', 'thunderbirds', 'episode'], ['use', 'slow', 'motion', 'needlessly', 'repeats', 'throughout', 'movie', 'well', 'backed', 'bad', 'acting', 'bad', 'kind', 'word', 'continuity', 'scenes', 'thrown', 'reason', 'whatsoever', 'vehicles', 'looked', 'like', 'made', 'corn', 'flakes', 'box', 'directorial', 'style', 'bordered', 'stupidity'], ['oh', 'yeah', 'storyline', 'pathetic'], ['hate', 'writing', 'bad', 'reviews', 'films', 'especially', 'really', 'like', 'star', 'film', 'bad', 'believe', 'one', 'second', 'anyone', 'could', 'proud'], ['filmmaker', 'director', 'would', 'hide', 'head', 'sand', 'spent', 'whatever', 'amount', 'money', 'time', 'movie'], ['short', 'monumental', 'waste', 'time', 'energy', 'would', 'recommend', 'anyone', 'ever', 'see', 'film'], ['came', 'free', 'dvd', 'player', 'bought', 'still', 'turned', 'thing', 'halfway', 'embarrassed', 'howell'], ['1', '10', 'setting', '0', '10'], ['interesting', 'premise', 'billy', 'drago', 'always', 'good', 'dangerous', 'nut', 'bag', 'side', 'note', 'love', 'see', 'drago', 'stephen', 'mchattie', 'lance', 'hendrikson', 'flick', 'together', 'talk', 'raging', 'cheekbones'], ['soundtrack', 'terrible', 'either'], ['acting', 'even', 'professionals', 'drago', 'debbie', 'rochon', 'terrible', 'directing', 'worse', 'perhaps', 'contributory', 'former', 'dialog', 'chimp', 'like', 'camera', 'work', 'barely', 'tolerable'], ['still', 'sets', 'got', 'big', '10', 'oy', 'vey', 'scale'], ['yes', 'simplifying', 'things', 'sake', 'brevity', 'really', 'core', 'problems', 'film', 'much', 'going', 'without', 'real', 'fulfilling', 'explanation'], ['good', 'jobs', 'quite', 'amusing'], ['convoluted', 'plot', 'convince', 'much', 'film', 'watched', 'weird', 'questioning', 'glance'], ['let', 'girlfriend', 'talk', 'seeing', 'bad', 'idea', 'hated'], ['last', '15', 'minutes', 'movie', 'also', 'bad', 'well'], ['bela', 'lugosi', 'totally', 'extraneous', 'intoning', 'odd', 'lines'], ['acting', 'decidely', 'wooden', 'though', 'worse', 'period', 'universal', 'b', 'movie'], ['like', 'armand', 'assante', 'cable', 'company', 'summary', 'sounded', 'interesting', 'watched', 'twice', 'already', 'probably'], ['believe', 'screenwriter', 'good', 'job', 'tying', 'loose', 'ends'], ['8', '10', 'score', 'mostly', 'plot'], ['say', 'like', 'spoilers', 'want', 'one', 'believe', 'film', 'worth', 'time'], ['wow', 'bad', 'film'], ['frightening', 'least', 'barely', 'comprehensible'], ['plot', 'hang', 'together', 'acting', 'absolutely', 'appalling'], ['even', 'good', 'camp', 'value'], ['expecting', 'oscar', 'material'], ['iq', 'particularly', 'stupid', 'mollusk', 'see', 'one', 'coming'], ['film', 'use', 'word', 'loosely', 'insult', 'movie', 'going', 'public'], ['someone', 'involved', 'knew', 'string', 'together', 'narrative'], ['gets', '1', '10', 'simply', 'nothing', 'lower'], ['one', 'watched', 'recently', 'fox', 'movie', 'channel', 'disappointed'], ['know', 'contract', 'player', 'little', 'control', 'scripts', 'acting', 'bad', 'script'], ['victor', 'mclaglen', 'even', 'bad', 'brian', 'donlevy', 'almost', 'unrecognizable'], ['considering', 'relations', 'screen', 'taylor', 'stanwyck', 'surprising', 'little', 'chemistry', 'screen', 'two'], ['premise', 'film', 'ridiculous', 'president', 'u'], ['death', 'row', 'scenes', 'entirely', 'unmoving'], ['thing', 'worse', 'taylor', 'acting', 'stanwyck', 'singing'], ['whatever', 'producer', 'going', 'missed', 'entirely'], ['deeply', 'impressed', 'character', 'played'], ['knew', 'saw', 'film', 'great', 'things', 'come', 'gifted', 'actor'], ['cheap', 'cheerless', 'heist', 'movie', 'poor', 'characterisation', 'lots', 'underbite', 'style', 'stoic', 'emoting', 'think', 'chow', 'yun', 'fat', 'better', 'tomorrow', 'cheesy', 'clich', 'thrown', 'abandoned', 'factory', 'ready', 'poorly', 'executed', 'flying', 'judo', 'rolls', 'la', 'john', 'woo'], ['even', 'squibs', 'look', 'awful'], ['point', 'proceedings', 'look', 'remotely', 'like', 'america'], ['plot', 'derivative', 'predictable', 'ending', 'like', 'mercy', 'killing'], ['awful', 'dialogue', 'hopeless', 'overacting', 'everyone', 'gets', 'shot', 'top', 'real', 'waste', 'space', 'time'], ['uneasy', 'bad', 'movie', 'scared'], ['dialogue', 'composed', 'things', 'make', 'little', 'sense'], ['30', 'minutes', 'footage', 'wasted', 'show', 'mediocre', 'elderly', 'actors', 'awkwardly', 'babbling', 'overwrought', 'pseudo', 'satanic', 'gibberish', 'corny', 'enough', 'make', 'teen', 'goth', 'blush', 'almost', 'always', 'olde', 'english', 'sometimes', 'latin', 'may', 'may', 'made', 'words'], ['directing', 'sloppy', 'best'], ['hackneyed', 'writing', 'certainly', 'made', 'even', 'worse', 'bad', 'directing'], ['course', 'acting', 'blah'], ['acting', 'whole', 'cast', 'could', 'put', 'scale', 'balanced', 'perfectly', 'overacting', 'underacting'], ['finally', 'get', 'ending', 'would', 'great', 'handled', 'competent', 'people', 'jerry', 'falwell'], ['loved', 'movie', 'great', 'portrayal', 'family', 'share', 'ups', 'end', 'knew', 'special', 'love'], ['seen', 'many', 'movies', 'starring', 'jaclyn', 'smith', 'god', 'one', 'best', 'though', 'came', '12', 'years', 'ago'], ['movie', 'contained', 'star', 'cast', 'loved', 'opened', 'eyes', 'see', 'actors', 'seen'], ['movie', 'kind', 'long', 'length', 'enjoyed', 'every', 'minute'], ['overall', 'rate', 'movie', '10', '1', '10', 'scale'], ['lifetime', 'air', 'enough', 'anyone', 'knows', 'store', 'sells', 'let', 'know', 'must'], ['particularly', 'remember', 'senses', 'assaulted', 'strident', 'cords', 'music', 'would', 'blare', 'little', 'warning', 'even', 'less', 'meaning'], ['sort', 'pap', 'screened', 'afternoon', 'punish', 'unemployed', 'jobs'], ['totally', 'different', 'loads', 'understatement', 'black', 'comedy', 'film', 'get', 'see', 'remember'], ['movie', 'creates', 'universe', 'fascinating', 'every', 'way'], ['movie', 'really', 'got'], ['see'], ['really', 'hope', 'team', 'behind', 'movie', 'makes', 'movies', 'continue', 'kinda', 'weird', 'style'], ['forgot', 'casting', 'superb', 'trond', 'fausa', 'aurv', 'g', 'perfect', 'role', 'bothersome', 'man', 'understand'], ['movie', 'good', 'humorous', 'comment', 'life', '2006'], ['found', 'move', 'beautiful', 'enjoyable', 'uplifting'], ['initially', 'local', 'sites', 'film', 'filmed', 'buffalo', 'intrigued'], ['later', 'found', 'lost', 'power', 'film'], ['entire', 'audience', 'applauded', 'conclusion', 'film'], ['left', 'theater', 'lilt', 'step', 'joy', 'heart', 'hope', 'human', 'race'], ['duris', 'wholesome', 'appearance', 'gives', 'fine', 'performance'], ['rest', 'cast', 'also', 'play', 'well'], ['cinematography', 'noteworthy', 'including', 'fine', 'views', 'barcelona', 'famed', 'gaudi', 'towers'], ['ten', 'minutes', 'film', 'started', 'second', 'thoughts'], ['half', 'way', 'film', 'started', 'dislike'], ['time', 'film', 'ended', 'disliked', 'despised'], ['film', 'lacks', 'convincing', 'script'], ['script', 'looks', 'rough', 'draft', 'written', 'shooting', 'began', 'finished', 'script', 'completed'], ['things', 'happen', 'characters', 'personalities', 'change', 'plot', 'twists', 'occur', 'real', 'reason', 'script', 'calls'], ['cast', 'good'], ['worth', 'checking'], ['probably', 'irritating', 'show', 'ever', 'seen', 'entire', 'life'], ['indescribably', 'annoying', 'idiotic', 'show', 'ever', 'seen'], ['everything', 'bad'], ['could', 'understand', 'kind', 'idiot', 'would', 'produce', 'mess', 'first', 'place', 'mention', 'several', 'season'], ['script', 'bad', 'bad', 'contains', 'cheesiness', 'unethical', 'joke', 'normally', 'see', 'rated', 'r', 'nc', '17', 'movie'], ['casting', 'also', 'horrible', 'cause', 'see', 'really', 'really', 'bad', 'actors', 'period'], ['final', 'word', 'show', 'real', 'torture'], ['zillion', 'times', 'away', 'reality'], ['watching', 'washing', 'machine', 'twirling', 'around', 'hurt', 'eyes', 'much', 'show'], ['rating', '0', '10', 'grade', 'z', 'note', 'show', 'bad', 'even', 'mother', 'cast', 'pull', 'daughter', 'show'], ['20th', 'century', 'fox', 'road', 'house', '1948', 'quite', 'silly', 'noir', 'implausible', 'unmitigated', 'bore', 'movie'], ['full', 'unconvincing', 'cardboard', 'characters', 'blandly', 'written', 'edward', 'chodorov', 'also', 'produced', 'surprisingly', 'directed', 'jean', 'negulesco', 'one', 'would', 'expect', 'great', 'deal'], ['widmark', 'character', 'turns', 'unintentionally', 'comical'], ['losing', 'marbles', 'early', 'proceedings', 'totally', 'implausible', 'unconvincing'], ['enough', 'mess', 'movie', 'picture', 'also', 'marred', 'constant', 'use', 'studio', 'sets', 'indoor', 'exteriors'], ['whatever', 'prompted', 'documentary', 'beyond'], ['serious', 'spoilers', 'movie', 'huge', 'disappointment'], ['many', 'problems', 'dont', 'know', 'start'], ['cast', 'great'], ['steve', 'martin', 'delivers', 'really', 'funny', 'performance', 'middle', 'aged', 'upper', 'class', 'uptight', 'white', 'guy'], ['add', 'betty', 'white', 'jean', 'smart', 'great', 'cast', 'everyone', 'played', 'parts', 'really', 'well'], ['movie', 'makes', 'lot', 'serious', 'mistakes'], ['first', 'enough', 'racial', 'stereotypes', 'racial', 'jokes', 'offend', 'everyone'], ['movie', 'littered', 'overt', 'racial', 'slurs', 'towards', 'black', 'cast', 'members', 'return', 'whites', 'depicted', 'morons', 'boobs'], ['putting', 'race', 'card', 'aside', 'lets', 'look', 'major', 'flaw', 'film', 'destroy', 'latifa', 'character'], ['real', 'plot'], ['wouldnt', 'see', 'movie', 'free'], ['steamboat', 'willie', 'amazingly', 'important', 'film', 'cinema', 'history'], ['second', 'appearance', 'mickey', 'mouse', 'following', 'silent', 'plane', 'crazy', 'earlier', 'year', 'probably', 'famous', 'film', 'mostly', 'ground', 'breaking'], ['yet', 'hear', 'mickey', 'speak', 'tons', 'sound', 'effects', 'music', 'throughout', 'film', 'something', 'take', 'granted', 'huge', 'crowd', 'pleaser', '1928'], ['however', 'seeing', 'short', '25', 'years', 'amazed', 'timeless', 'film', 'actually'], ['adorable', 'seeing', 'mickey', 'playing', 'turkey', 'straw', 'highly', 'imaginative', 'occasionally', 'cruel', 'way'], ['clever', 'real', 'crowd', 'pleaser', 'film', 'still', 'ranks', 'among', 'mickey', 'best', 'films', 'even', '80', 'wonderful', 'years'], ['bipolarity', 'ruthless', 'thug', 'one', 'minute', 'ruthless', 'killer', 'next', 'minute', 'luv', 'diaper', 'commercial', 'completely', 'unconvincing'], ['terribly', 'disappointed', 'film', 'would', 'receive', 'many', 'awards', 'accolades', 'especially', 'far', 'deserving', 'works', 'film'], ['original', 'body', 'soul', '1947', 'masterpiece'], ['john', 'garfield', 'ann', 'revere', 'lilli', 'plmer', 'william', 'conrad', 'canada', 'lee', 'filmed', 'one', 'greatest', 'cinematographers', 'ever', 'grace', 'screen', 'james', 'wong', 'howe'], ['think', 'redeeming', 'qualities', 'remake'], ['may', 'bad', 'film', 'ever', 'made'], ['bad', 'well', 'bad'], ['movie', 'solid', 'example', 'bad', 'plot', 'bad', 'idea', 'way'], ['shame', 'see', 'good', 'actors', 'like', 'thomerson', 'james', 'make', 'living', 'mess', 'like'], ['thought', 'bad'], ['films', 'terrible', 'credit', '1986', 'version', 'watchable'], ['let', 'start', 'problems', 'acting', 'especially', 'lead', 'professor', 'bad'], ['script', 'big', 'flawed', 'mess'], ['best', 'example', 'dumb', 'writing', 'established', 'turn', 'zombie', 'students', 'back', 'humans', 'removing', 'necklace', 'containing', 'piece', 'meteorite'], ['director', 'paul', 'matthews', 'also', 'wrote', 'directed', 'weak', '1995', 'monster', 'movie', 'grim', 'clearly', 'know', 'pace', 'films'], ['movie', 'terribly', 'boring', 'places'], ['lighting', 'awful'], ['film', 'looks', 'cheap', 'bland'], ['one', 'disappointing', 'aspects', 'lack', 'notable', 'gore'], ['convention', 'never', 'worked', 'well', 'past', 'certainly', 'work'], ['visual', 'effects', 'awful'], ['cg', 'opening', 'sequence', 'space', 'looked', 'like', 'could', 'created', 'microsoft', 'slideshow', 'god', 'sake'], ['explosion', 'gas', 'tanks', 'end', 'awful'], ['okay', 'like', 'consider', 'fair', 'critic', 'give', 'credit', 'credit', 'due', 'creature', 'effects', 'actually', 'pretty', 'cool'], ['got', 'ta', 'love', 'close', 'ups', 'slimy', 'drooling', 'teeth'], ['sum', 'film', 'breeders', 'terrible', 'cheaply', 'made', 'horror', 'movie', 'avoided', 'like', 'ebola', 'virus'], ['recommended'], ['almost', 'unbearable', 'watch', 'screen', 'little', 'charisma', 'terrible', 'comedic', 'timing'], ['aside', 'terrible', 'lead', 'film', 'loads', 'debits'], ['understand', 'supposed', 'cheap', 'popcorn', 'comedy', 'mean', 'completely', 'insult', 'intelligence', 'writing', 'incredibly', 'hackneyed', 'borders', 'offensive'], ['lewis', 'black', 'considerable', 'talent', 'wasted', 'incendiary', 'unrestrained', 'pg', '13', 'rating', 'certainly', 'allow'], ['film', 'sole', 'bright', 'spot', 'jonah', 'hill', 'look', 'almost', 'unrecognizable', 'fans', 'recent', 'superbad', 'due', 'amount', 'weight', 'lost', 'interim'], ['originality', 'freshness', 'first', 'movie', 'spent', 'remake', 'little', 'else', 'offer'], ['budget', 'evidently', 'limited'], ['reflected', 'cast', 'also', 'par', 'script', 'borrowed', 'much', 'earlier', 'classic'], ['however', 'decent', 'acting', 'action', 'location', 'work', 'balance', 'things'], ['filmiing', 'less', 'expansive'], ['failed', 'convey', 'broad', 'sweep', 'landscapes', 'great', 'part', 'original'], ['generally', 'lacked', 'imagination'], ['recommended'], ['possible', 'movie', 'get', 'worse'], ['plot', 'keep', 'going', 'first', 'place'], ['even', 'women', 'finally', 'show', 'sign', 'improvement', 'expected', 'things', 'happen', 'time', 'film', 'might', 'far', 'asleep'], ['beware', 'trashy', 'cult', 'movie', 'trash', 'period'], ['believe', 'even', 'sequel'], ['precisely', 'giving', 'bad', 'review'], ['90', 'child', 'truly', 'enjoyed', 'show', 'proudly', 'say', 'enjoyed', 'big', 'time', 'even', 'classical', 'wb', 'cartoons'], ['tiny', 'toons', 'kept', '90', 'vibe', 'delivered', 'one', 'popular', 'funny', 'underrated', 'cartoons', 'ever', 'created'], ['memories', 'murky', 'say', 'enjoyed', 'every', 'single', 'episode', 'product', 'related', 'show'], ['easily', 'none', 'cartoon', 'made', 'laugh', 'tender', 'way', 'getting', 'dark', 'sitcoms', 'oriented', 'teenagers'], ['characters', 'funny', 'peculiarity', 'true', 'lead', 'character'], ['every', 'single', 'character', 'hilarious', 'deserved', 'called', 'lead'], ['every', 'element', 'story', 'top', 'excessively', 'phony', 'contrived', 'painful', 'sit'], ['lines', 'seem', 'written', 'fifteen', 'year', 'old', 'though', 'trying', 'oh', 'hard', 'sound', 'like', 'fifteen', 'year', 'old', 'would', 'really', 'um', 'know', 'well', 'talk'], ['perabo', 'nice', 'energy', 'level', 'obviously', 'comfortable', 'front', 'camera'], ['simply', 'excuse', 'something', 'poorly', 'done'], ['saw', 'movie', 'thought', 'stupid', 'movie'], ['even', 'stupid', 'thought', 'idea', 'volcano', 'los', 'angeles'], ['honest', 'unbelievable', 'nonsense', 'foolish'], ['conclusion', 'bother', 'movie', 'volcano', 'los', 'angeles', 'nothing', 'nonsense'], ['story', 'line', 'awful'], ['painful'], ['accents', 'absolutely', 'abysmal'], ['also', 'enough', 'hypocrisy', 'film', 'make', 'vomit'], ['waste', 'time', 'watching', 'rubbish', 'non', 'researched', 'film'], ['believe', 'pitch', 'black', 'done', 'well'], ['characters', 'interesting', 'want', 'find', 'longer', 'movie', 'goes', 'think', 'people', 'surprised', 'make'], ['go', 'watch'], ['omit', 'watching'], ['funny'], ['rating', '3', '10'], ['characters', 'interesting', 'really', 'care'], ['instant', 'classic', 'great', 'soundtrack', 'catchy', 'song', 'ending', 'credits'], ['miss'], ['masterful', 'piece', 'film', 'making', 'many', 'themes', 'simmering', 'occasionally', 'boiling', 'warts', 'study', 'poet', 'bohemian', 'self', 'indulgent', 'wartime', 'years', 'span', 'aerial', 'bombardments', 'london', 'outward', 'tranquillity', 'welsh', 'coastal', 'retreat', 'borderlines', 'friendship', 'lust', 'love', 'dedication', 'art', 'experience', 'versus', 'practical', 'concerns', 'jealousy', 'rivalry', 'cowardice', 'egotism', 'versus', 'heroism', 'self', 'sacrifice'], ['mature', 'subtle', 'script', 'suggests', 'occasionally', 'brings', 'dramatic', 'focus', 'underlying', 'tensions', 'well', 'served', 'perfect', 'performances', 'apart', 'odd', 'inappropriate', 'smiling', 'keira', 'knightley', 'prone', 'though', 'perhaps', 'direction', 'time', 'characters', 'often', 'mention'], ['exquisite', 'visual', 'composition', 'moment', 'inventive', 'elegant', 'use', 'close', 'camera', 'angle', 'lighting', 'including', 'pointillistic', 'faux', 'home', 'movie', 'footage', 'wonder', 'joy', 'behold'], ['continuously', 'beautiful', 'look', 'bertolucci', 'relationships', 'convincing', 'narrative', 'engaging', 'master', 'work'], ['basic', 'premise', 'wasted', 'since', 'sidelined', 'inexplicable', 'focus', 'documentary', 'crew'], ['regardless', 'film', 'fails', 'levels'], ['avoid', 'costs'], ['saw', 'film', 'christmas', 'great', 'film'], ['thought', 'errol', 'flynn', 'brilliant', 'custer', 'since', 'become', 'favourite', 'actor'], ['acting', 'alongside', 'olivia', 'de', 'havilland', 'brilliant', 'ending', 'fantastic'], ['always', 'known', 'errol', 'flynn', 'brilliant', 'actor', 'dads', 'favourite', 'actor', 'grew', 'watching', 'films', 'child'], ['watched', 'film', 'realised', 'great', 'actually'], ['give', 'film', '10', '10'], ['know', 'jim', 'connor', 'energetic', 'nobody', 'could', 'much', 'george', 'well', 'dull'], ['really', 'seem', 'want', 'hosting', 'voice', 'overs', 'monotonous', 'get', 'involved', 'guests'], ['lovely', 'little', 'thriller', 'hitchcock', 'lots', 'nice', 'shenanigans', 'surrounding', 'murdered', 'spy', 'kidnapped', 'child', 'nasty', 'church', 'foreign', 'plot', 'random', 'taxidermists'], ['jimmy', 'stewart', 'ever', 'great', 'hero', 'hitchcock', 'story', 'rips', 'along', 'cool', 'climax', 'embassy', 'function', 'lacks', 'brooding', 'menace', 'hitchcock', 'black', 'white', 'low', 'budget', 'original'], ['nevertheless', 'yet', 'another', 'wonderful', 'film', 'great', 'master', 'stable'], ['say', 'film', 'excellently', 'produced', 'tops', 'ratings', 'typical', 'sci', 'fi', 'film'], ['excellently', 'produced', 'one', 'sci', 'fi', 'best', 'producers', 'scot', 'vandiver'], ['entertaining', 'nonetheless'], ['campy', 'sort', 'film', 'joy', 'watch'], ['barely', 'boring', 'moment', 'film', 'plenty', 'humorous', 'parts'], ['cast', 'always', 'entertaining', 'usual'], ['overall', 'delight'], ['movie', 'mind', 'bendingly', 'awful', 'even', 'created'], ['film', 'lacks', 'real', 'scares', 'tension', 'medical', 'terminology', 'used', 'throughout', 'bit', 'iffy', 'say', 'least', 'say', 'insulin', 'dependant', 'diabetic'], ['least', 'said', 'acting', 'better'], ['movie', 'excellent', 'job', 'revealing', 'complexity', 'task', 'incredible', 'challenges', 'facing', 'south', 'africa'], ['believe', 'every', 'one', 'see', 'movie', 'think', 'people', 'outside', 'south', 'africa', 'understand', 'past', 'attempted', 'truth', 'reconciliation', 'process'], ['nothing', 'short', 'magnificent', 'photography', 'cinematography', 'film'], ['acting', 'fantastic', 'stories', 'seamlessly', 'woven', 'together', 'dogs', 'splendid', 'must', 'rent', 'view', 'see'], ['afraid', 'subtitles', 'worth', 'little', 'aversion', 'therapy', '10', '10'], ['excellent', 'performance'], ['still', 'good', 'actors', 'around'], ['also', 'great', 'directing', 'photography'], ['true', 'shakespear', 'must', 'shakespear', 'fans'], ['macbeth', 'jason', 'connery', 'moved', 'tears', 'final', 'monolog', 'brief', 'candle', 'gave', 'sphere', 'moral', 'decay', 'dark', 'forces', 'human', 'face', 'makes', 'interesting'], ['helen', 'baxendale', 'credible', 'lady', 'macbeth', 'cheerfull', 'times', 'sometimes', 'looks', 'like', 'naughty', 'girl', 'deadly', 'taste', 'blood', 'evil'], ['love', 'death', 'decay', 'shakespears', 'lyrics', 'one'], ['witty', 'delightful', 'adaptation', 'dr', 'seuss', 'book', 'brilliantly', 'animated', 'upa', 'finest', 'thoroughly', 'deserving', 'academy', 'award'], ['special', 'mention', 'made', 'superb', 'music', 'score', 'sound', 'effects', 'integral', 'element', 'helping', 'make', 'memorable', 'enjoyable', 'cartoon'], ['however', 'paul', 'schrader', 'indeed', 'made', 'film', 'mishima', 'superb', 'complex'], ['also', 'notable', 'john', 'bailey', 'fine', 'crisp', 'beautifully', 'colored', 'cinematography', 'great', 'production', 'design', 'costumes', 'eiko', 'ishioka', 'went', 'memorable', 'costumes', 'coppola', 'dracula', 'received', 'well', 'deserved', 'oscar'], ['even', 'allowing', 'poor', 'production', 'values', 'time', '1971', 'format', 'kind', 'mini', 'series', 'baaaaaad'], ['unless', 'visually', 'collect', 'extant', 'films', 'austen', 'work', 'skip', 'one'], ['watch', 'however', 'small', 'consolations', 'actresses', 'playing', 'anne', 'sisters', 'wonderful', 'job', 'roles'], ['good'], ['speaking', 'music', 'unbearably', 'predictably', 'kitchy'], ['film', 'dropped', 'ball'], ['stunning', 'movie'], ['raw', 'sublimely', 'moving'], ['felt', 'like', 'gripping', 'intelligent', 'stage', 'play', 'without', 'overly', 'theatrical', 'feeling', 'one', 'actually', 'gets', 'watching', 'people', 'stage', 'plays', 'everyone', 'terror', 'white', 'lie', 'escalating', 'monstrous', 'consequences'], ['main', 'players', 'mesmerising'], ['tom', 'wilkinson', 'broke', 'heart', 'end', 'everyone', 'else', 'judging', 'amount', 'fumbling', 'hankies', 'hands', 'going', 'faces', 'among', 'males', 'females', 'alike'], ['julian', 'fellowes', 'triumphed'], ['national', 'treasure'], ['go', 'see'], ['excellent', 'film'], ['aerial', 'scenes', 'well', 'done'], ['also', 'right', 'balance', 'war', 'love'], ['film', 'gives', 'meaning', 'phrase', 'never', 'history', 'human', 'conflict', 'much', 'owed', 'many'], ['kris', 'kristoffersen', 'good', 'movie', 'really', 'makes', 'difference'], ['good', 'film', 'great', 'director'], ['definitely', 'one', 'better', 'documentaries', 'seen', 'looking', 'family', 'relationships', 'marriage'], ['many', 'continuity', 'errors', 'one', 'user', 'commented', 'different', 'cars', 'garage', 'joe', 'glasses', 'one', 'got', 'fact', 'joe', 'facial', 'hair', 'configuration', 'seemed', 'change', 'scene', 'scene'], ['great', 'movie'], ['10', '10', 'stars'], ['see', 'movie', 'inspiration', 'anyone', 'come', 'overcome', 'fear', 'rejection'], ['bad', 'actually', 'worth', 'seeing', 'reason'], ['punishment', 'park', 'brilliant', 'piece', 'cinema'], ['shot', 'southern', 'california', 'desert', 'using', 'patent', 'faux', 'documentary', 'style', 'watkins', 'creates', 'film', 'like'], ['one', 'peter', 'watkins', 'accessible', 'films'], ['advise', 'look'], ['wont', 'regret'], ['highly', 'recommended'], ['well', 'keep', 'thinking', 'bad'], ['mediocre', 'miserable', 'hollow', 'laughable', 'predictable', 'piece', 'garbage'], ['case', 'bad', 'laughable'], ['bad', 'performance', 'plays', 'angela', 'bennett', 'computer', 'expert', 'home', 'time'], ['film', 'nothing', 'pretext', 'show', 'ridiculous', 'action', 'scenes'], ['awful'], ['still', 'bad', 'actress', 'repeating', 'robotic', 'face', 'moves', 'pictures'], ['results', 'well', 'shame'], ['delete', 'film', 'mind'], ['one', 'worst', 'shows', 'time'], ['show', 'would', 'begin', 'smart', 'ass', 'ed', 'comments', 'would', 'totally', 'wall', 'uncalled'], ['fat', 'computer', 'geek', 'unbelievable', 'bible', 'thumper', 'bad', 'ass', 'girl', 'actors'], ['never', 'heard', 'except', 'cole', 'totally', 'unbelievable', 'part'], ['every', 'time', 'opened', 'mouth', 'expect', 'hear', 'see', 'kids', 'pulling', 'plug', 'mercy', 'killing', 'horrible', 'show'], ['stories', 'unbelievable', 'actors'], ['lame', 'would', 'best', 'way', 'describe'], ['stanwyck', 'morgan', 'perfectly', 'cast', 'many', 'ways', 'modern', 'equivalent', 'dickens', 'christmas', 'carol', 'sensibility'], ['success', 'film', 'depends', 'casting', 'sydney', 'greenstreet', 'alexander', 'yardley', 'character'], ['attractive', 'set', 'used', 'throughout', 'film', 'eye', 'pleasing', 'gem'], ['im', 'big', 'fan', 'rpg', 'games', 'movie', 'disgrace', 'self', 'respecting', 'rpger'], ['lines', 'cuts', 'audio', 'everything', 'wrong'], ['find', 'better', 'movies', 'youtube'], ['top', 'line', 'waste', 'time', 'money', 'one', 'bad', 'comes'], ['lassie', 'movie', 'put', 'sleep', 'forever'], ['describe', 'painfully', 'dreary', 'time', 'waster', 'film'], ['mediocre', 'every', 'aspect', 'becomes', 'dull', 'uninteresting', 'mess', 'one', 'forgettable', 'movies', 'seen'], ['even', 'achievement', 'bad', 'good', 'bad', 'memorable', 'movie'], ['empty', 'hollow', 'shell', 'movie'], ['seriously', 'worth', 'wasting', 'kid', 'time'], ['avoid', 'avoid', 'avoid'], ['drive', 'barking', 'mad'], ['transfers', 'good'], ['nice', 'relaxing', 'late', 'night', 'viewing'], ['movie', 'full', 'wonderful', 'dancing', 'hence', 'title'], ['great', 'music', 'terrific', 'scenery'], ['handles', 'tough', 'issues', 'dignity', 'grace', 'course', 'shocking', 'spoiler'], ['happy', 'wonderful', 'feel', 'good', 'ending'], ['point', 'journey', 'journey', 'touches', 'every', 'member', 'family'], ['one', 'movies', 'need', 'see', 'whenever', 'comes', 'tv', 'never', 'mind', 'fact', 'already', 'memorized'], ['nothing', 'new'], ['done', 'second', 'movie'], ['movie', 'almost', 'action', 'scenes', 'little', 'comedy'], ['plot', 'holes', 'pair', 'fishnet', 'stockings', 'direction', 'editing', 'astonishingly', 'ham', 'fisted'], ['earth', 'irons', 'film'], ['saw', 'film', 'recommend'], ['good', 'plot', 'holds', 'complete', 'attention', 'acting', 'superb', 'tom', 'wilkinson', 'fantastic', 'emily', 'watson', 'also', 'good'], ['good', 'film', 'indeed', 'great', 'unconditional', 'love'], ['tom', 'wilkinson', 'character', 'man', 'prepared', 'ordeal', 'begin', 'takes', 'matter', 'hand', 'story', 'progresses', 'great', 'actor', 'gives', 'performance', 'makes', 'feel', 'character', 'anguish', 'suffering'], ['emily', 'watson', 'character', 'strong', 'give', 'quick', 'glance', 'understand', 'everything'], ['despite', 'pans', 'reviewers', 'liked', 'movie'], ['fact', 'liked', 'better', 'interview', 'vampire', 'liked', 'lestat', 'stuart', 'townsend', 'better', 'cruise', 'attempt'], ['aailiyah', 'pretty', 'good', 'akasha', 'places', 'compelling', 'first', 'entrance', 'mini', 'dance', 'scene'], ['big', 'fan', 'series', 'mostly', 'due', 'anne', 'rice', 'style', 'sensitivities', 'treatments'], ['guess', 'liked', 'details', 'dysfunction', 'believable'], ['football', 'scenes', 'end', 'perplexing'], ['thought', 'acting', 'skilled'], ['meredith', 'better', 'right'], ['charming', 'film', 'wonderful', 'sentiment', 'heart'], ['rare', 'film', 'maker', 'takes', 'time', 'tell', 'worthy', 'moral', 'tale', 'care', 'love', 'fall', 'trap', 'overly', 'syrupy', 'indulgent'], ['nine', 'ten', 'truly', 'lovely', 'film'], ['early', 'film', 'future', 'goremeister', 'lucio', 'fulci', 'good', 'addition', 'giallo', 'sub', 'genre'], ['one', 'best', 'italian', 'thrillers', 'early', '70'], ['standout', 'scene'], ['scene', 'strong', 'unpleasant'], ['technically', 'film', 'well', 'made', 'impressive', 'camera', 'work', 'solid', 'acting', 'effective', 'music', 'riz', 'ortolani', 'particularly', 'good', 'recurring', 'unaccompanied', 'female', 'vocal', 'sounds', 'like', 'coming', 'distant', 'hill'], ['still', 'wild', 'stuff', 'though', 'highly', 'recommended', 'fans', 'giallo', 'cinema'], ['movie', 'interesting', 'beginning', 'end'], ['liked', 'way', 'dustin', 'hoffman', 'character', 'ready', 'everything', 'stay', 'son'], ['movie', 'also', 'revealing'], ['personally', 'think', 'shows', 'people', 'learn', 'find', 'compromise', 'self', 'without', 'involving', 'people', 'issue'], ['boring'], ['tired', 'clich', 'lazy', 'writing', 'come', 'thick', 'fast'], ['ps', 'scene', 'movie', 'cool', 'central', 'character', 'finds', 'room', 'blown'], ['fresh', 'subtle', 'rather', 'sublime', 'effect'], ['italian', 'reviewer', 'called', 'small', 'great', 'film', 'right'], ['actors', 'give', 'wonderful', 'performance', 'especially', 'jennifer', 'rubin', 'jamie', 'harris', 'changes', 'nervous', 'starlet', 'beginning', 'strange', 'events', 'part', 'cool', 'star'], ['learn', 'lot', 'real', 'inside', 'emotions', 'people', 'movie', 'lot', 'movie', 'business'], ['movie', 'movie', 'situations', 'beginning', 'game', 'played', 'acting', 'coach', 'fascinating'], ['also', 'music', 'mark', 'snow', 'possibly', 'best', 'score', 'ever', 'heard'], ['forget', 'movie'], ['film', 'made'], ['film', 'ultra', 'cheap', 'look'], ['result', 'film', 'look', 'right'], ['none', 'engaging', 'exciting'], ['plot', 'nonsense', 'interest', 'slightest', 'way', 'uniqueness'], ['foreigner', 'worth', 'one', 'second', 'time'], ['saw', 'child', 'tv', 'back', '1973', 'stranger', 'loved'], ['duet', 'astronaut', 'doctor', 'beginning', 'movie', 'perfect', 'exchange', 'one', 'considers', 'movie', 'made', 'well', 'cold', 'war', 'astronaut', 'biggest', 'fear', 'crashed', 'ussr'], ['movie', 'awesome'], ['loved', 'really', 'scary'], ['love', 'scream', 'movies', 'horror', 'movies', 'one', 'ranks', 'way'], ['want', 'real', 'scare', 'rent', 'one'], ['10', '10'], ['extraordinary', 'film'], ['courtroom', 'drama', 'compelling', 'indictment', 'american', 'justice', 'system', 'frightening'], ['film', 'highlights', 'fundamental', 'flaws', 'legal', 'process', 'discovering', 'guilt', 'innocence', 'rather', 'presents', 'better', 'court'], ['film', 'well', 'paced', 'understated', 'one', 'best', 'courtroom', 'documentaries', 'seen'], ['mostly', 'routine', 'fact', 'based', 'tv', 'drama', 'gets', 'boost', 'fine', 'performance', 'cole'], ['predictable', 'bad', 'watch'], ['clear', 'range', 'ability', 'pull', 'part'], ['carries', 'movie', 'well'], ['constantine', 'gives', 'everything', 'right', 'intensity', 'seems', 'good', 'understanding', 'underlying', 'psychological', 'motivations'], ['wonderful', 'inspiring', 'watch', 'hope', 'gets', 'released', 'video', 'dvd'], ['piece', 'trash', 'ever', 'released', 'beyond', 'acting', 'story', 'characters', 'supposedly', 'special', 'effects', 'etc', 'wrong'], ['fact', 'stinker', 'smells', 'like', 'direct', 'video', 'release'], ['avoid', 'costs'], ['star', 'trek', 'v', 'final', 'frontier', 'worst', 'series'], ['acting', 'involved', 'includes', 'like', 'shatner', 'nimoy', 'bad', 'washed', 'making', 'seem', 'old', 'look', 'real', 'life', 'special', 'effects', 'tacky', 'like', 'spock', 'rescue', 'kirk', 'jet', 'pack', 'falls', 'mountain'], ['attempts', 'humor', 'pitiful', 'story', 'awful', 'dosen', 'bear', 'thinking', 'basically', 'involves', 'vulcan', 'stealing', 'enterprise', 'find', 'god', 'seriously', 'care', 'film', 'oh', 'mention', 'uhura', 'belly', 'dance', 'distract', 'male', 'guards'], ['place', 'good', 'film', 'garbage'], ['worst', 'one', 'series'], ['editing', 'editing', 'film', 'phenomenal', 'opinion'], ['song', 'could', 'explain', 'emotions', 'subjects', 'better', 'jay', 'adams', 'unfortunate', 'life', 'subject', 'talk', 'song', 'old', 'man', 'neil', 'young', 'played', 'evokes', 'many', 'emotions'], ['cinematography', 'film', 'shot', 'interesting', 'way'], ['course', 'footage', '70s', 'grainy', 'enhanced', 'film'], ['film', 'offers', 'many', 'delights', 'surprises'], ['achille', 'philippa', 'beautifully', 'sing', 'duet', 'giovanni', 'perfectly', 'describes', 'situation', 'movie', 'appreciate', 'subtle', 'layers', 'excellent', 'film'], ['story', 'unfolds', '18th', 'century', 'jutland', 'use', 'period', 'music', 'played', 'period', 'instruments', 'one', 'fine', 'touch'], ['share', 'general', 'loewenhielm', 'exquisite', 'joy', 'partaking', 'cailles', 'en', 'sarcophage', 'even', 'though', 'watching', 'movie', 'wish', 'small', 'sample', 'savor'], ['understated', 'film', 'leaves', 'lasting', 'impression'], ['warmth', 'generates', 'contrast', 'austere', 'backdrop'], ['leave', 'theater', 'wanting', 'go', 'dance', 'stars'], ['acting', 'expect', 'cast', 'top', 'notch'], ['characters', 'fleshed', 'surprisingly', 'well', 'particularly', 'grimes', 'blake', 'actors', 'deliver', 'sharply', 'scripted', 'lines', 'right', 'amount', 'deadpan', 'tongue', 'cheek', 'make', 'dialogue', 'hilarious', 'realistic'], ['angus', 'scrimm', 'also', 'turns', 'good', 'performance', 'somewhat', 'brief', 'memorable', 'role', 'gently', 'menacing', 'violin', 'playing', 'anatomist', 'doctor', 'quinn'], ['conclusion', 'loved'], ['long', 'time', 'since', 'entertained', 'movie'], ['struggle', 'find', 'anything', 'bad', 'say'], ['mark', 'words', 'one', 'cult', 'films', 'like', 'evil', 'dead', '2', 'phantasm', 'people', 'still', 'discovering', 'falling', 'love', '20', '30', '40', 'years', 'line'], ['pretty', 'surprising', 'wonderful', 'film', 'made', '1949', 'hollywood', 'generally', 'collective', 'heads', 'sand', 'concerning', 'black', 'white', 'issues', 'time'], ['film', 'deserves', 'strong', 'kudos', 'taking', 'stand', 'exceptional', 'acting', 'mostly', 'lesser', 'known', 'cast', 'super', 'intelligent', 'script', 'insult', 'audience', 'take', 'easy', 'way', 'comes', 'white', 'racism'], ['plus', 'movie', 'rather', 'modest', 'budget', 'fast', 'running', 'time', 'amazing', 'job'], ['juano', 'hernandez', 'exceptional', 'actor', 'played', 'supporting', 'roles', 'many', 'films', 'era', 'proud', 'black', 'man', 'accused', 'murdering', 'white', 'man', 'south'], ['trumbull', 'love', 'lucy'], ['see', 'kids', 'chance', 'open', 'amazing', 'dialog', 'far', 'race', 'relations', 'come', 'last', '50', 'years'], ['see', 'films'], ['year', 'however', 'reminded', 'us', 'huston', 'still', 'top', 'game', 'evinced', 'faithful', 'adaptation', 'james', 'joyce', 'acclaimed', 'novella', 'dead'], ['feelings', 'thoughts', 'gabriel', 'discomfort', 'dance', 'intangibles', 'leap', 'life', 'come', 'within', 'viewer', 'grasp', 'huston', 'portrayal'], ['disappointed', 'wondered', 'could', 'oscar', 'shortlist'], ['slow'], ['lot', 'holes', 'plot', 'nothing', 'became', 'emperor', 'nothing', 'spend', '20', 'years', 'childhood', 'mature', 'age'], ['waste', 'time'], ['end', 'days', 'one', 'worst', 'big', 'budget', 'action', 'movies', 'ever', 'seen'], ['surely', 'know', 'make', 'coherent', 'action', 'movie', 'screenwriter', 'air', 'force', 'one', 'obliged', 'write', 'script', 'big', 'sum', 'money'], ['one', 'worst', 'films', 'ever', 'seen'], ['still', 'trying', 'get', 'bad'], ['movie', 'possibly', 'one', 'creative', 'works', 'horror', 'ever'], ['everything', 'could', 'want', 'suspense', 'drama', 'comedy', 'confusing', 'subplots', 'native', 'americans', 'brain', 'eating', 'looking', 'end', 'brainsucking', 'movies', 'look'], ['great', 'sound', 'effects', 'impressive', 'special', 'effects', 'recommend', 'movie', 'enough', '1', 'call', 'nut', 'think', 'one', 'best', 'movies', 'ever', '1', 'great', 'character', 'actors', 'telly', 'savalas', 'peter', 'boyle', '1', '1', 'hour', '54', 'minutes', 'sheer', 'tedium', 'melodrama', 'horrible', 'acting', 'mess', 'script', 'sinking', 'feeling', 'good', 'lord', 'thinking', '0', 'lots', 'holes', 'script', '0', 'like', 'bad', 'two', 'hour', 'tv', 'movie', '0', 'imagine', 'every', 'single', 'one', 'decisions', 'made', 'wrong', '0', 'dialogue', 'atrocious', '0', 'acting', 'beyond', 'abysmal', '0', 'everything', 'stinks', '0', 'trouble', 'writing', 'directing', 'make', 'impossible', 'establish', 'things', 'make', 'movie', 'watchable', 'like', 'character', 'story', 'theme', '0', 'worse', 'incredibly', 'weak', 'sub', 'plot', 'thrown', 'follows', 'little', 'band', 'latter', 'day', 'mansonites', 'go', 'reporter', 'working', 'story', 'anniversary', 'killings', '0', 'dumb', 'pointless', 'complete', 'waste', 'time', '0', 'short', 'bother', 'movie', '0', 'spoil', 'ending', 'pretty', 'amazing', '1', 'best', 'scene', 'movie', 'end', 'spoil', '1', 'ever', 'indication', 'writer', 'director', 'ability', 'meld', 'two', 'highly', 'volatile', 'temperaments', 'seamless', 'union', 'creativity', '1', 'result', 'powerhouse', 'achievement', 'made', 'timely', 'perhaps', 'culture', 'disturbing', 'fascination', 'celebrity', 'distorted', 'interpretations', 'fame', '1', 'film', 'easily', 'forgotten', '1', 'kevin', 'spacey', 'excellent', 'verbal', 'tsunami', 'buddy', 'ackerman', 'totally', 'believable', 'great', 'actor', '1', 'scripting', 'subtle', 'comedy', 'unmatched', 'movie', 'recent', 'years', '1', 'characters', 'interesting', 'even', 'bit', 'predictable', '1', 'highly', 'recommended', 'ages', 'although', 'younger', 'set', 'probably', 'appreciate', 'subtle', 'references', 'certainly', 'appreciate', 'one', 'galley', 'scene', 'particular', '1', 'great', 'movie', '1', 'also', 'story', 'acting', 'weak', '0', 'around', '4', 'pm', 'bought', 'around', '8pm', 'started', 'watch', 'around', '8', '15pm', 'fast', 'forwarded', 'remaining', 'film', 'see', 'anything', 'left', 'watchable', 'human', 'brain', '0', 'either', 'way', 'sucks', '0', 'script', 'horrendously', 'stupid', '0', 'story', 'starts', 'fast', 'absolutely', 'suspense', 'build', 'slightest', '0', 'everything', 'captain', 'howdy', 'says', 'either', 'laughable', 'plain', 'stupid', '0', 'hell', 'kind', 'crap', '0', 'plot', 'holes', '0', 'could', 'drive', 'semi', 'truck', 'holes', '0', 'linda', 'cardellini', 'thing', 'good', 'film', '1', 'poised', 'amazing', '1', 'dee', 'snider', 'plain', 'sucks', '0', 'act', 'one', 'least', 'scary', 'villains', 'ever', 'seen', 'write', 'write', 'damn', 'movie', 'sleep', '0', 'bored', 'throughout', 'whole', 'damn', 'thing', '0', 'acting', 'sucks', 'music', 'sucks', 'script', 'sucks', 'pacing', 'sucks', 'special', 'fx', 'suck', 'directing', 'sucks', 'basically', 'movie', 'sucks', '0', 'film', 'tries', 'serious', 'sophisticated', 'thriller', 'horror', 'flick', 'fails', 'miserably', '0', 'probably', 'one', 'least', 'effective', 'utterly', 'unoriginal', 'films', 'ever', 'seen', 'entire', 'life', '0', 'piece', 'cinematic', 'garbage', 'captured', 'celluloid', '0', 'avoid', 'costs', '0', 'rate', 'film', 'stinks', 'funny', 'fulci', 'stayed', 'giallo', 'supernatural', 'zombie', 'movies', '0', 'avoid', 'film', 'costs', '0', 'know', 'happened', 'season', 'five', 'mess', '0', 'consistent', 'thread', 'holding', 'series', 'together', 'amazing', 'performances', 'leni', 'parker', 'anita', 'laselva', 'two', 'taelons', 'quiet', 'idealogical', 'conflict', '0', 'movie', 'really', 'dislike', '0', 'one', 'boring', 'horror', 'movies', '90', 'mainly', 'starts', 'slow', 'centers', 'boring', 'atmosphere', '0', 'puppets', 'look', 'really', 'cheesy', 'good', 'way', 'like', 'puppet', 'master', '80', 'flicks', '0', 'story', 'lame', 'interesting', 'never', 'really', 'explains', 'sinister', 'origins', 'puppets', '0', 'death', 'scenes', 'like', 'previous', 'movies', 'f', 'x', 'terrible', '0', 'felt', 'asleep', 'first', 'time', 'watched', 'recommend', 'insomniacs', '0', 'fact', 'film', 'wonderful', 'heartwarming', 'tale', 'two', 'people', 'chasing', 'dreams', '1', 'best', 'part', 'nurse', 'betty', 'unpredictability'], ['director', 'neil', 'labute', 'uses', 'brutal', 'violence', 'seperate', 'dreams', 'reality', 'along', 'touching', 'drama', 'hilarious', 'comedy', 'never', 'tell', 'going', 'happen', 'next'], ['otherwise', 'even', 'waste', 'time'], ['one', 'fails', 'create', 'real', 'suspense'], ['killer', 'expect', 'anything', 'original', 'even', 'remotely', 'frightening'], ['however', 'pretty', 'good', 'acting', 'least', 'type', 'film'], ['sorry', 'really', 'recommend', 'anyone'], ['one', 'boring', 'pointless', 'movies', 'ever', 'seen'], ['secondary', 'plot', 'line', 'incomprehensible', 'relation', 'primary', 'plot', 'line', 'mystifying'], ['hated'], ['one', 'worst', 'sandra', 'bullock', 'movie', 'since', 'speed', '2', 'quite', 'bad'], ['understand', 'garbage', 'got', 'shelves', 'movie', 'store', 'even', 'real', 'movie'], ['highly', 'doubt', 'anyone', 'could', 'ever', 'like', 'trash'], ['movie', 'making'], ['acting', 'like', 'watching', 'wooden', 'puppets', 'moving', 'around', 'reading', 'book', 'bad'], ['warn', 'rent', 'movie', 'dumbest', 'thing', 'never', 'seen'], ['saw', 'short', 'film', 'hbo', 'day', 'absolutely', 'loved'], ['realize', 'wonderful', 'short', 'really', 'last', 'two', 'scenes'], ['excellent', 'short', 'film'], ['hopefully', 'director', 'james', 'cox', 'turn', 'short', 'feature', 'length', 'film', 'cast', 'win', 'us', 'whole', 'new', 'film'], ['agree', 'jessica', 'movie', 'pretty', 'bad'], ['characters', 'one', 'dimensional', 'even', 'good', 'guys', 'especially', 'bad', 'guys'], ['story', 'line', 'totally', 'predictable'], ['much', 'dialogue', 'much', 'music', 'whole', 'film', 'shot', 'elaborately', 'aesthetically', 'like', 'sculpture'], ['seen', 'soap', 'operas', 'intelligent', 'movie'], ['bad', 'characters', 'bad', 'story', 'bad', 'acting'], ['really', 'awful'], ['easy', 'watch'], ['funny', 'clever', 'hip', 'like', 'pray', 'previous', 'film', 'hype'], ['long', 'time', 'see', 'charismatic', 'actor', 'screen'], ['paolo', 'sorrentino', 'written', 'wonderful', 'story', 'loneliness', 'tony', 'built', 'one', 'unforgettable', 'characters', 'seen', 'movies', 'recent', 'years'], ['movie', 'completely', 'perfect', 'titta', 'di', 'girolamo', 'stay', 'long', 'time', 'vision', 'movie'], ['rate', 'movie', '9', '10'], ['know', 'emilio', 'estevez', 'directorial', 'debut', 'pacing', 'interplay', 'development', 'characters', 'well', 'clever', 'camera', 'work', 'surrounding', 'character', 'estevez', 'plays', 'suggest', 'natural', 'eye'], ['interplay', 'martin', 'emilio', 'contains', 'wonderful', 'chemistry', 'saw', 'wall', 'street', 'martin', 'charlie'], ['kathy', 'bates', 'wonderful', 'characters', 'subtle', 'desperation', 'escapism', 'variation', 'character', 'play', 'fields', 'lord'], ['readers', 'already', 'seen', 'one', 'miyazaki', 'films', 'still', 'top', 'form', 'made', 'another', 'worthwhile', 'experience'], ['never', 'condescends', 'characters', 'good', 'genuine', 'hearts', 'believable', 'problems'], ['two', 'main', 'characters', 'may', 'two', 'believable', 'children', 'ever', 'saw', 'put', 'screen'], ['easy', 'love', 'even', 'easy', 'identify'], ['movie', 'great', 'especially', 'enjoy', 'visual', 'arts'], ['scenery', 'two', 'daughters', 'paint', 'photograph', 'beautiful'], ['story', 'also', 'funny', 'poignant', 'times'], ['people', 'like', 'european', 'films', 'art', 'movies', 'like', 'movie'], ['truly', 'art', 'movie', 'actually', 'lot', 'art'], ['go', 'rent'], ['however', 'finally', 'watching', 'film', 'realized', 'closed', 'mind', 'brilliance', 'depicts', 'also', 'found', 'watching'], ['one', 'movie', 'never', 'ceases', 'interest', 'simply', 'keeps', 'alert', 'try', 'attempt', 'decipher', 'meanings'], ['brilliance', 'indeed'], ['liked', 'movies', 'like', 'matrix', 'better', 'yet', 'sequels', 'think', 'appreciate', 'thought', 'provoking', 'mindblowing', 'experience', 'film', 'give'], ['think', 'film', 'like', 'dream'], ['simply', 'beautiful'], ['rickman', 'stowe', 'play', 'roles', 'hilt', 'tale', 'childrens', 'book', 'writer', 'maybe', 'written', 'subversive', 'tract'], ['gloriously', 'fun', 'fast', 'paced', 'fairly', 'accurate', 'portrayal', 'night', 'raver'], ['presents', 'idyllic', 'yet', 'serious', 'portrayal', 'ups', 'downs', 'characters', 'lives'], ['whatever', 'avoid', 'groove', 'antithesis', 'good', 'human', 'traffic'], ['bad', 'everyone', 'else', 'involved', 'share', 'crowe', 'level', 'dedication', 'quality', 'far', 'better', 'film', 'hands', 'sub', 'par', 'mess'], ['movie', 'seemed', 'little', 'slow', 'first'], ['picked', 'speed', 'got', 'right', 'point'], ['showed', 'exactly', 'government', 'scientist', 'argued', 'humanity', 'reasons', 'gadget'], ['enjoyed'], ['recommended', 'friends'], ['particularly', 'pleased', 'acting', 'ability', 'dwight', 'schultz'], ['actors', 'truly', 'understand', 'become', 'particular', 'character', 'delivering', 'convincing', 'sincere', 'performance'], ['screen', 'chemistry', 'critical', 'entire', 'film', 'genuine'], ['film', 'dialogue', 'natural', 'real', 'life'], ['writer', 'gorman', 'bechard', 'undoubtedly', 'homework', 'references', 'industry', 'character', 'age', 'appropriate'], ['incredible', 'soundtrack', 'truly', 'captures', 'essence', 'film'], ['track', 'commands', 'sentiment', 'actually', 'contributing', 'scenes', 'characters'], ['definitely', 'worth', 'seeing', 'sort', 'thought', 'provoking', 'film', 'forces', 'question', 'threshold', 'loneliness'], ['hayao', 'miyazaki', 'latest', 'eighth', 'film', 'studio', 'ghibili', 'gake', 'ue', 'ponyo', 'ponyo', 'cliff', 'sea', 'wonderfully', 'fun', 'imaginative', 'look', 'childhood'], ['time', 'seems', 'film', 'animation', 'dominated', 'disney', 'pixar', 'cgi', 'masterpieces', 'refreshing', 'comforting', 'know', 'miyazaki', 'still', 'relying', 'traditional', 'hand', 'drawn', 'animation', 'tell', 'charming', 'enchanting', 'stories'], ['enough', 'said', 'remarkable', 'animation', 'film'], ['art', 'style', 'appearance', 'crayon', 'pencil', 'drawings', 'wonderfully', 'colorful', 'fanciful'], ['act', 'film', 'glad', 'gon', 'na', 'drift', 'away', 'earth', 'far', 'possible'], ['one', 'wants', 'surf', 'small', 'wave', 'space', 'movies', '1998', 'deep', 'impact', 'armageddon', 'one', 'fails', 'everywhere'], ['choked', 'vomit', 'end', 'cheap', 'drama', 'worthless', 'dialogue', 'must', 'bored', 'death', 'waste', 'time'], ['still', 'makes', 'super', 'ending', 'depicts', 'great', 'sea', 'vessel', 'taken', 'mighty', 'frost'], ['consider', 'excellent', 'story', 'solid', 'acting', 'look', 'film', 'added', 'bonuses'], ['instead', 'got', 'bore', 'fest', 'whiny', 'spoiled', 'brat', 'babysitting'], ['watched', 'two', 'sundays', 'ago', 'march', '20th', '2005', 'began', 'really', 'enjoy', 'time', 'taped', 'entire', 'thing'], ['well', 'acted', 'done', 'tv', 'movie'], ['judith', 'light', 'one', 'favorite', 'actresses', 'think', 'superb', 'job', 'film'], ['keep', 'watching'], ['sad', 'movie', 'good'], ['seen', 'movie', 'definitely', 'recommend'], ['lovely', 'usual', 'cutie'], ['still', 'quite', 'interesting', 'entertaining', 'follow'], ['recommend', 'confidence'], ['movie', 'well', 'balanced', 'comedy', 'drama', 'thoroughly', 'enjoyed'], ['riot', 'see', 'hugo', 'weaving', 'play', 'sex', 'obsessed', 'gay', 'real', 'estate', 'salesman', 'uses', 'clients', 'houses', 'trysts', 'flaming', 'darren', 'tom', 'hollander'], ['anyway', 'plot', 'flowed', 'smoothly', 'male', 'bonding', 'scenes', 'hoot'], ['opening', 'sequence', 'gem', 'classic', 'cat', 'n', 'mouse', 'games', 'follow', 'delight', 'watch'], ['fans', 'genre', 'heaven'], ['lange', 'become', 'great', 'actress'], ['looked', 'like', 'wonderful', 'story'], ['never', 'walked', 'movie', 'faster'], ['got', 'bored', 'watching', 'jessice', 'lange', 'take', 'clothes'], ['unfortunately', 'virtue', 'film', 'production', 'work', 'lost', 'regrettable', 'script'], ['word', 'embarrassing'], ['exceptionally', 'bad'], ['insult', 'one', 'intelligence', 'huge', 'waste', 'money'], ['wow', 'loved', 'place'], ['crust', 'good'], ['tasty', 'texture', 'nasty'], ['stopped', 'late', 'may', 'bank', 'holiday', 'rick', 'steve', 'recommendation', 'loved'], ['selection', 'menu', 'great', 'prices'], ['getting', 'angry', 'want', 'damn', 'pho'], ['honeslty', 'taste', 'fresh'], ['potatoes', 'like', 'rubber', 'could', 'tell', 'made', 'ahead', 'time', 'kept', 'warmer'], ['fries', 'great'], ['great', 'touch'], ['service', 'prompt'], ['would', 'go', 'back'], ['cashier', 'care', 'ever', 'say', 'still', 'ended', 'wayyy', 'overpriced'], ['tried', 'cape', 'cod', 'ravoli', 'chicken', 'cranberry', 'mmmm'], ['disgusted', 'pretty', 'sure', 'human', 'hair'], ['shocked', 'signs', 'indicate', 'cash'], ['highly', 'recommended'], ['waitress', 'little', 'slow', 'service'], ['place', 'worth', 'time', 'let', 'alone', 'vegas'], ['like'], ['burrittos', 'blah'], ['food', 'amazing'], ['service', 'also', 'cute'], ['could', 'care', 'less', 'interior', 'beautiful'], ['performed'], ['right', 'red', 'velvet', 'cake', 'ohhh', 'stuff', 'good'], ['never', 'brought', 'salad', 'asked'], ['hole', 'wall', 'great', 'mexican', 'street', 'tacos', 'friendly', 'staff'], ['took', 'hour', 'get', 'food', '4', 'tables', 'restaurant', 'food', 'luke', 'warm', 'sever', 'running', 'around', 'like', 'totally', 'overwhelmed'], ['worst', 'salmon', 'sashimi'], ['also', 'combos', 'like', 'burger', 'fries', 'beer', '23', 'decent', 'deal'], ['like', 'final', 'blow'], ['found', 'place', 'accident', 'could', 'happier'], ['seems', 'like', 'good', 'quick', 'place', 'grab', 'bite', 'familiar', 'pub', 'food', 'favor', 'look', 'elsewhere'], ['overall', 'like', 'place', 'lot'], ['redeeming', 'quality', 'restaurant', 'inexpensive'], ['ample', 'portions', 'good', 'prices'], ['poor', 'service', 'waiter', 'made', 'feel', 'like', 'stupid', 'every', 'time', 'came', 'table'], ['first', 'visit', 'hiro', 'delight'], ['service', 'sucks'], ['shrimp', 'tender', 'moist'], ['deal', 'good', 'enough', 'would', 'drag', 'establishment'], ['hard', 'judge', 'whether', 'sides', 'good', 'grossed', 'melted', 'styrofoam', 'want', 'eat', 'fear', 'getting', 'sick'], ['positive', 'note', 'server', 'attentive', 'provided', 'great', 'service'], ['frozen', 'pucks', 'disgust', 'worst', 'people', 'behind', 'register'], ['thing', 'like', 'prime', 'rib', 'dessert', 'section'], ['bad', 'food', 'damn', 'generic'], ['burger', 'good', 'beef', 'cooked', 'right'], ['want', 'sandwich', 'go', 'firehouse'], ['side', 'greek', 'salad', 'greek', 'dressing', 'tasty', 'pita', 'hummus', 'refreshing'], ['ordered', 'duck', 'rare', 'pink', 'tender', 'inside', 'nice', 'char', 'outside'], ['came', 'running', 'us', 'realized', 'husband', 'left', 'sunglasses', 'table'], ['chow', 'mein', 'good'], ['horrible', 'attitudes', 'towards', 'customers', 'talk', 'one', 'customers', 'enjoy', 'food'], ['portion', 'huge'], ['loved', 'friendly', 'servers', 'great', 'food', 'wonderful', 'imaginative', 'menu'], ['heart', 'attack', 'grill', 'downtown', 'vegas', 'absolutely', 'flat', 'lined', 'excuse', 'restaurant'], ['much', 'seafood', 'like', '5', 'strings', 'pasta', 'bottom'], ['salad', 'right', 'amount', 'sauce', 'power', 'scallop', 'perfectly', 'cooked'], ['ripped', 'banana', 'ripped', 'petrified', 'tasteless'], ['least', 'think', 'refill', 'water', 'struggle', 'wave', '10', 'minutes'], ['place', 'receives', 'stars', 'appetizers'], ['cocktails', 'handmade', 'delicious'], ['definitely', 'go', 'back'], ['glad', 'found', 'place'], ['great', 'food', 'service', 'huge', 'portions', 'give', 'military', 'discount'], ['always', 'great', 'time', 'dos', 'gringos'], ['update', 'went', 'back', 'second', 'time', 'still', 'amazing'], ['got', 'food', 'apparently', 'never', 'heard', 'salt', 'batter', 'fish', 'chewy'], ['great', 'way', 'finish', 'great'], ['deal', 'included', '5', 'tastings', '2', 'drinks', 'jeff', 'went', 'beyond', 'expected'], ['really', 'really', 'good', 'rice', 'time'], ['service', 'meh'], ['took', '30', 'min', 'get', 'milkshake', 'nothing', 'chocolate', 'milk'], ['guess', 'known', 'place', 'would', 'suck', 'inside', 'excalibur', 'use', 'common', 'sense'], ['scallop', 'dish', 'quite', 'appalling', 'value', 'well'], ['2', 'times', 'bad', 'customer', 'service'], ['sweet', 'potato', 'fries', 'good', 'seasoned', 'well'], ['today', 'second', 'time', 'lunch', 'buffet', 'pretty', 'good'], ['much', 'good', 'food', 'vegas', 'feel', 'cheated', 'wasting', 'eating', 'opportunity', 'going', 'rice', 'company'], ['coming', 'like', 'experiencing', 'underwhelming', 'relationship', 'parties', 'wait', 'person', 'ask', 'break'], ['walked', 'place', 'smelled', 'like', 'old', 'grease', 'trap', '2', 'others', 'eating'], ['turkey', 'roast', 'beef', 'bland'], ['place'], ['pan', 'cakes', 'everyone', 'raving', 'taste', 'like', 'sugary', 'disaster', 'tailored', 'palate', 'six', 'year', 'old'], ['love', 'pho', 'spring', 'rolls', 'oh', 'yummy', 'try'], ['poor', 'batter', 'meat', 'ratio', 'made', 'chicken', 'tenders', 'unsatisfying'], ['say', 'food', 'amazing'], ['omelets', 'die'], ['everything', 'fresh', 'delicious'], ['summary', 'largely', 'disappointing', 'dining', 'experience'], ['like', 'really', 'sexy', 'party', 'mouth', 'outrageously', 'flirting', 'hottest', 'person', 'party'], ['never', 'hard', 'rock', 'casino', 'never', 'ever', 'step', 'forward'], ['best', 'breakfast', 'buffet'], ['say', 'bye', 'bye', 'tip', 'lady'], ['never', 'go'], ['back'], ['food', 'arrived', 'quickly'], ['good'], ['side', 'cafe', 'serves', 'really', 'good', 'food'], ['server', 'fantastic', 'found', 'wife', 'loves', 'roasted', 'garlic', 'bone', 'marrow', 'added', 'extra', 'meal', 'another', 'marrow', 'go'], ['good', 'thing', 'waiter', 'helpful', 'kept', 'bloddy', 'mary', 'coming'], ['best', 'buffet', 'town', 'price', 'beat'], ['loved', 'mussels', 'cooked', 'wine', 'reduction', 'duck', 'tender', 'potato', 'dishes', 'delicious'], ['one', 'better', 'buffets'], ['went', 'tigerlilly', 'fantastic', 'afternoon'], ['food', 'delicious', 'bartender', 'attentive', 'personable', 'got', 'great', 'deal'], ['ambience', 'wonderful', 'music', 'playing'], ['go', 'back', 'next', 'trip'], ['sooooo', 'good'], ['real', 'sushi', 'lovers', 'let', 'honest', 'yama', 'good'], ['least', '40min', 'passed', 'us', 'ordering', 'food', 'arriving', 'busy'], ['really', 'fantastic', 'thai', 'restaurant', 'definitely', 'worth', 'visit'], ['nice', 'spicy', 'tender'], ['good', 'prices'], ['check'], ['pretty', 'gross'], ['better', 'atmosphere'], ['kind', 'hard', 'mess', 'steak'], ['although', 'much', 'liked', 'look', 'sound', 'place', 'actual', 'experience', 'bit', 'disappointing'], ['know', 'place', 'managed', 'served', 'blandest', 'food', 'ever', 'eaten', 'preparing', 'indian', 'cuisine'], ['worst', 'service', 'boot', 'least', 'worries'], ['service', 'fine', 'waitress', 'friendly'], ['guys', 'steaks', 'steak', 'loving', 'son', 'steak', 'best', 'worst', 'places', 'said', 'best', 'steak', 'ever', 'eaten'], ['thought', 'venture', 'away', 'get', 'good', 'sushi', 'place', 'really', 'hit', 'spot', 'night'], ['host', 'staff', 'lack', 'better', 'word', 'bitches'], ['bland', 'liking', 'place', 'number', 'reasons', 'want', 'waste', 'time', 'bad', 'reviewing', 'leave'], ['phenomenal', 'food', 'service', 'ambiance'], ['return'], ['definitely', 'worth', 'venturing', 'strip', 'pork', 'belly', 'return', 'next', 'time', 'vegas'], ['place', 'way', 'overpriced', 'mediocre', 'food'], ['penne', 'vodka', 'excellent'], ['good', 'selection', 'food', 'including', 'massive', 'meatloaf', 'sandwich', 'crispy', 'chicken', 'wrap', 'delish', 'tuna', 'melt', 'tasty', 'burgers'], ['management', 'rude'], ['delicious', 'nyc', 'bagels', 'good', 'selections', 'cream', 'cheese', 'real', 'lox', 'capers', 'even'], ['great', 'subway', 'fact', 'good', 'come', 'every', 'subway', 'meet', 'expectations'], ['seriously', 'solid', 'breakfast'], ['one', 'best', 'bars', 'food', 'vegas'], ['extremely', 'rude', 'really', 'many', 'restaurants', 'would', 'love', 'dine', 'weekend', 'vegas'], ['drink', 'never', 'empty', 'made', 'really', 'great', 'menu', 'suggestions'], [], ['waiter', 'helpful', 'friendly', 'rarely', 'checked', 'us'], ['husband', 'ate', 'lunch', 'disappointed', 'food', 'service'], ['red', 'curry', 'much', 'bamboo', 'shoots', 'tasty'], ['nice', 'blanket', 'moz', 'top', 'feel', 'like', 'done', 'cover', 'subpar', 'food'], ['bathrooms', 'clean', 'place', 'well', 'decorated'], ['menu', 'always', 'changing', 'food', 'quality', 'going', 'service', 'extremely', 'slow'], ['service', 'little', 'slow', 'considering', 'served', '3', 'people', 'servers', 'food', 'coming', 'slow', 'pace'], ['give', '2', 'thumbs'], ['watched', 'waiter', 'pay', 'lot', 'attention', 'tables', 'ignore', 'us'], ['fianc', 'came', 'middle', 'day', 'greeted', 'seated', 'right', 'away'], ['great', 'restaurant', 'mandalay', 'bay'], ['waited', 'forty', 'five', 'minutes', 'vain'], ['crostini', 'came', 'salad', 'stale'], ['highlights', 'great', 'quality', 'nigiri'], ['staff', 'friendly', 'joint', 'always', 'clean'], ['different', 'cut', 'piece', 'day', 'still', 'wonderful', 'tender', 'well', 'well', 'flavored'], ['ordered', 'voodoo', 'pasta', 'first', 'time', 'really', 'excellent', 'pasta', 'since', 'going', 'gluten', 'free', 'several', 'years', 'ago'], ['place', 'good'], ['unfortunately', 'must', 'hit', 'bakery', 'leftover', 'day', 'everything', 'ordered', 'stale'], ['came', 'back', 'today', 'since', 'relocated', 'still', 'impressed'], ['seated', 'immediately'], ['menu', 'diverse', 'reasonably', 'priced'], ['avoid', 'cost'], ['restaurant', 'always', 'full', 'never', 'wait'], ['delicious'], ['place', 'hands', 'one', 'best', 'places', 'eat', 'phoenix', 'metro', 'area'], ['go', 'looking', 'good', 'food'], ['never', 'treated', 'bad'], ['bacon', 'hella', 'salty'], ['also', 'ordered', 'spinach', 'avocado', 'salad', 'ingredients', 'sad', 'dressing', 'literally', 'zero', 'taste'], ['really', 'vegas', 'fine', 'dining', 'used', 'right', 'menus', 'handed', 'ladies', 'prices', 'listed'], ['waitresses', 'friendly'], ['lordy', 'khao', 'soi', 'dish', 'missed', 'curry', 'lovers'], ['everything', 'menu', 'terrific', 'also', 'thrilled', 'made', 'amazing', 'accommodations', 'vegetarian', 'daughter'], ['perhaps', 'caught', 'night', 'judging', 'reviews', 'inspired', 'go', 'back'], ['service', 'leaves', 'lot', 'desired'], ['atmosphere', 'modern', 'hip', 'maintaining', 'touch', 'coziness'], ['weekly', 'haunt', 'definitely', 'place', 'come', 'back', 'every'], ['literally', 'sat', '20', 'minutes', 'one', 'asking', 'take', 'order'], ['burger', 'absolutely', 'flavor', 'meat', 'totally', 'bland', 'burger', 'overcooked', 'charcoal', 'flavor'], ['also', 'decided', 'send', 'back', 'waitress', 'looked', 'like', 'verge', 'heart', 'attack'], ['dressed', 'treated', 'rudely'], ['probably', 'dirt'], ['love', 'place', 'hits', 'spot', 'want', 'something', 'healthy', 'lacking', 'quantity', 'flavor'], ['ordered', 'lemon', 'raspberry', 'ice', 'cocktail', 'also', 'incredible'], ['food', 'sucked', 'expected', 'sucked', 'could', 'imagined'], ['interesting', 'decor'], ['really', 'like', 'crepe', 'station'], ['also', 'served', 'hot', 'bread', 'butter', 'home', 'made', 'potato', 'chips', 'bacon', 'bits', 'top', 'original', 'good'], ['watch', 'preparing', 'delicious', 'food'], ['egg', 'rolls', 'fantastic'], ['order', 'arrived', 'one', 'gyros', 'missing'], ['salad', 'wings', 'ice', 'cream', 'dessert', 'left', 'feeling', 'quite', 'satisfied'], ['really', 'sure', 'joey', 'voted', 'best', 'hot', 'dog', 'valley', 'readers', 'phoenix', 'magazine'], ['best', 'place', 'go', 'tasty', 'bowl', 'pho'], ['live', 'music', 'fridays', 'totally', 'blows'], ['never', 'insulted', 'felt', 'disrespected'], ['friendly', 'staff'], ['worth', 'drive'], ['heard', 'good', 'things', 'place', 'exceeding', 'every', 'hope', 'could', 'dreamed'], ['food', 'great', 'serivce'], ['warm', 'beer', 'help'], ['great', 'brunch', 'spot'], ['service', 'friendly', 'inviting'], ['good', 'lunch', 'spot'], ['lived', 'since', '1979', 'first', 'last', 'time', 'stepped', 'foot', 'place'], ['worst', 'experience', 'ever'], ['must', 'night', 'place'], ['sides', 'delish', 'mixed', 'mushrooms', 'yukon', 'gold', 'puree', 'white', 'corn', 'beateous'], ['bug', 'never', 'showed', 'would', 'given', '4', 'sure', 'side', 'wall', 'bug', 'climbing', 'kitchen'], ['10', 'minutes', 'waiting', 'salad', 'realized', 'coming', 'time', 'soon'], ['friend', 'loved', 'salmon', 'tartar'], ['go', 'back'], ['extremely', 'tasty'], ['waitress', 'good', 'though'], ['soggy', 'good'], ['jamaican', 'mojitos', 'delicious'], ['small', 'worth', 'price'], ['food', 'rich', 'order', 'accordingly'], ['shower', 'area', 'outside', 'rinse', 'take', 'full', 'shower', 'unless', 'mind', 'nude', 'everyone', 'see'], ['service', 'bit', 'lacking'], ['lobster', 'bisque', 'bussell', 'sprouts', 'risotto', 'filet', 'needed', 'salt', 'pepper', 'course', 'none', 'tables'], ['hopefully', 'bodes', 'going', 'business', 'someone', 'cook', 'come'], ['either', 'cold', 'enough', 'flavor', 'bad'], ['loved', 'bacon', 'wrapped', 'dates'], ['unbelievable', 'bargain'], ['folks', 'otto', 'always', 'make', 'us', 'feel', 'welcome', 'special'], ['mains', 'also', 'uninspired'], ['place', 'first', 'pho', 'amazing'], ['wonderful', 'experience', 'made', 'place', 'must', 'stop', 'whenever', 'town'], ['food', 'bad', 'enough', 'enjoy', 'dealing', 'world', 'worst', 'annoying', 'drunk', 'people'], ['fun', 'chef'], ['ordered', 'double', 'cheeseburger', 'got', 'single', 'patty', 'falling', 'apart', 'picture', 'uploaded', 'yeah', 'still', 'sucks'], ['great', 'place', 'couple', 'drinks', 'watch', 'sporting', 'events', 'walls', 'covered', 'tv'], ['possible', 'give', 'zero', 'stars'], ['descriptions', 'said', 'yum', 'yum', 'sauce', 'another', 'said', 'eel', 'sauce', 'yet', 'another', 'said', 'spicy', 'mayo', 'well', 'none', 'rolls', 'sauces'], ['say', 'would', 'hardest', 'decision', 'honestly', 'dishes', 'taste', 'supposed', 'taste', 'amazing'], ['rolled', 'eyes', 'may', 'stayed', 'sure', 'go', 'back', 'try'], ['everyone', 'attentive', 'providing', 'excellent', 'customer', 'service'], ['horrible', 'waste', 'time', 'money'], ['dish', 'quite', 'flavourful'], ['time', 'side', 'restaurant', 'almost', 'empty', 'excuse'], ['busy', 'either', 'also', 'building', 'freezing', 'cold'], ['like', 'reviewer', 'said', 'pay', 'eat', 'place'], ['drinks', 'took', 'close', '30', 'minutes', 'come', 'one', 'point'], ['seriously', 'flavorful', 'delights', 'folks'], ['much', 'better', 'ayce', 'sushi', 'place', 'went', 'vegas'], ['lighting', 'dark', 'enough', 'set', 'mood'], ['based', 'sub', 'par', 'service', 'received', 'effort', 'show', 'gratitude', 'business', 'going', 'back'], ['owner', 'really', 'great', 'people'], ['nothing', 'privileged', 'working', 'eating'], ['greek', 'dressing', 'creamy', 'flavorful'], ['overall', 'think', 'would', 'take', 'parents', 'place', 'made', 'similar', 'complaints', 'silently', 'felt'], ['pizza', 'good', 'peanut', 'sauce', 'tasty'], ['7', 'table', 'service', 'pretty', 'fast'], ['fantastic', 'service'], ['well', 'would', 'given', 'godfathers', 'zero', 'stars', 'possible'], ['know', 'make'], ['tough', 'short', 'flavor'], ['hope', 'place', 'sticks', 'around'], ['bars', 'vegas', 'ever', 'recall', 'charged', 'tap', 'water'], ['restaurant', 'atmosphere', 'exquisite'], ['good', 'service', 'clean', 'inexpensive', 'boot'], ['seafood', 'fresh', 'generous', 'portion'], ['plus', '8', 'bucks'], ['service', 'par', 'either'], ['thus', 'far', 'visited', 'twice', 'food', 'absolutely', 'delicious', 'time'], ['good', 'year', 'ago'], ['self', 'proclaimed', 'coffee', 'cafe', 'wildly', 'disappointed'], ['veggitarian', 'platter', 'world'], ['cant', 'go', 'wrong', 'food'], ['beat'], ['stopped', 'place', 'madison', 'ironman', 'friendly', 'kind', 'staff'], ['chefs', 'friendly', 'good', 'job'], ['better', 'dedicated', 'boba', 'tea', 'spots', 'even', 'jenni', 'pho'], ['liked', 'patio', 'service', 'outstanding'], ['goat', 'taco', 'skimp', 'meat', 'wow', 'flavor'], ['think'], ['mac', 'salad', 'pretty', 'bland', 'getting'], ['went', 'bachi', 'burger', 'friend', 'recommendation', 'disappointed'], ['service', 'stinks'], ['waited', 'waited'], ['place', 'quality', 'sushi', 'quality', 'restaurant'], ['would', 'definitely', 'recommend', 'wings', 'well', 'pizza'], ['great', 'pizza', 'salads'], ['things', 'went', 'wrong', 'burned', 'saganaki'], ['waited', 'hour', 'breakfast', 'could', 'done', '100', 'times', 'better', 'home'], ['place', 'amazing'], ['hate', 'disagree', 'fellow', 'yelpers', 'husband', 'disappointed', 'place'], ['waited', '2', 'hours', 'never', 'got', 'either', 'pizzas', 'many', 'around', 'us', 'came', 'later'], ['know', 'slow'], ['staff', 'great', 'food', 'delish', 'incredible', 'beer', 'selection'], ['live', 'neighborhood', 'disappointed', 'back', 'convenient', 'location'], ['know', 'pulled', 'pork', 'could', 'soooo', 'delicious'], ['get', 'incredibly', 'fresh', 'fish', 'prepared', 'care'], ['go', 'gave', '1', 'star', 'rating', 'please', 'know', 'third', 'time', 'eating', 'bachi', 'burger', 'writing', 'review'], ['love', 'fact', 'everything', 'menu', 'worth'], ['never', 'dining', 'place'], ['food', 'excellent', 'service', 'good'], ['good', 'beer', 'drink', 'selection', 'good', 'food', 'selection'], ['please', 'stay', 'away', 'shrimp', 'stir', 'fried', 'noodles'], ['potato', 'chip', 'order', 'sad', 'could', 'probably', 'count', 'many', 'chips', 'box', 'probably', 'around', '12'], ['food', 'really', 'boring'], ['good', 'service', 'check'], ['greedy', 'corporation', 'never', 'see', 'another', 'dime'], ['never', 'ever', 'go', 'back'], ['much', 'like', 'go', 'back', 'get', 'passed', 'atrocious', 'service', 'never', 'return'], ['summer', 'dine', 'charming', 'outdoor', 'patio', 'delightful'], ['expect', 'good'], ['fantastic', 'food'], ['ordered', 'toasted', 'english', 'muffin', 'came', 'untoasted'], ['food', 'good'], ['never', 'going', 'back'], ['great', 'food', 'price', 'high', 'quality', 'house', 'made'], ['bus', 'boy', 'hand', 'rude'], ['point', 'friends', 'basically', 'figured', 'place', 'joke', 'mind', 'making', 'publicly', 'loudly', 'known'], ['back', 'good', 'bbq', 'lighter', 'fare', 'reasonable', 'pricing', 'tell', 'public', 'back', 'old', 'ways'], ['considering', 'two', 'us', 'left', 'full', 'happy', '20', 'go', 'wrong'], ['bread', 'made', 'house'], ['downside', 'service'], ['also', 'fries', 'without', 'doubt', 'worst', 'fries', 'ever'], ['service', 'exceptional', 'food', 'good', 'reviews'], ['couple', 'months', 'later', 'returned', 'amazing', 'meal'], ['favorite', 'place', 'town', 'shawarrrrrrma'], ['black', 'eyed', 'peas', 'sweet', 'potatoes', 'unreal'], ['disappointed'], ['could', 'serve', 'vinaigrette', 'may', 'make', 'better', 'overall', 'dish', 'still', 'good'], ['go', 'far', 'many', 'places', 'never', 'seen', 'restaurant', 'serves', '1', 'egg', 'breakfast', 'especially', '4', '00'], ['mom', 'got', 'home', 'immediately', 'got', 'sick', 'bites', 'salad'], ['servers', 'pleasant', 'deal', 'always', 'honor', 'pizza', 'hut', 'coupons'], ['truly', 'unbelievably', 'good', 'glad', 'went', 'back'], ['fantastic', 'service', 'pleased', 'atmosphere'], ['everything', 'gross'], ['love', 'place'], ['great', 'service', 'food'], ['first', 'bathrooms', 'location', 'dirty', 'seat', 'covers', 'replenished', 'plain', 'yucky'], ['burger', 'got', 'gold', 'standard', '17', 'burger', 'kind', 'disappointed'], ['omg', 'food', 'delicioso'], ['nothing', 'authentic', 'place'], ['spaghetti', 'nothing', 'special', 'whatsoever'], ['dishes', 'salmon', 'best', 'great'], ['vegetables', 'fresh', 'sauce', 'feels', 'like', 'authentic', 'thai'], ['worth', 'driving', 'tucson'], ['selection', 'probably', 'worst', 'seen', 'vegas', 'none'], ['pretty', 'good', 'beer', 'selection'], ['place', 'like', 'chipotle', 'better'], ['classy', 'warm', 'atmosphere', 'fun', 'fresh', 'appetizers', 'succulent', 'steaks', 'baseball', 'steak'], ['5', 'stars', 'brick', 'oven', 'bread', 'app'], ['eaten', 'multiple', 'times', 'time', 'food', 'delicious'], ['sat', 'another', 'ten', 'minutes', 'finally', 'gave', 'left'], ['terrible'], ['everyone', 'treated', 'equally', 'special'], ['take', '30', 'min', 'pancakes', 'eggs'], ['delicious'], ['good', 'side', 'staff', 'genuinely', 'pleasant', 'enthusiastic', 'real', 'treat'], ['sadly', 'gordon', 'ramsey', 'steak', 'place', 'shall', 'sharply', 'avoid', 'next', 'trip', 'vegas'], ['always', 'evening', 'wonderful', 'food', 'delicious'], ['best', 'fish', 'ever', 'life'], ['bathroom', 'next', 'door', 'nice'], ['buffet', 'small', 'food', 'offered', 'bland'], ['outstanding', 'little', 'restaurant', 'best', 'food', 'ever', 'tasted'], ['pretty', 'cool', 'would', 'say'], ['definitely', 'turn', 'doubt', 'back', 'unless', 'someone', 'else', 'buying'], ['server', 'great', 'job', 'handling', 'large', 'rowdy', 'table'], ['find', 'wasting', 'food', 'despicable', 'food'], ['wife', 'lobster', 'bisque', 'soup', 'lukewarm'], ['would', 'come', 'back', 'sushi', 'craving', 'vegas'], ['staff', 'great', 'ambiance', 'great'], ['deserves', '5', 'stars'], ['left', 'stomach', 'ache', 'felt', 'sick', 'rest', 'day'], ['dropped', 'ball'], ['dining', 'space', 'tiny', 'elegantly', 'decorated', 'comfortable'], ['customize', 'order', 'way', 'like', 'usual', 'eggplant', 'green', 'bean', 'stir', 'fry', 'love'], ['beans', 'rice', 'mediocre', 'best'], ['best', 'tacos', 'town', 'far'], ['took', 'back', 'money', 'got', 'outta'], ['interesting', 'part', 'town', 'place', 'amazing'], ['rude', 'inconsiderate', 'management'], ['staff', 'friendly', 'wait', 'times', 'served', 'horrible', 'one', 'even', 'says', 'hi', 'first', '10', 'minutes'], ['back'], ['great', 'dinners'], ['service', 'outshining', 'definitely', 'recommend', 'halibut'], ['food', 'terrible'], ['never', 'ever', 'go', 'back', 'told', 'many', 'people', 'happened'], ['recommend', 'unless', 'car', 'breaks', 'front', 'starving'], ['come', 'back', 'every', 'time', 'vegas'], ['place', 'deserves', 'one', 'star', '90', 'food'], ['disgrace'], ['def', 'coming', 'back', 'bowl', 'next', 'time'], ['want', 'healthy', 'authentic', 'ethic', 'food', 'try', 'place'], ['continue', 'come', 'ladies', 'night', 'andddd', 'date', 'night', 'highly', 'recommend', 'place', 'anyone', 'area'], ['several', 'times', 'past', 'experience', 'always', 'great'], ['walked', 'away', 'stuffed', 'happy', 'first', 'vegas', 'buffet', 'experience'], ['service', 'excellent', 'prices', 'pretty', 'reasonable', 'considering', 'vegas', 'located', 'inside', 'crystals', 'shopping', 'mall', 'aria'], ['summarize', 'food', 'incredible', 'nay', 'transcendant', 'nothing', 'brings', 'joy', 'quite', 'like', 'memory', 'pneumatic', 'condiment', 'dispenser'], ['probably', 'one', 'people', 'ever', 'go', 'ians', 'like'], ['kids', 'pizza', 'always', 'hit', 'lots', 'great', 'side', 'dish', 'options', 'kiddos'], ['service', 'perfect', 'family', 'atmosphere', 'nice', 'see'], ['cooked', 'perfection', 'service', 'impeccable'], ['one', 'simply', 'disappointment'], ['overall', 'disappointed', 'quality', 'food', 'bouchon'], ['accountant', 'know', 'getting', 'screwed'], ['great', 'place', 'eat', 'reminds', 'little', 'mom', 'pop', 'shops', 'san', 'francisco', 'bay', 'area'], ['today', 'first', 'taste', 'buldogis', 'gourmet', 'hot', 'dog', 'tell', 'ever', 'thought', 'possible'], ['left', 'frustrated'], ['definitely', 'soon'], ['food', 'really', 'good', 'got', 'full', 'petty', 'fast'], ['service', 'fantastic'], ['total', 'waste', 'time'], ['know', 'kind', 'best', 'iced', 'tea'], ['come', 'hungry', 'leave', 'happy', 'stuffed'], ['service', 'give', 'stars'], ['assure', 'disappointed'], ['take', 'little', 'bad', 'service', 'food', 'sucks'], ['gave', 'trying', 'eat', 'crust', 'teeth', 'still', 'sore'], ['completely', 'grossed'], ['really', 'enjoyed', 'eating'], ['first', 'time', 'going', 'think', 'quickly', 'become', 'regular'], ['server', 'nice', 'even', 'though', 'looked', 'little', 'overwhelmed', 'needs', 'stayed', 'professional', 'friendly', 'end'], ['dinner', 'companions', 'told', 'everything', 'fresh', 'nice', 'texture', 'taste'], ['ground', 'right', 'next', 'table', 'large', 'smeared', 'stepped', 'tracked', 'everywhere', 'pile', 'green', 'bird', 'poop'], ['furthermore', 'even', 'find', 'hours', 'operation', 'website'], ['tried', 'like', 'place', '10', 'times', 'think', 'done'], ['mistake'], ['complaints'], ['seriously', 'good', 'pizza', 'expert', 'connisseur', 'topic'], ['waiter', 'jerk'], ['strike', '2', 'wants', 'rushed'], ['nicest', 'restaurant', 'owners', 'ever', 'come', 'across'], ['never', 'come'], ['loved', 'biscuits'], ['service', 'quick', 'friendly'], ['ordered', 'appetizer', 'took', '40', 'minutes', 'pizza', 'another', '10', 'minutes'], ['absolutley', 'fantastic'], ['huge', 'awkward', '1', '5lb', 'piece', 'cow', '3', '4ths', 'gristle', 'fat'], ['definitely', 'come', 'back'], ['like', 'steiners', 'dark', 'feels', 'like', 'bar'], ['wow', 'spicy', 'delicious'], ['familiar', 'check'], ['take', 'business', 'dinner', 'dollars', 'elsewhere'], ['love', 'go', 'back'], ['anyway', 'fs', 'restaurant', 'wonderful', 'breakfast', 'lunch'], ['nothing', 'special'], ['day', 'week', 'different', 'deal', 'delicious'], ['mention', 'combination', 'pears', 'almonds', 'bacon', 'big', 'winner'], ['back'], ['sauce', 'tasteless'], ['food', 'delicious', 'spicy', 'enough', 'sure', 'ask', 'spicier', 'prefer', 'way'], ['ribeye', 'steak', 'cooked', 'perfectly', 'great', 'mesquite', 'flavor'], ['think', 'going', 'back', 'anytime', 'soon'], ['food', 'gooodd'], ['far', 'sushi', 'connoisseur', 'definitely', 'tell', 'difference', 'good', 'food', 'bad', 'food', 'certainly', 'bad', 'food'], ['insulted'], ['last', '3', 'times', 'lunch', 'bad'], ['chicken', 'wings', 'contained', 'driest', 'chicken', 'meat', 'ever', 'eaten'], ['food', 'good', 'enjoyed', 'every', 'mouthful', 'enjoyable', 'relaxed', 'venue', 'couples', 'small', 'family', 'groups', 'etc'], ['nargile', 'think', 'great'], ['best', 'tater', 'tots', 'southwest'], ['loved', 'place'], ['definitely', 'worth', '3', 'paid'], ['vanilla', 'ice', 'cream', 'creamy', 'smooth', 'profiterole', 'choux', 'pastry', 'fresh', 'enough'], ['im', 'az', 'time', 'new', 'spot'], ['manager', 'worst'], ['inside', 'really', 'quite', 'nice', 'clean'], ['food', 'outstanding', 'prices', 'reasonable'], ['think', 'running', 'back', 'carly', 'anytime', 'soon', 'food'], ['due', 'fact', 'took', '20', 'minutes', 'acknowledged', 'another', '35', 'minutes', 'get', 'food', 'kept', 'forgetting', 'things'], ['love', 'margaritas'], ['first', 'vegas', 'buffet', 'disappoint'], ['good', 'though'], ['one', 'note', 'ventilation', 'could', 'use', 'upgrading'], ['great', 'pork', 'sandwich'], ['waste', 'time'], ['total', 'letdown', 'would', 'much', 'rather', 'go', 'camelback', 'flower', 'shop', 'cartel', 'coffee'], ['third', 'cheese', 'friend', 'burger', 'cold'], ['enjoy', 'pizza', 'brunch'], ['steaks', 'well', 'trimmed', 'also', 'perfectly', 'cooked'], ['group', '70', 'claimed', 'would', '40', 'handled', 'us', 'beautifully'], ['loved'], ['asked', 'bill', 'leave', 'without', 'eating', 'bring', 'either'], ['place', 'jewel', 'las', 'vegas', 'exactly', 'hoping', 'find', 'nearly', 'ten', 'years', 'living'], ['seafood', 'limited', 'boiled', 'shrimp', 'crab', 'legs', 'crab', 'legs', 'definitely', 'taste', 'fresh'], ['selection', 'food', 'best'], ['delicious', 'absolutely', 'back'], ['small', 'family', 'restaurant', 'fine', 'dining', 'establishment'], ['toro', 'tartare', 'cavier', 'extraordinary', 'liked', 'thinly', 'sliced', 'wagyu', 'white', 'truffle'], ['dont', 'think', 'back', 'long', 'time'], ['attached', 'gas', 'station', 'rarely', 'good', 'sign'], ['awesome'], ['back', 'many', 'times', 'soon'], ['menu', 'much', 'good', 'stuff', 'could', 'decide'], ['worse', 'humiliated', 'worker', 'right', 'front', 'bunch', 'horrible', 'name', 'callings'], ['conclusion', 'filling', 'meals'], ['daily', 'specials', 'always', 'hit', 'group'], ['tragedy', 'struck'], ['pancake', 'also', 'really', 'good', 'pretty', 'large'], ['first', 'crawfish', 'experience', 'delicious'], ['monster', 'chicken', 'fried', 'steak', 'eggs', 'time', 'favorite'], ['waitress', 'sweet', 'funny'], ['also', 'taste', 'mom', 'multi', 'grain', 'pumpkin', 'pancakes', 'pecan', 'butter', 'amazing', 'fluffy', 'delicious'], ['rather', 'eat', 'airline', 'food', 'seriously'], ['cant', 'say', 'enough', 'good', 'things', 'place'], ['ambiance', 'incredible'], ['waitress', 'manager', 'friendly'], ['would', 'recommend', 'place'], ['overall', 'impressed', 'noca'], ['gyro', 'basically', 'lettuce'], ['terrible', 'service'], ['thoroughly', 'disappointed'], ['much', 'pasta', 'love', 'homemade', 'hand', 'made', 'pastas', 'thin', 'pizzas'], ['give', 'try', 'happy'], ['far', 'best', 'cheesecurds', 'ever'], ['reasonably', 'priced', 'also'], ['everything', 'perfect', 'night'], ['food', 'good', 'typical', 'bar', 'food'], ['drive', 'get'], ['first', 'glance', 'lovely', 'bakery', 'cafe', 'nice', 'ambiance', 'clean', 'friendly', 'staff'], ['anyway', 'think', 'go', 'back'], ['point', 'finger', 'item', 'menu', 'order', 'disappointed'], ['oh', 'thing', 'beauty', 'restaurant'], ['gone', 'go'], ['greasy', 'unhealthy', 'meal'], ['first', 'time', 'might', 'last'], ['burgers', 'amazing'], ['similarly', 'delivery', 'man', 'say', 'word', 'apology', 'food', '45', 'minutes', 'late'], ['way', 'expensive'], ['sure', 'order', 'dessert', 'even', 'need', 'pack', 'go', 'tiramisu', 'cannoli', 'die'], ['first', 'time', 'wait', 'next'], ['bartender', 'also', 'nice'], ['everything', 'good', 'tasty'], ['place', 'two', 'thumbs', 'way'], ['best', 'place', 'vegas', 'breakfast', 'check', 'sat', 'sun'], ['love', 'authentic', 'mexican', 'food', 'want', 'whole', 'bunch', 'interesting', 'yet', 'delicious', 'meats', 'choose', 'need', 'try', 'place'], ['terrible', 'management'], ['excellent', 'new', 'restaurant', 'experienced', 'frenchman'], ['zero', 'stars', 'would', 'give', 'zero', 'stars'], ['great', 'steak', 'great', 'sides', 'great', 'wine', 'amazing', 'desserts'], ['worst', 'martini', 'ever'], ['steak', 'shrimp', 'opinion', 'best', 'entrees', 'gc'], ['opportunity', 'today', 'sample', 'amazing', 'pizzas'], ['waited', 'thirty', 'minutes', 'seated', 'although', '8', 'vacant', 'tables', 'folks', 'waiting'], ['yellowtail', 'carpaccio', 'melt', 'mouth', 'fresh'], ['try', 'going', 'back', 'even', 'empty'], ['going', 'eat', 'potato', 'found', 'strangers', 'hair'], ['spicy', 'enough', 'perfect', 'actually'], ['last', 'night', 'second', 'time', 'dining', 'happy', 'decided', 'go', 'back'], ['even', 'hello', 'right'], ['desserts', 'bit', 'strange'], ['boyfriend', 'came', 'first', 'time', 'recent', 'trip', 'vegas', 'could', 'pleased', 'quality', 'food', 'service'], ['really', 'recommend', 'place', 'go', 'wrong', 'donut', 'place'], ['nice', 'ambiance'], ['would', 'recommend', 'saving', 'room'], ['guess', 'maybe', 'went', 'night', 'disgraceful'], ['however', 'recent', 'experience', 'particular', 'location', 'good'], ['know', 'like', 'restaurants', 'something'], ['avoid', 'establishment'], ['think', 'restaurant', 'suffers', 'trying', 'hard', 'enough'], ['tapas', 'dishes', 'delicious'], ['heart', 'place'], ['salad', 'bland', 'vinegrette', 'baby', 'greens', 'hearts', 'palm'], ['two', 'felt', 'disgusting'], ['good', 'time'], ['believe', 'place', 'great', 'stop', 'huge', 'belly', 'hankering', 'sushi'], ['generous', 'portions', 'great', 'taste'], ['never', 'go', 'back', 'place', 'never', 'ever', 'recommended', 'place', 'anyone'], ['servers', 'went', 'back', 'forth', 'several', 'times', 'even', 'much', 'helped'], ['food', 'delicious'], ['hour', 'seriously'], ['consider', 'theft'], ['eew', 'location', 'needs', 'complete', 'overhaul'], ['recently', 'witnessed', 'poor', 'quality', 'management', 'towards', 'guests', 'well'], ['waited', 'waited', 'waited'], ['also', 'came', 'back', 'check', 'us', 'regularly', 'excellent', 'service'], ['server', 'super', 'nice', 'checked', 'us', 'many', 'times'], ['pizza', 'tasted', 'old', 'super', 'chewy', 'good', 'way'], ['swung', 'give', 'try', 'deeply', 'disappointed'], ['service', 'good', 'company', 'better'], ['staff', 'also', 'friendly', 'efficient'], ['service', 'fan', 'quick', 'served', 'nice', 'folks'], ['boy', 'sucker', 'dry'], ['rated'], ['look', 'authentic', 'thai', 'food', 'go', 'else'], ['steaks', '100', 'recommended'], ['pulled', 'car', 'waited', 'another', '15', 'minutes', 'acknowledged'], ['great', 'food', 'great', 'service', 'clean', 'friendly', 'setting'], ['assure', 'back'], ['hate', 'things', 'much', 'cheap', 'quality', 'black', 'olives'], ['breakfast', 'perpared', 'great', 'beautiful', 'presentation', '3', 'giant', 'slices', 'toast', 'lightly', 'dusted', 'powdered', 'sugar'], ['kids', 'play', 'area', 'nasty'], ['great', 'place', 'fo', 'take', 'eat'], ['waitress', 'friendly', 'happy', 'accomodate', 'vegan', 'veggie', 'options'], ['omg', 'felt', 'like', 'never', 'eaten', 'thai', 'food', 'dish'], ['extremely', 'crumby', 'pretty', 'tasteless'], ['pale', 'color', 'instead', 'nice', 'char', 'flavor'], ['croutons', 'also', 'taste', 'homemade', 'extra', 'plus'], ['got', 'home', 'see', 'driest', 'damn', 'wings', 'ever'], ['regular', 'stop', 'trips', 'phoenix'], ['really', 'enjoyed', 'crema', 'caf', 'expanded', 'even', 'told', 'friends', 'best', 'breakfast'], ['good', 'money'], ['miss', 'wish', 'one', 'philadelphia'], ['got', 'sitting', 'fairly', 'fast', 'ended', 'waiting', '40', 'minutes', 'place', 'order', 'another', '30', 'minutes', 'food', 'arrived'], ['also', 'best', 'cheese', 'crisp', 'town'], ['good', 'value', 'great', 'food', 'great', 'service'], ['ask', 'satisfying', 'meal'], ['food', 'good'], ['awesome'], ['wanted', 'leave'], ['made', 'drive', 'way', 'north', 'scottsdale', 'one', 'bit', 'disappointed'], ['eating'], ['owners', 'really', 'really', 'need', 'quit', 'soooooo', 'cheap', 'let', 'wrap', 'freaking', 'sandwich', 'two', 'papers', 'one'], ['checked', 'place', 'couple', 'years', 'ago', 'impressed'], ['chicken', 'got', 'definitely', 'reheated', 'ok', 'wedges', 'cold', 'soggy'], ['sorry', 'getting', 'food', 'anytime', 'soon'], ['absolute', 'must', 'visit'], ['cow', 'tongue', 'cheek', 'tacos', 'amazing'], ['friend', 'like', 'bloody', 'mary'], ['despite', 'hard', 'rate', 'businesses', 'actually', 'rare', 'give', '1', 'star'], ['really', 'want', 'make', 'experience', 'good', 'one'], ['return'], ['chicken', 'pho', 'tasted', 'bland'], ['disappointing'], ['grilled', 'chicken', 'tender', 'yellow', 'saffron', 'seasoning'], ['drive', 'thru', 'means', 'want', 'wait', 'around', 'half', 'hour', 'food', 'somehow', 'end', 'going', 'make', 'us', 'wait', 'wait'], ['pretty', 'awesome', 'place'], ['ambience', 'perfect'], ['best', 'luck', 'rude', 'non', 'customer', 'service', 'focused', 'new', 'management'], ['grandmother', 'make', 'roasted', 'chicken', 'better', 'one'], ['asked', 'multiple', 'times', 'wine', 'list', 'time', 'ignored', 'went', 'hostess', 'got', 'one'], ['staff', 'always', 'super', 'friendly', 'helpful', 'especially', 'cool', 'bring', 'two', 'small', 'boys', 'baby'], ['four', 'stars', 'food', 'guy', 'blue', 'shirt', 'great', 'vibe', 'still', 'letting', 'us', 'eat'], ['roast', 'beef', 'sandwich', 'tasted', 'really', 'good'], ['evening', 'drastically', 'sick'], ['high', 'quality', 'chicken', 'chicken', 'caesar', 'salad'], ['ordered', 'burger', 'rare', 'came', 'done'], ['promptly', 'greeted', 'seated'], ['tried', 'go', 'lunch', 'madhouse'], ['proven', 'dead', 'wrong', 'sushi', 'bar', 'quality', 'great', 'service', 'fast', 'food', 'impeccable'], ['waiting', 'hour', 'seated', 'greatest', 'moods'], ['good', 'joint'], ['macarons', 'insanely', 'good'], ['eating'], ['waiter', 'attentive', 'friendly', 'informative'], ['maybe', 'cold', 'would', 'somewhat', 'edible'], ['place', 'lot', 'promise', 'fails', 'deliver'], ['bad', 'experience'], ['mistake'], ['food', 'average', 'best'], ['great', 'food'], ['going', 'back', 'anytime', 'soon'], ['disappointed', 'ordered', '35', 'big', 'bay', 'plater'], ['great', 'place', 'relax', 'awesome', 'burger', 'beer'], ['perfect', 'sit', 'family', 'meal', 'get', 'together', 'friends'], ['much', 'flavor', 'poorly', 'constructed'], ['patio', 'seating', 'comfortable'], ['fried', 'rice', 'dry', 'well'], ['hands', 'favorite', 'italian', 'restaurant'], ['screams', 'legit', 'book', 'somethat', 'also', 'pretty', 'rare', 'vegas'], ['fun', 'experience'], ['atmosphere', 'great', 'lovely', 'duo', 'violinists', 'playing', 'songs', 'requested'], ['personally', 'love', 'hummus', 'pita', 'baklava', 'falafels', 'baba', 'ganoush', 'amazing', 'eggplant'], ['convenient', 'since', 'staying', 'mgm'], ['owners', 'super', 'friendly', 'staff', 'courteous'], ['great'], ['eclectic', 'selection'], ['sweet', 'potato', 'tots', 'good', 'onion', 'rings', 'perfection', 'close'], ['staff', 'attentive'], ['chef', 'generous', 'time', 'even', 'came', 'around', 'twice', 'take', 'pictures'], ['owner', 'used', 'work', 'nobu', 'place', 'really', 'similar', 'half', 'price'], ['google', 'mediocre', 'imagine', 'smashburger', 'pop'], ['dont', 'go'], ['promise', 'disappoint'], ['sushi', 'lover', 'avoid', 'place', 'means'], ['great', 'double', 'cheeseburger'], ['awesome', 'service', 'food'], ['fantastic', 'neighborhood', 'gem'], ['wait', 'go', 'back'], ['plantains', 'worst', 'ever', 'tasted'], ['great', 'place', 'highly', 'recommend'], ['service', 'slow', 'attentive'], ['gave', '5', 'stars', 'giving', '5', 'stars'], ['staff', 'spends', 'time', 'talking'], ['dessert', 'panna', 'cotta', 'amazing'], ['good', 'food', 'great', 'atmosphere', '1'], ['damn', 'good', 'steak'], ['total', 'brunch', 'fail'], ['prices', 'reasonable', 'flavors', 'spot', 'sauce', 'home', 'made', 'slaw', 'drenched', 'mayo'], ['decor', 'nice', 'piano', 'music', 'soundtrack', 'pleasant'], ['steak', 'amazing', 'rge', 'fillet', 'relleno', 'best', 'seafood', 'plate', 'ever'], ['good', 'food', 'good', 'service'], ['absolutely', 'amazing'], ['probably', 'back', 'honest'], ['definitely', 'back'], ['sergeant', 'pepper', 'beef', 'sandwich', 'auju', 'sauce', 'excellent', 'sandwich', 'well'], ['hawaiian', 'breeze', 'mango', 'magic', 'pineapple', 'delight', 'smoothies', 'tried', 'far', 'good'], ['went', 'lunch', 'service', 'slow'], ['much', 'say', 'place', 'walked', 'expected', 'amazing', 'quickly', 'disappointed'], ['mortified'], ['needless', 'say', 'never', 'back'], ['anyways', 'food', 'definitely', 'filling', 'price', 'pay', 'expect'], ['chips', 'came', 'dripping', 'grease', 'mostly', 'edible'], ['really', 'impressed', 'strip', 'steak'], ['going', 'since', '2007', 'every', 'meal', 'awesome'], ['server', 'nice', 'attentive', 'serving', 'staff'], ['cashier', 'friendly', 'even', 'brought', 'food'], ['work', 'hospitality', 'industry', 'paradise', 'valley', 'refrained', 'recommending', 'cibo', 'longer'], ['atmosphere', 'fun'], ['would', 'recommend', 'others'], ['service', 'quick', 'even', 'go', 'orders', 'like', 'like'], ['mean', 'really', 'get', 'famous', 'fish', 'chips', 'terrible'], ['said', 'mouths', 'bellies', 'still', 'quite', 'pleased'], ['thing'], ['2', 'thumbs'], ['reading', 'please', 'go'], ['loved', 'grilled', 'pizza', 'reminded', 'legit', 'italian', 'pizza'], ['pros', 'large', 'seating', 'area', 'nice', 'bar', 'area', 'great', 'simple', 'drink', 'menu', 'best', 'brick', 'oven', 'pizza', 'homemade', 'dough'], ['really', 'nice', 'atmosphere'], ['tonight', 'elk', 'filet', 'special', 'sucked'], ['one', 'bite', 'hooked'], ['ordered', 'old', 'classics', 'new', 'dishes', 'going', 'times', 'sorely', 'disappointed', 'everything'], ['cute', 'quaint', 'simple', 'honest'], ['chicken', 'deliciously', 'seasoned', 'perfect', 'fry', 'outside', 'moist', 'chicken', 'inside'], ['food', 'great', 'always', 'compliments', 'chef'], ['special', 'thanks', 'dylan', 'recommendation', 'order', 'yummy', 'tummy'], ['awesome', 'selection', 'beer'], ['great', 'food', 'awesome', 'service'], ['one', 'nice', 'thing', 'added', 'gratuity', 'bill', 'since', 'party', 'larger', '6', '8', 'expect', 'tip'], ['fly', 'apple', 'juice', 'fly'], ['han', 'nan', 'chicken', 'also', 'tasty'], ['service', 'thought', 'good'], ['food', 'barely', 'lukewarm', 'must', 'sitting', 'waiting', 'server', 'bring', 'us'], ['ryan', 'bar', 'definitely', 'one', 'edinburgh', 'establishment', 'revisiting'], ['nicest', 'chinese', 'restaurant'], ['overall', 'like', 'food', 'service'], ['also', 'serve', 'indian', 'naan', 'bread', 'hummus', 'spicy', 'pine', 'nut', 'sauce', 'world'], ['probably', 'never', 'coming', 'back', 'recommend'], ['friend', 'pasta', 'also', 'bad', 'barely', 'touched'], ['try', 'airport', 'experience', 'tasty', 'food', 'speedy', 'friendly', 'service'], ['love', 'decor', 'chinese', 'calligraphy', 'wall', 'paper'], ['never', 'anything', 'complain'], ['restaurant', 'clean', 'family', 'restaurant', 'feel'], ['way', 'fried'], ['sure', 'long', 'stood', 'long', 'enough', 'begin', 'feel', 'awkwardly', 'place'], ['opened', 'sandwich', 'impressed', 'good', 'way'], ['back'], ['warm', 'feeling', 'service', 'felt', 'like', 'guest', 'special', 'treat'], ['extensive', 'menu', 'provides', 'lots', 'options', 'breakfast'], ['always', 'order', 'vegetarian', 'menu', 'dinner', 'wide', 'array', 'options', 'choose'], ['watched', 'prices', 'inflate', 'portions', 'get', 'smaller', 'management', 'attitudes', 'grow', 'rapidly'], ['wonderful', 'lil', 'tapas', 'ambience', 'made', 'feel', 'warm', 'fuzzy', 'inside'], ['got', 'enjoy', 'seafood', 'salad', 'fabulous', 'vinegrette'], ['wontons', 'thin', 'thick', 'chewy', 'almost', 'melt', 'mouth'], ['level', '5', 'spicy', 'perfect', 'spice', 'whelm', 'soup'], ['sat', 'right', 'time', 'server', 'get', 'go', 'fantastic'], ['main', 'thing', 'enjoy', 'crowd', 'older', 'crowd', 'around', 'mid', '30s'], ['side', 'town', 'definitely', 'spot', 'hit'], ['wait', '30', 'minutes', 'get', 'drink', 'longer', 'get', '2', 'arepas'], ['great', 'place', 'eat'], ['jalapeno', 'bacon', 'soooo', 'good'], ['service', 'poor', 'thats', 'nice'], ['food', 'good', 'service', 'good', 'prices', 'good'], ['place', 'clean', 'food', 'oh', 'stale'], ['chicken', 'dishes', 'ok', 'beef', 'like', 'shoe', 'leather'], ['service', 'beyond', 'bad'], ['happy'], ['tasted', 'like', 'dirt'], ['one', 'places', 'phoenix', 'would', 'definately', 'go', 'back'], ['block', 'amazing'], ['close', 'house', 'low', 'key', 'non', 'fancy', 'affordable', 'prices', 'good', 'food'], ['hot', 'sour', 'egg', 'flower', 'soups', 'absolutely', '5', 'stars'], ['sashimi', 'poor', 'quality', 'soggy', 'tasteless'], ['great', 'time', 'family', 'dinner', 'sunday', 'night'], ['food', 'tasty', 'say', 'real', 'traditional', 'hunan', 'style'], ['bother', 'slow', 'service'], ['flair', 'bartenders', 'absolutely', 'amazing'], ['frozen', 'margaritas', 'way', 'sugary', 'taste'], ['good', 'ordered', 'twice'], ['nutshell', '1', 'restaraunt', 'smells', 'like', 'combination', 'dirty', 'fish', 'market', 'sewer'], ['girlfriend', 'veal', 'bad'], ['unfortunately', 'good'], ['pretty', 'satifying', 'experience'], ['join', 'club', 'get', 'awesome', 'offers', 'via', 'email'], ['perfect', 'someone', 'likes', 'beer', 'ice', 'cold', 'case', 'even', 'colder'], ['bland', 'flavorless', 'good', 'way', 'describing', 'barely', 'tepid', 'meat'], ['chains', 'fan', 'beat', 'place', 'easily'], ['nachos', 'must'], ['coming', 'back'], ['many', 'words', 'say', 'place', 'everything', 'pretty', 'well'], ['staff', 'super', 'nice', 'quick', 'even', 'crazy', 'crowds', 'downtown', 'juries', 'lawyers', 'court', 'staff'], ['great', 'atmosphere', 'friendly', 'fast', 'service'], ['received', 'pita', 'huge', 'lot', 'meat', 'thumbs'], ['food', 'arrives', 'meh'], ['paying', '7', '85', 'hot', 'dog', 'fries', 'looks', 'like', 'came', 'kid', 'meal', 'wienerschnitzel', 'idea', 'good', 'meal'], ['classic', 'maine', 'lobster', 'roll', 'fantastic'], ['brother', 'law', 'works', 'mall', 'ate', 'day', 'guess', 'sick', 'night'], ['good', 'going', 'review', 'place', 'twice', 'hereas', 'tribute', 'place', 'tribute', 'event', 'held', 'last', 'night'], ['chips', 'salsa', 'really', 'good', 'salsa', 'fresh'], ['place', 'great'], ['mediocre', 'food'], ['get', 'inside', 'impressed', 'place'], ['super', 'pissd'], ['service', 'super', 'friendly'], ['sad', 'little', 'vegetables', 'overcooked'], ['place', 'nice', 'surprise'], ['golden', 'crispy', 'delicious'], ['high', 'hopes', 'place', 'since', 'burgers', 'cooked', 'charcoal', 'grill', 'unfortunately', 'taste', 'fell', 'flat', 'way', 'flat'], ['could', 'eat', 'bruschetta', 'day', 'devine'], ['single', 'employee', 'came', 'see', 'ok', 'even', 'needed', 'water', 'refill', 'finally', 'served', 'us', 'food'], ['lastly', 'mozzarella', 'sticks', 'best', 'thing', 'ordered'], ['first', 'time', 'ever', 'came', 'amazing', 'experience', 'still', 'tell', 'people', 'awesome', 'duck'], ['server', 'negligent', 'needs', 'made', 'us', 'feel', 'unwelcome', 'would', 'suggest', 'place'], ['service', 'terrible', 'though'], ['place', 'overpriced', 'consistent', 'boba', 'really', 'overpriced'], ['packed'], ['love', 'place'], ['say', 'desserts', 'yummy'], ['food', 'terrible'], ['seasonal', 'fruit', 'fresh', 'white', 'peach', 'puree'], ['kept', 'getting', 'worse', 'worse', 'officially', 'done'], ['place', 'honestly', 'blown'], ['definitely', 'would', 'eat'], ['waste', 'money'], ['love', 'put', 'food', 'nice', 'plastic', 'containers', 'opposed', 'cramming', 'little', 'paper', 'takeout', 'boxes'], ['cr', 'pe', 'delicate', 'thin', 'moist'], ['awful', 'service'], ['ever', 'go'], ['food', 'quality', 'horrible'], ['price', 'think', 'place', 'would', 'much', 'rather', 'gone'], ['service', 'fair', 'best'], ['love', 'sushi', 'found', 'kabuki', 'priced', 'hip', 'services'], ['favor', 'stay', 'away', 'dish'], ['poor', 'service'], ['one', 'table', 'thought', 'food', 'average', 'worth', 'wait'], ['best', 'service', 'food', 'ever', 'maria', 'server', 'good', 'friendly', 'made', 'day'], ['excellent'], ['paid', 'bill', 'tip', 'felt', 'server', 'terrible', 'job'], ['lunch', 'great', 'experience'], ['never', 'bland', 'food', 'surprised', 'considering', 'article', 'read', 'focused', 'much', 'spices', 'flavor'], ['food', 'way', 'overpriced', 'portions', 'fucking', 'small'], ['recently', 'tried', 'caballero', 'back', 'every', 'week', 'since'], ['40', 'bucks', 'head', 'really', 'expect', 'better', 'food'], ['food', 'came', 'good', 'pace'], ['ate', 'twice', 'last', 'visit', 'especially', 'enjoyed', 'salmon', 'salad'], ['back'], ['could', 'believe', 'dirty', 'oysters'], ['place', 'deserves', 'stars'], ['would', 'recommend', 'place'], ['fact', 'going', 'round', '4', 'stars', 'awesome'], ['disbelief', 'dish', 'qualified', 'worst', 'version', 'foods', 'ever', 'tasted'], ['bad', 'day', 'low', 'tolerance', 'rude', 'customer', 'service', 'people', 'job', 'nice', 'polite', 'wash', 'dishes', 'otherwise'], ['potatoes', 'great', 'biscuit'], ['probably', 'would', 'go'], ['flavorful', 'perfect', 'amount', 'heat'], ['price', 'reasonable', 'service', 'great'], ['wife', 'hated', 'meal', 'coconut', 'shrimp', 'friends', 'really', 'enjoy', 'meals', 'either'], ['fella', 'got', 'huevos', 'rancheros', 'look', 'appealing'], ['went', 'happy', 'hour', 'great', 'list', 'wines'], ['may', 'say', 'buffet', 'pricey', 'think', 'get', 'pay', 'place', 'getting', 'quite', 'lot'], ['probably', 'coming', 'back'], ['worst', 'food', 'service'], ['place', 'pretty', 'good', 'nice', 'little', 'vibe', 'restaurant'], ['talk', 'great', 'customer', 'service', 'course', 'back'], ['hot', 'dishes', 'hot', 'cold', 'dishes', 'close', 'room', 'temp', 'watched', 'staff', 'prepare', 'food', 'bare', 'hands', 'gloves', 'everything', 'deep', 'fried', 'oil'], ['love', 'fries', 'beans'], ['always', 'pleasure', 'dealing'], ['plethora', 'salads', 'sandwiches', 'everything', 'tried', 'gets', 'seal', 'approval'], ['place', 'awesome', 'want', 'something', 'light', 'healthy', 'summer'], ['sushi', 'strip', 'place', 'go'], ['service', 'great', 'even', 'manager', 'came', 'helped', 'table'], ['feel', 'dining', 'room', 'college', 'cooking', 'course', 'high', 'class', 'dining', 'service', 'slow', 'best'], ['started', 'review', 'two', 'stars', 'editing', 'give', 'one'], ['worst', 'sushi', 'ever', 'eat', 'besides', 'costco'], ['excellent', 'restaurant', 'highlighted', 'great', 'service', 'unique', 'menu', 'beautiful', 'setting'], ['boyfriend', 'sat', 'bar', 'completely', 'delightful', 'experience'], ['weird', 'vibe', 'owners'], ['hardly', 'meat'], ['better', 'bagels', 'grocery', 'store'], ['go', 'place', 'gyros'], ['love', 'owner', 'chef', 'one', 'authentic', 'japanese', 'cool', 'dude'], ['burgers', 'good', 'pizza', 'used', 'amazing', 'doughy', 'flavorless'], ['found', 'six', 'inch', 'long', 'piece', 'wire', 'salsa'], ['service', 'terrible', 'food', 'mediocre'], ['definately', 'enjoyed'], ['ordered', 'albondigas', 'soup', 'warm', 'tasted', 'like', 'tomato', 'soup', 'frozen', 'meatballs'], ['three', 'different', 'occasions', 'asked', 'well', 'done', 'medium', 'well', 'three', 'times', 'got', 'bloodiest', 'piece', 'meat', 'plate'], ['two', 'bites', 'refused', 'eat', 'anymore'], ['service', 'extremely', 'slow'], ['20', 'minutes', 'wait', 'got', 'table'], ['seriously', 'killer', 'hot', 'chai', 'latte'], ['allergy', 'warnings', 'menu', 'waitress', 'absolutely', 'clue', 'meals', 'contain', 'peanuts'], ['boyfriend', 'tried', 'mediterranean', 'chicken', 'salad', 'fell', 'love'], ['rotating', 'beers', 'tap', 'also', 'highlight', 'place'], ['pricing', 'bit', 'concern', 'mellow', 'mushroom'], ['worst', 'thai', 'ever'], ['stay', 'vegas', 'must', 'get', 'breakfast', 'least'], ['want', 'first', 'say', 'server', 'great', 'perfect', 'service'], ['pizza', 'selections', 'good'], ['strawberry', 'tea', 'good'], ['highly', 'unprofessional', 'rude', 'loyal', 'patron'], ['overall', 'great', 'experience'], ['spend', 'money', 'elsewhere'], ['regular', 'toasted', 'bread', 'equally', 'satisfying', 'occasional', 'pats', 'butter', 'mmmm'], ['buffet', 'bellagio', 'far', 'anticipated'], ['drinks', 'weak', 'people'], ['order', 'correct'], ['also', 'feel', 'like', 'chips', 'bought', 'made', 'house'], ['disappointing', 'dinner', 'went', 'elsewhere', 'dessert'], ['chips', 'sals', 'amazing'], ['returning'], ['new', 'fav', 'vegas', 'buffet', 'spot'], ['seriously', 'believe', 'owner', 'many', 'unexperienced', 'employees', 'running', 'around', 'like', 'chickens', 'heads', 'cut'], ['sad'], ['felt', 'insulted', 'disrespected', 'could', 'talk', 'judge', 'another', 'human', 'like'], ['call', 'steakhouse', 'properly', 'cook', 'steak', 'understand'], ['impressed', 'concept', 'food'], ['thing', 'crazy', 'guacamole', 'like', 'pur', 'ed'], ['really', 'nothing', 'postinos', 'hope', 'experience', 'better'], ['got', 'food', 'poisoning', 'buffet'], ['brought', 'fresh', 'batch', 'fries', 'thinking', 'yay', 'something', 'warm'], ['hilarious', 'yummy', 'christmas', 'eve', 'dinner', 'remember', 'biggest', 'fail', 'entire', 'trip', 'us'], ['needless', 'say', 'going', 'back', 'anytime', 'soon'], ['place', 'disgusting'], ['every', 'time', 'eat', 'see', 'caring', 'teamwork', 'professional', 'degree'], ['ri', 'style', 'calamari', 'joke'], ['however', 'much', 'garlic', 'fondue', 'barely', 'edible'], ['could', 'barely', 'stomach', 'meal', 'complain', 'business', 'lunch'], ['bad', 'lost', 'heart', 'finish'], ['also', 'took', 'forever', 'bring', 'us', 'check', 'asked'], ['ones', 'make', 'scene', 'restaurants', 'get', 'definitely', 'lost', 'love', 'one'], ['disappointing', 'experience'], ['food', 'par', 'denny', 'say', 'good'], ['want', 'wait', 'mediocre', 'food', 'downright', 'terrible', 'service', 'place'], ['waaaaaayyyyyyyyyy', 'rated', 'saying'], ['going', 'back'], ['place', 'fairly', 'clean', 'food', 'simply', 'worth'], ['place', 'lacked', 'style'], ['sangria', 'half', 'glass', 'wine', 'full', '12', 'ridiculous'], ['bother', 'coming'], ['meat', 'pretty', 'dry', 'sliced', 'brisket', 'pulled', 'pork'], ['building', 'seems', 'pretty', 'neat', 'bathroom', 'pretty', 'trippy', 'eat'], ['equally', 'awful'], ['probably', 'hurry', 'go', 'back'], ['slow', 'seating', 'even', 'reservation'], ['good', 'stretch', 'imagination'], ['cashew', 'cream', 'sauce', 'bland', 'vegetables', 'undercooked'], ['chipolte', 'ranch', 'dipping', 'sause', 'tasteless', 'seemed', 'thin', 'watered', 'heat'], ['bit', 'sweet', 'really', 'spicy', 'enough', 'lacked', 'flavor'], ['disappointed'], ['place', 'horrible', 'way', 'overpriced'], ['maybe', 'vegetarian', 'fare', 'twice', 'thought', 'average', 'best'], ['busy', 'know'], ['tables', 'outside', 'also', 'dirty', 'lot', 'time', 'workers', 'always', 'friendly', 'helpful', 'menu'], ['ambiance', 'feel', 'like', 'buffet', 'setting', 'douchey', 'indoor', 'garden', 'tea', 'biscuits'], ['con', 'spotty', 'service'], ['fries', 'hot', 'neither', 'burger'], ['came', 'back', 'cold'], ['food', 'came', 'disappointment', 'ensued'], ['real', 'disappointment', 'waiter'], ['husband', 'said', 'rude', 'even', 'apologize', 'bad', 'food', 'anything'], ['reason', 'eat', 'would', 'fill', 'night', 'binge', 'drinking', 'get', 'carbs', 'stomach'], ['insults', 'profound', 'deuchebaggery', 'go', 'outside', 'smoke', 'break', 'serving', 'solidify'], ['someone', 'orders', 'two', 'tacos', 'think', 'may', 'part', 'customer', 'service', 'ask', 'combo', 'ala', 'cart'], ['quite', 'disappointed', 'although', 'blame', 'needs', 'placed', 'door'], ['rave', 'reviews', 'wait', 'eat', 'disappointment'], ['del', 'taco', 'pretty', 'nasty', 'avoided', 'possible'], ['hard', 'make', 'decent', 'hamburger'], ['like'], ['hell', 'go', 'back'], ['gotten', 'much', 'better', 'service', 'pizza', 'place', 'next', 'door', 'services', 'received', 'restaurant'], ['know', 'big', 'deal', 'place', 'back', 'ya'], ['immediately', 'said', 'wanted', 'talk', 'manager', 'want', 'talk', 'guy', 'shots', 'fireball', 'behind', 'bar'], ['ambiance', 'much', 'better'], ['unfortunately', 'set', 'us', 'disapppointment', 'entrees'], ['food', 'good'], ['servers', 'suck', 'wait', 'correction', 'server', 'heimer', 'sucked'], ['happened', 'next', 'pretty', 'putting'], ['bad', 'cause', 'know', 'family', 'owned', 'really', 'wanted', 'like', 'place'], ['overpriced', 'getting'], ['vomited', 'bathroom', 'mid', 'lunch'], ['kept', 'looking', 'time', 'soon', 'become', '35', 'minutes', 'yet', 'still', 'food'], ['places', 'eat', 'circumstances', 'would', 'ever', 'return', 'tops', 'list'], ['started', 'tuna', 'sashimi', 'brownish', 'color', 'obviously', 'fresh'], ['food', 'average'], ['sure', 'beat', 'nachos', 'movies', 'would', 'expect', 'little', 'bit', 'coming', 'restaurant'], ['ha', 'long', 'bay', 'bit', 'flop'], ['problem', 'charge', '11', '99', 'sandwich', 'bigger', 'subway', 'sub', 'offers', 'better', 'amount', 'vegetables'], ['shrimp', 'unwrapped', 'live', '1', '2', 'mile', 'brushfire', 'literally', 'ice', 'cold'], ['lacked', 'flavor', 'seemed', 'undercooked', 'dry'], ['really', 'impressive', 'place', 'closed'], ['would', 'avoid', 'place', 'staying', 'mirage'], ['refried', 'beans', 'came', 'meal', 'dried', 'crusty', 'food', 'bland'], ['spend', 'money', 'time', 'place', 'else'], ['lady', 'table', 'next', 'us', 'found', 'live', 'green', 'caterpillar', 'salad'], ['presentation', 'food', 'awful'], ['tell', 'disappointed'], ['think', 'food', 'flavor', 'texture', 'lacking'], ['appetite', 'instantly', 'gone'], ['overall', 'impressed', 'would', 'go', 'back'], ['whole', 'experience', 'underwhelming', 'think', 'go', 'ninja', 'sushi', 'next', 'time'], ['wasted', 'enough', 'life', 'poured', 'salt', 'wound', 'drawing', 'time', 'took', 'bring', 'check']]\n"
     ]
    }
   ],
   "source": [
    "stop_words = set(stopwords.words('english'))\n",
    "\n",
    "#for loop that stop words and puts them into a list called 'list_sentences_no_stopwords'\n",
    "#each list within the list 'list_sentences_no_stopwords' is a sentence from df['review'] with the stop words removed\n",
    "list_sentences_no_stopwords=[ ]\n",
    "for sentence in df.review:\n",
    "    list_sentences_no_stopwords.append([word for word in word_tokenize(sentence) if word not in stop_words])\n",
    "print(list_sentences_no_stopwords)"
   ]
  },
  {
   "cell_type": "code",
   "execution_count": 27,
   "metadata": {
    "scrolled": false
   },
   "outputs": [
    {
     "data": {
      "text/plain": [
       "0    so there is no way for me to plug it in here in the us unless i go by a converter \n",
       "1                                                           good case  excellent value \n",
       "2                                                                great for the jawbone \n",
       "3        tied to charger for conversations lasting more than 45 minutes major problems \n",
       "4                                                                     the mic is great \n",
       "Name: review, dtype: object"
      ]
     },
     "execution_count": 27,
     "metadata": {},
     "output_type": "execute_result"
    }
   ],
   "source": [
    "#viewing and comparing the original first 5 sentences to the output above with stop words removed\n",
    "df['review'].head() "
   ]
  },
  {
   "cell_type": "code",
   "execution_count": 28,
   "metadata": {},
   "outputs": [
    {
     "name": "stdout",
     "output_type": "stream",
     "text": [
      "Vocabulary Size after Stop Words Removal: 5046\n"
     ]
    }
   ],
   "source": [
    "# Initialize tokenizer for stop words removed sentences and fit on processed text data\n",
    "tokenizer_no_stopwords = Tokenizer()\n",
    "tokenizer_no_stopwords.fit_on_texts([\" \".join(sentence) for sentence in list_sentences_no_stopwords])\n",
    "\n",
    "# Get vocabulary size after stop words removal\n",
    "vocab_size_no_stopwords = len(tokenizer_no_stopwords.word_index) + 1\n",
    "print(\"Vocabulary Size after Stop Words Removal:\", vocab_size_no_stopwords)"
   ]
  },
  {
   "cell_type": "markdown",
   "metadata": {},
   "source": [
    "<a id=\"B1c\"></a>\n",
    "### B1c.) proposed word embedding length"
   ]
  },
  {
   "cell_type": "markdown",
   "metadata": {},
   "source": [
    "The purpose of calculating the max sequence embedding length is to train the neural network with the data so that it is better able to predict the words that occur in concert (Huseby, 2020)."
   ]
  },
  {
   "cell_type": "code",
   "execution_count": 91,
   "metadata": {},
   "outputs": [
    {
     "data": {
      "text/plain": [
       "8"
      ]
     },
     "execution_count": 91,
     "metadata": {},
     "output_type": "execute_result"
    }
   ],
   "source": [
    "max_sequence_embedding=int(round(np.sqrt(np.sqrt(vocab_size_no_stopwords)),0))\n",
    "max_sequence_embedding"
   ]
  },
  {
   "cell_type": "markdown",
   "metadata": {},
   "source": [
    "<a id=\"B1d\"></a>\n",
    "### B1d.) statistical justification for the chosen maximum sequence length"
   ]
  },
  {
   "cell_type": "markdown",
   "metadata": {},
   "source": [
    "The maximum sequence length chosen was the length of the longest sentence within the data. As seen below, the longest sentence contained 1,390 words. Selecting a value of the longest sequence length allows for better accuracy of the model. Truncating the longer sequences would have resulted in a loss of data (Bilogur, 2020). This number is reduced further in the data analysis process through removal of stop words and lemmatization."
   ]
  },
  {
   "cell_type": "code",
   "execution_count": 29,
   "metadata": {},
   "outputs": [
    {
     "data": {
      "text/html": [
       "<div>\n",
       "<style scoped>\n",
       "    .dataframe tbody tr th:only-of-type {\n",
       "        vertical-align: middle;\n",
       "    }\n",
       "\n",
       "    .dataframe tbody tr th {\n",
       "        vertical-align: top;\n",
       "    }\n",
       "\n",
       "    .dataframe thead th {\n",
       "        text-align: right;\n",
       "    }\n",
       "</style>\n",
       "<table border=\"1\" class=\"dataframe\">\n",
       "  <thead>\n",
       "    <tr style=\"text-align: right;\">\n",
       "      <th></th>\n",
       "      <th>sentiment</th>\n",
       "      <th>total_words</th>\n",
       "      <th>total_char</th>\n",
       "    </tr>\n",
       "  </thead>\n",
       "  <tbody>\n",
       "    <tr>\n",
       "      <th>count</th>\n",
       "      <td>2748.000000</td>\n",
       "      <td>2748.00000</td>\n",
       "      <td>2748.000000</td>\n",
       "    </tr>\n",
       "    <tr>\n",
       "      <th>mean</th>\n",
       "      <td>0.504367</td>\n",
       "      <td>13.00655</td>\n",
       "      <td>71.528384</td>\n",
       "    </tr>\n",
       "    <tr>\n",
       "      <th>std</th>\n",
       "      <td>0.500072</td>\n",
       "      <td>35.81939</td>\n",
       "      <td>201.987266</td>\n",
       "    </tr>\n",
       "    <tr>\n",
       "      <th>min</th>\n",
       "      <td>0.000000</td>\n",
       "      <td>1.00000</td>\n",
       "      <td>7.000000</td>\n",
       "    </tr>\n",
       "    <tr>\n",
       "      <th>25%</th>\n",
       "      <td>0.000000</td>\n",
       "      <td>6.00000</td>\n",
       "      <td>32.000000</td>\n",
       "    </tr>\n",
       "    <tr>\n",
       "      <th>50%</th>\n",
       "      <td>1.000000</td>\n",
       "      <td>10.00000</td>\n",
       "      <td>55.000000</td>\n",
       "    </tr>\n",
       "    <tr>\n",
       "      <th>75%</th>\n",
       "      <td>1.000000</td>\n",
       "      <td>16.00000</td>\n",
       "      <td>87.000000</td>\n",
       "    </tr>\n",
       "    <tr>\n",
       "      <th>max</th>\n",
       "      <td>1.000000</td>\n",
       "      <td>1390.00000</td>\n",
       "      <td>7944.000000</td>\n",
       "    </tr>\n",
       "  </tbody>\n",
       "</table>\n",
       "</div>"
      ],
      "text/plain": [
       "         sentiment  total_words   total_char\n",
       "count  2748.000000   2748.00000  2748.000000\n",
       "mean      0.504367     13.00655    71.528384\n",
       "std       0.500072     35.81939   201.987266\n",
       "min       0.000000      1.00000     7.000000\n",
       "25%       0.000000      6.00000    32.000000\n",
       "50%       1.000000     10.00000    55.000000\n",
       "75%       1.000000     16.00000    87.000000\n",
       "max       1.000000   1390.00000  7944.000000"
      ]
     },
     "execution_count": 29,
     "metadata": {},
     "output_type": "execute_result"
    }
   ],
   "source": [
    "df.describe()"
   ]
  },
  {
   "cell_type": "code",
   "execution_count": 30,
   "metadata": {},
   "outputs": [
    {
     "data": {
      "text/html": [
       "<div>\n",
       "<style scoped>\n",
       "    .dataframe tbody tr th:only-of-type {\n",
       "        vertical-align: middle;\n",
       "    }\n",
       "\n",
       "    .dataframe tbody tr th {\n",
       "        vertical-align: top;\n",
       "    }\n",
       "\n",
       "    .dataframe thead th {\n",
       "        text-align: right;\n",
       "    }\n",
       "</style>\n",
       "<table border=\"1\" class=\"dataframe\">\n",
       "  <thead>\n",
       "    <tr style=\"text-align: right;\">\n",
       "      <th></th>\n",
       "      <th>review</th>\n",
       "      <th>sentiment</th>\n",
       "      <th>total_words</th>\n",
       "      <th>total_char</th>\n",
       "    </tr>\n",
       "  </thead>\n",
       "  <tbody>\n",
       "    <tr>\n",
       "      <th>1136</th>\n",
       "      <td>in fact  it s hard to remember that the part of ray charles is being acted  and not played by the man himself    1 ray charles is legendary    1 ray charles  life provided excellent biographical material for the film  which goes well beyond being just another movie about a musician    1 hitchcock is a great director    1 ironically i mostly find his films a total waste of time to watch    0 s...</td>\n",
       "      <td>0</td>\n",
       "      <td>1390</td>\n",
       "      <td>7944</td>\n",
       "    </tr>\n",
       "    <tr>\n",
       "      <th>1019</th>\n",
       "      <td>the structure of this film is easily the most tightly constructed in the history of cinema    1 i can think of no other film where something vitally important occurs every other minute    1 in other words  the content level of this film is enough to easily fill a dozen other films    1 how can anyone in their right mind ask for anything more from a movie than this    1 it s quite simply the h...</td>\n",
       "      <td>0</td>\n",
       "      <td>865</td>\n",
       "      <td>4778</td>\n",
       "    </tr>\n",
       "    <tr>\n",
       "      <th>1646</th>\n",
       "      <td>with great sound effects  and impressive special effects  i can t recommend this movie enough    1 call me a nut  but i think this is one of the best movies ever    1 great character actors telly savalas and peter boyle    1 1 hour 54 minutes of sheer tedium  melodrama and horrible acting  a mess of a script  and a sinking feeling of good lord  what were they thinking    0 lots of holes in th...</td>\n",
       "      <td>1</td>\n",
       "      <td>797</td>\n",
       "      <td>4487</td>\n",
       "    </tr>\n",
       "    <tr>\n",
       "      <th>1149</th>\n",
       "      <td>i love it    1 the ending is so  so perfect  you ll shed a tear    1 i am so thrilled after seeing a movie like this    1 i will never forget it now    1 it is not just a cult  it is a cult classic    1 which has more depth and character than the man underneath it    0 the malta settings are as dry and as barren as the dialogue    0 this movie is terrible    0 the hockey scenes are terrible  ...</td>\n",
       "      <td>0</td>\n",
       "      <td>302</td>\n",
       "      <td>1562</td>\n",
       "    </tr>\n",
       "    <tr>\n",
       "      <th>1135</th>\n",
       "      <td>you ll love it    1 this movie is bad    0 so bad    0 the film is way too long    0 this is definitely one of the bad ones    0 the movie i received was a great quality film for it s age    1 john wayne did an incredible job for being so young in the movie industry    1 his on screen presence shined thought even though there were other senior actors on the screen with him    1 i think that it...</td>\n",
       "      <td>1</td>\n",
       "      <td>199</td>\n",
       "      <td>1053</td>\n",
       "    </tr>\n",
       "    <tr>\n",
       "      <th>...</th>\n",
       "      <td>...</td>\n",
       "      <td>...</td>\n",
       "      <td>...</td>\n",
       "      <td>...</td>\n",
       "    </tr>\n",
       "    <tr>\n",
       "      <th>185</th>\n",
       "      <td>incredible</td>\n",
       "      <td>1</td>\n",
       "      <td>1</td>\n",
       "      <td>12</td>\n",
       "    </tr>\n",
       "    <tr>\n",
       "      <th>993</th>\n",
       "      <td>disappointed</td>\n",
       "      <td>0</td>\n",
       "      <td>1</td>\n",
       "      <td>13</td>\n",
       "    </tr>\n",
       "    <tr>\n",
       "      <th>1063</th>\n",
       "      <td>brilliant</td>\n",
       "      <td>1</td>\n",
       "      <td>1</td>\n",
       "      <td>12</td>\n",
       "    </tr>\n",
       "    <tr>\n",
       "      <th>1094</th>\n",
       "      <td>horrible</td>\n",
       "      <td>0</td>\n",
       "      <td>1</td>\n",
       "      <td>11</td>\n",
       "    </tr>\n",
       "    <tr>\n",
       "      <th>1064</th>\n",
       "      <td>10 10</td>\n",
       "      <td>1</td>\n",
       "      <td>1</td>\n",
       "      <td>7</td>\n",
       "    </tr>\n",
       "  </tbody>\n",
       "</table>\n",
       "<p>2748 rows × 4 columns</p>\n",
       "</div>"
      ],
      "text/plain": [
       "                                                                                                                                                                                                                                                                                                                                                                                                               review  \\\n",
       "1136   in fact  it s hard to remember that the part of ray charles is being acted  and not played by the man himself    1 ray charles is legendary    1 ray charles  life provided excellent biographical material for the film  which goes well beyond being just another movie about a musician    1 hitchcock is a great director    1 ironically i mostly find his films a total waste of time to watch    0 s...   \n",
       "1019   the structure of this film is easily the most tightly constructed in the history of cinema    1 i can think of no other film where something vitally important occurs every other minute    1 in other words  the content level of this film is enough to easily fill a dozen other films    1 how can anyone in their right mind ask for anything more from a movie than this    1 it s quite simply the h...   \n",
       "1646   with great sound effects  and impressive special effects  i can t recommend this movie enough    1 call me a nut  but i think this is one of the best movies ever    1 great character actors telly savalas and peter boyle    1 1 hour 54 minutes of sheer tedium  melodrama and horrible acting  a mess of a script  and a sinking feeling of good lord  what were they thinking    0 lots of holes in th...   \n",
       "1149   i love it    1 the ending is so  so perfect  you ll shed a tear    1 i am so thrilled after seeing a movie like this    1 i will never forget it now    1 it is not just a cult  it is a cult classic    1 which has more depth and character than the man underneath it    0 the malta settings are as dry and as barren as the dialogue    0 this movie is terrible    0 the hockey scenes are terrible  ...   \n",
       "1135  you ll love it    1 this movie is bad    0 so bad    0 the film is way too long    0 this is definitely one of the bad ones    0 the movie i received was a great quality film for it s age    1 john wayne did an incredible job for being so young in the movie industry    1 his on screen presence shined thought even though there were other senior actors on the screen with him    1 i think that it...   \n",
       "...                                                                                                                                                                                                                                                                                                                                                                                                               ...   \n",
       "185                                                                                                                                                                                                                                                                                                                                                                                                       incredible    \n",
       "993                                                                                                                                                                                                                                                                                                                                                                                                     disappointed    \n",
       "1063                                                                                                                                                                                                                                                                                                                                                                                                     brilliant      \n",
       "1094                                                                                                                                                                                                                                                                                                                                                                                                      horrible      \n",
       "1064                                                                                                                                                                                                                                                                                                                                                                                                          10 10     \n",
       "\n",
       "      sentiment  total_words  total_char  \n",
       "1136          0         1390        7944  \n",
       "1019          0          865        4778  \n",
       "1646          1          797        4487  \n",
       "1149          0          302        1562  \n",
       "1135          1          199        1053  \n",
       "...         ...          ...         ...  \n",
       "185           1            1          12  \n",
       "993           0            1          13  \n",
       "1063          1            1          12  \n",
       "1094          0            1          11  \n",
       "1064          1            1           7  \n",
       "\n",
       "[2748 rows x 4 columns]"
      ]
     },
     "execution_count": 30,
     "metadata": {},
     "output_type": "execute_result"
    }
   ],
   "source": [
    "#Verifying there  actually is a review that is 1,390 words\n",
    "df.sort_values(by='total_words', ascending=False)"
   ]
  },
  {
   "cell_type": "markdown",
   "metadata": {},
   "source": [
    "Choosing to set maximum sequence length to 1,391. Calculated by taking the maximum word length and adding one."
   ]
  },
  {
   "cell_type": "markdown",
   "metadata": {},
   "source": [
    "**Lemmatizing:** This code was sourced from Datacamp (n.d.). "
   ]
  },
  {
   "cell_type": "code",
   "execution_count": 32,
   "metadata": {},
   "outputs": [
    {
     "name": "stdout",
     "output_type": "stream",
     "text": [
      "Vocabulary Size before Lemmatization: 5046\n",
      "Vocabulary Size after Lemmatization: 4651\n"
     ]
    }
   ],
   "source": [
    "# Initialize tokenizer for preprocessed text data and fit on it\n",
    "tokenizer_before_lemmatization = Tokenizer()\n",
    "tokenizer_before_lemmatization.fit_on_texts([\" \".join(sentence) for sentence in list_sentences_no_stopwords])\n",
    "\n",
    "# Get vocabulary size before lemmatization\n",
    "vocab_size_before_lemmatization = len(tokenizer_before_lemmatization.word_index) + 1\n",
    "\n",
    "# Lemmatize the preprocessed text data\n",
    "lemmatizer = WordNetLemmatizer()\n",
    "def lem(token_text):\n",
    "    return [lemmatizer.lemmatize(word) for word in token_text]\n",
    "\n",
    "lemmatized_sentences = []\n",
    "\n",
    "for sentence in list_sentences_no_stopwords:\n",
    "    lemmatized_sentence = lem(sentence)  # Lemmatize the sentence\n",
    "    lemmatized_sentences.append(lemmatized_sentence)  # Append the lemmatized sentence to the list\n",
    "\n",
    "# No need to convert lemmatized sentences back to string format\n",
    "# Initialize tokenizer for lemmatized text data and fit on lemmatized text\n",
    "tokenizer_lemmatized = Tokenizer()\n",
    "tokenizer_lemmatized.fit_on_texts(lemmatized_sentences)\n",
    "\n",
    "# Get vocabulary size after lemmatization\n",
    "vocab_size_after_lemmatization = len(tokenizer_lemmatized.word_index) + 1\n",
    "\n",
    "# Print vocabulary sizes\n",
    "print(\"Vocabulary Size before Lemmatization:\", vocab_size_before_lemmatization)\n",
    "print(\"Vocabulary Size after Lemmatization:\", vocab_size_after_lemmatization)"
   ]
  },
  {
   "cell_type": "markdown",
   "metadata": {},
   "source": [
    "**Tokenizing and Vectorizing:** The code below was sourced from Chen (2024)."
   ]
  },
  {
   "cell_type": "code",
   "execution_count": 33,
   "metadata": {},
   "outputs": [],
   "source": [
    "# Converting lemmatized sentences to sequences\n",
    "encoded_sentences = tokenizer_lemmatized.texts_to_sequences(lemmatized_sentences)"
   ]
  },
  {
   "cell_type": "code",
   "execution_count": 34,
   "metadata": {},
   "outputs": [
    {
     "name": "stdout",
     "output_type": "stream",
     "text": [
      "{'good': 1, 'movie': 2, 'great': 3, 'film': 4, 'phone': 5, 'one': 6, '0': 7, '1': 8, 'time': 9, 'like': 10, 'food': 11, 'place': 12, 'service': 13, 'work': 14, 'bad': 15, 'really': 16, 'well': 17, 'would': 18, 'best': 19, 'even': 20, 'ever': 21, 'also': 22, 'back': 23, 'go': 24, 'get': 25, 'quality': 26, 'love': 27, 'make': 28, 'character': 29, 'made': 30, 'product': 31, 'headset': 32, 'excellent': 33, 'sound': 34, 'could': 35, 'nice': 36, 'thing': 37, 'better': 38, 'never': 39, 'recommend': 40, 'much': 41, 'use': 42, 'way': 43, 'battery': 44, 'think': 45, 'first': 46, 'look': 47, 'price': 48, 'pretty': 49, 'see': 50, 'acting': 51, 'ear': 52, 'year': 53, 'say': 54, 'got': 55, 'worst': 56, 'still': 57, '2': 58, 'case': 59, 'minute': 60, '10': 61, 'everything': 62, 'enough': 63, 'two': 64, 'little': 65, 'disappointed': 66, 'every': 67, 'right': 68, 'going': 69, 'amazing': 70, 'scene': 71, 'waste': 72, 'people': 73, 'real': 74, 'definitely': 75, 'problem': 76, 'know': 77, 'terrible': 78, 'story': 79, 'money': 80, 'lot': 81, 'experience': 82, 'new': 83, 'star': 84, 'came': 85, 'life': 86, 'piece': 87, 'give': 88, 'friendly': 89, 'actor': 90, 'day': 91, 'many': 92, 'plot': 93, 'restaurant': 94, 'far': 95, 'poor': 96, 'want': 97, 'call': 98, 'used': 99, 'worth': 100, 'u': 101, 'long': 102, 'come': 103, 'nothing': 104, 'seen': 105, 'fit': 106, 'take': 107, 'screen': 108, 'quite': 109, 'script': 110, 'wonderful': 111, 'line': 112, 'happy': 113, 'feel': 114, 'hour': 115, 'always': 116, 'highly': 117, 'camera': 118, 'found': 119, 'anyone': 120, 'show': 121, 'delicious': 122, 'charger': 123, 'last': 124, 'car': 125, 'performance': 126, 'easy': 127, 'thought': 128, 'part': 129, 'another': 130, 'watching': 131, 'vega': 132, 'went': 133, 'bought': 134, 'absolutely': 135, 'loved': 136, 'fine': 137, 'buy': 138, 'end': 139, 'find': 140, 'item': 141, 'worked': 142, 'around': 143, 'funny': 144, 'probably': 145, 'however': 146, 'awful': 147, 'comfortable': 148, 'since': 149, 'big': 150, 'job': 151, 'slow': 152, 'awesome': 153, 'horrible': 154, 'must': 155, 'impressed': 156, '5': 157, 'cool': 158, 'music': 159, 'try': 160, 'totally': 161, 'watch': 162, 'staff': 163, 'eat': 164, 'though': 165, 'talk': 166, 'picture': 167, 'bluetooth': 168, 'order': 169, 'black': 170, 'small': 171, 'cheap': 172, 'fantastic': 173, 'night': 174, 'overall': 175, 'family': 176, 'old': 177, 'suck': 178, 'cast': 179, 'chicken': 180, 'server': 181, 'steak': 182, 'pizza': 183, 'beautiful': 184, 'reception': 185, 'kind': 186, 'side': 187, 'ordered': 188, 'customer': 189, 'hand': 190, 'stupid': 191, 'said': 192, 'menu': 193, 'perfect': 194, 'special': 195, 'salad': 196, 'dish': 197, 'charge': 198, 'sure': 199, 'need': 200, 'actually': 201, 'play': 202, 'done': 203, 'avoid': 204, 'bit': 205, 'low': 206, 'especially': 207, 'next': 208, 'fresh': 209, 'burger': 210, 'everyone': 211, 'bar': 212, 'least': 213, '3': 214, 'purchase': 215, 'working': 216, 'tried': 217, 'simply': 218, 'felt': 219, 'anything': 220, 'hard': 221, 'coming': 222, 'interesting': 223, 'without': 224, 'hear': 225, 'device': 226, 'expect': 227, 'white': 228, 'fast': 229, 'cell': 230, 'completely': 231, 'almost': 232, 'either': 233, 'game': 234, 'away': 235, 'liked': 236, 'man': 237, 'art': 238, 'enjoyed': 239, 'writing': 240, 'director': 241, 'worse': 242, 'taste': 243, 'table': 244, 'wait': 245, 'meal': 246, 'flavor': 247, 'plug': 248, 'design': 249, 'motorola': 250, 'left': 251, 'turn': 252, 'short': 253, 'clear': 254, 'seriously': 255, 'different': 256, 'super': 257, 'using': 258, 'set': 259, 'whole': 260, 'effect': 261, 'rather': 262, 'bland': 263, 'review': 264, 'fact': 265, 'buffet': 266, 'feeling': 267, 'dialogue': 268, 'selection': 269, 'sushi': 270, 'volume': 271, 'several': 272, 'started': 273, 'three': 274, 'month': 275, 'feature': 276, 'second': 277, 'week': 278, 'light': 279, 'full': 280, 'may': 281, 'getting': 282, 'perfectly': 283, 'put': 284, 'stay': 285, 'incredible': 286, 'extremely': 287, 'mess': 288, 'tell': 289, 'return': 290, 'fry': 291, 'disappointing': 292, 'looking': 293, 'crap': 294, 'deal': 295, 'keep': 296, 'understand': 297, 'unfortunately': 298, 'took': 299, 'sucked': 300, 'friend': 301, 'enjoy': 302, 'believe': 303, 'top': 304, 'word': 305, 'saw': 306, 'kid': 307, 'watched': 308, 'atmosphere': 309, 'value': 310, 'yet': 311, 'hold': 312, 'let': 313, 'received': 314, 'huge': 315, 'high': 316, 'le': 317, 'certainly': 318, 'disappointment': 319, 'care': 320, 'hot': 321, 'oh': 322, 'wrong': 323, 'barely': 324, 'truly': 325, 'mediocre': 326, 'soon': 327, 'ending': 328, 'boring': 329, 'tasty': 330, 'sauce': 331, 'fun': 332, 'wasted': 333, 'original': 334, 'recommended': 335, 'kept': 336, 'world': 337, 'button': 338, 'song': 339, 'series': 340, 'home': 341, 'cost': 342, 'style': 343, 'strong': 344, 'pleased': 345, 'house': 346, 'voice': 347, 'area': 348, 'glad': 349, 'human': 350, 'company': 351, 'gave': 352, 'couple': 353, 'face': 354, 'none': 355, 'something': 356, 'shot': 357, 'tv': 358, 'together': 359, 'easily': 360, 'inside': 361, 'predictable': 362, 'cinematography': 363, 'played': 364, 'drama': 365, 'fan': 366, 'waitress': 367, 'spot': 368, 'cold': 369, 'sandwich': 370, 'lunch': 371, 'meat': 372, 'breakfast': 373, 'waited': 374, 'decent': 375, 'owner': 376, 'helpful': 377, 'priced': 378, 'verizon': 379, 'dropped': 380, 'seems': 381, 'wear': 382, 'broke': 383, 'free': 384, 'wife': 385, 'check': 386, 'lost': 387, 'child': 388, 'junk': 389, 'amazon': 390, 'ago': 391, 'self': 392, 'trying': 393, 'wanted': 394, 'today': 395, 'unit': 396, '20': 397, 'role': 398, 'guess': 399, '4': 400, 'else': 401, 'making': 402, 'girl': 403, 'half': 404, 'directing': 405, 'horror': 406, 'playing': 407, 'heart': 408, 'eating': 409, 'potato': 410, 'beer': 411, 'clean': 412, 'simple': 413, 'hate': 414, 'garbage': 415, 'audio': 416, 'mind': 417, 'perhaps': 418, 'player': 419, 'cover': 420, 'arrived': 421, 'quickly': 422, 'although': 423, 'ask': 424, 'jabra': 425, 'color': 426, 'obviously': 427, 'mean': 428, 'mostly': 429, 'expected': 430, 'important': 431, 'cable': 432, 'someone': 433, 'weak': 434, 'reason': 435, 'average': 436, 'finally': 437, 'waiting': 438, 'break': 439, 'given': 440, 'eye': 441, 'quick': 442, 'plus': 443, 'point': 444, 'pay': 445, 'told': 446, 'entire': 447, 'wall': 448, 'fails': 449, 'rating': 450, 'lack': 451, 'cinema': 452, 'amount': 453, 'twice': 454, 'suspense': 455, 'classic': 456, 'action': 457, 'hope': 458, 'location': 459, '30': 460, 'tender': 461, 'dessert': 462, 'drink': 463, 'dining': 464, 'spicy': 465, 'rude': 466, 'chip': 467, 'tasted': 468, 'unless': 469, 'book': 470, 'loud': 471, 'reasonable': 472, 'front': 473, 'later': 474, 'choice': 475, 'within': 476, 'fall': 477, 'earpiece': 478, 'signal': 479, 'software': 480, 'brilliant': 481, 'literally': 482, 'superb': 483, 'internet': 484, 'charm': 485, 'hit': 486, 'useless': 487, 'room': 488, 'authentic': 489, 'mistake': 490, '8': 491, 'nokia': 492, 'outside': 493, 'others': 494, 'mention': 495, 'might': 496, 'solid': 497, 'store': 498, 'touch': 499, 'joke': 500, 'course': 501, 'needed': 502, 'whatever': 503, 'management': 504, 'setting': 505, 'rest': 506, 'joy': 507, 'non': 508, 'hilarious': 509, 'budget': 510, 'single': 511, 'editing': 512, 'level': 513, 'flick': 514, 'written': 515, 'portrayal': 516, 'annoying': 517, 'business': 518, 'bring': 519, 'maybe': 520, 'possible': 521, 'beyond': 522, 'close': 523, 'john': 524, 'hole': 525, 'sick': 526, 'subtle': 527, 'seeing': 528, 'guy': 529, 'drive': 530, '90': 531, 'comedy': 532, 'served': 533, 'overpriced': 534, 'warm': 535, 'portion': 536, 'waiter': 537, 'attentive': 538, 'cooked': 539, 'town': 540, 'ambiance': 541, 'dinner': 542, 'blue': 543, 'direction': 544, 'instead': 545, 'large': 546, 'headphone': 547, 'particular': 548, 'party': 549, 'sometimes': 550, 'longer': 551, 'dont': 552, 'flaw': 553, 'number': 554, 'basically': 555, 'drop': 556, 'seemed': 557, 'offer': 558, 'option': 559, 'whether': 560, 'thin': 561, 'bother': 562, 'range': 563, 'living': 564, 'whatsoever': 565, 'adorable': 566, 'poorly': 567, 'clever': 568, 'lacking': 569, 'start': 570, 'exactly': 571, 'dead': 572, 'plastic': 573, 'note': 574, 'difficult': 575, 'result': 576, 'seem': 577, 'zero': 578, 'walked': 579, 'idea': 580, 'samsung': 581, 'beat': 582, 'extra': 583, 'connection': 584, 'happened': 585, 'despite': 586, 'etc': 587, 'elsewhere': 588, 'cut': 589, 'period': 590, 'rare': 591, 'wow': 592, 'ridiculous': 593, 'running': 594, 'head': 595, 'casting': 596, 'history': 597, 'lovely': 598, 'lady': 599, 'believable': 600, 'sat': 601, 'mouth': 602, 'terrific': 603, 'trip': 604, 'rent': 605, 'fish': 606, 'attempt': 607, 'hitchcock': 608, 'thriller': 609, 'actress': 610, 'considering': 611, 'memorable': 612, 'sweet': 613, 'become': 614, 'leave': 615, 'throughout': 616, 'looked': 617, 'delight': 618, 'damn': 619, 'pho': 620, 'taco': 621, 'shrimp': 622, 'pasta': 623, 'conversation': 624, 'razr': 625, 'clip': 626, 'website': 627, 'run': 628, 'charging': 629, 'owned': 630, '7': 631, 'mobile': 632, 'instruction': 633, 'provided': 634, 'pull': 635, 'moving': 636, 'sturdy': 637, 'complaint': 638, 'person': 639, 'bargain': 640, 'decision': 641, 'shipping': 642, 'rated': 643, 'impressive': 644, 'rock': 645, 'leather': 646, 'stuff': 647, 'forever': 648, 'tool': 649, 'graphic': 650, 'tip': 651, 'recently': 652, 'incredibly': 653, 'reasonably': 654, 'form': 655, 'issue': 656, 'embarrassing': 657, 'favorite': 658, 'cute': 659, 'buying': 660, 'cant': 661, 'belt': 662, 'data': 663, 'along': 664, 'help': 665, 'satisfied': 666, 'clarity': 667, 'wish': 668, 'size': 669, 'turned': 670, 'reading': 671, 'memory': 672, 'computer': 673, 'ability': 674, 'palm': 675, 'ended': 676, 'replace': 677, 'total': 678, 'please': 679, 'due': 680, 'stop': 681, 'trash': 682, 'wind': 683, 'rate': 684, 'video': 685, 'generally': 686, 'thumb': 687, 'dirty': 688, 'utterly': 689, 'ok': 690, 'flat': 691, 'audience': 692, 'empty': 693, 'main': 694, 'consider': 695, 'production': 696, 'deserves': 697, 'lame': 698, 'moment': 699, 'green': 700, 'tom': 701, 'often': 702, 'list': 703, 'theme': 704, 'imagination': 705, 'cult': 706, 'cartoon': 707, 'lead': 708, 'silent': 709, 'age': 710, 'usual': 711, 'pathetic': 712, 'lacked': 713, 'plain': 714, 'soundtrack': 715, 'spoiler': 716, 'water': 717, 'nut': 718, 'dry': 719, 'dog': 720, 'involved': 721, 'particularly': 722, 'insult': 723, 'roll': 724, 'documentary': 725, 'crowd': 726, 'recent': 727, 'par': 728, 'unbelievable': 729, 'rice': 730, 'sub': 731, '40': 732, 'sad': 733, 'asked': 734, 'beef': 735, 'seafood': 736, 'tasteless': 737, 'wine': 738, 'thai': 739, 'eaten': 740, 'bathroom': 741, 'seated': 742, 'bacon': 743, 'ice': 744, 'bread': 745, 'egg': 746, 'chef': 747, 'fried': 748, 'soup': 749, 'anytime': 750, 'mic': 751, 'contact': 752, 'sending': 753, 'advise': 754, 'pair': 755, 'pocket': 756, 'pc': 757, 'included': 758, 'worthless': 759, 'thats': 760, 'keyboard': 761, 'forget': 762, 'support': 763, 'angle': 764, 'clearly': 765, 'glass': 766, 'situation': 767, 'fairly': 768, 'trouble': 769, 'station': 770, 'purchased': 771, 'boy': 772, 'plan': 773, 'comfortably': 774, 'failed': 775, 'description': 776, 'previous': 777, 'share': 778, 'wasting': 779, 'network': 780, 'tone': 781, 'noise': 782, 'nearly': 783, 'anyway': 784, 'able': 785, 'lightweight': 786, 'hair': 787, 'market': 788, 'type': 789, 'aspect': 790, 'smell': 791, 'drain': 792, 'unreliable': 793, 'seller': 794, 'plantronics': 795, 'charged': 796, 'strip': 797, 'lg': 798, 'gotten': 799, 'immediately': 800, 'easier': 801, 'appealing': 802, 'called': 803, 'happier': 804, 'effective': 805, 'weird': 806, 'appearance': 807, 'warning': 808, 'q': 809, 'expensive': 810, 'bill': 811, 'im': 812, 'earlier': 813, 'missed': 814, 'cingular': 815, 'hated': 816, 'ringtones': 817, 'effort': 818, 'killer': 819, '50': 820, 'treo': 821, 'usb': 822, 'genuine': 823, 'red': 824, 'third': 825, 'ready': 826, 'chinese': 827, 'crisp': 828, 'power': 829, 'outlet': 830, 'passed': 831, 'sign': 832, 'somewhat': 833, 'son': 834, 'carry': 835, 'date': 836, 'addition': 837, '12': 838, 'disgusting': 839, 'five': 840, 'yes': 841, 'foot': 842, 'checked': 843, 'sister': 844, 'exceptional': 845, 'leaf': 846, 'wonderfully': 847, 'control': 848, 'christmas': 849, 'directed': 850, 'young': 851, 'meaning': 852, 'showed': 853, 'tale': 854, 'greatest': 855, 'gem': 856, 'true': 857, 'masterpiece': 858, 'massive': 859, 'pg': 860, 'complete': 861, 'ed': 862, 'convincing': 863, 'honestly': 864, 'follow': 865, 'energy': 866, 'dialog': 867, 'pretentious': 868, 'occasionally': 869, 'including': 870, 'paper': 871, 'episode': 872, 'chemistry': 873, 'fear': 874, 'depth': 875, 'bunch': 876, 'paid': 877, 'crazy': 878, 'storyline': 879, 'boyfriend': 880, 'gone': 881, 'emotion': 882, 'already': 883, 'torture': 884, 'pleasant': 885, 'premise': 886, 'ups': 887, 'ray': 888, 'charles': 889, 'daughter': 890, 'remember': 891, 'attention': 892, 'master': 893, 'visual': 894, 'mexican': 895, 'indeed': 896, 'thoroughly': 897, 'theater': 898, 'intelligence': 899, 'reviewer': 900, 'intelligent': 901, 'sense': 902, 'entertaining': 903, 'relationship': 904, 'bored': 905, 'writer': 906, 'towards': 907, 'drago': 908, 'enjoyable': 909, 'excuse': 910, 'god': 911, 'created': 912, 'scamp': 913, 'charming': 914, 'american': 915, 'death': 916, 'space': 917, 'conclusion': 918, 'ten': 919, 'final': 920, 'serious': 921, 'mickey': 922, 'james': 923, 'credit': 924, 'vibe': 925, 'dark': 926, 'honest': 927, 'known': 928, 'nasty': 929, 'thinking': 930, 'heard': 931, 'dance': 932, 'italian': 933, 'beginning': 934, 'belly': 935, 'appreciate': 936, 'puppet': 937, 'salmon': 938, 'bite': 939, 'visit': 940, 'establishment': 941, 'husband': 942, 'yummy': 943, 'pork': 944, 'cream': 945, 'bay': 946, 'phoenix': 947, 'wing': 948, 'live': 949, 'folk': 950, 'tea': 951, 'vegetable': 952, 'bean': 953, 'manager': 954, 'jawbone': 955, 'lasting': 956, 'dozen': 957, 'imagine': 958, 'needle': 959, 'static': 960, 'odd': 961, 'wonder': 962, 'fire': 963, 'mother': 964, 'combination': 965, 'speed': 966, 'min': 967, 'gon': 968, 'na': 969, 'returned': 970, 'protection': 971, 'machine': 972, 'gadget': 973, '15': 974, '510': 975, 'lock': 976, 'ipod': 977, 'quiet': 978, 'saying': 979, 'packaged': 980, '6': 981, 'construction': 982, 'load': 983, 'ease': 984, 'buyer': 985, 'beware': 986, 'supposedly': 987, 'match': 988, 'pro': 989, 'expectation': 990, 'display': 991, 'sex': 992, 'keypad': 993, 'setup': 994, 'bt': 995, 'earbud': 996, 'coverage': 997, 'tremendous': 998, 'experienced': 999, 'hoping': 1000, 'message': 1001, 'sharp': 1002, 'handsfree': 1003, '13': 1004, 'buck': 1005, 'replacement': 1006, 'ring': 1007, 'strange': 1008, 'dollar': 1009, 'sony': 1010, 'comfort': 1011, 'appears': 1012, 'scary': 1013, 'giving': 1014, 'scratched': 1015, 'wise': 1016, 'microphone': 1017, 'uncomfortable': 1018, 'plugged': 1019, 'driving': 1020, 'neither': 1021, 'flip': 1022, 'inexpensive': 1023, 'sitting': 1024, 'los': 1025, 'angeles': 1026, 'wireless': 1027, 'save': 1028, 'era': 1029, 'alone': 1030, 'key': 1031, 'fi': 1032, 'wearing': 1033, 'sunglass': 1034, 'returning': 1035, 'changing': 1036, 'worthwhile': 1037, 'pricing': 1038, 'regret': 1039, 'user': 1040, 'pitiful': 1041, 'cellphone': 1042, 'holster': 1043, 'function': 1044, 'amazed': 1045, 'thanks': 1046, 'edge': 1047, 'refund': 1048, 'properly': 1049, 'flawed': 1050, 'forced': 1051, 'speaker': 1052, 'constructed': 1053, 'holding': 1054, 'sprint': 1055, 'development': 1056, 'breaking': 1057, 'stopped': 1058, 'pack': 1059, 'apart': 1060, 'comment': 1061, 'surprised': 1062, 'fabulous': 1063, 'tinny': 1064, 'overly': 1065, 'placed': 1066, 'falling': 1067, 'tiny': 1068, 'four': 1069, 'spring': 1070, 'interested': 1071, 'continue': 1072, 'pairing': 1073, 'balance': 1074, 'explain': 1075, 'biggest': 1076, 'stand': 1077, 'occupied': 1078, 'ripped': 1079, 'mini': 1080, 'open': 1081, 'iphone': 1082, 'multiple': 1083, 'freedom': 1084, 'mark': 1085, '100': 1086, 'plenty': 1087, 'convenient': 1088, 'bottom': 1089, 'wooden': 1090, 'boot': 1091, 'sorry': 1092, 'double': 1093, 'sounded': 1094, 'everywhere': 1095, 'father': 1096, 'send': 1097, 'describe': 1098, 'letting': 1099, 'material': 1100, 'beep': 1101, 'managed': 1102, 'seat': 1103, 'otherwise': 1104, 'complain': 1105, 'lousy': 1106, 'painful': 1107, 'disappoint': 1108, 'speak': 1109, 'baby': 1110, 'delivers': 1111, 'sea': 1112, 'faux': 1113, 'significant': 1114, 'pure': 1115, 'brilliance': 1116, 'sequel': 1117, 'talented': 1118, 'fare': 1119, 'hill': 1120, 'grace': 1121, 'negative': 1122, 'cause': 1123, 'pointless': 1124, 'anne': 1125, 'parent': 1126, 'gross': 1127, 'provoking': 1128, 'paced': 1129, 'lion': 1130, 'acted': 1131, 'checking': 1132, 'touching': 1133, 'scenery': 1134, 'mature': 1135, 'remake': 1136, 'nobody': 1137, 'putting': 1138, 'tension': 1139, 'conflict': 1140, 'handled': 1141, 'hell': 1142, 'disaster': 1143, 'treat': 1144, 'yeah': 1145, 'girlfriend': 1146, 'stereotype': 1147, 'paul': 1148, 'woman': 1149, 'brain': 1150, 'redeeming': 1151, 'appalling': 1152, 'present': 1153, 'talent': 1154, 'screenwriter': 1155, 'step': 1156, 'industry': 1157, 'indulgent': 1158, 'spent': 1159, 'ball': 1160, 'singing': 1161, 'bore': 1162, '80': 1163, 'dancing': 1164, 'dvd': 1165, 'struck': 1166, 'contained': 1167, 'aerial': 1168, 'thrilled': 1169, 'deeply': 1170, 'interest': 1171, 'narrative': 1172, 'sequence': 1173, 'stunning': 1174, 'fx': 1175, 'surprisingly': 1176, 'released': 1177, 'rank': 1178, 'journey': 1179, 'summary': 1180, 'billy': 1181, 'possibly': 1182, 'trilogy': 1183, 'favourite': 1184, 'judge': 1185, 'wrap': 1186, 'female': 1187, 'smart': 1188, 'twist': 1189, 'bakery': 1190, 'stage': 1191, 'laugh': 1192, 'modern': 1193, 'scared': 1194, 'supposed': 1195, 'learn': 1196, 'photography': 1197, 'member': 1198, 'huston': 1199, 'steve': 1200, 'ruthless': 1201, 'stick': 1202, 'war': 1203, 'example': 1204, 'building': 1205, 'angel': 1206, 'clich': 1207, 'thrown': 1208, 'box': 1209, 'professional': 1210, 'scale': 1211, 'glance': 1212, 'score': 1213, 'frightening': 1214, 'oscar': 1215, 'knew': 1216, 'relation': 1217, 'stanwyck': 1218, 'fat': 1219, 'killing': 1220, 'footage': 1221, 'opened': 1222, 'sort': 1223, 'behind': 1224, 'race': 1225, 'happen': 1226, 'change': 1227, 'unconvincing': 1228, 'produced': 1229, 'early': 1230, 'martin': 1231, 'racial': 1232, 'imaginative': 1233, 'watchable': 1234, 'pace': 1235, 'lighting': 1236, 'past': 1237, 'nonsense': 1238, 'exquisite': 1239, 'guest': 1240, 'south': 1241, 'force': 1242, 'delightful': 1243, 'beautifully': 1244, 'wilkinson': 1245, 'male': 1246, 'laughable': 1247, 'begin': 1248, 'late': 1249, 'giallo': 1250, '70': 1251, 'event': 1252, 'highlight': 1253, 'spend': 1254, 'write': 1255, 'stink': 1256, 'stayed': 1257, 'dream': 1258, 'doubt': 1259, 'hip': 1260, 'miyazaki': 1261, 'realized': 1262, 'animation': 1263, 'added': 1264, 'texture': 1265, 'recommendation': 1266, 'brought': 1267, 'sashimi': 1268, 'moist': 1269, 'frozen': 1270, 'greek': 1271, 'dressing': 1272, 'pita': 1273, 'hummus': 1274, 'duck': 1275, 'appetizer': 1276, 'salt': 1277, 'chewy': 1278, 'cafe': 1279, 'bartender': 1280, 'ambience': 1281, 'lover': 1282, 'busy': 1283, 'delish': 1284, 'melt': 1285, 'cheese': 1286, 'subway': 1287, 'ate': 1288, 'stale': 1289, 'treated': 1290, 'vegetarian': 1291, 'healthy': 1292, 'decor': 1293, 'butter': 1294, 'gyro': 1295, 'insulted': 1296, 'brunch': 1297, 'soggy': 1298, 'lobster': 1299, 'flavorful': 1300, 'generous': 1301, 'patio': 1302, 'outstanding': 1303, 'pulled': 1304, 'mom': 1305, 'equally': 1306, 'pancake': 1307, 'door': 1308, 'stomach': 1309, 'regular': 1310, 'biscuit': 1311, 'group': 1312, '35': 1313, 'homemade': 1314, 'edible': 1315, 'seating': 1316, 'salsa': 1317, '45': 1318, 'major': 1319, 'extended': 1320, 'notice': 1321, 'tooth': 1322, 'commercial': 1323, 'earphone': 1324, 'unusable': 1325, 'contract': 1326, 'juice': 1327, 'regarding': 1328, 'pda': 1329, 'neat': 1330, 'e': 1331, 'essentially': 1332, 'microsoft': 1333, 'tech': 1334, 'elegant': 1335, 'mp3': 1336, 'skip': 1337, 'died': 1338, 'docking': 1339, 'd807': 1340, 'advertised': 1341, 'handy': 1342, 'cheaper': 1343, 'seamlessly': 1344, 'apparently': 1345, 'relatively': 1346, 'resolution': 1347, 'slim': 1348, 'toast': 1349, 'sleek': 1350, 'compromise': 1351, 'basic': 1352, 'unhappy': 1353, 'winner': 1354, 'realize': 1355, 'careful': 1356, 'logitech': 1357, 'recognition': 1358, 'stated': 1359, 'blackberry': 1360, 'technology': 1361, 'wired': 1362, 'faster': 1363, 'build': 1364, 'w810i': 1365, 'whine': 1366, 'communication': 1367, 'maintain': 1368, 'thank': 1369, 'igo': 1370, 'connected': 1371, 'latest': 1372, 'storage': 1373, 'buzzing': 1374, 'override': 1375, 'functionality': 1376, 'dropping': 1377, 'weight': 1378, 'hardly': 1379, 'consumer': 1380, 'background': 1381, 'usually': 1382, 'excited': 1383, 'additional': 1384, 'gel': 1385, 'purpose': 1386, 'glove': 1387, 'secure': 1388, 'gosh': 1389, 'attractive': 1390, 'rubber': 1391, 'unbearable': 1392, 'caused': 1393, 'flimsy': 1394, 'flawlessly': 1395, 'rotating': 1396, 'thru': 1397, 'cat': 1398, 'removing': 1399, 'compliment': 1400, 'state': 1401, 'allow': 1402, 'dialing': 1403, 'rip': 1404, 'recharge': 1405, 'practically': 1406, 'add': 1407, 'boost': 1408, 'vehicle': 1409, 'cradle': 1410, 'jerk': 1411, 'finished': 1412, 'ringing': 1413, 'auto': 1414, 'reverse': 1415, 'hurt': 1416, 'push': 1417, 'skype': 1418, 'exterior': 1419, 'shipped': 1420, 'promptly': 1421, 'prompt': 1422, 'noticed': 1423, 'colored': 1424, 'cheaply': 1425, 'att': 1426, 'distorted': 1427, 'forgot': 1428, 'model': 1429, 'enter': 1430, 'modest': 1431, 'dying': 1432, 'built': 1433, 'install': 1434, 'purchasing': 1435, 'moto': 1436, 'figure': 1437, 'pad': 1438, 'fully': 1439, 'card': 1440, 'timely': 1441, 'update': 1442, 'procedure': 1443, 'cumbersome': 1444, 'delivery': 1445, 'switch': 1446, 'receiving': 1447, 'exchanged': 1448, 'described': 1449, '11': 1450, 'nyc': 1451, 'defective': 1452, 'unacceptable': 1453, 'catching': 1454, 'timeframe': 1455, 'source': 1456, 'standard': 1457, 'ugly': 1458, 'improvement': 1459, 'accidentally': 1460, 'listening': 1461, 'window': 1462, 'inch': 1463, 'kitchen': 1464, 'practical': 1465, 'ample': 1466, 'eargels': 1467, 'channel': 1468, 'numerous': 1469, 'frustration': 1470, 'understanding': 1471, 'wire': 1472, 'adapter': 1473, 'broken': 1474, 'operate': 1475, 'paired': 1476, 'finger': 1477, 'normally': 1478, 'brand': 1479, 'transfer': 1480, 'performed': 1481, 'echo': 1482, 'warranty': 1483, 'produce': 1484, 'luck': 1485, 'exchange': 1486, 'utter': 1487, 'loop': 1488, 'download': 1489, 'designed': 1490, 'smoothly': 1491, 'study': 1492, 'access': 1493, 'somehow': 1494, 'flash': 1495, 'prime': 1496, 'jack': 1497, 'accept': 1498, 'except': 1499, 'medium': 1500, 'allows': 1501, 'allowing': 1502, 'r': 1503, 'crashed': 1504, 'quit': 1505, 'bell': 1506, 'via': 1507, 'span': 1508, 'provides': 1509, 'classy': 1510, 'mainly': 1511, 'metro': 1512, 'smoke': 1513, 'highest': 1514, 'protector': 1515, 'wont': 1516, 'impossible': 1517, 'refused': 1518, 'discount': 1519, 'coupon': 1520, 'talking': 1521, 'telephone': 1522, 'ordering': 1523, 'awkward': 1524, 'row': 1525, 'current': 1526, 'answer': 1527, 'read': 1528, 'laptop': 1529, 'discomfort': 1530, 'normal': 1531, 'confusing': 1532, 'lose': 1533, 'cutout': 1534, 'wild': 1535, 'loose': 1536, 'receive': 1537, 'lightly': 1538, '2005': 1539, 'center': 1540, 'certain': 1541, 'unsatisfactory': 1542, 'hype': 1543, 'covered': 1544, 'blew': 1545, 'flop': 1546, 'became': 1547, 'jimmy': 1548, 'term': 1549, 'fill': 1550, 'imaginable': 1551, 'create': 1552, 'canada': 1553, 'unfunny': 1554, 'generic': 1555, 'morgan': 1556, 'jonah': 1557, 'lazy': 1558, 'presence': 1559, 'obvious': 1560, 'lesser': 1561, 'french': 1562, 'whiny': 1563, 'future': 1564, '9': 1565, 'warmth': 1566, 'worry': 1567, 'delivering': 1568, 'unpredictable': 1569, 'badly': 1570, 'g': 1571, 'alexander': 1572, 'artist': 1573, 'lived': 1574, 'maker': 1575, 'superbly': 1576, 'b': 1577, 'heaven': 1578, 'nun': 1579, 'church': 1580, 'tonight': 1581, 'uplifting': 1582, 'frankly': 1583, 'club': 1584, 'lane': 1585, 'chick': 1586, 'correct': 1587, 'bold': 1588, 'idiot': 1589, 'accused': 1590, 'afraid': 1591, 'villain': 1592, 'tremendously': 1593, 'sandra': 1594, 'bullock': 1595, 'losing': 1596, 'dramatic': 1597, 'central': 1598, 'core': 1599, 'following': 1600, 'viewing': 1601, 'quinn': 1602, 'theatre': 1603, 'disliked': 1604, 'mad': 1605, 'cardboard': 1606, 'predictably': 1607, 'crafted': 1608, 'handle': 1609, 'crayon': 1610, 'depressing': 1611, 'racism': 1612, 'join': 1613, 'charisma': 1614, 'explanation': 1615, 'stocking': 1616, 'drag': 1617, 'hero': 1618, 'wayne': 1619, 'older': 1620, 'noteworthy': 1621, 'blood': 1622, 'forth': 1623, 'jamie': 1624, 'genius': 1625, 'hence': 1626, 'mishima': 1627, 'uninteresting': 1628, 'chilly': 1629, 'culture': 1630, 'schrader': 1631, 'realistic': 1632, 'site': 1633, 'chance': 1634, 'sens': 1635, 'june': 1636, 'angry': 1637, 'sour': 1638, 'matter': 1639, 'noir': 1640, 'complex': 1641, 'psychological': 1642, 'soul': 1643, 'gripping': 1644, 'disturbing': 1645, 'jerky': 1646, 'camerawork': 1647, 'witty': 1648, 'cease': 1649, 'visually': 1650, 'remaining': 1651, 'suffering': 1652, 'smile': 1653, 'vomited': 1654, 'coppola': 1655, '25': 1656, 'unfolds': 1657, 'lie': 1658, 'contrast': 1659, 'sublime': 1660, 'offensive': 1661, 'poetry': 1662, 'masterful': 1663, 'nature': 1664, 'disbelief': 1665, 'array': 1666, 'dangerous': 1667, 'reaction': 1668, 'shed': 1669, 'tear': 1670, 'underneath': 1671, 'wide': 1672, 'assistant': 1673, 'de': 1674, 'bonus': 1675, 'taped': 1676, 'wholesome': 1677, 'portraying': 1678, 'taking': 1679, 'forgetting': 1680, 'shelf': 1681, 'bear': 1682, 'kinda': 1683, 'question': 1684, 'lucy': 1685, 'japanese': 1686, 'america': 1687, 'composition': 1688, 'brian': 1689, 'largely': 1690, 'identify': 1691, 'connery': 1692, 'robert': 1693, 'murdered': 1694, 'humour': 1695, 'brother': 1696, 'ryan': 1697, 'hollywood': 1698, 'thus': 1699, 'undoubtedly': 1700, 'popular': 1701, 'positive': 1702, 'unique': 1703, 'european': 1704, 'student': 1705, 'circumstance': 1706, 'caught': 1707, 'junkyard': 1708, 'pile': 1709, 'round': 1710, 'continuity': 1711, 'corn': 1712, 'directorial': 1713, 'proud': 1714, 'sand': 1715, 'sake': 1716, 'public': 1717, 'string': 1718, 'fox': 1719, 'unrecognizable': 1720, 'taylor': 1721, 'surprising': 1722, 'entirely': 1723, 'producer': 1724, 'chow': 1725, 'cheesy': 1726, 'la': 1727, 'proceeding': 1728, 'remotely': 1729, 'mercy': 1730, 'overacting': 1731, 'awkwardly': 1732, 'english': 1733, 'hackneyed': 1734, 'blah': 1735, 'balanced': 1736, 'length': 1737, 'air': 1738, 'afternoon': 1739, 'creates': 1740, 'fascinating': 1741, 'humorous': 1742, 'move': 1743, 'filmed': 1744, 'view': 1745, 'dislike': 1746, 'began': 1747, 'season': 1748, 'contains': 1749, '17': 1750, 'reality': 1751, '20th': 1752, 'century': 1753, 'implausible': 1754, 'jean': 1755, 'studio': 1756, 'indoor': 1757, 'middle': 1758, 'class': 1759, 'betty': 1760, 'aside': 1761, 'mouse': 1762, 'famous': 1763, 'ground': 1764, 'pleaser': 1765, 'turkey': 1766, 'among': 1767, 'terribly': 1768, 'award': 1769, 'deserving': 1770, 'shame': 1771, 'version': 1772, 'dumb': 1773, 'zombie': 1774, 'monster': 1775, 'notable': 1776, 'opening': 1777, 'gas': 1778, 'fair': 1779, 'teeth': 1780, 'sum': 1781, 'avoided': 1782, 'limited': 1783, 'asleep': 1784, 'deserved': 1785, 'element': 1786, 'sit': 1787, 'fifteen': 1788, 'volcano': 1789, 'abysmal': 1790, 'vomit': 1791, 'miss': 1792, 'dedication': 1793, 'versus': 1794, 'concern': 1795, 'brings': 1796, 'focus': 1797, 'underlying': 1798, 'engaging': 1799, 'errol': 1800, 'flynn': 1801, 'dull': 1802, 'surrounding': 1803, 'excellently': 1804, 'typical': 1805, 'sci': 1806, 'scare': 1807, 'revealing': 1808, 'africa': 1809, 'process': 1810, 'shakespear': 1811, 'macbeth': 1812, 'brief': 1813, 'moral': 1814, 'decay': 1815, 'evil': 1816, 'adaptation': 1817, 'costume': 1818, 'judging': 1819, 'difference': 1820, 'joe': 1821, 'watkins': 1822, 'peter': 1823, 'hollow': 1824, 'expert': 1825, 'as': 1826, 'cole': 1827, 'disgrace': 1828, 'sleep': 1829, 'achievement': 1830, 'tough': 1831, 'whenever': 1832, 'earth': 1833, 'emily': 1834, 'watson': 1835, 'prepared': 1836, 'pan': 1837, 'compelling': 1838, 'sentiment': 1839, 'trap': 1840, 'fulci': 1841, 'genre': 1842, 'personally': 1843, 'thick': 1844, 'blown': 1845, 'slightest': 1846, 'stranger': 1847, 'duet': 1848, 'astronaut': 1849, 'doctor': 1850, 'scream': 1851, 'extraordinary': 1852, 'courtroom': 1853, 'discovering': 1854, 'court': 1855, 'understated': 1856, 'based': 1857, 'phenomenal': 1858, 'opinion': 1859, 'subject': 1860, 'neil': 1861, 'surprise': 1862, 'sample': 1863, 'deliver': 1864, 'sharply': 1865, 'tongue': 1866, 'cheek': 1867, 'struggle': 1868, 'reminded': 1869, 'childhood': 1870, 'lord': 1871, 'atrocious': 1872, 'spoil': 1873, 'reference': 1874, 'act': 1875, 'pacing': 1876, 'consistent': 1877, 'f': 1878, 'us': 1879, 'hopefully': 1880, 'loneliness': 1881, 'emilio': 1882, 'estevez': 1883, 'interplay': 1884, 'suggest': 1885, 'natural': 1886, 'street': 1887, 'reader': 1888, 'closed': 1889, 'depicts': 1890, 'ponyo': 1891, 'refreshing': 1892, 'traditional': 1893, 'drawing': 1894, 'wave': 1895, 'deep': 1896, 'sunday': 1897, 'lange': 1898, 'crust': 1899, 'cashier': 1900, 'mmmm': 1901, 'cake': 1902, 'overwhelmed': 1903, 'combo': 1904, 'blow': 1905, 'familiar': 1906, 'favor': 1907, 'grossed': 1908, 'char': 1909, 'attitude': 1910, 'attack': 1911, 'grill': 1912, 'downtown': 1913, 'scallop': 1914, 'refill': 1915, 'cocktail': 1916, 'batter': 1917, 'finish': 1918, 'meh': 1919, 'seasoned': 1920, 'opportunity': 1921, 'underwhelming': 1922, 'grease': 1923, 'roast': 1924, 'sugary': 1925, 'six': 1926, 'die': 1927, 'bye': 1928, 'serf': 1929, 'roasted': 1930, 'garlic': 1931, 'marrow': 1932, 'mary': 1933, 'preparing': 1934, 'indian': 1935, 'crispy': 1936, 'tuna': 1937, 'bagel': 1938, 'dine': 1939, 'rarely': 1940, 'curry': 1941, 'decorated': 1942, 'greeted': 1943, 'joint': 1944, 'overcooked': 1945, 'charcoal': 1946, 'decided': 1947, 'dirt': 1948, 'valley': 1949, 'bowl': 1950, 'disrespected': 1951, 'stepped': 1952, 'mushroom': 1953, 'gold': 1954, 'puree': 1955, 'bug': 1956, 'shower': 1957, 'bisque': 1958, 'filet': 1959, 'pepper': 1960, 'cook': 1961, 'dealing': 1962, 'cheeseburger': 1963, 'yum': 1964, 'mayo': 1965, 'mood': 1966, 'creamy': 1967, 'similar': 1968, 'peanut': 1969, 'tap': 1970, 'coffee': 1971, 'boba': 1972, 'bachi': 1973, 'neighborhood': 1974, 'soooo': 1975, 'stir': 1976, 'summer': 1977, 'toasted': 1978, 'serve': 1979, 'omg': 1980, 'brick': 1981, 'oven': 1982, 'evening': 1983, 'lukewarm': 1984, 'eggplant': 1985, 'stuffed': 1986, 'mall': 1987, 'perfection': 1988, 'impeccable': 1989, 'pop': 1990, 'shop': 1991, 'assure': 1992, 'nicest': 1993, 'cow': 1994, 'driest': 1995, 'tot': 1996, 'acknowledged': 1997, 'margarita': 1998, 'flower': 1999, 'crab': 2000, 'leg': 2001, 'sliced': 2002, 'worker': 2003, 'filling': 2004, 'choose': 2005, 'entree': 2006, 'tapa': 2007, 'vinegrette': 2008, 'helped': 2009, 'presentation': 2010, 'satisfying': 2011, 'grilled': 2012, 'focused': 2013, 'promise': 2014, 'legit': 2015, 'staying': 2016, 'fail': 2017, 'plate': 2018, 'serving': 2019, 'fly': 2020, 'spice': 2021, 'mid': 2022, 'definately': 2023, 'flavorless': 2024, 'nacho': 2025, 'tribute': 2026, 'fell': 2027, 'employee': 2028, 'heat': 2029, 'undercooked': 2030, 'converter': 2031, 'tied': 2032, 'jiggle': 2033, 'hundred': 2034, 'seperated': 2035, 'mere': 2036, 'ft': 2037, 'excessive': 2038, 'garbled': 2039, 'fooled': 2040, 'click': 2041, 'mechanism': 2042, 'followed': 2043, 'kindle': 2044, 'misleading': 2045, 'couldnt': 2046, 'breakage': 2047, 'unacceptible': 2048, 'ideal': 2049, 'whose': 2050, 'sensitive': 2051, 'freeway': 2052, 'ac': 2053, 'highy': 2054, '680': 2055, '2mp': 2056, 'pic': 2057, 'arguing': 2058, 'bulky': 2059, 'usable': 2060, 'useful': 2061, 'stream': 2062, 'submerged': 2063, 'faceplate': 2064, 'drawback': 2065, 'pause': 2066, 'activated': 2067, 'suddenly': 2068, 'bmw': 2069, 'hearing': 2070, 'wrongly': 2071, 'everyday': 2072, 'intended': 2073, 'greater': 2074, 'bud': 2075, 'waaay': 2076, 'bluetooths': 2077, 'listener': 2078, 'integrated': 2079, 'flush': 2080, 'toilet': 2081, '375': 2082, 'correctly': 2083, '350': 2084, 'jabra350': 2085, 'megapixels': 2086, 'render': 2087, 'image': 2088, 'purcashed': 2089, 'geeky': 2090, 'ooze': 2091, 'embedded': 2092, 'stylish': 2093, 'qwerty': 2094, 'simpler': 2095, 'iam': 2096, 'disapoinment': 2097, 'accompanied': 2098, 'nicely': 2099, 'damage': 2100, 'definitly': 2101, 'majority': 2102, 'peachy': 2103, 'keen': 2104, 'upstairs': 2105, 'basement': 2106, 'reccomendation': 2107, 'relative': 2108, 'sudden': 2109, 'linking': 2110, '8530': 2111, 'curve': 2112, 'sketchy': 2113, 'web': 2114, 'browsing': 2115, 'significantly': 2116, 'unlike': 2117, 'communicate': 2118, 'monkey': 2119, 'dna': 2120, 'copy': 2121, 'bougth': 2122, 'l7c': 2123, 'mode': 2124, 'file': 2125, 'browser': 2126, 'hs850': 2127, 'o': 2128, 'v1': 2129, '15g': 2130, 'crawl': 2131, 'recognizes': 2132, 'bluetoooth': 2133, 'thorn': 2134, 'abhor': 2135, 'disconnected': 2136, 'mail': 2137, 'backlight': 2138, 'lately': 2139, 'wit': 2140, 'pleather': 2141, 'deaf': 2142, 'prettier': 2143, 'investment': 2144, 'ticking': 2145, 'electronics': 2146, 'available': 2147, 'fm': 2148, 'transmitter': 2149, 'h500': 2150, 'mega': 2151, 'pixel': 2152, 'good7': 2153, 'transmit': 2154, 'contacting': 2155, 'learned': 2156, 'lesson': 2157, 'online': 2158, 'earbugs': 2159, 'roam': 2160, 'crack': 2161, 'infatuated': 2162, 'freeze': 2163, 'frequently4': 2164, 'tick': 2165, 'headband': 2166, 'ericsson': 2167, 'shine': 2168, 'calendar': 2169, 'sync': 2170, 'defeat': 2171, 'penny': 2172, 'wallet': 2173, 'excrutiatingly': 2174, 'durable': 2175, 'factor': 2176, 'petroleum': 2177, 'stereo': 2178, 'absolutel': 2179, 'potentially': 2180, 'reversible': 2181, 'contstruct': 2182, 'hinge': 2183, 'installed': 2184, 'overnite': 2185, 'handset': 2186, 'attacked': 2187, 'protective': 2188, 'destroying': 2189, 'razor': 2190, 'v3i': 2191, 'shouldve': 2192, 'invented': 2193, 'sooner': 2194, 'engineered': 2195, 'complained': 2196, '2160': 2197, 'tracfone': 2198, 'manual': 2199, 'alarm': 2200, 'clock': 2201, 'antena': 2202, 'compared': 2203, 'usage': 2204, 'ngage': 2205, 'earbuds': 2206, 'riingtones': 2207, 'frequentyly': 2208, 'adhesive': 2209, 'concrete': 2210, 'knock': 2211, 'wood': 2212, 'transformed': 2213, 'organizational': 2214, 'capability': 2215, 'starter': 2216, 'loudspeaker': 2217, 'bumper': 2218, 'improve': 2219, 'leak': 2220, 'according': 2221, 'applifies': 2222, 'specially': 2223, 'transmission': 2224, 's11': 2225, 'drivng': 2226, 'tape': 2227, 'embarassing': 2228, 'protects': 2229, 'operates': 2230, 'soyo': 2231, 'portrait': 2232, 'mentioned': 2233, 'magical': 2234, 'comparably': 2235, 'offering': 2236, 'encourage': 2237, 'recieve': 2238, 'kit': 2239, 'excelent': 2240, 'cingulair': 2241, 'nicer': 2242, 'hoursthe': 2243, 'thereplacement': 2244, '2000': 2245, 'yell': 2246, 'iriver': 2247, 'spinn': 2248, 'fond': 2249, 'magnetic': 2250, 'strap': 2251, 'psyched': 2252, 'appointment': 2253, 'sanyo': 2254, 'survived': 2255, 'blacktop': 2256, 'ill': 2257, 'cellular': 2258, 'awsome': 2259, 'drained': 2260, 'earpad': 2261, 'displeased': 2262, 'defect': 2263, 'risk': 2264, 'restored': 2265, 'jx': 2266, 'searched': 2267, 'lit': 2268, 'portable': 2269, 'colleague': 2270, 'bed': 2271, 'wi': 2272, 'morning': 2273, 'hat': 2274, 'shipment': 2275, 'surefire': 2276, 'gx2': 2277, 'bt50': 2278, 'remorse': 2279, 'accessoryone': 2280, 'inexcusable': 2281, 'carrier': 2282, 'tmobile': 2283, 'motorolas': 2284, 'vx9900': 2285, 'env': 2286, 'rocketed': 2287, 'destination': 2288, 'unknown': 2289, 'condition': 2290, 'usefulness': 2291, 'overnight': 2292, 'respect': 2293, 'stuck': 2294, 'max': 2295, 'mute': 2296, 'hybrid': 2297, 'palmtop': 2298, 'excels': 2299, 'bt250v': 2300, 'bose': 2301, 'cancelling': 2302, 'commuter': 2303, 'photo': 2304, 'ad': 2305, 'noted': 2306, 'happens': 2307, 'frog': 2308, 'pushed': 2309, 'aluminum': 2310, 'vx': 2311, 'protected': 2312, 'handheld': 2313, 'sturdiness': 2314, 'waterproof': 2315, 'sliding': 2316, 'pant': 2317, 'shield': 2318, 'incrediable': 2319, 'refuse': 2320, 'activate': 2321, 'gentle': 2322, 'threw': 2323, 'counter': 2324, 'cracked': 2325, 'laughing': 2326, 'trunk': 2327, 'carried': 2328, 'hitch': 2329, 'directly': 2330, 'increase': 2331, 'shifting': 2332, 'bubbling': 2333, 'peeling': 2334, 'scratch': 2335, 'droid': 2336, 'exercise': 2337, 'earset': 2338, 'outgoing': 2339, 'package': 2340, 'patient': 2341, 'wirefly': 2342, 'inform': 2343, 'practice': 2344, 'aggravating': 2345, 'virgin': 2346, 'muddy': 2347, 'casing': 2348, 'insert': 2349, 'glued': 2350, 'slid': 2351, 'plantronincs': 2352, 'continues': 2353, 'disapointing': 2354, 'fourth': 2355, 'fix': 2356, 'accessing': 2357, 'downloading': 2358, 'performing': 2359, 'constantly': 2360, 'happening': 2361, 'wiping': 2362, 'strength': 2363, 'louder': 2364, 'navigate': 2365, 'recessed': 2366, 'avoiding': 2367, 'smoking': 2368, 'linked': 2369, 'possesed': 2370, 'research': 2371, 'division': 2372, 'infuriating': 2373, 'walkman': 2374, 'europe': 2375, 'asia': 2376, 'clipping': 2377, 'deffinitely': 2378, 'cent': 2379, 'behing': 2380, '5020': 2381, 'comfortible': 2382, '24': 2383, 'pain': 2384, 'arrival': 2385, 'fraction': 2386, 'crappy': 2387, 'e715': 2388, 'seeen': 2389, 'interface': 2390, 'decade': 2391, 'compete': 2392, '700w': 2393, 'transceiver': 2394, 'steer': 2395, 'replacementr': 2396, 'pen': 2397, 'buyit': 2398, 'steep': 2399, 'haul': 2400, 'dissapointing': 2401, 'originally': 2402, 'discarded': 2403, 'posted': 2404, 'detailed': 2405, 'grey': 2406, 'existing': 2407, 'cd': 2408, 'currently': 2409, 'shooter': 2410, 'delay': 2411, 'bitpim': 2412, 'program': 2413, 'accessory': 2414, 'manufacturer': 2415, 'muffled': 2416, 'incoming': 2417, 'severe': 2418, 'resistant': 2419, 'contacted': 2420, 'receipt': 2421, 'linksys': 2422, 'refurb': 2423, 'snug': 2424, 'heavy': 2425, 'promised': 2426, 'latch': 2427, 'visor': 2428, 'address': 2429, 'reboots': 2430, 'tungsten': 2431, 'e2': 2432, 'flipphones': 2433, 'sin': 2434, 'industrial': 2435, 'tracking': 2436, 'detachable': 2437, 'periodically': 2438, 'upload': 2439, 'randomly': 2440, 'locked': 2441, '325': 2442, 'worn': 2443, 'ringer': 2444, 'acceptable': 2445, 'upbeat': 2446, 'forgery': 2447, 'abound': 2448, 'ca': 2449, '42': 2450, 'smallest': 2451, 'superfast': 2452, 'ergonomic': 2453, 'theory': 2454, 'distracting': 2455, 'cbr': 2456, 'mp3s': 2457, 'preferably': 2458, 'so': 2459, 'connect': 2460, 'near': 2461, 'startac': 2462, 'regretted': 2463, 'outperform': 2464, 'china': 2465, 'v325i': 2466, 'sim': 2467, '3o': 2468, 'replaced': 2469, '18': 2470, 'connecting': 2471, 'imac': 2472, 'external': 2473, 'whistle': 2474, 'slide': 2475, 'grip': 2476, 'prevents': 2477, 'slipping': 2478, 'exclaim': 2479, 'whoa': 2480, 'corded': 2481, 'functional': 2482, 'soft': 2483, 'tight': 2484, 'shape': 2485, 'copier': 2486, 'sent': 2487, 'anywhere': 2488, 'sold': 2489, 'krussel': 2490, 'tracfonewebsite': 2491, 'toactivate': 2492, 'texas': 2493, 'dit': 2494, '5320': 2495, 'blueant': 2496, 'supertooth': 2497, 'sch': 2498, 'r450': 2499, 'slider': 2500, 'premium': 2501, 'capacity': 2502, 'confortable': 2503, 'ant': 2504, 'hey': 2505, 'pleasantly': 2506, 'suprised': 2507, 'dustpan': 2508, 'indoors': 2509, 'disposable': 2510, 'puff': 2511, 'ride': 2512, 'smoother': 2513, 'nano': 2514, 'dissapointed': 2515, 'reccommend': 2516, 'anti': 2517, 'glare': 2518, 'smartphone': 2519, 'atleast': 2520, 'amp': 2521, 'reoccure': 2522, 'somewhere': 2523, 'creak': 2524, 'floor': 2525, 'apartment': 2526, 'inconspicuous': 2527, 'slowly': 2528, 'upgrade': 2529, 'securly': 2530, 'possibility': 2531, 'booking': 2532, 'entertainment': 2533, 'activesync': 2534, 'optimal': 2535, 'synchronization': 2536, 'instance': 2537, 'ps3': 2538, 'cheapy': 2539, 'shouting': 2540, 'shiny': 2541, 'grtting': 2542, '44': 2543, 'v3c': 2544, 'exceeds': 2545, 'sight': 2546, 'improper': 2547, 'hoped': 2548, 'v265': 2549, 'intermittently': 2550, 'reaching': 2551, 'nightmare': 2552, 'speakerphone': 2553, 'cassette': 2554, 'planning': 2555, 'sensor': 2556, 'reliability': 2557, 'beeping': 2558, 'dieing': 2559, 'ir': 2560, 'cancellation': 2561, 'counterfeit': 2562, 'travled': 2563, 'swivel': 2564, 'dual': 2565, '8125': 2566, 'keeping': 2567, 'bottowm': 2568, 'gimmick': 2569, 'causing': 2570, 'trust': 2571, 'maintains': 2572, 'flawless': 2573, 'holder': 2574, 'land': 2575, 'owning': 2576, 'official': 2577, 'oem': 2578, 'loudest': 2579, 'competitor': 2580, 'saved': 2581, 'alot': 2582, 'unintelligible': 2583, 'restart': 2584, 'bend': 2585, 'metal': 2586, 'stress': 2587, 'leopard': 2588, 'print': 2589, 'saggy': 2590, 'floppy': 2591, 'loos': 2592, 'snap': 2593, '8525': 2594, 'fliptop': 2595, 'wobbly': 2596, 'eventually': 2597, 'fulfills': 2598, 'requirement': 2599, 'lap': 2600, 'accessable': 2601, 'mine': 2602, 'satisifed': 2603, 's710a': 2604, 'spec': 2605, 'armband': 2606, 'allot': 2607, 'clearer': 2608, 'reach': 2609, 'ericson': 2610, 'z500a': 2611, 'motor': 2612, 'voltage': 2613, 'humming': 2614, 'equipment': 2615, 'wake': 2616, 'styling': 2617, 'restocking': 2618, 'fee': 2619, 'darn': 2620, 'sweetest': 2621, 'securely': 2622, 'hook': 2623, 'canal': 2624, 'negatively': 2625, 'provide': 2626, 'assumed': 2627, 'lense': 2628, 'text': 2629, 'messaging': 2630, 'tricky': 2631, 'lasted': 2632, 'smudged': 2633, 'infra': 2634, 'port': 2635, 'irda': 2636, 'aimless': 2637, 'distressed': 2638, 'drifting': 2639, 'attempting': 2640, 'artiness': 2641, 'existent': 2642, 'gerardo': 2643, 'emptiness': 2644, 'science': 2645, 'teacher': 2646, 'owl': 2647, 'florida': 2648, 'muppets': 2649, 'overdue': 2650, 'screenplay': 2651, 'post': 2652, 'structure': 2653, 'tightly': 2654, 'vitally': 2655, 'occurs': 2656, 'content': 2657, 'superlative': 2658, 'require': 2659, 'puzzle': 2660, 'solving': 2661, 'punch': 2662, 'th': 2663, 'insane': 2664, 'unlockable': 2665, 'aye': 2666, 'doomed': 2667, 'conception': 2668, 'minor': 2669, 'confirm': 2670, 'exaggerating': 2671, 'trailer': 2672, 'carrell': 2673, 'co': 2674, 'freeman': 2675, 'helm': 2676, 'animal': 2677, 'integration': 2678, 'translate': 2679, 'succeeds': 2680, 'meagre': 2681, 'cancan': 2682, 'boast': 2683, 'cutest': 2684, 'leading': 2685, 'heel': 2686, 'insipid': 2687, 'heche': 2688, 'sam': 2689, 'shepard': 2690, 'gung': 2691, 'ho': 2692, 'marine': 2693, 'sobering': 2694, 'riveted': 2695, 'resounding': 2696, 'hank': 2697, 'fingernail': 2698, 'chalkboard': 2699, 'unnecessary': 2700, 'train': 2701, 'roller': 2702, 'coaster': 2703, 'grate': 2704, 'nerve': 2705, 'improved': 2706, 'improvisation': 2707, 'surroundings': 2708, 'crackle': 2709, 'youthful': 2710, 'concentrate': 2711, 'meander': 2712, 'builder': 2713, 'cross': 2714, 'cliche': 2715, 'predict': 2716, 'verbatim': 2717, 'chill': 2718, 'nevsky': 2719, 'whoever': 2720, 'planned': 2721, 'dodge': 2722, 'stratus': 2723, 'restrained': 2724, 'qu': 2725, 'bec': 2726, 'promote': 2727, 'suited': 2728, 'horrendous': 2729, 'retarded': 2730, 'manna': 2731, 'evaluate': 2732, 'veteran': 2733, 'nostalgia': 2734, 'ursula': 2735, 'burton': 2736, 'shirley': 2737, 'jones': 2738, 'rendition': 2739, 'cotton': 2740, 'unfaithful': 2741, 'gere': 2742, 'shallow': 2743, 'insincere': 2744, 'politically': 2745, 'savant': 2746, 'peaking': 2747, 'columbo': 2748, 'neighbour': 2749, 'misplace': 2750, 'weaker': 2751, 'debated': 2752, 'sack': 2753, 'trumpeter': 2754, 'falsely': 2755, 'murder': 2756, 'applause': 2757, 'prelude': 2758, 'michael': 2759, 'ironside': 2760, 'rocked': 2761, 'social': 2762, 'physical': 2763, 'ben': 2764, 'affleck': 2765, 'leaving': 2766, 'knocked': 2767, 'excruciatingly': 2768, 'wedding': 2769, 'agreed': 2770, 'aired': 2771, 'dribble': 2772, 'imdb': 2773, 'mirrormask': 2774, 'inexperience': 2775, 'meant': 2776, 'ineptly': 2777, 'stereotypically': 2778, 'schoolers': 2779, 'cry': 2780, 'relate': 2781, 'sharing': 2782, 'confuses': 2783, 'underwater': 2784, 'repeated': 2785, 'thousand': 2786, 'redeemed': 2787, 'mst3k': 2788, 'fodder': 2789, 'anthony': 2790, 'horse': 2791, 'walk': 2792, 'relief': 2793, 'pillow': 2794, 'ticket': 2795, 'identifies': 2796, 'haggis': 2797, 'stroke': 2798, 'storytelling': 2799, 'painted': 2800, 'crash': 2801, 'provokes': 2802, 'teach': 2803, 'prejudice': 2804, 'empowerment': 2805, 'shut': 2806, 'primal': 2807, 'impulse': 2808, 'preservation': 2809, 'shattered': 2810, 'recover': 2811, 'revenge': 2812, 'boogeyman': 2813, 'zombiez': 2814, 'hellish': 2815, 'trinity': 2816, 'distinction': 2817, 'artless': 2818, 'endlessly': 2819, 'ugliest': 2820, 'merit': 2821, 'akin': 2822, 'atrocity': 2823, 'voyage': 2824, 'discovery': 2825, 'unrecommended': 2826, 'm': 2827, 'garbo': 2828, 'bat': 2829, 'netflix': 2830, 'renowned': 2831, 'france': 2832, 'marion': 2833, 'suffered': 2834, 'shined': 2835, 'senior': 2836, 'showcasing': 2837, 'punched': 2838, 'gallon': 2839, 'spew': 2840, 'foxx': 2841, 'owns': 2842, 'spacek': 2843, 'coal': 2844, 'miner': 2845, 'quaid': 2846, 'legendary': 2847, 'biographical': 2848, 'musician': 2849, 'ironically': 2850, 'secondly': 2851, 'perfected': 2852, 'chase': 2853, 'pandering': 2854, 'sabotage': 2855, 'rumble': 2856, 'desperately': 2857, 'depending': 2858, 'logic': 2859, 'unremarkable': 2860, 'author': 2861, 'abstruse': 2862, 'reenactment': 2863, 'emotionally': 2864, 'adrift': 2865, 'stagy': 2866, 'sits': 2867, 'soldier': 2868, 'masculinity': 2869, 'pledge': 2870, 'hairsplitting': 2871, 'purity': 2872, 'admiration': 2873, 'sword': 2874, 'kill': 2875, 'momentum': 2876, 'quicker': 2877, 'resume': 2878, 'amateurish': 2879, 'fascinated': 2880, 'inconsistency': 2881, 'horrid': 2882, 'ballet': 2883, 'repertory': 2884, 'woa': 2885, 'sappiest': 2886, 'unwatchable': 2887, 'filmography': 2888, 'intention': 2889, 'undertone': 2890, 'fifty': 2891, 'existential': 2892, 'weariness': 2893, 'ought': 2894, 'regrettably': 2895, 'expression': 2896, 'celebration': 2897, 'patriotism': 2898, 'underline': 2899, 'allison': 2900, 'concert': 2901, 'ridiculousness': 2902, 'surface': 2903, 'conceptually': 2904, 'everybody': 2905, 'fantasy': 2906, 'considered': 2907, 'understood': 2908, 'identified': 2909, 'crime': 2910, 'belmondo': 2911, 'lino': 2912, 'ventura': 2913, 'detailing': 2914, 'loyalty': 2915, 'treachery': 2916, 'melville': 2917, 'manages': 2918, 'transcend': 2919, 'limitation': 2920, 'indie': 2921, 'continually': 2922, 'subverting': 2923, 'emerge': 2924, 'intense': 2925, 'crocdodile': 2926, 'believed': 2927, 'crocs': 2928, 'swamp': 2929, 'christopher': 2930, 'eccleston': 2931, 'tardis': 2932, 'continuation': 2933, 'succeeded': 2934, 'pi': 2935, 'witticism': 2936, 'bob': 2937, 'rise': 2938, 'finale': 2939, 'kieslowski': 2940, 'amaze': 2941, 'colour': 2942, 'flag': 2943, 'survivor': 2944, 'ferry': 2945, 'valentine': 2946, 'solidifying': 2947, 'happiness': 2948, 'dealt': 2949, 'roth': 2950, 'pearl': 2951, 'awarded': 2952, 'eloquently': 2953, 'francis': 2954, 'ford': 2955, 'gradually': 2956, 'develop': 2957, 'nicola': 2958, 'roeg': 2959, 'wih': 2960, 'translating': 2961, 'strives': 2962, 'greatness': 2963, 'muddled': 2964, 'disparate': 2965, 'accurately': 2966, 'defined': 2967, 'tolerate': 2968, 'political': 2969, 'incorrectness': 2970, 'artistic': 2971, 'suspension': 2972, 'slavic': 2973, 'outlandish': 2974, 'psychotic': 2975, 'lovable': 2976, 'enjoyment': 2977, 'repair': 2978, 'bitchy': 2979, 'bos': 2980, 'malta': 2981, 'barren': 2982, 'hockey': 2983, 'defensemen': 2984, 'goalie': 2985, 'diving': 2986, 'net': 2987, 'superficial': 2988, 'stagey': 2989, 'farce': 2990, 'pyromaniac': 2991, 'waylaid': 2992, 'switched': 2993, 'yawn': 2994, 'educational': 2995, 'barney': 2996, 'duper': 2997, 'babie': 2998, 'bop': 2999, 'storm': 3000, 'trooper': 3001, 'potted': 3002, 'plant': 3003, 'shameful': 3004, 'television': 3005, 'smack': 3006, 'latched': 3007, 'endearing': 3008, 'sibling': 3009, 'bond': 3010, 'unneeded': 3011, 'controversy': 3012, 'damian': 3013, 'versatile': 3014, 'cutting': 3015, 'passion': 3016, 'ireland': 3017, 'horrified': 3018, 'sympathetic': 3019, 'movement': 3020, 'elia': 3021, 'koteas': 3022, 'palance': 3023, 'angelina': 3024, 'naked': 3025, 'cameo': 3026, 'sven': 3027, 'ole': 3028, 'thorsen': 3029, 'ebay': 3030, 'poler': 3031, 'fort': 3032, 'steele': 3033, 'unrealistic': 3034, '70000': 3035, 'higher': 3036, 'sink': 3037, 'slacker': 3038, 'excerpt': 3039, 'stylized': 3040, 'exemplar': 3041, 'designer': 3042, 'powerful': 3043, 'exploration': 3044, 'politics': 3045, 'rendering': 3046, 'imperial': 3047, 'faultless': 3048, 'underappreciated': 3049, 'keith': 3050, 'bully': 3051, 'teddy': 3052, 'vivid': 3053, 'sean': 3054, 'noble': 3055, 'brigand': 3056, 'candace': 3057, 'bergen': 3058, 'feisty': 3059, 'heroine': 3060, 'wily': 3061, 'hay': 3062, 'kanaly': 3063, 'spiffy': 3064, 'radiant': 3065, 'lieutenant': 3066, 'roosevelt': 3067, 'adventure': 3068, 'ryans': 3069, 'portrayed': 3070, 'schizophrenic': 3071, 'affected': 3072, 'apt': 3073, 'imitation': 3074, 'individual': 3075, 'fashioned': 3076, 'tuneful': 3077, 'rita': 3078, 'hayworth': 3079, 'pedestal': 3080, 'exploit': 3081, 'financial': 3082, 'gain': 3083, 'linear': 3084, 'narration': 3085, 'flashback': 3086, 'articulated': 3087, 'monica': 3088, 'bellucci': 3089, 'commentary': 3090, 'timer': 3091, 'northern': 3092, 'community': 3093, 'represents': 3094, 'vivian': 3095, 'schilling': 3096, '95': 3097, 'screamy': 3098, 'masculine': 3099, 'casted': 3100, 'throwback': 3101, '1980': 3102, 'abroad': 3103, 'interacting': 3104, 'nationality': 3105, 'slightly': 3106, 'ticker': 3107, 'hummh': 3108, 'yelp': 3109, 'he': 3110, 'funniest': 3111, 'curtain': 3112, 'ive': 3113, 'edition': 3114, 'lid': 3115, 'romantic': 3116, 'laughed': 3117, 'chosen': 3118, 'tortured': 3119, 'blatant': 3120, 'propaganda': 3121, 'hatred': 3122, 'admitted': 3123, 'school': 3124, 'admins': 3125, 'thunderbird': 3126, 'motion': 3127, 'needlessly': 3128, 'repeat': 3129, 'backed': 3130, 'flake': 3131, 'bordered': 3132, 'stupidity': 3133, 'filmmaker': 3134, 'hide': 3135, 'monumental': 3136, 'halfway': 3137, 'embarrassed': 3138, 'howell': 3139, 'bag': 3140, 'stephen': 3141, 'mchattie': 3142, 'lance': 3143, 'hendrikson': 3144, 'raging': 3145, 'cheekbone': 3146, 'debbie': 3147, 'rochon': 3148, 'contributory': 3149, 'former': 3150, 'chimp': 3151, 'tolerable': 3152, 'oy': 3153, 'vey': 3154, 'simplifying': 3155, 'brevity': 3156, 'fulfilling': 3157, 'amusing': 3158, 'convoluted': 3159, 'convince': 3160, 'questioning': 3161, 'bela': 3162, 'lugosi': 3163, 'extraneous': 3164, 'intoning': 3165, 'decidely': 3166, 'universal': 3167, 'armand': 3168, 'assante': 3169, 'tying': 3170, 'comprehensible': 3171, 'hang': 3172, 'camp': 3173, 'expecting': 3174, 'iq': 3175, 'mollusk': 3176, 'loosely': 3177, 'lower': 3178, 'victor': 3179, 'mclaglen': 3180, 'donlevy': 3181, 'president': 3182, 'unmoving': 3183, 'gifted': 3184, 'cheerless': 3185, 'heist': 3186, 'characterisation': 3187, 'underbite': 3188, 'stoic': 3189, 'emoting': 3190, 'yun': 3191, 'tomorrow': 3192, 'abandoned': 3193, 'factory': 3194, 'executed': 3195, 'flying': 3196, 'judo': 3197, 'woo': 3198, 'squib': 3199, 'derivative': 3200, 'hopeless': 3201, 'uneasy': 3202, 'composed': 3203, 'elderly': 3204, 'babbling': 3205, 'overwrought': 3206, 'pseudo': 3207, 'satanic': 3208, 'gibberish': 3209, 'corny': 3210, 'teen': 3211, 'goth': 3212, 'blush': 3213, 'olde': 3214, 'latin': 3215, 'sloppy': 3216, 'underacting': 3217, 'competent': 3218, 'jerry': 3219, 'falwell': 3220, 'starring': 3221, 'jaclyn': 3222, 'smith': 3223, 'lifetime': 3224, 'sell': 3225, 'assaulted': 3226, 'strident': 3227, 'cord': 3228, 'blare': 3229, 'pap': 3230, 'screened': 3231, 'punish': 3232, 'unemployed': 3233, 'understatement': 3234, 'universe': 3235, 'team': 3236, 'trond': 3237, 'fausa': 3238, 'aurv': 3239, 'bothersome': 3240, '2006': 3241, 'initially': 3242, 'local': 3243, 'buffalo': 3244, 'intrigued': 3245, 'applauded': 3246, 'lilt': 3247, 'duris': 3248, 'barcelona': 3249, 'famed': 3250, 'gaudi': 3251, 'tower': 3252, 'despised': 3253, 'rough': 3254, 'draft': 3255, 'shooting': 3256, 'completed': 3257, 'personality': 3258, 'occur': 3259, 'irritating': 3260, 'indescribably': 3261, 'idiotic': 3262, 'cheesiness': 3263, 'unethical': 3264, 'nc': 3265, 'zillion': 3266, 'washing': 3267, 'twirling': 3268, 'grade': 3269, 'z': 3270, 'road': 3271, '1948': 3272, 'silly': 3273, 'unmitigated': 3274, 'blandly': 3275, 'edward': 3276, 'chodorov': 3277, 'negulesco': 3278, 'widmark': 3279, 'unintentionally': 3280, 'comical': 3281, 'marble': 3282, 'marred': 3283, 'constant': 3284, 'prompted': 3285, 'aged': 3286, 'upper': 3287, 'uptight': 3288, 'offend': 3289, 'littered': 3290, 'overt': 3291, 'slur': 3292, 'depicted': 3293, 'moron': 3294, 'boob': 3295, 'destroy': 3296, 'latifa': 3297, 'wouldnt': 3298, 'steamboat': 3299, 'willie': 3300, 'amazingly': 3301, 'plane': 3302, 'ton': 3303, 'granted': 3304, '1928': 3305, 'timeless': 3306, 'straw': 3307, 'cruel': 3308, 'bipolarity': 3309, 'thug': 3310, 'luv': 3311, 'diaper': 3312, 'accolade': 3313, 'body': 3314, '1947': 3315, 'garfield': 3316, 'ann': 3317, 'revere': 3318, 'lilli': 3319, 'plmer': 3320, 'william': 3321, 'conrad': 3322, 'lee': 3323, 'cinematographer': 3324, 'wong': 3325, 'howe': 3326, 'thomerson': 3327, '1986': 3328, 'professor': 3329, 'established': 3330, 'necklace': 3331, 'containing': 3332, 'meteorite': 3333, 'matthew': 3334, 'wrote': 3335, '1995': 3336, 'grim': 3337, 'gore': 3338, 'convention': 3339, 'cg': 3340, 'slideshow': 3341, 'explosion': 3342, 'tank': 3343, 'okay': 3344, 'critic': 3345, 'creature': 3346, 'ta': 3347, 'slimy': 3348, 'drooling': 3349, 'breeder': 3350, 'ebola': 3351, 'virus': 3352, 'comedic': 3353, 'timing': 3354, 'debit': 3355, 'popcorn': 3356, 'border': 3357, 'lewis': 3358, 'considerable': 3359, 'incendiary': 3360, 'unrestrained': 3361, 'sole': 3362, 'bright': 3363, 'superbad': 3364, 'interim': 3365, 'originality': 3366, 'freshness': 3367, 'evidently': 3368, 'reflected': 3369, 'borrowed': 3370, 'filmiing': 3371, 'expansive': 3372, 'convey': 3373, 'broad': 3374, 'sweep': 3375, 'landscape': 3376, 'trashy': 3377, 'precisely': 3378, 'proudly': 3379, 'classical': 3380, 'wb': 3381, 'toon': 3382, 'delivered': 3383, 'underrated': 3384, 'murky': 3385, 'related': 3386, 'sitcom': 3387, 'oriented': 3388, 'teenager': 3389, 'peculiarity': 3390, 'excessively': 3391, 'phony': 3392, 'contrived': 3393, 'um': 3394, 'perabo': 3395, 'foolish': 3396, 'accent': 3397, 'hypocrisy': 3398, 'rubbish': 3399, 'researched': 3400, 'pitch': 3401, 'omit': 3402, 'instant': 3403, 'catchy': 3404, 'simmering': 3405, 'boiling': 3406, 'wart': 3407, 'poet': 3408, 'bohemian': 3409, 'wartime': 3410, 'bombardment': 3411, 'london': 3412, 'outward': 3413, 'tranquillity': 3414, 'welsh': 3415, 'coastal': 3416, 'retreat': 3417, 'borderline': 3418, 'friendship': 3419, 'lust': 3420, 'jealousy': 3421, 'rivalry': 3422, 'cowardice': 3423, 'egotism': 3424, 'heroism': 3425, 'sacrifice': 3426, 'suggests': 3427, 'inappropriate': 3428, 'smiling': 3429, 'keira': 3430, 'knightley': 3431, 'prone': 3432, 'inventive': 3433, 'pointillistic': 3434, 'behold': 3435, 'continuously': 3436, 'bertolucci': 3437, 'sidelined': 3438, 'inexplicable': 3439, 'crew': 3440, 'regardless': 3441, 'custer': 3442, 'alongside': 3443, 'olivia': 3444, 'havilland': 3445, 'dad': 3446, 'grew': 3447, 'realised': 3448, 'jim': 3449, 'connor': 3450, 'energetic': 3451, 'george': 3452, 'hosting': 3453, 'over': 3454, 'monotonous': 3455, 'shenanigan': 3456, 'spy': 3457, 'kidnapped': 3458, 'foreign': 3459, 'random': 3460, 'taxidermist': 3461, 'stewart': 3462, 'climax': 3463, 'embassy': 3464, 'brooding': 3465, 'menace': 3466, 'nevertheless': 3467, 'stable': 3468, 'scot': 3469, 'vandiver': 3470, 'nonetheless': 3471, 'campy': 3472, 'bendingly': 3473, 'medical': 3474, 'terminology': 3475, 'iffy': 3476, 'insulin': 3477, 'dependant': 3478, 'diabetic': 3479, 'complexity': 3480, 'task': 3481, 'challenge': 3482, 'facing': 3483, 'attempted': 3484, 'truth': 3485, 'reconciliation': 3486, 'magnificent': 3487, 'woven': 3488, 'splendid': 3489, 'subtitle': 3490, 'aversion': 3491, 'therapy': 3492, 'jason': 3493, 'moved': 3494, 'monolog': 3495, 'candle': 3496, 'sphere': 3497, 'helen': 3498, 'baxendale': 3499, 'credible': 3500, 'cheerfull': 3501, 'naughty': 3502, 'deadly': 3503, 'shakespears': 3504, 'lyric': 3505, 'dr': 3506, 'seuss': 3507, 'brilliantly': 3508, 'animated': 3509, 'upa': 3510, 'finest': 3511, 'academy': 3512, 'integral': 3513, 'helping': 3514, 'bailey': 3515, 'eiko': 3516, 'ishioka': 3517, 'dracula': 3518, '1971': 3519, 'format': 3520, 'baaaaaad': 3521, 'collect': 3522, 'extant': 3523, 'austen': 3524, 'consolation': 3525, 'speaking': 3526, 'unbearably': 3527, 'kitchy': 3528, 'raw': 3529, 'sublimely': 3530, 'theatrical': 3531, 'terror': 3532, 'escalating': 3533, 'monstrous': 3534, 'consequence': 3535, 'mesmerising': 3536, 'fumbling': 3537, 'hanky': 3538, 'alike': 3539, 'julian': 3540, 'fellowes': 3541, 'triumphed': 3542, 'national': 3543, 'treasure': 3544, 'phrase': 3545, 'owed': 3546, 'kris': 3547, 'kristoffersen': 3548, 'marriage': 3549, 'error': 3550, 'commented': 3551, 'garage': 3552, 'facial': 3553, 'configuration': 3554, 'inspiration': 3555, 'overcome': 3556, 'rejection': 3557, 'punishment': 3558, 'park': 3559, 'southern': 3560, 'california': 3561, 'desert': 3562, 'patent': 3563, 'accessible': 3564, 'miserable': 3565, 'angela': 3566, 'bennett': 3567, 'pretext': 3568, 'repeating': 3569, 'robotic': 3570, 'delete': 3571, 'uncalled': 3572, 'geek': 3573, 'bible': 3574, 'thumper': 3575, 'pulling': 3576, 'equivalent': 3577, 'dickens': 3578, 'carol': 3579, 'sensibility': 3580, 'success': 3581, 'depends': 3582, 'sydney': 3583, 'greenstreet': 3584, 'yardley': 3585, 'pleasing': 3586, 'rpg': 3587, 'respecting': 3588, 'rpger': 3589, 'youtube': 3590, 'lassie': 3591, 'painfully': 3592, 'dreary': 3593, 'waster': 3594, 'becomes': 3595, 'forgettable': 3596, 'shell': 3597, 'barking': 3598, 'relaxing': 3599, 'title': 3600, 'dignity': 3601, 'shocking': 3602, 'memorized': 3603, 'fishnet': 3604, 'astonishingly': 3605, 'ham': 3606, 'fisted': 3607, 'iron': 3608, 'unconditional': 3609, 'ordeal': 3610, 'progress': 3611, 'anguish': 3612, 'interview': 3613, 'vampire': 3614, 'lestat': 3615, 'stuart': 3616, 'townsend': 3617, 'cruise': 3618, 'aailiyah': 3619, 'akasha': 3620, 'entrance': 3621, 'sensitivity': 3622, 'treatment': 3623, 'detail': 3624, 'dysfunction': 3625, 'football': 3626, 'perplexing': 3627, 'skilled': 3628, 'meredith': 3629, 'worthy': 3630, 'syrupy': 3631, 'nine': 3632, 'goremeister': 3633, 'lucio': 3634, 'standout': 3635, 'unpleasant': 3636, 'technically': 3637, 'riz': 3638, 'ortolani': 3639, 'recurring': 3640, 'unaccompanied': 3641, 'vocal': 3642, 'distant': 3643, 'dustin': 3644, 'hoffman': 3645, 'involving': 3646, 'tired': 3647, 'p': 3648, 'jennifer': 3649, 'rubin': 3650, 'harris': 3651, 'nervous': 3652, 'starlet': 3653, 'coach': 3654, 'snow': 3655, 'ultra': 3656, 'exciting': 3657, 'uniqueness': 3658, 'foreigner': 3659, '1973': 3660, 'considers': 3661, 'ussr': 3662, 'indictment': 3663, 'justice': 3664, 'system': 3665, 'fundamental': 3666, 'legal': 3667, 'guilt': 3668, 'innocence': 3669, 'routine': 3670, 'constantine': 3671, 'intensity': 3672, 'motivation': 3673, 'inspiring': 3674, 'stinker': 3675, 'direct': 3676, 'release': 3677, 'trek': 3678, 'v': 3679, 'frontier': 3680, 'includes': 3681, 'shatner': 3682, 'nimoy': 3683, 'washed': 3684, 'tacky': 3685, 'spock': 3686, 'rescue': 3687, 'kirk': 3688, 'jet': 3689, 'mountain': 3690, 'humor': 3691, 'dosen': 3692, 'involves': 3693, 'vulcan': 3694, 'stealing': 3695, 'enterprise': 3696, 'uhura': 3697, 'distract': 3698, 'guard': 3699, 'jay': 3700, 'adam': 3701, 'unfortunate': 3702, 'evokes': 3703, 'grainy': 3704, 'enhanced': 3705, 'achille': 3706, 'philippa': 3707, 'sing': 3708, 'giovanni': 3709, 'describes': 3710, 'layer': 3711, '18th': 3712, 'jutland': 3713, 'instrument': 3714, 'general': 3715, 'loewenhielm': 3716, 'partaking': 3717, 'cailles': 3718, 'en': 3719, 'sarcophage': 3720, 'savor': 3721, 'impression': 3722, 'generates': 3723, 'austere': 3724, 'backdrop': 3725, 'wanting': 3726, 'notch': 3727, 'fleshed': 3728, 'grime': 3729, 'blake': 3730, 'scripted': 3731, 'deadpan': 3732, 'angus': 3733, 'scrimm': 3734, 'gently': 3735, 'menacing': 3736, 'violin': 3737, 'anatomist': 3738, 'entertained': 3739, 'phantasm': 3740, '1949': 3741, 'collective': 3742, 'concerning': 3743, 'kudos': 3744, 'juano': 3745, 'hernandez': 3746, 'supporting': 3747, 'murdering': 3748, 'trumbull': 3749, 'evinced': 3750, 'faithful': 3751, 'joyce': 3752, 'acclaimed': 3753, 'novella': 3754, 'gabriel': 3755, 'intangible': 3756, 'leap': 3757, 'viewer': 3758, 'grasp': 3759, 'wondered': 3760, 'shortlist': 3761, 'emperor': 3762, 'surely': 3763, 'coherent': 3764, 'obliged': 3765, 'creative': 3766, 'subplots': 3767, 'native': 3768, 'brainsucking': 3769, 'telly': 3770, 'savalas': 3771, 'boyle': 3772, '54': 3773, 'sheer': 3774, 'tedium': 3775, 'melodrama': 3776, 'sinking': 3777, 'establish': 3778, 'follows': 3779, 'band': 3780, 'latter': 3781, 'mansonites': 3782, 'reporter': 3783, 'anniversary': 3784, 'indication': 3785, 'meld': 3786, 'volatile': 3787, 'temperament': 3788, 'seamless': 3789, 'union': 3790, 'creativity': 3791, 'powerhouse': 3792, 'fascination': 3793, 'celebrity': 3794, 'interpretation': 3795, 'fame': 3796, 'forgotten': 3797, 'kevin': 3798, 'spacey': 3799, 'verbal': 3800, 'tsunami': 3801, 'buddy': 3802, 'ackerman': 3803, 'scripting': 3804, 'unmatched': 3805, 'younger': 3806, 'galley': 3807, 'pm': 3808, '8pm': 3809, '15pm': 3810, 'forwarded': 3811, 'horrendously': 3812, 'captain': 3813, 'howdy': 3814, 'semi': 3815, 'truck': 3816, 'linda': 3817, 'cardellini': 3818, 'poised': 3819, 'dee': 3820, 'snider': 3821, 'sophisticated': 3822, 'miserably': 3823, 'unoriginal': 3824, 'cinematic': 3825, 'captured': 3826, 'celluloid': 3827, 'supernatural': 3828, 'thread': 3829, 'leni': 3830, 'parker': 3831, 'anita': 3832, 'laselva': 3833, 'taelons': 3834, 'idealogical': 3835, 'explains': 3836, 'sinister': 3837, 'origin': 3838, 'x': 3839, 'insomniac': 3840, 'heartwarming': 3841, 'chasing': 3842, 'nurse': 3843, 'unpredictability': 3844, 'labute': 3845, 'brutal': 3846, 'violence': 3847, 'seperate': 3848, 'secondary': 3849, 'incomprehensible': 3850, 'primary': 3851, 'mystifying': 3852, 'warn': 3853, 'dumbest': 3854, 'hbo': 3855, 'cox': 3856, 'win': 3857, 'agree': 3858, 'jessica': 3859, 'dimensional': 3860, 'elaborately': 3861, 'aesthetically': 3862, 'sculpture': 3863, 'soap': 3864, 'opera': 3865, 'pray': 3866, 'charismatic': 3867, 'paolo': 3868, 'sorrentino': 3869, 'tony': 3870, 'unforgettable': 3871, 'titta': 3872, 'di': 3873, 'girolamo': 3874, 'vision': 3875, 'debut': 3876, 'charlie': 3877, 'kathy': 3878, 'bates': 3879, 'desperation': 3880, 'escapism': 3881, 'variation': 3882, 'field': 3883, 'condescends': 3884, 'paint': 3885, 'photograph': 3886, 'poignant': 3887, 'alert': 3888, 'decipher': 3889, 'matrix': 3890, 'mindblowing': 3891, 'rickman': 3892, 'stowe': 3893, 'hilt': 3894, 'childrens': 3895, 'subversive': 3896, 'tract': 3897, 'gloriously': 3898, 'accurate': 3899, 'raver': 3900, 'idyllic': 3901, 'down': 3902, 'groove': 3903, 'antithesis': 3904, 'traffic': 3905, 'crowe': 3906, 'picked': 3907, 'government': 3908, 'scientist': 3909, 'argued': 3910, 'humanity': 3911, 'dwight': 3912, 'schultz': 3913, 'sincere': 3914, 'critical': 3915, 'gorman': 3916, 'bechard': 3917, 'homework': 3918, 'appropriate': 3919, 'capture': 3920, 'essence': 3921, 'track': 3922, 'command': 3923, 'contributing': 3924, 'threshold': 3925, 'hayao': 3926, 'eighth': 3927, 'ghibili': 3928, 'gake': 3929, 'ue': 3930, 'cliff': 3931, 'dominated': 3932, 'disney': 3933, 'pixar': 3934, 'cgi': 3935, 'comforting': 3936, 'relying': 3937, 'drawn': 3938, 'enchanting': 3939, 'remarkable': 3940, 'pencil': 3941, 'colorful': 3942, 'fanciful': 3943, 'drift': 3944, 'surf': 3945, '1998': 3946, 'impact': 3947, 'armageddon': 3948, 'choked': 3949, 'vessel': 3950, 'taken': 3951, 'mighty': 3952, 'frost': 3953, 'fest': 3954, 'spoiled': 3955, 'brat': 3956, 'babysitting': 3957, 'march': 3958, 'judith': 3959, 'cutie': 3960, 'confidence': 3961, 'riot': 3962, 'hugo': 3963, 'weaving': 3964, 'obsessed': 3965, 'gay': 3966, 'estate': 3967, 'salesman': 3968, 'client': 3969, 'tryst': 3970, 'flaming': 3971, 'darren': 3972, 'hollander': 3973, 'flowed': 3974, 'bonding': 3975, 'hoot': 3976, 'n': 3977, 'jessice': 3978, 'clothes': 3979, 'virtue': 3980, 'regrettable': 3981, 'exceptionally': 3982, 'bank': 3983, 'holiday': 3984, 'rick': 3985, 'honeslty': 3986, 'ahead': 3987, 'warmer': 3988, 'wayyy': 3989, 'cape': 3990, 'cod': 3991, 'ravoli': 3992, 'cranberry': 3993, 'disgusted': 3994, 'shocked': 3995, 'indicate': 3996, 'cash': 3997, 'burrittos': 3998, 'interior': 3999, 'velvet': 4000, 'ohhh': 4001, 'luke': 4002, 'sever': 4003, '23': 4004, 'accident': 4005, 'grab': 4006, 'pub': 4007, 'hiro': 4008, 'melted': 4009, 'styrofoam': 4010, 'puck': 4011, 'disgust': 4012, 'register': 4013, 'rib': 4014, 'section': 4015, 'firehouse': 4016, 'pink': 4017, 'mein': 4018, 'lined': 4019, 'banana': 4020, 'petrified': 4021, 'receives': 4022, 'handmade': 4023, 'military': 4024, 'do': 4025, 'gringo': 4026, 'tasting': 4027, 'jeff': 4028, 'milkshake': 4029, 'chocolate': 4030, 'milk': 4031, 'excalibur': 4032, 'common': 4033, 'cheated': 4034, 'experiencing': 4035, 'smelled': 4036, 'raving': 4037, 'tailored': 4038, 'palate': 4039, 'ratio': 4040, 'unsatisfying': 4041, 'omelet': 4042, 'sexy': 4043, 'outrageously': 4044, 'flirting': 4045, 'hottest': 4046, 'casino': 4047, 'forward': 4048, 'bone': 4049, 'bloddy': 4050, 'mussel': 4051, 'reduction': 4052, 'tigerlilly': 4053, 'personable': 4054, 'sooooo': 4055, 'yama': 4056, '40min': 4057, 'arriving': 4058, 'actual': 4059, 'blandest': 4060, 'cuisine': 4061, 'loving': 4062, 'venture': 4063, 'host': 4064, 'bitch': 4065, 'liking': 4066, 'reviewing': 4067, 'venturing': 4068, 'penne': 4069, 'vodka': 4070, 'meatloaf': 4071, 'lox': 4072, 'caper': 4073, 'meet': 4074, 'weekend': 4075, 'suggestion': 4076, 'bamboo': 4077, 'shoot': 4078, 'blanket': 4079, 'moz': 4080, 'subpar': 4081, 'ignore': 4082, 'fianc': 4083, 'mandalay': 4084, 'forty': 4085, 'vain': 4086, 'crostini': 4087, 'nigiri': 4088, 'flavored': 4089, 'voodoo': 4090, 'gluten': 4091, 'leftover': 4092, 'relocated': 4093, 'diverse': 4094, 'hella': 4095, 'salty': 4096, 'spinach': 4097, 'avocado': 4098, 'ingredient': 4099, 'handed': 4100, 'listed': 4101, 'lordy': 4102, 'khao': 4103, 'soi': 4104, 'accommodation': 4105, 'inspired': 4106, 'desired': 4107, 'maintaining': 4108, 'coziness': 4109, 'weekly': 4110, 'haunt': 4111, 'asking': 4112, 'verge': 4113, 'dressed': 4114, 'rudely': 4115, 'quantity': 4116, 'lemon': 4117, 'raspberry': 4118, 'imagined': 4119, 'crepe': 4120, 'missing': 4121, 'joey': 4122, 'voted': 4123, 'magazine': 4124, 'friday': 4125, 'exceeding': 4126, 'dreamed': 4127, 'serivce': 4128, 'inviting': 4129, '1979': 4130, 'mixed': 4131, 'yukon': 4132, 'beateous': 4133, 'climbing': 4134, 'tartar': 4135, 'jamaican': 4136, 'mojitos': 4137, 'rich': 4138, 'accordingly': 4139, 'rinse': 4140, 'nude': 4141, 'bussell': 4142, 'sprout': 4143, 'risotto': 4144, 'bodes': 4145, 'wrapped': 4146, 'otto': 4147, 'welcome': 4148, 'uninspired': 4149, 'drunk': 4150, 'patty': 4151, 'uploaded': 4152, 'sporting': 4153, 'eel': 4154, 'hardest': 4155, 'rolled': 4156, 'providing': 4157, 'flavourful': 4158, 'freezing': 4159, 'ayce': 4160, 'gratitude': 4161, 'privileged': 4162, 'silently': 4163, 'godfather': 4164, 'recall': 4165, 'visited': 4166, 'proclaimed': 4167, 'wildly': 4168, 'veggitarian': 4169, 'platter': 4170, 'madison': 4171, 'ironman': 4172, 'dedicated': 4173, 'jenni': 4174, 'goat': 4175, 'skimp': 4176, 'mac': 4177, 'burned': 4178, 'saganaki': 4179, 'disagree': 4180, 'fellow': 4181, 'yelpers': 4182, 'noodle': 4183, 'count': 4184, 'greedy': 4185, 'corporation': 4186, 'dime': 4187, 'outdoor': 4188, 'muffin': 4189, 'untoasted': 4190, 'bus': 4191, 'figured': 4192, 'publicly': 4193, 'loudly': 4194, 'bbq': 4195, 'lighter': 4196, 'downside': 4197, 'shawarrrrrrma': 4198, 'eyed': 4199, 'pea': 4200, 'unreal': 4201, 'vinaigrette': 4202, '00': 4203, 'honor': 4204, 'hut': 4205, 'unbelievably': 4206, 'replenished': 4207, 'yucky': 4208, 'delicioso': 4209, 'spaghetti': 4210, 'tucson': 4211, 'chipotle': 4212, 'succulent': 4213, 'baseball': 4214, 'app': 4215, 'genuinely': 4216, 'enthusiastic': 4217, 'sadly': 4218, 'gordon': 4219, 'ramsey': 4220, 'shall': 4221, 'offered': 4222, 'handling': 4223, 'rowdy': 4224, 'despicable': 4225, 'craving': 4226, 'ache': 4227, 'elegantly': 4228, 'customize': 4229, 'outta': 4230, 'inconsiderate': 4231, 'hi': 4232, 'outshining': 4233, 'halibut': 4234, 'starving': 4235, 'def': 4236, 'ethic': 4237, 'andddd': 4238, 'located': 4239, 'crystal': 4240, 'shopping': 4241, 'aria': 4242, 'summarize': 4243, 'nay': 4244, 'transcendant': 4245, 'pneumatic': 4246, 'condiment': 4247, 'dispenser': 4248, 'ians': 4249, 'kiddos': 4250, 'bouchon': 4251, 'accountant': 4252, 'screwed': 4253, 'reminds': 4254, 'san': 4255, 'francisco': 4256, 'buldogis': 4257, 'gourmet': 4258, 'frustrated': 4259, 'petty': 4260, 'iced': 4261, 'hungry': 4262, 'sore': 4263, 'companion': 4264, 'smeared': 4265, 'tracked': 4266, 'bird': 4267, 'poop': 4268, 'furthermore': 4269, 'operation': 4270, 'connisseur': 4271, 'topic': 4272, 'strike': 4273, 'rushed': 4274, 'across': 4275, 'absolutley': 4276, '5lb': 4277, '4ths': 4278, 'gristle': 4279, 'steiner': 4280, 'pear': 4281, 'almond': 4282, 'spicier': 4283, 'prefer': 4284, 'ribeye': 4285, 'mesquite': 4286, 'gooodd': 4287, 'connoisseur': 4288, 'mouthful': 4289, 'relaxed': 4290, 'venue': 4291, 'nargile': 4292, 'tater': 4293, 'southwest': 4294, 'vanilla': 4295, 'smooth': 4296, 'profiterole': 4297, 'chou': 4298, 'pastry': 4299, 'az': 4300, 'carly': 4301, 'ventilation': 4302, 'upgrading': 4303, 'letdown': 4304, 'camelback': 4305, 'cartel': 4306, 'trimmed': 4307, 'claimed': 4308, 'jewel': 4309, 'boiled': 4310, 'toro': 4311, 'tartare': 4312, 'cavier': 4313, 'thinly': 4314, 'wagyu': 4315, 'truffle': 4316, 'attached': 4317, 'decide': 4318, 'humiliated': 4319, 'name': 4320, 'calling': 4321, 'daily': 4322, 'tragedy': 4323, 'crawfish': 4324, 'multi': 4325, 'grain': 4326, 'pumpkin': 4327, 'pecan': 4328, 'fluffy': 4329, 'airline': 4330, 'noca': 4331, 'lettuce': 4332, 'cheesecurds': 4333, 'beauty': 4334, 'greasy': 4335, 'unhealthy': 4336, 'similarly': 4337, 'apology': 4338, 'tiramisu': 4339, 'cannoli': 4340, 'sun': 4341, 'frenchman': 4342, 'martini': 4343, 'gc': 4344, 'thirty': 4345, 'vacant': 4346, 'yellowtail': 4347, 'carpaccio': 4348, 'hello': 4349, 'donut': 4350, 'saving': 4351, 'disgraceful': 4352, 'suffers': 4353, 'hankering': 4354, 'theft': 4355, 'eew': 4356, 'overhaul': 4357, 'witnessed': 4358, 'regularly': 4359, 'swung': 4360, 'efficient': 4361, 'sucker': 4362, 'olive': 4363, 'perpared': 4364, 'giant': 4365, 'slice': 4366, 'dusted': 4367, 'powdered': 4368, 'sugar': 4369, 'fo': 4370, 'accomodate': 4371, 'vegan': 4372, 'veggie': 4373, 'crumby': 4374, 'pale': 4375, 'crouton': 4376, 'crema': 4377, 'caf': 4378, 'expanded': 4379, 'philadelphia': 4380, 'north': 4381, 'scottsdale': 4382, 'soooooo': 4383, 'freaking': 4384, 'reheated': 4385, 'wedge': 4386, 'absolute': 4387, 'bloody': 4388, 'yellow': 4389, 'saffron': 4390, 'seasoning': 4391, 'grandmother': 4392, 'ignored': 4393, 'hostess': 4394, 'shirt': 4395, 'drastically': 4396, 'caesar': 4397, 'madhouse': 4398, 'proven': 4399, 'macarons': 4400, 'insanely': 4401, 'informative': 4402, 'plater': 4403, 'relax': 4404, 'somethat': 4405, 'duo': 4406, 'violinist': 4407, 'requested': 4408, 'baklava': 4409, 'falafel': 4410, 'baba': 4411, 'ganoush': 4412, 'mgm': 4413, 'courteous': 4414, 'eclectic': 4415, 'onion': 4416, 'nobu': 4417, 'google': 4418, 'smashburger': 4419, 'plantain': 4420, 'spends': 4421, 'panna': 4422, 'cotta': 4423, 'slaw': 4424, 'drenched': 4425, 'piano': 4426, 'rge': 4427, 'fillet': 4428, 'relleno': 4429, 'sergeant': 4430, 'auju': 4431, 'hawaiian': 4432, 'breeze': 4433, 'mango': 4434, 'magic': 4435, 'pineapple': 4436, 'smoothy': 4437, 'mortified': 4438, 'anyways': 4439, 'dripping': 4440, '2007': 4441, 'hospitality': 4442, 'paradise': 4443, 'refrained': 4444, 'recommending': 4445, 'cibo': 4446, 'dough': 4447, 'elk': 4448, 'hooked': 4449, 'sorely': 4450, 'quaint': 4451, 'deliciously': 4452, 'dylan': 4453, 'tummy': 4454, 'gratuity': 4455, 'larger': 4456, 'apple': 4457, 'han': 4458, 'nan': 4459, 'edinburgh': 4460, 'revisiting': 4461, 'naan': 4462, 'pine': 4463, 'touched': 4464, 'airport': 4465, 'speedy': 4466, 'calligraphy': 4467, 'stood': 4468, 'extensive': 4469, 'inflate': 4470, 'smaller': 4471, 'grow': 4472, 'rapidly': 4473, 'lil': 4474, 'fuzzy': 4475, 'wonton': 4476, 'whelm': 4477, 'arepas': 4478, 'jalapeno': 4479, 'shoe': 4480, 'block': 4481, 'fancy': 4482, 'affordable': 4483, 'hunan': 4484, 'flair': 4485, 'nutshell': 4486, 'restaraunt': 4487, 'sewer': 4488, 'veal': 4489, 'satifying': 4490, 'email': 4491, 'colder': 4492, 'describing': 4493, 'tepid': 4494, 'chain': 4495, 'jury': 4496, 'lawyer': 4497, 'arrives': 4498, 'paying': 4499, '85': 4500, 'wienerschnitzel': 4501, 'maine': 4502, 'law': 4503, 'hereas': 4504, 'held': 4505, 'pissd': 4506, 'golden': 4507, 'bruschetta': 4508, 'devine': 4509, 'lastly': 4510, 'mozzarella': 4511, 'negligent': 4512, 'unwelcome': 4513, 'packed': 4514, 'seasonal': 4515, 'fruit': 4516, 'peach': 4517, 'officially': 4518, 'container': 4519, 'opposed': 4520, 'cramming': 4521, 'takeout': 4522, 'cr': 4523, 'pe': 4524, 'delicate': 4525, 'kabuki': 4526, 'maria': 4527, 'article': 4528, 'fucking': 4529, 'caballero': 4530, 'oyster': 4531, 'qualified': 4532, 'tolerance': 4533, 'polite': 4534, 'wash': 4535, 'coconut': 4536, 'fella': 4537, 'huevos': 4538, 'rancheros': 4539, 'pricey': 4540, 'temp': 4541, 'prepare': 4542, 'bare': 4543, 'oil': 4544, 'pleasure': 4545, 'plethora': 4546, 'seal': 4547, 'approval': 4548, 'college': 4549, 'cooking': 4550, 'besides': 4551, 'costco': 4552, 'highlighted': 4553, 'grocery': 4554, 'dude': 4555, 'doughy': 4556, 'albondigas': 4557, 'tomato': 4558, 'meatball': 4559, 'occasion': 4560, 'bloodiest': 4561, 'anymore': 4562, 'chai': 4563, 'latte': 4564, 'allergy': 4565, 'clue': 4566, 'contain': 4567, 'mediterranean': 4568, 'mellow': 4569, 'strawberry': 4570, 'unprofessional': 4571, 'loyal': 4572, 'patron': 4573, 'occasional': 4574, 'pat': 4575, 'bellagio': 4576, 'anticipated': 4577, 'sals': 4578, 'fav': 4579, 'unexperienced': 4580, 'steakhouse': 4581, 'concept': 4582, 'guacamole': 4583, 'pur': 4584, 'postinos': 4585, 'poisoning': 4586, 'batch': 4587, 'yay': 4588, 'eve': 4589, 'caring': 4590, 'teamwork': 4591, 'degree': 4592, 'ri': 4593, 'calamari': 4594, 'fondue': 4595, 'denny': 4596, 'downright': 4597, 'waaaaaayyyyyyyyyy': 4598, 'sangria': 4599, 'brisket': 4600, 'trippy': 4601, 'hurry': 4602, 'reservation': 4603, 'stretch': 4604, 'cashew': 4605, 'chipolte': 4606, 'ranch': 4607, 'dipping': 4608, 'sause': 4609, 'watered': 4610, 'douchey': 4611, 'garden': 4612, 'con': 4613, 'spotty': 4614, 'ensued': 4615, 'apologize': 4616, 'binge': 4617, 'drinking': 4618, 'carbs': 4619, 'profound': 4620, 'deuchebaggery': 4621, 'solidify': 4622, 'ala': 4623, 'cart': 4624, 'blame': 4625, 'rave': 4626, 'del': 4627, 'hamburger': 4628, 'ya': 4629, 'fireball': 4630, 'disapppointment': 4631, 'correction': 4632, 'heimer': 4633, 'brownish': 4634, 'ha': 4635, '99': 4636, 'bigger': 4637, 'unwrapped': 4638, 'mile': 4639, 'brushfire': 4640, 'mirage': 4641, 'refried': 4642, 'dried': 4643, 'crusty': 4644, 'caterpillar': 4645, 'appetite': 4646, 'instantly': 4647, 'ninja': 4648, 'poured': 4649, 'wound': 4650}\n"
     ]
    }
   ],
   "source": [
    "print(tokenizer_lemmatized.word_index) #dictionary"
   ]
  },
  {
   "cell_type": "code",
   "execution_count": 37,
   "metadata": {},
   "outputs": [
    {
     "data": {
      "text/plain": [
       "[[43, 248, 101, 469, 24, 2031],\n",
       " [1, 59, 33, 310],\n",
       " [3, 955],\n",
       " [2032, 123, 624, 956, 1318, 60, 1319, 76],\n",
       " [751, 3],\n",
       " [2033, 248, 25, 112, 68, 25, 375, 271],\n",
       " [272, 957, 272, 2034, 752, 958, 332, 753, 6, 6],\n",
       " [625, 376, 155],\n",
       " [959, 54, 333, 80],\n",
       " [72, 80, 9],\n",
       " [34, 26, 3],\n",
       " [156, 69, 334, 44, 1320, 44],\n",
       " [64, 2035, 2036, 157, 2037, 273, 1321, 2038, 960, 2039, 34, 32],\n",
       " [1, 26, 165],\n",
       " [249, 961, 52, 626, 148],\n",
       " [117, 40, 6, 543, 1322, 5],\n",
       " [754, 211, 2040],\n",
       " [95, 1],\n",
       " [14, 3],\n",
       " [2041, 12, 43, 28, 962, 102, 2042, 18, 124],\n",
       " [133, 250, 627, 2043, 544, 35, 25, 755],\n",
       " [134, 42, 2044, 963, 135, 136],\n",
       " [1323, 2045],\n",
       " [311, 628, 83, 44, 64, 212, 274, 91, 224, 629],\n",
       " [134, 964, 76, 44],\n",
       " [3, 756, 757, 5, 965],\n",
       " [630, 5, 631, 275, 54, 19, 632, 5],\n",
       " [45, 633, 634, 377],\n",
       " [73, 2046, 225, 166, 635, 1324, 166, 5],\n",
       " [312, 198],\n",
       " [413, 65, 5, 42, 2047, 2048],\n",
       " [31, 2049, 73, 10, 2050, 52, 2051],\n",
       " [1325, 636, 125, 2052, 966],\n",
       " [64, 53, 251, 1326, 414, 5],\n",
       " [125, 123, 17, 2053, 123, 758, 28, 199, 39, 628, 1327, 2054, 335],\n",
       " [200, 213, 214, 967, 25, 5, 470, 9, 46, 252, 5, 44, 86, 253],\n",
       " [336, 17],\n",
       " [96, 166, 9, 126],\n",
       " [59, 3, 14, 137, 2055],\n",
       " [759, 31],\n",
       " [3, 118, 760, 2056, 2057, 36, 254, 3, 167, 26],\n",
       " [156, 31],\n",
       " [36, 32, 378, 68],\n",
       " [225, 415, 416],\n",
       " [33, 168, 32],\n",
       " [276, 97],\n",
       " [68, 417, 968, 969, 138, 44],\n",
       " [2058, 379, 1328, 380, 98, 970, 5, 64, 91],\n",
       " [59, 381, 17, 30],\n",
       " [66, 44],\n",
       " [471, 63, 252, 10],\n",
       " [1, 971, 28, 5, 2059],\n",
       " [2060, 761, 201, 252, 1329, 74, 337, 2061, 972, 545, 1330, 973],\n",
       " [5, 49, 637, 39, 546, 76],\n",
       " [27, 37],\n",
       " [62, 137, 472, 48, 1331],\n",
       " [66],\n",
       " [20, 380, 5, 2062, 2063, 974, 277, 57, 14, 3],\n",
       " [113, 975, 638, 6, 1328, 34, 26, 139],\n",
       " [338, 15],\n",
       " [1332, 762, 1333, 1334, 763],\n",
       " [16, 40, 2064, 149, 47, 36, 1335, 158],\n",
       " [547, 3, 140, 45, 418, 19, 215, 30, 124, 272, 53, 255],\n",
       " [138, 256, 5],\n",
       " [312, 5, 548, 764, 549, 225, 765],\n",
       " [6, 150, 2065, 1336, 419, 338, 5, 473, 420, 313, 2066, 1337, 339, 976, 277],\n",
       " [278, 474, 2067, 2068, 1338],\n",
       " [114, 148, 32, 382, 766, 25, 43, 550],\n",
       " [3, 977],\n",
       " [226, 3, 272, 767, 8],\n",
       " [751, 14],\n",
       " [20, 2069, 214, 340, 768, 978, 769, 2070, 639, 979],\n",
       " [3, 475],\n",
       " [36, 1339, 770, 341, 14],\n",
       " [184, 5],\n",
       " [27, 31],\n",
       " [138, 1340, 2071, 1341, 1340],\n",
       " [3, 65, 141],\n",
       " [27, 5, 1342, 81, 276],\n",
       " [771, 476, 58, 91, 551, 216],\n",
       " [382, 2072, 312, 17],\n",
       " [1, 640],\n",
       " [17, 980, 421, 9, 14, 2073],\n",
       " [44, 628, 422],\n",
       " [141, 142, 3, 383, 981, 275, 42],\n",
       " [32, 127, 42, 211, 27],\n",
       " [5, 14, 3],\n",
       " [982, 32, 96],\n",
       " [31, 33, 14, 38, 379, 6, 772, 1343],\n",
       " [5, 983, 257],\n",
       " [31, 342, 41, 6, 227, 14, 95, 38, 2074, 984, 37],\n",
       " [30, 637],\n",
       " [142, 3],\n",
       " [52, 2075, 202, 159, 6, 52],\n",
       " [552, 72, 80],\n",
       " [169],\n",
       " [773, 42, 125, 762],\n",
       " [119, 31, 2076, 150],\n",
       " [19, 119, 95, 217, 58, 2077, 6, 19, 26, 2078, 17, 984, 258],\n",
       " [66, 641],\n",
       " [2079, 1344, 250, 625, 5],\n",
       " [985, 986, 35, 2080, 80, 68, 2081],\n",
       " [75, 640],\n",
       " [48, 1, 384, 642, 1, 215],\n",
       " [314, 987, 83, 250, 2082, 1345, 988, 5, 123],\n",
       " [989, 1, 118, 36, 167, 22, 158, 343, 10, 170, 228],\n",
       " [315, 249, 553, 469, 258, 2083, 45, 59],\n",
       " [27, 2084, 32, 2085, 168, 32, 3, 185, 1, 52, 87, 148, 106],\n",
       " [118, 423, 643, 644, 8, 214, 2086, 2087, 2088, 477, 17, 990, 1346, 316, 1347],\n",
       " [2089, 125, 123, 14],\n",
       " [34, 26, 139, 33, 42, 32, 98, 385, 424, 385, 42, 32, 98, 58],\n",
       " [5, 1348, 279, 991, 184],\n",
       " [65,\n",
       "  2090,\n",
       "  45,\n",
       "  760,\n",
       "  992,\n",
       "  1349,\n",
       "  645,\n",
       "  2091,\n",
       "  992,\n",
       "  68,\n",
       "  44,\n",
       "  2092,\n",
       "  1350,\n",
       "  2093,\n",
       "  646,\n",
       "  59],\n",
       " [3, 31, 229, 642],\n",
       " [135, 3],\n",
       " [761, 36, 1351, 280, 2094, 1352, 230, 5, 554, 993],\n",
       " [55, 5, 143, 139, 281, 231, 1353],\n",
       " [148, 52],\n",
       " [1354, 101],\n",
       " [994, 2095],\n",
       " [217, 272, 256, 478, 230, 5, 425, 6, 46, 6, 119, 106, 52, 774],\n",
       " [35, 25, 344, 63, 479],\n",
       " [2096, 345, 215],\n",
       " [15, 26],\n",
       " [25, 151, 203],\n",
       " [3, 416],\n",
       " [555, 13, 15],\n",
       " [14, 230, 5, 248, 259, 123],\n",
       " [168, 278, 16, 10],\n",
       " [995, 32, 2097],\n",
       " [171, 20, 1355, 282, 99],\n",
       " [2098, 480, 232, 481],\n",
       " [32, 14, 3, 980, 2099, 204, 2100],\n",
       " [2101, 40],\n",
       " [985, 1356],\n",
       " [2102, 1357, 996, 32, 775],\n",
       " [1, 647, 48],\n",
       " [32, 14, 2103, 2104],\n",
       " [346, 282, 380, 997, 2105, 997, 2106],\n",
       " [347, 1358, 998],\n",
       " [72],\n",
       " [272, 256, 58, 60, 98, 999, 157, 556, 348, 157, 212],\n",
       " [113, 141],\n",
       " [66],\n",
       " [5, 107, 648, 198, 10, 58, 157, 115, 482],\n",
       " [55, 5, 2107, 2108, 349],\n",
       " [72, 9],\n",
       " [185, 96],\n",
       " [141, 1359, 758, 776, 758],\n",
       " [214, 275, 108, 133, 170, 2109],\n",
       " [1000],\n",
       " [416, 26, 96, 96],\n",
       " [135, 76, 32, 2110, 2111, 1360, 2112],\n",
       " [77, 34, 144, 557, 10, 2113, 1361, 14, 17, 17, 6, 14, 3],\n",
       " [134, 157, 1362, 547, 34, 38],\n",
       " [5, 229, 753, 186, 1001, 2114, 2115, 2116, 1363, 777, 5, 99],\n",
       " [36, 26, 1364, 2117, 172],\n",
       " [141, 173, 14, 283],\n",
       " [27, 426],\n",
       " [1365, 483],\n",
       " [1366, 484, 24, 42, 37, 317, 10],\n",
       " [3, 123],\n",
       " [1332, 1367, 649, 2118],\n",
       " [14, 10, 485, 14, 6, 55, 5],\n",
       " [57, 1368, 2119, 28, 547, 427, 778, 63, 2120, 2121, 249, 350],\n",
       " [3, 310],\n",
       " [14, 2122, 2123, 216],\n",
       " [47, 1002, 108, 36, 254, 3, 650],\n",
       " [124, 102],\n",
       " [6, 37, 414, 2124, 259, 338, 187],\n",
       " [33, 13],\n",
       " [1369, 779, 80],\n",
       " [416, 26, 96],\n",
       " [1370, 123, 651, 16, 3],\n",
       " [2125, 2126, 558, 559, 6, 200, 1003, 3],\n",
       " [483, 5, 3, 780],\n",
       " [1371, 385, 168, 250, 2127, 5, 142, 10, 485, 560, 5, 756, 59],\n",
       " [284, 1372, 2128, 2129, 2130, 10, 152, 2131, 976, 67],\n",
       " [2132, 5, 1373, 226],\n",
       " [10, 471, 1374, 1375, 624, 5],\n",
       " [138, 31],\n",
       " [2133, 32, 9, 57, 148, 43, 106, 52],\n",
       " [34, 26, 1, 1376, 153],\n",
       " [5, 2134, 187, 16, 2135],\n",
       " [652, 76, 35, 285, 1371, 61, 60, 2136],\n",
       " [286],\n",
       " [249, 553],\n",
       " [3, 5],\n",
       " [72, 1004, 1005],\n",
       " [386, 347, 2137, 174, 993, 2138, 252, 277, 46, 1001, 387],\n",
       " [1006, 1338, 278],\n",
       " [1007, 781, 175, 1, 5, 138],\n",
       " [2139, 287, 36, 377, 5],\n",
       " [76, 2140, 486, 1377, 479],\n",
       " [156],\n",
       " [279, 1378, 1379, 1321],\n",
       " [27, 561],\n",
       " [15, 475],\n",
       " [2141, 59, 106],\n",
       " [487, 5, 218, 2142],\n",
       " [426, 20, 2143, 128, 18, 650, 653, 1002],\n",
       " [45, 1, 2144],\n",
       " [28, 1008, 2145, 782, 139, 98],\n",
       " [19, 2146, 2147, 2148, 2149],\n",
       " [44, 124, 115],\n",
       " [3, 32, 156, 2150],\n",
       " [8, 58, 2151, 2152, 118, 129, 5, 654, 2153],\n",
       " [783, 58, 53, 142, 3],\n",
       " [1, 2154, 416],\n",
       " [753, 23],\n",
       " [562, 2155, 351, 1009, 31, 2156, 2157, 134, 655, 2158, 784],\n",
       " [414, 2159, 204, 5, 428],\n",
       " [3, 48, 22],\n",
       " [563, 375, 785, 2160, 143, 346, 5, 564, 488, 185, 34, 26, 656],\n",
       " [229, 13],\n",
       " [18, 117, 40],\n",
       " [18, 40],\n",
       " [22, 10, 338, 219, 10, 18, 2161, 42],\n",
       " [56, 5, 21],\n",
       " [57, 2162, 5],\n",
       " [2163, 2164],\n",
       " [186, 657, 42, 47, 429, 657, 388, 10, 351],\n",
       " [413, 786, 3, 106],\n",
       " [430, 38, 1380, 82, 250],\n",
       " [154, 2165, 34, 1381, 98, 39, 999],\n",
       " [318, 148, 1376, 375],\n",
       " [1382, 10, 2166, 6, 786, 288, 787],\n",
       " [205, 66],\n",
       " [5, 53, 289, 3],\n",
       " [188, 1010, 2167, 1365, 45, 142, 760, 46, 99],\n",
       " [44, 231, 487],\n",
       " [150, 72, 9],\n",
       " [72, 6],\n",
       " [3, 34, 13],\n",
       " [16, 345, 31, 95],\n",
       " [6, 658, 215, 21],\n",
       " [19, 168, 788],\n",
       " [489, 646, 36, 2168, 1011, 40, 59],\n",
       " [1383, 25, 32, 128, 16, 659],\n",
       " [28, 490],\n",
       " [150, 319, 2169, 2170],\n",
       " [5, 1325, 83],\n",
       " [56, 189, 13, 21],\n",
       " [1384, 52, 1385, 634, 633, 565],\n",
       " [2171, 1386, 168, 32],\n",
       " [100, 67, 2172],\n",
       " [33, 2173, 789, 5, 59],\n",
       " [36, 547, 48, 14, 3],\n",
       " [484, 2174, 152],\n",
       " [148, 382, 17, 145, 431, 790, 258, 59],\n",
       " [106, 10, 1387, 344, 1388, 2175],\n",
       " [1389, 19, 5, 21],\n",
       " [1390, 1012, 1, 26],\n",
       " [27, 276, 655, 2176],\n",
       " [31, 344, 1391, 2177, 791, 1392, 1393, 290],\n",
       " [96, 26, 13],\n",
       " [432, 47, 561, 1394, 1013],\n",
       " [3, 478],\n",
       " [33, 190, 384, 649],\n",
       " [3, 258, 341, 2178],\n",
       " [1, 31, 286, 310],\n",
       " [275, 142, 1395, 95],\n",
       " [14, 3],\n",
       " [2179, 389],\n",
       " [6, 14, 233],\n",
       " [44, 86, 74, 1],\n",
       " [970, 491, 115, 474],\n",
       " [3, 141],\n",
       " [72, 80],\n",
       " [27, 32],\n",
       " [792, 419, 281, 22, 2180, 291],\n",
       " [142, 283],\n",
       " [793, 1014],\n",
       " [352, 157, 84, 34, 26],\n",
       " [204, 6],\n",
       " [2181, 248, 14, 3],\n",
       " [333, 65, 80, 478],\n",
       " [1, 5],\n",
       " [19, 1396, 276, 377],\n",
       " [1011, 260, 176],\n",
       " [1, 31, 1, 794],\n",
       " [27, 168],\n",
       " [46, 382, 17],\n",
       " [156, 32, 795],\n",
       " [55, 171, 566],\n",
       " [3, 5],\n",
       " [40, 660, 31],\n",
       " [87, 389],\n",
       " [567, 2182, 2183],\n",
       " [141, 3, 2184, 313, 796, 2185, 216, 1, 67, 149, 76],\n",
       " [3, 5],\n",
       " [138],\n",
       " [33, 5],\n",
       " [215, 5],\n",
       " [347, 1358, 1397, 2186, 33],\n",
       " [190, 19, 5, 21],\n",
       " [14, 3, 1398, 2187, 5, 1015, 2188, 797, 545, 2189, 108],\n",
       " [6, 14, 378, 68],\n",
       " [189, 13, 78],\n",
       " [44, 86, 57, 102, 63, 250, 2190, 2191],\n",
       " [753, 23],\n",
       " [77, 30, 1016, 641],\n",
       " [433, 2192, 2193, 2194],\n",
       " [1, 48],\n",
       " [62, 142, 46, 160, 226, 318, 2195, 568, 43, 982, 114, 1],\n",
       " [314, 422, 14, 3],\n",
       " [216, 3],\n",
       " [92, 73, 2196, 119, 32, 1017, 434],\n",
       " [157, 53, 177, 492, 2197, 2198, 312, 198, 81, 38],\n",
       " [320, 1380, 6, 205],\n",
       " [1, 44, 55, 16, 229],\n",
       " [633, 2199, 569],\n",
       " [22, 1348, 63, 106, 2200, 2201, 1339, 770, 224, 1399, 59],\n",
       " [5, 312, 198, 10, 83],\n",
       " [44, 793, 17, 13, 42, 2202],\n",
       " [1018, 34, 26, 109, 96, 2203, 5, 625, 777, 1362, 32, 1019, 798],\n",
       " [799, 81, 1400],\n",
       " [75, 155, 1401, 1402, 230, 5, 2204, 1020],\n",
       " [97, 80, 23],\n",
       " [27, 226],\n",
       " [22, 113, 48],\n",
       " [188, 31, 46, 1353, 800],\n",
       " [2205, 57, 569, 2206],\n",
       " [785, 347, 1403, 125, 76],\n",
       " [58, 214, 212, 230, 5, 341, 661, 225, 220],\n",
       " [1, 141, 206, 48],\n",
       " [146, 2207, 19, 1021, 234],\n",
       " [248, 14, 17],\n",
       " [390, 178],\n",
       " [1404, 198, 642],\n",
       " [148],\n",
       " [44, 216, 17, 1006, 334, 85, 5, 58, 53, 391],\n",
       " [185, 33],\n",
       " [106, 774, 233, 52, 34, 254, 471, 198, 124, 353, 91],\n",
       " [254, 26, 34, 288, 34, 977, 149, 34, 338, 32],\n",
       " [8, 102, 956, 44, 1405, 2208, 1022, 5, 58],\n",
       " [427, 76, 2209],\n",
       " [292],\n",
       " [1023, 87, 18, 57, 430, 38, 26],\n",
       " [1406, 487, 1407, 186, 1408, 185, 134],\n",
       " [33, 34, 26],\n",
       " [113],\n",
       " [87, 389, 383, 5, 58, 91],\n",
       " [83, 44, 14, 3, 5],\n",
       " [56, 189, 13],\n",
       " [380, 5, 9, 54, 20, 2210, 5, 57, 3, 2211, 2212],\n",
       " [185, 78, 280, 960],\n",
       " [1, 416, 26],\n",
       " [65, 226, 2213, 2214, 2215, 30, 86, 260, 81, 801],\n",
       " [1024, 1409, 1410, 662, 32, 387, 479],\n",
       " [1411, 5],\n",
       " [14, 10, 485, 14, 1341],\n",
       " [148, 36, 563, 1, 44, 86],\n",
       " [780, 997, 1025, 1026, 154],\n",
       " [33, 2216, 1027, 32],\n",
       " [2217, 559, 3, 2218, 279, 802],\n",
       " [37, 45, 35, 2219, 34, 2220, 32],\n",
       " [46, 185, 178, 39, 58, 212, 21],\n",
       " [5, 25, 287, 321],\n",
       " [1017, 22, 14, 17, 2221, 73, 803, 2222, 62],\n",
       " [36, 249, 26],\n",
       " [22, 5, 380, 59, 69, 1028, 2223, 380, 354],\n",
       " [279, 127, 42, 254, 185, 2224],\n",
       " [15, 106, 43, 150],\n",
       " [75, 1, 2225],\n",
       " [153, 226],\n",
       " [72, 80],\n",
       " [188, 250, 663, 432, 55, 17, 1412, 216, 31],\n",
       " [27, 5],\n",
       " [293, 32, 102, 9, 55, 804],\n",
       " [2226, 664, 32, 570, 1413, 435],\n",
       " [991, 33, 118, 1, 53],\n",
       " [44, 86, 22, 3],\n",
       " [56, 5, 21, 275],\n",
       " [1, 141, 142, 273, 76, 1414, 1415, 2227, 419],\n",
       " [2228, 22, 52, 1416, 160, 1417, 52, 248, 52],\n",
       " [2229, 5, 187],\n",
       " [436, 5, 15, 44, 86, 2230, 434, 780],\n",
       " [254, 1418, 98, 102, 44, 86, 102, 563],\n",
       " [2231, 1361, 178],\n",
       " [3, 190, 384, 226],\n",
       " [20, 107, 392, 2232, 493, 1419, 991, 158],\n",
       " [76, 494, 2233],\n",
       " [393, 92, 92, 1003, 973, 6, 437, 14, 17],\n",
       " [2234, 665],\n",
       " [56, 87, 294, 21, 664, 379, 189, 13],\n",
       " [96, 34, 26],\n",
       " [19, 5, 788],\n",
       " [142, 17],\n",
       " [351, 1420, 31, 1421, 14, 17],\n",
       " [571, 394],\n",
       " [167, 1347, 95, 2235, 378, 5, 2236, 395],\n",
       " [3, 295],\n",
       " [33, 31, 666, 215],\n",
       " [117, 40, 2237, 73, 88, 160],\n",
       " [38, 227],\n",
       " [258, 478, 251, 68, 37, 285, 52],\n",
       " [3, 31, 48],\n",
       " [34, 1, 654, 378, 805, 413],\n",
       " [57, 438, 199, 141, 18, 14, 17, 21, 2238],\n",
       " [319],\n",
       " [1422, 13],\n",
       " [33, 31, 48],\n",
       " [345, 32],\n",
       " [72, 80, 9],\n",
       " [207, 27, 102, 44, 86],\n",
       " [191, 296, 660, 83, 123, 125, 123, 1410, 547, 125, 2239, 67, 9, 83, 5, 103],\n",
       " [14, 3],\n",
       " [795, 168, 2240, 138],\n",
       " [85, 379, 2241, 2242, 230, 5, 46, 37, 1423, 16, 15, 13],\n",
       " [293, 83, 478],\n",
       " [117, 40, 226, 211],\n",
       " [955, 1029, 153],\n",
       " [314,\n",
       "  228,\n",
       "  1424,\n",
       "  44,\n",
       "  24,\n",
       "  572,\n",
       "  353,\n",
       "  2243,\n",
       "  334,\n",
       "  99,\n",
       "  124,\n",
       "  278,\n",
       "  57,\n",
       "  124,\n",
       "  551,\n",
       "  2244],\n",
       " [53, 44, 133, 231, 572, 32],\n",
       " [99, 272, 5, 64, 53, 6, 19],\n",
       " [153, 83, 47, 477, 2245],\n",
       " [46, 5, 1425, 30],\n",
       " [1426, 254, 34, 1427, 2246, 166],\n",
       " [573, 439, 16, 127, 626],\n",
       " [48, 1],\n",
       " [28, 490],\n",
       " [322, 1428, 22, 495, 806, 426, 261, 5],\n",
       " [258, 2247, 2248, 59, 106, 137],\n",
       " [22, 348, 396, 383, 2249, 2250, 2251],\n",
       " [175, 2252, 5, 2253, 752, 25, 3, 185],\n",
       " [67, 37, 5, 14, 283, 10],\n",
       " [130, 574, 5, 807, 16, 47, 262, 263, 207, 170, 1429],\n",
       " [16, 127],\n",
       " [2254, 2255, 957, 556, 2256, 224, 2257, 261],\n",
       " [173, 1324],\n",
       " [140, 230, 5, 68, 235, 1430, 125],\n",
       " [206, 26],\n",
       " [117, 40, 1431, 378, 2258, 5],\n",
       " [25, 38, 185, 667, 5],\n",
       " [808, 285, 235],\n",
       " [668, 35, 290, 396, 25, 23, 80],\n",
       " [2259, 226, 14, 3],\n",
       " [99, 166, 8, 8, 8, 58, 115, 44, 18, 482, 2260, 1432],\n",
       " [140, 15, 396, 103, 6, 2261, 18, 40, 120],\n",
       " [2262],\n",
       " [496, 799, 2263, 18, 2264, 660, 1433, 26, 1030],\n",
       " [30, 59, 171, 575, 1434],\n",
       " [2265, 5, 10, 83, 126],\n",
       " [18, 40, 1435, 425, 2266, 61, 340, 58, 14, 1395, 1436, 809, 24, 1437],\n",
       " [2267, 484, 119, 6, 19, 310],\n",
       " [106],\n",
       " [113, 31],\n",
       " [108, 669, 150, 1031, 1438, 2268, 17, 63, 118, 26, 33, 118, 5],\n",
       " [16, 104, 15, 54, 32],\n",
       " [349, 119, 31, 390, 221, 140, 316, 378],\n",
       " [2269, 14],\n",
       " [2270, 25, 3, 185, 65, 810, 126, 3],\n",
       " [20, 1439, 796, 133, 2271, 670, 543, 1322, 2272, 1032, 1423, 397, 251, 2273],\n",
       " [22, 76, 5, 671, 672, 1440, 116, 252],\n",
       " [1, 1033, 2274, 1034],\n",
       " [1441, 2275, 26, 31],\n",
       " [36, 497, 761],\n",
       " [17, 30, 106, 2276, 2277, 283],\n",
       " [154, 5],\n",
       " [2278, 44, 389],\n",
       " [18, 40, 494],\n",
       " [661, 25, 480, 14, 673],\n",
       " [66],\n",
       " [96, 347, 667],\n",
       " [44, 14, 3],\n",
       " [985, 2279, 6],\n",
       " [66, 2280],\n",
       " [140, 2281, 145, 1035, 5, 418, 1036, 2282],\n",
       " [47, 3, 344],\n",
       " [2283, 13, 58, 214, 53, 49, 113],\n",
       " [1442, 1443, 575, 1444],\n",
       " [319, 414, 220, 24, 52],\n",
       " [3, 480, 2284],\n",
       " [1445, 9],\n",
       " [127, 42],\n",
       " [1018, 52, 42, 798, 2285, 2286],\n",
       " [271, 1446, 2287, 396, 2288, 2289],\n",
       " [312, 198, 102, 9, 654, 148, 102, 1033, 2290, 26, 34, 998],\n",
       " [10, 290],\n",
       " [761, 16, 1037, 2291, 637, 63, 227, 76],\n",
       " [379, 811, 146, 575, 297, 20, 165, 1038, 773, 413],\n",
       " [629, 2292, 44, 14, 3],\n",
       " [1039],\n",
       " [27, 5],\n",
       " [319],\n",
       " [1040, 89],\n",
       " [298, 674, 201, 77, 1447, 98, 262, 431, 276, 5, 1041, 2293],\n",
       " [1448, 5, 20, 76],\n",
       " [576, 5, 233, 2294, 2295, 271, 2296],\n",
       " [1329, 645],\n",
       " [257, 796, 42, 171, 2297, 2298, 118, 1042, 2299, 398],\n",
       " [18, 75, 40, 425, 2300, 293, 1011, 667, 3, 48],\n",
       " [379, 58, 53, 391, 16, 236, 13],\n",
       " [49, 87, 389],\n",
       " [248, 323, 669],\n",
       " [14, 1449],\n",
       " [1028, 80, 141, 1450, 275],\n",
       " [15, 215],\n",
       " [17, 812, 666],\n",
       " [2301, 782, 2302, 70, 431, 1451, 2303],\n",
       " [44, 33, 640],\n",
       " [1452, 294],\n",
       " [18, 440, 84, 785],\n",
       " [382, 766, 106, 137],\n",
       " [34, 26, 226, 1453, 469, 16, 978, 348, 232, 225, 104],\n",
       " [18, 40, 141, 120],\n",
       " [1043, 421, 988, 2304, 2305],\n",
       " [3, 76],\n",
       " [813, 264, 2306, 248, 123, 104, 2307],\n",
       " [2308, 5, 485, 566, 441, 1454],\n",
       " [39, 77, 2309, 221, 63, 68, 554, 9, 1044, 97],\n",
       " [34, 254, 73, 166, 1045, 26],\n",
       " [55, 2310, 59, 83, 675, 2311, 142, 16, 17, 2312, 2313, 283, 95],\n",
       " [1, 31, 17, 30],\n",
       " [632, 5, 649, 155],\n",
       " [156, 151, 250, 2314, 5],\n",
       " [314, 169, 17, 476, 642, 1455, 62, 1, 216, 169, 175, 1383, 1456],\n",
       " [5, 637, 2315],\n",
       " [156, 18, 40, 141, 120],\n",
       " [638, 1457, 34, 271, 65, 206, 20, 670, 157, 157],\n",
       " [1046, 390, 37, 200, 1, 48],\n",
       " [676, 2316, 1047, 2317, 23, 756, 545],\n",
       " [24, 498, 134, 83, 492, 5, 216, 3],\n",
       " [14, 3],\n",
       " [16, 1458],\n",
       " [154, 1446, 214, 9],\n",
       " [782, 2318, 2319],\n",
       " [74, 1459],\n",
       " [625, 44, 1, 138],\n",
       " [296, 1, 14, 390],\n",
       " [2320, 1048, 677],\n",
       " [298, 127, 1460, 2321, 2322, 499, 338, 1460, 499, 5, 354, 1461],\n",
       " [555, 2323, 80, 1462, 104],\n",
       " [3, 59, 48],\n",
       " [299, 6, 556, 981, 1463, 1464, 2324, 2325, 156, 2326],\n",
       " [168, 563, 1, 91, 391, 251, 5, 2327, 55, 98, 2328, 624, 224, 2329],\n",
       " [171, 1350, 644, 293, 1465, 994, 1466, 1373, 12],\n",
       " [1467, 1468, 34, 2330, 52, 577, 2331, 34, 271, 667],\n",
       " [355, 83, 6, 21, 109, 142, 1049],\n",
       " [349, 771],\n",
       " [814, 1469, 98, 435],\n",
       " [418, 5, 1452, 73, 225, 42],\n",
       " [138, 31],\n",
       " [300, 647, 14, 5],\n",
       " [2332, 2333, 2334, 20, 2335, 104, 804, 83, 6, 2336],\n",
       " [56, 480, 21, 99, 35, 88, 578, 84, 18],\n",
       " [393, 28, 98, 2337, 1470],\n",
       " [59, 1394, 87, 573, 473, 187, 971, 565],\n",
       " [425, 2338, 113, 34, 26, 207, 2339, 38],\n",
       " [27, 118, 16, 49, 1, 26],\n",
       " [1369, 3, 13],\n",
       " [678, 2340],\n",
       " [794, 1471, 2341, 18, 75, 138],\n",
       " [88, 2342, 8, 84, 752, 815, 2343, 2344],\n",
       " [2345],\n",
       " [3, 31, 48],\n",
       " [771, 176, 301, 302, 667, 984, 42],\n",
       " [2346, 1027, 645, 172, 65, 5],\n",
       " [355, 14, 138],\n",
       " [2347, 206, 26, 34, 2348, 143, 1472, 2349, 567, 257, 2350, 2351],\n",
       " [679, 552, 72, 80],\n",
       " [109, 666, 215],\n",
       " [293, 1, 26, 250, 32, 296, 293],\n",
       " [311, 2352, 2353, 42, 1050, 123, 249],\n",
       " [2354, 576],\n",
       " [1444, 249],\n",
       " [3, 83, 980, 36, 14, 1, 76, 85, 317, 9, 430],\n",
       " [3, 31],\n",
       " [87, 294],\n",
       " [82, 78, 2355, 168, 32, 41, 148, 124, 425, 816],\n",
       " [2356, 76],\n",
       " [56, 21],\n",
       " [113],\n",
       " [769, 2357, 484, 2358, 817, 2359, 1044],\n",
       " [324, 21, 225, 2360, 979],\n",
       " [44, 86, 117, 1453],\n",
       " [351, 500],\n",
       " [62, 776, 192, 18],\n",
       " [680, 2361, 67, 98, 1051, 681, 258, 32],\n",
       " [14, 3, 125, 123, 207, 248, 64, 1473, 9],\n",
       " [379, 1334, 763, 579, 1443, 355, 142, 676, 221, 259, 2362, 663],\n",
       " [347, 26, 479, 2363, 380, 98],\n",
       " [202, 2364, 1052, 669, 48, 206, 18, 45, 26, 569, 146],\n",
       " [38, 430],\n",
       " [114, 567, 1053, 193, 575, 2365, 338, 2366, 575, 1417],\n",
       " [44, 1054, 17],\n",
       " [22, 575, 284, 40, 2367, 31],\n",
       " [99, 64, 91, 116, 127, 225],\n",
       " [55, 125, 123, 20, 278, 123, 1474, 133, 248, 273, 2368],\n",
       " [1055, 78, 189, 13],\n",
       " [2369, 5, 224, 818],\n",
       " [158],\n",
       " [127, 42],\n",
       " [38, 83],\n",
       " [2370, 25, 389, 580],\n",
       " [87, 682],\n",
       " [49, 1, 31],\n",
       " [3, 5],\n",
       " [48, 390, 33, 31, 18, 117, 40],\n",
       " [2371, 1056, 2372, 427, 77],\n",
       " [74, 819, 271, 501, 1057],\n",
       " [5, 216, 137],\n",
       " [113, 31],\n",
       " [96, 982],\n",
       " [2373],\n",
       " [175, 18, 40, 5, 83, 2374],\n",
       " [1055, 198, 13],\n",
       " [172, 114, 47, 172],\n",
       " [106, 52, 17, 148],\n",
       " [14, 2375, 2376],\n",
       " [2377, 662, 2378, 28, 114, 10, 820, 2379, 222],\n",
       " [10,\n",
       "  249,\n",
       "  47,\n",
       "  425,\n",
       "  2380,\n",
       "  52,\n",
       "  32,\n",
       "  2381,\n",
       "  49,\n",
       "  2382,\n",
       "  382,\n",
       "  2383,\n",
       "  115,\n",
       "  91,\n",
       "  224,\n",
       "  2384,\n",
       "  52],\n",
       " [1045, 442, 2385, 64, 334, 798, 230, 5, 44, 2386, 48],\n",
       " [56, 5, 581, 294, 2387, 581, 2388, 56, 21, 2389],\n",
       " [123, 142, 278, 231, 1058, 629, 5],\n",
       " [96, 31],\n",
       " [146, 502, 38, 633],\n",
       " [200, 64, 190, 1475, 108, 480, 2390, 2391, 177, 2392, 83, 480, 249],\n",
       " [142, 17, 1476, 821, 2393, 1418, 32, 757, 258, 822, 168, 2394],\n",
       " [2395, 254, 31, 24, 823, 675, 2396, 2397, 103, 274, 1059],\n",
       " [138, 2398, 178],\n",
       " [3, 31, 199, 582, 258, 1477],\n",
       " [443, 255, 303, 100, 2399, 48, 444],\n",
       " [59, 217, 1478, 477, 1060, 275, 6, 381, 102, 2400],\n",
       " [2401, 126],\n",
       " [28, 490, 679, 138, 5],\n",
       " [5, 496, 17, 56, 21, 1479],\n",
       " [59, 317, 583, 2402, 284, 474, 2403, 1015, 52],\n",
       " [40, 1370, 120, 256, 1479, 230, 5, 1336, 419, 176],\n",
       " [562, 24, 498],\n",
       " [2404, 2405, 1061, 2406, 170, 5, 963, 824, 3, 426],\n",
       " [76, 141, 18, 169, 502],\n",
       " [25, 445, 399],\n",
       " [480, 3, 151, 35, 22, 28, 817, 655, 2407, 2408, 224, 484, 584],\n",
       " [812, 1062, 1, 26, 125, 123, 41, 264],\n",
       " [1063],\n",
       " [146, 995, 32, 2409, 1, 74, 9, 234, 10, 46, 639, 2410, 149, 416, 2411, 288],\n",
       " [99, 2412, 384, 2413, 140, 484, 1480, 663, 5, 48, 432, 33],\n",
       " [292, 2414, 1, 2415],\n",
       " [1481, 147, 2416, 1064, 2417, 34, 2418, 1482, 139, 98],\n",
       " [683, 2419],\n",
       " [427, 78, 189, 13, 25, 445],\n",
       " [124, 648, 1065, 810, 677, 127, 1475, 34, 41, 38, 494, 217],\n",
       " [2420, 351, 446, 423, 396, 57, 1483, 1484, 2421, 1485],\n",
       " [2422, 43, 1486, 15, 5, 2423, 396, 356],\n",
       " [5, 637, 492, 212, 5],\n",
       " [3, 5],\n",
       " [1066, 821, 59, 2424, 81, 583, 488, 187],\n",
       " [345],\n",
       " [44, 78],\n",
       " [119, 31, 127, 259, 42],\n",
       " [478, 546, 2425, 296, 1067, 52],\n",
       " [1487, 294, 34, 26, 78],\n",
       " [123, 421, 476, 2426, 1455, 14],\n",
       " [52, 1488, 502, 1068, 34, 3],\n",
       " [437, 274, 1069, 9, 1070, 2427, 383, 35, 42, 551, 2428],\n",
       " [1003,\n",
       "  129,\n",
       "  14,\n",
       "  137,\n",
       "  125,\n",
       "  160,\n",
       "  1489,\n",
       "  2429,\n",
       "  470,\n",
       "  821,\n",
       "  2430,\n",
       "  175,\n",
       "  57,\n",
       "  684,\n",
       "  226,\n",
       "  316],\n",
       " [166, 487, 189, 13],\n",
       " [219, 279, 1064],\n",
       " [106, 675, 2431, 2432, 383, 46, 9, 217, 248],\n",
       " [113, 215, 1, 26, 206, 48],\n",
       " [27, 47, 114, 581, 2433],\n",
       " [17, 1490, 1002, 543, 36, 426],\n",
       " [62],\n",
       " [35, 40],\n",
       " [36, 34],\n",
       " [47, 1, 167, 59, 315, 319],\n",
       " [41, 317, 955, 69, 677],\n",
       " [994, 133, 1491],\n",
       " [287, 152, 107, 648, 220],\n",
       " [155, 1492, 120, 1071, 56, 2434, 2435, 249],\n",
       " [46, 37, 585, 2436],\n",
       " [17, 30, 127, 1493, 5, 1342, 2437, 662, 626],\n",
       " [1072, 1073, 2438, 149, 1494, 336, 1377],\n",
       " [2439, 817, 825, 549],\n",
       " [168, 14, 5, 976, 108, 1495, 28, 98, 2440, 756, 2441],\n",
       " [325, 147],\n",
       " [14, 137, 250, 2442, 1042, 81, 38, 2443, 44],\n",
       " [271, 2444, 74, 1, 475, 471],\n",
       " [355, 781, 2445],\n",
       " [118, 426, 1074, 147],\n",
       " [31, 765, 826, 1496, 9, 320, 158, 47, 289, 98, 222, 759],\n",
       " [27, 817, 2446],\n",
       " [827, 2447, 2448],\n",
       " [127, 755, 581, 230],\n",
       " [633, 1075, 1017, 1497, 35, 99],\n",
       " [18, 754, 215, 141, 39, 142, 17],\n",
       " [15, 445, 275, 13],\n",
       " [14, 17],\n",
       " [492, 2449, 2450, 822, 432, 14, 5],\n",
       " [254, 828, 34],\n",
       " [42, 2451, 478, 634, 285, 49, 17],\n",
       " [1076, 638, 44, 792, 2452],\n",
       " [249, 496, 2453, 2454, 35, 1077, 52],\n",
       " [138, 97, 42, 1043],\n",
       " [5, 22, 107, 3, 167, 20, 685, 626],\n",
       " [28, 47, 158],\n",
       " [52, 1078, 1381, 2455],\n",
       " [148, 106, 200, 32, 148, 213, 115, 9, 447, 91],\n",
       " [22, 5, 577, 1498, 220, 1499, 2456, 2457, 2458, 1079, 1462, 1500, 419],\n",
       " [582, 48],\n",
       " [103, 344, 279, 42, 279, 118, 357, 20, 1495, 2459, 479, 255],\n",
       " [786, 14, 17],\n",
       " [986],\n",
       " [27, 432, 1501, 2460, 1080, 822, 226, 757],\n",
       " [120, 2461, 225, 129, 624],\n",
       " [158, 59, 1081, 1502, 108, 25, 1015],\n",
       " [134, 5, 1006, 2462, 2463, 149],\n",
       " [1012, 201, 2464, 334, 44, 2465, 85, 2466],\n",
       " [498, 220, 5, 554, 2467],\n",
       " [124, 317, 2468, 60, 201, 160, 42, 5, 385, 5, 76],\n",
       " [96, 26],\n",
       " [425, 52, 1385, 1503, 19],\n",
       " [100],\n",
       " [5, 1504, 231, 25, 2469],\n",
       " [1505, 216, 99, 2470, 275, 771, 130, 6, 19, 32, 21, 630],\n",
       " [298,\n",
       "  1405,\n",
       "  1082,\n",
       "  400,\n",
       "  586,\n",
       "  2471,\n",
       "  1083,\n",
       "  829,\n",
       "  1456,\n",
       "  2472,\n",
       "  2473,\n",
       "  44,\n",
       "  448,\n",
       "  830,\n",
       "  587],\n",
       " [3, 5],\n",
       " [218, 97, 171, 1022, 5, 47, 588, 583, 1506, 2474, 326],\n",
       " [1, 310, 14, 137, 829, 1507, 822, 125, 448, 830],\n",
       " [5, 2475, 143, 125, 2476, 2477, 5, 2478, 190],\n",
       " [218, 19, 168, 32, 34, 26],\n",
       " [45, 773, 6, 199, 124, 1436, 5],\n",
       " [1508, 115, 64, 73, 2479, 2480, 83, 5, 358],\n",
       " [116, 99, 2481, 32, 1084, 1027, 377],\n",
       " [59, 831, 6, 53, 1085, 121, 832, 382, 1086, 2482],\n",
       " [646, 36, 2483, 106, 2484, 589, 354, 1, 2485],\n",
       " [62, 200, 424],\n",
       " [1447, 258, 31, 58, 91, 383],\n",
       " [31, 3, 28, 216, 81, 801, 24, 2486, 438, 312, 356],\n",
       " [355, 274, 669, 2487, 32, 18, 285, 52],\n",
       " [632, 19, 189, 13, 2488],\n",
       " [421, 422, 41, 317, 810, 494, 2489],\n",
       " [217, 58, 396, 775, 476, 58, 275, 989],\n",
       " [1509, 1, 971, 47, 1510],\n",
       " [2490, 116, 1],\n",
       " [2491, 1040, 89, 28, 127, 2492, 587],\n",
       " [249, 1, 400],\n",
       " [3, 185, 9],\n",
       " [18, 117, 40, 31],\n",
       " [42, 396, 1034, 1, 2493],\n",
       " [2494, 14, 9, 492, 2495],\n",
       " [134, 1511, 123, 383, 327, 1435],\n",
       " [10, 471, 1374, 1375, 624, 5],\n",
       " [173, 138, 25, 503, 208, 5],\n",
       " [285, 235, 498, 1356],\n",
       " [2496, 2497, 190, 384, 5, 1052, 153],\n",
       " [106],\n",
       " [141,\n",
       "  421,\n",
       "  422,\n",
       "  14,\n",
       "  3,\n",
       "  1512,\n",
       "  757,\n",
       "  581,\n",
       "  2498,\n",
       "  2499,\n",
       "  2500,\n",
       "  5,\n",
       "  1010,\n",
       "  2501,\n",
       "  34,\n",
       "  52,\n",
       "  248],\n",
       " [279, 1087, 44, 2502, 2503, 382, 833, 1320, 590, 9],\n",
       " [292],\n",
       " [543, 2504, 127, 42],\n",
       " [172, 2505, 14, 2506, 2507, 440, 206, 342, 141],\n",
       " [118, 5, 281, 99, 2508, 2509, 262, 258, 2510],\n",
       " [91, 474, 2511, 1513, 85, 5, 42],\n",
       " [1088, 413, 42, 25, 151, 203, 28, 125, 2512, 41, 2513],\n",
       " [2514, 1359, 834, 2515],\n",
       " [34, 26, 33, 17],\n",
       " [19, 32, 99],\n",
       " [18, 2516],\n",
       " [143, 53, 835, 1514, 26, 2517, 2518, 108, 1515, 119, 836],\n",
       " [394],\n",
       " [548, 1429, 18, 14, 250, 809, 2519],\n",
       " [1516, 14, 68, 2520],\n",
       " [837, 114, 2521, 47, 5, 786, 172, 573],\n",
       " [1483, 76, 2522, 1089, 112, 284, 80, 2523, 401, 815, 763],\n",
       " [16, 394, 795, 975, 68, 6, 92, 656, 1],\n",
       " [3, 31],\n",
       " [828, 254],\n",
       " [46, 198, 336, 69, 572, 838, 60],\n",
       " [172, 573, 2524, 10, 177, 1090, 2525],\n",
       " [25, 135, 154, 185, 2526, 5, 76],\n",
       " [185, 686, 1],\n",
       " [33, 34, 44, 86, 2527, 1091],\n",
       " [3, 168],\n",
       " [117, 40, 59],\n",
       " [1037],\n",
       " [3, 295],\n",
       " [5, 55, 53, 177, 2528, 1057, 586, 41, 320, 129],\n",
       " [1092, 30, 215],\n",
       " [134, 1000, 35, 28, 168, 32, 106, 38, 37, 30, 1517, 382],\n",
       " [821, 632, 1518, 677, 1051, 138, 130, 5, 224, 186, 2529, 1519],\n",
       " [154],\n",
       " [45, 18, 312, 2530, 662],\n",
       " [1501, 2531, 1093, 2532, 836, 9, 46],\n",
       " [14, 58, 278, 439],\n",
       " [413, 42, 10],\n",
       " [3,\n",
       "  649,\n",
       "  2533,\n",
       "  1367,\n",
       "  663,\n",
       "  504,\n",
       "  322,\n",
       "  199,\n",
       "  42,\n",
       "  2534,\n",
       "  400,\n",
       "  58,\n",
       "  2535,\n",
       "  663,\n",
       "  2536,\n",
       "  576],\n",
       " [42, 59, 791, 839],\n",
       " [394],\n",
       " [58, 59, 18, 169, 130],\n",
       " [3, 5],\n",
       " [134, 44, 1520, 390, 113, 215],\n",
       " [484, 1493, 137, 591, 2537, 142],\n",
       " [194, 2538],\n",
       " [840, 84, 443, 443],\n",
       " [1, 26, 640, 134, 134, 2539, 150, 81, 1094, 147, 73, 139, 225],\n",
       " [820, 792],\n",
       " [217, 1521, 74, 471, 2540, 1522, 25, 177, 57, 446, 3],\n",
       " [1, 14, 137],\n",
       " [48, 3, 295],\n",
       " [3, 48],\n",
       " [683, 231, 487],\n",
       " [841, 2541, 473, 187, 27],\n",
       " [14],\n",
       " [46, 128, 2542, 1, 295, 631, 2543, 1019, 5, 2544, 625],\n",
       " [185, 32, 33],\n",
       " [58, 687, 794],\n",
       " [379, 798, 5, 14, 17, 359, 1, 185, 563, 2545, 397, 842, 112, 2546],\n",
       " [2547, 776, 290],\n",
       " [8, 14, 58, 148],\n",
       " [44, 198, 86, 109, 102],\n",
       " [425, 1467, 106, 52, 17],\n",
       " [44, 86],\n",
       " [843, 1095, 276, 16, 292],\n",
       " [31, 571, 1449],\n",
       " [25, 479, 379, 5],\n",
       " [151],\n",
       " [18, 40],\n",
       " [773, 1523],\n",
       " [192, 5, 118, 36, 92, 158, 261, 202, 685, 375, 17],\n",
       " [666, 230, 5, 91, 6],\n",
       " [296, 282, 38, 38, 825, 6, 1469, 675],\n",
       " [1524, 42, 793],\n",
       " [642, 9, 22, 442],\n",
       " [1, 2548],\n",
       " [1, 59],\n",
       " [14],\n",
       " [16, 1, 31],\n",
       " [298, 14],\n",
       " [274, 383, 476, 64, 275, 42],\n",
       " [552, 138],\n",
       " [1096, 2549, 44, 1432],\n",
       " [146, 52, 1438, 103, 360, 6, 278, 387, 6],\n",
       " [98, 556, 5, 103, 108, 24, 170, 56, 681, 1413, 2550],\n",
       " [154, 154, 1515],\n",
       " [10, 492, 233],\n",
       " [2551, 1089, 1525, 1018, 1097, 139, 1031, 227, 214],\n",
       " [134, 492, 230, 5, 278, 391, 2552],\n",
       " [18, 107, 102, 1098, 15, 189, 13, 82, 390],\n",
       " [292, 37, 2553],\n",
       " [78, 125, 1498, 2554],\n",
       " [31, 487, 149, 63, 629, 1526, 198, 58, 1042, 2555, 42],\n",
       " [54],\n",
       " [285, 235, 809],\n",
       " [99, 688],\n",
       " [793, 13, 632],\n",
       " [1, 63, 48],\n",
       " [134, 64, 1021, 198],\n",
       " [47, 36],\n",
       " [33, 649, 207, 1476, 5, 1414, 1527],\n",
       " [1528, 264, 76],\n",
       " [31, 420, 431, 279, 2556, 52, 830],\n",
       " [148, 190],\n",
       " [14],\n",
       " [96, 2557],\n",
       " [14],\n",
       " [107, 167, 44, 556, 212, 570, 2558, 1099, 77, 2559],\n",
       " [78, 31, 72, 80],\n",
       " [124, 9, 660],\n",
       " [72, 80],\n",
       " [95, 142, 10, 485],\n",
       " [278, 95, 1],\n",
       " [59, 19, 129, 1489, 167, 1529, 258, 2560, 20, 1097, 167, 1529, 5],\n",
       " [18, 40, 141],\n",
       " [475, 32, 53, 3, 34, 1, 271, 1, 782, 2561],\n",
       " [36, 59, 114, 1, 190],\n",
       " [141, 314, 2562],\n",
       " [16, 1, 95, 145, 19, 995, 32, 21],\n",
       " [14, 137],\n",
       " [314, 32, 1, 9, 113],\n",
       " [345, 50, 35, 677, 17, 2563, 2564, 1043, 1360, 1022],\n",
       " [844, 6, 22, 27],\n",
       " [1, 26],\n",
       " [95, 56, 215, 30, 390],\n",
       " [33, 2565, 1386, 32],\n",
       " [33],\n",
       " [14, 1461, 159, 815, 2566],\n",
       " [381, 231, 1388, 1054, 662, 2567, 1082, 361],\n",
       " [2568, 112, 130, 759, 172, 2569, 1055],\n",
       " [769, 271],\n",
       " [1, 37, 106, 774, 171, 52],\n",
       " [808, 138],\n",
       " [1073, 1082, 35, 804, 95],\n",
       " [1081, 44, 584, 1474, 226, 670],\n",
       " [97, 626, 69, 304, 52, 2570, 1530],\n",
       " [19, 32, 21],\n",
       " [2571, 627, 227, 377, 763],\n",
       " [471, 349, 54, 795, 975, 2572, 2573, 584, 230, 960, 1531, 42],\n",
       " [1052, 206, 26, 402, 1007, 781, 34, 172],\n",
       " [106, 774, 85, 274, 669, 996, 651],\n",
       " [33, 31, 48],\n",
       " [15, 185],\n",
       " [31, 316, 26, 827, 294],\n",
       " [109, 148, 52],\n",
       " [3, 5],\n",
       " [138, 31, 449],\n",
       " [62, 31, 323, 46],\n",
       " [1073, 64, 226, 127, 324, 299, 353, 60, 273, 402, 98, 347, 1403, 276],\n",
       " [689, 1532, 46, 1393, 1533, 353, 431, 752],\n",
       " [78, 5, 2574],\n",
       " [1534, 338, 1066, 283],\n",
       " [27, 785, 42, 6, 32, 2575, 112, 230],\n",
       " [76, 52, 1488, 30, 434, 1100, 439, 360],\n",
       " [783, 1, 293, 390, 167, 28, 47],\n",
       " [586, 553, 59, 845, 26, 17, 100, 1384, 342, 2576, 2577, 2578, 31],\n",
       " [191],\n",
       " [225, 1020, 125, 1382, 20, 284, 2579, 505],\n",
       " [794, 1420, 422, 41, 1343, 2580],\n",
       " [1, 121, 581],\n",
       " [134, 61, 2581, 2582, 80],\n",
       " [116, 589, 28, 1101, 1101, 1101, 34, 54, 479, 775],\n",
       " [1437],\n",
       " [5, 1094, 690, 3, 690, 385, 5, 232, 161, 2583, 297, 305, 192],\n",
       " [107, 44, 5, 284, 23, 359, 2584],\n",
       " [1102, 2585, 846, 1070, 23, 12, 2586, 63, 2587, 439, 208, 556],\n",
       " [2588, 2589, 847, 1535],\n",
       " [14],\n",
       " [2590, 2591, 87, 389],\n",
       " [41, 38, 221, 573, 59],\n",
       " [22, 83, 76],\n",
       " [113, 95],\n",
       " [158, 5],\n",
       " [14, 1],\n",
       " [250, 437, 55, 347, 26, 168, 32, 68],\n",
       " [2592, 584, 5, 20, 476, 353, 842, 64],\n",
       " [3, 18, 16, 40],\n",
       " [28, 801, 296, 168, 1033],\n",
       " [192, 49, 487],\n",
       " [39, 55],\n",
       " [755, 547, 56, 21, 34, 1016],\n",
       " [792, 434, 2593],\n",
       " [198, 815, 1426, 2594, 5],\n",
       " [25, 583, 60, 835, 98, 25, 589],\n",
       " [146, 53, 2595, 273, 25, 1536, 2596, 2597, 108, 133, 170, 1537, 12, 98],\n",
       " [336, 1454, 432, 1103, 635, 5, 252],\n",
       " [32, 2598, 2599, 113, 215],\n",
       " [1357, 168, 32, 61],\n",
       " [10, 265, 506, 1538, 52, 262, 361],\n",
       " [81, 627, 450, 1, 5],\n",
       " [217, 432, 673, 977, 14, 137],\n",
       " [751, 500, 271, 109, 206],\n",
       " [1035],\n",
       " [1368, 584, 673, 2600],\n",
       " [127, 252, 125, 271, 848, 109, 2601],\n",
       " [2602, 53, 849, 134, 506, 176],\n",
       " [1104, 127, 1434, 42, 254, 34],\n",
       " [36, 646],\n",
       " [215, 256, 59],\n",
       " [507, 42],\n",
       " [41, 66, 351],\n",
       " [2603],\n",
       " [198],\n",
       " [5, 25, 1539, 134, 2604, 54, 592],\n",
       " [338, 171],\n",
       " [671, 2605, 1030, 28, 54, 592],\n",
       " [27, 3, 2606],\n",
       " [16, 10, 31, 250, 2607, 2608, 52, 87, 751],\n",
       " [146, 993, 1064, 550, 2609, 323, 338],\n",
       " [1448, 1010, 2610, 2611, 49, 113, 641],\n",
       " [156, 48, 59],\n",
       " [22, 28, 801, 312],\n",
       " [42, 31, 2612, 848, 1540, 81, 316, 2613, 2614, 2615, 14, 3],\n",
       " [49, 127],\n",
       " [28, 98, 1541, 12],\n",
       " [146, 403, 1105, 9, 5, 2616, 10, 1531, 5],\n",
       " [184, 2617, 165],\n",
       " [351, 198, 2618, 2619, 57, 440, 1048, 23],\n",
       " [393, 290, 1048],\n",
       " [1019, 140, 2620, 37, 142],\n",
       " [33, 31],\n",
       " [996, 87, 439, 360],\n",
       " [1106, 31],\n",
       " [5, 160, 221, 62, 449, 674, 5],\n",
       " [19, 123, 105, 788, 311],\n",
       " [2621, 5],\n",
       " [322, 123, 381, 14, 137],\n",
       " [106, 2622, 52, 2623, 20, 200, 99, 34, 38, 850, 52, 2624],\n",
       " [63, 271],\n",
       " [1482, 76, 1542],\n",
       " [35, 107, 58, 685, 9, 26, 96],\n",
       " [72, 80],\n",
       " [69, 46, 2625, 264, 31],\n",
       " [1473, 2626, 63, 629, 1526],\n",
       " [41, 1543, 5, 2627, 19, 490],\n",
       " [22, 107, 167, 59, 2628, 1544],\n",
       " [5, 477, 360],\n",
       " [14, 73, 225, 166],\n",
       " [2629, 2630, 276, 16, 2631, 42],\n",
       " [16, 66, 123, 14],\n",
       " [1107, 52],\n",
       " [2632, 6, 91, 1545],\n",
       " [66],\n",
       " [186, 1546, 143],\n",
       " [108, 25, 2633, 360, 499, 52, 354],\n",
       " [87, 389, 1533, 98, 5],\n",
       " [141, 988, 167],\n",
       " [37, 1108, 2634, 824, 2635, 2636],\n",
       " [1527, 98, 396, 39, 142],\n",
       " ...]"
      ]
     },
     "execution_count": 37,
     "metadata": {},
     "output_type": "execute_result"
    }
   ],
   "source": [
    "encoded_sentences"
   ]
  },
  {
   "cell_type": "code",
   "execution_count": 35,
   "metadata": {},
   "outputs": [
    {
     "name": "stdout",
     "output_type": "stream",
     "text": [
      "so there is no way for me to plug it in here in the us unless i go by a converter \n",
      "[43, 248, 101, 469, 24, 2031]\n"
     ]
    }
   ],
   "source": [
    "print(df.review[0])\n",
    "print(encoded_sentences[0])"
   ]
  },
  {
   "cell_type": "markdown",
   "metadata": {},
   "source": [
    "<a id=\"B2\"></a>\n",
    "### B2. Describe the Goals of the Tokenization Process, including Any Code Generated and Packages that are Used to Normalize Text During the Tokenization Process"
   ]
  },
  {
   "cell_type": "markdown",
   "metadata": {},
   "source": [
    "The goals of tokenization were to implement processes for removing stop words, lemmatizing, vectorizing, and padding the data. The tokenization above utilized the Tokenizer class from the Preprocessing module within TensorFlow.Keras. The WordNetLemmatizer, word_tokenizer, and stopwords modules from Natural Language Toolkit (nltk) were used to lemmatize the words and remove the stop words. The regular expressions module (re) was used above as well to remove punctuation from the sentences."
   ]
  },
  {
   "cell_type": "markdown",
   "metadata": {},
   "source": [
    "<a id=\"B3\"></a>\n",
    "### B3. Explain the padding process used to standardize the length of sequences. Include the following in your explanation:\n",
    "#### if the padding occurs before or after the text sequence and a screenshot of a single padded sequence"
   ]
  },
  {
   "cell_type": "markdown",
   "metadata": {},
   "source": [
    "The data input for TensorFlow needs to be equal length, the padding process achieves that requirement. The maximum length of the sequences was calculated first; the result of that calculation was 781. This value was used to apply the padding for each sentence of the list. The pad_sequences function from TensorFlow Keras was used to post-pad each sentence so that they would all be of equal length (781). Post-padding means that the extra zeros are added to the end of each sequence. The code below was sourced from Chen (2024)."
   ]
  },
  {
   "cell_type": "code",
   "execution_count": 38,
   "metadata": {},
   "outputs": [
    {
     "name": "stdout",
     "output_type": "stream",
     "text": [
      "[[  43  248  101 ...    0    0    0]\n",
      " [   1   59   33 ...    0    0    0]\n",
      " [   3  955    0 ...    0    0    0]\n",
      " ...\n",
      " [ 175  156   18 ...    0    0    0]\n",
      " [ 260   82 1922 ...    0    0    0]\n",
      " [ 333   63   86 ...    0    0    0]]\n"
     ]
    }
   ],
   "source": [
    "# Find the length of the longest sentence\n",
    "max_length = max(len(sentence) for sentence in encoded_sentences)\n",
    "\n",
    "# Pad the encoded sentences to the length of the longest sentence\n",
    "padded_sentences = pad_sequences(encoded_sentences, maxlen=max_length, padding='post', truncating='post')\n",
    "\n",
    "# Print the padded sentences\n",
    "print(padded_sentences)"
   ]
  },
  {
   "cell_type": "code",
   "execution_count": 39,
   "metadata": {},
   "outputs": [
    {
     "data": {
      "text/plain": [
       "781"
      ]
     },
     "execution_count": 39,
     "metadata": {},
     "output_type": "execute_result"
    }
   ],
   "source": [
    "max_length"
   ]
  },
  {
   "cell_type": "code",
   "execution_count": 40,
   "metadata": {},
   "outputs": [
    {
     "name": "stdout",
     "output_type": "stream",
     "text": [
      "[  43  248  101  469   24 2031    0    0    0    0    0    0    0    0\n",
      "    0    0    0    0    0    0    0    0    0    0    0    0    0    0\n",
      "    0    0    0    0    0    0    0    0    0    0    0    0    0    0\n",
      "    0    0    0    0    0    0    0    0    0    0    0    0    0    0\n",
      "    0    0    0    0    0    0    0    0    0    0    0    0    0    0\n",
      "    0    0    0    0    0    0    0    0    0    0    0    0    0    0\n",
      "    0    0    0    0    0    0    0    0    0    0    0    0    0    0\n",
      "    0    0    0    0    0    0    0    0    0    0    0    0    0    0\n",
      "    0    0    0    0    0    0    0    0    0    0    0    0    0    0\n",
      "    0    0    0    0    0    0    0    0    0    0    0    0    0    0\n",
      "    0    0    0    0    0    0    0    0    0    0    0    0    0    0\n",
      "    0    0    0    0    0    0    0    0    0    0    0    0    0    0\n",
      "    0    0    0    0    0    0    0    0    0    0    0    0    0    0\n",
      "    0    0    0    0    0    0    0    0    0    0    0    0    0    0\n",
      "    0    0    0    0    0    0    0    0    0    0    0    0    0    0\n",
      "    0    0    0    0    0    0    0    0    0    0    0    0    0    0\n",
      "    0    0    0    0    0    0    0    0    0    0    0    0    0    0\n",
      "    0    0    0    0    0    0    0    0    0    0    0    0    0    0\n",
      "    0    0    0    0    0    0    0    0    0    0    0    0    0    0\n",
      "    0    0    0    0    0    0    0    0    0    0    0    0    0    0\n",
      "    0    0    0    0    0    0    0    0    0    0    0    0    0    0\n",
      "    0    0    0    0    0    0    0    0    0    0    0    0    0    0\n",
      "    0    0    0    0    0    0    0    0    0    0    0    0    0    0\n",
      "    0    0    0    0    0    0    0    0    0    0    0    0    0    0\n",
      "    0    0    0    0    0    0    0    0    0    0    0    0    0    0\n",
      "    0    0    0    0    0    0    0    0    0    0    0    0    0    0\n",
      "    0    0    0    0    0    0    0    0    0    0    0    0    0    0\n",
      "    0    0    0    0    0    0    0    0    0    0    0    0    0    0\n",
      "    0    0    0    0    0    0    0    0    0    0    0    0    0    0\n",
      "    0    0    0    0    0    0    0    0    0    0    0    0    0    0\n",
      "    0    0    0    0    0    0    0    0    0    0    0    0    0    0\n",
      "    0    0    0    0    0    0    0    0    0    0    0    0    0    0\n",
      "    0    0    0    0    0    0    0    0    0    0    0    0    0    0\n",
      "    0    0    0    0    0    0    0    0    0    0    0    0    0    0\n",
      "    0    0    0    0    0    0    0    0    0    0    0    0    0    0\n",
      "    0    0    0    0    0    0    0    0    0    0    0    0    0    0\n",
      "    0    0    0    0    0    0    0    0    0    0    0    0    0    0\n",
      "    0    0    0    0    0    0    0    0    0    0    0    0    0    0\n",
      "    0    0    0    0    0    0    0    0    0    0    0    0    0    0\n",
      "    0    0    0    0    0    0    0    0    0    0    0    0    0    0\n",
      "    0    0    0    0    0    0    0    0    0    0    0    0    0    0\n",
      "    0    0    0    0    0    0    0    0    0    0    0    0    0    0\n",
      "    0    0    0    0    0    0    0    0    0    0    0    0    0    0\n",
      "    0    0    0    0    0    0    0    0    0    0    0    0    0    0\n",
      "    0    0    0    0    0    0    0    0    0    0    0    0    0    0\n",
      "    0    0    0    0    0    0    0    0    0    0    0    0    0    0\n",
      "    0    0    0    0    0    0    0    0    0    0    0    0    0    0\n",
      "    0    0    0    0    0    0    0    0    0    0    0    0    0    0\n",
      "    0    0    0    0    0    0    0    0    0    0    0    0    0    0\n",
      "    0    0    0    0    0    0    0    0    0    0    0    0    0    0\n",
      "    0    0    0    0    0    0    0    0    0    0    0    0    0    0\n",
      "    0    0    0    0    0    0    0    0    0    0    0    0    0    0\n",
      "    0    0    0    0    0    0    0    0    0    0    0    0    0    0\n",
      "    0    0    0    0    0    0    0    0    0    0    0    0    0    0\n",
      "    0    0    0    0    0    0    0    0    0    0    0    0    0    0\n",
      "    0    0    0    0    0    0    0    0    0    0    0]\n"
     ]
    }
   ],
   "source": [
    "print(padded_sentences[0])"
   ]
  },
  {
   "cell_type": "code",
   "execution_count": 41,
   "metadata": {},
   "outputs": [
    {
     "data": {
      "text/plain": [
       "(2748, 781)"
      ]
     },
     "execution_count": 41,
     "metadata": {},
     "output_type": "execute_result"
    }
   ],
   "source": [
    "padded_sentences.shape"
   ]
  },
  {
   "cell_type": "markdown",
   "metadata": {},
   "source": [
    "<a id=\"B4\"></a>\n",
    "### B4. Identify how many categories of sentiment will be used and an activation function for the final dense layer of the network"
   ]
  },
  {
   "cell_type": "markdown",
   "metadata": {},
   "source": [
    "Two categories of sentiment will be used, as the sentiment scores are 0 or 1. A positive sentiment was given a value of 1 and a negative sentiment was given a value of 0 (Kotzias et al., 2015).\n",
    "\n",
    "Since there are two categories of sentiment, it is a binary classification task. A sigmoid activation function will be used in the final dense layer, as this is a binary classification task. If there were more than one category of sentiment, a different activation function would have been chosen for the final dense layer of the network."
   ]
  },
  {
   "cell_type": "markdown",
   "metadata": {},
   "source": [
    "<a id=\"B5\"></a>\n",
    "### B5. Explain the Steps You Used to Prepare the Data for Analysis, Including the Size of the Training, Validation and Test Set Split (Based on the Industry Average)\n",
    "\n",
    "The code below was sourced from Ebner (2022). Given the large dataset, a 90:10 data split ratio was chosen, where 90% of the data is used to train the model, and 10% is used to test the model (Kumar, 2021)."
   ]
  },
  {
   "cell_type": "code",
   "execution_count": 45,
   "metadata": {},
   "outputs": [
    {
     "name": "stdout",
     "output_type": "stream",
     "text": [
      "X: (2748, 781)\n",
      "y (2748, 1)\n",
      "X_train: (2473, 781)\n",
      "y_train: (2473, 1)\n",
      "X_test: (275, 781)\n",
      "y_test: (275, 1)\n"
     ]
    }
   ],
   "source": [
    "X=padded_sentences\n",
    "y=df[['sentiment']]\n",
    "print('X:',X.shape)\n",
    "print('y',y.shape)\n",
    "# Creating training and test sets and setting random state for reproducibility\n",
    "X_train, X_test, y_train, y_test=train_test_split(X, y, test_size=.10, random_state=1, stratify=y)\n",
    "print('X_train: {}'.format(X_train.shape))\n",
    "print('y_train: {}'.format(y_train.shape))\n",
    "print('X_test: {}'.format(X_test.shape))\n",
    "print('y_test: {}'.format(y_test.shape))"
   ]
  },
  {
   "cell_type": "markdown",
   "metadata": {},
   "source": [
    "<a id=\"B6\"></a>\n",
    "### B6. Copy of Prepared Data Set"
   ]
  },
  {
   "cell_type": "code",
   "execution_count": 47,
   "metadata": {},
   "outputs": [],
   "source": [
    "# Convert NumPy arrays to DataFrames\n",
    "X_train_df = pd.DataFrame(X_train)\n",
    "X_test_df = pd.DataFrame(X_test)\n",
    "y_train_df = pd.DataFrame(y_train)\n",
    "y_test_df = pd.DataFrame(y_test)\n",
    "\n",
    "# Save DataFrames to CSV files\n",
    "X_train_df.to_csv('D213_SA_X_train.csv', index=False)\n",
    "X_test_df.to_csv('D213_SA_X_test.csv', index=False)\n",
    "y_train_df.to_csv('D213_SA_y_train.csv', index=False)\n",
    "y_test_df.to_csv('D213_SA_y_test.csv', index=False)"
   ]
  },
  {
   "cell_type": "markdown",
   "metadata": {},
   "source": [
    "<a id=\"P3\"></a>\n",
    "## Part III: Network Architecture"
   ]
  },
  {
   "cell_type": "markdown",
   "metadata": {},
   "source": [
    "<a id=\"C1\"></a>\n",
    "### C1. Provide the Output of the Model Summary of the Function from TensorFlow\n",
    "\n",
    "The code below was sourced from Mayo (2018)."
   ]
  },
  {
   "cell_type": "code",
   "execution_count": 42,
   "metadata": {},
   "outputs": [
    {
     "data": {
      "text/plain": [
       "(2748, 781)"
      ]
     },
     "execution_count": 42,
     "metadata": {},
     "output_type": "execute_result"
    }
   ],
   "source": [
    "padded_sentences.shape"
   ]
  },
  {
   "cell_type": "code",
   "execution_count": 73,
   "metadata": {},
   "outputs": [
    {
     "data": {
      "text/plain": [
       "781"
      ]
     },
     "execution_count": 73,
     "metadata": {},
     "output_type": "execute_result"
    }
   ],
   "source": [
    "max_length = max(len(sentence) for sentence in X_train)\n",
    "max_length"
   ]
  },
  {
   "cell_type": "code",
   "execution_count": 48,
   "metadata": {},
   "outputs": [
    {
     "name": "stdout",
     "output_type": "stream",
     "text": [
      "Model: \"sequential_1\"\n",
      "_________________________________________________________________\n",
      " Layer (type)                Output Shape              Param #   \n",
      "=================================================================\n",
      " dense_3 (Dense)             (None, 64)                50048     \n",
      "                                                                 \n",
      " dense_4 (Dense)             (None, 32)                2080      \n",
      "                                                                 \n",
      " dense_5 (Dense)             (None, 1)                 33        \n",
      "                                                                 \n",
      "=================================================================\n",
      "Total params: 52161 (203.75 KB)\n",
      "Trainable params: 52161 (203.75 KB)\n",
      "Non-trainable params: 0 (0.00 Byte)\n",
      "_________________________________________________________________\n"
     ]
    }
   ],
   "source": [
    "#Starting with a basic model before adjusting hyperparameters\n",
    "model = Sequential()\n",
    "model.add(Dense(64, activation='relu', input_shape=(781,)))  #retreived from padded_sentences.shape\n",
    "model.add(Dense(32, activation='relu'))  \n",
    "model.add(Dense(1, activation='sigmoid'))\n",
    "model.compile(loss='binary_crossentropy', optimizer='adam', metrics=['accuracy']) \n",
    "model.summary()"
   ]
  },
  {
   "cell_type": "code",
   "execution_count": 49,
   "metadata": {},
   "outputs": [
    {
     "name": "stdout",
     "output_type": "stream",
     "text": [
      "Epoch 1/5\n",
      "20/20 [==============================] - 1s 14ms/step - loss: 18.5361 - accuracy: 0.5160 - val_loss: 15.9278 - val_accuracy: 0.5018\n",
      "Epoch 2/5\n",
      "20/20 [==============================] - 0s 4ms/step - loss: 6.9680 - accuracy: 0.5216 - val_loss: 12.0948 - val_accuracy: 0.5382\n",
      "Epoch 3/5\n",
      "20/20 [==============================] - 0s 4ms/step - loss: 4.6725 - accuracy: 0.5180 - val_loss: 10.7441 - val_accuracy: 0.5164\n",
      "Epoch 4/5\n",
      "20/20 [==============================] - 0s 4ms/step - loss: 3.3668 - accuracy: 0.5265 - val_loss: 10.0982 - val_accuracy: 0.4982\n",
      "Epoch 5/5\n",
      "20/20 [==============================] - 0s 4ms/step - loss: 3.1796 - accuracy: 0.5576 - val_loss: 10.0799 - val_accuracy: 0.5055\n"
     ]
    }
   ],
   "source": [
    "early_stopping_monitor=EarlyStopping(patience=2)\n",
    "history = model.fit(X_train, y_train, epochs = 5, batch_size=128, validation_data=(X_test, y_test))"
   ]
  },
  {
   "cell_type": "markdown",
   "metadata": {},
   "source": [
    "**Adding layers and adjusting hyperparameters to try to improve accuracy**"
   ]
  },
  {
   "cell_type": "code",
   "execution_count": 53,
   "metadata": {},
   "outputs": [
    {
     "name": "stdout",
     "output_type": "stream",
     "text": [
      "Model: \"sequential_5\"\n",
      "_________________________________________________________________\n",
      " Layer (type)                Output Shape              Param #   \n",
      "=================================================================\n",
      " dense_12 (Dense)            (None, 128)               100096    \n",
      "                                                                 \n",
      " dropout_2 (Dropout)         (None, 128)               0         \n",
      "                                                                 \n",
      " dense_13 (Dense)            (None, 64)                8256      \n",
      "                                                                 \n",
      " dropout_3 (Dropout)         (None, 64)                0         \n",
      "                                                                 \n",
      " dense_14 (Dense)            (None, 32)                2080      \n",
      "                                                                 \n",
      " dense_15 (Dense)            (None, 1)                 33        \n",
      "                                                                 \n",
      "=================================================================\n",
      "Total params: 110465 (431.50 KB)\n",
      "Trainable params: 110465 (431.50 KB)\n",
      "Non-trainable params: 0 (0.00 Byte)\n",
      "_________________________________________________________________\n"
     ]
    }
   ],
   "source": [
    "#Adjusting hyperparameters\n",
    "model = Sequential()\n",
    "model.add(Dense(128, activation='relu', input_shape=(781,)))\n",
    "model.add(Dropout(0.5))  # Adding dropout for regularization\n",
    "model.add(Dense(64, activation='relu'))\n",
    "model.add(Dropout(0.3))  # Adding another dropout layer\n",
    "model.add(Dense(32, activation='relu'))\n",
    "model.add(Dense(1, activation='sigmoid'))\n",
    "model.compile(loss='binary_crossentropy', optimizer='adam', metrics=['accuracy'])\n",
    "model.summary()"
   ]
  },
  {
   "cell_type": "code",
   "execution_count": 55,
   "metadata": {},
   "outputs": [
    {
     "name": "stdout",
     "output_type": "stream",
     "text": [
      "Epoch 1/5\n",
      "39/39 [==============================] - 0s 5ms/step - loss: 1.1163 - accuracy: 0.5305 - val_loss: 0.9247 - val_accuracy: 0.4764\n",
      "Epoch 2/5\n",
      "39/39 [==============================] - 0s 4ms/step - loss: 1.1985 - accuracy: 0.5208 - val_loss: 0.7698 - val_accuracy: 0.4982\n",
      "Epoch 3/5\n",
      "39/39 [==============================] - 0s 4ms/step - loss: 1.4887 - accuracy: 0.5071 - val_loss: 0.7425 - val_accuracy: 0.5309\n",
      "Epoch 4/5\n",
      "39/39 [==============================] - 0s 4ms/step - loss: 1.0087 - accuracy: 0.5257 - val_loss: 0.7071 - val_accuracy: 0.5055\n",
      "Epoch 5/5\n",
      "39/39 [==============================] - 0s 4ms/step - loss: 1.0359 - accuracy: 0.5119 - val_loss: 0.7199 - val_accuracy: 0.5164\n"
     ]
    }
   ],
   "source": [
    "early_stopping_monitor=EarlyStopping(patience=2)\n",
    "history = model.fit(X_train, y_train, epochs=5, batch_size=64, validation_data=(X_test, y_test))"
   ]
  },
  {
   "cell_type": "code",
   "execution_count": 92,
   "metadata": {},
   "outputs": [
    {
     "name": "stdout",
     "output_type": "stream",
     "text": [
      "Model: \"sequential_16\"\n",
      "_________________________________________________________________\n",
      " Layer (type)                Output Shape              Param #   \n",
      "=================================================================\n",
      " embedding_10 (Embedding)    (None, 781, 8)            37216     \n",
      "                                                                 \n",
      " dense_35 (Dense)            (None, 781, 64)           576       \n",
      "                                                                 \n",
      " dropout_16 (Dropout)        (None, 781, 64)           0         \n",
      "                                                                 \n",
      " dense_36 (Dense)            (None, 781, 32)           2080      \n",
      "                                                                 \n",
      " dropout_17 (Dropout)        (None, 781, 32)           0         \n",
      "                                                                 \n",
      " dense_37 (Dense)            (None, 781, 1)            33        \n",
      "                                                                 \n",
      "=================================================================\n",
      "Total params: 39905 (155.88 KB)\n",
      "Trainable params: 39905 (155.88 KB)\n",
      "Non-trainable params: 0 (0.00 Byte)\n",
      "_________________________________________________________________\n"
     ]
    }
   ],
   "source": [
    "#Adjusting again\n",
    "vocab_size=4652\n",
    "embed_size=8\n",
    "model = Sequential()\n",
    "model.add(Embedding(vocab_size, embed_size, input_length=781)) \n",
    "model.add(Dense(64, activation='tanh', input_shape=(781,)))  #retreived from padded_sentences.shape\n",
    "model.add(Dropout(0.5))\n",
    "model.add(Dense(32, activation='tanh'))\n",
    "model.add(Dropout(0.5)) \n",
    "model.add(Dense(1, activation='sigmoid'))\n",
    "model.compile(loss='binary_crossentropy', optimizer='adam', metrics=['accuracy']) \n",
    "model.summary()"
   ]
  },
  {
   "cell_type": "code",
   "execution_count": 93,
   "metadata": {},
   "outputs": [
    {
     "name": "stdout",
     "output_type": "stream",
     "text": [
      "Epoch 1/5\n",
      "39/39 [==============================] - 5s 103ms/step - loss: 0.6936 - accuracy: 0.4964 - val_loss: 0.6931 - val_accuracy: 0.5069\n",
      "Epoch 2/5\n",
      "39/39 [==============================] - 4s 94ms/step - loss: 0.6936 - accuracy: 0.4937 - val_loss: 0.6931 - val_accuracy: 0.5065\n",
      "Epoch 3/5\n",
      "39/39 [==============================] - 4s 98ms/step - loss: 0.6935 - accuracy: 0.5010 - val_loss: 0.6931 - val_accuracy: 0.4946\n",
      "Epoch 4/5\n",
      "39/39 [==============================] - 4s 96ms/step - loss: 0.6933 - accuracy: 0.4982 - val_loss: 0.6931 - val_accuracy: 0.5074\n",
      "Epoch 5/5\n",
      "39/39 [==============================] - 4s 93ms/step - loss: 0.6936 - accuracy: 0.4845 - val_loss: 0.6931 - val_accuracy: 0.5074\n"
     ]
    }
   ],
   "source": [
    "early_stopping_monitor=EarlyStopping(patience=2)\n",
    "history = model.fit(X_train, y_train, epochs=5, batch_size=64, validation_data=(X_test, y_test))"
   ]
  },
  {
   "cell_type": "code",
   "execution_count": 94,
   "metadata": {},
   "outputs": [
    {
     "name": "stdout",
     "output_type": "stream",
     "text": [
      "Model: \"sequential_17\"\n",
      "_________________________________________________________________\n",
      " Layer (type)                Output Shape              Param #   \n",
      "=================================================================\n",
      " embedding_11 (Embedding)    (None, 781, 8)            37216     \n",
      "                                                                 \n",
      " lstm_12 (LSTM)              (None, 50)                11800     \n",
      "                                                                 \n",
      " dense_38 (Dense)            (None, 64)                3264      \n",
      "                                                                 \n",
      " dropout_18 (Dropout)        (None, 64)                0         \n",
      "                                                                 \n",
      " dense_39 (Dense)            (None, 32)                2080      \n",
      "                                                                 \n",
      " dropout_19 (Dropout)        (None, 32)                0         \n",
      "                                                                 \n",
      " dense_40 (Dense)            (None, 1)                 33        \n",
      "                                                                 \n",
      "=================================================================\n",
      "Total params: 54393 (212.47 KB)\n",
      "Trainable params: 54393 (212.47 KB)\n",
      "Non-trainable params: 0 (0.00 Byte)\n",
      "_________________________________________________________________\n",
      "Epoch 1/5\n",
      "39/39 [==============================] - 38s 847ms/step - loss: 0.6936 - accuracy: 0.5002 - val_loss: 0.6931 - val_accuracy: 0.5055\n",
      "Epoch 2/5\n",
      "39/39 [==============================] - 33s 854ms/step - loss: 0.6937 - accuracy: 0.4953 - val_loss: 0.6931 - val_accuracy: 0.5055\n",
      "Epoch 3/5\n",
      "39/39 [==============================] - 33s 834ms/step - loss: 0.6933 - accuracy: 0.5022 - val_loss: 0.6935 - val_accuracy: 0.4945\n",
      "Epoch 4/5\n",
      "39/39 [==============================] - 33s 856ms/step - loss: 0.6940 - accuracy: 0.5034 - val_loss: 0.6931 - val_accuracy: 0.5055\n",
      "Epoch 5/5\n",
      "39/39 [==============================] - 33s 839ms/step - loss: 0.6935 - accuracy: 0.4994 - val_loss: 0.6932 - val_accuracy: 0.4945\n"
     ]
    }
   ],
   "source": [
    "#And again\n",
    "vocab_size=4652\n",
    "embed_size=8\n",
    "model = Sequential()\n",
    "model.add(Embedding(vocab_size, embed_size, input_length=781)) \n",
    "model.add(LSTM(50, dropout=0.5, recurrent_dropout=0.5))\n",
    "model.add(Dense(64, activation='tanh', input_shape=(781,)))  #retreived from padded_sentences.shape\n",
    "model.add(Dropout(0.2))\n",
    "model.add(Dense(32, activation='tanh'))\n",
    "model.add(Dropout(0.2)) \n",
    "model.add(Dense(1, activation='sigmoid'))\n",
    "model.compile(loss='binary_crossentropy', optimizer='adam', metrics=['accuracy']) \n",
    "model.summary()\n",
    "early_stopping_monitor=EarlyStopping(patience=2)\n",
    "history = model.fit(X_train, y_train, epochs=5, batch_size=64, validation_data=(X_test, y_test))"
   ]
  },
  {
   "cell_type": "code",
   "execution_count": 68,
   "metadata": {},
   "outputs": [
    {
     "name": "stdout",
     "output_type": "stream",
     "text": [
      "Model: \"sequential_10\"\n",
      "_________________________________________________________________\n",
      " Layer (type)                Output Shape              Param #   \n",
      "=================================================================\n",
      " embedding_4 (Embedding)     (None, 781, 32)           148864    \n",
      "                                                                 \n",
      " lstm_2 (LSTM)               (None, 781, 100)          53200     \n",
      "                                                                 \n",
      " lstm_3 (LSTM)               (None, 50)                30200     \n",
      "                                                                 \n",
      " dense_22 (Dense)            (None, 64)                3264      \n",
      "                                                                 \n",
      " dropout_8 (Dropout)         (None, 64)                0         \n",
      "                                                                 \n",
      " dense_23 (Dense)            (None, 32)                2080      \n",
      "                                                                 \n",
      " dropout_9 (Dropout)         (None, 32)                0         \n",
      "                                                                 \n",
      " dense_24 (Dense)            (None, 1)                 33        \n",
      "                                                                 \n",
      "=================================================================\n",
      "Total params: 237641 (928.29 KB)\n",
      "Trainable params: 237641 (928.29 KB)\n",
      "Non-trainable params: 0 (0.00 Byte)\n",
      "_________________________________________________________________\n",
      "Epoch 1/10\n",
      "20/20 [==============================] - 133s 6s/step - loss: 0.6941 - accuracy: 0.4784 - val_loss: 0.6931 - val_accuracy: 0.5055\n",
      "Epoch 2/10\n",
      "20/20 [==============================] - 129s 6s/step - loss: 0.6938 - accuracy: 0.4820 - val_loss: 0.6932 - val_accuracy: 0.4945\n",
      "Epoch 3/10\n",
      "20/20 [==============================] - 130s 7s/step - loss: 0.6933 - accuracy: 0.4994 - val_loss: 0.6931 - val_accuracy: 0.5055\n",
      "Epoch 4/10\n",
      "20/20 [==============================] - 132s 7s/step - loss: 0.6937 - accuracy: 0.4909 - val_loss: 0.6931 - val_accuracy: 0.5055\n",
      "Epoch 5/10\n",
      "20/20 [==============================] - 131s 7s/step - loss: 0.6937 - accuracy: 0.4909 - val_loss: 0.6931 - val_accuracy: 0.5055\n",
      "Epoch 6/10\n",
      "20/20 [==============================] - 130s 6s/step - loss: 0.6937 - accuracy: 0.4772 - val_loss: 0.6931 - val_accuracy: 0.5055\n",
      "Epoch 7/10\n",
      "20/20 [==============================] - 127s 6s/step - loss: 0.6928 - accuracy: 0.5099 - val_loss: 0.6931 - val_accuracy: 0.5055\n",
      "Epoch 8/10\n",
      "20/20 [==============================] - 129s 6s/step - loss: 0.6938 - accuracy: 0.4978 - val_loss: 0.6931 - val_accuracy: 0.5055\n",
      "Epoch 9/10\n",
      "20/20 [==============================] - 154s 8s/step - loss: 0.6929 - accuracy: 0.5127 - val_loss: 0.6931 - val_accuracy: 0.5055\n",
      "Epoch 10/10\n",
      "20/20 [==============================] - 125s 6s/step - loss: 0.6936 - accuracy: 0.4982 - val_loss: 0.6931 - val_accuracy: 0.5055\n"
     ]
    }
   ],
   "source": [
    "#and again.............this is model#10. I deleted some of the older ones\n",
    "vocab_size = 4652\n",
    "embed_size = 8\n",
    "\n",
    "model = Sequential()\n",
    "model.add(Embedding(vocab_size, embed_size, input_length=781)) \n",
    "model.add(LSTM(100, dropout=0.5, recurrent_dropout=0.5, return_sequences=True))\n",
    "model.add(LSTM(50, dropout=0.5, recurrent_dropout=0.5))\n",
    "model.add(Dense(64, activation='relu'))\n",
    "model.add(Dropout(0.5))\n",
    "model.add(Dense(32, activation='relu'))\n",
    "model.add(Dropout(0.5)) \n",
    "model.add(Dense(1, activation='sigmoid'))\n",
    "model.compile(loss='binary_crossentropy', optimizer='adam', metrics=['accuracy']) \n",
    "model.summary()\n",
    "\n",
    "early_stopping_monitor = EarlyStopping(patience=2)\n",
    "history = model.fit(X_train, y_train, epochs=10, batch_size=128, validation_data=(X_test, y_test))"
   ]
  },
  {
   "cell_type": "code",
   "execution_count": 82,
   "metadata": {},
   "outputs": [
    {
     "name": "stdout",
     "output_type": "stream",
     "text": [
      "Model: \"sequential_14\"\n",
      "_________________________________________________________________\n",
      " Layer (type)                Output Shape              Param #   \n",
      "=================================================================\n",
      " embedding_8 (Embedding)     (None, 781, 32)           148864    \n",
      "                                                                 \n",
      " spatial_dropout1d (Spatial  (None, 781, 32)           0         \n",
      " Dropout1D)                                                      \n",
      "                                                                 \n",
      " lstm_8 (LSTM)               (None, 781, 128)          82432     \n",
      "                                                                 \n",
      " lstm_9 (LSTM)               (None, 64)                49408     \n",
      "                                                                 \n",
      " dense_31 (Dense)            (None, 64)                4160      \n",
      "                                                                 \n",
      " dropout_14 (Dropout)        (None, 64)                0         \n",
      "                                                                 \n",
      " dense_32 (Dense)            (None, 1)                 65        \n",
      "                                                                 \n",
      "=================================================================\n",
      "Total params: 284929 (1.09 MB)\n",
      "Trainable params: 284929 (1.09 MB)\n",
      "Non-trainable params: 0 (0.00 Byte)\n",
      "_________________________________________________________________\n",
      "Epoch 1/20\n",
      "39/39 [==============================] - 319s 8s/step - loss: 0.6938 - accuracy: 0.4978 - val_loss: 0.6931 - val_accuracy: 0.5055\n",
      "Epoch 2/20\n",
      "39/39 [==============================] - 312s 8s/step - loss: 0.6939 - accuracy: 0.4982 - val_loss: 0.6933 - val_accuracy: 0.5055\n",
      "Epoch 3/20\n",
      "39/39 [==============================] - 327s 8s/step - loss: 0.6937 - accuracy: 0.4877 - val_loss: 0.6933 - val_accuracy: 0.5055\n"
     ]
    }
   ],
   "source": [
    "#model 14..fingers crossed\n",
    "from tensorflow.keras.layers import SpatialDropout1D\n",
    "\n",
    "model = Sequential()\n",
    "model.add(Embedding(vocab_size, embed_size, input_length=781))\n",
    "model.add(SpatialDropout1D(0.2))  # Spatial dropout for embedding layer\n",
    "model.add(LSTM(128, dropout=0.2, recurrent_dropout=0.2, return_sequences=True))\n",
    "model.add(LSTM(64, dropout=0.2, recurrent_dropout=0.2))\n",
    "model.add(Dense(64, activation='relu'))\n",
    "model.add(Dropout(0.5))\n",
    "model.add(Dense(1, activation='sigmoid'))\n",
    "model.compile(loss='binary_crossentropy', optimizer='adam', metrics=['accuracy'])\n",
    "model.summary()\n",
    "\n",
    "early_stopping_monitor = EarlyStopping(patience=2)\n",
    "history = model.fit(X_train, y_train, epochs=20, batch_size=64, validation_data=(X_test, y_test), callbacks=[early_stopping_monitor])"
   ]
  },
  {
   "cell_type": "code",
   "execution_count": 83,
   "metadata": {},
   "outputs": [
    {
     "name": "stdout",
     "output_type": "stream",
     "text": [
      "Model: \"sequential_15\"\n",
      "_________________________________________________________________\n",
      " Layer (type)                Output Shape              Param #   \n",
      "=================================================================\n",
      " embedding_9 (Embedding)     (None, 781, 32)           148864    \n",
      "                                                                 \n",
      " spatial_dropout1d_1 (Spati  (None, 781, 32)           0         \n",
      " alDropout1D)                                                    \n",
      "                                                                 \n",
      " lstm_10 (LSTM)              (None, 781, 128)          82432     \n",
      "                                                                 \n",
      " lstm_11 (LSTM)              (None, 64)                49408     \n",
      "                                                                 \n",
      " dense_33 (Dense)            (None, 64)                4160      \n",
      "                                                                 \n",
      " dropout_15 (Dropout)        (None, 64)                0         \n",
      "                                                                 \n",
      " dense_34 (Dense)            (None, 1)                 65        \n",
      "                                                                 \n",
      "=================================================================\n",
      "Total params: 284929 (1.09 MB)\n",
      "Trainable params: 284929 (1.09 MB)\n",
      "Non-trainable params: 0 (0.00 Byte)\n",
      "_________________________________________________________________\n",
      "Epoch 1/20\n",
      "39/39 [==============================] - 342s 9s/step - loss: 0.6937 - accuracy: 0.4953 - val_loss: 0.6933 - val_accuracy: 0.4945\n",
      "Epoch 2/20\n",
      "39/39 [==============================] - 362s 9s/step - loss: 0.6947 - accuracy: 0.4856 - val_loss: 0.6934 - val_accuracy: 0.4945\n",
      "Epoch 3/20\n",
      "39/39 [==============================] - 400s 10s/step - loss: 0.6943 - accuracy: 0.4824 - val_loss: 0.6931 - val_accuracy: 0.5055\n",
      "Epoch 4/20\n",
      "39/39 [==============================] - 365s 9s/step - loss: 0.6933 - accuracy: 0.5006 - val_loss: 0.6931 - val_accuracy: 0.5055\n",
      "Epoch 5/20\n",
      "39/39 [==============================] - 366s 9s/step - loss: 0.6933 - accuracy: 0.5034 - val_loss: 0.6931 - val_accuracy: 0.5055\n",
      "Epoch 6/20\n",
      "39/39 [==============================] - 340s 9s/step - loss: 0.6935 - accuracy: 0.4945 - val_loss: 0.6931 - val_accuracy: 0.5055\n",
      "Epoch 7/20\n",
      "39/39 [==============================] - 345s 9s/step - loss: 0.6935 - accuracy: 0.4994 - val_loss: 0.6931 - val_accuracy: 0.5055\n"
     ]
    }
   ],
   "source": [
    "from tensorflow.keras.layers import SpatialDropout1D\n",
    "\n",
    "model = Sequential()\n",
    "model.add(Embedding(vocab_size, embed_size, input_length=781))\n",
    "model.add(SpatialDropout1D(0.5))  # Spatial dropout for embedding layer\n",
    "model.add(LSTM(128, dropout=0.5, recurrent_dropout=0.5, return_sequences=True))\n",
    "model.add(LSTM(64, dropout=0.5, recurrent_dropout=0.5))\n",
    "model.add(Dense(64, activation='relu'))\n",
    "model.add(Dropout(0.5))\n",
    "model.add(Dense(1, activation='sigmoid'))\n",
    "model.compile(loss='binary_crossentropy', optimizer='adam', metrics=['accuracy'])\n",
    "model.summary()\n",
    "\n",
    "early_stopping_monitor = EarlyStopping(patience=2)\n",
    "history = model.fit(X_train, y_train, epochs=20, batch_size=64, validation_data=(X_test, y_test), callbacks=[early_stopping_monitor])"
   ]
  },
  {
   "cell_type": "markdown",
   "metadata": {},
   "source": [
    "<a id=\"C2\"></a>\n",
    "### C2. Discuss the Number of Layers, the Type of Layers, and the Total Number of Parameters"
   ]
  },
  {
   "cell_type": "markdown",
   "metadata": {},
   "source": [
    "My final model consists of 7 layers. The first is an embedding layer, followed by the SpatialDropout1D layer, then 2 LSTM layers, then 1 dense layer, then a dropout layer, and finally a dense output layer. \n",
    "The embedding layer converts the input length I provided into vectors of the specified embed_size. The SpatialDropout1D layer randomly drops rows based on the given frequency. The Long Short-Term Memory (LSTM) layers are a type of Recurrent Neural Network (RNN) layers which can capture the long-term dependencies within the data. The dense layers are fully connected layers. They connect to the previous layer, one of the dense layers has a ReLU activation and the other is the output layer and has a sigmoid activation. The total number of parameters is 284,929 (note: I may try a couple more model iterations before submission, so this number may change slightly, however it is available in the model summary of the last model above, immediately after \"Total params\")."
   ]
  },
  {
   "cell_type": "markdown",
   "metadata": {},
   "source": [
    "<a id=\"C3\"></a>\n",
    "### C3. Justify the Choice of Hyperparameters, including the following elements:\n",
    "#### activation functions, number of nodes per layer, loss function, optimizer, stopping criteria, evaluation metric"
   ]
  },
  {
   "cell_type": "markdown",
   "metadata": {},
   "source": [
    "Activation Functions: The rectified linear units (ReLu) activation allows models to generate the output quicker and be more accurate and are often used in hidden layers because they can overcome the vanishing gradient issue (Brownlee, 2020). The sigmoid activation is often used at the output layer for binary classification tasks.\n",
    "\n",
    "Number of nodes per layer: The nodes were adjusted several times throughout the 15 model iterations in an attempt to improve accuracy of the model. The final nodes were 128 and 64 for the LSTM layers and 64 for the hidden dense layer. \n",
    "\n",
    "Loss Function:Since this model was a binary classification task, binary cross-entropy is the most commonly used loss function. It calculates the difference between the binary labels and the predicted probabilities of the output. \n",
    "\n",
    "Optimizer: The Adam optimizer was chosen for its advantages over other optimizers. It is able to adapt the learning rate for each parameter, which allows for a faster convergence.\n",
    "\n",
    "Stopping Criteria: A patience of 2 means that the training will cease if the validation loss does not improve for two consecutive epochs. \n",
    "\n",
    "Evaluation metric: Model.evaluate will be used in section D3 below to evaluate the model. It will calculate the model loss and accuracy. It can be helpful to detect overfitting, underfitting and convergence issues."
   ]
  },
  {
   "cell_type": "markdown",
   "metadata": {},
   "source": [
    "<a id=\"P4\"></a>\n",
    "## Part IV: Model Evaluation"
   ]
  },
  {
   "cell_type": "markdown",
   "metadata": {},
   "source": [
    "<a id=\"D1\"></a>\n",
    "### D1. Discuss the impact of using stopping criteria to include defining the number of epochs, including a screenshot showing the final training epoch"
   ]
  },
  {
   "cell_type": "markdown",
   "metadata": {},
   "source": [
    "Utilizing stopping criteria prevents overfitting, conserves computer resources and stops the epoch iterations when the model isn't improving and has hit a plateau. The epochs can be seen in section C1 above."
   ]
  },
  {
   "cell_type": "markdown",
   "metadata": {},
   "source": [
    "<a id=\"D2\"></a>\n",
    "### D2. Assess the fitness of the model and any actions taken to address overfitting"
   ]
  },
  {
   "cell_type": "markdown",
   "metadata": {},
   "source": [
    "Early stopping was implemented with a patience of 2, and the hyperparameters were adjusted throughout the 15 model iterations to address any overfitting if it occurred."
   ]
  },
  {
   "cell_type": "markdown",
   "metadata": {},
   "source": [
    "<a id=\"D3\"></a>\n",
    "### D3. Provide visualizations of the model’s training process, including a line graph of the loss and chosen evaluation metric"
   ]
  },
  {
   "cell_type": "code",
   "execution_count": 86,
   "metadata": {},
   "outputs": [
    {
     "name": "stdout",
     "output_type": "stream",
     "text": [
      "Test Loss: 0.693087637424469\n",
      "Test accuracy: 0.5054545402526855\n"
     ]
    }
   ],
   "source": [
    "result=model.evaluate(X_test, y_test, verbose = 0)\n",
    "print ('Test Loss:', result[0])\n",
    "print ('Test accuracy:', result[1])"
   ]
  },
  {
   "cell_type": "code",
   "execution_count": 88,
   "metadata": {},
   "outputs": [
    {
     "data": {
      "image/png": "[encoded data removed]",
      "text/plain": [
       "<Figure size 432x288 with 1 Axes>"
      ]
     },
     "metadata": {
      "needs_background": "light"
     },
     "output_type": "display_data"
    },
    {
     "data": {
      "image/png": "[encoded data removed]",
      "text/plain": [
       "<Figure size 432x288 with 1 Axes>"
      ]
     },
     "metadata": {
      "needs_background": "light"
     },
     "output_type": "display_data"
    }
   ],
   "source": [
    "plt.title('Model Accuracy')\n",
    "plt.xlabel('Epoch')\n",
    "plt.ylabel('Accuracy')\n",
    "plt.plot(history.history['accuracy'], label='Train Accuracy')\n",
    "plt.plot(history.history['val_accuracy'], label='Test Accuracy')\n",
    "plt.legend()\n",
    "plt.show()\n",
    "\n",
    "plt.title('Model Loss')\n",
    "plt.xlabel('Epoch')\n",
    "plt.ylabel('Loss')\n",
    "plt.plot(history.history['loss'], label='Train Loss')\n",
    "plt.plot(history.history['val_loss'], label='Test Loss')\n",
    "plt.legend()\n",
    "plt.show()"
   ]
  },
  {
   "cell_type": "markdown",
   "metadata": {},
   "source": [
    "<a id=\"D4\"></a>\n",
    "### D4. Discuss the predictive accuracy of the trained network using the chosen evaluation metric from part D3"
   ]
  },
  {
   "cell_type": "markdown",
   "metadata": {},
   "source": [
    "The training loss and validation loss values are very close, at around 70%. The training accuracy and validation accuracy are both around 50%. At 50%, the model is no better than guessing at random. This shows that the model is not capturing underlying patterns within the data. "
   ]
  },
  {
   "cell_type": "markdown",
   "metadata": {},
   "source": [
    "<a id=\"P5\"></a>\n",
    "## Part V: Summary and Recommendations"
   ]
  },
  {
   "cell_type": "markdown",
   "metadata": {},
   "source": [
    "<a id=\"E\"></a>\n",
    "### E. Provide the Code You Used to Save the Trained Network Within the Neural Network"
   ]
  },
  {
   "cell_type": "code",
   "execution_count": 89,
   "metadata": {},
   "outputs": [],
   "source": [
    "model.save('trained_model.keras')"
   ]
  },
  {
   "cell_type": "markdown",
   "metadata": {},
   "source": [
    "<a id=\"F\"></a>\n",
    "### F. Discuss the functionality of your neural network, including the impact of the network architecture"
   ]
  },
  {
   "cell_type": "markdown",
   "metadata": {},
   "source": [
    "The data consisted of 2,748 customer reviews. 2,473 of those reviews were used to train the model, and 275 were used to test the model. If the model was more accurate, it could have been used to predict customer sentiment based on the text of their review, to determine if their review had a positive or negative sentiment.\n",
    "The architecture of the neural network did not improve the accuracy. That architecture could be adjusted in the future in an effort to improve the model. However, with accuracy around 50%, the architecture possibly hindered the model."
   ]
  },
  {
   "cell_type": "markdown",
   "metadata": {},
   "source": [
    "<a id=\"G\"></a>\n",
    "### G. Recommended Course of Action"
   ]
  },
  {
   "cell_type": "markdown",
   "metadata": {},
   "source": [
    "Given the low predictive accuracy of the model, the organizations should not use the model for decision-making processes. The organizations could conduct a thorough evaluation of the model by further adjusting the hyperparameters, sizes of the training data, and the architecture of the model. However, the organizations could also look to the data quality and data size.  Regardless of the course of action taken, this model is not ready to be implemented with an accuracy score of around 50%."
   ]
  },
  {
   "cell_type": "markdown",
   "metadata": {},
   "source": [
    "<a id=\"I\"></a>\n",
    "### Code Sources"
   ]
  },
  {
   "cell_type": "markdown",
   "metadata": {},
   "source": [
    "Chen, A. (2024). *Deep learning: A simple example.* Github. https://alvinntnu.github.io/NTNU_ENC2045_LECTURES/nlp/dl-simple-case.html\n",
    "\n",
    "Datacamp. (n.d). *Sentiment Analysis*. https://app.datacamp.com/learn/courses/sentiment-analysis-in-python\n",
    "\n",
    "Ebner, J. (2022). *How to use sklearn train_test_split in python.* Sharp Sight. https://www.sharpsightlabs.com/blog/scikit-train_test_split/\n",
    "\n",
    "Gupta, K. (2023). *Remove punctuation from string using python (4 best methods).* Favtutor. https://favtutor.com/blogs/remove-punctuation-from-string-python\n",
    "\n",
    "Kumar, A. (2021). *Machine learning - training, validation and test data set.* Analytics Yogi. https://vitalflux.com/machine-learning-training-validation-test-data-set/\n",
    "\n",
    "Mayo, M. (2018). *Building a basic Keras neural network sequential model.* KD Nuggets. https://www.kdnuggets.com/2018/06/basic-keras-neural-network-sequential-model.html\n",
    "\n",
    "Python Spot. (2023). *NLTK stop words.* https://pythonspot.com/nltk-stop-words/"
   ]
  },
  {
   "cell_type": "markdown",
   "metadata": {},
   "source": [
    "<a id=\"J\"></a>\n",
    "### Additional Sources"
   ]
  },
  {
   "cell_type": "markdown",
   "metadata": {},
   "source": [
    "Bilogur, A. (2020). *Techniques for handling sequence length in RNNs.* Kaggle. https://www.kaggle.com/code/residentmario/techniques-for-handling-sequence-length-in-rnns\n",
    "\n",
    "Brownlee, J. (2020). *A gentle introduction to the rectified linear unit (ReLU).* Machine Learning Mastery. https://machinelearningmastery.com/rectified-linear-activation-function-for-deep-learning-neural-networks/\n",
    "\n",
    "Huseby, K. (2020). *Word embeddings, what are they?* Towards Data Science. https://towardsdatascience.com/word-embeddings-what-are-they-really-f106e1ff0874\n",
    "\n",
    "Kotzias, D., Denil, M., Freitas, N.D., & Smyth, P. (2015). From Group to Individual Labels Using Deep Features. *Proceedings of the 21th ACM SIGKDD International Conference on Knowledge Discovery and Data Mining.* DOI:10.1145/2783258.2783380"
   ]
  }
 ],
 "metadata": {
  "kernelspec": {
   "display_name": "Python 3",
   "language": "python",
   "name": "python3"
  },
  "language_info": {
   "codemirror_mode": {
    "name": "ipython",
    "version": 3
   },
   "file_extension": ".py",
   "mimetype": "text/x-python",
   "name": "python",
   "nbconvert_exporter": "python",
   "pygments_lexer": "ipython3",
   "version": "3.8.5"
  }
 },
 "nbformat": 4,
 "nbformat_minor": 4
}
