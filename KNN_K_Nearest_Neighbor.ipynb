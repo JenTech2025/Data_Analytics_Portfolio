{
 "cells": [
  {
   "cell_type": "markdown",
   "metadata": {},
   "source": [
    "# K-Nearest Neighbor (k-NN)"
   ]
  },
  {
   "cell_type": "markdown",
   "metadata": {},
   "source": [
    "## Part I: Research Question"
   ]
  },
  {
   "cell_type": "markdown",
   "metadata": {},
   "source": [
    "### A1. Research Question"
   ]
  },
  {
   "cell_type": "markdown",
   "metadata": {},
   "source": [
    "With the available data, can we use k-nearest neighbor's method to classify if a subscriber is at high likelihood for churn?"
   ]
  },
  {
   "cell_type": "markdown",
   "metadata": {},
   "source": [
    "### A2. One Goal of the Data Analysis"
   ]
  },
  {
   "cell_type": "markdown",
   "metadata": {},
   "source": [
    "The primary goal of this data analysis is, with the available data, and utilizing k-nearest neighbors (k-NN), to formulate a machine learning model that can be used by the company to predict customers who are at high likelihood for churn. The goal is to recommend a course of action for the company to reduce subscriber churn."
   ]
  },
  {
   "cell_type": "markdown",
   "metadata": {},
   "source": [
    "## Part II: Method Justification"
   ]
  },
  {
   "cell_type": "markdown",
   "metadata": {},
   "source": [
    "### B1. How the Chosen Classification Method Analyzes the Data Set and Expected Outcomes"
   ]
  },
  {
   "cell_type": "markdown",
   "metadata": {},
   "source": [
    "The chosen machine learning algorithm, k-nearest neighbor (k-NN), will be used for classification. When given a data point, it will begin by looking at 'k' nearest data points and will determine the classification based on the majority of 'k' nearest data points. The classification prediction will be dependent on the the features have been scaled, the chosen 'k' value, and how similarity will be measured, that is the distance metric utilized (Bruce et al., 2020). The expected outcomes of k-NN will be the classification of the data point, based on the majority of 'k' nearest data points. The accuracy of the classification prediction will be dependent on the factors mentioned, and these hyperparameters can be tuned to achieve the best possible results."
   ]
  },
  {
   "cell_type": "markdown",
   "metadata": {},
   "source": [
    "### B2. One Assumption of the Chosen Classification Method"
   ]
  },
  {
   "cell_type": "markdown",
   "metadata": {},
   "source": [
    "One assumption of k-nearest neighbor (k-NN) is that if a single data point is distanced far from a group of data points, it is not similar to that group of data points, that is the similarity or disimilarity between the data points is based on a distance metric, usually utilizing Euclidean distance (Bruce et al., 2020)."
   ]
  },
  {
   "cell_type": "markdown",
   "metadata": {},
   "source": [
    "### B3. Chosen Packages and Libraries and their use in the Analysis"
   ]
  },
  {
   "cell_type": "markdown",
   "metadata": {},
   "source": [
    "Python will be used for its readability and the availability of packages and libraries for use in data analysis (Larose & Larose, 2019). The libraries and packages chosen include Pandas, Numpy, Scikit-Learn, Matplotlib, and Seaborn. Pandas will be used to import data (Vallisneri, 2018). Utilizing the Matplotlib's plot function is good at creating plots to visualize the data (Larose & Larose, 2019). Matplotlib's pyplot will be used to create a ROC curve visualization. Numpy will be utilized to create object arrays. Seaborn will be used for visualizations. Scikit-Learn packages will be used for splitting, utilizing k-NN, classifying, scaling and metrics."
   ]
  },
  {
   "cell_type": "markdown",
   "metadata": {},
   "source": [
    "## Part III: Data Preparation"
   ]
  },
  {
   "cell_type": "markdown",
   "metadata": {},
   "source": [
    "### C1. One Data Preprocessing Goal"
   ]
  },
  {
   "cell_type": "markdown",
   "metadata": {},
   "source": [
    "The goals of data preparation include identification of data types, detection of missing values, reviewing values of categorical variables, and detection of outliers. Additionally, categorical variables will be checked for spelling errors. Categorical variables will be converted to numeric for ease during the data analysis process.\n",
    "Since k-NN will be used, scaling and stardardizing will be important as they impact the accuracy of the model."
   ]
  },
  {
   "cell_type": "markdown",
   "metadata": {},
   "source": [
    "### C2. Relevant variables in Initial Data Set and their Classifications"
   ]
  },
  {
   "cell_type": "markdown",
   "metadata": {},
   "source": [
    "The churn data contains information on 10,000 customers across various variables.  Unique customer identifiers, customers' geographic location information, customers' jobs were excluded from analysis.\n",
    "\n",
    "The target variable, Churn, was included in the analysis along with 34 other features: Children, Age, Income, Marital, Gender, MonthlyCharge, Outage_sec_perweek, Email, Contacts, Yearly_equip_failure, Techie, Contract, Port_modem, Tablet, InternetService, Phone, Multiple, OnlineSecurity, OnlineBackup, DeviceProtection, TechSupport, StreamingTV, StreamingMovies, PaperlessBilling, PaymentMethod, Tenure, Bandwidth_GB_Year, and the survey data Items 1 through 8.\n",
    "\n",
    "The target variable, Churn, is a binary categorical variable. That is, two possible values for the variable are Yes and No. Of the 10,000 records, 7,350 of then have 'No' for this variable, that is the represent a subscriber that did not churn, or leave the company. Of those 10,000, 2,650 of them did churn. \n",
    "\n",
    "Among the continuous variables, Children, Income and Yearly_equip_failure and Contacts had positively skewed distributions. Email and Outage_sec_perweek had normal distributions. Age had a uniform distribution. Tenure and Bandwidth_GB_Year had bimodal distributions.\n",
    "\n",
    "The income ranged from a minimum of approximately \\\\$350, to a maximum of approximately \\\\$260,000, with an average mean income of approximately \\\\$40,000.  The number of children per customer ranged from 0 to 10, with the average being 2.  \n",
    "\n",
    "The customer ages ranged from 18 to 89, with an average age of around 53 years of age. The tenure, or number of months the customer has been with the provider ranged from 1 month to 72 months, with a mean tenure of approximately 35 months.\n",
    "\n",
    "The monthly charge ranged from approximately \\\\$80 to \\\\$290 per month. The average monthly charge was approximately \\\\$172 per month. While most customers had phone service, the use of streaming tv and movies was split amongst the customers, with half using the features, and the other half not using them.\n",
    "\n",
    "Variables: Continuous vs Categorical\n",
    "\n",
    "   The continuous variables include:\n",
    "       CaseOrder, Zip, Lat, Lng, Population, Children, Age, Income, Outage_sec_perweek, Email, Contacts, Yearly_equip_failure, Tenure, MonthlyCharge, Bandwith_GB_Year, Item1, Item2, Item3, Item4, Item5, Item6, Item7, Item8\n",
    "       \n",
    "   The categorical variables include:\n",
    "       Customer_id, Interaction, UID, City, State, County, Area, Timezone, Job, Marital, Gender, Churn, Techie, Contract, Port_modem, Tablet, InternetService, Phone, Multiple, OnlineSecurity, OnlineBackup, DeviceProtection, TechSupport, StreamingTV, StreamingMovies, PaperlessBilling, PaymentMethod."
   ]
  },
  {
   "cell_type": "markdown",
   "metadata": {},
   "source": [
    "### C3. Data Preparation Steps and the code for Each Step"
   ]
  },
  {
   "cell_type": "markdown",
   "metadata": {},
   "source": [
    "After importing the necessary packages and libraries, the raw dataset will be imported.\n",
    "\n",
    "The .info function will be used to view the column names and datatypes.\n",
    "\n",
    "The total missing values in each column will be calculated using the isnull().sum() function. If necessary, imputation will be performed to replace the missing values with the appropriate mean, median or mode using the .fillna function.\n",
    "\n",
    "Univariate and bivariate visualizations will be generated to examine the distributions of the variables. Histograms will be created of the continuous variables to view the distributions. To detect outliers, boxplots will be utilized. If necessary to treat outliers, additional analysis will be conducted to determine if the outliers should be removed, retained, excluded or replaced.\n",
    "\n",
    "Scatterplots will be used to view correlations between variables.\n",
    "\n",
    "Categorical variables will be assessed for unique values and be encoded for ease during data analysis.\n",
    "\n",
    "Additional data preparation will be conducted that is specific to utilizing the k-NN algorithm:\n",
    "SciKit-Learn's SelectKBest will be used for selection of the variables to improve model accuracy. \n",
    "\n",
    "Lastly, the prepared dataset will be extracted."
   ]
  },
  {
   "cell_type": "code",
   "execution_count": 16,
   "metadata": {},
   "outputs": [
    {
     "data": {
      "text/plain": [
       "('Python version used during this analysis:', '3.8.5')"
      ]
     },
     "execution_count": 16,
     "metadata": {},
     "output_type": "execute_result"
    }
   ],
   "source": [
    "from platform import python_version\n",
    "(\"Python version used during this analysis:\", python_version())"
   ]
  },
  {
   "cell_type": "markdown",
   "metadata": {},
   "source": [
    "This version of python continues to support the print() statement, and it will be used in the following analysis."
   ]
  },
  {
   "cell_type": "code",
   "execution_count": 17,
   "metadata": {},
   "outputs": [
    {
     "name": "stdout",
     "output_type": "stream",
     "text": [
      "Done.\n"
     ]
    }
   ],
   "source": [
    "import numpy as np\n",
    "\n",
    "import pandas as pd\n",
    "from pandas import Series, DataFrame\n",
    "\n",
    "import pylab\n",
    "\n",
    "import statistics\n",
    "\n",
    "from scipy import stats\n",
    "from scipy.stats import chisquare\n",
    "from scipy.stats import chi2_contingency\n",
    "\n",
    "import statsmodels.api as sm\n",
    "import statsmodels.formula.api as smf\n",
    "from statsmodels.stats.outliers_influence import variance_inflation_factor\n",
    "from statsmodels.tools.tools import add_constant\n",
    "\n",
    "import matplotlib\n",
    "import matplotlib.pyplot as plt\n",
    "%matplotlib inline \n",
    "\n",
    "import sklearn\n",
    "from sklearn import preprocessing\n",
    "from sklearn import datasets\n",
    "from sklearn import metrics\n",
    "from sklearn.neighbors import KNeighborsClassifier\n",
    "from sklearn.metrics import mean_squared_error, r2_score, mean_absolute_error\n",
    "from sklearn.metrics import classification_report\n",
    "from sklearn.metrics import accuracy_score\n",
    "from sklearn.metrics import confusion_matrix\n",
    "from sklearn.metrics import roc_curve\n",
    "from sklearn.metrics import roc_auc_score\n",
    "from sklearn.pipeline import Pipeline\n",
    "from sklearn.preprocessing import StandardScaler\n",
    "from sklearn.model_selection import train_test_split\n",
    "from sklearn.model_selection import cross_val_score\n",
    "from sklearn.model_selection import GridSearchCV\n",
    "from sklearn.feature_selection import SelectKBest, f_classif\n",
    "\n",
    "import seaborn as sns\n",
    "\n",
    "import warnings\n",
    "warnings.filterwarnings('ignore')\n",
    "\n",
    "print(\"Done.\")"
   ]
  },
  {
   "cell_type": "code",
   "execution_count": 18,
   "metadata": {},
   "outputs": [
    {
     "name": "stdout",
     "output_type": "stream",
     "text": [
      "Imported.\n"
     ]
    }
   ],
   "source": [
    "churn_df=pd.read_csv('Desktop/WGU/D208/churn_clean.csv')\n",
    "print(\"Imported.\")"
   ]
  },
  {
   "cell_type": "code",
   "execution_count": 19,
   "metadata": {},
   "outputs": [
    {
     "data": {
      "text/html": [
       "<style>.container { width:95% !important; }</style>"
      ],
      "text/plain": [
       "<IPython.core.display.HTML object>"
      ]
     },
     "metadata": {},
     "output_type": "display_data"
    },
    {
     "name": "stdout",
     "output_type": "stream",
     "text": [
      "Display size adjusted.\n"
     ]
    }
   ],
   "source": [
    "from IPython.core.display import display, HTML\n",
    "display(HTML(\"<style>.container { width:95% !important; }</style>\"))\n",
    "pd.set_option('display.max_columns', 60)\n",
    "\n",
    "print(\"Display size adjusted.\")"
   ]
  },
  {
   "cell_type": "code",
   "execution_count": 20,
   "metadata": {
    "scrolled": true
   },
   "outputs": [
    {
     "data": {
      "text/html": [
       "<div>\n",
       "<style scoped>\n",
       "    .dataframe tbody tr th:only-of-type {\n",
       "        vertical-align: middle;\n",
       "    }\n",
       "\n",
       "    .dataframe tbody tr th {\n",
       "        vertical-align: top;\n",
       "    }\n",
       "\n",
       "    .dataframe thead th {\n",
       "        text-align: right;\n",
       "    }\n",
       "</style>\n",
       "<table border=\"1\" class=\"dataframe\">\n",
       "  <thead>\n",
       "    <tr style=\"text-align: right;\">\n",
       "      <th></th>\n",
       "      <th>CaseOrder</th>\n",
       "      <th>Customer_id</th>\n",
       "      <th>Interaction</th>\n",
       "      <th>UID</th>\n",
       "      <th>City</th>\n",
       "      <th>State</th>\n",
       "      <th>County</th>\n",
       "      <th>Zip</th>\n",
       "      <th>Lat</th>\n",
       "      <th>Lng</th>\n",
       "      <th>Population</th>\n",
       "      <th>Area</th>\n",
       "      <th>TimeZone</th>\n",
       "      <th>Job</th>\n",
       "      <th>Children</th>\n",
       "      <th>Age</th>\n",
       "      <th>Income</th>\n",
       "      <th>Marital</th>\n",
       "      <th>Gender</th>\n",
       "      <th>Churn</th>\n",
       "      <th>Outage_sec_perweek</th>\n",
       "      <th>Email</th>\n",
       "      <th>Contacts</th>\n",
       "      <th>Yearly_equip_failure</th>\n",
       "      <th>Techie</th>\n",
       "      <th>Contract</th>\n",
       "      <th>Port_modem</th>\n",
       "      <th>Tablet</th>\n",
       "      <th>InternetService</th>\n",
       "      <th>Phone</th>\n",
       "      <th>Multiple</th>\n",
       "      <th>OnlineSecurity</th>\n",
       "      <th>OnlineBackup</th>\n",
       "      <th>DeviceProtection</th>\n",
       "      <th>TechSupport</th>\n",
       "      <th>StreamingTV</th>\n",
       "      <th>StreamingMovies</th>\n",
       "      <th>PaperlessBilling</th>\n",
       "      <th>PaymentMethod</th>\n",
       "      <th>Tenure</th>\n",
       "      <th>MonthlyCharge</th>\n",
       "      <th>Bandwidth_GB_Year</th>\n",
       "      <th>Item1</th>\n",
       "      <th>Item2</th>\n",
       "      <th>Item3</th>\n",
       "      <th>Item4</th>\n",
       "      <th>Item5</th>\n",
       "      <th>Item6</th>\n",
       "      <th>Item7</th>\n",
       "      <th>Item8</th>\n",
       "    </tr>\n",
       "  </thead>\n",
       "  <tbody>\n",
       "    <tr>\n",
       "      <th>0</th>\n",
       "      <td>1</td>\n",
       "      <td>K409198</td>\n",
       "      <td>aa90260b-4141-4a24-8e36-b04ce1f4f77b</td>\n",
       "      <td>e885b299883d4f9fb18e39c75155d990</td>\n",
       "      <td>Point Baker</td>\n",
       "      <td>AK</td>\n",
       "      <td>Prince of Wales-Hyder</td>\n",
       "      <td>99927</td>\n",
       "      <td>56.25100</td>\n",
       "      <td>-133.37571</td>\n",
       "      <td>38</td>\n",
       "      <td>Urban</td>\n",
       "      <td>America/Sitka</td>\n",
       "      <td>Environmental health practitioner</td>\n",
       "      <td>0</td>\n",
       "      <td>68</td>\n",
       "      <td>28561.99</td>\n",
       "      <td>Widowed</td>\n",
       "      <td>Male</td>\n",
       "      <td>No</td>\n",
       "      <td>7.978323</td>\n",
       "      <td>10</td>\n",
       "      <td>0</td>\n",
       "      <td>1</td>\n",
       "      <td>No</td>\n",
       "      <td>One year</td>\n",
       "      <td>Yes</td>\n",
       "      <td>Yes</td>\n",
       "      <td>Fiber Optic</td>\n",
       "      <td>Yes</td>\n",
       "      <td>No</td>\n",
       "      <td>Yes</td>\n",
       "      <td>Yes</td>\n",
       "      <td>No</td>\n",
       "      <td>No</td>\n",
       "      <td>No</td>\n",
       "      <td>Yes</td>\n",
       "      <td>Yes</td>\n",
       "      <td>Credit Card (automatic)</td>\n",
       "      <td>6.795513</td>\n",
       "      <td>172.455519</td>\n",
       "      <td>904.536110</td>\n",
       "      <td>5</td>\n",
       "      <td>5</td>\n",
       "      <td>5</td>\n",
       "      <td>3</td>\n",
       "      <td>4</td>\n",
       "      <td>4</td>\n",
       "      <td>3</td>\n",
       "      <td>4</td>\n",
       "    </tr>\n",
       "    <tr>\n",
       "      <th>1</th>\n",
       "      <td>2</td>\n",
       "      <td>S120509</td>\n",
       "      <td>fb76459f-c047-4a9d-8af9-e0f7d4ac2524</td>\n",
       "      <td>f2de8bef964785f41a2959829830fb8a</td>\n",
       "      <td>West Branch</td>\n",
       "      <td>MI</td>\n",
       "      <td>Ogemaw</td>\n",
       "      <td>48661</td>\n",
       "      <td>44.32893</td>\n",
       "      <td>-84.24080</td>\n",
       "      <td>10446</td>\n",
       "      <td>Urban</td>\n",
       "      <td>America/Detroit</td>\n",
       "      <td>Programmer, multimedia</td>\n",
       "      <td>1</td>\n",
       "      <td>27</td>\n",
       "      <td>21704.77</td>\n",
       "      <td>Married</td>\n",
       "      <td>Female</td>\n",
       "      <td>Yes</td>\n",
       "      <td>11.699080</td>\n",
       "      <td>12</td>\n",
       "      <td>0</td>\n",
       "      <td>1</td>\n",
       "      <td>Yes</td>\n",
       "      <td>Month-to-month</td>\n",
       "      <td>No</td>\n",
       "      <td>Yes</td>\n",
       "      <td>Fiber Optic</td>\n",
       "      <td>Yes</td>\n",
       "      <td>Yes</td>\n",
       "      <td>Yes</td>\n",
       "      <td>No</td>\n",
       "      <td>No</td>\n",
       "      <td>No</td>\n",
       "      <td>Yes</td>\n",
       "      <td>Yes</td>\n",
       "      <td>Yes</td>\n",
       "      <td>Bank Transfer(automatic)</td>\n",
       "      <td>1.156681</td>\n",
       "      <td>242.632554</td>\n",
       "      <td>800.982766</td>\n",
       "      <td>3</td>\n",
       "      <td>4</td>\n",
       "      <td>3</td>\n",
       "      <td>3</td>\n",
       "      <td>4</td>\n",
       "      <td>3</td>\n",
       "      <td>4</td>\n",
       "      <td>4</td>\n",
       "    </tr>\n",
       "    <tr>\n",
       "      <th>2</th>\n",
       "      <td>3</td>\n",
       "      <td>K191035</td>\n",
       "      <td>344d114c-3736-4be5-98f7-c72c281e2d35</td>\n",
       "      <td>f1784cfa9f6d92ae816197eb175d3c71</td>\n",
       "      <td>Yamhill</td>\n",
       "      <td>OR</td>\n",
       "      <td>Yamhill</td>\n",
       "      <td>97148</td>\n",
       "      <td>45.35589</td>\n",
       "      <td>-123.24657</td>\n",
       "      <td>3735</td>\n",
       "      <td>Urban</td>\n",
       "      <td>America/Los_Angeles</td>\n",
       "      <td>Chief Financial Officer</td>\n",
       "      <td>4</td>\n",
       "      <td>50</td>\n",
       "      <td>9609.57</td>\n",
       "      <td>Widowed</td>\n",
       "      <td>Female</td>\n",
       "      <td>No</td>\n",
       "      <td>10.752800</td>\n",
       "      <td>9</td>\n",
       "      <td>0</td>\n",
       "      <td>1</td>\n",
       "      <td>Yes</td>\n",
       "      <td>Two Year</td>\n",
       "      <td>Yes</td>\n",
       "      <td>No</td>\n",
       "      <td>DSL</td>\n",
       "      <td>Yes</td>\n",
       "      <td>Yes</td>\n",
       "      <td>No</td>\n",
       "      <td>No</td>\n",
       "      <td>No</td>\n",
       "      <td>No</td>\n",
       "      <td>No</td>\n",
       "      <td>Yes</td>\n",
       "      <td>Yes</td>\n",
       "      <td>Credit Card (automatic)</td>\n",
       "      <td>15.754144</td>\n",
       "      <td>159.947583</td>\n",
       "      <td>2054.706961</td>\n",
       "      <td>4</td>\n",
       "      <td>4</td>\n",
       "      <td>2</td>\n",
       "      <td>4</td>\n",
       "      <td>4</td>\n",
       "      <td>3</td>\n",
       "      <td>3</td>\n",
       "      <td>3</td>\n",
       "    </tr>\n",
       "    <tr>\n",
       "      <th>3</th>\n",
       "      <td>4</td>\n",
       "      <td>D90850</td>\n",
       "      <td>abfa2b40-2d43-4994-b15a-989b8c79e311</td>\n",
       "      <td>dc8a365077241bb5cd5ccd305136b05e</td>\n",
       "      <td>Del Mar</td>\n",
       "      <td>CA</td>\n",
       "      <td>San Diego</td>\n",
       "      <td>92014</td>\n",
       "      <td>32.96687</td>\n",
       "      <td>-117.24798</td>\n",
       "      <td>13863</td>\n",
       "      <td>Suburban</td>\n",
       "      <td>America/Los_Angeles</td>\n",
       "      <td>Solicitor</td>\n",
       "      <td>1</td>\n",
       "      <td>48</td>\n",
       "      <td>18925.23</td>\n",
       "      <td>Married</td>\n",
       "      <td>Male</td>\n",
       "      <td>No</td>\n",
       "      <td>14.913540</td>\n",
       "      <td>15</td>\n",
       "      <td>2</td>\n",
       "      <td>0</td>\n",
       "      <td>Yes</td>\n",
       "      <td>Two Year</td>\n",
       "      <td>No</td>\n",
       "      <td>No</td>\n",
       "      <td>DSL</td>\n",
       "      <td>Yes</td>\n",
       "      <td>No</td>\n",
       "      <td>Yes</td>\n",
       "      <td>No</td>\n",
       "      <td>No</td>\n",
       "      <td>No</td>\n",
       "      <td>Yes</td>\n",
       "      <td>No</td>\n",
       "      <td>Yes</td>\n",
       "      <td>Mailed Check</td>\n",
       "      <td>17.087227</td>\n",
       "      <td>119.956840</td>\n",
       "      <td>2164.579412</td>\n",
       "      <td>4</td>\n",
       "      <td>4</td>\n",
       "      <td>4</td>\n",
       "      <td>2</td>\n",
       "      <td>5</td>\n",
       "      <td>4</td>\n",
       "      <td>3</td>\n",
       "      <td>3</td>\n",
       "    </tr>\n",
       "    <tr>\n",
       "      <th>4</th>\n",
       "      <td>5</td>\n",
       "      <td>K662701</td>\n",
       "      <td>68a861fd-0d20-4e51-a587-8a90407ee574</td>\n",
       "      <td>aabb64a116e83fdc4befc1fbab1663f9</td>\n",
       "      <td>Needville</td>\n",
       "      <td>TX</td>\n",
       "      <td>Fort Bend</td>\n",
       "      <td>77461</td>\n",
       "      <td>29.38012</td>\n",
       "      <td>-95.80673</td>\n",
       "      <td>11352</td>\n",
       "      <td>Suburban</td>\n",
       "      <td>America/Chicago</td>\n",
       "      <td>Medical illustrator</td>\n",
       "      <td>0</td>\n",
       "      <td>83</td>\n",
       "      <td>40074.19</td>\n",
       "      <td>Separated</td>\n",
       "      <td>Male</td>\n",
       "      <td>Yes</td>\n",
       "      <td>8.147417</td>\n",
       "      <td>16</td>\n",
       "      <td>2</td>\n",
       "      <td>1</td>\n",
       "      <td>No</td>\n",
       "      <td>Month-to-month</td>\n",
       "      <td>Yes</td>\n",
       "      <td>No</td>\n",
       "      <td>Fiber Optic</td>\n",
       "      <td>No</td>\n",
       "      <td>No</td>\n",
       "      <td>No</td>\n",
       "      <td>No</td>\n",
       "      <td>No</td>\n",
       "      <td>Yes</td>\n",
       "      <td>Yes</td>\n",
       "      <td>No</td>\n",
       "      <td>No</td>\n",
       "      <td>Mailed Check</td>\n",
       "      <td>1.670972</td>\n",
       "      <td>149.948316</td>\n",
       "      <td>271.493436</td>\n",
       "      <td>4</td>\n",
       "      <td>4</td>\n",
       "      <td>4</td>\n",
       "      <td>3</td>\n",
       "      <td>4</td>\n",
       "      <td>4</td>\n",
       "      <td>4</td>\n",
       "      <td>5</td>\n",
       "    </tr>\n",
       "  </tbody>\n",
       "</table>\n",
       "</div>"
      ],
      "text/plain": [
       "   CaseOrder Customer_id                           Interaction  \\\n",
       "0          1     K409198  aa90260b-4141-4a24-8e36-b04ce1f4f77b   \n",
       "1          2     S120509  fb76459f-c047-4a9d-8af9-e0f7d4ac2524   \n",
       "2          3     K191035  344d114c-3736-4be5-98f7-c72c281e2d35   \n",
       "3          4      D90850  abfa2b40-2d43-4994-b15a-989b8c79e311   \n",
       "4          5     K662701  68a861fd-0d20-4e51-a587-8a90407ee574   \n",
       "\n",
       "                                UID         City State                 County  \\\n",
       "0  e885b299883d4f9fb18e39c75155d990  Point Baker    AK  Prince of Wales-Hyder   \n",
       "1  f2de8bef964785f41a2959829830fb8a  West Branch    MI                 Ogemaw   \n",
       "2  f1784cfa9f6d92ae816197eb175d3c71      Yamhill    OR                Yamhill   \n",
       "3  dc8a365077241bb5cd5ccd305136b05e      Del Mar    CA              San Diego   \n",
       "4  aabb64a116e83fdc4befc1fbab1663f9    Needville    TX              Fort Bend   \n",
       "\n",
       "     Zip       Lat        Lng  Population      Area             TimeZone  \\\n",
       "0  99927  56.25100 -133.37571          38     Urban        America/Sitka   \n",
       "1  48661  44.32893  -84.24080       10446     Urban      America/Detroit   \n",
       "2  97148  45.35589 -123.24657        3735     Urban  America/Los_Angeles   \n",
       "3  92014  32.96687 -117.24798       13863  Suburban  America/Los_Angeles   \n",
       "4  77461  29.38012  -95.80673       11352  Suburban      America/Chicago   \n",
       "\n",
       "                                 Job  Children  Age    Income    Marital  \\\n",
       "0  Environmental health practitioner         0   68  28561.99    Widowed   \n",
       "1             Programmer, multimedia         1   27  21704.77    Married   \n",
       "2            Chief Financial Officer         4   50   9609.57    Widowed   \n",
       "3                          Solicitor         1   48  18925.23    Married   \n",
       "4                Medical illustrator         0   83  40074.19  Separated   \n",
       "\n",
       "   Gender Churn  Outage_sec_perweek  Email  Contacts  Yearly_equip_failure  \\\n",
       "0    Male    No            7.978323     10         0                     1   \n",
       "1  Female   Yes           11.699080     12         0                     1   \n",
       "2  Female    No           10.752800      9         0                     1   \n",
       "3    Male    No           14.913540     15         2                     0   \n",
       "4    Male   Yes            8.147417     16         2                     1   \n",
       "\n",
       "  Techie        Contract Port_modem Tablet InternetService Phone Multiple  \\\n",
       "0     No        One year        Yes    Yes     Fiber Optic   Yes       No   \n",
       "1    Yes  Month-to-month         No    Yes     Fiber Optic   Yes      Yes   \n",
       "2    Yes        Two Year        Yes     No             DSL   Yes      Yes   \n",
       "3    Yes        Two Year         No     No             DSL   Yes       No   \n",
       "4     No  Month-to-month        Yes     No     Fiber Optic    No       No   \n",
       "\n",
       "  OnlineSecurity OnlineBackup DeviceProtection TechSupport StreamingTV  \\\n",
       "0            Yes          Yes               No          No          No   \n",
       "1            Yes           No               No          No         Yes   \n",
       "2             No           No               No          No          No   \n",
       "3            Yes           No               No          No         Yes   \n",
       "4             No           No               No         Yes         Yes   \n",
       "\n",
       "  StreamingMovies PaperlessBilling             PaymentMethod     Tenure  \\\n",
       "0             Yes              Yes   Credit Card (automatic)   6.795513   \n",
       "1             Yes              Yes  Bank Transfer(automatic)   1.156681   \n",
       "2             Yes              Yes   Credit Card (automatic)  15.754144   \n",
       "3              No              Yes              Mailed Check  17.087227   \n",
       "4              No               No              Mailed Check   1.670972   \n",
       "\n",
       "   MonthlyCharge  Bandwidth_GB_Year  Item1  Item2  Item3  Item4  Item5  Item6  \\\n",
       "0     172.455519         904.536110      5      5      5      3      4      4   \n",
       "1     242.632554         800.982766      3      4      3      3      4      3   \n",
       "2     159.947583        2054.706961      4      4      2      4      4      3   \n",
       "3     119.956840        2164.579412      4      4      4      2      5      4   \n",
       "4     149.948316         271.493436      4      4      4      3      4      4   \n",
       "\n",
       "   Item7  Item8  \n",
       "0      3      4  \n",
       "1      4      4  \n",
       "2      3      3  \n",
       "3      3      3  \n",
       "4      4      5  "
      ]
     },
     "execution_count": 20,
     "metadata": {},
     "output_type": "execute_result"
    }
   ],
   "source": [
    "churn_df.head()"
   ]
  },
  {
   "cell_type": "code",
   "execution_count": 21,
   "metadata": {},
   "outputs": [
    {
     "name": "stdout",
     "output_type": "stream",
     "text": [
      "<class 'pandas.core.frame.DataFrame'>\n",
      "RangeIndex: 10000 entries, 0 to 9999\n",
      "Data columns (total 50 columns):\n",
      " #   Column                Non-Null Count  Dtype  \n",
      "---  ------                --------------  -----  \n",
      " 0   CaseOrder             10000 non-null  int64  \n",
      " 1   Customer_id           10000 non-null  object \n",
      " 2   Interaction           10000 non-null  object \n",
      " 3   UID                   10000 non-null  object \n",
      " 4   City                  10000 non-null  object \n",
      " 5   State                 10000 non-null  object \n",
      " 6   County                10000 non-null  object \n",
      " 7   Zip                   10000 non-null  int64  \n",
      " 8   Lat                   10000 non-null  float64\n",
      " 9   Lng                   10000 non-null  float64\n",
      " 10  Population            10000 non-null  int64  \n",
      " 11  Area                  10000 non-null  object \n",
      " 12  TimeZone              10000 non-null  object \n",
      " 13  Job                   10000 non-null  object \n",
      " 14  Children              10000 non-null  int64  \n",
      " 15  Age                   10000 non-null  int64  \n",
      " 16  Income                10000 non-null  float64\n",
      " 17  Marital               10000 non-null  object \n",
      " 18  Gender                10000 non-null  object \n",
      " 19  Churn                 10000 non-null  object \n",
      " 20  Outage_sec_perweek    10000 non-null  float64\n",
      " 21  Email                 10000 non-null  int64  \n",
      " 22  Contacts              10000 non-null  int64  \n",
      " 23  Yearly_equip_failure  10000 non-null  int64  \n",
      " 24  Techie                10000 non-null  object \n",
      " 25  Contract              10000 non-null  object \n",
      " 26  Port_modem            10000 non-null  object \n",
      " 27  Tablet                10000 non-null  object \n",
      " 28  InternetService       10000 non-null  object \n",
      " 29  Phone                 10000 non-null  object \n",
      " 30  Multiple              10000 non-null  object \n",
      " 31  OnlineSecurity        10000 non-null  object \n",
      " 32  OnlineBackup          10000 non-null  object \n",
      " 33  DeviceProtection      10000 non-null  object \n",
      " 34  TechSupport           10000 non-null  object \n",
      " 35  StreamingTV           10000 non-null  object \n",
      " 36  StreamingMovies       10000 non-null  object \n",
      " 37  PaperlessBilling      10000 non-null  object \n",
      " 38  PaymentMethod         10000 non-null  object \n",
      " 39  Tenure                10000 non-null  float64\n",
      " 40  MonthlyCharge         10000 non-null  float64\n",
      " 41  Bandwidth_GB_Year     10000 non-null  float64\n",
      " 42  Item1                 10000 non-null  int64  \n",
      " 43  Item2                 10000 non-null  int64  \n",
      " 44  Item3                 10000 non-null  int64  \n",
      " 45  Item4                 10000 non-null  int64  \n",
      " 46  Item5                 10000 non-null  int64  \n",
      " 47  Item6                 10000 non-null  int64  \n",
      " 48  Item7                 10000 non-null  int64  \n",
      " 49  Item8                 10000 non-null  int64  \n",
      "dtypes: float64(7), int64(16), object(27)\n",
      "memory usage: 3.8+ MB\n"
     ]
    }
   ],
   "source": [
    "churn_df.info()"
   ]
  },
  {
   "cell_type": "markdown",
   "metadata": {},
   "source": [
    "**Assessing for missing values**"
   ]
  },
  {
   "cell_type": "code",
   "execution_count": 22,
   "metadata": {
    "scrolled": false
   },
   "outputs": [
    {
     "data": {
      "text/plain": [
       "CaseOrder               0\n",
       "Customer_id             0\n",
       "Interaction             0\n",
       "UID                     0\n",
       "City                    0\n",
       "State                   0\n",
       "County                  0\n",
       "Zip                     0\n",
       "Lat                     0\n",
       "Lng                     0\n",
       "Population              0\n",
       "Area                    0\n",
       "TimeZone                0\n",
       "Job                     0\n",
       "Children                0\n",
       "Age                     0\n",
       "Income                  0\n",
       "Marital                 0\n",
       "Gender                  0\n",
       "Churn                   0\n",
       "Outage_sec_perweek      0\n",
       "Email                   0\n",
       "Contacts                0\n",
       "Yearly_equip_failure    0\n",
       "Techie                  0\n",
       "Contract                0\n",
       "Port_modem              0\n",
       "Tablet                  0\n",
       "InternetService         0\n",
       "Phone                   0\n",
       "Multiple                0\n",
       "OnlineSecurity          0\n",
       "OnlineBackup            0\n",
       "DeviceProtection        0\n",
       "TechSupport             0\n",
       "StreamingTV             0\n",
       "StreamingMovies         0\n",
       "PaperlessBilling        0\n",
       "PaymentMethod           0\n",
       "Tenure                  0\n",
       "MonthlyCharge           0\n",
       "Bandwidth_GB_Year       0\n",
       "Item1                   0\n",
       "Item2                   0\n",
       "Item3                   0\n",
       "Item4                   0\n",
       "Item5                   0\n",
       "Item6                   0\n",
       "Item7                   0\n",
       "Item8                   0\n",
       "dtype: int64"
      ]
     },
     "execution_count": 22,
     "metadata": {},
     "output_type": "execute_result"
    }
   ],
   "source": [
    "churn_df.isnull().sum()"
   ]
  },
  {
   "cell_type": "markdown",
   "metadata": {},
   "source": [
    "No nulls present."
   ]
  },
  {
   "cell_type": "markdown",
   "metadata": {},
   "source": [
    "**Viewing summary statistics**"
   ]
  },
  {
   "cell_type": "code",
   "execution_count": 23,
   "metadata": {},
   "outputs": [
    {
     "data": {
      "text/html": [
       "<div>\n",
       "<style scoped>\n",
       "    .dataframe tbody tr th:only-of-type {\n",
       "        vertical-align: middle;\n",
       "    }\n",
       "\n",
       "    .dataframe tbody tr th {\n",
       "        vertical-align: top;\n",
       "    }\n",
       "\n",
       "    .dataframe thead th {\n",
       "        text-align: right;\n",
       "    }\n",
       "</style>\n",
       "<table border=\"1\" class=\"dataframe\">\n",
       "  <thead>\n",
       "    <tr style=\"text-align: right;\">\n",
       "      <th></th>\n",
       "      <th>CaseOrder</th>\n",
       "      <th>Zip</th>\n",
       "      <th>Lat</th>\n",
       "      <th>Lng</th>\n",
       "      <th>Population</th>\n",
       "      <th>Children</th>\n",
       "      <th>Age</th>\n",
       "      <th>Income</th>\n",
       "      <th>Outage_sec_perweek</th>\n",
       "      <th>Email</th>\n",
       "      <th>Contacts</th>\n",
       "      <th>Yearly_equip_failure</th>\n",
       "      <th>Tenure</th>\n",
       "      <th>MonthlyCharge</th>\n",
       "      <th>Bandwidth_GB_Year</th>\n",
       "      <th>Item1</th>\n",
       "      <th>Item2</th>\n",
       "      <th>Item3</th>\n",
       "      <th>Item4</th>\n",
       "      <th>Item5</th>\n",
       "      <th>Item6</th>\n",
       "      <th>Item7</th>\n",
       "      <th>Item8</th>\n",
       "    </tr>\n",
       "  </thead>\n",
       "  <tbody>\n",
       "    <tr>\n",
       "      <th>count</th>\n",
       "      <td>10000.00000</td>\n",
       "      <td>10000.000000</td>\n",
       "      <td>10000.000000</td>\n",
       "      <td>10000.000000</td>\n",
       "      <td>10000.000000</td>\n",
       "      <td>10000.0000</td>\n",
       "      <td>10000.000000</td>\n",
       "      <td>10000.000000</td>\n",
       "      <td>10000.000000</td>\n",
       "      <td>10000.000000</td>\n",
       "      <td>10000.000000</td>\n",
       "      <td>10000.000000</td>\n",
       "      <td>10000.000000</td>\n",
       "      <td>10000.000000</td>\n",
       "      <td>10000.000000</td>\n",
       "      <td>10000.000000</td>\n",
       "      <td>10000.000000</td>\n",
       "      <td>10000.000000</td>\n",
       "      <td>10000.000000</td>\n",
       "      <td>10000.000000</td>\n",
       "      <td>10000.000000</td>\n",
       "      <td>10000.000000</td>\n",
       "      <td>10000.000000</td>\n",
       "    </tr>\n",
       "    <tr>\n",
       "      <th>mean</th>\n",
       "      <td>5000.50000</td>\n",
       "      <td>49153.319600</td>\n",
       "      <td>38.757567</td>\n",
       "      <td>-90.782536</td>\n",
       "      <td>9756.562400</td>\n",
       "      <td>2.0877</td>\n",
       "      <td>53.078400</td>\n",
       "      <td>39806.926771</td>\n",
       "      <td>10.001848</td>\n",
       "      <td>12.016000</td>\n",
       "      <td>0.994200</td>\n",
       "      <td>0.398000</td>\n",
       "      <td>34.526188</td>\n",
       "      <td>172.624816</td>\n",
       "      <td>3392.341550</td>\n",
       "      <td>3.490800</td>\n",
       "      <td>3.505100</td>\n",
       "      <td>3.487000</td>\n",
       "      <td>3.497500</td>\n",
       "      <td>3.492900</td>\n",
       "      <td>3.497300</td>\n",
       "      <td>3.509500</td>\n",
       "      <td>3.495600</td>\n",
       "    </tr>\n",
       "    <tr>\n",
       "      <th>std</th>\n",
       "      <td>2886.89568</td>\n",
       "      <td>27532.196108</td>\n",
       "      <td>5.437389</td>\n",
       "      <td>15.156142</td>\n",
       "      <td>14432.698671</td>\n",
       "      <td>2.1472</td>\n",
       "      <td>20.698882</td>\n",
       "      <td>28199.916702</td>\n",
       "      <td>2.976019</td>\n",
       "      <td>3.025898</td>\n",
       "      <td>0.988466</td>\n",
       "      <td>0.635953</td>\n",
       "      <td>26.443063</td>\n",
       "      <td>42.943094</td>\n",
       "      <td>2185.294852</td>\n",
       "      <td>1.037797</td>\n",
       "      <td>1.034641</td>\n",
       "      <td>1.027977</td>\n",
       "      <td>1.025816</td>\n",
       "      <td>1.024819</td>\n",
       "      <td>1.033586</td>\n",
       "      <td>1.028502</td>\n",
       "      <td>1.028633</td>\n",
       "    </tr>\n",
       "    <tr>\n",
       "      <th>min</th>\n",
       "      <td>1.00000</td>\n",
       "      <td>601.000000</td>\n",
       "      <td>17.966120</td>\n",
       "      <td>-171.688150</td>\n",
       "      <td>0.000000</td>\n",
       "      <td>0.0000</td>\n",
       "      <td>18.000000</td>\n",
       "      <td>348.670000</td>\n",
       "      <td>0.099747</td>\n",
       "      <td>1.000000</td>\n",
       "      <td>0.000000</td>\n",
       "      <td>0.000000</td>\n",
       "      <td>1.000259</td>\n",
       "      <td>79.978860</td>\n",
       "      <td>155.506715</td>\n",
       "      <td>1.000000</td>\n",
       "      <td>1.000000</td>\n",
       "      <td>1.000000</td>\n",
       "      <td>1.000000</td>\n",
       "      <td>1.000000</td>\n",
       "      <td>1.000000</td>\n",
       "      <td>1.000000</td>\n",
       "      <td>1.000000</td>\n",
       "    </tr>\n",
       "    <tr>\n",
       "      <th>25%</th>\n",
       "      <td>2500.75000</td>\n",
       "      <td>26292.500000</td>\n",
       "      <td>35.341828</td>\n",
       "      <td>-97.082813</td>\n",
       "      <td>738.000000</td>\n",
       "      <td>0.0000</td>\n",
       "      <td>35.000000</td>\n",
       "      <td>19224.717500</td>\n",
       "      <td>8.018214</td>\n",
       "      <td>10.000000</td>\n",
       "      <td>0.000000</td>\n",
       "      <td>0.000000</td>\n",
       "      <td>7.917694</td>\n",
       "      <td>139.979239</td>\n",
       "      <td>1236.470827</td>\n",
       "      <td>3.000000</td>\n",
       "      <td>3.000000</td>\n",
       "      <td>3.000000</td>\n",
       "      <td>3.000000</td>\n",
       "      <td>3.000000</td>\n",
       "      <td>3.000000</td>\n",
       "      <td>3.000000</td>\n",
       "      <td>3.000000</td>\n",
       "    </tr>\n",
       "    <tr>\n",
       "      <th>50%</th>\n",
       "      <td>5000.50000</td>\n",
       "      <td>48869.500000</td>\n",
       "      <td>39.395800</td>\n",
       "      <td>-87.918800</td>\n",
       "      <td>2910.500000</td>\n",
       "      <td>1.0000</td>\n",
       "      <td>53.000000</td>\n",
       "      <td>33170.605000</td>\n",
       "      <td>10.018560</td>\n",
       "      <td>12.000000</td>\n",
       "      <td>1.000000</td>\n",
       "      <td>0.000000</td>\n",
       "      <td>35.430507</td>\n",
       "      <td>167.484700</td>\n",
       "      <td>3279.536903</td>\n",
       "      <td>3.000000</td>\n",
       "      <td>4.000000</td>\n",
       "      <td>3.000000</td>\n",
       "      <td>3.000000</td>\n",
       "      <td>3.000000</td>\n",
       "      <td>3.000000</td>\n",
       "      <td>4.000000</td>\n",
       "      <td>3.000000</td>\n",
       "    </tr>\n",
       "    <tr>\n",
       "      <th>75%</th>\n",
       "      <td>7500.25000</td>\n",
       "      <td>71866.500000</td>\n",
       "      <td>42.106908</td>\n",
       "      <td>-80.088745</td>\n",
       "      <td>13168.000000</td>\n",
       "      <td>3.0000</td>\n",
       "      <td>71.000000</td>\n",
       "      <td>53246.170000</td>\n",
       "      <td>11.969485</td>\n",
       "      <td>14.000000</td>\n",
       "      <td>2.000000</td>\n",
       "      <td>1.000000</td>\n",
       "      <td>61.479795</td>\n",
       "      <td>200.734725</td>\n",
       "      <td>5586.141369</td>\n",
       "      <td>4.000000</td>\n",
       "      <td>4.000000</td>\n",
       "      <td>4.000000</td>\n",
       "      <td>4.000000</td>\n",
       "      <td>4.000000</td>\n",
       "      <td>4.000000</td>\n",
       "      <td>4.000000</td>\n",
       "      <td>4.000000</td>\n",
       "    </tr>\n",
       "    <tr>\n",
       "      <th>max</th>\n",
       "      <td>10000.00000</td>\n",
       "      <td>99929.000000</td>\n",
       "      <td>70.640660</td>\n",
       "      <td>-65.667850</td>\n",
       "      <td>111850.000000</td>\n",
       "      <td>10.0000</td>\n",
       "      <td>89.000000</td>\n",
       "      <td>258900.700000</td>\n",
       "      <td>21.207230</td>\n",
       "      <td>23.000000</td>\n",
       "      <td>7.000000</td>\n",
       "      <td>6.000000</td>\n",
       "      <td>71.999280</td>\n",
       "      <td>290.160419</td>\n",
       "      <td>7158.981530</td>\n",
       "      <td>7.000000</td>\n",
       "      <td>7.000000</td>\n",
       "      <td>8.000000</td>\n",
       "      <td>7.000000</td>\n",
       "      <td>7.000000</td>\n",
       "      <td>8.000000</td>\n",
       "      <td>7.000000</td>\n",
       "      <td>8.000000</td>\n",
       "    </tr>\n",
       "  </tbody>\n",
       "</table>\n",
       "</div>"
      ],
      "text/plain": [
       "         CaseOrder           Zip           Lat           Lng     Population  \\\n",
       "count  10000.00000  10000.000000  10000.000000  10000.000000   10000.000000   \n",
       "mean    5000.50000  49153.319600     38.757567    -90.782536    9756.562400   \n",
       "std     2886.89568  27532.196108      5.437389     15.156142   14432.698671   \n",
       "min        1.00000    601.000000     17.966120   -171.688150       0.000000   \n",
       "25%     2500.75000  26292.500000     35.341828    -97.082813     738.000000   \n",
       "50%     5000.50000  48869.500000     39.395800    -87.918800    2910.500000   \n",
       "75%     7500.25000  71866.500000     42.106908    -80.088745   13168.000000   \n",
       "max    10000.00000  99929.000000     70.640660    -65.667850  111850.000000   \n",
       "\n",
       "         Children           Age         Income  Outage_sec_perweek  \\\n",
       "count  10000.0000  10000.000000   10000.000000        10000.000000   \n",
       "mean       2.0877     53.078400   39806.926771           10.001848   \n",
       "std        2.1472     20.698882   28199.916702            2.976019   \n",
       "min        0.0000     18.000000     348.670000            0.099747   \n",
       "25%        0.0000     35.000000   19224.717500            8.018214   \n",
       "50%        1.0000     53.000000   33170.605000           10.018560   \n",
       "75%        3.0000     71.000000   53246.170000           11.969485   \n",
       "max       10.0000     89.000000  258900.700000           21.207230   \n",
       "\n",
       "              Email      Contacts  Yearly_equip_failure        Tenure  \\\n",
       "count  10000.000000  10000.000000          10000.000000  10000.000000   \n",
       "mean      12.016000      0.994200              0.398000     34.526188   \n",
       "std        3.025898      0.988466              0.635953     26.443063   \n",
       "min        1.000000      0.000000              0.000000      1.000259   \n",
       "25%       10.000000      0.000000              0.000000      7.917694   \n",
       "50%       12.000000      1.000000              0.000000     35.430507   \n",
       "75%       14.000000      2.000000              1.000000     61.479795   \n",
       "max       23.000000      7.000000              6.000000     71.999280   \n",
       "\n",
       "       MonthlyCharge  Bandwidth_GB_Year         Item1         Item2  \\\n",
       "count   10000.000000       10000.000000  10000.000000  10000.000000   \n",
       "mean      172.624816        3392.341550      3.490800      3.505100   \n",
       "std        42.943094        2185.294852      1.037797      1.034641   \n",
       "min        79.978860         155.506715      1.000000      1.000000   \n",
       "25%       139.979239        1236.470827      3.000000      3.000000   \n",
       "50%       167.484700        3279.536903      3.000000      4.000000   \n",
       "75%       200.734725        5586.141369      4.000000      4.000000   \n",
       "max       290.160419        7158.981530      7.000000      7.000000   \n",
       "\n",
       "              Item3         Item4         Item5         Item6         Item7  \\\n",
       "count  10000.000000  10000.000000  10000.000000  10000.000000  10000.000000   \n",
       "mean       3.487000      3.497500      3.492900      3.497300      3.509500   \n",
       "std        1.027977      1.025816      1.024819      1.033586      1.028502   \n",
       "min        1.000000      1.000000      1.000000      1.000000      1.000000   \n",
       "25%        3.000000      3.000000      3.000000      3.000000      3.000000   \n",
       "50%        3.000000      3.000000      3.000000      3.000000      4.000000   \n",
       "75%        4.000000      4.000000      4.000000      4.000000      4.000000   \n",
       "max        8.000000      7.000000      7.000000      8.000000      7.000000   \n",
       "\n",
       "              Item8  \n",
       "count  10000.000000  \n",
       "mean       3.495600  \n",
       "std        1.028633  \n",
       "min        1.000000  \n",
       "25%        3.000000  \n",
       "50%        3.000000  \n",
       "75%        4.000000  \n",
       "max        8.000000  "
      ]
     },
     "execution_count": 23,
     "metadata": {},
     "output_type": "execute_result"
    }
   ],
   "source": [
    "churn_df.describe()"
   ]
  },
  {
   "cell_type": "markdown",
   "metadata": {},
   "source": [
    "**Removing less meaniful information**"
   ]
  },
  {
   "cell_type": "code",
   "execution_count": 24,
   "metadata": {},
   "outputs": [],
   "source": [
    "churn_df=churn_df.drop(columns=['CaseOrder','Customer_id','Interaction','UID','City','State','County','Zip',\n",
    "                                'Lat','Lng','Population','Area','TimeZone','Job','Item1','Item2','Item3',\n",
    "                                'Item4','Item5','Item6','Item7','Item8'])"
   ]
  },
  {
   "cell_type": "code",
   "execution_count": 25,
   "metadata": {},
   "outputs": [
    {
     "name": "stdout",
     "output_type": "stream",
     "text": [
      "<class 'pandas.core.frame.DataFrame'>\n",
      "RangeIndex: 10000 entries, 0 to 9999\n",
      "Data columns (total 28 columns):\n",
      " #   Column                Non-Null Count  Dtype  \n",
      "---  ------                --------------  -----  \n",
      " 0   Children              10000 non-null  int64  \n",
      " 1   Age                   10000 non-null  int64  \n",
      " 2   Income                10000 non-null  float64\n",
      " 3   Marital               10000 non-null  object \n",
      " 4   Gender                10000 non-null  object \n",
      " 5   Churn                 10000 non-null  object \n",
      " 6   Outage_sec_perweek    10000 non-null  float64\n",
      " 7   Email                 10000 non-null  int64  \n",
      " 8   Contacts              10000 non-null  int64  \n",
      " 9   Yearly_equip_failure  10000 non-null  int64  \n",
      " 10  Techie                10000 non-null  object \n",
      " 11  Contract              10000 non-null  object \n",
      " 12  Port_modem            10000 non-null  object \n",
      " 13  Tablet                10000 non-null  object \n",
      " 14  InternetService       10000 non-null  object \n",
      " 15  Phone                 10000 non-null  object \n",
      " 16  Multiple              10000 non-null  object \n",
      " 17  OnlineSecurity        10000 non-null  object \n",
      " 18  OnlineBackup          10000 non-null  object \n",
      " 19  DeviceProtection      10000 non-null  object \n",
      " 20  TechSupport           10000 non-null  object \n",
      " 21  StreamingTV           10000 non-null  object \n",
      " 22  StreamingMovies       10000 non-null  object \n",
      " 23  PaperlessBilling      10000 non-null  object \n",
      " 24  PaymentMethod         10000 non-null  object \n",
      " 25  Tenure                10000 non-null  float64\n",
      " 26  MonthlyCharge         10000 non-null  float64\n",
      " 27  Bandwidth_GB_Year     10000 non-null  float64\n",
      "dtypes: float64(5), int64(5), object(18)\n",
      "memory usage: 2.1+ MB\n"
     ]
    }
   ],
   "source": [
    "churn_df.info()"
   ]
  },
  {
   "cell_type": "code",
   "execution_count": 26,
   "metadata": {},
   "outputs": [
    {
     "data": {
      "text/html": [
       "<div>\n",
       "<style scoped>\n",
       "    .dataframe tbody tr th:only-of-type {\n",
       "        vertical-align: middle;\n",
       "    }\n",
       "\n",
       "    .dataframe tbody tr th {\n",
       "        vertical-align: top;\n",
       "    }\n",
       "\n",
       "    .dataframe thead th {\n",
       "        text-align: right;\n",
       "    }\n",
       "</style>\n",
       "<table border=\"1\" class=\"dataframe\">\n",
       "  <thead>\n",
       "    <tr style=\"text-align: right;\">\n",
       "      <th></th>\n",
       "      <th>Children</th>\n",
       "      <th>Age</th>\n",
       "      <th>Income</th>\n",
       "      <th>Marital</th>\n",
       "      <th>Gender</th>\n",
       "      <th>Churn</th>\n",
       "      <th>Outage_sec_perweek</th>\n",
       "      <th>Email</th>\n",
       "      <th>Contacts</th>\n",
       "      <th>Yearly_equip_failure</th>\n",
       "      <th>Techie</th>\n",
       "      <th>Contract</th>\n",
       "      <th>Port_modem</th>\n",
       "      <th>Tablet</th>\n",
       "      <th>InternetService</th>\n",
       "      <th>Phone</th>\n",
       "      <th>Multiple</th>\n",
       "      <th>OnlineSecurity</th>\n",
       "      <th>OnlineBackup</th>\n",
       "      <th>DeviceProtection</th>\n",
       "      <th>TechSupport</th>\n",
       "      <th>StreamingTV</th>\n",
       "      <th>StreamingMovies</th>\n",
       "      <th>PaperlessBilling</th>\n",
       "      <th>PaymentMethod</th>\n",
       "      <th>Tenure</th>\n",
       "      <th>MonthlyCharge</th>\n",
       "      <th>Bandwidth_GB_Year</th>\n",
       "    </tr>\n",
       "  </thead>\n",
       "  <tbody>\n",
       "    <tr>\n",
       "      <th>0</th>\n",
       "      <td>0</td>\n",
       "      <td>68</td>\n",
       "      <td>28561.99</td>\n",
       "      <td>Widowed</td>\n",
       "      <td>Male</td>\n",
       "      <td>No</td>\n",
       "      <td>7.978323</td>\n",
       "      <td>10</td>\n",
       "      <td>0</td>\n",
       "      <td>1</td>\n",
       "      <td>No</td>\n",
       "      <td>One year</td>\n",
       "      <td>Yes</td>\n",
       "      <td>Yes</td>\n",
       "      <td>Fiber Optic</td>\n",
       "      <td>Yes</td>\n",
       "      <td>No</td>\n",
       "      <td>Yes</td>\n",
       "      <td>Yes</td>\n",
       "      <td>No</td>\n",
       "      <td>No</td>\n",
       "      <td>No</td>\n",
       "      <td>Yes</td>\n",
       "      <td>Yes</td>\n",
       "      <td>Credit Card (automatic)</td>\n",
       "      <td>6.795513</td>\n",
       "      <td>172.455519</td>\n",
       "      <td>904.536110</td>\n",
       "    </tr>\n",
       "    <tr>\n",
       "      <th>1</th>\n",
       "      <td>1</td>\n",
       "      <td>27</td>\n",
       "      <td>21704.77</td>\n",
       "      <td>Married</td>\n",
       "      <td>Female</td>\n",
       "      <td>Yes</td>\n",
       "      <td>11.699080</td>\n",
       "      <td>12</td>\n",
       "      <td>0</td>\n",
       "      <td>1</td>\n",
       "      <td>Yes</td>\n",
       "      <td>Month-to-month</td>\n",
       "      <td>No</td>\n",
       "      <td>Yes</td>\n",
       "      <td>Fiber Optic</td>\n",
       "      <td>Yes</td>\n",
       "      <td>Yes</td>\n",
       "      <td>Yes</td>\n",
       "      <td>No</td>\n",
       "      <td>No</td>\n",
       "      <td>No</td>\n",
       "      <td>Yes</td>\n",
       "      <td>Yes</td>\n",
       "      <td>Yes</td>\n",
       "      <td>Bank Transfer(automatic)</td>\n",
       "      <td>1.156681</td>\n",
       "      <td>242.632554</td>\n",
       "      <td>800.982766</td>\n",
       "    </tr>\n",
       "    <tr>\n",
       "      <th>2</th>\n",
       "      <td>4</td>\n",
       "      <td>50</td>\n",
       "      <td>9609.57</td>\n",
       "      <td>Widowed</td>\n",
       "      <td>Female</td>\n",
       "      <td>No</td>\n",
       "      <td>10.752800</td>\n",
       "      <td>9</td>\n",
       "      <td>0</td>\n",
       "      <td>1</td>\n",
       "      <td>Yes</td>\n",
       "      <td>Two Year</td>\n",
       "      <td>Yes</td>\n",
       "      <td>No</td>\n",
       "      <td>DSL</td>\n",
       "      <td>Yes</td>\n",
       "      <td>Yes</td>\n",
       "      <td>No</td>\n",
       "      <td>No</td>\n",
       "      <td>No</td>\n",
       "      <td>No</td>\n",
       "      <td>No</td>\n",
       "      <td>Yes</td>\n",
       "      <td>Yes</td>\n",
       "      <td>Credit Card (automatic)</td>\n",
       "      <td>15.754144</td>\n",
       "      <td>159.947583</td>\n",
       "      <td>2054.706961</td>\n",
       "    </tr>\n",
       "    <tr>\n",
       "      <th>3</th>\n",
       "      <td>1</td>\n",
       "      <td>48</td>\n",
       "      <td>18925.23</td>\n",
       "      <td>Married</td>\n",
       "      <td>Male</td>\n",
       "      <td>No</td>\n",
       "      <td>14.913540</td>\n",
       "      <td>15</td>\n",
       "      <td>2</td>\n",
       "      <td>0</td>\n",
       "      <td>Yes</td>\n",
       "      <td>Two Year</td>\n",
       "      <td>No</td>\n",
       "      <td>No</td>\n",
       "      <td>DSL</td>\n",
       "      <td>Yes</td>\n",
       "      <td>No</td>\n",
       "      <td>Yes</td>\n",
       "      <td>No</td>\n",
       "      <td>No</td>\n",
       "      <td>No</td>\n",
       "      <td>Yes</td>\n",
       "      <td>No</td>\n",
       "      <td>Yes</td>\n",
       "      <td>Mailed Check</td>\n",
       "      <td>17.087227</td>\n",
       "      <td>119.956840</td>\n",
       "      <td>2164.579412</td>\n",
       "    </tr>\n",
       "    <tr>\n",
       "      <th>4</th>\n",
       "      <td>0</td>\n",
       "      <td>83</td>\n",
       "      <td>40074.19</td>\n",
       "      <td>Separated</td>\n",
       "      <td>Male</td>\n",
       "      <td>Yes</td>\n",
       "      <td>8.147417</td>\n",
       "      <td>16</td>\n",
       "      <td>2</td>\n",
       "      <td>1</td>\n",
       "      <td>No</td>\n",
       "      <td>Month-to-month</td>\n",
       "      <td>Yes</td>\n",
       "      <td>No</td>\n",
       "      <td>Fiber Optic</td>\n",
       "      <td>No</td>\n",
       "      <td>No</td>\n",
       "      <td>No</td>\n",
       "      <td>No</td>\n",
       "      <td>No</td>\n",
       "      <td>Yes</td>\n",
       "      <td>Yes</td>\n",
       "      <td>No</td>\n",
       "      <td>No</td>\n",
       "      <td>Mailed Check</td>\n",
       "      <td>1.670972</td>\n",
       "      <td>149.948316</td>\n",
       "      <td>271.493436</td>\n",
       "    </tr>\n",
       "  </tbody>\n",
       "</table>\n",
       "</div>"
      ],
      "text/plain": [
       "   Children  Age    Income    Marital  Gender Churn  Outage_sec_perweek  \\\n",
       "0         0   68  28561.99    Widowed    Male    No            7.978323   \n",
       "1         1   27  21704.77    Married  Female   Yes           11.699080   \n",
       "2         4   50   9609.57    Widowed  Female    No           10.752800   \n",
       "3         1   48  18925.23    Married    Male    No           14.913540   \n",
       "4         0   83  40074.19  Separated    Male   Yes            8.147417   \n",
       "\n",
       "   Email  Contacts  Yearly_equip_failure Techie        Contract Port_modem  \\\n",
       "0     10         0                     1     No        One year        Yes   \n",
       "1     12         0                     1    Yes  Month-to-month         No   \n",
       "2      9         0                     1    Yes        Two Year        Yes   \n",
       "3     15         2                     0    Yes        Two Year         No   \n",
       "4     16         2                     1     No  Month-to-month        Yes   \n",
       "\n",
       "  Tablet InternetService Phone Multiple OnlineSecurity OnlineBackup  \\\n",
       "0    Yes     Fiber Optic   Yes       No            Yes          Yes   \n",
       "1    Yes     Fiber Optic   Yes      Yes            Yes           No   \n",
       "2     No             DSL   Yes      Yes             No           No   \n",
       "3     No             DSL   Yes       No            Yes           No   \n",
       "4     No     Fiber Optic    No       No             No           No   \n",
       "\n",
       "  DeviceProtection TechSupport StreamingTV StreamingMovies PaperlessBilling  \\\n",
       "0               No          No          No             Yes              Yes   \n",
       "1               No          No         Yes             Yes              Yes   \n",
       "2               No          No          No             Yes              Yes   \n",
       "3               No          No         Yes              No              Yes   \n",
       "4               No         Yes         Yes              No               No   \n",
       "\n",
       "              PaymentMethod     Tenure  MonthlyCharge  Bandwidth_GB_Year  \n",
       "0   Credit Card (automatic)   6.795513     172.455519         904.536110  \n",
       "1  Bank Transfer(automatic)   1.156681     242.632554         800.982766  \n",
       "2   Credit Card (automatic)  15.754144     159.947583        2054.706961  \n",
       "3              Mailed Check  17.087227     119.956840        2164.579412  \n",
       "4              Mailed Check   1.670972     149.948316         271.493436  "
      ]
     },
     "execution_count": 26,
     "metadata": {},
     "output_type": "execute_result"
    }
   ],
   "source": [
    "churn_df.head()"
   ]
  },
  {
   "cell_type": "markdown",
   "metadata": {},
   "source": [
    "Reviewing the categorical columns remaining"
   ]
  },
  {
   "cell_type": "code",
   "execution_count": 27,
   "metadata": {},
   "outputs": [
    {
     "name": "stdout",
     "output_type": "stream",
     "text": [
      "<class 'pandas.core.frame.DataFrame'>\n",
      "RangeIndex: 10000 entries, 0 to 9999\n",
      "Data columns (total 28 columns):\n",
      " #   Column                Non-Null Count  Dtype  \n",
      "---  ------                --------------  -----  \n",
      " 0   Children              10000 non-null  int64  \n",
      " 1   Age                   10000 non-null  int64  \n",
      " 2   Income                10000 non-null  float64\n",
      " 3   Marital               10000 non-null  object \n",
      " 4   Gender                10000 non-null  object \n",
      " 5   Churn                 10000 non-null  object \n",
      " 6   Outage_sec_perweek    10000 non-null  float64\n",
      " 7   Email                 10000 non-null  int64  \n",
      " 8   Contacts              10000 non-null  int64  \n",
      " 9   Yearly_equip_failure  10000 non-null  int64  \n",
      " 10  Techie                10000 non-null  object \n",
      " 11  Contract              10000 non-null  object \n",
      " 12  Port_modem            10000 non-null  object \n",
      " 13  Tablet                10000 non-null  object \n",
      " 14  InternetService       10000 non-null  object \n",
      " 15  Phone                 10000 non-null  object \n",
      " 16  Multiple              10000 non-null  object \n",
      " 17  OnlineSecurity        10000 non-null  object \n",
      " 18  OnlineBackup          10000 non-null  object \n",
      " 19  DeviceProtection      10000 non-null  object \n",
      " 20  TechSupport           10000 non-null  object \n",
      " 21  StreamingTV           10000 non-null  object \n",
      " 22  StreamingMovies       10000 non-null  object \n",
      " 23  PaperlessBilling      10000 non-null  object \n",
      " 24  PaymentMethod         10000 non-null  object \n",
      " 25  Tenure                10000 non-null  float64\n",
      " 26  MonthlyCharge         10000 non-null  float64\n",
      " 27  Bandwidth_GB_Year     10000 non-null  float64\n",
      "dtypes: float64(5), int64(5), object(18)\n",
      "memory usage: 2.1+ MB\n"
     ]
    }
   ],
   "source": [
    "churn_df.info()"
   ]
  },
  {
   "cell_type": "markdown",
   "metadata": {},
   "source": [
    "Checking the categorical columns for unique values and value counts, using the value counts function"
   ]
  },
  {
   "cell_type": "code",
   "execution_count": 28,
   "metadata": {},
   "outputs": [
    {
     "data": {
      "text/plain": [
       "Divorced         2092\n",
       "Widowed          2027\n",
       "Separated        2014\n",
       "Never Married    1956\n",
       "Married          1911\n",
       "Name: Marital, dtype: int64"
      ]
     },
     "execution_count": 28,
     "metadata": {},
     "output_type": "execute_result"
    }
   ],
   "source": [
    "churn_df.Marital.value_counts()"
   ]
  },
  {
   "cell_type": "code",
   "execution_count": 29,
   "metadata": {},
   "outputs": [
    {
     "data": {
      "text/plain": [
       "Female       5025\n",
       "Male         4744\n",
       "Nonbinary     231\n",
       "Name: Gender, dtype: int64"
      ]
     },
     "execution_count": 29,
     "metadata": {},
     "output_type": "execute_result"
    }
   ],
   "source": [
    "churn_df.Gender.value_counts()"
   ]
  },
  {
   "cell_type": "code",
   "execution_count": 30,
   "metadata": {},
   "outputs": [
    {
     "data": {
      "text/plain": [
       "No     7350\n",
       "Yes    2650\n",
       "Name: Churn, dtype: int64"
      ]
     },
     "execution_count": 30,
     "metadata": {},
     "output_type": "execute_result"
    }
   ],
   "source": [
    "churn_df.Churn.value_counts()"
   ]
  },
  {
   "cell_type": "markdown",
   "metadata": {},
   "source": [
    "Our target (dependent) variable is binary."
   ]
  },
  {
   "cell_type": "code",
   "execution_count": 31,
   "metadata": {},
   "outputs": [
    {
     "data": {
      "text/plain": [
       "No     8321\n",
       "Yes    1679\n",
       "Name: Techie, dtype: int64"
      ]
     },
     "execution_count": 31,
     "metadata": {},
     "output_type": "execute_result"
    }
   ],
   "source": [
    "churn_df.Techie.value_counts()"
   ]
  },
  {
   "cell_type": "code",
   "execution_count": 32,
   "metadata": {},
   "outputs": [
    {
     "data": {
      "text/plain": [
       "Month-to-month    5456\n",
       "Two Year          2442\n",
       "One year          2102\n",
       "Name: Contract, dtype: int64"
      ]
     },
     "execution_count": 32,
     "metadata": {},
     "output_type": "execute_result"
    }
   ],
   "source": [
    "churn_df.Contract.value_counts()"
   ]
  },
  {
   "cell_type": "code",
   "execution_count": 33,
   "metadata": {},
   "outputs": [
    {
     "data": {
      "text/plain": [
       "No     5166\n",
       "Yes    4834\n",
       "Name: Port_modem, dtype: int64"
      ]
     },
     "execution_count": 33,
     "metadata": {},
     "output_type": "execute_result"
    }
   ],
   "source": [
    "churn_df.Port_modem.value_counts()"
   ]
  },
  {
   "cell_type": "code",
   "execution_count": 34,
   "metadata": {},
   "outputs": [
    {
     "data": {
      "text/plain": [
       "No     7009\n",
       "Yes    2991\n",
       "Name: Tablet, dtype: int64"
      ]
     },
     "execution_count": 34,
     "metadata": {},
     "output_type": "execute_result"
    }
   ],
   "source": [
    "churn_df.Tablet.value_counts()"
   ]
  },
  {
   "cell_type": "code",
   "execution_count": 35,
   "metadata": {},
   "outputs": [
    {
     "data": {
      "text/plain": [
       "Fiber Optic    4408\n",
       "DSL            3463\n",
       "None           2129\n",
       "Name: InternetService, dtype: int64"
      ]
     },
     "execution_count": 35,
     "metadata": {},
     "output_type": "execute_result"
    }
   ],
   "source": [
    "churn_df.InternetService.value_counts()"
   ]
  },
  {
   "cell_type": "code",
   "execution_count": 36,
   "metadata": {},
   "outputs": [
    {
     "data": {
      "text/plain": [
       "Yes    9067\n",
       "No      933\n",
       "Name: Phone, dtype: int64"
      ]
     },
     "execution_count": 36,
     "metadata": {},
     "output_type": "execute_result"
    }
   ],
   "source": [
    "churn_df.Phone.value_counts()"
   ]
  },
  {
   "cell_type": "code",
   "execution_count": 37,
   "metadata": {},
   "outputs": [
    {
     "data": {
      "text/plain": [
       "No     5392\n",
       "Yes    4608\n",
       "Name: Multiple, dtype: int64"
      ]
     },
     "execution_count": 37,
     "metadata": {},
     "output_type": "execute_result"
    }
   ],
   "source": [
    "churn_df.Multiple.value_counts()"
   ]
  },
  {
   "cell_type": "code",
   "execution_count": 38,
   "metadata": {},
   "outputs": [
    {
     "data": {
      "text/plain": [
       "No     6424\n",
       "Yes    3576\n",
       "Name: OnlineSecurity, dtype: int64"
      ]
     },
     "execution_count": 38,
     "metadata": {},
     "output_type": "execute_result"
    }
   ],
   "source": [
    "churn_df.OnlineSecurity.value_counts()"
   ]
  },
  {
   "cell_type": "code",
   "execution_count": 39,
   "metadata": {},
   "outputs": [
    {
     "data": {
      "text/plain": [
       "No     5494\n",
       "Yes    4506\n",
       "Name: OnlineBackup, dtype: int64"
      ]
     },
     "execution_count": 39,
     "metadata": {},
     "output_type": "execute_result"
    }
   ],
   "source": [
    "churn_df.OnlineBackup.value_counts()"
   ]
  },
  {
   "cell_type": "code",
   "execution_count": 40,
   "metadata": {},
   "outputs": [
    {
     "data": {
      "text/plain": [
       "No     5614\n",
       "Yes    4386\n",
       "Name: DeviceProtection, dtype: int64"
      ]
     },
     "execution_count": 40,
     "metadata": {},
     "output_type": "execute_result"
    }
   ],
   "source": [
    "churn_df.DeviceProtection.value_counts()"
   ]
  },
  {
   "cell_type": "code",
   "execution_count": 41,
   "metadata": {},
   "outputs": [
    {
     "data": {
      "text/plain": [
       "No     6250\n",
       "Yes    3750\n",
       "Name: TechSupport, dtype: int64"
      ]
     },
     "execution_count": 41,
     "metadata": {},
     "output_type": "execute_result"
    }
   ],
   "source": [
    "churn_df.TechSupport.value_counts()"
   ]
  },
  {
   "cell_type": "code",
   "execution_count": 42,
   "metadata": {},
   "outputs": [
    {
     "data": {
      "text/plain": [
       "No     5071\n",
       "Yes    4929\n",
       "Name: StreamingTV, dtype: int64"
      ]
     },
     "execution_count": 42,
     "metadata": {},
     "output_type": "execute_result"
    }
   ],
   "source": [
    "churn_df.StreamingTV.value_counts()"
   ]
  },
  {
   "cell_type": "code",
   "execution_count": 43,
   "metadata": {},
   "outputs": [
    {
     "data": {
      "text/plain": [
       "No     5110\n",
       "Yes    4890\n",
       "Name: StreamingMovies, dtype: int64"
      ]
     },
     "execution_count": 43,
     "metadata": {},
     "output_type": "execute_result"
    }
   ],
   "source": [
    "churn_df.StreamingMovies.value_counts()"
   ]
  },
  {
   "cell_type": "code",
   "execution_count": 44,
   "metadata": {},
   "outputs": [
    {
     "data": {
      "text/plain": [
       "Yes    5882\n",
       "No     4118\n",
       "Name: PaperlessBilling, dtype: int64"
      ]
     },
     "execution_count": 44,
     "metadata": {},
     "output_type": "execute_result"
    }
   ],
   "source": [
    "churn_df.PaperlessBilling.value_counts()"
   ]
  },
  {
   "cell_type": "code",
   "execution_count": 45,
   "metadata": {
    "scrolled": true
   },
   "outputs": [
    {
     "data": {
      "text/plain": [
       "Electronic Check            3398\n",
       "Mailed Check                2290\n",
       "Bank Transfer(automatic)    2229\n",
       "Credit Card (automatic)     2083\n",
       "Name: PaymentMethod, dtype: int64"
      ]
     },
     "execution_count": 45,
     "metadata": {},
     "output_type": "execute_result"
    }
   ],
   "source": [
    "churn_df.PaymentMethod.value_counts()"
   ]
  },
  {
   "cell_type": "markdown",
   "metadata": {},
   "source": [
    "### Visualizations of Distributions of Variables"
   ]
  },
  {
   "cell_type": "markdown",
   "metadata": {},
   "source": [
    "#### Univariate Statistics"
   ]
  },
  {
   "cell_type": "code",
   "execution_count": 46,
   "metadata": {},
   "outputs": [
    {
     "data": {
      "text/html": [
       "<div>\n",
       "<style scoped>\n",
       "    .dataframe tbody tr th:only-of-type {\n",
       "        vertical-align: middle;\n",
       "    }\n",
       "\n",
       "    .dataframe tbody tr th {\n",
       "        vertical-align: top;\n",
       "    }\n",
       "\n",
       "    .dataframe thead th {\n",
       "        text-align: right;\n",
       "    }\n",
       "</style>\n",
       "<table border=\"1\" class=\"dataframe\">\n",
       "  <thead>\n",
       "    <tr style=\"text-align: right;\">\n",
       "      <th></th>\n",
       "      <th>Children</th>\n",
       "      <th>Age</th>\n",
       "      <th>Income</th>\n",
       "      <th>Outage_sec_perweek</th>\n",
       "      <th>Email</th>\n",
       "      <th>Contacts</th>\n",
       "      <th>Yearly_equip_failure</th>\n",
       "      <th>Tenure</th>\n",
       "      <th>MonthlyCharge</th>\n",
       "      <th>Bandwidth_GB_Year</th>\n",
       "    </tr>\n",
       "  </thead>\n",
       "  <tbody>\n",
       "    <tr>\n",
       "      <th>count</th>\n",
       "      <td>10000.0000</td>\n",
       "      <td>10000.000000</td>\n",
       "      <td>10000.000000</td>\n",
       "      <td>10000.000000</td>\n",
       "      <td>10000.000000</td>\n",
       "      <td>10000.000000</td>\n",
       "      <td>10000.000000</td>\n",
       "      <td>10000.000000</td>\n",
       "      <td>10000.000000</td>\n",
       "      <td>10000.000000</td>\n",
       "    </tr>\n",
       "    <tr>\n",
       "      <th>mean</th>\n",
       "      <td>2.0877</td>\n",
       "      <td>53.078400</td>\n",
       "      <td>39806.926771</td>\n",
       "      <td>10.001848</td>\n",
       "      <td>12.016000</td>\n",
       "      <td>0.994200</td>\n",
       "      <td>0.398000</td>\n",
       "      <td>34.526188</td>\n",
       "      <td>172.624816</td>\n",
       "      <td>3392.341550</td>\n",
       "    </tr>\n",
       "    <tr>\n",
       "      <th>std</th>\n",
       "      <td>2.1472</td>\n",
       "      <td>20.698882</td>\n",
       "      <td>28199.916702</td>\n",
       "      <td>2.976019</td>\n",
       "      <td>3.025898</td>\n",
       "      <td>0.988466</td>\n",
       "      <td>0.635953</td>\n",
       "      <td>26.443063</td>\n",
       "      <td>42.943094</td>\n",
       "      <td>2185.294852</td>\n",
       "    </tr>\n",
       "    <tr>\n",
       "      <th>min</th>\n",
       "      <td>0.0000</td>\n",
       "      <td>18.000000</td>\n",
       "      <td>348.670000</td>\n",
       "      <td>0.099747</td>\n",
       "      <td>1.000000</td>\n",
       "      <td>0.000000</td>\n",
       "      <td>0.000000</td>\n",
       "      <td>1.000259</td>\n",
       "      <td>79.978860</td>\n",
       "      <td>155.506715</td>\n",
       "    </tr>\n",
       "    <tr>\n",
       "      <th>25%</th>\n",
       "      <td>0.0000</td>\n",
       "      <td>35.000000</td>\n",
       "      <td>19224.717500</td>\n",
       "      <td>8.018214</td>\n",
       "      <td>10.000000</td>\n",
       "      <td>0.000000</td>\n",
       "      <td>0.000000</td>\n",
       "      <td>7.917694</td>\n",
       "      <td>139.979239</td>\n",
       "      <td>1236.470827</td>\n",
       "    </tr>\n",
       "    <tr>\n",
       "      <th>50%</th>\n",
       "      <td>1.0000</td>\n",
       "      <td>53.000000</td>\n",
       "      <td>33170.605000</td>\n",
       "      <td>10.018560</td>\n",
       "      <td>12.000000</td>\n",
       "      <td>1.000000</td>\n",
       "      <td>0.000000</td>\n",
       "      <td>35.430507</td>\n",
       "      <td>167.484700</td>\n",
       "      <td>3279.536903</td>\n",
       "    </tr>\n",
       "    <tr>\n",
       "      <th>75%</th>\n",
       "      <td>3.0000</td>\n",
       "      <td>71.000000</td>\n",
       "      <td>53246.170000</td>\n",
       "      <td>11.969485</td>\n",
       "      <td>14.000000</td>\n",
       "      <td>2.000000</td>\n",
       "      <td>1.000000</td>\n",
       "      <td>61.479795</td>\n",
       "      <td>200.734725</td>\n",
       "      <td>5586.141369</td>\n",
       "    </tr>\n",
       "    <tr>\n",
       "      <th>max</th>\n",
       "      <td>10.0000</td>\n",
       "      <td>89.000000</td>\n",
       "      <td>258900.700000</td>\n",
       "      <td>21.207230</td>\n",
       "      <td>23.000000</td>\n",
       "      <td>7.000000</td>\n",
       "      <td>6.000000</td>\n",
       "      <td>71.999280</td>\n",
       "      <td>290.160419</td>\n",
       "      <td>7158.981530</td>\n",
       "    </tr>\n",
       "  </tbody>\n",
       "</table>\n",
       "</div>"
      ],
      "text/plain": [
       "         Children           Age         Income  Outage_sec_perweek  \\\n",
       "count  10000.0000  10000.000000   10000.000000        10000.000000   \n",
       "mean       2.0877     53.078400   39806.926771           10.001848   \n",
       "std        2.1472     20.698882   28199.916702            2.976019   \n",
       "min        0.0000     18.000000     348.670000            0.099747   \n",
       "25%        0.0000     35.000000   19224.717500            8.018214   \n",
       "50%        1.0000     53.000000   33170.605000           10.018560   \n",
       "75%        3.0000     71.000000   53246.170000           11.969485   \n",
       "max       10.0000     89.000000  258900.700000           21.207230   \n",
       "\n",
       "              Email      Contacts  Yearly_equip_failure        Tenure  \\\n",
       "count  10000.000000  10000.000000          10000.000000  10000.000000   \n",
       "mean      12.016000      0.994200              0.398000     34.526188   \n",
       "std        3.025898      0.988466              0.635953     26.443063   \n",
       "min        1.000000      0.000000              0.000000      1.000259   \n",
       "25%       10.000000      0.000000              0.000000      7.917694   \n",
       "50%       12.000000      1.000000              0.000000     35.430507   \n",
       "75%       14.000000      2.000000              1.000000     61.479795   \n",
       "max       23.000000      7.000000              6.000000     71.999280   \n",
       "\n",
       "       MonthlyCharge  Bandwidth_GB_Year  \n",
       "count   10000.000000       10000.000000  \n",
       "mean      172.624816        3392.341550  \n",
       "std        42.943094        2185.294852  \n",
       "min        79.978860         155.506715  \n",
       "25%       139.979239        1236.470827  \n",
       "50%       167.484700        3279.536903  \n",
       "75%       200.734725        5586.141369  \n",
       "max       290.160419        7158.981530  "
      ]
     },
     "execution_count": 46,
     "metadata": {},
     "output_type": "execute_result"
    }
   ],
   "source": [
    "churn_df.describe()"
   ]
  },
  {
   "cell_type": "markdown",
   "metadata": {},
   "source": [
    "Viewing histograms of continuous variables"
   ]
  },
  {
   "cell_type": "code",
   "execution_count": 47,
   "metadata": {},
   "outputs": [
    {
     "data": {
      "text/plain": [
       "array([[<AxesSubplot:title={'center':'Children'}>,\n",
       "        <AxesSubplot:title={'center':'Age'}>,\n",
       "        <AxesSubplot:title={'center':'Income'}>],\n",
       "       [<AxesSubplot:title={'center':'Outage_sec_perweek'}>,\n",
       "        <AxesSubplot:title={'center':'Email'}>,\n",
       "        <AxesSubplot:title={'center':'Contacts'}>],\n",
       "       [<AxesSubplot:title={'center':'Yearly_equip_failure'}>,\n",
       "        <AxesSubplot:title={'center':'Tenure'}>,\n",
       "        <AxesSubplot:title={'center':'MonthlyCharge'}>],\n",
       "       [<AxesSubplot:title={'center':'Bandwidth_GB_Year'}>,\n",
       "        <AxesSubplot:>, <AxesSubplot:>]], dtype=object)"
      ]
     },
     "execution_count": 47,
     "metadata": {},
     "output_type": "execute_result"
    },
    {
     "data": {
      "image/png": "[encoded data removed]",
      "text/plain": [
       "<Figure size 432x288 with 12 Axes>"
      ]
     },
     "metadata": {
      "needs_background": "light"
     },
     "output_type": "display_data"
    }
   ],
   "source": [
    "churn_df[['Children','Age','Income','Outage_sec_perweek','Email','Contacts',\n",
    "          'Yearly_equip_failure','Tenure','MonthlyCharge','Bandwidth_GB_Year']].hist()"
   ]
  },
  {
   "cell_type": "markdown",
   "metadata": {},
   "source": [
    "Viewing boxplots of continuous variables"
   ]
  },
  {
   "cell_type": "code",
   "execution_count": 48,
   "metadata": {},
   "outputs": [
    {
     "data": {
      "text/plain": [
       "<AxesSubplot:xlabel='Children'>"
      ]
     },
     "execution_count": 48,
     "metadata": {},
     "output_type": "execute_result"
    },
    {
     "data": {
      "image/png": "[encoded data removed]",
      "text/plain": [
       "<Figure size 432x288 with 1 Axes>"
      ]
     },
     "metadata": {
      "needs_background": "light"
     },
     "output_type": "display_data"
    }
   ],
   "source": [
    "sns.boxplot(x='Children',data=churn_df)"
   ]
  },
  {
   "cell_type": "code",
   "execution_count": 49,
   "metadata": {},
   "outputs": [
    {
     "data": {
      "text/plain": [
       "<AxesSubplot:xlabel='Age'>"
      ]
     },
     "execution_count": 49,
     "metadata": {},
     "output_type": "execute_result"
    },
    {
     "data": {
      "image/png": "[encoded data removed]",
      "text/plain": [
       "<Figure size 432x288 with 1 Axes>"
      ]
     },
     "metadata": {
      "needs_background": "light"
     },
     "output_type": "display_data"
    }
   ],
   "source": [
    "sns.boxplot(x='Age',data=churn_df)"
   ]
  },
  {
   "cell_type": "code",
   "execution_count": 50,
   "metadata": {},
   "outputs": [
    {
     "data": {
      "text/plain": [
       "<AxesSubplot:xlabel='Income'>"
      ]
     },
     "execution_count": 50,
     "metadata": {},
     "output_type": "execute_result"
    },
    {
     "data": {
      "image/png": "[encoded data removed]",
      "text/plain": [
       "<Figure size 432x288 with 1 Axes>"
      ]
     },
     "metadata": {
      "needs_background": "light"
     },
     "output_type": "display_data"
    }
   ],
   "source": [
    "sns.boxplot(x='Income',data=churn_df)"
   ]
  },
  {
   "cell_type": "code",
   "execution_count": 51,
   "metadata": {},
   "outputs": [
    {
     "data": {
      "text/plain": [
       "<AxesSubplot:xlabel='Outage_sec_perweek'>"
      ]
     },
     "execution_count": 51,
     "metadata": {},
     "output_type": "execute_result"
    },
    {
     "data": {
      "image/png": "[encoded data removed]",
      "text/plain": [
       "<Figure size 432x288 with 1 Axes>"
      ]
     },
     "metadata": {
      "needs_background": "light"
     },
     "output_type": "display_data"
    }
   ],
   "source": [
    "sns.boxplot(x='Outage_sec_perweek',data=churn_df)"
   ]
  },
  {
   "cell_type": "code",
   "execution_count": 52,
   "metadata": {},
   "outputs": [
    {
     "data": {
      "text/plain": [
       "<AxesSubplot:xlabel='Email'>"
      ]
     },
     "execution_count": 52,
     "metadata": {},
     "output_type": "execute_result"
    },
    {
     "data": {
      "image/png": "[encoded data removed]",
      "text/plain": [
       "<Figure size 432x288 with 1 Axes>"
      ]
     },
     "metadata": {
      "needs_background": "light"
     },
     "output_type": "display_data"
    }
   ],
   "source": [
    "sns.boxplot(x='Email',data=churn_df)"
   ]
  },
  {
   "cell_type": "code",
   "execution_count": 53,
   "metadata": {},
   "outputs": [
    {
     "data": {
      "text/plain": [
       "<AxesSubplot:xlabel='Contacts'>"
      ]
     },
     "execution_count": 53,
     "metadata": {},
     "output_type": "execute_result"
    },
    {
     "data": {
      "image/png": "[encoded data removed]",
      "text/plain": [
       "<Figure size 432x288 with 1 Axes>"
      ]
     },
     "metadata": {
      "needs_background": "light"
     },
     "output_type": "display_data"
    }
   ],
   "source": [
    "sns.boxplot(x='Contacts',data=churn_df)"
   ]
  },
  {
   "cell_type": "code",
   "execution_count": 54,
   "metadata": {},
   "outputs": [
    {
     "data": {
      "text/plain": [
       "<AxesSubplot:xlabel='Yearly_equip_failure'>"
      ]
     },
     "execution_count": 54,
     "metadata": {},
     "output_type": "execute_result"
    },
    {
     "data": {
      "image/png": "[encoded data removed]",
      "text/plain": [
       "<Figure size 432x288 with 1 Axes>"
      ]
     },
     "metadata": {
      "needs_background": "light"
     },
     "output_type": "display_data"
    }
   ],
   "source": [
    "sns.boxplot(x='Yearly_equip_failure',data=churn_df)"
   ]
  },
  {
   "cell_type": "code",
   "execution_count": 55,
   "metadata": {},
   "outputs": [
    {
     "data": {
      "text/plain": [
       "<AxesSubplot:xlabel='Tenure'>"
      ]
     },
     "execution_count": 55,
     "metadata": {},
     "output_type": "execute_result"
    },
    {
     "data": {
      "image/png": "[encoded data removed]",
      "text/plain": [
       "<Figure size 432x288 with 1 Axes>"
      ]
     },
     "metadata": {
      "needs_background": "light"
     },
     "output_type": "display_data"
    }
   ],
   "source": [
    "sns.boxplot(x='Tenure',data=churn_df)"
   ]
  },
  {
   "cell_type": "code",
   "execution_count": 56,
   "metadata": {},
   "outputs": [
    {
     "data": {
      "text/plain": [
       "<AxesSubplot:xlabel='MonthlyCharge'>"
      ]
     },
     "execution_count": 56,
     "metadata": {},
     "output_type": "execute_result"
    },
    {
     "data": {
      "image/png": "[encoded data removed]",
      "text/plain": [
       "<Figure size 432x288 with 1 Axes>"
      ]
     },
     "metadata": {
      "needs_background": "light"
     },
     "output_type": "display_data"
    }
   ],
   "source": [
    "sns.boxplot(x='MonthlyCharge',data=churn_df)"
   ]
  },
  {
   "cell_type": "code",
   "execution_count": 57,
   "metadata": {},
   "outputs": [
    {
     "data": {
      "text/plain": [
       "<AxesSubplot:xlabel='Bandwidth_GB_Year'>"
      ]
     },
     "execution_count": 57,
     "metadata": {},
     "output_type": "execute_result"
    },
    {
     "data": {
      "image/png": "[encoded data removed]",
      "text/plain": [
       "<Figure size 432x288 with 1 Axes>"
      ]
     },
     "metadata": {
      "needs_background": "light"
     },
     "output_type": "display_data"
    }
   ],
   "source": [
    "sns.boxplot(x='Bandwidth_GB_Year',data=churn_df)"
   ]
  },
  {
   "cell_type": "markdown",
   "metadata": {},
   "source": [
    "Viewing bar charts of descriptive variables"
   ]
  },
  {
   "cell_type": "code",
   "execution_count": 58,
   "metadata": {},
   "outputs": [
    {
     "data": {
      "text/plain": [
       "<AxesSubplot:xlabel='Marital'>"
      ]
     },
     "execution_count": 58,
     "metadata": {},
     "output_type": "execute_result"
    },
    {
     "data": {
      "image/png": "[encoded data removed]",
      "text/plain": [
       "<Figure size 432x288 with 1 Axes>"
      ]
     },
     "metadata": {
      "needs_background": "light"
     },
     "output_type": "display_data"
    }
   ],
   "source": [
    "churn_df.groupby('Marital').size().plot.bar()"
   ]
  },
  {
   "cell_type": "code",
   "execution_count": 59,
   "metadata": {},
   "outputs": [
    {
     "data": {
      "text/plain": [
       "<AxesSubplot:xlabel='Gender'>"
      ]
     },
     "execution_count": 59,
     "metadata": {},
     "output_type": "execute_result"
    },
    {
     "data": {
      "image/png": "[encoded data removed]",
      "text/plain": [
       "<Figure size 432x288 with 1 Axes>"
      ]
     },
     "metadata": {
      "needs_background": "light"
     },
     "output_type": "display_data"
    }
   ],
   "source": [
    "churn_df.groupby('Gender').size().plot.bar()"
   ]
  },
  {
   "cell_type": "code",
   "execution_count": 60,
   "metadata": {},
   "outputs": [
    {
     "data": {
      "text/plain": [
       "<AxesSubplot:xlabel='Churn'>"
      ]
     },
     "execution_count": 60,
     "metadata": {},
     "output_type": "execute_result"
    },
    {
     "data": {
      "image/png": "[encoded data removed]",
      "text/plain": [
       "<Figure size 432x288 with 1 Axes>"
      ]
     },
     "metadata": {
      "needs_background": "light"
     },
     "output_type": "display_data"
    }
   ],
   "source": [
    "churn_df.groupby('Churn').size().plot.bar()"
   ]
  },
  {
   "cell_type": "code",
   "execution_count": 61,
   "metadata": {},
   "outputs": [
    {
     "data": {
      "text/plain": [
       "<AxesSubplot:xlabel='Techie'>"
      ]
     },
     "execution_count": 61,
     "metadata": {},
     "output_type": "execute_result"
    },
    {
     "data": {
      "image/png": "[encoded data removed]",
      "text/plain": [
       "<Figure size 432x288 with 1 Axes>"
      ]
     },
     "metadata": {
      "needs_background": "light"
     },
     "output_type": "display_data"
    }
   ],
   "source": [
    "churn_df.groupby('Techie').size().plot.bar()"
   ]
  },
  {
   "cell_type": "code",
   "execution_count": 62,
   "metadata": {},
   "outputs": [
    {
     "data": {
      "text/plain": [
       "<AxesSubplot:xlabel='Contract'>"
      ]
     },
     "execution_count": 62,
     "metadata": {},
     "output_type": "execute_result"
    },
    {
     "data": {
      "image/png": "[encoded data removed]",
      "text/plain": [
       "<Figure size 432x288 with 1 Axes>"
      ]
     },
     "metadata": {
      "needs_background": "light"
     },
     "output_type": "display_data"
    }
   ],
   "source": [
    "churn_df.groupby('Contract').size().plot.bar()"
   ]
  },
  {
   "cell_type": "code",
   "execution_count": 63,
   "metadata": {},
   "outputs": [
    {
     "data": {
      "text/plain": [
       "<AxesSubplot:xlabel='Port_modem'>"
      ]
     },
     "execution_count": 63,
     "metadata": {},
     "output_type": "execute_result"
    },
    {
     "data": {
      "image/png": "[encoded data removed]",
      "text/plain": [
       "<Figure size 432x288 with 1 Axes>"
      ]
     },
     "metadata": {
      "needs_background": "light"
     },
     "output_type": "display_data"
    }
   ],
   "source": [
    "churn_df.groupby('Port_modem').size().plot.bar()"
   ]
  },
  {
   "cell_type": "code",
   "execution_count": 64,
   "metadata": {},
   "outputs": [
    {
     "data": {
      "text/plain": [
       "<AxesSubplot:xlabel='Tablet'>"
      ]
     },
     "execution_count": 64,
     "metadata": {},
     "output_type": "execute_result"
    },
    {
     "data": {
      "image/png": "[encoded data removed]",
      "text/plain": [
       "<Figure size 432x288 with 1 Axes>"
      ]
     },
     "metadata": {
      "needs_background": "light"
     },
     "output_type": "display_data"
    }
   ],
   "source": [
    "churn_df.groupby('Tablet').size().plot.bar()"
   ]
  },
  {
   "cell_type": "code",
   "execution_count": 65,
   "metadata": {},
   "outputs": [
    {
     "data": {
      "text/plain": [
       "<AxesSubplot:xlabel='InternetService'>"
      ]
     },
     "execution_count": 65,
     "metadata": {},
     "output_type": "execute_result"
    },
    {
     "data": {
      "image/png": "[encoded data removed]",
      "text/plain": [
       "<Figure size 432x288 with 1 Axes>"
      ]
     },
     "metadata": {
      "needs_background": "light"
     },
     "output_type": "display_data"
    }
   ],
   "source": [
    "churn_df.groupby('InternetService').size().plot.bar()"
   ]
  },
  {
   "cell_type": "code",
   "execution_count": 66,
   "metadata": {},
   "outputs": [
    {
     "data": {
      "text/plain": [
       "<AxesSubplot:xlabel='Phone'>"
      ]
     },
     "execution_count": 66,
     "metadata": {},
     "output_type": "execute_result"
    },
    {
     "data": {
      "image/png": "[encoded data removed]",
      "text/plain": [
       "<Figure size 432x288 with 1 Axes>"
      ]
     },
     "metadata": {
      "needs_background": "light"
     },
     "output_type": "display_data"
    }
   ],
   "source": [
    "churn_df.groupby('Phone').size().plot.bar()"
   ]
  },
  {
   "cell_type": "code",
   "execution_count": 67,
   "metadata": {},
   "outputs": [
    {
     "data": {
      "text/plain": [
       "<AxesSubplot:xlabel='Multiple'>"
      ]
     },
     "execution_count": 67,
     "metadata": {},
     "output_type": "execute_result"
    },
    {
     "data": {
      "image/png": "[encoded data removed]",
      "text/plain": [
       "<Figure size 432x288 with 1 Axes>"
      ]
     },
     "metadata": {
      "needs_background": "light"
     },
     "output_type": "display_data"
    }
   ],
   "source": [
    "churn_df.groupby('Multiple').size().plot.bar()"
   ]
  },
  {
   "cell_type": "code",
   "execution_count": 68,
   "metadata": {},
   "outputs": [
    {
     "data": {
      "text/plain": [
       "<AxesSubplot:xlabel='OnlineSecurity'>"
      ]
     },
     "execution_count": 68,
     "metadata": {},
     "output_type": "execute_result"
    },
    {
     "data": {
      "image/png": "[encoded data removed]",
      "text/plain": [
       "<Figure size 432x288 with 1 Axes>"
      ]
     },
     "metadata": {
      "needs_background": "light"
     },
     "output_type": "display_data"
    }
   ],
   "source": [
    "churn_df.groupby('OnlineSecurity').size().plot.bar()"
   ]
  },
  {
   "cell_type": "code",
   "execution_count": 69,
   "metadata": {},
   "outputs": [
    {
     "data": {
      "text/plain": [
       "<AxesSubplot:xlabel='OnlineBackup'>"
      ]
     },
     "execution_count": 69,
     "metadata": {},
     "output_type": "execute_result"
    },
    {
     "data": {
      "image/png": "[encoded data removed]",
      "text/plain": [
       "<Figure size 432x288 with 1 Axes>"
      ]
     },
     "metadata": {
      "needs_background": "light"
     },
     "output_type": "display_data"
    }
   ],
   "source": [
    "churn_df.groupby('OnlineBackup').size().plot.bar()"
   ]
  },
  {
   "cell_type": "code",
   "execution_count": 70,
   "metadata": {},
   "outputs": [
    {
     "data": {
      "text/plain": [
       "<AxesSubplot:xlabel='DeviceProtection'>"
      ]
     },
     "execution_count": 70,
     "metadata": {},
     "output_type": "execute_result"
    },
    {
     "data": {
      "image/png": "[encoded data removed]",
      "text/plain": [
       "<Figure size 432x288 with 1 Axes>"
      ]
     },
     "metadata": {
      "needs_background": "light"
     },
     "output_type": "display_data"
    }
   ],
   "source": [
    "churn_df.groupby('DeviceProtection').size().plot.bar()"
   ]
  },
  {
   "cell_type": "code",
   "execution_count": 71,
   "metadata": {},
   "outputs": [
    {
     "data": {
      "text/plain": [
       "<AxesSubplot:xlabel='TechSupport'>"
      ]
     },
     "execution_count": 71,
     "metadata": {},
     "output_type": "execute_result"
    },
    {
     "data": {
      "image/png": "[encoded data removed]",
      "text/plain": [
       "<Figure size 432x288 with 1 Axes>"
      ]
     },
     "metadata": {
      "needs_background": "light"
     },
     "output_type": "display_data"
    }
   ],
   "source": [
    "churn_df.groupby('TechSupport').size().plot.bar()"
   ]
  },
  {
   "cell_type": "code",
   "execution_count": 73,
   "metadata": {},
   "outputs": [
    {
     "data": {
      "text/plain": [
       "<AxesSubplot:xlabel='StreamingTV'>"
      ]
     },
     "execution_count": 73,
     "metadata": {},
     "output_type": "execute_result"
    },
    {
     "data": {
      "image/png": "[encoded data removed]",
      "text/plain": [
       "<Figure size 432x288 with 1 Axes>"
      ]
     },
     "metadata": {
      "needs_background": "light"
     },
     "output_type": "display_data"
    }
   ],
   "source": [
    "churn_df.groupby('StreamingTV').size().plot.bar()"
   ]
  },
  {
   "cell_type": "code",
   "execution_count": 74,
   "metadata": {},
   "outputs": [
    {
     "data": {
      "text/plain": [
       "<AxesSubplot:xlabel='StreamingMovies'>"
      ]
     },
     "execution_count": 74,
     "metadata": {},
     "output_type": "execute_result"
    },
    {
     "data": {
      "image/png": "[encoded data removed]",
      "text/plain": [
       "<Figure size 432x288 with 1 Axes>"
      ]
     },
     "metadata": {
      "needs_background": "light"
     },
     "output_type": "display_data"
    }
   ],
   "source": [
    "churn_df.groupby('StreamingMovies').size().plot.bar()"
   ]
  },
  {
   "cell_type": "code",
   "execution_count": 75,
   "metadata": {},
   "outputs": [
    {
     "data": {
      "text/plain": [
       "<AxesSubplot:xlabel='PaperlessBilling'>"
      ]
     },
     "execution_count": 75,
     "metadata": {},
     "output_type": "execute_result"
    },
    {
     "data": {
      "image/png": "[encoded data removed]",
      "text/plain": [
       "<Figure size 432x288 with 1 Axes>"
      ]
     },
     "metadata": {
      "needs_background": "light"
     },
     "output_type": "display_data"
    }
   ],
   "source": [
    "churn_df.groupby('PaperlessBilling').size().plot.bar()"
   ]
  },
  {
   "cell_type": "code",
   "execution_count": 76,
   "metadata": {
    "scrolled": true
   },
   "outputs": [
    {
     "data": {
      "text/plain": [
       "<AxesSubplot:xlabel='PaymentMethod'>"
      ]
     },
     "execution_count": 76,
     "metadata": {},
     "output_type": "execute_result"
    },
    {
     "data": {
      "image/png": "[encoded data removed]",
      "text/plain": [
       "<Figure size 432x288 with 1 Axes>"
      ]
     },
     "metadata": {
      "needs_background": "light"
     },
     "output_type": "display_data"
    }
   ],
   "source": [
    "churn_df.groupby('PaymentMethod').size().plot.bar()"
   ]
  },
  {
   "cell_type": "markdown",
   "metadata": {},
   "source": [
    "**Creating dummy variables for Yes/No categorical variables before visualizing bivariate statistics**"
   ]
  },
  {
   "cell_type": "code",
   "execution_count": 77,
   "metadata": {
    "scrolled": false
   },
   "outputs": [
    {
     "data": {
      "text/plain": [
       "Children                  int64\n",
       "Age                       int64\n",
       "Income                  float64\n",
       "Marital                  object\n",
       "Gender                   object\n",
       "Churn                    object\n",
       "Outage_sec_perweek      float64\n",
       "Email                     int64\n",
       "Contacts                  int64\n",
       "Yearly_equip_failure      int64\n",
       "Techie                   object\n",
       "Contract                 object\n",
       "Port_modem               object\n",
       "Tablet                   object\n",
       "InternetService          object\n",
       "Phone                    object\n",
       "Multiple                 object\n",
       "OnlineSecurity           object\n",
       "OnlineBackup             object\n",
       "DeviceProtection         object\n",
       "TechSupport              object\n",
       "StreamingTV              object\n",
       "StreamingMovies          object\n",
       "PaperlessBilling         object\n",
       "PaymentMethod            object\n",
       "Tenure                  float64\n",
       "MonthlyCharge           float64\n",
       "Bandwidth_GB_Year       float64\n",
       "dtype: object"
      ]
     },
     "execution_count": 77,
     "metadata": {},
     "output_type": "execute_result"
    }
   ],
   "source": [
    "churn_df.dtypes"
   ]
  },
  {
   "cell_type": "code",
   "execution_count": 78,
   "metadata": {},
   "outputs": [
    {
     "data": {
      "text/html": [
       "<div>\n",
       "<style scoped>\n",
       "    .dataframe tbody tr th:only-of-type {\n",
       "        vertical-align: middle;\n",
       "    }\n",
       "\n",
       "    .dataframe tbody tr th {\n",
       "        vertical-align: top;\n",
       "    }\n",
       "\n",
       "    .dataframe thead th {\n",
       "        text-align: right;\n",
       "    }\n",
       "</style>\n",
       "<table border=\"1\" class=\"dataframe\">\n",
       "  <thead>\n",
       "    <tr style=\"text-align: right;\">\n",
       "      <th></th>\n",
       "      <th>Children</th>\n",
       "      <th>Age</th>\n",
       "      <th>Income</th>\n",
       "      <th>Marital</th>\n",
       "      <th>Gender</th>\n",
       "      <th>Churn</th>\n",
       "      <th>Outage_sec_perweek</th>\n",
       "      <th>Email</th>\n",
       "      <th>Contacts</th>\n",
       "      <th>Yearly_equip_failure</th>\n",
       "      <th>Techie</th>\n",
       "      <th>Contract</th>\n",
       "      <th>Port_modem</th>\n",
       "      <th>Tablet</th>\n",
       "      <th>InternetService</th>\n",
       "      <th>Phone</th>\n",
       "      <th>Multiple</th>\n",
       "      <th>OnlineSecurity</th>\n",
       "      <th>OnlineBackup</th>\n",
       "      <th>DeviceProtection</th>\n",
       "      <th>TechSupport</th>\n",
       "      <th>StreamingTV</th>\n",
       "      <th>StreamingMovies</th>\n",
       "      <th>PaperlessBilling</th>\n",
       "      <th>PaymentMethod</th>\n",
       "      <th>Tenure</th>\n",
       "      <th>MonthlyCharge</th>\n",
       "      <th>Bandwidth_GB_Year</th>\n",
       "    </tr>\n",
       "  </thead>\n",
       "  <tbody>\n",
       "    <tr>\n",
       "      <th>0</th>\n",
       "      <td>0</td>\n",
       "      <td>68</td>\n",
       "      <td>28561.99</td>\n",
       "      <td>Widowed</td>\n",
       "      <td>Male</td>\n",
       "      <td>No</td>\n",
       "      <td>7.978323</td>\n",
       "      <td>10</td>\n",
       "      <td>0</td>\n",
       "      <td>1</td>\n",
       "      <td>No</td>\n",
       "      <td>One year</td>\n",
       "      <td>Yes</td>\n",
       "      <td>Yes</td>\n",
       "      <td>Fiber Optic</td>\n",
       "      <td>Yes</td>\n",
       "      <td>No</td>\n",
       "      <td>Yes</td>\n",
       "      <td>Yes</td>\n",
       "      <td>No</td>\n",
       "      <td>No</td>\n",
       "      <td>No</td>\n",
       "      <td>Yes</td>\n",
       "      <td>Yes</td>\n",
       "      <td>Credit Card (automatic)</td>\n",
       "      <td>6.795513</td>\n",
       "      <td>172.455519</td>\n",
       "      <td>904.536110</td>\n",
       "    </tr>\n",
       "    <tr>\n",
       "      <th>1</th>\n",
       "      <td>1</td>\n",
       "      <td>27</td>\n",
       "      <td>21704.77</td>\n",
       "      <td>Married</td>\n",
       "      <td>Female</td>\n",
       "      <td>Yes</td>\n",
       "      <td>11.699080</td>\n",
       "      <td>12</td>\n",
       "      <td>0</td>\n",
       "      <td>1</td>\n",
       "      <td>Yes</td>\n",
       "      <td>Month-to-month</td>\n",
       "      <td>No</td>\n",
       "      <td>Yes</td>\n",
       "      <td>Fiber Optic</td>\n",
       "      <td>Yes</td>\n",
       "      <td>Yes</td>\n",
       "      <td>Yes</td>\n",
       "      <td>No</td>\n",
       "      <td>No</td>\n",
       "      <td>No</td>\n",
       "      <td>Yes</td>\n",
       "      <td>Yes</td>\n",
       "      <td>Yes</td>\n",
       "      <td>Bank Transfer(automatic)</td>\n",
       "      <td>1.156681</td>\n",
       "      <td>242.632554</td>\n",
       "      <td>800.982766</td>\n",
       "    </tr>\n",
       "    <tr>\n",
       "      <th>2</th>\n",
       "      <td>4</td>\n",
       "      <td>50</td>\n",
       "      <td>9609.57</td>\n",
       "      <td>Widowed</td>\n",
       "      <td>Female</td>\n",
       "      <td>No</td>\n",
       "      <td>10.752800</td>\n",
       "      <td>9</td>\n",
       "      <td>0</td>\n",
       "      <td>1</td>\n",
       "      <td>Yes</td>\n",
       "      <td>Two Year</td>\n",
       "      <td>Yes</td>\n",
       "      <td>No</td>\n",
       "      <td>DSL</td>\n",
       "      <td>Yes</td>\n",
       "      <td>Yes</td>\n",
       "      <td>No</td>\n",
       "      <td>No</td>\n",
       "      <td>No</td>\n",
       "      <td>No</td>\n",
       "      <td>No</td>\n",
       "      <td>Yes</td>\n",
       "      <td>Yes</td>\n",
       "      <td>Credit Card (automatic)</td>\n",
       "      <td>15.754144</td>\n",
       "      <td>159.947583</td>\n",
       "      <td>2054.706961</td>\n",
       "    </tr>\n",
       "    <tr>\n",
       "      <th>3</th>\n",
       "      <td>1</td>\n",
       "      <td>48</td>\n",
       "      <td>18925.23</td>\n",
       "      <td>Married</td>\n",
       "      <td>Male</td>\n",
       "      <td>No</td>\n",
       "      <td>14.913540</td>\n",
       "      <td>15</td>\n",
       "      <td>2</td>\n",
       "      <td>0</td>\n",
       "      <td>Yes</td>\n",
       "      <td>Two Year</td>\n",
       "      <td>No</td>\n",
       "      <td>No</td>\n",
       "      <td>DSL</td>\n",
       "      <td>Yes</td>\n",
       "      <td>No</td>\n",
       "      <td>Yes</td>\n",
       "      <td>No</td>\n",
       "      <td>No</td>\n",
       "      <td>No</td>\n",
       "      <td>Yes</td>\n",
       "      <td>No</td>\n",
       "      <td>Yes</td>\n",
       "      <td>Mailed Check</td>\n",
       "      <td>17.087227</td>\n",
       "      <td>119.956840</td>\n",
       "      <td>2164.579412</td>\n",
       "    </tr>\n",
       "    <tr>\n",
       "      <th>4</th>\n",
       "      <td>0</td>\n",
       "      <td>83</td>\n",
       "      <td>40074.19</td>\n",
       "      <td>Separated</td>\n",
       "      <td>Male</td>\n",
       "      <td>Yes</td>\n",
       "      <td>8.147417</td>\n",
       "      <td>16</td>\n",
       "      <td>2</td>\n",
       "      <td>1</td>\n",
       "      <td>No</td>\n",
       "      <td>Month-to-month</td>\n",
       "      <td>Yes</td>\n",
       "      <td>No</td>\n",
       "      <td>Fiber Optic</td>\n",
       "      <td>No</td>\n",
       "      <td>No</td>\n",
       "      <td>No</td>\n",
       "      <td>No</td>\n",
       "      <td>No</td>\n",
       "      <td>Yes</td>\n",
       "      <td>Yes</td>\n",
       "      <td>No</td>\n",
       "      <td>No</td>\n",
       "      <td>Mailed Check</td>\n",
       "      <td>1.670972</td>\n",
       "      <td>149.948316</td>\n",
       "      <td>271.493436</td>\n",
       "    </tr>\n",
       "  </tbody>\n",
       "</table>\n",
       "</div>"
      ],
      "text/plain": [
       "   Children  Age    Income    Marital  Gender Churn  Outage_sec_perweek  \\\n",
       "0         0   68  28561.99    Widowed    Male    No            7.978323   \n",
       "1         1   27  21704.77    Married  Female   Yes           11.699080   \n",
       "2         4   50   9609.57    Widowed  Female    No           10.752800   \n",
       "3         1   48  18925.23    Married    Male    No           14.913540   \n",
       "4         0   83  40074.19  Separated    Male   Yes            8.147417   \n",
       "\n",
       "   Email  Contacts  Yearly_equip_failure Techie        Contract Port_modem  \\\n",
       "0     10         0                     1     No        One year        Yes   \n",
       "1     12         0                     1    Yes  Month-to-month         No   \n",
       "2      9         0                     1    Yes        Two Year        Yes   \n",
       "3     15         2                     0    Yes        Two Year         No   \n",
       "4     16         2                     1     No  Month-to-month        Yes   \n",
       "\n",
       "  Tablet InternetService Phone Multiple OnlineSecurity OnlineBackup  \\\n",
       "0    Yes     Fiber Optic   Yes       No            Yes          Yes   \n",
       "1    Yes     Fiber Optic   Yes      Yes            Yes           No   \n",
       "2     No             DSL   Yes      Yes             No           No   \n",
       "3     No             DSL   Yes       No            Yes           No   \n",
       "4     No     Fiber Optic    No       No             No           No   \n",
       "\n",
       "  DeviceProtection TechSupport StreamingTV StreamingMovies PaperlessBilling  \\\n",
       "0               No          No          No             Yes              Yes   \n",
       "1               No          No         Yes             Yes              Yes   \n",
       "2               No          No          No             Yes              Yes   \n",
       "3               No          No         Yes              No              Yes   \n",
       "4               No         Yes         Yes              No               No   \n",
       "\n",
       "              PaymentMethod     Tenure  MonthlyCharge  Bandwidth_GB_Year  \n",
       "0   Credit Card (automatic)   6.795513     172.455519         904.536110  \n",
       "1  Bank Transfer(automatic)   1.156681     242.632554         800.982766  \n",
       "2   Credit Card (automatic)  15.754144     159.947583        2054.706961  \n",
       "3              Mailed Check  17.087227     119.956840        2164.579412  \n",
       "4              Mailed Check   1.670972     149.948316         271.493436  "
      ]
     },
     "execution_count": 78,
     "metadata": {},
     "output_type": "execute_result"
    }
   ],
   "source": [
    "churn_df.head()"
   ]
  },
  {
   "cell_type": "markdown",
   "metadata": {},
   "source": [
    "**Encoding binary categorical columns as numeric**"
   ]
  },
  {
   "cell_type": "code",
   "execution_count": 79,
   "metadata": {},
   "outputs": [
    {
     "name": "stdout",
     "output_type": "stream",
     "text": [
      "   Children  Age    Income    Marital  Gender  Churn  Outage_sec_perweek  \\\n",
      "0         0   68  28561.99    Widowed    Male      0            7.978323   \n",
      "1         1   27  21704.77    Married  Female      1           11.699080   \n",
      "2         4   50   9609.57    Widowed  Female      0           10.752800   \n",
      "3         1   48  18925.23    Married    Male      0           14.913540   \n",
      "4         0   83  40074.19  Separated    Male      1            8.147417   \n",
      "\n",
      "   Email  Contacts  Yearly_equip_failure  Techie        Contract  Port_modem  \\\n",
      "0     10         0                     1       0        One year           1   \n",
      "1     12         0                     1       1  Month-to-month           0   \n",
      "2      9         0                     1       1        Two Year           1   \n",
      "3     15         2                     0       1        Two Year           0   \n",
      "4     16         2                     1       0  Month-to-month           1   \n",
      "\n",
      "   Tablet InternetService  Phone  Multiple  OnlineSecurity  OnlineBackup  \\\n",
      "0       1     Fiber Optic      1         0               1             1   \n",
      "1       1     Fiber Optic      1         1               1             0   \n",
      "2       0             DSL      1         1               0             0   \n",
      "3       0             DSL      1         0               1             0   \n",
      "4       0     Fiber Optic      0         0               0             0   \n",
      "\n",
      "   DeviceProtection  TechSupport  StreamingTV  StreamingMovies  \\\n",
      "0                 0            0            0                1   \n",
      "1                 0            0            1                1   \n",
      "2                 0            0            0                1   \n",
      "3                 0            0            1                0   \n",
      "4                 0            1            1                0   \n",
      "\n",
      "   PaperlessBilling             PaymentMethod     Tenure  MonthlyCharge  \\\n",
      "0                 1   Credit Card (automatic)   6.795513     172.455519   \n",
      "1                 1  Bank Transfer(automatic)   1.156681     242.632554   \n",
      "2                 1   Credit Card (automatic)  15.754144     159.947583   \n",
      "3                 1              Mailed Check  17.087227     119.956840   \n",
      "4                 0              Mailed Check   1.670972     149.948316   \n",
      "\n",
      "   Bandwidth_GB_Year  \n",
      "0         904.536110  \n",
      "1         800.982766  \n",
      "2        2054.706961  \n",
      "3        2164.579412  \n",
      "4         271.493436  \n"
     ]
    }
   ],
   "source": [
    "binary_columns = ['Churn','Techie','Port_modem','Tablet','Phone','Multiple',\n",
    "                  'OnlineSecurity','OnlineBackup','DeviceProtection',\n",
    "                  'TechSupport','StreamingTV','StreamingMovies','PaperlessBilling']\n",
    "binary_dict = {'Yes':1,'No':0}\n",
    "for col in binary_columns:\n",
    "    churn_df[col] = churn_df[col].replace(binary_dict)\n",
    "print(churn_df.head())"
   ]
  },
  {
   "cell_type": "markdown",
   "metadata": {},
   "source": [
    "**Replacing spaces with underscores within remaining categorical columns**"
   ]
  },
  {
   "cell_type": "code",
   "execution_count": 80,
   "metadata": {},
   "outputs": [
    {
     "data": {
      "text/html": [
       "<div>\n",
       "<style scoped>\n",
       "    .dataframe tbody tr th:only-of-type {\n",
       "        vertical-align: middle;\n",
       "    }\n",
       "\n",
       "    .dataframe tbody tr th {\n",
       "        vertical-align: top;\n",
       "    }\n",
       "\n",
       "    .dataframe thead th {\n",
       "        text-align: right;\n",
       "    }\n",
       "</style>\n",
       "<table border=\"1\" class=\"dataframe\">\n",
       "  <thead>\n",
       "    <tr style=\"text-align: right;\">\n",
       "      <th></th>\n",
       "      <th>Children</th>\n",
       "      <th>Age</th>\n",
       "      <th>Income</th>\n",
       "      <th>Marital</th>\n",
       "      <th>Gender</th>\n",
       "      <th>Churn</th>\n",
       "      <th>Outage_sec_perweek</th>\n",
       "      <th>Email</th>\n",
       "      <th>Contacts</th>\n",
       "      <th>Yearly_equip_failure</th>\n",
       "      <th>Techie</th>\n",
       "      <th>Contract</th>\n",
       "      <th>Port_modem</th>\n",
       "      <th>Tablet</th>\n",
       "      <th>InternetService</th>\n",
       "      <th>Phone</th>\n",
       "      <th>Multiple</th>\n",
       "      <th>OnlineSecurity</th>\n",
       "      <th>OnlineBackup</th>\n",
       "      <th>DeviceProtection</th>\n",
       "      <th>TechSupport</th>\n",
       "      <th>StreamingTV</th>\n",
       "      <th>StreamingMovies</th>\n",
       "      <th>PaperlessBilling</th>\n",
       "      <th>PaymentMethod</th>\n",
       "      <th>Tenure</th>\n",
       "      <th>MonthlyCharge</th>\n",
       "      <th>Bandwidth_GB_Year</th>\n",
       "    </tr>\n",
       "  </thead>\n",
       "  <tbody>\n",
       "    <tr>\n",
       "      <th>0</th>\n",
       "      <td>0</td>\n",
       "      <td>68</td>\n",
       "      <td>28561.99</td>\n",
       "      <td>Widowed</td>\n",
       "      <td>Male</td>\n",
       "      <td>0</td>\n",
       "      <td>7.978323</td>\n",
       "      <td>10</td>\n",
       "      <td>0</td>\n",
       "      <td>1</td>\n",
       "      <td>0</td>\n",
       "      <td>One_year</td>\n",
       "      <td>1</td>\n",
       "      <td>1</td>\n",
       "      <td>Fiber_Optic</td>\n",
       "      <td>1</td>\n",
       "      <td>0</td>\n",
       "      <td>1</td>\n",
       "      <td>1</td>\n",
       "      <td>0</td>\n",
       "      <td>0</td>\n",
       "      <td>0</td>\n",
       "      <td>1</td>\n",
       "      <td>1</td>\n",
       "      <td>Credit_Card_(automatic)</td>\n",
       "      <td>6.795513</td>\n",
       "      <td>172.455519</td>\n",
       "      <td>904.536110</td>\n",
       "    </tr>\n",
       "    <tr>\n",
       "      <th>1</th>\n",
       "      <td>1</td>\n",
       "      <td>27</td>\n",
       "      <td>21704.77</td>\n",
       "      <td>Married</td>\n",
       "      <td>Female</td>\n",
       "      <td>1</td>\n",
       "      <td>11.699080</td>\n",
       "      <td>12</td>\n",
       "      <td>0</td>\n",
       "      <td>1</td>\n",
       "      <td>1</td>\n",
       "      <td>Month-to-month</td>\n",
       "      <td>0</td>\n",
       "      <td>1</td>\n",
       "      <td>Fiber_Optic</td>\n",
       "      <td>1</td>\n",
       "      <td>1</td>\n",
       "      <td>1</td>\n",
       "      <td>0</td>\n",
       "      <td>0</td>\n",
       "      <td>0</td>\n",
       "      <td>1</td>\n",
       "      <td>1</td>\n",
       "      <td>1</td>\n",
       "      <td>Bank_Transfer(automatic)</td>\n",
       "      <td>1.156681</td>\n",
       "      <td>242.632554</td>\n",
       "      <td>800.982766</td>\n",
       "    </tr>\n",
       "    <tr>\n",
       "      <th>2</th>\n",
       "      <td>4</td>\n",
       "      <td>50</td>\n",
       "      <td>9609.57</td>\n",
       "      <td>Widowed</td>\n",
       "      <td>Female</td>\n",
       "      <td>0</td>\n",
       "      <td>10.752800</td>\n",
       "      <td>9</td>\n",
       "      <td>0</td>\n",
       "      <td>1</td>\n",
       "      <td>1</td>\n",
       "      <td>Two_Year</td>\n",
       "      <td>1</td>\n",
       "      <td>0</td>\n",
       "      <td>DSL</td>\n",
       "      <td>1</td>\n",
       "      <td>1</td>\n",
       "      <td>0</td>\n",
       "      <td>0</td>\n",
       "      <td>0</td>\n",
       "      <td>0</td>\n",
       "      <td>0</td>\n",
       "      <td>1</td>\n",
       "      <td>1</td>\n",
       "      <td>Credit_Card_(automatic)</td>\n",
       "      <td>15.754144</td>\n",
       "      <td>159.947583</td>\n",
       "      <td>2054.706961</td>\n",
       "    </tr>\n",
       "    <tr>\n",
       "      <th>3</th>\n",
       "      <td>1</td>\n",
       "      <td>48</td>\n",
       "      <td>18925.23</td>\n",
       "      <td>Married</td>\n",
       "      <td>Male</td>\n",
       "      <td>0</td>\n",
       "      <td>14.913540</td>\n",
       "      <td>15</td>\n",
       "      <td>2</td>\n",
       "      <td>0</td>\n",
       "      <td>1</td>\n",
       "      <td>Two_Year</td>\n",
       "      <td>0</td>\n",
       "      <td>0</td>\n",
       "      <td>DSL</td>\n",
       "      <td>1</td>\n",
       "      <td>0</td>\n",
       "      <td>1</td>\n",
       "      <td>0</td>\n",
       "      <td>0</td>\n",
       "      <td>0</td>\n",
       "      <td>1</td>\n",
       "      <td>0</td>\n",
       "      <td>1</td>\n",
       "      <td>Mailed_Check</td>\n",
       "      <td>17.087227</td>\n",
       "      <td>119.956840</td>\n",
       "      <td>2164.579412</td>\n",
       "    </tr>\n",
       "    <tr>\n",
       "      <th>4</th>\n",
       "      <td>0</td>\n",
       "      <td>83</td>\n",
       "      <td>40074.19</td>\n",
       "      <td>Separated</td>\n",
       "      <td>Male</td>\n",
       "      <td>1</td>\n",
       "      <td>8.147417</td>\n",
       "      <td>16</td>\n",
       "      <td>2</td>\n",
       "      <td>1</td>\n",
       "      <td>0</td>\n",
       "      <td>Month-to-month</td>\n",
       "      <td>1</td>\n",
       "      <td>0</td>\n",
       "      <td>Fiber_Optic</td>\n",
       "      <td>0</td>\n",
       "      <td>0</td>\n",
       "      <td>0</td>\n",
       "      <td>0</td>\n",
       "      <td>0</td>\n",
       "      <td>1</td>\n",
       "      <td>1</td>\n",
       "      <td>0</td>\n",
       "      <td>0</td>\n",
       "      <td>Mailed_Check</td>\n",
       "      <td>1.670972</td>\n",
       "      <td>149.948316</td>\n",
       "      <td>271.493436</td>\n",
       "    </tr>\n",
       "  </tbody>\n",
       "</table>\n",
       "</div>"
      ],
      "text/plain": [
       "   Children  Age    Income    Marital  Gender  Churn  Outage_sec_perweek  \\\n",
       "0         0   68  28561.99    Widowed    Male      0            7.978323   \n",
       "1         1   27  21704.77    Married  Female      1           11.699080   \n",
       "2         4   50   9609.57    Widowed  Female      0           10.752800   \n",
       "3         1   48  18925.23    Married    Male      0           14.913540   \n",
       "4         0   83  40074.19  Separated    Male      1            8.147417   \n",
       "\n",
       "   Email  Contacts  Yearly_equip_failure  Techie        Contract  Port_modem  \\\n",
       "0     10         0                     1       0        One_year           1   \n",
       "1     12         0                     1       1  Month-to-month           0   \n",
       "2      9         0                     1       1        Two_Year           1   \n",
       "3     15         2                     0       1        Two_Year           0   \n",
       "4     16         2                     1       0  Month-to-month           1   \n",
       "\n",
       "   Tablet InternetService  Phone  Multiple  OnlineSecurity  OnlineBackup  \\\n",
       "0       1     Fiber_Optic      1         0               1             1   \n",
       "1       1     Fiber_Optic      1         1               1             0   \n",
       "2       0             DSL      1         1               0             0   \n",
       "3       0             DSL      1         0               1             0   \n",
       "4       0     Fiber_Optic      0         0               0             0   \n",
       "\n",
       "   DeviceProtection  TechSupport  StreamingTV  StreamingMovies  \\\n",
       "0                 0            0            0                1   \n",
       "1                 0            0            1                1   \n",
       "2                 0            0            0                1   \n",
       "3                 0            0            1                0   \n",
       "4                 0            1            1                0   \n",
       "\n",
       "   PaperlessBilling             PaymentMethod     Tenure  MonthlyCharge  \\\n",
       "0                 1   Credit_Card_(automatic)   6.795513     172.455519   \n",
       "1                 1  Bank_Transfer(automatic)   1.156681     242.632554   \n",
       "2                 1   Credit_Card_(automatic)  15.754144     159.947583   \n",
       "3                 1              Mailed_Check  17.087227     119.956840   \n",
       "4                 0              Mailed_Check   1.670972     149.948316   \n",
       "\n",
       "   Bandwidth_GB_Year  \n",
       "0         904.536110  \n",
       "1         800.982766  \n",
       "2        2054.706961  \n",
       "3        2164.579412  \n",
       "4         271.493436  "
      ]
     },
     "execution_count": 80,
     "metadata": {},
     "output_type": "execute_result"
    }
   ],
   "source": [
    "churn_df['Contract']=churn_df['Contract'].str.replace(' ','_')\n",
    "churn_df['InternetService']=churn_df['InternetService'].str.replace(' ','_')\n",
    "churn_df['PaymentMethod']=churn_df['PaymentMethod'].str.replace(' ','_')\n",
    "#Ensuring spaces were removed\n",
    "churn_df.head()"
   ]
  },
  {
   "cell_type": "markdown",
   "metadata": {},
   "source": [
    "**Using one-hot encoding for the columns: Marital, Contract, Internet Service and Payment Method:**"
   ]
  },
  {
   "cell_type": "code",
   "execution_count": 81,
   "metadata": {},
   "outputs": [],
   "source": [
    "x1=['Marital','Gender','Contract','InternetService','PaymentMethod']\n",
    "churn_df=pd.get_dummies(churn_df, prefix=x1, prefix_sep='_', dummy_na=False, columns=x1)"
   ]
  },
  {
   "cell_type": "markdown",
   "metadata": {},
   "source": [
    "**Viewing column names after encoding and ensuring all data types are now numeric:**"
   ]
  },
  {
   "cell_type": "code",
   "execution_count": 82,
   "metadata": {},
   "outputs": [
    {
     "name": "stdout",
     "output_type": "stream",
     "text": [
      "<class 'pandas.core.frame.DataFrame'>\n",
      "RangeIndex: 10000 entries, 0 to 9999\n",
      "Data columns (total 41 columns):\n",
      " #   Column                                  Non-Null Count  Dtype  \n",
      "---  ------                                  --------------  -----  \n",
      " 0   Children                                10000 non-null  int64  \n",
      " 1   Age                                     10000 non-null  int64  \n",
      " 2   Income                                  10000 non-null  float64\n",
      " 3   Churn                                   10000 non-null  int64  \n",
      " 4   Outage_sec_perweek                      10000 non-null  float64\n",
      " 5   Email                                   10000 non-null  int64  \n",
      " 6   Contacts                                10000 non-null  int64  \n",
      " 7   Yearly_equip_failure                    10000 non-null  int64  \n",
      " 8   Techie                                  10000 non-null  int64  \n",
      " 9   Port_modem                              10000 non-null  int64  \n",
      " 10  Tablet                                  10000 non-null  int64  \n",
      " 11  Phone                                   10000 non-null  int64  \n",
      " 12  Multiple                                10000 non-null  int64  \n",
      " 13  OnlineSecurity                          10000 non-null  int64  \n",
      " 14  OnlineBackup                            10000 non-null  int64  \n",
      " 15  DeviceProtection                        10000 non-null  int64  \n",
      " 16  TechSupport                             10000 non-null  int64  \n",
      " 17  StreamingTV                             10000 non-null  int64  \n",
      " 18  StreamingMovies                         10000 non-null  int64  \n",
      " 19  PaperlessBilling                        10000 non-null  int64  \n",
      " 20  Tenure                                  10000 non-null  float64\n",
      " 21  MonthlyCharge                           10000 non-null  float64\n",
      " 22  Bandwidth_GB_Year                       10000 non-null  float64\n",
      " 23  Marital_Divorced                        10000 non-null  uint8  \n",
      " 24  Marital_Married                         10000 non-null  uint8  \n",
      " 25  Marital_Never Married                   10000 non-null  uint8  \n",
      " 26  Marital_Separated                       10000 non-null  uint8  \n",
      " 27  Marital_Widowed                         10000 non-null  uint8  \n",
      " 28  Gender_Female                           10000 non-null  uint8  \n",
      " 29  Gender_Male                             10000 non-null  uint8  \n",
      " 30  Gender_Nonbinary                        10000 non-null  uint8  \n",
      " 31  Contract_Month-to-month                 10000 non-null  uint8  \n",
      " 32  Contract_One_year                       10000 non-null  uint8  \n",
      " 33  Contract_Two_Year                       10000 non-null  uint8  \n",
      " 34  InternetService_DSL                     10000 non-null  uint8  \n",
      " 35  InternetService_Fiber_Optic             10000 non-null  uint8  \n",
      " 36  InternetService_None                    10000 non-null  uint8  \n",
      " 37  PaymentMethod_Bank_Transfer(automatic)  10000 non-null  uint8  \n",
      " 38  PaymentMethod_Credit_Card_(automatic)   10000 non-null  uint8  \n",
      " 39  PaymentMethod_Electronic_Check          10000 non-null  uint8  \n",
      " 40  PaymentMethod_Mailed_Check              10000 non-null  uint8  \n",
      "dtypes: float64(5), int64(18), uint8(18)\n",
      "memory usage: 1.9 MB\n"
     ]
    }
   ],
   "source": [
    "churn_df.info()"
   ]
  },
  {
   "cell_type": "markdown",
   "metadata": {},
   "source": [
    "Previewing dataframe after encoding"
   ]
  },
  {
   "cell_type": "code",
   "execution_count": 83,
   "metadata": {},
   "outputs": [
    {
     "data": {
      "text/html": [
       "<div>\n",
       "<style scoped>\n",
       "    .dataframe tbody tr th:only-of-type {\n",
       "        vertical-align: middle;\n",
       "    }\n",
       "\n",
       "    .dataframe tbody tr th {\n",
       "        vertical-align: top;\n",
       "    }\n",
       "\n",
       "    .dataframe thead th {\n",
       "        text-align: right;\n",
       "    }\n",
       "</style>\n",
       "<table border=\"1\" class=\"dataframe\">\n",
       "  <thead>\n",
       "    <tr style=\"text-align: right;\">\n",
       "      <th></th>\n",
       "      <th>Children</th>\n",
       "      <th>Age</th>\n",
       "      <th>Income</th>\n",
       "      <th>Churn</th>\n",
       "      <th>Outage_sec_perweek</th>\n",
       "      <th>Email</th>\n",
       "      <th>Contacts</th>\n",
       "      <th>Yearly_equip_failure</th>\n",
       "      <th>Techie</th>\n",
       "      <th>Port_modem</th>\n",
       "      <th>Tablet</th>\n",
       "      <th>Phone</th>\n",
       "      <th>Multiple</th>\n",
       "      <th>OnlineSecurity</th>\n",
       "      <th>OnlineBackup</th>\n",
       "      <th>DeviceProtection</th>\n",
       "      <th>TechSupport</th>\n",
       "      <th>StreamingTV</th>\n",
       "      <th>StreamingMovies</th>\n",
       "      <th>PaperlessBilling</th>\n",
       "      <th>Tenure</th>\n",
       "      <th>MonthlyCharge</th>\n",
       "      <th>Bandwidth_GB_Year</th>\n",
       "      <th>Marital_Divorced</th>\n",
       "      <th>Marital_Married</th>\n",
       "      <th>Marital_Never Married</th>\n",
       "      <th>Marital_Separated</th>\n",
       "      <th>Marital_Widowed</th>\n",
       "      <th>Gender_Female</th>\n",
       "      <th>Gender_Male</th>\n",
       "      <th>Gender_Nonbinary</th>\n",
       "      <th>Contract_Month-to-month</th>\n",
       "      <th>Contract_One_year</th>\n",
       "      <th>Contract_Two_Year</th>\n",
       "      <th>InternetService_DSL</th>\n",
       "      <th>InternetService_Fiber_Optic</th>\n",
       "      <th>InternetService_None</th>\n",
       "      <th>PaymentMethod_Bank_Transfer(automatic)</th>\n",
       "      <th>PaymentMethod_Credit_Card_(automatic)</th>\n",
       "      <th>PaymentMethod_Electronic_Check</th>\n",
       "      <th>PaymentMethod_Mailed_Check</th>\n",
       "    </tr>\n",
       "  </thead>\n",
       "  <tbody>\n",
       "    <tr>\n",
       "      <th>0</th>\n",
       "      <td>0</td>\n",
       "      <td>68</td>\n",
       "      <td>28561.99</td>\n",
       "      <td>0</td>\n",
       "      <td>7.978323</td>\n",
       "      <td>10</td>\n",
       "      <td>0</td>\n",
       "      <td>1</td>\n",
       "      <td>0</td>\n",
       "      <td>1</td>\n",
       "      <td>1</td>\n",
       "      <td>1</td>\n",
       "      <td>0</td>\n",
       "      <td>1</td>\n",
       "      <td>1</td>\n",
       "      <td>0</td>\n",
       "      <td>0</td>\n",
       "      <td>0</td>\n",
       "      <td>1</td>\n",
       "      <td>1</td>\n",
       "      <td>6.795513</td>\n",
       "      <td>172.455519</td>\n",
       "      <td>904.536110</td>\n",
       "      <td>0</td>\n",
       "      <td>0</td>\n",
       "      <td>0</td>\n",
       "      <td>0</td>\n",
       "      <td>1</td>\n",
       "      <td>0</td>\n",
       "      <td>1</td>\n",
       "      <td>0</td>\n",
       "      <td>0</td>\n",
       "      <td>1</td>\n",
       "      <td>0</td>\n",
       "      <td>0</td>\n",
       "      <td>1</td>\n",
       "      <td>0</td>\n",
       "      <td>0</td>\n",
       "      <td>1</td>\n",
       "      <td>0</td>\n",
       "      <td>0</td>\n",
       "    </tr>\n",
       "    <tr>\n",
       "      <th>1</th>\n",
       "      <td>1</td>\n",
       "      <td>27</td>\n",
       "      <td>21704.77</td>\n",
       "      <td>1</td>\n",
       "      <td>11.699080</td>\n",
       "      <td>12</td>\n",
       "      <td>0</td>\n",
       "      <td>1</td>\n",
       "      <td>1</td>\n",
       "      <td>0</td>\n",
       "      <td>1</td>\n",
       "      <td>1</td>\n",
       "      <td>1</td>\n",
       "      <td>1</td>\n",
       "      <td>0</td>\n",
       "      <td>0</td>\n",
       "      <td>0</td>\n",
       "      <td>1</td>\n",
       "      <td>1</td>\n",
       "      <td>1</td>\n",
       "      <td>1.156681</td>\n",
       "      <td>242.632554</td>\n",
       "      <td>800.982766</td>\n",
       "      <td>0</td>\n",
       "      <td>1</td>\n",
       "      <td>0</td>\n",
       "      <td>0</td>\n",
       "      <td>0</td>\n",
       "      <td>1</td>\n",
       "      <td>0</td>\n",
       "      <td>0</td>\n",
       "      <td>1</td>\n",
       "      <td>0</td>\n",
       "      <td>0</td>\n",
       "      <td>0</td>\n",
       "      <td>1</td>\n",
       "      <td>0</td>\n",
       "      <td>1</td>\n",
       "      <td>0</td>\n",
       "      <td>0</td>\n",
       "      <td>0</td>\n",
       "    </tr>\n",
       "    <tr>\n",
       "      <th>2</th>\n",
       "      <td>4</td>\n",
       "      <td>50</td>\n",
       "      <td>9609.57</td>\n",
       "      <td>0</td>\n",
       "      <td>10.752800</td>\n",
       "      <td>9</td>\n",
       "      <td>0</td>\n",
       "      <td>1</td>\n",
       "      <td>1</td>\n",
       "      <td>1</td>\n",
       "      <td>0</td>\n",
       "      <td>1</td>\n",
       "      <td>1</td>\n",
       "      <td>0</td>\n",
       "      <td>0</td>\n",
       "      <td>0</td>\n",
       "      <td>0</td>\n",
       "      <td>0</td>\n",
       "      <td>1</td>\n",
       "      <td>1</td>\n",
       "      <td>15.754144</td>\n",
       "      <td>159.947583</td>\n",
       "      <td>2054.706961</td>\n",
       "      <td>0</td>\n",
       "      <td>0</td>\n",
       "      <td>0</td>\n",
       "      <td>0</td>\n",
       "      <td>1</td>\n",
       "      <td>1</td>\n",
       "      <td>0</td>\n",
       "      <td>0</td>\n",
       "      <td>0</td>\n",
       "      <td>0</td>\n",
       "      <td>1</td>\n",
       "      <td>1</td>\n",
       "      <td>0</td>\n",
       "      <td>0</td>\n",
       "      <td>0</td>\n",
       "      <td>1</td>\n",
       "      <td>0</td>\n",
       "      <td>0</td>\n",
       "    </tr>\n",
       "    <tr>\n",
       "      <th>3</th>\n",
       "      <td>1</td>\n",
       "      <td>48</td>\n",
       "      <td>18925.23</td>\n",
       "      <td>0</td>\n",
       "      <td>14.913540</td>\n",
       "      <td>15</td>\n",
       "      <td>2</td>\n",
       "      <td>0</td>\n",
       "      <td>1</td>\n",
       "      <td>0</td>\n",
       "      <td>0</td>\n",
       "      <td>1</td>\n",
       "      <td>0</td>\n",
       "      <td>1</td>\n",
       "      <td>0</td>\n",
       "      <td>0</td>\n",
       "      <td>0</td>\n",
       "      <td>1</td>\n",
       "      <td>0</td>\n",
       "      <td>1</td>\n",
       "      <td>17.087227</td>\n",
       "      <td>119.956840</td>\n",
       "      <td>2164.579412</td>\n",
       "      <td>0</td>\n",
       "      <td>1</td>\n",
       "      <td>0</td>\n",
       "      <td>0</td>\n",
       "      <td>0</td>\n",
       "      <td>0</td>\n",
       "      <td>1</td>\n",
       "      <td>0</td>\n",
       "      <td>0</td>\n",
       "      <td>0</td>\n",
       "      <td>1</td>\n",
       "      <td>1</td>\n",
       "      <td>0</td>\n",
       "      <td>0</td>\n",
       "      <td>0</td>\n",
       "      <td>0</td>\n",
       "      <td>0</td>\n",
       "      <td>1</td>\n",
       "    </tr>\n",
       "    <tr>\n",
       "      <th>4</th>\n",
       "      <td>0</td>\n",
       "      <td>83</td>\n",
       "      <td>40074.19</td>\n",
       "      <td>1</td>\n",
       "      <td>8.147417</td>\n",
       "      <td>16</td>\n",
       "      <td>2</td>\n",
       "      <td>1</td>\n",
       "      <td>0</td>\n",
       "      <td>1</td>\n",
       "      <td>0</td>\n",
       "      <td>0</td>\n",
       "      <td>0</td>\n",
       "      <td>0</td>\n",
       "      <td>0</td>\n",
       "      <td>0</td>\n",
       "      <td>1</td>\n",
       "      <td>1</td>\n",
       "      <td>0</td>\n",
       "      <td>0</td>\n",
       "      <td>1.670972</td>\n",
       "      <td>149.948316</td>\n",
       "      <td>271.493436</td>\n",
       "      <td>0</td>\n",
       "      <td>0</td>\n",
       "      <td>0</td>\n",
       "      <td>1</td>\n",
       "      <td>0</td>\n",
       "      <td>0</td>\n",
       "      <td>1</td>\n",
       "      <td>0</td>\n",
       "      <td>1</td>\n",
       "      <td>0</td>\n",
       "      <td>0</td>\n",
       "      <td>0</td>\n",
       "      <td>1</td>\n",
       "      <td>0</td>\n",
       "      <td>0</td>\n",
       "      <td>0</td>\n",
       "      <td>0</td>\n",
       "      <td>1</td>\n",
       "    </tr>\n",
       "  </tbody>\n",
       "</table>\n",
       "</div>"
      ],
      "text/plain": [
       "   Children  Age    Income  Churn  Outage_sec_perweek  Email  Contacts  \\\n",
       "0         0   68  28561.99      0            7.978323     10         0   \n",
       "1         1   27  21704.77      1           11.699080     12         0   \n",
       "2         4   50   9609.57      0           10.752800      9         0   \n",
       "3         1   48  18925.23      0           14.913540     15         2   \n",
       "4         0   83  40074.19      1            8.147417     16         2   \n",
       "\n",
       "   Yearly_equip_failure  Techie  Port_modem  Tablet  Phone  Multiple  \\\n",
       "0                     1       0           1       1      1         0   \n",
       "1                     1       1           0       1      1         1   \n",
       "2                     1       1           1       0      1         1   \n",
       "3                     0       1           0       0      1         0   \n",
       "4                     1       0           1       0      0         0   \n",
       "\n",
       "   OnlineSecurity  OnlineBackup  DeviceProtection  TechSupport  StreamingTV  \\\n",
       "0               1             1                 0            0            0   \n",
       "1               1             0                 0            0            1   \n",
       "2               0             0                 0            0            0   \n",
       "3               1             0                 0            0            1   \n",
       "4               0             0                 0            1            1   \n",
       "\n",
       "   StreamingMovies  PaperlessBilling     Tenure  MonthlyCharge  \\\n",
       "0                1                 1   6.795513     172.455519   \n",
       "1                1                 1   1.156681     242.632554   \n",
       "2                1                 1  15.754144     159.947583   \n",
       "3                0                 1  17.087227     119.956840   \n",
       "4                0                 0   1.670972     149.948316   \n",
       "\n",
       "   Bandwidth_GB_Year  Marital_Divorced  Marital_Married  \\\n",
       "0         904.536110                 0                0   \n",
       "1         800.982766                 0                1   \n",
       "2        2054.706961                 0                0   \n",
       "3        2164.579412                 0                1   \n",
       "4         271.493436                 0                0   \n",
       "\n",
       "   Marital_Never Married  Marital_Separated  Marital_Widowed  Gender_Female  \\\n",
       "0                      0                  0                1              0   \n",
       "1                      0                  0                0              1   \n",
       "2                      0                  0                1              1   \n",
       "3                      0                  0                0              0   \n",
       "4                      0                  1                0              0   \n",
       "\n",
       "   Gender_Male  Gender_Nonbinary  Contract_Month-to-month  Contract_One_year  \\\n",
       "0            1                 0                        0                  1   \n",
       "1            0                 0                        1                  0   \n",
       "2            0                 0                        0                  0   \n",
       "3            1                 0                        0                  0   \n",
       "4            1                 0                        1                  0   \n",
       "\n",
       "   Contract_Two_Year  InternetService_DSL  InternetService_Fiber_Optic  \\\n",
       "0                  0                    0                            1   \n",
       "1                  0                    0                            1   \n",
       "2                  1                    1                            0   \n",
       "3                  1                    1                            0   \n",
       "4                  0                    0                            1   \n",
       "\n",
       "   InternetService_None  PaymentMethod_Bank_Transfer(automatic)  \\\n",
       "0                     0                                       0   \n",
       "1                     0                                       1   \n",
       "2                     0                                       0   \n",
       "3                     0                                       0   \n",
       "4                     0                                       0   \n",
       "\n",
       "   PaymentMethod_Credit_Card_(automatic)  PaymentMethod_Electronic_Check  \\\n",
       "0                                      1                               0   \n",
       "1                                      0                               0   \n",
       "2                                      1                               0   \n",
       "3                                      0                               0   \n",
       "4                                      0                               0   \n",
       "\n",
       "   PaymentMethod_Mailed_Check  \n",
       "0                           0  \n",
       "1                           0  \n",
       "2                           0  \n",
       "3                           1  \n",
       "4                           1  "
      ]
     },
     "execution_count": 83,
     "metadata": {},
     "output_type": "execute_result"
    }
   ],
   "source": [
    "churn_df.head(5)"
   ]
  },
  {
   "cell_type": "markdown",
   "metadata": {},
   "source": [
    "#### Bivariate Statistics"
   ]
  },
  {
   "cell_type": "markdown",
   "metadata": {},
   "source": [
    "Visualizing Bivariate Statistics"
   ]
  },
  {
   "cell_type": "code",
   "execution_count": 84,
   "metadata": {},
   "outputs": [
    {
     "data": {
      "text/plain": [
       "<AxesSubplot:xlabel='Age', ylabel='Churn'>"
      ]
     },
     "execution_count": 84,
     "metadata": {},
     "output_type": "execute_result"
    },
    {
     "data": {
      "image/png": "[encoded data removed]",
      "text/plain": [
       "<Figure size 432x288 with 1 Axes>"
      ]
     },
     "metadata": {
      "needs_background": "light"
     },
     "output_type": "display_data"
    }
   ],
   "source": [
    "sns.scatterplot(x=churn_df['Age'], y=churn_df['Churn'])"
   ]
  },
  {
   "cell_type": "code",
   "execution_count": 85,
   "metadata": {},
   "outputs": [
    {
     "data": {
      "text/plain": [
       "<AxesSubplot:xlabel='Income', ylabel='Churn'>"
      ]
     },
     "execution_count": 85,
     "metadata": {},
     "output_type": "execute_result"
    },
    {
     "data": {
      "image/png": "[encoded data removed]",
      "text/plain": [
       "<Figure size 432x288 with 1 Axes>"
      ]
     },
     "metadata": {
      "needs_background": "light"
     },
     "output_type": "display_data"
    }
   ],
   "source": [
    "sns.scatterplot(x=churn_df['Income'], y=churn_df['Churn'])"
   ]
  },
  {
   "cell_type": "code",
   "execution_count": 86,
   "metadata": {},
   "outputs": [
    {
     "data": {
      "text/plain": [
       "<AxesSubplot:xlabel='Children', ylabel='Churn'>"
      ]
     },
     "execution_count": 86,
     "metadata": {},
     "output_type": "execute_result"
    },
    {
     "data": {
      "image/png": "[encoded data removed]",
      "text/plain": [
       "<Figure size 432x288 with 1 Axes>"
      ]
     },
     "metadata": {
      "needs_background": "light"
     },
     "output_type": "display_data"
    }
   ],
   "source": [
    "sns.scatterplot(x=churn_df['Children'], y=churn_df['Churn'])"
   ]
  },
  {
   "cell_type": "code",
   "execution_count": 87,
   "metadata": {},
   "outputs": [
    {
     "data": {
      "text/plain": [
       "<AxesSubplot:xlabel='Churn'>"
      ]
     },
     "execution_count": 87,
     "metadata": {},
     "output_type": "execute_result"
    },
    {
     "data": {
      "image/png": "[encoded data removed]",
      "text/plain": [
       "<Figure size 454.25x360 with 1 Axes>"
      ]
     },
     "metadata": {
      "needs_background": "light"
     },
     "output_type": "display_data"
    },
    {
     "data": {
      "image/png": "[encoded data removed]",
      "text/plain": [
       "<Figure size 432x288 with 1 Axes>"
      ]
     },
     "metadata": {
      "needs_background": "light"
     },
     "output_type": "display_data"
    }
   ],
   "source": [
    "sns.catplot(x='Churn', hue='StreamingMovies', kind = 'count',data=churn_df)\n",
    "\n",
    "tbl=pd.pivot_table(churn_df.groupby([\"Churn\",\"StreamingMovies\"]).size().reset_index(), values=0, \n",
    "                   index=\"Churn\", columns=[\"StreamingMovies\"],aggfunc=np.sum)\n",
    "tbl.plot(kind='bar', stacked=True)"
   ]
  },
  {
   "cell_type": "markdown",
   "metadata": {},
   "source": [
    "Interestingly, those who streamed movies were more likely to churn."
   ]
  },
  {
   "cell_type": "code",
   "execution_count": 88,
   "metadata": {},
   "outputs": [
    {
     "data": {
      "text/plain": [
       "<AxesSubplot:xlabel='Churn'>"
      ]
     },
     "execution_count": 88,
     "metadata": {},
     "output_type": "execute_result"
    },
    {
     "data": {
      "image/png": "[encoded data removed]",
      "text/plain": [
       "<Figure size 432.375x360 with 1 Axes>"
      ]
     },
     "metadata": {
      "needs_background": "light"
     },
     "output_type": "display_data"
    },
    {
     "data": {
      "image/png": "[encoded data removed]",
      "text/plain": [
       "<Figure size 432x288 with 1 Axes>"
      ]
     },
     "metadata": {
      "needs_background": "light"
     },
     "output_type": "display_data"
    }
   ],
   "source": [
    "sns.catplot(x='Churn', hue='StreamingTV', kind = 'count',data=churn_df)\n",
    "\n",
    "tbl=pd.pivot_table(churn_df.groupby([\"Churn\",\"StreamingTV\"]).size().reset_index(), \n",
    "                   values=0, index=\"Churn\", columns=[\"StreamingTV\"],aggfunc=np.sum)\n",
    "tbl.plot(kind='bar', stacked=True)"
   ]
  },
  {
   "cell_type": "code",
   "execution_count": 89,
   "metadata": {},
   "outputs": [
    {
     "data": {
      "text/plain": [
       "<AxesSubplot:xlabel='Churn'>"
      ]
     },
     "execution_count": 89,
     "metadata": {},
     "output_type": "execute_result"
    },
    {
     "data": {
      "image/png": "[encoded data removed]",
      "text/plain": [
       "<Figure size 432x288 with 1 Axes>"
      ]
     },
     "metadata": {
      "needs_background": "light"
     },
     "output_type": "display_data"
    }
   ],
   "source": [
    "tbl=pd.pivot_table(churn_df.groupby([\"Churn\",\"StreamingTV\"]).size().reset_index(), \n",
    "                   values=0, index=\"Churn\", columns=[\"StreamingTV\"],aggfunc=np.sum)\n",
    "tbl.plot(kind='bar', stacked=True)"
   ]
  },
  {
   "cell_type": "markdown",
   "metadata": {},
   "source": [
    "Similarly, those who did stream TV were more likely to churn. Streaming could be an area for further data analysis, as it could possibly be a factor in customer churn."
   ]
  },
  {
   "cell_type": "code",
   "execution_count": 90,
   "metadata": {},
   "outputs": [
    {
     "data": {
      "text/plain": [
       "<AxesSubplot:xlabel='Churn'>"
      ]
     },
     "execution_count": 90,
     "metadata": {},
     "output_type": "execute_result"
    },
    {
     "data": {
      "image/png": "[encoded data removed]",
      "text/plain": [
       "<Figure size 446.75x360 with 1 Axes>"
      ]
     },
     "metadata": {
      "needs_background": "light"
     },
     "output_type": "display_data"
    },
    {
     "data": {
      "image/png": "[encoded data removed]",
      "text/plain": [
       "<Figure size 432x288 with 1 Axes>"
      ]
     },
     "metadata": {
      "needs_background": "light"
     },
     "output_type": "display_data"
    }
   ],
   "source": [
    "sns.catplot(x='Churn', hue='PaperlessBilling', kind = 'count',data=churn_df)\n",
    "\n",
    "tbl=pd.pivot_table(churn_df.groupby([\"Churn\",\"PaperlessBilling\"]).size().reset_index(), \n",
    "                   values=0, index=\"Churn\", columns=[\"PaperlessBilling\"],aggfunc=np.sum)\n",
    "tbl.plot(kind='bar', stacked=True)"
   ]
  },
  {
   "cell_type": "markdown",
   "metadata": {},
   "source": [
    "Paperless billing does not seem to affect churn."
   ]
  },
  {
   "cell_type": "code",
   "execution_count": 91,
   "metadata": {},
   "outputs": [
    {
     "data": {
      "text/plain": [
       "<AxesSubplot:xlabel='Tenure', ylabel='Churn'>"
      ]
     },
     "execution_count": 91,
     "metadata": {},
     "output_type": "execute_result"
    },
    {
     "data": {
      "image/png": "[encoded data removed]",
      "text/plain": [
       "<Figure size 432x288 with 1 Axes>"
      ]
     },
     "metadata": {
      "needs_background": "light"
     },
     "output_type": "display_data"
    }
   ],
   "source": [
    "sns.scatterplot(x=churn_df['Tenure'], y=churn_df['Churn'])"
   ]
  },
  {
   "cell_type": "code",
   "execution_count": 92,
   "metadata": {},
   "outputs": [
    {
     "data": {
      "text/plain": [
       "<AxesSubplot:xlabel='Bandwidth_GB_Year', ylabel='Churn'>"
      ]
     },
     "execution_count": 92,
     "metadata": {},
     "output_type": "execute_result"
    },
    {
     "data": {
      "image/png": "[encoded data removed]",
      "text/plain": [
       "<Figure size 432x288 with 1 Axes>"
      ]
     },
     "metadata": {
      "needs_background": "light"
     },
     "output_type": "display_data"
    }
   ],
   "source": [
    "sns.scatterplot(x=churn_df['Bandwidth_GB_Year'], y=churn_df['Churn'])"
   ]
  },
  {
   "cell_type": "code",
   "execution_count": 93,
   "metadata": {},
   "outputs": [
    {
     "data": {
      "text/plain": [
       "<AxesSubplot:xlabel='Churn'>"
      ]
     },
     "execution_count": 93,
     "metadata": {},
     "output_type": "execute_result"
    },
    {
     "data": {
      "image/png": "[encoded data removed]",
      "text/plain": [
       "<Figure size 402.375x360 with 1 Axes>"
      ]
     },
     "metadata": {
      "needs_background": "light"
     },
     "output_type": "display_data"
    },
    {
     "data": {
      "image/png": "[encoded data removed]",
      "text/plain": [
       "<Figure size 432x288 with 1 Axes>"
      ]
     },
     "metadata": {
      "needs_background": "light"
     },
     "output_type": "display_data"
    }
   ],
   "source": [
    "sns.catplot(x='Churn', hue='Phone', kind = 'count',data=churn_df)\n",
    "\n",
    "tbl=pd.pivot_table(churn_df.groupby([\"Churn\",\"Phone\"]).size().reset_index(), \n",
    "                   values=0, index=\"Churn\", columns=[\"Phone\"],aggfunc=np.sum)\n",
    "tbl.plot(kind='bar', stacked=True)"
   ]
  },
  {
   "cell_type": "code",
   "execution_count": 94,
   "metadata": {},
   "outputs": [
    {
     "data": {
      "text/plain": [
       "<AxesSubplot:xlabel='Phone', ylabel='Churn'>"
      ]
     },
     "execution_count": 94,
     "metadata": {},
     "output_type": "execute_result"
    },
    {
     "data": {
      "image/png": "[encoded data removed]",
      "text/plain": [
       "<Figure size 432x288 with 1 Axes>"
      ]
     },
     "metadata": {
      "needs_background": "light"
     },
     "output_type": "display_data"
    }
   ],
   "source": [
    "sns.scatterplot(x=churn_df['Phone'], y=churn_df['Churn'])"
   ]
  },
  {
   "cell_type": "code",
   "execution_count": 95,
   "metadata": {},
   "outputs": [
    {
     "data": {
      "text/plain": [
       "<AxesSubplot:xlabel='Churn'>"
      ]
     },
     "execution_count": 95,
     "metadata": {},
     "output_type": "execute_result"
    },
    {
     "data": {
      "image/png": "[encoded data removed]",
      "text/plain": [
       "<Figure size 429.375x360 with 1 Axes>"
      ]
     },
     "metadata": {
      "needs_background": "light"
     },
     "output_type": "display_data"
    },
    {
     "data": {
      "image/png": "[encoded data removed]",
      "text/plain": [
       "<Figure size 432x288 with 1 Axes>"
      ]
     },
     "metadata": {
      "needs_background": "light"
     },
     "output_type": "display_data"
    }
   ],
   "source": [
    "sns.catplot(x='Churn', hue='TechSupport', kind = 'count',data=churn_df)\n",
    "\n",
    "tbl=pd.pivot_table(churn_df.groupby([\"Churn\",\"TechSupport\"]).size().reset_index(), \n",
    "                   values=0, index=\"Churn\", columns=[\"TechSupport\"],aggfunc=np.sum)\n",
    "tbl.plot(kind='bar', stacked=True)"
   ]
  },
  {
   "cell_type": "code",
   "execution_count": 96,
   "metadata": {},
   "outputs": [
    {
     "data": {
      "text/plain": [
       "<AxesSubplot:xlabel='TechSupport', ylabel='Churn'>"
      ]
     },
     "execution_count": 96,
     "metadata": {},
     "output_type": "execute_result"
    },
    {
     "data": {
      "image/png": "[encoded data removed]",
      "text/plain": [
       "<Figure size 432x288 with 1 Axes>"
      ]
     },
     "metadata": {
      "needs_background": "light"
     },
     "output_type": "display_data"
    }
   ],
   "source": [
    "sns.scatterplot(x=churn_df['TechSupport'], y=churn_df['Churn'])"
   ]
  },
  {
   "cell_type": "code",
   "execution_count": 97,
   "metadata": {},
   "outputs": [
    {
     "data": {
      "text/plain": [
       "<AxesSubplot:xlabel='Churn'>"
      ]
     },
     "execution_count": 97,
     "metadata": {},
     "output_type": "execute_result"
    },
    {
     "data": {
      "image/png": "[encoded data removed]",
      "text/plain": [
       "<Figure size 402.375x360 with 1 Axes>"
      ]
     },
     "metadata": {
      "needs_background": "light"
     },
     "output_type": "display_data"
    },
    {
     "data": {
      "image/png": "[encoded data removed]",
      "text/plain": [
       "<Figure size 432x288 with 1 Axes>"
      ]
     },
     "metadata": {
      "needs_background": "light"
     },
     "output_type": "display_data"
    }
   ],
   "source": [
    "sns.catplot(x='Churn', hue='Techie', kind = 'count',data=churn_df)\n",
    "\n",
    "tbl=pd.pivot_table(churn_df.groupby([\"Churn\",\"Techie\"]).size().reset_index(), \n",
    "                   values=0, index=\"Churn\", columns=[\"Techie\"],aggfunc=np.sum)\n",
    "tbl.plot(kind='bar', stacked=True)"
   ]
  },
  {
   "cell_type": "code",
   "execution_count": 98,
   "metadata": {},
   "outputs": [
    {
     "data": {
      "text/plain": [
       "<AxesSubplot:xlabel='Churn'>"
      ]
     },
     "execution_count": 98,
     "metadata": {},
     "output_type": "execute_result"
    },
    {
     "data": {
      "image/png": "[encoded data removed]",
      "text/plain": [
       "<Figure size 432x288 with 1 Axes>"
      ]
     },
     "metadata": {
      "needs_background": "light"
     },
     "output_type": "display_data"
    }
   ],
   "source": [
    "tbl=pd.pivot_table(churn_df.groupby([\"Churn\",\"Yearly_equip_failure\"]).size().reset_index(), \n",
    "                   values=0, index=\"Churn\", columns=[\"Yearly_equip_failure\"],aggfunc=np.sum)\n",
    "tbl.plot(kind='bar', stacked=True)"
   ]
  },
  {
   "cell_type": "code",
   "execution_count": 99,
   "metadata": {},
   "outputs": [
    {
     "data": {
      "text/plain": [
       "<AxesSubplot:xlabel='Yearly_equip_failure', ylabel='Churn'>"
      ]
     },
     "execution_count": 99,
     "metadata": {},
     "output_type": "execute_result"
    },
    {
     "data": {
      "image/png": "[encoded data removed]",
      "text/plain": [
       "<Figure size 432x288 with 1 Axes>"
      ]
     },
     "metadata": {
      "needs_background": "light"
     },
     "output_type": "display_data"
    }
   ],
   "source": [
    "sns.scatterplot(x=churn_df['Yearly_equip_failure'], y=churn_df['Churn'])"
   ]
  },
  {
   "cell_type": "markdown",
   "metadata": {},
   "source": [
    "**Utilizing SciKit Learn's SelectKBest**"
   ]
  },
  {
   "cell_type": "code",
   "execution_count": 100,
   "metadata": {},
   "outputs": [
    {
     "name": "stdout",
     "output_type": "stream",
     "text": [
      "(10000, 40)\n",
      "(10000,)\n"
     ]
    }
   ],
   "source": [
    "#Assigning all predictor features to X\n",
    "X = churn_df.drop([\"Churn\"],1)\n",
    "#Assigning Dependent Variable to y\n",
    "y = churn_df[\"Churn\"]\n",
    "print(X.shape)\n",
    "print(y.shape)"
   ]
  },
  {
   "cell_type": "code",
   "execution_count": 101,
   "metadata": {},
   "outputs": [
    {
     "data": {
      "text/plain": [
       "(10000, 40)"
      ]
     },
     "execution_count": 101,
     "metadata": {},
     "output_type": "execute_result"
    }
   ],
   "source": [
    "feature_names=X.columns\n",
    "skbest=SelectKBest(score_func=f_classif, k='all')\n",
    "X_new=skbest.fit_transform(X, y)\n",
    "X_new.shape"
   ]
  },
  {
   "cell_type": "code",
   "execution_count": 102,
   "metadata": {},
   "outputs": [
    {
     "data": {
      "text/plain": [
       "19                            Tenure\n",
       "21                 Bandwidth_GB_Year\n",
       "20                     MonthlyCharge\n",
       "17                   StreamingMovies\n",
       "30           Contract_Month-to-month\n",
       "16                       StreamingTV\n",
       "32                 Contract_Two_Year\n",
       "31                 Contract_One_year\n",
       "11                          Multiple\n",
       "33               InternetService_DSL\n",
       "7                             Techie\n",
       "34       InternetService_Fiber_Optic\n",
       "14                  DeviceProtection\n",
       "13                      OnlineBackup\n",
       "35              InternetService_None\n",
       "38    PaymentMethod_Electronic_Check\n",
       "28                       Gender_Male\n",
       "27                     Gender_Female\n",
       "10                             Phone\n",
       "Name: Feature, dtype: object"
      ]
     },
     "execution_count": 102,
     "metadata": {},
     "output_type": "execute_result"
    }
   ],
   "source": [
    "# Utilizing P-values to select significant features \n",
    "p_values = pd.DataFrame({'Feature': X.columns, 'p_value':skbest.pvalues_}).sort_values('p_value')\n",
    "p_values[p_values['p_value'] < .05]\n",
    "features_to_keep = p_values['Feature'][p_values['p_value'] < .05]\n",
    "# Print the name of the selected features\n",
    "features_to_keep"
   ]
  },
  {
   "cell_type": "markdown",
   "metadata": {},
   "source": [
    "Features to keep have been identified and are listed above. Reviewing all columns and dropping the features I will not be keeping."
   ]
  },
  {
   "cell_type": "code",
   "execution_count": 103,
   "metadata": {},
   "outputs": [
    {
     "data": {
      "text/plain": [
       "Index(['Children', 'Age', 'Income', 'Churn', 'Outage_sec_perweek', 'Email',\n",
       "       'Contacts', 'Yearly_equip_failure', 'Techie', 'Port_modem', 'Tablet',\n",
       "       'Phone', 'Multiple', 'OnlineSecurity', 'OnlineBackup',\n",
       "       'DeviceProtection', 'TechSupport', 'StreamingTV', 'StreamingMovies',\n",
       "       'PaperlessBilling', 'Tenure', 'MonthlyCharge', 'Bandwidth_GB_Year',\n",
       "       'Marital_Divorced', 'Marital_Married', 'Marital_Never Married',\n",
       "       'Marital_Separated', 'Marital_Widowed', 'Gender_Female', 'Gender_Male',\n",
       "       'Gender_Nonbinary', 'Contract_Month-to-month', 'Contract_One_year',\n",
       "       'Contract_Two_Year', 'InternetService_DSL',\n",
       "       'InternetService_Fiber_Optic', 'InternetService_None',\n",
       "       'PaymentMethod_Bank_Transfer(automatic)',\n",
       "       'PaymentMethod_Credit_Card_(automatic)',\n",
       "       'PaymentMethod_Electronic_Check', 'PaymentMethod_Mailed_Check'],\n",
       "      dtype='object')"
      ]
     },
     "execution_count": 103,
     "metadata": {},
     "output_type": "execute_result"
    }
   ],
   "source": [
    "churn_df.columns"
   ]
  },
  {
   "cell_type": "code",
   "execution_count": 104,
   "metadata": {},
   "outputs": [
    {
     "name": "stdout",
     "output_type": "stream",
     "text": [
      "<class 'pandas.core.frame.DataFrame'>\n",
      "RangeIndex: 10000 entries, 0 to 9999\n",
      "Data columns (total 20 columns):\n",
      " #   Column                          Non-Null Count  Dtype  \n",
      "---  ------                          --------------  -----  \n",
      " 0   Churn                           10000 non-null  int64  \n",
      " 1   Techie                          10000 non-null  int64  \n",
      " 2   Phone                           10000 non-null  int64  \n",
      " 3   Multiple                        10000 non-null  int64  \n",
      " 4   OnlineBackup                    10000 non-null  int64  \n",
      " 5   DeviceProtection                10000 non-null  int64  \n",
      " 6   StreamingTV                     10000 non-null  int64  \n",
      " 7   StreamingMovies                 10000 non-null  int64  \n",
      " 8   Tenure                          10000 non-null  float64\n",
      " 9   MonthlyCharge                   10000 non-null  float64\n",
      " 10  Bandwidth_GB_Year               10000 non-null  float64\n",
      " 11  Gender_Female                   10000 non-null  uint8  \n",
      " 12  Gender_Male                     10000 non-null  uint8  \n",
      " 13  Contract_Month-to-month         10000 non-null  uint8  \n",
      " 14  Contract_One_year               10000 non-null  uint8  \n",
      " 15  Contract_Two_Year               10000 non-null  uint8  \n",
      " 16  InternetService_DSL             10000 non-null  uint8  \n",
      " 17  InternetService_Fiber_Optic     10000 non-null  uint8  \n",
      " 18  InternetService_None            10000 non-null  uint8  \n",
      " 19  PaymentMethod_Electronic_Check  10000 non-null  uint8  \n",
      "dtypes: float64(3), int64(8), uint8(9)\n",
      "memory usage: 947.4 KB\n"
     ]
    }
   ],
   "source": [
    "churn_df=churn_df.drop(columns=['Children','Age','Income','Outage_sec_perweek','Email',\n",
    "                                'Contacts','Yearly_equip_failure','Port_modem','Tablet',\n",
    "                                'OnlineSecurity','TechSupport','PaperlessBilling','Marital_Divorced',\n",
    "                                'Marital_Married','Marital_Never Married','Marital_Separated', \n",
    "                                'Marital_Widowed','Gender_Nonbinary',\n",
    "                                'PaymentMethod_Bank_Transfer(automatic)',\n",
    "                                'PaymentMethod_Credit_Card_(automatic)','PaymentMethod_Mailed_Check'])\n",
    "churn_df.info()"
   ]
  },
  {
   "cell_type": "code",
   "execution_count": null,
   "metadata": {},
   "outputs": [],
   "source": []
  },
  {
   "cell_type": "markdown",
   "metadata": {},
   "source": [
    "### C4. Copy of Prepared Data Set"
   ]
  },
  {
   "cell_type": "code",
   "execution_count": 105,
   "metadata": {},
   "outputs": [],
   "source": [
    "churn_df.to_csv('churn_prepared_KNN.csv')"
   ]
  },
  {
   "cell_type": "markdown",
   "metadata": {},
   "source": [
    "## Part IV: Analysis"
   ]
  },
  {
   "cell_type": "markdown",
   "metadata": {},
   "source": [
    "### D1. Splitting the Data into Training and Testing Data Sets"
   ]
  },
  {
   "cell_type": "markdown",
   "metadata": {},
   "source": [
    "Code source: (Datacamp, n.d.)"
   ]
  },
  {
   "cell_type": "code",
   "execution_count": 106,
   "metadata": {},
   "outputs": [
    {
     "data": {
      "text/html": [
       "<div>\n",
       "<style scoped>\n",
       "    .dataframe tbody tr th:only-of-type {\n",
       "        vertical-align: middle;\n",
       "    }\n",
       "\n",
       "    .dataframe tbody tr th {\n",
       "        vertical-align: top;\n",
       "    }\n",
       "\n",
       "    .dataframe thead th {\n",
       "        text-align: right;\n",
       "    }\n",
       "</style>\n",
       "<table border=\"1\" class=\"dataframe\">\n",
       "  <thead>\n",
       "    <tr style=\"text-align: right;\">\n",
       "      <th></th>\n",
       "      <th>Churn</th>\n",
       "      <th>Techie</th>\n",
       "      <th>Phone</th>\n",
       "      <th>Multiple</th>\n",
       "      <th>OnlineBackup</th>\n",
       "      <th>DeviceProtection</th>\n",
       "      <th>StreamingTV</th>\n",
       "      <th>StreamingMovies</th>\n",
       "      <th>Tenure</th>\n",
       "      <th>MonthlyCharge</th>\n",
       "      <th>Bandwidth_GB_Year</th>\n",
       "      <th>Gender_Female</th>\n",
       "      <th>Gender_Male</th>\n",
       "      <th>Contract_Month-to-month</th>\n",
       "      <th>Contract_One_year</th>\n",
       "      <th>Contract_Two_Year</th>\n",
       "      <th>InternetService_DSL</th>\n",
       "      <th>InternetService_Fiber_Optic</th>\n",
       "      <th>InternetService_None</th>\n",
       "      <th>PaymentMethod_Electronic_Check</th>\n",
       "    </tr>\n",
       "  </thead>\n",
       "  <tbody>\n",
       "    <tr>\n",
       "      <th>0</th>\n",
       "      <td>0</td>\n",
       "      <td>-0.449198</td>\n",
       "      <td>0.320781</td>\n",
       "      <td>-0.924445</td>\n",
       "      <td>1.104203</td>\n",
       "      <td>-0.88389</td>\n",
       "      <td>-0.985899</td>\n",
       "      <td>1.022247</td>\n",
       "      <td>-1.048746</td>\n",
       "      <td>-0.003943</td>\n",
       "      <td>-1.138487</td>\n",
       "      <td>-1.005013</td>\n",
       "      <td>1.052581</td>\n",
       "      <td>-1.095767</td>\n",
       "      <td>1.938395</td>\n",
       "      <td>-0.568420</td>\n",
       "      <td>-0.727842</td>\n",
       "      <td>1.126323</td>\n",
       "      <td>-0.520083</td>\n",
       "      <td>-0.717421</td>\n",
       "    </tr>\n",
       "    <tr>\n",
       "      <th>1</th>\n",
       "      <td>1</td>\n",
       "      <td>2.226191</td>\n",
       "      <td>0.320781</td>\n",
       "      <td>1.081730</td>\n",
       "      <td>-0.905631</td>\n",
       "      <td>-0.88389</td>\n",
       "      <td>1.014302</td>\n",
       "      <td>1.022247</td>\n",
       "      <td>-1.262001</td>\n",
       "      <td>1.630326</td>\n",
       "      <td>-1.185876</td>\n",
       "      <td>0.995012</td>\n",
       "      <td>-0.950046</td>\n",
       "      <td>0.912603</td>\n",
       "      <td>-0.515891</td>\n",
       "      <td>-0.568420</td>\n",
       "      <td>-0.727842</td>\n",
       "      <td>1.126323</td>\n",
       "      <td>-0.520083</td>\n",
       "      <td>-0.717421</td>\n",
       "    </tr>\n",
       "    <tr>\n",
       "      <th>2</th>\n",
       "      <td>0</td>\n",
       "      <td>2.226191</td>\n",
       "      <td>0.320781</td>\n",
       "      <td>1.081730</td>\n",
       "      <td>-0.905631</td>\n",
       "      <td>-0.88389</td>\n",
       "      <td>-0.985899</td>\n",
       "      <td>1.022247</td>\n",
       "      <td>-0.709940</td>\n",
       "      <td>-0.295225</td>\n",
       "      <td>-0.612138</td>\n",
       "      <td>0.995012</td>\n",
       "      <td>-0.950046</td>\n",
       "      <td>-1.095767</td>\n",
       "      <td>-0.515891</td>\n",
       "      <td>1.759262</td>\n",
       "      <td>1.373925</td>\n",
       "      <td>-0.887845</td>\n",
       "      <td>-0.520083</td>\n",
       "      <td>-0.717421</td>\n",
       "    </tr>\n",
       "    <tr>\n",
       "      <th>3</th>\n",
       "      <td>0</td>\n",
       "      <td>2.226191</td>\n",
       "      <td>0.320781</td>\n",
       "      <td>-0.924445</td>\n",
       "      <td>-0.905631</td>\n",
       "      <td>-0.88389</td>\n",
       "      <td>1.014302</td>\n",
       "      <td>-0.978237</td>\n",
       "      <td>-0.659524</td>\n",
       "      <td>-1.226521</td>\n",
       "      <td>-0.561857</td>\n",
       "      <td>-1.005013</td>\n",
       "      <td>1.052581</td>\n",
       "      <td>-1.095767</td>\n",
       "      <td>-0.515891</td>\n",
       "      <td>1.759262</td>\n",
       "      <td>1.373925</td>\n",
       "      <td>-0.887845</td>\n",
       "      <td>-0.520083</td>\n",
       "      <td>-0.717421</td>\n",
       "    </tr>\n",
       "    <tr>\n",
       "      <th>4</th>\n",
       "      <td>1</td>\n",
       "      <td>-0.449198</td>\n",
       "      <td>-3.117389</td>\n",
       "      <td>-0.924445</td>\n",
       "      <td>-0.905631</td>\n",
       "      <td>-0.88389</td>\n",
       "      <td>1.014302</td>\n",
       "      <td>-0.978237</td>\n",
       "      <td>-1.242551</td>\n",
       "      <td>-0.528086</td>\n",
       "      <td>-1.428184</td>\n",
       "      <td>-1.005013</td>\n",
       "      <td>1.052581</td>\n",
       "      <td>0.912603</td>\n",
       "      <td>-0.515891</td>\n",
       "      <td>-0.568420</td>\n",
       "      <td>-0.727842</td>\n",
       "      <td>1.126323</td>\n",
       "      <td>-0.520083</td>\n",
       "      <td>-0.717421</td>\n",
       "    </tr>\n",
       "  </tbody>\n",
       "</table>\n",
       "</div>"
      ],
      "text/plain": [
       "   Churn    Techie     Phone  Multiple  OnlineBackup  DeviceProtection  \\\n",
       "0      0 -0.449198  0.320781 -0.924445      1.104203          -0.88389   \n",
       "1      1  2.226191  0.320781  1.081730     -0.905631          -0.88389   \n",
       "2      0  2.226191  0.320781  1.081730     -0.905631          -0.88389   \n",
       "3      0  2.226191  0.320781 -0.924445     -0.905631          -0.88389   \n",
       "4      1 -0.449198 -3.117389 -0.924445     -0.905631          -0.88389   \n",
       "\n",
       "   StreamingTV  StreamingMovies    Tenure  MonthlyCharge  Bandwidth_GB_Year  \\\n",
       "0    -0.985899         1.022247 -1.048746      -0.003943          -1.138487   \n",
       "1     1.014302         1.022247 -1.262001       1.630326          -1.185876   \n",
       "2    -0.985899         1.022247 -0.709940      -0.295225          -0.612138   \n",
       "3     1.014302        -0.978237 -0.659524      -1.226521          -0.561857   \n",
       "4     1.014302        -0.978237 -1.242551      -0.528086          -1.428184   \n",
       "\n",
       "   Gender_Female  Gender_Male  Contract_Month-to-month  Contract_One_year  \\\n",
       "0      -1.005013     1.052581                -1.095767           1.938395   \n",
       "1       0.995012    -0.950046                 0.912603          -0.515891   \n",
       "2       0.995012    -0.950046                -1.095767          -0.515891   \n",
       "3      -1.005013     1.052581                -1.095767          -0.515891   \n",
       "4      -1.005013     1.052581                 0.912603          -0.515891   \n",
       "\n",
       "   Contract_Two_Year  InternetService_DSL  InternetService_Fiber_Optic  \\\n",
       "0          -0.568420            -0.727842                     1.126323   \n",
       "1          -0.568420            -0.727842                     1.126323   \n",
       "2           1.759262             1.373925                    -0.887845   \n",
       "3           1.759262             1.373925                    -0.887845   \n",
       "4          -0.568420            -0.727842                     1.126323   \n",
       "\n",
       "   InternetService_None  PaymentMethod_Electronic_Check  \n",
       "0             -0.520083                       -0.717421  \n",
       "1             -0.520083                       -0.717421  \n",
       "2             -0.520083                       -0.717421  \n",
       "3             -0.520083                       -0.717421  \n",
       "4             -0.520083                       -0.717421  "
      ]
     },
     "execution_count": 106,
     "metadata": {},
     "output_type": "execute_result"
    }
   ],
   "source": [
    "scaler=StandardScaler()\n",
    "churn_df_pred = churn_df.drop(['Churn'], axis=1)\n",
    "churn_df_pred_std = pd.DataFrame(scaler.fit_transform(churn_df_pred), columns = churn_df_pred.columns)\n",
    "churn_df_resp = churn_df['Churn']\n",
    "frames = [churn_df_resp, churn_df_pred_std]\n",
    "churn_df_std = pd.concat(frames, axis=1)\n",
    "churn_df_std.head()"
   ]
  },
  {
   "cell_type": "code",
   "execution_count": 107,
   "metadata": {},
   "outputs": [
    {
     "name": "stdout",
     "output_type": "stream",
     "text": [
      "X: (10000, 19)\n",
      "y (10000, 1)\n",
      "X_train: (8000, 19)\n",
      "y_train: (8000, 1)\n",
      "X_test: (2000, 19)\n",
      "y_test: (2000, 1)\n"
     ]
    }
   ],
   "source": [
    "X=churn_df.drop('Churn', axis=1)\n",
    "y=churn_df[['Churn']]\n",
    "print('X:',X.shape)\n",
    "print('y',y.shape)\n",
    "# Creating training and test sets and setting random state for reproducibility\n",
    "X_train, X_test, y_train, y_test=train_test_split(X, y, test_size=.20, random_state=1, stratify=y)\n",
    "print('X_train: {}'.format(X_train.shape))\n",
    "print('y_train: {}'.format(y_train.shape))\n",
    "print('X_test: {}'.format(X_test.shape))\n",
    "print('y_test: {}'.format(y_test.shape))"
   ]
  },
  {
   "cell_type": "markdown",
   "metadata": {},
   "source": [
    "**Exporting the training and testing data sets**"
   ]
  },
  {
   "cell_type": "code",
   "execution_count": 108,
   "metadata": {},
   "outputs": [],
   "source": [
    "X_train.to_csv('D209_KNN_X_train.csv')\n",
    "X_test.to_csv('D209_KNN_X_test.csv')\n",
    "y_train.to_csv('D209_KNN_y_train.csv')\n",
    "y_test.to_csv('D209_KNN_y_test.csv')"
   ]
  },
  {
   "cell_type": "markdown",
   "metadata": {},
   "source": [
    "### D2. Description of Analysis Technique Used to Appropriately Analyze the Data"
   ]
  },
  {
   "cell_type": "markdown",
   "metadata": {},
   "source": [
    "Now that the data has been scaled and split into training and testing sets, a k-Nearest Neighbor (k-NN) model will be created and fitted with the training data to make classification predictions on the test data. \n",
    "\n",
    "As previously stated, SciKit Learn's k-NN will begin by looking at 'k' nearest data points and will determine the classification based on the majority of 'k' nearest data points. The expected outcomes of k-NN will be the classification of the data point, based on the majority of 'k' nearest data points. The accuracy of the classification prediction will be dependent on the factors previously mentioned, and hyperparameters can be tuned to achieve the best possible results.\n",
    "\n",
    "Once created, the initial k-NN model will be analyzed to determine how accurately it can predict a customer's churn. After the initial model's accuracy has been determined, SciKit Learn's GridSearchCV will be used to tune the hyperparameters of the model. Multiple values of n_neighbors ('k') will be assessed to determine the best value for n_neighbors ('k') based on the possible performance of the model. \n",
    "\n",
    "Once the optimal value of n_neighbors ('k') has been determined with GridSearchCV, the model will be updated with the new hyperparameter value, accuracy scores will then be reassessed with the final model.  \n",
    "\n",
    "Standard Euclidean distance is the most common choice, and will be used as a default with the creation of these models."
   ]
  },
  {
   "cell_type": "markdown",
   "metadata": {},
   "source": [
    "### D3. Code Used to Perform the Classification Analysis (D2)"
   ]
  },
  {
   "cell_type": "markdown",
   "metadata": {},
   "source": [
    "Code source: (Datacamp, n.d.)"
   ]
  },
  {
   "cell_type": "code",
   "execution_count": 109,
   "metadata": {},
   "outputs": [
    {
     "name": "stdout",
     "output_type": "stream",
     "text": [
      "The confusion matrix for the KNN model\n",
      "[[1316  154]\n",
      " [ 216  314]]\n",
      "              precision    recall  f1-score   support\n",
      "\n",
      "           0       0.86      0.90      0.88      1470\n",
      "           1       0.67      0.59      0.63       530\n",
      "\n",
      "    accuracy                           0.81      2000\n",
      "   macro avg       0.76      0.74      0.75      2000\n",
      "weighted avg       0.81      0.81      0.81      2000\n",
      "\n"
     ]
    }
   ],
   "source": [
    "knn=KNeighborsClassifier()\n",
    "#Fit data to KNN model\n",
    "knn.fit(X_train, y_train)\n",
    "#Predict Outcomes\n",
    "y_predicted=knn.predict(X_test)\n",
    "#Initial metrics\n",
    "print(\"The confusion matrix for the KNN model\")\n",
    "matrix=confusion_matrix(y_test, y_predicted)\n",
    "print(matrix)\n",
    "print(classification_report(y_test, y_predicted))"
   ]
  },
  {
   "cell_type": "code",
   "execution_count": 110,
   "metadata": {},
   "outputs": [
    {
     "data": {
      "text/plain": [
       "<AxesSubplot:>"
      ]
     },
     "execution_count": 110,
     "metadata": {},
     "output_type": "execute_result"
    },
    {
     "data": {
      "image/png": "[encoded data removed]",
      "text/plain": [
       "<Figure size 432x288 with 2 Axes>"
      ]
     },
     "metadata": {
      "needs_background": "light"
     },
     "output_type": "display_data"
    }
   ],
   "source": [
    "#More aesthetically appealing confusion matrix\n",
    "group_names = ['True Neg', 'False Pos', 'False Neg', 'True Pos']\n",
    "group_counts = [\"{0:0.0f}\".format(value) for value in\n",
    " matrix.flatten()]\n",
    "group_percentages = [\"{0:.2%}\".format(value) for value in\n",
    " matrix.flatten()/np.sum(matrix)]\n",
    "labels = [f\"{v1}\\n{v2}\\n{v3}\" for v1, v2, v3 in\n",
    " zip(group_names,group_counts,group_percentages)]\n",
    "labels = np.asarray(labels).reshape(2,2)\n",
    "sns.heatmap(matrix, annot=labels, fmt='', cmap='Blues')"
   ]
  },
  {
   "cell_type": "code",
   "execution_count": 111,
   "metadata": {},
   "outputs": [
    {
     "name": "stdout",
     "output_type": "stream",
     "text": [
      "Accuracy of Initial KNN model: 0.815\n",
      "Sensitivity of Initial KNN model: 0.5924528301886792\n",
      "Specificity of Initial KNN model: 0.8952380952380953\n"
     ]
    }
   ],
   "source": [
    "#Initial Performance Metrics\n",
    "#alternative simpler code to view accuracy: print(knn.score(X_test, y_test))\n",
    "total = matrix[0,0] + matrix[1,0] + matrix[0,1] + matrix[1,1]\n",
    "accuracy=(matrix[0,0]+matrix[1,1])/total\n",
    "print('Accuracy of Initial KNN model: {}'.format(accuracy))\n",
    "sensitivity=matrix[1,1]/(matrix[1,1]+matrix[1,0])\n",
    "print('Sensitivity of Initial KNN model: {}'.format(sensitivity))\n",
    "specificity=matrix[0,0]/(matrix[0,0]+matrix[0,1])\n",
    "print('Specificity of Initial KNN model: {}'.format(specificity))"
   ]
  },
  {
   "cell_type": "code",
   "execution_count": 112,
   "metadata": {},
   "outputs": [
    {
     "data": {
      "image/png": "[encoded data removed]",
      "text/plain": [
       "<Figure size 432x288 with 1 Axes>"
      ]
     },
     "metadata": {
      "needs_background": "light"
     },
     "output_type": "display_data"
    }
   ],
   "source": [
    "y_predicted_probability=knn.predict_proba(X_test)[:,1]\n",
    "false_positive_rate, true_positive_rate, thresholds= roc_curve(y_test, y_predicted_probability)\n",
    "plt.plot([0,1],[0,1], 'k--')\n",
    "plt.plot(false_positive_rate, true_positive_rate, label = 'KNN')\n",
    "plt.xlabel('False Positive Rate')\n",
    "plt.ylabel('True Positive Rate')\n",
    "plt.title('Initial KNN ROC Curve')\n",
    "plt.show()"
   ]
  },
  {
   "cell_type": "code",
   "execution_count": 113,
   "metadata": {},
   "outputs": [
    {
     "name": "stdout",
     "output_type": "stream",
     "text": [
      "The Initial Area Under the Curve (AUC) for the KNN model:\n",
      "0.8479084841483764\n"
     ]
    }
   ],
   "source": [
    "print(\"The Initial Area Under the Curve (AUC) for the KNN model:\")\n",
    "print(roc_auc_score(y_test, y_predicted_probability))"
   ]
  },
  {
   "cell_type": "markdown",
   "metadata": {},
   "source": [
    "**Tuning Hyperparameters**"
   ]
  },
  {
   "cell_type": "code",
   "execution_count": 114,
   "metadata": {},
   "outputs": [
    {
     "name": "stdout",
     "output_type": "stream",
     "text": [
      "Best Parameters: {'n_neighbors': 14}\n",
      "Best Score: 0.82675\n"
     ]
    }
   ],
   "source": [
    "#GridSearchCV for hyperparameter Tuning was already imported (from sklearn.model_selection import GridSearchCV)\n",
    "#Set up parameters grid\n",
    "param_grid = {'n_neighbors': np.arange(1, 50)}\n",
    "knn = KNeighborsClassifier()\n",
    "knn_cv = GridSearchCV(knn , param_grid, cv=5)\n",
    "knn_cv.fit(X_train, y_train)\n",
    "print('Best Parameters: {}'.format(knn_cv.best_params_))\n",
    "print('Best Score: {}'.format(knn_cv.best_score_))"
   ]
  },
  {
   "cell_type": "code",
   "execution_count": 115,
   "metadata": {},
   "outputs": [
    {
     "name": "stdout",
     "output_type": "stream",
     "text": [
      "The confusion matrix for the final KNN model\n",
      "[[1370  100]\n",
      " [ 236  294]]\n",
      "              precision    recall  f1-score   support\n",
      "\n",
      "           0       0.85      0.93      0.89      1470\n",
      "           1       0.75      0.55      0.64       530\n",
      "\n",
      "    accuracy                           0.83      2000\n",
      "   macro avg       0.80      0.74      0.76      2000\n",
      "weighted avg       0.82      0.83      0.82      2000\n",
      "\n"
     ]
    }
   ],
   "source": [
    "knn=KNeighborsClassifier(n_neighbors=14)\n",
    "#Fit data to KNN model\n",
    "knn.fit(X_train, y_train)\n",
    "#Predict Outcomes\n",
    "y_predicted=knn.predict(X_test)\n",
    "#Initial metrics\n",
    "print(\"The confusion matrix for the final KNN model\")\n",
    "matrix=confusion_matrix(y_test, y_predicted)\n",
    "print(matrix)\n",
    "print(classification_report(y_test, y_predicted))"
   ]
  },
  {
   "cell_type": "code",
   "execution_count": 116,
   "metadata": {},
   "outputs": [
    {
     "data": {
      "text/plain": [
       "<AxesSubplot:>"
      ]
     },
     "execution_count": 116,
     "metadata": {},
     "output_type": "execute_result"
    },
    {
     "data": {
      "image/png": "[encoded data removed]",
      "text/plain": [
       "<Figure size 432x288 with 2 Axes>"
      ]
     },
     "metadata": {
      "needs_background": "light"
     },
     "output_type": "display_data"
    }
   ],
   "source": [
    "#More aesthetically appealing confusion matrix\n",
    "group_names = ['True Neg', 'False Pos', 'False Neg', 'True Pos']\n",
    "group_counts = [\"{0:0.0f}\".format(value) for value in\n",
    " matrix.flatten()]\n",
    "group_percentages = [\"{0:.2%}\".format(value) for value in\n",
    " matrix.flatten()/np.sum(matrix)]\n",
    "labels = [f\"{v1}\\n{v2}\\n{v3}\" for v1, v2, v3 in\n",
    " zip(group_names,group_counts,group_percentages)]\n",
    "labels = np.asarray(labels).reshape(2,2)\n",
    "sns.heatmap(matrix, annot=labels, fmt='', cmap='Blues')"
   ]
  },
  {
   "cell_type": "code",
   "execution_count": 117,
   "metadata": {},
   "outputs": [
    {
     "name": "stdout",
     "output_type": "stream",
     "text": [
      "Accuracy of Final KNN model: 0.832\n",
      "Sensitivity of Final KNN model: 0.5547169811320755\n",
      "Specificity of Final KNN model: 0.9319727891156463\n"
     ]
    }
   ],
   "source": [
    "#Final Performance Metrics\n",
    "#alternative simpler code to view accuracy: print(knn.score(X_test, y_test))\n",
    "total = matrix[0,0] + matrix[1,0] + matrix[0,1] + matrix[1,1]\n",
    "accuracy=(matrix[0,0]+matrix[1,1])/total\n",
    "print('Accuracy of Final KNN model: {}'.format(accuracy))\n",
    "sensitivity=matrix[1,1]/(matrix[1,1]+matrix[1,0])\n",
    "print('Sensitivity of Final KNN model: {}'.format(sensitivity))\n",
    "specificity=matrix[0,0]/(matrix[0,0]+matrix[0,1])\n",
    "print('Specificity of Final KNN model: {}'.format(specificity))"
   ]
  },
  {
   "cell_type": "code",
   "execution_count": 118,
   "metadata": {},
   "outputs": [
    {
     "data": {
      "image/png": "[encoded data removed]",
      "text/plain": [
       "<Figure size 432x288 with 1 Axes>"
      ]
     },
     "metadata": {
      "needs_background": "light"
     },
     "output_type": "display_data"
    }
   ],
   "source": [
    "y_predicted_probability=knn.predict_proba(X_test)[:,1]\n",
    "false_positive_rate, true_positive_rate, thresholds= roc_curve(y_test, y_predicted_probability)\n",
    "plt.plot([0,1],[0,1], 'k--')\n",
    "plt.plot(false_positive_rate, true_positive_rate, label = 'KNN')\n",
    "plt.xlabel('False Positive Rate')\n",
    "plt.ylabel('True Positive Rate')\n",
    "plt.title('Final KNN ROC Curve')\n",
    "plt.show()"
   ]
  },
  {
   "cell_type": "code",
   "execution_count": 119,
   "metadata": {},
   "outputs": [
    {
     "name": "stdout",
     "output_type": "stream",
     "text": [
      "The Final Area Under the Curve (AUC) for the KNN model:\n",
      "0.8795693749197793\n"
     ]
    }
   ],
   "source": [
    "print(\"The Final Area Under the Curve (AUC) for the KNN model:\")\n",
    "print(roc_auc_score(y_test, y_predicted_probability))"
   ]
  },
  {
   "cell_type": "code",
   "execution_count": 120,
   "metadata": {},
   "outputs": [
    {
     "name": "stdout",
     "output_type": "stream",
     "text": [
      "Training Accuracy:  0.84325\n",
      "Testing Accuracy:  0.832\n"
     ]
    }
   ],
   "source": [
    "#Accuracy of Training set\n",
    "print(\"Training Accuracy: \",knn_cv.score(X_train, y_train))\n",
    "#Accuracy of Test set\n",
    "print(\"Testing Accuracy: \",knn_cv.score(X_test, y_test))"
   ]
  },
  {
   "cell_type": "markdown",
   "metadata": {},
   "source": [
    "## Part V: Data Summary and Implications"
   ]
  },
  {
   "cell_type": "markdown",
   "metadata": {},
   "source": [
    "### E1. Accuracy and Area Under the Curve (AUC) of Classification Model"
   ]
  },
  {
   "cell_type": "markdown",
   "metadata": {},
   "source": [
    "As seen and executed in D3 above, the receiver operating characteristics (ROC) curves for both the initial and final k-NN models were generated. The area under the ROC curve (AUC) was analyzed for the model both before and after hyperparamater of n_neighbors was tuned. The AUC of the initial model was approximately 0.848. The AUC of the final model was approximately 0.88. The higher the AUC, the better the  k-NN model is at predicting churn, with an AUC of 1 indicating a perfect classification model (Bruce et al., 2020).  Therefore, after being tuned, the model became better at predicting churn. \n",
    "\n",
    "Looking further at the accuracy scores between the models, the accuracy of the initial k-NN model was 0.815, while the final k-NN model was 0.832. Therefore, accuracy improved. Sensitivity of the respective models adjusted from 0.592 to 0.555.  Specificity increased from 0.895 in the initial model to 0.932 in the final model. "
   ]
  },
  {
   "cell_type": "markdown",
   "metadata": {},
   "source": [
    "### E2. Results and Implications of Classification Analysis"
   ]
  },
  {
   "cell_type": "markdown",
   "metadata": {},
   "source": [
    "Utilizing SciKit Learn's SelectKBest to determine the features from the raw data that should be kept, the following features were kept in the k-NN model creation: Tenure, Bandwidth_GB_Year, MonthlyCharge, StreamingMovies, Contract_Month-to-month, StreamingTV, Contract_Two_Year, Contract_One_year, Multiple, InternetService_DSL, Techie, InternetService_Fiber_Optic, DeviceProtection, OnlineBackup, InternetService_None, PaymentMethod_Electronic_Check, Gender_Male, Gender_Female, Phone.\n",
    "\n",
    "After undergoing hyperparameter tuning of the number of neighbors within the model, the final model had an accuracy of 0.832. In other words, the company can use these customer features and the generated final k-NN model to predict whether a customer will churn with 83.2% accuracy. The model could undergo further tuning of its hyperparameters such as weight and metrics to further tune and improve the model's accuracy. Additionally, given additional labeled data the model could be trained and futher improved. "
   ]
  },
  {
   "cell_type": "markdown",
   "metadata": {},
   "source": [
    "### E3. One Limitation of the Data Analysis"
   ]
  },
  {
   "cell_type": "markdown",
   "metadata": {},
   "source": [
    "One limitation of this data analysis is that the dataset is not very large. The dataset only included information for 10,000 customers. If the dataset were larger, provided more customer variables, or provided more data on customers who ultimately churned, the generated model could possibly be more accurate. "
   ]
  },
  {
   "cell_type": "markdown",
   "metadata": {},
   "source": [
    "### E4. Recommended Course of Action"
   ]
  },
  {
   "cell_type": "markdown",
   "metadata": {},
   "source": [
    "The accuracy of the final k-NN model was 0.832.  This accuracy is after the model was scaled, the features to keep determined, and the optimal number of neighbors determined. While this model can be used by the company to predict customers who are at risk of churn, the stakeholders should pursue a different model or further tune the hyperparameters of this model to improve accuracy in predicting customer churn.  The stakeholders could also fit the model with additional labeled customer data, to improve the model further. \n",
    "As previously mentioned during the data exploration phase, streaming TV and movies could be an area for further data analysis, as it could be a factor in customer churn."
   ]
  },
  {
   "cell_type": "markdown",
   "metadata": {},
   "source": [
    "### Code Sources"
   ]
  },
  {
   "cell_type": "markdown",
   "metadata": {},
   "source": [
    "Datacamp. (n.d). Machine learning with scikit-learn. https://app.datacamp.com/learn/courses/machine-learning-with-scikit-learn"
   ]
  },
  {
   "cell_type": "markdown",
   "metadata": {},
   "source": [
    "### Additional Sources"
   ]
  },
  {
   "cell_type": "markdown",
   "metadata": {},
   "source": [
    "Bruce, P., Bruce, A., & Gedeck, P. (2020). *Practical statistics for data scientists : 50+ essential concepts using r and python.* O'Reilly Media, Incorporated.\n",
    "\n",
    "Larose, C.D., & Larose, D.T. (2019). *Data science using Python and R.* John Wiley & Sons.\n",
    "\n",
    "Vallisneri, M. (2018). *Python statistics essential training.* LinkedIn Learning.\n",
    "https://www.linkedin.com/learning/python-statistics-essential-training/the-structure-of-data?u=2045532"
   ]
  }
 ],
 "metadata": {
  "kernelspec": {
   "display_name": "Python 3",
   "language": "python",
   "name": "python3"
  },
  "language_info": {
   "codemirror_mode": {
    "name": "ipython",
    "version": 3
   },
   "file_extension": ".py",
   "mimetype": "text/x-python",
   "name": "python",
   "nbconvert_exporter": "python",
   "pygments_lexer": "ipython3",
   "version": "3.8.5"
  }
 },
 "nbformat": 4,
 "nbformat_minor": 4
}
